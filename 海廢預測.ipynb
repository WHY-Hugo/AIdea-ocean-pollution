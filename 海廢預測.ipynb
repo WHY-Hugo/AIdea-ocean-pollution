{
 "cells": [
  {
   "cell_type": "code",
   "execution_count": 1,
   "metadata": {
    "id": "xgP6mhd9ZNIE"
   },
   "outputs": [
    {
     "ename": "ModuleNotFoundError",
     "evalue": "No module named 'google.colab'",
     "output_type": "error",
     "traceback": [
      "\u001b[1;31m---------------------------------------------------------------------------\u001b[0m",
      "\u001b[1;31mModuleNotFoundError\u001b[0m                       Traceback (most recent call last)",
      "\u001b[1;32m<ipython-input-1-d5df0069828e>\u001b[0m in \u001b[0;36m<module>\u001b[1;34m\u001b[0m\n\u001b[1;32m----> 1\u001b[1;33m \u001b[1;32mfrom\u001b[0m \u001b[0mgoogle\u001b[0m\u001b[1;33m.\u001b[0m\u001b[0mcolab\u001b[0m \u001b[1;32mimport\u001b[0m \u001b[0mdrive\u001b[0m\u001b[1;33m\u001b[0m\u001b[1;33m\u001b[0m\u001b[0m\n\u001b[0m\u001b[0;32m      2\u001b[0m \u001b[0mdrive\u001b[0m\u001b[1;33m.\u001b[0m\u001b[0mmount\u001b[0m\u001b[1;33m(\u001b[0m\u001b[1;34m'/content/drive'\u001b[0m\u001b[1;33m)\u001b[0m\u001b[1;33m\u001b[0m\u001b[1;33m\u001b[0m\u001b[0m\n",
      "\u001b[1;31mModuleNotFoundError\u001b[0m: No module named 'google.colab'"
     ]
    }
   ],
   "source": [
    "from google.colab import drive\n",
    "drive.mount('/content/drive')"
   ]
  },
  {
   "cell_type": "markdown",
   "metadata": {
    "id": "ElkHq8FCALKn"
   },
   "source": [
    "# 資料分析"
   ]
  },
  {
   "cell_type": "markdown",
   "metadata": {
    "id": "5gvq-k6IiQF_"
   },
   "source": [
    "## pandas\n"
   ]
  },
  {
   "cell_type": "code",
   "execution_count": 1,
   "metadata": {
    "id": "1D1EFTY67qFT"
   },
   "outputs": [],
   "source": [
    "import pandas as pd"
   ]
  },
  {
   "cell_type": "code",
   "execution_count": 2,
   "metadata": {
    "id": "x-6wyhiY846K"
   },
   "outputs": [],
   "source": [
    "train = pd.read_csv('../data/train.csv',encoding='utf-8')\n",
    "test = pd.read_csv('../data/test.csv',encoding='utf-8')"
   ]
  },
  {
   "cell_type": "markdown",
   "metadata": {
    "id": "Mq6TO9gmY5RC"
   },
   "source": [
    "### DataFrame"
   ]
  },
  {
   "cell_type": "code",
   "execution_count": 3,
   "metadata": {},
   "outputs": [
    {
     "name": "stdout",
     "output_type": "stream",
     "text": [
      "319 rows × 35 columns"
     ]
    }
   ],
   "source": [
    "#train.shape\n",
    "setup = ['rows × ', 'columns']\n",
    "count = 0\n",
    "for i in train.shape:\n",
    "    print(f'{i} {setup[count]}', end = '')\n",
    "    count += 1"
   ]
  },
  {
   "cell_type": "code",
   "execution_count": 4,
   "metadata": {
    "id": "gmZD3cOR9Atd"
   },
   "outputs": [
    {
     "data": {
      "text/html": [
       "<div>\n",
       "<style scoped>\n",
       "    .dataframe tbody tr th:only-of-type {\n",
       "        vertical-align: middle;\n",
       "    }\n",
       "\n",
       "    .dataframe tbody tr th {\n",
       "        vertical-align: top;\n",
       "    }\n",
       "\n",
       "    .dataframe thead th {\n",
       "        text-align: right;\n",
       "    }\n",
       "</style>\n",
       "<table border=\"1\" class=\"dataframe\">\n",
       "  <thead>\n",
       "    <tr style=\"text-align: right;\">\n",
       "      <th></th>\n",
       "      <th>Station</th>\n",
       "      <th>Season</th>\n",
       "      <th>County</th>\n",
       "      <th>Location</th>\n",
       "      <th>Lat</th>\n",
       "      <th>Lon</th>\n",
       "      <th>縣市</th>\n",
       "      <th>海岸段</th>\n",
       "      <th>Region</th>\n",
       "      <th>Seat</th>\n",
       "      <th>...</th>\n",
       "      <th>Foam material</th>\n",
       "      <th>Float</th>\n",
       "      <th>Fishing nets and ropes</th>\n",
       "      <th>Fishing equipment</th>\n",
       "      <th>Cigarette and lighter</th>\n",
       "      <th>Glass jar</th>\n",
       "      <th>Metal</th>\n",
       "      <th>Paper</th>\n",
       "      <th>Others</th>\n",
       "      <th>LEVEL</th>\n",
       "    </tr>\n",
       "  </thead>\n",
       "  <tbody>\n",
       "    <tr>\n",
       "      <th>0</th>\n",
       "      <td>E02</td>\n",
       "      <td>1</td>\n",
       "      <td>宜蘭縣</td>\n",
       "      <td>大溪</td>\n",
       "      <td>24.92528</td>\n",
       "      <td>121.88569</td>\n",
       "      <td>16</td>\n",
       "      <td>5</td>\n",
       "      <td>1</td>\n",
       "      <td>4</td>\n",
       "      <td>...</td>\n",
       "      <td>0</td>\n",
       "      <td>0</td>\n",
       "      <td>0</td>\n",
       "      <td>1</td>\n",
       "      <td>0</td>\n",
       "      <td>0</td>\n",
       "      <td>0</td>\n",
       "      <td>0</td>\n",
       "      <td>0</td>\n",
       "      <td>2</td>\n",
       "    </tr>\n",
       "    <tr>\n",
       "      <th>1</th>\n",
       "      <td>E02</td>\n",
       "      <td>2</td>\n",
       "      <td>宜蘭縣</td>\n",
       "      <td>大溪</td>\n",
       "      <td>24.92528</td>\n",
       "      <td>121.88569</td>\n",
       "      <td>16</td>\n",
       "      <td>5</td>\n",
       "      <td>1</td>\n",
       "      <td>4</td>\n",
       "      <td>...</td>\n",
       "      <td>0</td>\n",
       "      <td>0</td>\n",
       "      <td>1</td>\n",
       "      <td>0</td>\n",
       "      <td>0</td>\n",
       "      <td>0</td>\n",
       "      <td>0</td>\n",
       "      <td>0</td>\n",
       "      <td>0</td>\n",
       "      <td>5</td>\n",
       "    </tr>\n",
       "    <tr>\n",
       "      <th>2</th>\n",
       "      <td>E02</td>\n",
       "      <td>3</td>\n",
       "      <td>宜蘭縣</td>\n",
       "      <td>大溪</td>\n",
       "      <td>24.92528</td>\n",
       "      <td>121.88569</td>\n",
       "      <td>16</td>\n",
       "      <td>5</td>\n",
       "      <td>1</td>\n",
       "      <td>4</td>\n",
       "      <td>...</td>\n",
       "      <td>0</td>\n",
       "      <td>0</td>\n",
       "      <td>0</td>\n",
       "      <td>0</td>\n",
       "      <td>0</td>\n",
       "      <td>1</td>\n",
       "      <td>0</td>\n",
       "      <td>0</td>\n",
       "      <td>0</td>\n",
       "      <td>2</td>\n",
       "    </tr>\n",
       "    <tr>\n",
       "      <th>3</th>\n",
       "      <td>E02</td>\n",
       "      <td>4</td>\n",
       "      <td>宜蘭縣</td>\n",
       "      <td>大溪</td>\n",
       "      <td>24.92528</td>\n",
       "      <td>121.88569</td>\n",
       "      <td>16</td>\n",
       "      <td>5</td>\n",
       "      <td>1</td>\n",
       "      <td>4</td>\n",
       "      <td>...</td>\n",
       "      <td>0</td>\n",
       "      <td>0</td>\n",
       "      <td>0</td>\n",
       "      <td>0</td>\n",
       "      <td>0</td>\n",
       "      <td>0</td>\n",
       "      <td>0</td>\n",
       "      <td>0</td>\n",
       "      <td>0</td>\n",
       "      <td>1</td>\n",
       "    </tr>\n",
       "    <tr>\n",
       "      <th>4</th>\n",
       "      <td>E03</td>\n",
       "      <td>1</td>\n",
       "      <td>宜蘭縣</td>\n",
       "      <td>頭城</td>\n",
       "      <td>24.85730</td>\n",
       "      <td>121.83342</td>\n",
       "      <td>16</td>\n",
       "      <td>5</td>\n",
       "      <td>1</td>\n",
       "      <td>4</td>\n",
       "      <td>...</td>\n",
       "      <td>0</td>\n",
       "      <td>0</td>\n",
       "      <td>0</td>\n",
       "      <td>0</td>\n",
       "      <td>0</td>\n",
       "      <td>0</td>\n",
       "      <td>0</td>\n",
       "      <td>0</td>\n",
       "      <td>0</td>\n",
       "      <td>5</td>\n",
       "    </tr>\n",
       "  </tbody>\n",
       "</table>\n",
       "<p>5 rows × 35 columns</p>\n",
       "</div>"
      ],
      "text/plain": [
       "  Station  Season County Location       Lat        Lon  縣市  海岸段  Region  Seat  \\\n",
       "0     E02       1    宜蘭縣       大溪  24.92528  121.88569  16    5       1     4   \n",
       "1     E02       2    宜蘭縣       大溪  24.92528  121.88569  16    5       1     4   \n",
       "2     E02       3    宜蘭縣       大溪  24.92528  121.88569  16    5       1     4   \n",
       "3     E02       4    宜蘭縣       大溪  24.92528  121.88569  16    5       1     4   \n",
       "4     E03       1    宜蘭縣       頭城  24.85730  121.83342  16    5       1     4   \n",
       "\n",
       "   ...  Foam material  Float  Fishing nets and ropes  Fishing equipment  \\\n",
       "0  ...              0      0                       0                  1   \n",
       "1  ...              0      0                       1                  0   \n",
       "2  ...              0      0                       0                  0   \n",
       "3  ...              0      0                       0                  0   \n",
       "4  ...              0      0                       0                  0   \n",
       "\n",
       "   Cigarette and lighter  Glass jar  Metal  Paper  Others  LEVEL  \n",
       "0                      0          0      0      0       0      2  \n",
       "1                      0          0      0      0       0      5  \n",
       "2                      0          1      0      0       0      2  \n",
       "3                      0          0      0      0       0      1  \n",
       "4                      0          0      0      0       0      5  \n",
       "\n",
       "[5 rows x 35 columns]"
      ]
     },
     "execution_count": 4,
     "metadata": {},
     "output_type": "execute_result"
    }
   ],
   "source": [
    "train.head()"
   ]
  },
  {
   "cell_type": "code",
   "execution_count": 5,
   "metadata": {
    "id": "Aga7HnLCCm_q"
   },
   "outputs": [],
   "source": [
    "from IPython.display import display"
   ]
  },
  {
   "cell_type": "code",
   "execution_count": 6,
   "metadata": {
    "id": "QWmE6f_Gjimt"
   },
   "outputs": [
    {
     "data": {
      "text/html": [
       "<div>\n",
       "<style scoped>\n",
       "    .dataframe tbody tr th:only-of-type {\n",
       "        vertical-align: middle;\n",
       "    }\n",
       "\n",
       "    .dataframe tbody tr th {\n",
       "        vertical-align: top;\n",
       "    }\n",
       "\n",
       "    .dataframe thead th {\n",
       "        text-align: right;\n",
       "    }\n",
       "</style>\n",
       "<table border=\"1\" class=\"dataframe\">\n",
       "  <thead>\n",
       "    <tr style=\"text-align: right;\">\n",
       "      <th></th>\n",
       "      <th>Station</th>\n",
       "      <th>Season</th>\n",
       "      <th>County</th>\n",
       "      <th>Location</th>\n",
       "      <th>Lat</th>\n",
       "      <th>Lon</th>\n",
       "      <th>縣市</th>\n",
       "      <th>海岸段</th>\n",
       "      <th>Region</th>\n",
       "      <th>Seat</th>\n",
       "      <th>...</th>\n",
       "      <th>Foam material</th>\n",
       "      <th>Float</th>\n",
       "      <th>Fishing nets and ropes</th>\n",
       "      <th>Fishing equipment</th>\n",
       "      <th>Cigarette and lighter</th>\n",
       "      <th>Glass jar</th>\n",
       "      <th>Metal</th>\n",
       "      <th>Paper</th>\n",
       "      <th>Others</th>\n",
       "      <th>LEVEL</th>\n",
       "    </tr>\n",
       "  </thead>\n",
       "  <tbody>\n",
       "    <tr>\n",
       "      <th>0</th>\n",
       "      <td>E02</td>\n",
       "      <td>1</td>\n",
       "      <td>宜蘭縣</td>\n",
       "      <td>大溪</td>\n",
       "      <td>24.92528</td>\n",
       "      <td>121.88569</td>\n",
       "      <td>16</td>\n",
       "      <td>5</td>\n",
       "      <td>1</td>\n",
       "      <td>4</td>\n",
       "      <td>...</td>\n",
       "      <td>0</td>\n",
       "      <td>0</td>\n",
       "      <td>0</td>\n",
       "      <td>1</td>\n",
       "      <td>0</td>\n",
       "      <td>0</td>\n",
       "      <td>0</td>\n",
       "      <td>0</td>\n",
       "      <td>0</td>\n",
       "      <td>2</td>\n",
       "    </tr>\n",
       "    <tr>\n",
       "      <th>1</th>\n",
       "      <td>E02</td>\n",
       "      <td>2</td>\n",
       "      <td>宜蘭縣</td>\n",
       "      <td>大溪</td>\n",
       "      <td>24.92528</td>\n",
       "      <td>121.88569</td>\n",
       "      <td>16</td>\n",
       "      <td>5</td>\n",
       "      <td>1</td>\n",
       "      <td>4</td>\n",
       "      <td>...</td>\n",
       "      <td>0</td>\n",
       "      <td>0</td>\n",
       "      <td>1</td>\n",
       "      <td>0</td>\n",
       "      <td>0</td>\n",
       "      <td>0</td>\n",
       "      <td>0</td>\n",
       "      <td>0</td>\n",
       "      <td>0</td>\n",
       "      <td>5</td>\n",
       "    </tr>\n",
       "    <tr>\n",
       "      <th>2</th>\n",
       "      <td>E02</td>\n",
       "      <td>3</td>\n",
       "      <td>宜蘭縣</td>\n",
       "      <td>大溪</td>\n",
       "      <td>24.92528</td>\n",
       "      <td>121.88569</td>\n",
       "      <td>16</td>\n",
       "      <td>5</td>\n",
       "      <td>1</td>\n",
       "      <td>4</td>\n",
       "      <td>...</td>\n",
       "      <td>0</td>\n",
       "      <td>0</td>\n",
       "      <td>0</td>\n",
       "      <td>0</td>\n",
       "      <td>0</td>\n",
       "      <td>1</td>\n",
       "      <td>0</td>\n",
       "      <td>0</td>\n",
       "      <td>0</td>\n",
       "      <td>2</td>\n",
       "    </tr>\n",
       "    <tr>\n",
       "      <th>3</th>\n",
       "      <td>E02</td>\n",
       "      <td>4</td>\n",
       "      <td>宜蘭縣</td>\n",
       "      <td>大溪</td>\n",
       "      <td>24.92528</td>\n",
       "      <td>121.88569</td>\n",
       "      <td>16</td>\n",
       "      <td>5</td>\n",
       "      <td>1</td>\n",
       "      <td>4</td>\n",
       "      <td>...</td>\n",
       "      <td>0</td>\n",
       "      <td>0</td>\n",
       "      <td>0</td>\n",
       "      <td>0</td>\n",
       "      <td>0</td>\n",
       "      <td>0</td>\n",
       "      <td>0</td>\n",
       "      <td>0</td>\n",
       "      <td>0</td>\n",
       "      <td>1</td>\n",
       "    </tr>\n",
       "    <tr>\n",
       "      <th>4</th>\n",
       "      <td>E03</td>\n",
       "      <td>1</td>\n",
       "      <td>宜蘭縣</td>\n",
       "      <td>頭城</td>\n",
       "      <td>24.85730</td>\n",
       "      <td>121.83342</td>\n",
       "      <td>16</td>\n",
       "      <td>5</td>\n",
       "      <td>1</td>\n",
       "      <td>4</td>\n",
       "      <td>...</td>\n",
       "      <td>0</td>\n",
       "      <td>0</td>\n",
       "      <td>0</td>\n",
       "      <td>0</td>\n",
       "      <td>0</td>\n",
       "      <td>0</td>\n",
       "      <td>0</td>\n",
       "      <td>0</td>\n",
       "      <td>0</td>\n",
       "      <td>5</td>\n",
       "    </tr>\n",
       "  </tbody>\n",
       "</table>\n",
       "<p>5 rows × 35 columns</p>\n",
       "</div>"
      ],
      "text/plain": [
       "  Station  Season County Location       Lat        Lon  縣市  海岸段  Region  Seat  \\\n",
       "0     E02       1    宜蘭縣       大溪  24.92528  121.88569  16    5       1     4   \n",
       "1     E02       2    宜蘭縣       大溪  24.92528  121.88569  16    5       1     4   \n",
       "2     E02       3    宜蘭縣       大溪  24.92528  121.88569  16    5       1     4   \n",
       "3     E02       4    宜蘭縣       大溪  24.92528  121.88569  16    5       1     4   \n",
       "4     E03       1    宜蘭縣       頭城  24.85730  121.83342  16    5       1     4   \n",
       "\n",
       "   ...  Foam material  Float  Fishing nets and ropes  Fishing equipment  \\\n",
       "0  ...              0      0                       0                  1   \n",
       "1  ...              0      0                       1                  0   \n",
       "2  ...              0      0                       0                  0   \n",
       "3  ...              0      0                       0                  0   \n",
       "4  ...              0      0                       0                  0   \n",
       "\n",
       "   Cigarette and lighter  Glass jar  Metal  Paper  Others  LEVEL  \n",
       "0                      0          0      0      0       0      2  \n",
       "1                      0          0      0      0       0      5  \n",
       "2                      0          1      0      0       0      2  \n",
       "3                      0          0      0      0       0      1  \n",
       "4                      0          0      0      0       0      5  \n",
       "\n",
       "[5 rows x 35 columns]"
      ]
     },
     "metadata": {},
     "output_type": "display_data"
    },
    {
     "name": "stdout",
     "output_type": "stream",
     "text": [
      "  Station  Season County Location       Lat        Lon  縣市  海岸段  Region  Seat  \\\n",
      "0     E02       1    宜蘭縣       大溪  24.92528  121.88569  16    5       1     4   \n",
      "1     E02       2    宜蘭縣       大溪  24.92528  121.88569  16    5       1     4   \n",
      "2     E02       3    宜蘭縣       大溪  24.92528  121.88569  16    5       1     4   \n",
      "3     E02       4    宜蘭縣       大溪  24.92528  121.88569  16    5       1     4   \n",
      "4     E03       1    宜蘭縣       頭城  24.85730  121.83342  16    5       1     4   \n",
      "\n",
      "   ...  Foam material  Float  Fishing nets and ropes  Fishing equipment  \\\n",
      "0  ...              0      0                       0                  1   \n",
      "1  ...              0      0                       1                  0   \n",
      "2  ...              0      0                       0                  0   \n",
      "3  ...              0      0                       0                  0   \n",
      "4  ...              0      0                       0                  0   \n",
      "\n",
      "   Cigarette and lighter  Glass jar  Metal  Paper  Others  LEVEL  \n",
      "0                      0          0      0      0       0      2  \n",
      "1                      0          0      0      0       0      5  \n",
      "2                      0          1      0      0       0      2  \n",
      "3                      0          0      0      0       0      1  \n",
      "4                      0          0      0      0       0      5  \n",
      "\n",
      "[5 rows x 35 columns]\n"
     ]
    }
   ],
   "source": [
    "train\n",
    "display(train.head())\n",
    "print(train.head())"
   ]
  },
  {
   "cell_type": "markdown",
   "metadata": {
    "id": "7fkgN8XaZfvJ"
   },
   "source": [
    "### 選擇 column"
   ]
  },
  {
   "cell_type": "code",
   "execution_count": 7,
   "metadata": {
    "id": "4bQa9EfLZXh2"
   },
   "outputs": [
    {
     "data": {
      "text/plain": [
       "0       E02\n",
       "1       E02\n",
       "2       E02\n",
       "3       E02\n",
       "4       E03\n",
       "       ... \n",
       "314    TT02\n",
       "315    TT03\n",
       "316    TT03\n",
       "317    TT03\n",
       "318    TT03\n",
       "Name: Station, Length: 319, dtype: object"
      ]
     },
     "metadata": {},
     "output_type": "display_data"
    },
    {
     "data": {
      "text/html": [
       "<div>\n",
       "<style scoped>\n",
       "    .dataframe tbody tr th:only-of-type {\n",
       "        vertical-align: middle;\n",
       "    }\n",
       "\n",
       "    .dataframe tbody tr th {\n",
       "        vertical-align: top;\n",
       "    }\n",
       "\n",
       "    .dataframe thead th {\n",
       "        text-align: right;\n",
       "    }\n",
       "</style>\n",
       "<table border=\"1\" class=\"dataframe\">\n",
       "  <thead>\n",
       "    <tr style=\"text-align: right;\">\n",
       "      <th></th>\n",
       "      <th>Station</th>\n",
       "    </tr>\n",
       "  </thead>\n",
       "  <tbody>\n",
       "    <tr>\n",
       "      <th>0</th>\n",
       "      <td>E02</td>\n",
       "    </tr>\n",
       "    <tr>\n",
       "      <th>1</th>\n",
       "      <td>E02</td>\n",
       "    </tr>\n",
       "    <tr>\n",
       "      <th>2</th>\n",
       "      <td>E02</td>\n",
       "    </tr>\n",
       "    <tr>\n",
       "      <th>3</th>\n",
       "      <td>E02</td>\n",
       "    </tr>\n",
       "    <tr>\n",
       "      <th>4</th>\n",
       "      <td>E03</td>\n",
       "    </tr>\n",
       "    <tr>\n",
       "      <th>...</th>\n",
       "      <td>...</td>\n",
       "    </tr>\n",
       "    <tr>\n",
       "      <th>314</th>\n",
       "      <td>TT02</td>\n",
       "    </tr>\n",
       "    <tr>\n",
       "      <th>315</th>\n",
       "      <td>TT03</td>\n",
       "    </tr>\n",
       "    <tr>\n",
       "      <th>316</th>\n",
       "      <td>TT03</td>\n",
       "    </tr>\n",
       "    <tr>\n",
       "      <th>317</th>\n",
       "      <td>TT03</td>\n",
       "    </tr>\n",
       "    <tr>\n",
       "      <th>318</th>\n",
       "      <td>TT03</td>\n",
       "    </tr>\n",
       "  </tbody>\n",
       "</table>\n",
       "<p>319 rows × 1 columns</p>\n",
       "</div>"
      ],
      "text/plain": [
       "    Station\n",
       "0       E02\n",
       "1       E02\n",
       "2       E02\n",
       "3       E02\n",
       "4       E03\n",
       "..      ...\n",
       "314    TT02\n",
       "315    TT03\n",
       "316    TT03\n",
       "317    TT03\n",
       "318    TT03\n",
       "\n",
       "[319 rows x 1 columns]"
      ]
     },
     "metadata": {},
     "output_type": "display_data"
    }
   ],
   "source": [
    "display(train['Station'])\n",
    "display(train[['Station']])"
   ]
  },
  {
   "cell_type": "markdown",
   "metadata": {
    "id": "2eoMTZ4_zRUQ"
   },
   "source": [
    "### 選擇 row"
   ]
  },
  {
   "cell_type": "code",
   "execution_count": 8,
   "metadata": {
    "id": "Igj66g2zzU8h"
   },
   "outputs": [
    {
     "data": {
      "text/html": [
       "<div>\n",
       "<style scoped>\n",
       "    .dataframe tbody tr th:only-of-type {\n",
       "        vertical-align: middle;\n",
       "    }\n",
       "\n",
       "    .dataframe tbody tr th {\n",
       "        vertical-align: top;\n",
       "    }\n",
       "\n",
       "    .dataframe thead th {\n",
       "        text-align: right;\n",
       "    }\n",
       "</style>\n",
       "<table border=\"1\" class=\"dataframe\">\n",
       "  <thead>\n",
       "    <tr style=\"text-align: right;\">\n",
       "      <th></th>\n",
       "      <th>A</th>\n",
       "      <th>B</th>\n",
       "    </tr>\n",
       "  </thead>\n",
       "  <tbody>\n",
       "    <tr>\n",
       "      <th>a</th>\n",
       "      <td>1</td>\n",
       "      <td>4</td>\n",
       "    </tr>\n",
       "    <tr>\n",
       "      <th>b</th>\n",
       "      <td>2</td>\n",
       "      <td>5</td>\n",
       "    </tr>\n",
       "    <tr>\n",
       "      <th>c</th>\n",
       "      <td>3</td>\n",
       "      <td>6</td>\n",
       "    </tr>\n",
       "  </tbody>\n",
       "</table>\n",
       "</div>"
      ],
      "text/plain": [
       "   A  B\n",
       "a  1  4\n",
       "b  2  5\n",
       "c  3  6"
      ]
     },
     "metadata": {},
     "output_type": "display_data"
    },
    {
     "name": "stdout",
     "output_type": "stream",
     "text": [
      "========== loc[\"b\"] ==========\n"
     ]
    },
    {
     "data": {
      "text/plain": [
       "A    2\n",
       "B    5\n",
       "Name: b, dtype: int64"
      ]
     },
     "metadata": {},
     "output_type": "display_data"
    },
    {
     "name": "stdout",
     "output_type": "stream",
     "text": [
      "========== iloc[1] ==========\n"
     ]
    },
    {
     "data": {
      "text/plain": [
       "A    2\n",
       "B    5\n",
       "Name: b, dtype: int64"
      ]
     },
     "metadata": {},
     "output_type": "display_data"
    }
   ],
   "source": [
    "df = pd.DataFrame({'A': [1,2,3], 'B': [4,5,6]}, index=list('abc'))\n",
    "display(df)\n",
    "print('='*10, 'loc[\"b\"]', '='*10)\n",
    "display(df.loc['b'])\n",
    "print('='*10, 'iloc[1]', '='*10)\n",
    "display(df.iloc[1])"
   ]
  },
  {
   "cell_type": "markdown",
   "metadata": {
    "id": "4huSeRtmTbbS"
   },
   "source": [
    "### 選擇 column & row"
   ]
  },
  {
   "cell_type": "code",
   "execution_count": 9,
   "metadata": {
    "id": "caBljgSlTgV0"
   },
   "outputs": [
    {
     "data": {
      "text/plain": [
       "3"
      ]
     },
     "metadata": {},
     "output_type": "display_data"
    },
    {
     "name": "stdout",
     "output_type": "stream",
     "text": [
      "====================\n"
     ]
    },
    {
     "data": {
      "text/html": [
       "<div>\n",
       "<style scoped>\n",
       "    .dataframe tbody tr th:only-of-type {\n",
       "        vertical-align: middle;\n",
       "    }\n",
       "\n",
       "    .dataframe tbody tr th {\n",
       "        vertical-align: top;\n",
       "    }\n",
       "\n",
       "    .dataframe thead th {\n",
       "        text-align: right;\n",
       "    }\n",
       "</style>\n",
       "<table border=\"1\" class=\"dataframe\">\n",
       "  <thead>\n",
       "    <tr style=\"text-align: right;\">\n",
       "      <th></th>\n",
       "      <th>A</th>\n",
       "      <th>B</th>\n",
       "    </tr>\n",
       "  </thead>\n",
       "  <tbody>\n",
       "    <tr>\n",
       "      <th>b</th>\n",
       "      <td>2</td>\n",
       "      <td>5</td>\n",
       "    </tr>\n",
       "    <tr>\n",
       "      <th>c</th>\n",
       "      <td>3</td>\n",
       "      <td>6</td>\n",
       "    </tr>\n",
       "  </tbody>\n",
       "</table>\n",
       "</div>"
      ],
      "text/plain": [
       "   A  B\n",
       "b  2  5\n",
       "c  3  6"
      ]
     },
     "metadata": {},
     "output_type": "display_data"
    },
    {
     "name": "stdout",
     "output_type": "stream",
     "text": [
      "====================\n"
     ]
    },
    {
     "data": {
      "text/html": [
       "<div>\n",
       "<style scoped>\n",
       "    .dataframe tbody tr th:only-of-type {\n",
       "        vertical-align: middle;\n",
       "    }\n",
       "\n",
       "    .dataframe tbody tr th {\n",
       "        vertical-align: top;\n",
       "    }\n",
       "\n",
       "    .dataframe thead th {\n",
       "        text-align: right;\n",
       "    }\n",
       "</style>\n",
       "<table border=\"1\" class=\"dataframe\">\n",
       "  <thead>\n",
       "    <tr style=\"text-align: right;\">\n",
       "      <th></th>\n",
       "      <th>A</th>\n",
       "      <th>B</th>\n",
       "    </tr>\n",
       "  </thead>\n",
       "  <tbody>\n",
       "    <tr>\n",
       "      <th>a</th>\n",
       "      <td>1</td>\n",
       "      <td>4</td>\n",
       "    </tr>\n",
       "  </tbody>\n",
       "</table>\n",
       "</div>"
      ],
      "text/plain": [
       "   A  B\n",
       "a  1  4"
      ]
     },
     "metadata": {},
     "output_type": "display_data"
    }
   ],
   "source": [
    "display(df.loc['c', 'A'])\n",
    "print('='*20)\n",
    "display(df.loc['b':'c', :])\n",
    "print('='*20)\n",
    "display(df.iloc[0:1, [0, 1]])"
   ]
  },
  {
   "cell_type": "code",
   "execution_count": 10,
   "metadata": {
    "id": "vyVflB_Me3w4"
   },
   "outputs": [
    {
     "name": "stdout",
     "output_type": "stream",
     "text": [
      "Columns\n"
     ]
    },
    {
     "data": {
      "text/plain": [
       "Index(['Station', 'Season', 'County', 'Location', 'Lat', 'Lon', '縣市', '海岸段',\n",
       "       'Region', 'Seat', 'Shore shape', 'Substrate type', '1暴露岩岸', '2暴露人造結構物',\n",
       "       '3暴露岩盤', '4沙灘', '5砂礫混合灘', '6礫石灘', '7開闊潮間帶', '8遮蔽岩岸', '9遮蔽潮間帶', '10遮蔽濕地',\n",
       "       'Plastic bottle container', 'Disposable cup / straw / tableware',\n",
       "       'Plastic bag', 'Foam material', 'Float', 'Fishing nets and ropes',\n",
       "       'Fishing equipment', 'Cigarette and lighter', 'Glass jar', 'Metal',\n",
       "       'Paper', 'Others', 'LEVEL'],\n",
       "      dtype='object')"
      ]
     },
     "metadata": {},
     "output_type": "display_data"
    },
    {
     "name": "stdout",
     "output_type": "stream",
     "text": [
      "\n",
      "LEVEL counts\n"
     ]
    },
    {
     "data": {
      "text/plain": [
       "7     51\n",
       "6     48\n",
       "2     46\n",
       "5     43\n",
       "8     34\n",
       "3     29\n",
       "4     28\n",
       "9     20\n",
       "1     11\n",
       "10     9\n",
       "Name: LEVEL, dtype: int64"
      ]
     },
     "metadata": {},
     "output_type": "display_data"
    }
   ],
   "source": [
    "print('Columns')\n",
    "display(train.columns)\n",
    "print()\n",
    "print(\"LEVEL counts\")\n",
    "display(train[\"LEVEL\"].value_counts())"
   ]
  },
  {
   "cell_type": "code",
   "execution_count": 11,
   "metadata": {
    "id": "yL0lq800AOaE"
   },
   "outputs": [],
   "source": [
    "shore_type = ['1暴露岩岸', '2暴露人造結構物', '3暴露岩盤', '4沙灘', '5砂礫混合灘', '6礫石灘', '7開闊潮間帶', '8遮蔽岩岸', '9遮蔽潮間帶', '10遮蔽濕地']\n",
    "trash_type = ['Plastic bottle container', 'Disposable cup / straw / tableware',\n",
    "       'Plastic bag', 'Foam material', 'Float', 'Fishing nets and ropes',\n",
    "       'Fishing equipment', 'Cigarette and lighter', 'Glass jar', 'Metal',\n",
    "       'Paper', 'Others']"
   ]
  },
  {
   "cell_type": "markdown",
   "metadata": {
    "id": "rMFvf8EC20W1"
   },
   "source": [
    "## Feaure Engineering"
   ]
  },
  {
   "cell_type": "markdown",
   "metadata": {
    "id": "cMRJQWcepTUW"
   },
   "source": [
    "### Groupby"
   ]
  },
  {
   "cell_type": "code",
   "execution_count": 12,
   "metadata": {
    "id": "VE1p0HSMk38g"
   },
   "outputs": [
    {
     "data": {
      "text/html": [
       "<div>\n",
       "<style scoped>\n",
       "    .dataframe tbody tr th:only-of-type {\n",
       "        vertical-align: middle;\n",
       "    }\n",
       "\n",
       "    .dataframe tbody tr th {\n",
       "        vertical-align: top;\n",
       "    }\n",
       "\n",
       "    .dataframe thead th {\n",
       "        text-align: right;\n",
       "    }\n",
       "</style>\n",
       "<table border=\"1\" class=\"dataframe\">\n",
       "  <thead>\n",
       "    <tr style=\"text-align: right;\">\n",
       "      <th></th>\n",
       "      <th>Station</th>\n",
       "      <th>LEVEL</th>\n",
       "    </tr>\n",
       "  </thead>\n",
       "  <tbody>\n",
       "    <tr>\n",
       "      <th>0</th>\n",
       "      <td>E02</td>\n",
       "      <td>2</td>\n",
       "    </tr>\n",
       "    <tr>\n",
       "      <th>1</th>\n",
       "      <td>E02</td>\n",
       "      <td>5</td>\n",
       "    </tr>\n",
       "    <tr>\n",
       "      <th>2</th>\n",
       "      <td>E02</td>\n",
       "      <td>2</td>\n",
       "    </tr>\n",
       "    <tr>\n",
       "      <th>3</th>\n",
       "      <td>E02</td>\n",
       "      <td>1</td>\n",
       "    </tr>\n",
       "    <tr>\n",
       "      <th>4</th>\n",
       "      <td>E03</td>\n",
       "      <td>5</td>\n",
       "    </tr>\n",
       "  </tbody>\n",
       "</table>\n",
       "</div>"
      ],
      "text/plain": [
       "  Station  LEVEL\n",
       "0     E02      2\n",
       "1     E02      5\n",
       "2     E02      2\n",
       "3     E02      1\n",
       "4     E03      5"
      ]
     },
     "execution_count": 12,
     "metadata": {},
     "output_type": "execute_result"
    }
   ],
   "source": [
    "train[['Station', 'LEVEL']].head()"
   ]
  },
  {
   "cell_type": "code",
   "execution_count": 13,
   "metadata": {
    "id": "xBtpbz7FkWYw"
   },
   "outputs": [
    {
     "data": {
      "text/html": [
       "<div>\n",
       "<style scoped>\n",
       "    .dataframe tbody tr th:only-of-type {\n",
       "        vertical-align: middle;\n",
       "    }\n",
       "\n",
       "    .dataframe tbody tr th {\n",
       "        vertical-align: top;\n",
       "    }\n",
       "\n",
       "    .dataframe thead th {\n",
       "        text-align: right;\n",
       "    }\n",
       "</style>\n",
       "<table border=\"1\" class=\"dataframe\">\n",
       "  <thead>\n",
       "    <tr style=\"text-align: right;\">\n",
       "      <th></th>\n",
       "      <th>LEVEL</th>\n",
       "    </tr>\n",
       "    <tr>\n",
       "      <th>Station</th>\n",
       "      <th></th>\n",
       "    </tr>\n",
       "  </thead>\n",
       "  <tbody>\n",
       "    <tr>\n",
       "      <th>E02</th>\n",
       "      <td>2.50</td>\n",
       "    </tr>\n",
       "    <tr>\n",
       "      <th>E03</th>\n",
       "      <td>4.75</td>\n",
       "    </tr>\n",
       "    <tr>\n",
       "      <th>E05</th>\n",
       "      <td>5.50</td>\n",
       "    </tr>\n",
       "    <tr>\n",
       "      <th>E06</th>\n",
       "      <td>6.50</td>\n",
       "    </tr>\n",
       "    <tr>\n",
       "      <th>E08</th>\n",
       "      <td>3.50</td>\n",
       "    </tr>\n",
       "  </tbody>\n",
       "</table>\n",
       "</div>"
      ],
      "text/plain": [
       "         LEVEL\n",
       "Station       \n",
       "E02       2.50\n",
       "E03       4.75\n",
       "E05       5.50\n",
       "E06       6.50\n",
       "E08       3.50"
      ]
     },
     "execution_count": 13,
     "metadata": {},
     "output_type": "execute_result"
    }
   ],
   "source": [
    "df = train.groupby('Station')[['LEVEL']].mean()\n",
    "df.head()"
   ]
  },
  {
   "cell_type": "markdown",
   "metadata": {
    "id": "u9JaQMQ2UD45"
   },
   "source": [
    "### 填補缺值"
   ]
  },
  {
   "cell_type": "code",
   "execution_count": 14,
   "metadata": {
    "id": "ythgfOzCektO"
   },
   "outputs": [
    {
     "data": {
      "text/plain": [
       "(319, 35)"
      ]
     },
     "metadata": {},
     "output_type": "display_data"
    },
    {
     "data": {
      "text/html": [
       "<div>\n",
       "<style scoped>\n",
       "    .dataframe tbody tr th:only-of-type {\n",
       "        vertical-align: middle;\n",
       "    }\n",
       "\n",
       "    .dataframe tbody tr th {\n",
       "        vertical-align: top;\n",
       "    }\n",
       "\n",
       "    .dataframe thead th {\n",
       "        text-align: right;\n",
       "    }\n",
       "</style>\n",
       "<table border=\"1\" class=\"dataframe\">\n",
       "  <thead>\n",
       "    <tr style=\"text-align: right;\">\n",
       "      <th></th>\n",
       "      <th>Season</th>\n",
       "      <th>Lat</th>\n",
       "      <th>Lon</th>\n",
       "      <th>縣市</th>\n",
       "      <th>海岸段</th>\n",
       "      <th>Region</th>\n",
       "      <th>Seat</th>\n",
       "      <th>Shore shape</th>\n",
       "      <th>Substrate type</th>\n",
       "      <th>1暴露岩岸</th>\n",
       "      <th>...</th>\n",
       "      <th>Foam material</th>\n",
       "      <th>Float</th>\n",
       "      <th>Fishing nets and ropes</th>\n",
       "      <th>Fishing equipment</th>\n",
       "      <th>Cigarette and lighter</th>\n",
       "      <th>Glass jar</th>\n",
       "      <th>Metal</th>\n",
       "      <th>Paper</th>\n",
       "      <th>Others</th>\n",
       "      <th>LEVEL</th>\n",
       "    </tr>\n",
       "  </thead>\n",
       "  <tbody>\n",
       "    <tr>\n",
       "      <th>count</th>\n",
       "      <td>319.000000</td>\n",
       "      <td>319.000000</td>\n",
       "      <td>319.000000</td>\n",
       "      <td>319.000000</td>\n",
       "      <td>319.000000</td>\n",
       "      <td>319.000000</td>\n",
       "      <td>319.000000</td>\n",
       "      <td>319.000000</td>\n",
       "      <td>319.000000</td>\n",
       "      <td>243.000000</td>\n",
       "      <td>...</td>\n",
       "      <td>319.000000</td>\n",
       "      <td>319.000000</td>\n",
       "      <td>319.000000</td>\n",
       "      <td>319.000000</td>\n",
       "      <td>319.000000</td>\n",
       "      <td>319.000000</td>\n",
       "      <td>319.000000</td>\n",
       "      <td>319.000000</td>\n",
       "      <td>319.000000</td>\n",
       "      <td>319.000000</td>\n",
       "    </tr>\n",
       "    <tr>\n",
       "      <th>mean</th>\n",
       "      <td>2.504702</td>\n",
       "      <td>23.682838</td>\n",
       "      <td>120.951790</td>\n",
       "      <td>10.373041</td>\n",
       "      <td>3.416928</td>\n",
       "      <td>3.090909</td>\n",
       "      <td>5.278997</td>\n",
       "      <td>1.648903</td>\n",
       "      <td>4.238245</td>\n",
       "      <td>0.069959</td>\n",
       "      <td>...</td>\n",
       "      <td>0.457680</td>\n",
       "      <td>0.178683</td>\n",
       "      <td>0.401254</td>\n",
       "      <td>0.009404</td>\n",
       "      <td>0.003135</td>\n",
       "      <td>0.103448</td>\n",
       "      <td>0.031348</td>\n",
       "      <td>0.015674</td>\n",
       "      <td>0.141066</td>\n",
       "      <td>5.341693</td>\n",
       "    </tr>\n",
       "    <tr>\n",
       "      <th>std</th>\n",
       "      <td>1.118376</td>\n",
       "      <td>1.028432</td>\n",
       "      <td>0.599659</td>\n",
       "      <td>4.451912</td>\n",
       "      <td>1.448865</td>\n",
       "      <td>1.401216</td>\n",
       "      <td>2.238998</td>\n",
       "      <td>0.573736</td>\n",
       "      <td>1.515012</td>\n",
       "      <td>0.255604</td>\n",
       "      <td>...</td>\n",
       "      <td>0.498989</td>\n",
       "      <td>0.383689</td>\n",
       "      <td>0.490922</td>\n",
       "      <td>0.096671</td>\n",
       "      <td>0.055989</td>\n",
       "      <td>0.305022</td>\n",
       "      <td>0.174530</td>\n",
       "      <td>0.124406</td>\n",
       "      <td>0.348636</td>\n",
       "      <td>2.378993</td>\n",
       "    </tr>\n",
       "    <tr>\n",
       "      <th>min</th>\n",
       "      <td>1.000000</td>\n",
       "      <td>21.906060</td>\n",
       "      <td>120.067750</td>\n",
       "      <td>1.000000</td>\n",
       "      <td>1.000000</td>\n",
       "      <td>1.000000</td>\n",
       "      <td>1.000000</td>\n",
       "      <td>1.000000</td>\n",
       "      <td>1.000000</td>\n",
       "      <td>0.000000</td>\n",
       "      <td>...</td>\n",
       "      <td>0.000000</td>\n",
       "      <td>0.000000</td>\n",
       "      <td>0.000000</td>\n",
       "      <td>0.000000</td>\n",
       "      <td>0.000000</td>\n",
       "      <td>0.000000</td>\n",
       "      <td>0.000000</td>\n",
       "      <td>0.000000</td>\n",
       "      <td>0.000000</td>\n",
       "      <td>1.000000</td>\n",
       "    </tr>\n",
       "    <tr>\n",
       "      <th>25%</th>\n",
       "      <td>2.000000</td>\n",
       "      <td>22.789780</td>\n",
       "      <td>120.374435</td>\n",
       "      <td>7.000000</td>\n",
       "      <td>2.000000</td>\n",
       "      <td>2.000000</td>\n",
       "      <td>3.000000</td>\n",
       "      <td>1.000000</td>\n",
       "      <td>4.000000</td>\n",
       "      <td>0.000000</td>\n",
       "      <td>...</td>\n",
       "      <td>0.000000</td>\n",
       "      <td>0.000000</td>\n",
       "      <td>0.000000</td>\n",
       "      <td>0.000000</td>\n",
       "      <td>0.000000</td>\n",
       "      <td>0.000000</td>\n",
       "      <td>0.000000</td>\n",
       "      <td>0.000000</td>\n",
       "      <td>0.000000</td>\n",
       "      <td>3.000000</td>\n",
       "    </tr>\n",
       "    <tr>\n",
       "      <th>50%</th>\n",
       "      <td>3.000000</td>\n",
       "      <td>23.664130</td>\n",
       "      <td>120.897400</td>\n",
       "      <td>12.000000</td>\n",
       "      <td>4.000000</td>\n",
       "      <td>3.000000</td>\n",
       "      <td>6.000000</td>\n",
       "      <td>2.000000</td>\n",
       "      <td>4.000000</td>\n",
       "      <td>0.000000</td>\n",
       "      <td>...</td>\n",
       "      <td>0.000000</td>\n",
       "      <td>0.000000</td>\n",
       "      <td>0.000000</td>\n",
       "      <td>0.000000</td>\n",
       "      <td>0.000000</td>\n",
       "      <td>0.000000</td>\n",
       "      <td>0.000000</td>\n",
       "      <td>0.000000</td>\n",
       "      <td>0.000000</td>\n",
       "      <td>6.000000</td>\n",
       "    </tr>\n",
       "    <tr>\n",
       "      <th>75%</th>\n",
       "      <td>3.500000</td>\n",
       "      <td>24.612395</td>\n",
       "      <td>121.509305</td>\n",
       "      <td>14.000000</td>\n",
       "      <td>5.000000</td>\n",
       "      <td>4.000000</td>\n",
       "      <td>7.000000</td>\n",
       "      <td>2.000000</td>\n",
       "      <td>5.000000</td>\n",
       "      <td>0.000000</td>\n",
       "      <td>...</td>\n",
       "      <td>1.000000</td>\n",
       "      <td>0.000000</td>\n",
       "      <td>1.000000</td>\n",
       "      <td>0.000000</td>\n",
       "      <td>0.000000</td>\n",
       "      <td>0.000000</td>\n",
       "      <td>0.000000</td>\n",
       "      <td>0.000000</td>\n",
       "      <td>0.000000</td>\n",
       "      <td>7.000000</td>\n",
       "    </tr>\n",
       "    <tr>\n",
       "      <th>max</th>\n",
       "      <td>4.000000</td>\n",
       "      <td>25.292260</td>\n",
       "      <td>121.936620</td>\n",
       "      <td>16.000000</td>\n",
       "      <td>5.000000</td>\n",
       "      <td>5.000000</td>\n",
       "      <td>8.000000</td>\n",
       "      <td>3.000000</td>\n",
       "      <td>8.000000</td>\n",
       "      <td>1.000000</td>\n",
       "      <td>...</td>\n",
       "      <td>1.000000</td>\n",
       "      <td>1.000000</td>\n",
       "      <td>1.000000</td>\n",
       "      <td>1.000000</td>\n",
       "      <td>1.000000</td>\n",
       "      <td>1.000000</td>\n",
       "      <td>1.000000</td>\n",
       "      <td>1.000000</td>\n",
       "      <td>1.000000</td>\n",
       "      <td>10.000000</td>\n",
       "    </tr>\n",
       "  </tbody>\n",
       "</table>\n",
       "<p>8 rows × 32 columns</p>\n",
       "</div>"
      ],
      "text/plain": [
       "           Season         Lat         Lon          縣市         海岸段      Region  \\\n",
       "count  319.000000  319.000000  319.000000  319.000000  319.000000  319.000000   \n",
       "mean     2.504702   23.682838  120.951790   10.373041    3.416928    3.090909   \n",
       "std      1.118376    1.028432    0.599659    4.451912    1.448865    1.401216   \n",
       "min      1.000000   21.906060  120.067750    1.000000    1.000000    1.000000   \n",
       "25%      2.000000   22.789780  120.374435    7.000000    2.000000    2.000000   \n",
       "50%      3.000000   23.664130  120.897400   12.000000    4.000000    3.000000   \n",
       "75%      3.500000   24.612395  121.509305   14.000000    5.000000    4.000000   \n",
       "max      4.000000   25.292260  121.936620   16.000000    5.000000    5.000000   \n",
       "\n",
       "             Seat  Shore shape  Substrate type       1暴露岩岸  ...  \\\n",
       "count  319.000000   319.000000      319.000000  243.000000  ...   \n",
       "mean     5.278997     1.648903        4.238245    0.069959  ...   \n",
       "std      2.238998     0.573736        1.515012    0.255604  ...   \n",
       "min      1.000000     1.000000        1.000000    0.000000  ...   \n",
       "25%      3.000000     1.000000        4.000000    0.000000  ...   \n",
       "50%      6.000000     2.000000        4.000000    0.000000  ...   \n",
       "75%      7.000000     2.000000        5.000000    0.000000  ...   \n",
       "max      8.000000     3.000000        8.000000    1.000000  ...   \n",
       "\n",
       "       Foam material       Float  Fishing nets and ropes  Fishing equipment  \\\n",
       "count     319.000000  319.000000              319.000000         319.000000   \n",
       "mean        0.457680    0.178683                0.401254           0.009404   \n",
       "std         0.498989    0.383689                0.490922           0.096671   \n",
       "min         0.000000    0.000000                0.000000           0.000000   \n",
       "25%         0.000000    0.000000                0.000000           0.000000   \n",
       "50%         0.000000    0.000000                0.000000           0.000000   \n",
       "75%         1.000000    0.000000                1.000000           0.000000   \n",
       "max         1.000000    1.000000                1.000000           1.000000   \n",
       "\n",
       "       Cigarette and lighter   Glass jar       Metal       Paper      Others  \\\n",
       "count             319.000000  319.000000  319.000000  319.000000  319.000000   \n",
       "mean                0.003135    0.103448    0.031348    0.015674    0.141066   \n",
       "std                 0.055989    0.305022    0.174530    0.124406    0.348636   \n",
       "min                 0.000000    0.000000    0.000000    0.000000    0.000000   \n",
       "25%                 0.000000    0.000000    0.000000    0.000000    0.000000   \n",
       "50%                 0.000000    0.000000    0.000000    0.000000    0.000000   \n",
       "75%                 0.000000    0.000000    0.000000    0.000000    0.000000   \n",
       "max                 1.000000    1.000000    1.000000    1.000000    1.000000   \n",
       "\n",
       "            LEVEL  \n",
       "count  319.000000  \n",
       "mean     5.341693  \n",
       "std      2.378993  \n",
       "min      1.000000  \n",
       "25%      3.000000  \n",
       "50%      6.000000  \n",
       "75%      7.000000  \n",
       "max     10.000000  \n",
       "\n",
       "[8 rows x 32 columns]"
      ]
     },
     "execution_count": 14,
     "metadata": {},
     "output_type": "execute_result"
    }
   ],
   "source": [
    "display(train.shape)\n",
    "train.describe()"
   ]
  },
  {
   "cell_type": "code",
   "execution_count": 15,
   "metadata": {
    "id": "-daCMwlavW5e"
   },
   "outputs": [
    {
     "data": {
      "text/html": [
       "<div>\n",
       "<style scoped>\n",
       "    .dataframe tbody tr th:only-of-type {\n",
       "        vertical-align: middle;\n",
       "    }\n",
       "\n",
       "    .dataframe tbody tr th {\n",
       "        vertical-align: top;\n",
       "    }\n",
       "\n",
       "    .dataframe thead th {\n",
       "        text-align: right;\n",
       "    }\n",
       "</style>\n",
       "<table border=\"1\" class=\"dataframe\">\n",
       "  <thead>\n",
       "    <tr style=\"text-align: right;\">\n",
       "      <th></th>\n",
       "      <th>Station</th>\n",
       "      <th>Season</th>\n",
       "      <th>County</th>\n",
       "      <th>Location</th>\n",
       "      <th>Lat</th>\n",
       "      <th>Lon</th>\n",
       "      <th>縣市</th>\n",
       "      <th>海岸段</th>\n",
       "      <th>Region</th>\n",
       "      <th>Seat</th>\n",
       "      <th>...</th>\n",
       "      <th>Foam material</th>\n",
       "      <th>Float</th>\n",
       "      <th>Fishing nets and ropes</th>\n",
       "      <th>Fishing equipment</th>\n",
       "      <th>Cigarette and lighter</th>\n",
       "      <th>Glass jar</th>\n",
       "      <th>Metal</th>\n",
       "      <th>Paper</th>\n",
       "      <th>Others</th>\n",
       "      <th>LEVEL</th>\n",
       "    </tr>\n",
       "  </thead>\n",
       "  <tbody>\n",
       "    <tr>\n",
       "      <th>0</th>\n",
       "      <td>E02</td>\n",
       "      <td>1</td>\n",
       "      <td>宜蘭縣</td>\n",
       "      <td>大溪</td>\n",
       "      <td>24.92528</td>\n",
       "      <td>121.88569</td>\n",
       "      <td>16</td>\n",
       "      <td>5</td>\n",
       "      <td>1</td>\n",
       "      <td>4</td>\n",
       "      <td>...</td>\n",
       "      <td>0</td>\n",
       "      <td>0</td>\n",
       "      <td>0</td>\n",
       "      <td>1</td>\n",
       "      <td>0</td>\n",
       "      <td>0</td>\n",
       "      <td>0</td>\n",
       "      <td>0</td>\n",
       "      <td>0</td>\n",
       "      <td>2</td>\n",
       "    </tr>\n",
       "    <tr>\n",
       "      <th>1</th>\n",
       "      <td>E02</td>\n",
       "      <td>2</td>\n",
       "      <td>宜蘭縣</td>\n",
       "      <td>大溪</td>\n",
       "      <td>24.92528</td>\n",
       "      <td>121.88569</td>\n",
       "      <td>16</td>\n",
       "      <td>5</td>\n",
       "      <td>1</td>\n",
       "      <td>4</td>\n",
       "      <td>...</td>\n",
       "      <td>0</td>\n",
       "      <td>0</td>\n",
       "      <td>1</td>\n",
       "      <td>0</td>\n",
       "      <td>0</td>\n",
       "      <td>0</td>\n",
       "      <td>0</td>\n",
       "      <td>0</td>\n",
       "      <td>0</td>\n",
       "      <td>5</td>\n",
       "    </tr>\n",
       "    <tr>\n",
       "      <th>2</th>\n",
       "      <td>E02</td>\n",
       "      <td>3</td>\n",
       "      <td>宜蘭縣</td>\n",
       "      <td>大溪</td>\n",
       "      <td>24.92528</td>\n",
       "      <td>121.88569</td>\n",
       "      <td>16</td>\n",
       "      <td>5</td>\n",
       "      <td>1</td>\n",
       "      <td>4</td>\n",
       "      <td>...</td>\n",
       "      <td>0</td>\n",
       "      <td>0</td>\n",
       "      <td>0</td>\n",
       "      <td>0</td>\n",
       "      <td>0</td>\n",
       "      <td>1</td>\n",
       "      <td>0</td>\n",
       "      <td>0</td>\n",
       "      <td>0</td>\n",
       "      <td>2</td>\n",
       "    </tr>\n",
       "    <tr>\n",
       "      <th>3</th>\n",
       "      <td>E02</td>\n",
       "      <td>4</td>\n",
       "      <td>宜蘭縣</td>\n",
       "      <td>大溪</td>\n",
       "      <td>24.92528</td>\n",
       "      <td>121.88569</td>\n",
       "      <td>16</td>\n",
       "      <td>5</td>\n",
       "      <td>1</td>\n",
       "      <td>4</td>\n",
       "      <td>...</td>\n",
       "      <td>0</td>\n",
       "      <td>0</td>\n",
       "      <td>0</td>\n",
       "      <td>0</td>\n",
       "      <td>0</td>\n",
       "      <td>0</td>\n",
       "      <td>0</td>\n",
       "      <td>0</td>\n",
       "      <td>0</td>\n",
       "      <td>1</td>\n",
       "    </tr>\n",
       "    <tr>\n",
       "      <th>4</th>\n",
       "      <td>E03</td>\n",
       "      <td>1</td>\n",
       "      <td>宜蘭縣</td>\n",
       "      <td>頭城</td>\n",
       "      <td>24.85730</td>\n",
       "      <td>121.83342</td>\n",
       "      <td>16</td>\n",
       "      <td>5</td>\n",
       "      <td>1</td>\n",
       "      <td>4</td>\n",
       "      <td>...</td>\n",
       "      <td>0</td>\n",
       "      <td>0</td>\n",
       "      <td>0</td>\n",
       "      <td>0</td>\n",
       "      <td>0</td>\n",
       "      <td>0</td>\n",
       "      <td>0</td>\n",
       "      <td>0</td>\n",
       "      <td>0</td>\n",
       "      <td>5</td>\n",
       "    </tr>\n",
       "  </tbody>\n",
       "</table>\n",
       "<p>5 rows × 35 columns</p>\n",
       "</div>"
      ],
      "text/plain": [
       "  Station  Season County Location       Lat        Lon  縣市  海岸段  Region  Seat  \\\n",
       "0     E02       1    宜蘭縣       大溪  24.92528  121.88569  16    5       1     4   \n",
       "1     E02       2    宜蘭縣       大溪  24.92528  121.88569  16    5       1     4   \n",
       "2     E02       3    宜蘭縣       大溪  24.92528  121.88569  16    5       1     4   \n",
       "3     E02       4    宜蘭縣       大溪  24.92528  121.88569  16    5       1     4   \n",
       "4     E03       1    宜蘭縣       頭城  24.85730  121.83342  16    5       1     4   \n",
       "\n",
       "   ...  Foam material  Float  Fishing nets and ropes  Fishing equipment  \\\n",
       "0  ...              0      0                       0                  1   \n",
       "1  ...              0      0                       1                  0   \n",
       "2  ...              0      0                       0                  0   \n",
       "3  ...              0      0                       0                  0   \n",
       "4  ...              0      0                       0                  0   \n",
       "\n",
       "   Cigarette and lighter  Glass jar  Metal  Paper  Others  LEVEL  \n",
       "0                      0          0      0      0       0      2  \n",
       "1                      0          0      0      0       0      5  \n",
       "2                      0          1      0      0       0      2  \n",
       "3                      0          0      0      0       0      1  \n",
       "4                      0          0      0      0       0      5  \n",
       "\n",
       "[5 rows x 35 columns]"
      ]
     },
     "execution_count": 15,
     "metadata": {},
     "output_type": "execute_result"
    }
   ],
   "source": [
    "train.head()"
   ]
  },
  {
   "cell_type": "markdown",
   "metadata": {
    "id": "nBoCWBb5dNbH"
   },
   "source": [
    "#### 用 0 補缺值"
   ]
  },
  {
   "cell_type": "code",
   "execution_count": 16,
   "metadata": {
    "id": "-r_JpFFH2zPH"
   },
   "outputs": [
    {
     "data": {
      "text/html": [
       "<div>\n",
       "<style scoped>\n",
       "    .dataframe tbody tr th:only-of-type {\n",
       "        vertical-align: middle;\n",
       "    }\n",
       "\n",
       "    .dataframe tbody tr th {\n",
       "        vertical-align: top;\n",
       "    }\n",
       "\n",
       "    .dataframe thead th {\n",
       "        text-align: right;\n",
       "    }\n",
       "</style>\n",
       "<table border=\"1\" class=\"dataframe\">\n",
       "  <thead>\n",
       "    <tr style=\"text-align: right;\">\n",
       "      <th></th>\n",
       "      <th>Station</th>\n",
       "      <th>Season</th>\n",
       "      <th>County</th>\n",
       "      <th>Location</th>\n",
       "      <th>Lat</th>\n",
       "      <th>Lon</th>\n",
       "      <th>縣市</th>\n",
       "      <th>海岸段</th>\n",
       "      <th>Region</th>\n",
       "      <th>Seat</th>\n",
       "      <th>...</th>\n",
       "      <th>Foam material</th>\n",
       "      <th>Float</th>\n",
       "      <th>Fishing nets and ropes</th>\n",
       "      <th>Fishing equipment</th>\n",
       "      <th>Cigarette and lighter</th>\n",
       "      <th>Glass jar</th>\n",
       "      <th>Metal</th>\n",
       "      <th>Paper</th>\n",
       "      <th>Others</th>\n",
       "      <th>LEVEL</th>\n",
       "    </tr>\n",
       "  </thead>\n",
       "  <tbody>\n",
       "    <tr>\n",
       "      <th>0</th>\n",
       "      <td>E02</td>\n",
       "      <td>1</td>\n",
       "      <td>宜蘭縣</td>\n",
       "      <td>大溪</td>\n",
       "      <td>24.92528</td>\n",
       "      <td>121.88569</td>\n",
       "      <td>16</td>\n",
       "      <td>5</td>\n",
       "      <td>1</td>\n",
       "      <td>4</td>\n",
       "      <td>...</td>\n",
       "      <td>0</td>\n",
       "      <td>0</td>\n",
       "      <td>0</td>\n",
       "      <td>1</td>\n",
       "      <td>0</td>\n",
       "      <td>0</td>\n",
       "      <td>0</td>\n",
       "      <td>0</td>\n",
       "      <td>0</td>\n",
       "      <td>2</td>\n",
       "    </tr>\n",
       "    <tr>\n",
       "      <th>1</th>\n",
       "      <td>E02</td>\n",
       "      <td>2</td>\n",
       "      <td>宜蘭縣</td>\n",
       "      <td>大溪</td>\n",
       "      <td>24.92528</td>\n",
       "      <td>121.88569</td>\n",
       "      <td>16</td>\n",
       "      <td>5</td>\n",
       "      <td>1</td>\n",
       "      <td>4</td>\n",
       "      <td>...</td>\n",
       "      <td>0</td>\n",
       "      <td>0</td>\n",
       "      <td>1</td>\n",
       "      <td>0</td>\n",
       "      <td>0</td>\n",
       "      <td>0</td>\n",
       "      <td>0</td>\n",
       "      <td>0</td>\n",
       "      <td>0</td>\n",
       "      <td>5</td>\n",
       "    </tr>\n",
       "    <tr>\n",
       "      <th>2</th>\n",
       "      <td>E02</td>\n",
       "      <td>3</td>\n",
       "      <td>宜蘭縣</td>\n",
       "      <td>大溪</td>\n",
       "      <td>24.92528</td>\n",
       "      <td>121.88569</td>\n",
       "      <td>16</td>\n",
       "      <td>5</td>\n",
       "      <td>1</td>\n",
       "      <td>4</td>\n",
       "      <td>...</td>\n",
       "      <td>0</td>\n",
       "      <td>0</td>\n",
       "      <td>0</td>\n",
       "      <td>0</td>\n",
       "      <td>0</td>\n",
       "      <td>1</td>\n",
       "      <td>0</td>\n",
       "      <td>0</td>\n",
       "      <td>0</td>\n",
       "      <td>2</td>\n",
       "    </tr>\n",
       "    <tr>\n",
       "      <th>3</th>\n",
       "      <td>E02</td>\n",
       "      <td>4</td>\n",
       "      <td>宜蘭縣</td>\n",
       "      <td>大溪</td>\n",
       "      <td>24.92528</td>\n",
       "      <td>121.88569</td>\n",
       "      <td>16</td>\n",
       "      <td>5</td>\n",
       "      <td>1</td>\n",
       "      <td>4</td>\n",
       "      <td>...</td>\n",
       "      <td>0</td>\n",
       "      <td>0</td>\n",
       "      <td>0</td>\n",
       "      <td>0</td>\n",
       "      <td>0</td>\n",
       "      <td>0</td>\n",
       "      <td>0</td>\n",
       "      <td>0</td>\n",
       "      <td>0</td>\n",
       "      <td>1</td>\n",
       "    </tr>\n",
       "    <tr>\n",
       "      <th>4</th>\n",
       "      <td>E03</td>\n",
       "      <td>1</td>\n",
       "      <td>宜蘭縣</td>\n",
       "      <td>頭城</td>\n",
       "      <td>24.85730</td>\n",
       "      <td>121.83342</td>\n",
       "      <td>16</td>\n",
       "      <td>5</td>\n",
       "      <td>1</td>\n",
       "      <td>4</td>\n",
       "      <td>...</td>\n",
       "      <td>0</td>\n",
       "      <td>0</td>\n",
       "      <td>0</td>\n",
       "      <td>0</td>\n",
       "      <td>0</td>\n",
       "      <td>0</td>\n",
       "      <td>0</td>\n",
       "      <td>0</td>\n",
       "      <td>0</td>\n",
       "      <td>5</td>\n",
       "    </tr>\n",
       "    <tr>\n",
       "      <th>...</th>\n",
       "      <td>...</td>\n",
       "      <td>...</td>\n",
       "      <td>...</td>\n",
       "      <td>...</td>\n",
       "      <td>...</td>\n",
       "      <td>...</td>\n",
       "      <td>...</td>\n",
       "      <td>...</td>\n",
       "      <td>...</td>\n",
       "      <td>...</td>\n",
       "      <td>...</td>\n",
       "      <td>...</td>\n",
       "      <td>...</td>\n",
       "      <td>...</td>\n",
       "      <td>...</td>\n",
       "      <td>...</td>\n",
       "      <td>...</td>\n",
       "      <td>...</td>\n",
       "      <td>...</td>\n",
       "      <td>...</td>\n",
       "      <td>...</td>\n",
       "    </tr>\n",
       "    <tr>\n",
       "      <th>314</th>\n",
       "      <td>TT02</td>\n",
       "      <td>4</td>\n",
       "      <td>台東縣長濱鄉中成</td>\n",
       "      <td>長光</td>\n",
       "      <td>23.32287</td>\n",
       "      <td>121.46538</td>\n",
       "      <td>14</td>\n",
       "      <td>5</td>\n",
       "      <td>4</td>\n",
       "      <td>3</td>\n",
       "      <td>...</td>\n",
       "      <td>0</td>\n",
       "      <td>1</td>\n",
       "      <td>0</td>\n",
       "      <td>0</td>\n",
       "      <td>0</td>\n",
       "      <td>0</td>\n",
       "      <td>0</td>\n",
       "      <td>0</td>\n",
       "      <td>0</td>\n",
       "      <td>2</td>\n",
       "    </tr>\n",
       "    <tr>\n",
       "      <th>315</th>\n",
       "      <td>TT03</td>\n",
       "      <td>1</td>\n",
       "      <td>台東縣長濱鄉</td>\n",
       "      <td>白桑安</td>\n",
       "      <td>23.24933</td>\n",
       "      <td>121.41867</td>\n",
       "      <td>14</td>\n",
       "      <td>5</td>\n",
       "      <td>4</td>\n",
       "      <td>4</td>\n",
       "      <td>...</td>\n",
       "      <td>0</td>\n",
       "      <td>0</td>\n",
       "      <td>0</td>\n",
       "      <td>0</td>\n",
       "      <td>0</td>\n",
       "      <td>0</td>\n",
       "      <td>0</td>\n",
       "      <td>0</td>\n",
       "      <td>0</td>\n",
       "      <td>3</td>\n",
       "    </tr>\n",
       "    <tr>\n",
       "      <th>316</th>\n",
       "      <td>TT03</td>\n",
       "      <td>2</td>\n",
       "      <td>台東縣長濱鄉</td>\n",
       "      <td>白桑安/長濱觀景平台</td>\n",
       "      <td>23.24933</td>\n",
       "      <td>121.41867</td>\n",
       "      <td>14</td>\n",
       "      <td>5</td>\n",
       "      <td>4</td>\n",
       "      <td>4</td>\n",
       "      <td>...</td>\n",
       "      <td>0</td>\n",
       "      <td>0</td>\n",
       "      <td>0</td>\n",
       "      <td>0</td>\n",
       "      <td>0</td>\n",
       "      <td>0</td>\n",
       "      <td>0</td>\n",
       "      <td>0</td>\n",
       "      <td>0</td>\n",
       "      <td>2</td>\n",
       "    </tr>\n",
       "    <tr>\n",
       "      <th>317</th>\n",
       "      <td>TT03</td>\n",
       "      <td>3</td>\n",
       "      <td>台東縣長濱鄉</td>\n",
       "      <td>白桑安/長濱觀景平台</td>\n",
       "      <td>23.24933</td>\n",
       "      <td>121.41867</td>\n",
       "      <td>14</td>\n",
       "      <td>5</td>\n",
       "      <td>4</td>\n",
       "      <td>4</td>\n",
       "      <td>...</td>\n",
       "      <td>0</td>\n",
       "      <td>0</td>\n",
       "      <td>1</td>\n",
       "      <td>0</td>\n",
       "      <td>0</td>\n",
       "      <td>0</td>\n",
       "      <td>0</td>\n",
       "      <td>0</td>\n",
       "      <td>0</td>\n",
       "      <td>3</td>\n",
       "    </tr>\n",
       "    <tr>\n",
       "      <th>318</th>\n",
       "      <td>TT03</td>\n",
       "      <td>4</td>\n",
       "      <td>台東縣長濱鄉</td>\n",
       "      <td>寜埔</td>\n",
       "      <td>23.24933</td>\n",
       "      <td>121.41867</td>\n",
       "      <td>14</td>\n",
       "      <td>5</td>\n",
       "      <td>4</td>\n",
       "      <td>4</td>\n",
       "      <td>...</td>\n",
       "      <td>0</td>\n",
       "      <td>0</td>\n",
       "      <td>0</td>\n",
       "      <td>0</td>\n",
       "      <td>0</td>\n",
       "      <td>0</td>\n",
       "      <td>0</td>\n",
       "      <td>0</td>\n",
       "      <td>0</td>\n",
       "      <td>1</td>\n",
       "    </tr>\n",
       "  </tbody>\n",
       "</table>\n",
       "<p>319 rows × 35 columns</p>\n",
       "</div>"
      ],
      "text/plain": [
       "    Station  Season    County    Location       Lat        Lon  縣市  海岸段  \\\n",
       "0       E02       1       宜蘭縣          大溪  24.92528  121.88569  16    5   \n",
       "1       E02       2       宜蘭縣          大溪  24.92528  121.88569  16    5   \n",
       "2       E02       3       宜蘭縣          大溪  24.92528  121.88569  16    5   \n",
       "3       E02       4       宜蘭縣          大溪  24.92528  121.88569  16    5   \n",
       "4       E03       1       宜蘭縣          頭城  24.85730  121.83342  16    5   \n",
       "..      ...     ...       ...         ...       ...        ...  ..  ...   \n",
       "314    TT02       4  台東縣長濱鄉中成          長光  23.32287  121.46538  14    5   \n",
       "315    TT03       1    台東縣長濱鄉         白桑安  23.24933  121.41867  14    5   \n",
       "316    TT03       2    台東縣長濱鄉  白桑安/長濱觀景平台  23.24933  121.41867  14    5   \n",
       "317    TT03       3    台東縣長濱鄉  白桑安/長濱觀景平台  23.24933  121.41867  14    5   \n",
       "318    TT03       4    台東縣長濱鄉          寜埔  23.24933  121.41867  14    5   \n",
       "\n",
       "     Region  Seat  ...  Foam material  Float  Fishing nets and ropes  \\\n",
       "0         1     4  ...              0      0                       0   \n",
       "1         1     4  ...              0      0                       1   \n",
       "2         1     4  ...              0      0                       0   \n",
       "3         1     4  ...              0      0                       0   \n",
       "4         1     4  ...              0      0                       0   \n",
       "..      ...   ...  ...            ...    ...                     ...   \n",
       "314       4     3  ...              0      1                       0   \n",
       "315       4     4  ...              0      0                       0   \n",
       "316       4     4  ...              0      0                       0   \n",
       "317       4     4  ...              0      0                       1   \n",
       "318       4     4  ...              0      0                       0   \n",
       "\n",
       "     Fishing equipment  Cigarette and lighter  Glass jar  Metal  Paper  \\\n",
       "0                    1                      0          0      0      0   \n",
       "1                    0                      0          0      0      0   \n",
       "2                    0                      0          1      0      0   \n",
       "3                    0                      0          0      0      0   \n",
       "4                    0                      0          0      0      0   \n",
       "..                 ...                    ...        ...    ...    ...   \n",
       "314                  0                      0          0      0      0   \n",
       "315                  0                      0          0      0      0   \n",
       "316                  0                      0          0      0      0   \n",
       "317                  0                      0          0      0      0   \n",
       "318                  0                      0          0      0      0   \n",
       "\n",
       "     Others  LEVEL  \n",
       "0         0      2  \n",
       "1         0      5  \n",
       "2         0      2  \n",
       "3         0      1  \n",
       "4         0      5  \n",
       "..      ...    ...  \n",
       "314       0      2  \n",
       "315       0      3  \n",
       "316       0      2  \n",
       "317       0      3  \n",
       "318       0      1  \n",
       "\n",
       "[319 rows x 35 columns]"
      ]
     },
     "execution_count": 16,
     "metadata": {},
     "output_type": "execute_result"
    }
   ],
   "source": [
    "train.fillna(0)\n",
    "# train.fillna(0, inplace=True)\n",
    "# train = train.fillna(0)"
   ]
  },
  {
   "cell_type": "markdown",
   "metadata": {
    "id": "2C2pzDnRc9fL"
   },
   "source": [
    "#### 用相同測站的值補缺值"
   ]
  },
  {
   "cell_type": "code",
   "execution_count": 17,
   "metadata": {
    "id": "HY_8Y192W_89"
   },
   "outputs": [],
   "source": [
    "def fillna_with_max(x):\n",
    "  return x.fillna(x.max())\n",
    "\n",
    "train[shore_type] = train.groupby('Station')[shore_type].transform(fillna_with_max)\n",
    "\n",
    "test[shore_type] = test.groupby('Station')[shore_type].transform(fillna_with_max)"
   ]
  },
  {
   "cell_type": "code",
   "execution_count": 18,
   "metadata": {
    "id": "wKOxupqFasGo"
   },
   "outputs": [
    {
     "data": {
      "text/html": [
       "<div>\n",
       "<style scoped>\n",
       "    .dataframe tbody tr th:only-of-type {\n",
       "        vertical-align: middle;\n",
       "    }\n",
       "\n",
       "    .dataframe tbody tr th {\n",
       "        vertical-align: top;\n",
       "    }\n",
       "\n",
       "    .dataframe thead th {\n",
       "        text-align: right;\n",
       "    }\n",
       "</style>\n",
       "<table border=\"1\" class=\"dataframe\">\n",
       "  <thead>\n",
       "    <tr style=\"text-align: right;\">\n",
       "      <th></th>\n",
       "      <th>Station</th>\n",
       "      <th>Season</th>\n",
       "      <th>County</th>\n",
       "      <th>Location</th>\n",
       "      <th>Lat</th>\n",
       "      <th>Lon</th>\n",
       "      <th>縣市</th>\n",
       "      <th>海岸段</th>\n",
       "      <th>Region</th>\n",
       "      <th>Seat</th>\n",
       "      <th>...</th>\n",
       "      <th>Foam material</th>\n",
       "      <th>Float</th>\n",
       "      <th>Fishing nets and ropes</th>\n",
       "      <th>Fishing equipment</th>\n",
       "      <th>Cigarette and lighter</th>\n",
       "      <th>Glass jar</th>\n",
       "      <th>Metal</th>\n",
       "      <th>Paper</th>\n",
       "      <th>Others</th>\n",
       "      <th>LEVEL</th>\n",
       "    </tr>\n",
       "  </thead>\n",
       "  <tbody>\n",
       "    <tr>\n",
       "      <th>0</th>\n",
       "      <td>E02</td>\n",
       "      <td>1</td>\n",
       "      <td>宜蘭縣</td>\n",
       "      <td>大溪</td>\n",
       "      <td>24.92528</td>\n",
       "      <td>121.88569</td>\n",
       "      <td>16</td>\n",
       "      <td>5</td>\n",
       "      <td>1</td>\n",
       "      <td>4</td>\n",
       "      <td>...</td>\n",
       "      <td>0</td>\n",
       "      <td>0</td>\n",
       "      <td>0</td>\n",
       "      <td>1</td>\n",
       "      <td>0</td>\n",
       "      <td>0</td>\n",
       "      <td>0</td>\n",
       "      <td>0</td>\n",
       "      <td>0</td>\n",
       "      <td>2</td>\n",
       "    </tr>\n",
       "    <tr>\n",
       "      <th>1</th>\n",
       "      <td>E02</td>\n",
       "      <td>2</td>\n",
       "      <td>宜蘭縣</td>\n",
       "      <td>大溪</td>\n",
       "      <td>24.92528</td>\n",
       "      <td>121.88569</td>\n",
       "      <td>16</td>\n",
       "      <td>5</td>\n",
       "      <td>1</td>\n",
       "      <td>4</td>\n",
       "      <td>...</td>\n",
       "      <td>0</td>\n",
       "      <td>0</td>\n",
       "      <td>1</td>\n",
       "      <td>0</td>\n",
       "      <td>0</td>\n",
       "      <td>0</td>\n",
       "      <td>0</td>\n",
       "      <td>0</td>\n",
       "      <td>0</td>\n",
       "      <td>5</td>\n",
       "    </tr>\n",
       "    <tr>\n",
       "      <th>2</th>\n",
       "      <td>E02</td>\n",
       "      <td>3</td>\n",
       "      <td>宜蘭縣</td>\n",
       "      <td>大溪</td>\n",
       "      <td>24.92528</td>\n",
       "      <td>121.88569</td>\n",
       "      <td>16</td>\n",
       "      <td>5</td>\n",
       "      <td>1</td>\n",
       "      <td>4</td>\n",
       "      <td>...</td>\n",
       "      <td>0</td>\n",
       "      <td>0</td>\n",
       "      <td>0</td>\n",
       "      <td>0</td>\n",
       "      <td>0</td>\n",
       "      <td>1</td>\n",
       "      <td>0</td>\n",
       "      <td>0</td>\n",
       "      <td>0</td>\n",
       "      <td>2</td>\n",
       "    </tr>\n",
       "    <tr>\n",
       "      <th>3</th>\n",
       "      <td>E02</td>\n",
       "      <td>4</td>\n",
       "      <td>宜蘭縣</td>\n",
       "      <td>大溪</td>\n",
       "      <td>24.92528</td>\n",
       "      <td>121.88569</td>\n",
       "      <td>16</td>\n",
       "      <td>5</td>\n",
       "      <td>1</td>\n",
       "      <td>4</td>\n",
       "      <td>...</td>\n",
       "      <td>0</td>\n",
       "      <td>0</td>\n",
       "      <td>0</td>\n",
       "      <td>0</td>\n",
       "      <td>0</td>\n",
       "      <td>0</td>\n",
       "      <td>0</td>\n",
       "      <td>0</td>\n",
       "      <td>0</td>\n",
       "      <td>1</td>\n",
       "    </tr>\n",
       "    <tr>\n",
       "      <th>4</th>\n",
       "      <td>E03</td>\n",
       "      <td>1</td>\n",
       "      <td>宜蘭縣</td>\n",
       "      <td>頭城</td>\n",
       "      <td>24.85730</td>\n",
       "      <td>121.83342</td>\n",
       "      <td>16</td>\n",
       "      <td>5</td>\n",
       "      <td>1</td>\n",
       "      <td>4</td>\n",
       "      <td>...</td>\n",
       "      <td>0</td>\n",
       "      <td>0</td>\n",
       "      <td>0</td>\n",
       "      <td>0</td>\n",
       "      <td>0</td>\n",
       "      <td>0</td>\n",
       "      <td>0</td>\n",
       "      <td>0</td>\n",
       "      <td>0</td>\n",
       "      <td>5</td>\n",
       "    </tr>\n",
       "  </tbody>\n",
       "</table>\n",
       "<p>5 rows × 35 columns</p>\n",
       "</div>"
      ],
      "text/plain": [
       "  Station  Season County Location       Lat        Lon  縣市  海岸段  Region  Seat  \\\n",
       "0     E02       1    宜蘭縣       大溪  24.92528  121.88569  16    5       1     4   \n",
       "1     E02       2    宜蘭縣       大溪  24.92528  121.88569  16    5       1     4   \n",
       "2     E02       3    宜蘭縣       大溪  24.92528  121.88569  16    5       1     4   \n",
       "3     E02       4    宜蘭縣       大溪  24.92528  121.88569  16    5       1     4   \n",
       "4     E03       1    宜蘭縣       頭城  24.85730  121.83342  16    5       1     4   \n",
       "\n",
       "   ...  Foam material  Float  Fishing nets and ropes  Fishing equipment  \\\n",
       "0  ...              0      0                       0                  1   \n",
       "1  ...              0      0                       1                  0   \n",
       "2  ...              0      0                       0                  0   \n",
       "3  ...              0      0                       0                  0   \n",
       "4  ...              0      0                       0                  0   \n",
       "\n",
       "   Cigarette and lighter  Glass jar  Metal  Paper  Others  LEVEL  \n",
       "0                      0          0      0      0       0      2  \n",
       "1                      0          0      0      0       0      5  \n",
       "2                      0          1      0      0       0      2  \n",
       "3                      0          0      0      0       0      1  \n",
       "4                      0          0      0      0       0      5  \n",
       "\n",
       "[5 rows x 35 columns]"
      ]
     },
     "execution_count": 18,
     "metadata": {},
     "output_type": "execute_result"
    }
   ],
   "source": [
    "train.head()"
   ]
  },
  {
   "cell_type": "markdown",
   "metadata": {
    "id": "VbV-ZhaQLdyV"
   },
   "source": [
    "### Onehot encoding"
   ]
  },
  {
   "cell_type": "code",
   "execution_count": 19,
   "metadata": {
    "id": "3YRBVOewMzKJ"
   },
   "outputs": [
    {
     "data": {
      "text/html": [
       "<div>\n",
       "<style scoped>\n",
       "    .dataframe tbody tr th:only-of-type {\n",
       "        vertical-align: middle;\n",
       "    }\n",
       "\n",
       "    .dataframe tbody tr th {\n",
       "        vertical-align: top;\n",
       "    }\n",
       "\n",
       "    .dataframe thead th {\n",
       "        text-align: right;\n",
       "    }\n",
       "</style>\n",
       "<table border=\"1\" class=\"dataframe\">\n",
       "  <thead>\n",
       "    <tr style=\"text-align: right;\">\n",
       "      <th></th>\n",
       "      <th>Station</th>\n",
       "      <th>Season</th>\n",
       "      <th>County</th>\n",
       "      <th>Location</th>\n",
       "      <th>Lat</th>\n",
       "      <th>Lon</th>\n",
       "      <th>縣市</th>\n",
       "      <th>海岸段</th>\n",
       "      <th>Region</th>\n",
       "      <th>Seat</th>\n",
       "      <th>...</th>\n",
       "      <th>Fishing equipment</th>\n",
       "      <th>Cigarette and lighter</th>\n",
       "      <th>Glass jar</th>\n",
       "      <th>Metal</th>\n",
       "      <th>Paper</th>\n",
       "      <th>Others</th>\n",
       "      <th>LEVEL</th>\n",
       "      <th>shape_1</th>\n",
       "      <th>shape_2</th>\n",
       "      <th>shape_3</th>\n",
       "    </tr>\n",
       "  </thead>\n",
       "  <tbody>\n",
       "    <tr>\n",
       "      <th>0</th>\n",
       "      <td>E02</td>\n",
       "      <td>1</td>\n",
       "      <td>宜蘭縣</td>\n",
       "      <td>大溪</td>\n",
       "      <td>24.92528</td>\n",
       "      <td>121.88569</td>\n",
       "      <td>16</td>\n",
       "      <td>5</td>\n",
       "      <td>1</td>\n",
       "      <td>4</td>\n",
       "      <td>...</td>\n",
       "      <td>1</td>\n",
       "      <td>0</td>\n",
       "      <td>0</td>\n",
       "      <td>0</td>\n",
       "      <td>0</td>\n",
       "      <td>0</td>\n",
       "      <td>2</td>\n",
       "      <td>0</td>\n",
       "      <td>1</td>\n",
       "      <td>0</td>\n",
       "    </tr>\n",
       "    <tr>\n",
       "      <th>1</th>\n",
       "      <td>E02</td>\n",
       "      <td>2</td>\n",
       "      <td>宜蘭縣</td>\n",
       "      <td>大溪</td>\n",
       "      <td>24.92528</td>\n",
       "      <td>121.88569</td>\n",
       "      <td>16</td>\n",
       "      <td>5</td>\n",
       "      <td>1</td>\n",
       "      <td>4</td>\n",
       "      <td>...</td>\n",
       "      <td>0</td>\n",
       "      <td>0</td>\n",
       "      <td>0</td>\n",
       "      <td>0</td>\n",
       "      <td>0</td>\n",
       "      <td>0</td>\n",
       "      <td>5</td>\n",
       "      <td>0</td>\n",
       "      <td>1</td>\n",
       "      <td>0</td>\n",
       "    </tr>\n",
       "    <tr>\n",
       "      <th>2</th>\n",
       "      <td>E02</td>\n",
       "      <td>3</td>\n",
       "      <td>宜蘭縣</td>\n",
       "      <td>大溪</td>\n",
       "      <td>24.92528</td>\n",
       "      <td>121.88569</td>\n",
       "      <td>16</td>\n",
       "      <td>5</td>\n",
       "      <td>1</td>\n",
       "      <td>4</td>\n",
       "      <td>...</td>\n",
       "      <td>0</td>\n",
       "      <td>0</td>\n",
       "      <td>1</td>\n",
       "      <td>0</td>\n",
       "      <td>0</td>\n",
       "      <td>0</td>\n",
       "      <td>2</td>\n",
       "      <td>0</td>\n",
       "      <td>1</td>\n",
       "      <td>0</td>\n",
       "    </tr>\n",
       "    <tr>\n",
       "      <th>3</th>\n",
       "      <td>E02</td>\n",
       "      <td>4</td>\n",
       "      <td>宜蘭縣</td>\n",
       "      <td>大溪</td>\n",
       "      <td>24.92528</td>\n",
       "      <td>121.88569</td>\n",
       "      <td>16</td>\n",
       "      <td>5</td>\n",
       "      <td>1</td>\n",
       "      <td>4</td>\n",
       "      <td>...</td>\n",
       "      <td>0</td>\n",
       "      <td>0</td>\n",
       "      <td>0</td>\n",
       "      <td>0</td>\n",
       "      <td>0</td>\n",
       "      <td>0</td>\n",
       "      <td>1</td>\n",
       "      <td>0</td>\n",
       "      <td>1</td>\n",
       "      <td>0</td>\n",
       "    </tr>\n",
       "    <tr>\n",
       "      <th>4</th>\n",
       "      <td>E03</td>\n",
       "      <td>1</td>\n",
       "      <td>宜蘭縣</td>\n",
       "      <td>頭城</td>\n",
       "      <td>24.85730</td>\n",
       "      <td>121.83342</td>\n",
       "      <td>16</td>\n",
       "      <td>5</td>\n",
       "      <td>1</td>\n",
       "      <td>4</td>\n",
       "      <td>...</td>\n",
       "      <td>0</td>\n",
       "      <td>0</td>\n",
       "      <td>0</td>\n",
       "      <td>0</td>\n",
       "      <td>0</td>\n",
       "      <td>0</td>\n",
       "      <td>5</td>\n",
       "      <td>1</td>\n",
       "      <td>0</td>\n",
       "      <td>0</td>\n",
       "    </tr>\n",
       "  </tbody>\n",
       "</table>\n",
       "<p>5 rows × 37 columns</p>\n",
       "</div>"
      ],
      "text/plain": [
       "  Station  Season County Location       Lat        Lon  縣市  海岸段  Region  Seat  \\\n",
       "0     E02       1    宜蘭縣       大溪  24.92528  121.88569  16    5       1     4   \n",
       "1     E02       2    宜蘭縣       大溪  24.92528  121.88569  16    5       1     4   \n",
       "2     E02       3    宜蘭縣       大溪  24.92528  121.88569  16    5       1     4   \n",
       "3     E02       4    宜蘭縣       大溪  24.92528  121.88569  16    5       1     4   \n",
       "4     E03       1    宜蘭縣       頭城  24.85730  121.83342  16    5       1     4   \n",
       "\n",
       "   ...  Fishing equipment  Cigarette and lighter  Glass jar  Metal  Paper  \\\n",
       "0  ...                  1                      0          0      0      0   \n",
       "1  ...                  0                      0          0      0      0   \n",
       "2  ...                  0                      0          1      0      0   \n",
       "3  ...                  0                      0          0      0      0   \n",
       "4  ...                  0                      0          0      0      0   \n",
       "\n",
       "   Others  LEVEL  shape_1  shape_2  shape_3  \n",
       "0       0      2        0        1        0  \n",
       "1       0      5        0        1        0  \n",
       "2       0      2        0        1        0  \n",
       "3       0      1        0        1        0  \n",
       "4       0      5        1        0        0  \n",
       "\n",
       "[5 rows x 37 columns]"
      ]
     },
     "metadata": {},
     "output_type": "display_data"
    }
   ],
   "source": [
    "train = pd.get_dummies(train, columns=['Shore shape'], prefix='shape')\n",
    "display(train.head())\n",
    "\n",
    "test = pd.get_dummies(test, columns=['Shore shape'], prefix='shape')"
   ]
  },
  {
   "cell_type": "markdown",
   "metadata": {
    "id": "XWR_M87cisHF"
   },
   "source": [
    "### Standardization \n",
    "統一 scale"
   ]
  },
  {
   "cell_type": "code",
   "execution_count": 20,
   "metadata": {
    "id": "lB6TKXP9izPa"
   },
   "outputs": [],
   "source": [
    "from sklearn import preprocessing"
   ]
  },
  {
   "cell_type": "code",
   "execution_count": 21,
   "metadata": {
    "id": "4ZtE24K5jU0a"
   },
   "outputs": [],
   "source": [
    "scaler = preprocessing.StandardScaler().fit(train[['Lat', 'Lon']])\n",
    "train[['Lat_std', 'Lon_std']] = scaler.transform(train[['Lat', 'Lon']])\n",
    "\n",
    "test[['Lat_std', 'Lon_std']] = scaler.transform(test[['Lat', 'Lon']])"
   ]
  },
  {
   "cell_type": "code",
   "execution_count": 22,
   "metadata": {
    "id": "n5JIPYK8kohS"
   },
   "outputs": [
    {
     "data": {
      "text/html": [
       "<div>\n",
       "<style scoped>\n",
       "    .dataframe tbody tr th:only-of-type {\n",
       "        vertical-align: middle;\n",
       "    }\n",
       "\n",
       "    .dataframe tbody tr th {\n",
       "        vertical-align: top;\n",
       "    }\n",
       "\n",
       "    .dataframe thead th {\n",
       "        text-align: right;\n",
       "    }\n",
       "</style>\n",
       "<table border=\"1\" class=\"dataframe\">\n",
       "  <thead>\n",
       "    <tr style=\"text-align: right;\">\n",
       "      <th></th>\n",
       "      <th>Station</th>\n",
       "      <th>Season</th>\n",
       "      <th>County</th>\n",
       "      <th>Location</th>\n",
       "      <th>Lat</th>\n",
       "      <th>Lon</th>\n",
       "      <th>縣市</th>\n",
       "      <th>海岸段</th>\n",
       "      <th>Region</th>\n",
       "      <th>Seat</th>\n",
       "      <th>...</th>\n",
       "      <th>Glass jar</th>\n",
       "      <th>Metal</th>\n",
       "      <th>Paper</th>\n",
       "      <th>Others</th>\n",
       "      <th>LEVEL</th>\n",
       "      <th>shape_1</th>\n",
       "      <th>shape_2</th>\n",
       "      <th>shape_3</th>\n",
       "      <th>Lat_std</th>\n",
       "      <th>Lon_std</th>\n",
       "    </tr>\n",
       "  </thead>\n",
       "  <tbody>\n",
       "    <tr>\n",
       "      <th>0</th>\n",
       "      <td>E02</td>\n",
       "      <td>1</td>\n",
       "      <td>宜蘭縣</td>\n",
       "      <td>大溪</td>\n",
       "      <td>24.92528</td>\n",
       "      <td>121.88569</td>\n",
       "      <td>16</td>\n",
       "      <td>5</td>\n",
       "      <td>1</td>\n",
       "      <td>4</td>\n",
       "      <td>...</td>\n",
       "      <td>0</td>\n",
       "      <td>0</td>\n",
       "      <td>0</td>\n",
       "      <td>0</td>\n",
       "      <td>2</td>\n",
       "      <td>0</td>\n",
       "      <td>1</td>\n",
       "      <td>0</td>\n",
       "      <td>1.209991</td>\n",
       "      <td>1.559830</td>\n",
       "    </tr>\n",
       "    <tr>\n",
       "      <th>1</th>\n",
       "      <td>E02</td>\n",
       "      <td>2</td>\n",
       "      <td>宜蘭縣</td>\n",
       "      <td>大溪</td>\n",
       "      <td>24.92528</td>\n",
       "      <td>121.88569</td>\n",
       "      <td>16</td>\n",
       "      <td>5</td>\n",
       "      <td>1</td>\n",
       "      <td>4</td>\n",
       "      <td>...</td>\n",
       "      <td>0</td>\n",
       "      <td>0</td>\n",
       "      <td>0</td>\n",
       "      <td>0</td>\n",
       "      <td>5</td>\n",
       "      <td>0</td>\n",
       "      <td>1</td>\n",
       "      <td>0</td>\n",
       "      <td>1.209991</td>\n",
       "      <td>1.559830</td>\n",
       "    </tr>\n",
       "    <tr>\n",
       "      <th>2</th>\n",
       "      <td>E02</td>\n",
       "      <td>3</td>\n",
       "      <td>宜蘭縣</td>\n",
       "      <td>大溪</td>\n",
       "      <td>24.92528</td>\n",
       "      <td>121.88569</td>\n",
       "      <td>16</td>\n",
       "      <td>5</td>\n",
       "      <td>1</td>\n",
       "      <td>4</td>\n",
       "      <td>...</td>\n",
       "      <td>1</td>\n",
       "      <td>0</td>\n",
       "      <td>0</td>\n",
       "      <td>0</td>\n",
       "      <td>2</td>\n",
       "      <td>0</td>\n",
       "      <td>1</td>\n",
       "      <td>0</td>\n",
       "      <td>1.209991</td>\n",
       "      <td>1.559830</td>\n",
       "    </tr>\n",
       "    <tr>\n",
       "      <th>3</th>\n",
       "      <td>E02</td>\n",
       "      <td>4</td>\n",
       "      <td>宜蘭縣</td>\n",
       "      <td>大溪</td>\n",
       "      <td>24.92528</td>\n",
       "      <td>121.88569</td>\n",
       "      <td>16</td>\n",
       "      <td>5</td>\n",
       "      <td>1</td>\n",
       "      <td>4</td>\n",
       "      <td>...</td>\n",
       "      <td>0</td>\n",
       "      <td>0</td>\n",
       "      <td>0</td>\n",
       "      <td>0</td>\n",
       "      <td>1</td>\n",
       "      <td>0</td>\n",
       "      <td>1</td>\n",
       "      <td>0</td>\n",
       "      <td>1.209991</td>\n",
       "      <td>1.559830</td>\n",
       "    </tr>\n",
       "    <tr>\n",
       "      <th>4</th>\n",
       "      <td>E03</td>\n",
       "      <td>1</td>\n",
       "      <td>宜蘭縣</td>\n",
       "      <td>頭城</td>\n",
       "      <td>24.85730</td>\n",
       "      <td>121.83342</td>\n",
       "      <td>16</td>\n",
       "      <td>5</td>\n",
       "      <td>1</td>\n",
       "      <td>4</td>\n",
       "      <td>...</td>\n",
       "      <td>0</td>\n",
       "      <td>0</td>\n",
       "      <td>0</td>\n",
       "      <td>0</td>\n",
       "      <td>5</td>\n",
       "      <td>1</td>\n",
       "      <td>0</td>\n",
       "      <td>0</td>\n",
       "      <td>1.143786</td>\n",
       "      <td>1.472527</td>\n",
       "    </tr>\n",
       "  </tbody>\n",
       "</table>\n",
       "<p>5 rows × 39 columns</p>\n",
       "</div>"
      ],
      "text/plain": [
       "  Station  Season County Location       Lat        Lon  縣市  海岸段  Region  Seat  \\\n",
       "0     E02       1    宜蘭縣       大溪  24.92528  121.88569  16    5       1     4   \n",
       "1     E02       2    宜蘭縣       大溪  24.92528  121.88569  16    5       1     4   \n",
       "2     E02       3    宜蘭縣       大溪  24.92528  121.88569  16    5       1     4   \n",
       "3     E02       4    宜蘭縣       大溪  24.92528  121.88569  16    5       1     4   \n",
       "4     E03       1    宜蘭縣       頭城  24.85730  121.83342  16    5       1     4   \n",
       "\n",
       "   ...  Glass jar  Metal  Paper  Others  LEVEL  shape_1  shape_2  shape_3  \\\n",
       "0  ...          0      0      0       0      2        0        1        0   \n",
       "1  ...          0      0      0       0      5        0        1        0   \n",
       "2  ...          1      0      0       0      2        0        1        0   \n",
       "3  ...          0      0      0       0      1        0        1        0   \n",
       "4  ...          0      0      0       0      5        1        0        0   \n",
       "\n",
       "    Lat_std   Lon_std  \n",
       "0  1.209991  1.559830  \n",
       "1  1.209991  1.559830  \n",
       "2  1.209991  1.559830  \n",
       "3  1.209991  1.559830  \n",
       "4  1.143786  1.472527  \n",
       "\n",
       "[5 rows x 39 columns]"
      ]
     },
     "execution_count": 22,
     "metadata": {},
     "output_type": "execute_result"
    }
   ],
   "source": [
    "train.head()"
   ]
  },
  {
   "cell_type": "markdown",
   "metadata": {
    "id": "REsESDoscalI"
   },
   "source": [
    "## 資料視覺化"
   ]
  },
  {
   "cell_type": "markdown",
   "metadata": {
    "id": "eHCPOGL6vFSA"
   },
   "source": [
    "### 不同測站的平均海廢等級"
   ]
  },
  {
   "cell_type": "code",
   "execution_count": 23,
   "metadata": {
    "id": "S-OFFRgwEUl0"
   },
   "outputs": [
    {
     "data": {
      "text/html": [
       "<div>\n",
       "<style scoped>\n",
       "    .dataframe tbody tr th:only-of-type {\n",
       "        vertical-align: middle;\n",
       "    }\n",
       "\n",
       "    .dataframe tbody tr th {\n",
       "        vertical-align: top;\n",
       "    }\n",
       "\n",
       "    .dataframe thead th {\n",
       "        text-align: right;\n",
       "    }\n",
       "</style>\n",
       "<table border=\"1\" class=\"dataframe\">\n",
       "  <thead>\n",
       "    <tr style=\"text-align: right;\">\n",
       "      <th></th>\n",
       "      <th>LEVEL</th>\n",
       "    </tr>\n",
       "    <tr>\n",
       "      <th>Station</th>\n",
       "      <th></th>\n",
       "    </tr>\n",
       "  </thead>\n",
       "  <tbody>\n",
       "    <tr>\n",
       "      <th>E02</th>\n",
       "      <td>2.50</td>\n",
       "    </tr>\n",
       "    <tr>\n",
       "      <th>E03</th>\n",
       "      <td>4.75</td>\n",
       "    </tr>\n",
       "    <tr>\n",
       "      <th>E05</th>\n",
       "      <td>5.50</td>\n",
       "    </tr>\n",
       "    <tr>\n",
       "      <th>E06</th>\n",
       "      <td>6.50</td>\n",
       "    </tr>\n",
       "    <tr>\n",
       "      <th>E08</th>\n",
       "      <td>3.50</td>\n",
       "    </tr>\n",
       "  </tbody>\n",
       "</table>\n",
       "</div>"
      ],
      "text/plain": [
       "         LEVEL\n",
       "Station       \n",
       "E02       2.50\n",
       "E03       4.75\n",
       "E05       5.50\n",
       "E06       6.50\n",
       "E08       3.50"
      ]
     },
     "execution_count": 23,
     "metadata": {},
     "output_type": "execute_result"
    }
   ],
   "source": [
    "df = train.groupby('Station')[['LEVEL']].mean()\n",
    "df.head()"
   ]
  },
  {
   "cell_type": "code",
   "execution_count": 24,
   "metadata": {
    "id": "fdgLnKIRcgO5"
   },
   "outputs": [
    {
     "data": {
      "text/plain": [
       "<AxesSubplot:xlabel='Station'>"
      ]
     },
     "execution_count": 24,
     "metadata": {},
     "output_type": "execute_result"
    },
    {
     "data": {
      "image/png": "[encoded data removed]",
      "text/plain": [
       "<Figure size 1440x360 with 1 Axes>"
      ]
     },
     "metadata": {
      "needs_background": "light"
     },
     "output_type": "display_data"
    }
   ],
   "source": [
    "df.plot.bar(figsize=(20,5))"
   ]
  },
  {
   "cell_type": "code",
   "execution_count": 25,
   "metadata": {
    "id": "5V-bSl_cUcuD"
   },
   "outputs": [
    {
     "name": "stdout",
     "output_type": "stream",
     "text": [
      "Requirement already satisfied: pandas-bokeh in c:\\users\\user\\.conda\\envs\\tensorflowgpuenv\\lib\\site-packages (0.5.5)\n",
      "Requirement already satisfied: pandas>=0.22.0 in c:\\users\\user\\.conda\\envs\\tensorflowgpuenv\\lib\\site-packages (from pandas-bokeh) (1.2.4)\n",
      "Requirement already satisfied: bokeh>=2.0 in c:\\users\\user\\.conda\\envs\\tensorflowgpuenv\\lib\\site-packages (from pandas-bokeh) (2.3.2)\n",
      "Requirement already satisfied: Jinja2>=2.9 in c:\\users\\user\\.conda\\envs\\tensorflowgpuenv\\lib\\site-packages (from bokeh>=2.0->pandas-bokeh) (2.11.3)\n",
      "Requirement already satisfied: PyYAML>=3.10 in c:\\users\\user\\.conda\\envs\\tensorflowgpuenv\\lib\\site-packages (from bokeh>=2.0->pandas-bokeh) (5.4.1)\n",
      "Requirement already satisfied: typing-extensions>=3.7.4 in c:\\users\\user\\.conda\\envs\\tensorflowgpuenv\\lib\\site-packages (from bokeh>=2.0->pandas-bokeh) (3.7.4.3)\n",
      "Requirement already satisfied: packaging>=16.8 in c:\\users\\user\\.conda\\envs\\tensorflowgpuenv\\lib\\site-packages (from bokeh>=2.0->pandas-bokeh) (20.9)\n",
      "Requirement already satisfied: python-dateutil>=2.1 in c:\\users\\user\\.conda\\envs\\tensorflowgpuenv\\lib\\site-packages (from bokeh>=2.0->pandas-bokeh) (2.8.1)\n",
      "Requirement already satisfied: numpy>=1.11.3 in c:\\users\\user\\appdata\\roaming\\python\\python38\\site-packages (from bokeh>=2.0->pandas-bokeh) (1.19.5)\n",
      "Requirement already satisfied: pillow>=7.1.0 in c:\\users\\user\\.conda\\envs\\tensorflowgpuenv\\lib\\site-packages (from bokeh>=2.0->pandas-bokeh) (8.2.0)\n",
      "Requirement already satisfied: tornado>=5.1 in c:\\users\\user\\.conda\\envs\\tensorflowgpuenv\\lib\\site-packages (from bokeh>=2.0->pandas-bokeh) (6.1)\n",
      "Requirement already satisfied: pytz>=2017.3 in c:\\users\\user\\.conda\\envs\\tensorflowgpuenv\\lib\\site-packages (from pandas>=0.22.0->pandas-bokeh) (2021.1)\n",
      "Requirement already satisfied: MarkupSafe>=0.23 in c:\\users\\user\\.conda\\envs\\tensorflowgpuenv\\lib\\site-packages (from Jinja2>=2.9->bokeh>=2.0->pandas-bokeh) (1.1.1)\n",
      "Requirement already satisfied: pyparsing>=2.0.2 in c:\\users\\user\\.conda\\envs\\tensorflowgpuenv\\lib\\site-packages (from packaging>=16.8->bokeh>=2.0->pandas-bokeh) (2.4.7)\n",
      "Requirement already satisfied: six>=1.5 in c:\\users\\user\\.conda\\envs\\tensorflowgpuenv\\lib\\site-packages (from python-dateutil>=2.1->bokeh>=2.0->pandas-bokeh) (1.15.0)\n"
     ]
    }
   ],
   "source": [
    "!pip install pandas-bokeh"
   ]
  },
  {
   "cell_type": "code",
   "execution_count": 26,
   "metadata": {
    "id": "ISbdBU2Srfdy"
   },
   "outputs": [
    {
     "data": {
      "text/html": [
       "\n",
       "    <div class=\"bk-root\">\n",
       "        <a href=\"https://bokeh.org\" target=\"_blank\" class=\"bk-logo bk-logo-small bk-logo-notebook\"></a>\n",
       "        <span id=\"1002\">Loading BokehJS ...</span>\n",
       "    </div>"
      ]
     },
     "metadata": {},
     "output_type": "display_data"
    },
    {
     "data": {
      "application/javascript": [
       "\n",
       "(function(root) {\n",
       "  function now() {\n",
       "    return new Date();\n",
       "  }\n",
       "\n",
       "  var force = true;\n",
       "\n",
       "  if (typeof root._bokeh_onload_callbacks === \"undefined\" || force === true) {\n",
       "    root._bokeh_onload_callbacks = [];\n",
       "    root._bokeh_is_loading = undefined;\n",
       "  }\n",
       "\n",
       "  var JS_MIME_TYPE = 'application/javascript';\n",
       "  var HTML_MIME_TYPE = 'text/html';\n",
       "  var EXEC_MIME_TYPE = 'application/vnd.bokehjs_exec.v0+json';\n",
       "  var CLASS_NAME = 'output_bokeh rendered_html';\n",
       "\n",
       "  /**\n",
       "   * Render data to the DOM node\n",
       "   */\n",
       "  function render(props, node) {\n",
       "    var script = document.createElement(\"script\");\n",
       "    node.appendChild(script);\n",
       "  }\n",
       "\n",
       "  /**\n",
       "   * Handle when an output is cleared or removed\n",
       "   */\n",
       "  function handleClearOutput(event, handle) {\n",
       "    var cell = handle.cell;\n",
       "\n",
       "    var id = cell.output_area._bokeh_element_id;\n",
       "    var server_id = cell.output_area._bokeh_server_id;\n",
       "    // Clean up Bokeh references\n",
       "    if (id != null && id in Bokeh.index) {\n",
       "      Bokeh.index[id].model.document.clear();\n",
       "      delete Bokeh.index[id];\n",
       "    }\n",
       "\n",
       "    if (server_id !== undefined) {\n",
       "      // Clean up Bokeh references\n",
       "      var cmd = \"from bokeh.io.state import curstate; print(curstate().uuid_to_server['\" + server_id + \"'].get_sessions()[0].document.roots[0]._id)\";\n",
       "      cell.notebook.kernel.execute(cmd, {\n",
       "        iopub: {\n",
       "          output: function(msg) {\n",
       "            var id = msg.content.text.trim();\n",
       "            if (id in Bokeh.index) {\n",
       "              Bokeh.index[id].model.document.clear();\n",
       "              delete Bokeh.index[id];\n",
       "            }\n",
       "          }\n",
       "        }\n",
       "      });\n",
       "      // Destroy server and session\n",
       "      var cmd = \"import bokeh.io.notebook as ion; ion.destroy_server('\" + server_id + \"')\";\n",
       "      cell.notebook.kernel.execute(cmd);\n",
       "    }\n",
       "  }\n",
       "\n",
       "  /**\n",
       "   * Handle when a new output is added\n",
       "   */\n",
       "  function handleAddOutput(event, handle) {\n",
       "    var output_area = handle.output_area;\n",
       "    var output = handle.output;\n",
       "\n",
       "    // limit handleAddOutput to display_data with EXEC_MIME_TYPE content only\n",
       "    if ((output.output_type != \"display_data\") || (!Object.prototype.hasOwnProperty.call(output.data, EXEC_MIME_TYPE))) {\n",
       "      return\n",
       "    }\n",
       "\n",
       "    var toinsert = output_area.element.find(\".\" + CLASS_NAME.split(' ')[0]);\n",
       "\n",
       "    if (output.metadata[EXEC_MIME_TYPE][\"id\"] !== undefined) {\n",
       "      toinsert[toinsert.length - 1].firstChild.textContent = output.data[JS_MIME_TYPE];\n",
       "      // store reference to embed id on output_area\n",
       "      output_area._bokeh_element_id = output.metadata[EXEC_MIME_TYPE][\"id\"];\n",
       "    }\n",
       "    if (output.metadata[EXEC_MIME_TYPE][\"server_id\"] !== undefined) {\n",
       "      var bk_div = document.createElement(\"div\");\n",
       "      bk_div.innerHTML = output.data[HTML_MIME_TYPE];\n",
       "      var script_attrs = bk_div.children[0].attributes;\n",
       "      for (var i = 0; i < script_attrs.length; i++) {\n",
       "        toinsert[toinsert.length - 1].firstChild.setAttribute(script_attrs[i].name, script_attrs[i].value);\n",
       "        toinsert[toinsert.length - 1].firstChild.textContent = bk_div.children[0].textContent\n",
       "      }\n",
       "      // store reference to server id on output_area\n",
       "      output_area._bokeh_server_id = output.metadata[EXEC_MIME_TYPE][\"server_id\"];\n",
       "    }\n",
       "  }\n",
       "\n",
       "  function register_renderer(events, OutputArea) {\n",
       "\n",
       "    function append_mime(data, metadata, element) {\n",
       "      // create a DOM node to render to\n",
       "      var toinsert = this.create_output_subarea(\n",
       "        metadata,\n",
       "        CLASS_NAME,\n",
       "        EXEC_MIME_TYPE\n",
       "      );\n",
       "      this.keyboard_manager.register_events(toinsert);\n",
       "      // Render to node\n",
       "      var props = {data: data, metadata: metadata[EXEC_MIME_TYPE]};\n",
       "      render(props, toinsert[toinsert.length - 1]);\n",
       "      element.append(toinsert);\n",
       "      return toinsert\n",
       "    }\n",
       "\n",
       "    /* Handle when an output is cleared or removed */\n",
       "    events.on('clear_output.CodeCell', handleClearOutput);\n",
       "    events.on('delete.Cell', handleClearOutput);\n",
       "\n",
       "    /* Handle when a new output is added */\n",
       "    events.on('output_added.OutputArea', handleAddOutput);\n",
       "\n",
       "    /**\n",
       "     * Register the mime type and append_mime function with output_area\n",
       "     */\n",
       "    OutputArea.prototype.register_mime_type(EXEC_MIME_TYPE, append_mime, {\n",
       "      /* Is output safe? */\n",
       "      safe: true,\n",
       "      /* Index of renderer in `output_area.display_order` */\n",
       "      index: 0\n",
       "    });\n",
       "  }\n",
       "\n",
       "  // register the mime type if in Jupyter Notebook environment and previously unregistered\n",
       "  if (root.Jupyter !== undefined) {\n",
       "    var events = require('base/js/events');\n",
       "    var OutputArea = require('notebook/js/outputarea').OutputArea;\n",
       "\n",
       "    if (OutputArea.prototype.mime_types().indexOf(EXEC_MIME_TYPE) == -1) {\n",
       "      register_renderer(events, OutputArea);\n",
       "    }\n",
       "  }\n",
       "\n",
       "  \n",
       "  if (typeof (root._bokeh_timeout) === \"undefined\" || force === true) {\n",
       "    root._bokeh_timeout = Date.now() + 5000;\n",
       "    root._bokeh_failed_load = false;\n",
       "  }\n",
       "\n",
       "  var NB_LOAD_WARNING = {'data': {'text/html':\n",
       "     \"<div style='background-color: #fdd'>\\n\"+\n",
       "     \"<p>\\n\"+\n",
       "     \"BokehJS does not appear to have successfully loaded. If loading BokehJS from CDN, this \\n\"+\n",
       "     \"may be due to a slow or bad network connection. Possible fixes:\\n\"+\n",
       "     \"</p>\\n\"+\n",
       "     \"<ul>\\n\"+\n",
       "     \"<li>re-rerun `output_notebook()` to attempt to load from CDN again, or</li>\\n\"+\n",
       "     \"<li>use INLINE resources instead, as so:</li>\\n\"+\n",
       "     \"</ul>\\n\"+\n",
       "     \"<code>\\n\"+\n",
       "     \"from bokeh.resources import INLINE\\n\"+\n",
       "     \"output_notebook(resources=INLINE)\\n\"+\n",
       "     \"</code>\\n\"+\n",
       "     \"</div>\"}};\n",
       "\n",
       "  function display_loaded() {\n",
       "    var el = document.getElementById(\"1002\");\n",
       "    if (el != null) {\n",
       "      el.textContent = \"BokehJS is loading...\";\n",
       "    }\n",
       "    if (root.Bokeh !== undefined) {\n",
       "      if (el != null) {\n",
       "        el.textContent = \"BokehJS \" + root.Bokeh.version + \" successfully loaded.\";\n",
       "      }\n",
       "    } else if (Date.now() < root._bokeh_timeout) {\n",
       "      setTimeout(display_loaded, 100)\n",
       "    }\n",
       "  }\n",
       "\n",
       "\n",
       "  function run_callbacks() {\n",
       "    try {\n",
       "      root._bokeh_onload_callbacks.forEach(function(callback) {\n",
       "        if (callback != null)\n",
       "          callback();\n",
       "      });\n",
       "    } finally {\n",
       "      delete root._bokeh_onload_callbacks\n",
       "    }\n",
       "    console.debug(\"Bokeh: all callbacks have finished\");\n",
       "  }\n",
       "\n",
       "  function load_libs(css_urls, js_urls, callback) {\n",
       "    if (css_urls == null) css_urls = [];\n",
       "    if (js_urls == null) js_urls = [];\n",
       "\n",
       "    root._bokeh_onload_callbacks.push(callback);\n",
       "    if (root._bokeh_is_loading > 0) {\n",
       "      console.debug(\"Bokeh: BokehJS is being loaded, scheduling callback at\", now());\n",
       "      return null;\n",
       "    }\n",
       "    if (js_urls == null || js_urls.length === 0) {\n",
       "      run_callbacks();\n",
       "      return null;\n",
       "    }\n",
       "    console.debug(\"Bokeh: BokehJS not loaded, scheduling load and callback at\", now());\n",
       "    root._bokeh_is_loading = css_urls.length + js_urls.length;\n",
       "\n",
       "    function on_load() {\n",
       "      root._bokeh_is_loading--;\n",
       "      if (root._bokeh_is_loading === 0) {\n",
       "        console.debug(\"Bokeh: all BokehJS libraries/stylesheets loaded\");\n",
       "        run_callbacks()\n",
       "      }\n",
       "    }\n",
       "\n",
       "    function on_error(url) {\n",
       "      console.error(\"failed to load \" + url);\n",
       "    }\n",
       "\n",
       "    for (let i = 0; i < css_urls.length; i++) {\n",
       "      const url = css_urls[i];\n",
       "      const element = document.createElement(\"link\");\n",
       "      element.onload = on_load;\n",
       "      element.onerror = on_error.bind(null, url);\n",
       "      element.rel = \"stylesheet\";\n",
       "      element.type = \"text/css\";\n",
       "      element.href = url;\n",
       "      console.debug(\"Bokeh: injecting link tag for BokehJS stylesheet: \", url);\n",
       "      document.body.appendChild(element);\n",
       "    }\n",
       "\n",
       "    const hashes = {\"https://cdn.bokeh.org/bokeh/release/bokeh-2.3.2.min.js\": \"XypntL49z55iwGVUW4qsEu83zKL3XEcz0MjuGOQ9SlaaQ68X/g+k1FcioZi7oQAc\", \"https://cdn.bokeh.org/bokeh/release/bokeh-tables-2.3.2.min.js\": \"bEsM86IHGDTLCS0Zod8a8WM6Y4+lafAL/eSiyQcuPzinmWNgNO2/olUF0Z2Dkn5i\", \"https://cdn.bokeh.org/bokeh/release/bokeh-widgets-2.3.2.min.js\": \"TX0gSQTdXTTeScqxj6PVQxTiRW8DOoGVwinyi1D3kxv7wuxQ02XkOxv0xwiypcAH\"};\n",
       "\n",
       "    for (let i = 0; i < js_urls.length; i++) {\n",
       "      const url = js_urls[i];\n",
       "      const element = document.createElement('script');\n",
       "      element.onload = on_load;\n",
       "      element.onerror = on_error.bind(null, url);\n",
       "      element.async = false;\n",
       "      element.src = url;\n",
       "      if (url in hashes) {\n",
       "        element.crossOrigin = \"anonymous\";\n",
       "        element.integrity = \"sha384-\" + hashes[url];\n",
       "      }\n",
       "      console.debug(\"Bokeh: injecting script tag for BokehJS library: \", url);\n",
       "      document.head.appendChild(element);\n",
       "    }\n",
       "  };\n",
       "\n",
       "  function inject_raw_css(css) {\n",
       "    const element = document.createElement(\"style\");\n",
       "    element.appendChild(document.createTextNode(css));\n",
       "    document.body.appendChild(element);\n",
       "  }\n",
       "\n",
       "  \n",
       "  var js_urls = [\"https://cdn.bokeh.org/bokeh/release/bokeh-2.3.2.min.js\", \"https://cdn.bokeh.org/bokeh/release/bokeh-widgets-2.3.2.min.js\", \"https://cdn.bokeh.org/bokeh/release/bokeh-tables-2.3.2.min.js\"];\n",
       "  var css_urls = [];\n",
       "  \n",
       "\n",
       "  var inline_js = [\n",
       "    function(Bokeh) {\n",
       "      Bokeh.set_log_level(\"info\");\n",
       "    },\n",
       "    function(Bokeh) {\n",
       "    \n",
       "    \n",
       "    }\n",
       "  ];\n",
       "\n",
       "  function run_inline_js() {\n",
       "    \n",
       "    if (root.Bokeh !== undefined || force === true) {\n",
       "      \n",
       "    for (var i = 0; i < inline_js.length; i++) {\n",
       "      inline_js[i].call(root, root.Bokeh);\n",
       "    }\n",
       "    if (force === true) {\n",
       "        display_loaded();\n",
       "      }} else if (Date.now() < root._bokeh_timeout) {\n",
       "      setTimeout(run_inline_js, 100);\n",
       "    } else if (!root._bokeh_failed_load) {\n",
       "      console.log(\"Bokeh: BokehJS failed to load within specified timeout.\");\n",
       "      root._bokeh_failed_load = true;\n",
       "    } else if (force !== true) {\n",
       "      var cell = $(document.getElementById(\"1002\")).parents('.cell').data().cell;\n",
       "      cell.output_area.append_execute_result(NB_LOAD_WARNING)\n",
       "    }\n",
       "\n",
       "  }\n",
       "\n",
       "  if (root._bokeh_is_loading === 0) {\n",
       "    console.debug(\"Bokeh: BokehJS loaded, going straight to plotting\");\n",
       "    run_inline_js();\n",
       "  } else {\n",
       "    load_libs(css_urls, js_urls, function() {\n",
       "      console.debug(\"Bokeh: BokehJS plotting callback run at\", now());\n",
       "      run_inline_js();\n",
       "    });\n",
       "  }\n",
       "}(window));"
      ],
      "application/vnd.bokehjs_load.v0+json": "\n(function(root) {\n  function now() {\n    return new Date();\n  }\n\n  var force = true;\n\n  if (typeof root._bokeh_onload_callbacks === \"undefined\" || force === true) {\n    root._bokeh_onload_callbacks = [];\n    root._bokeh_is_loading = undefined;\n  }\n\n  \n\n  \n  if (typeof (root._bokeh_timeout) === \"undefined\" || force === true) {\n    root._bokeh_timeout = Date.now() + 5000;\n    root._bokeh_failed_load = false;\n  }\n\n  var NB_LOAD_WARNING = {'data': {'text/html':\n     \"<div style='background-color: #fdd'>\\n\"+\n     \"<p>\\n\"+\n     \"BokehJS does not appear to have successfully loaded. If loading BokehJS from CDN, this \\n\"+\n     \"may be due to a slow or bad network connection. Possible fixes:\\n\"+\n     \"</p>\\n\"+\n     \"<ul>\\n\"+\n     \"<li>re-rerun `output_notebook()` to attempt to load from CDN again, or</li>\\n\"+\n     \"<li>use INLINE resources instead, as so:</li>\\n\"+\n     \"</ul>\\n\"+\n     \"<code>\\n\"+\n     \"from bokeh.resources import INLINE\\n\"+\n     \"output_notebook(resources=INLINE)\\n\"+\n     \"</code>\\n\"+\n     \"</div>\"}};\n\n  function display_loaded() {\n    var el = document.getElementById(\"1002\");\n    if (el != null) {\n      el.textContent = \"BokehJS is loading...\";\n    }\n    if (root.Bokeh !== undefined) {\n      if (el != null) {\n        el.textContent = \"BokehJS \" + root.Bokeh.version + \" successfully loaded.\";\n      }\n    } else if (Date.now() < root._bokeh_timeout) {\n      setTimeout(display_loaded, 100)\n    }\n  }\n\n\n  function run_callbacks() {\n    try {\n      root._bokeh_onload_callbacks.forEach(function(callback) {\n        if (callback != null)\n          callback();\n      });\n    } finally {\n      delete root._bokeh_onload_callbacks\n    }\n    console.debug(\"Bokeh: all callbacks have finished\");\n  }\n\n  function load_libs(css_urls, js_urls, callback) {\n    if (css_urls == null) css_urls = [];\n    if (js_urls == null) js_urls = [];\n\n    root._bokeh_onload_callbacks.push(callback);\n    if (root._bokeh_is_loading > 0) {\n      console.debug(\"Bokeh: BokehJS is being loaded, scheduling callback at\", now());\n      return null;\n    }\n    if (js_urls == null || js_urls.length === 0) {\n      run_callbacks();\n      return null;\n    }\n    console.debug(\"Bokeh: BokehJS not loaded, scheduling load and callback at\", now());\n    root._bokeh_is_loading = css_urls.length + js_urls.length;\n\n    function on_load() {\n      root._bokeh_is_loading--;\n      if (root._bokeh_is_loading === 0) {\n        console.debug(\"Bokeh: all BokehJS libraries/stylesheets loaded\");\n        run_callbacks()\n      }\n    }\n\n    function on_error(url) {\n      console.error(\"failed to load \" + url);\n    }\n\n    for (let i = 0; i < css_urls.length; i++) {\n      const url = css_urls[i];\n      const element = document.createElement(\"link\");\n      element.onload = on_load;\n      element.onerror = on_error.bind(null, url);\n      element.rel = \"stylesheet\";\n      element.type = \"text/css\";\n      element.href = url;\n      console.debug(\"Bokeh: injecting link tag for BokehJS stylesheet: \", url);\n      document.body.appendChild(element);\n    }\n\n    const hashes = {\"https://cdn.bokeh.org/bokeh/release/bokeh-2.3.2.min.js\": \"XypntL49z55iwGVUW4qsEu83zKL3XEcz0MjuGOQ9SlaaQ68X/g+k1FcioZi7oQAc\", \"https://cdn.bokeh.org/bokeh/release/bokeh-tables-2.3.2.min.js\": \"bEsM86IHGDTLCS0Zod8a8WM6Y4+lafAL/eSiyQcuPzinmWNgNO2/olUF0Z2Dkn5i\", \"https://cdn.bokeh.org/bokeh/release/bokeh-widgets-2.3.2.min.js\": \"TX0gSQTdXTTeScqxj6PVQxTiRW8DOoGVwinyi1D3kxv7wuxQ02XkOxv0xwiypcAH\"};\n\n    for (let i = 0; i < js_urls.length; i++) {\n      const url = js_urls[i];\n      const element = document.createElement('script');\n      element.onload = on_load;\n      element.onerror = on_error.bind(null, url);\n      element.async = false;\n      element.src = url;\n      if (url in hashes) {\n        element.crossOrigin = \"anonymous\";\n        element.integrity = \"sha384-\" + hashes[url];\n      }\n      console.debug(\"Bokeh: injecting script tag for BokehJS library: \", url);\n      document.head.appendChild(element);\n    }\n  };\n\n  function inject_raw_css(css) {\n    const element = document.createElement(\"style\");\n    element.appendChild(document.createTextNode(css));\n    document.body.appendChild(element);\n  }\n\n  \n  var js_urls = [\"https://cdn.bokeh.org/bokeh/release/bokeh-2.3.2.min.js\", \"https://cdn.bokeh.org/bokeh/release/bokeh-widgets-2.3.2.min.js\", \"https://cdn.bokeh.org/bokeh/release/bokeh-tables-2.3.2.min.js\"];\n  var css_urls = [];\n  \n\n  var inline_js = [\n    function(Bokeh) {\n      Bokeh.set_log_level(\"info\");\n    },\n    function(Bokeh) {\n    \n    \n    }\n  ];\n\n  function run_inline_js() {\n    \n    if (root.Bokeh !== undefined || force === true) {\n      \n    for (var i = 0; i < inline_js.length; i++) {\n      inline_js[i].call(root, root.Bokeh);\n    }\n    if (force === true) {\n        display_loaded();\n      }} else if (Date.now() < root._bokeh_timeout) {\n      setTimeout(run_inline_js, 100);\n    } else if (!root._bokeh_failed_load) {\n      console.log(\"Bokeh: BokehJS failed to load within specified timeout.\");\n      root._bokeh_failed_load = true;\n    } else if (force !== true) {\n      var cell = $(document.getElementById(\"1002\")).parents('.cell').data().cell;\n      cell.output_area.append_execute_result(NB_LOAD_WARNING)\n    }\n\n  }\n\n  if (root._bokeh_is_loading === 0) {\n    console.debug(\"Bokeh: BokehJS loaded, going straight to plotting\");\n    run_inline_js();\n  } else {\n    load_libs(css_urls, js_urls, function() {\n      console.debug(\"Bokeh: BokehJS plotting callback run at\", now());\n      run_inline_js();\n    });\n  }\n}(window));"
     },
     "metadata": {},
     "output_type": "display_data"
    }
   ],
   "source": [
    "import pandas_bokeh\n",
    "pandas_bokeh.output_notebook()"
   ]
  },
  {
   "cell_type": "code",
   "execution_count": 27,
   "metadata": {
    "id": "gfbLGSmTrxJq"
   },
   "outputs": [
    {
     "data": {
      "text/html": [
       "\n",
       "\n",
       "\n",
       "\n",
       "\n",
       "\n",
       "  <div class=\"bk-root\" id=\"57014030-f385-4ae8-a04e-09699a4bae57\" data-root-id=\"1039\"></div>\n"
      ]
     },
     "metadata": {},
     "output_type": "display_data"
    },
    {
     "data": {
      "application/javascript": [
       "(function(root) {\n",
       "  function embed_document(root) {\n",
       "    \n",
       "  var docs_json = {\"9c5dd51a-7be9-45e3-954f-aff1c0d60d15\":{\"defs\":[],\"roots\":{\"references\":[{\"attributes\":{\"below\":[{\"id\":\"1050\"}],\"center\":[{\"id\":\"1053\"},{\"id\":\"1057\"},{\"id\":\"1089\"}],\"height\":500,\"left\":[{\"id\":\"1054\"}],\"output_backend\":\"webgl\",\"renderers\":[{\"id\":\"1078\"}],\"sizing_mode\":\"fixed\",\"title\":{\"id\":\"1040\"},\"toolbar\":{\"id\":\"1065\"},\"width\":1200,\"x_range\":{\"id\":\"1042\"},\"x_scale\":{\"id\":\"1046\"},\"y_range\":{\"id\":\"1044\"},\"y_scale\":{\"id\":\"1048\"}},\"id\":\"1039\",\"subtype\":\"Figure\",\"type\":\"Plot\"},{\"attributes\":{\"overlay\":{\"id\":\"1064\"}},\"id\":\"1060\",\"type\":\"BoxZoomTool\"},{\"attributes\":{},\"id\":\"1087\",\"type\":\"UnionRenderers\"},{\"attributes\":{},\"id\":\"1061\",\"type\":\"SaveTool\"},{\"attributes\":{},\"id\":\"1062\",\"type\":\"ResetTool\"},{\"attributes\":{},\"id\":\"1088\",\"type\":\"Selection\"},{\"attributes\":{},\"id\":\"1084\",\"type\":\"AllLabels\"},{\"attributes\":{\"click_policy\":\"hide\",\"items\":[{\"id\":\"1090\"}]},\"id\":\"1089\",\"type\":\"Legend\"},{\"attributes\":{},\"id\":\"1085\",\"type\":\"BasicTickFormatter\"},{\"attributes\":{\"fill_color\":{\"value\":\"#1f77b4\"},\"line_color\":{\"value\":\"#1f77b4\"},\"line_width\":{\"value\":2},\"top\":{\"field\":\"LEVEL\"},\"width\":{\"value\":0.7},\"x\":{\"field\":\"__x__values\",\"transform\":{\"id\":\"1074\"}}},\"id\":\"1076\",\"type\":\"VBar\"},{\"attributes\":{\"callback\":null,\"mode\":\"vline\",\"renderers\":[{\"id\":\"1078\"}],\"tooltips\":[[\"Station\",\"@__x__values_original\"],[\"LEVEL\",\"@{LEVEL}\"]]},\"id\":\"1091\",\"type\":\"HoverTool\"},{\"attributes\":{\"fill_alpha\":{\"value\":0.1},\"fill_color\":{\"value\":\"#1f77b4\"},\"line_alpha\":{\"value\":0.1},\"line_color\":{\"value\":\"#1f77b4\"},\"line_width\":{\"value\":2},\"top\":{\"field\":\"LEVEL\"},\"width\":{\"value\":0.7},\"x\":{\"field\":\"__x__values\",\"transform\":{\"id\":\"1074\"}}},\"id\":\"1077\",\"type\":\"VBar\"},{\"attributes\":{\"source\":{\"id\":\"1038\"}},\"id\":\"1079\",\"type\":\"CDSView\"},{\"attributes\":{\"data\":{\"LEVEL\":{\"__ndarray__\":\"AAAAAAAABEAAAAAAAAATQAAAAAAAABZAAAAAAAAAGkAAAAAAAAAMQAAAAAAAABpAAAAAAAAAAEAAAAAAAAAEQAAAAAAAgCBAAAAAAAAAAEAAAAAAAAAaQAAAAAAAABRAAAAAAAAADEAAAAAAAAAKQAAAAAAAABxAAAAAAAAAEkAAAAAAAAAgQAAAAAAAABVAAAAAAAAAGEAAAAAAAAAjQAAAAAAAAAxAAAAAAAAAF0AAAAAAAAAeQAAAAAAAAB9AAAAAAAAAHEAAAAAAAAAUQAAAAAAAABNAAAAAAAAAGEAAAAAAAIAhQAAAAAAAABVAAAAAAAAAHEAAAAAAAAAYQAAAAAAAAAZAAAAAAAAAEkAAAAAAAIAiQAAAAAAAABZAAAAAAACAIEAAAAAAAAATQAAAAAAAAApAAAAAAAAADEAAAAAAAAAgQAAAAAAAABpAAAAAAAAAGkAAAAAAAIAiQAAAAAAAAB1AAAAAAAAAGkAAAAAAAAACQAAAAAAAAApAAAAAAAAABkAAAAAAAAAGQAAAAAAAAPw/AAAAAAAAAEAAAAAAAAAEQAAAAAAAAA5AAAAAAAAAEEAAAAAAAAAfQAAAAAAAACBAAAAAAAAACkAAAAAAAAAbQAAAAAAAAApAAAAAAAAAFEAAAAAAAAAWQAAAAAAAABhAAAAAAAAAFkAAAAAAAAAbQAAAAAAAABdAAAAAAAAADkAAAAAAAAAaQAAAAAAAABBAAAAAAAAAGkAAAAAAAAAIQAAAAAAAAB1AAAAAAAAABkAAAAAAAAAjQAAAAAAAABdAAAAAAAAAG0AAAAAAAAAcQAAAAAAAgCFAAAAAAAAABEAAAAAAAAACQA==\",\"dtype\":\"float64\",\"order\":\"little\",\"shape\":[80]},\"__x__values\":[0,1,2,3,4,5,6,7,8,9,10,11,12,13,14,15,16,17,18,19,20,21,22,23,24,25,26,27,28,29,30,31,32,33,34,35,36,37,38,39,40,41,42,43,44,45,46,47,48,49,50,51,52,53,54,55,56,57,58,59,60,61,62,63,64,65,66,67,68,69,70,71,72,73,74,75,76,77,78,79],\"__x__values_original\":[\"E02\",\"E03\",\"E05\",\"E06\",\"E08\",\"E09\",\"HL02\",\"HL03\",\"HL05\",\"HL06\",\"HL08\",\"HL09\",\"HL11\",\"HL12\",\"M01\",\"M02\",\"M04\",\"M05\",\"M07\",\"M08\",\"M10\",\"M11\",\"M13\",\"M14\",\"M16\",\"M17\",\"M19\",\"M20\",\"M22\",\"M23\",\"N01\",\"N02\",\"N04\",\"N05\",\"N07\",\"N08\",\"N10\",\"N11\",\"N13\",\"N14\",\"N16\",\"N17\",\"N19\",\"N20\",\"N22\",\"N23\",\"SE03\",\"SE04\",\"SE06\",\"SE07\",\"SE09\",\"SE10\",\"SE12\",\"SE13\",\"SE15\",\"SE16\",\"SE18\",\"SE19\",\"SE21\",\"SE22\",\"SE24\",\"SW01\",\"SW03\",\"SW04\",\"SW06\",\"SW07\",\"SW09\",\"SW10\",\"SW12\",\"SW13\",\"SW15\",\"SW16\",\"SW18\",\"SW19\",\"SW21\",\"SW22\",\"SW24\",\"SW25\",\"TT02\",\"TT03\"]},\"selected\":{\"id\":\"1088\"},\"selection_policy\":{\"id\":\"1087\"}},\"id\":\"1038\",\"type\":\"ColumnDataSource\"},{\"attributes\":{\"data_source\":{\"id\":\"1038\"},\"glyph\":{\"id\":\"1076\"},\"hover_glyph\":null,\"muted_glyph\":null,\"nonselection_glyph\":{\"id\":\"1077\"},\"view\":{\"id\":\"1079\"}},\"id\":\"1078\",\"type\":\"GlyphRenderer\"},{\"attributes\":{\"ticks\":[0,1,2,3,4,5,6,7,8,9,10,11,12,13,14,15,16,17,18,19,20,21,22,23,24,25,26,27,28,29,30,31,32,33,34,35,36,37,38,39,40,41,42,43,44,45,46,47,48,49,50,51,52,53,54,55,56,57,58,59,60,61,62,63,64,65,66,67,68,69,70,71,72,73,74,75,76,77,78,79]},\"id\":\"1093\",\"type\":\"FixedTicker\"},{\"attributes\":{\"label\":{\"value\":\" LEVEL\"},\"renderers\":[{\"id\":\"1078\"}]},\"id\":\"1090\",\"type\":\"LegendItem\"},{\"attributes\":{\"code\":\"\\n                                    var labels = {0: 'E02', 1: 'E03', 2: 'E05', 3: 'E06', 4: 'E08', 5: 'E09', 6: 'HL02', 7: 'HL03', 8: 'HL05', 9: 'HL06', 10: 'HL08', 11: 'HL09', 12: 'HL11', 13: 'HL12', 14: 'M01', 15: 'M02', 16: 'M04', 17: 'M05', 18: 'M07', 19: 'M08', 20: 'M10', 21: 'M11', 22: 'M13', 23: 'M14', 24: 'M16', 25: 'M17', 26: 'M19', 27: 'M20', 28: 'M22', 29: 'M23', 30: 'N01', 31: 'N02', 32: 'N04', 33: 'N05', 34: 'N07', 35: 'N08', 36: 'N10', 37: 'N11', 38: 'N13', 39: 'N14', 40: 'N16', 41: 'N17', 42: 'N19', 43: 'N20', 44: 'N22', 45: 'N23', 46: 'SE03', 47: 'SE04', 48: 'SE06', 49: 'SE07', 50: 'SE09', 51: 'SE10', 52: 'SE12', 53: 'SE13', 54: 'SE15', 55: 'SE16', 56: 'SE18', 57: 'SE19', 58: 'SE21', 59: 'SE22', 60: 'SE24', 61: 'SW01', 62: 'SW03', 63: 'SW04', 64: 'SW06', 65: 'SW07', 66: 'SW09', 67: 'SW10', 68: 'SW12', 69: 'SW13', 70: 'SW15', 71: 'SW16', 72: 'SW18', 73: 'SW19', 74: 'SW21', 75: 'SW22', 76: 'SW24', 77: 'SW25', 78: 'TT02', 79: 'TT03'};\\n                                    return labels[tick];\\n                                    \"},\"id\":\"1072\",\"type\":\"FuncTickFormatter\"},{\"attributes\":{},\"id\":\"1046\",\"type\":\"LinearScale\"},{\"attributes\":{},\"id\":\"1040\",\"type\":\"Title\"},{\"attributes\":{},\"id\":\"1082\",\"type\":\"AllLabels\"},{\"attributes\":{},\"id\":\"1042\",\"type\":\"DataRange1d\"},{\"attributes\":{\"bottom_units\":\"screen\",\"fill_alpha\":0.5,\"fill_color\":\"lightgrey\",\"left_units\":\"screen\",\"level\":\"overlay\",\"line_alpha\":1.0,\"line_color\":\"black\",\"line_dash\":[4,4],\"line_width\":2,\"right_units\":\"screen\",\"syncable\":false,\"top_units\":\"screen\"},\"id\":\"1064\",\"type\":\"BoxAnnotation\"},{\"attributes\":{\"range\":{\"id\":\"1042\"}},\"id\":\"1074\",\"type\":\"Dodge\"},{\"attributes\":{},\"id\":\"1044\",\"type\":\"DataRange1d\"},{\"attributes\":{\"axis_label\":\"Station\",\"formatter\":{\"id\":\"1072\"},\"major_label_policy\":{\"id\":\"1082\"},\"ticker\":{\"id\":\"1093\"}},\"id\":\"1050\",\"type\":\"LinearAxis\"},{\"attributes\":{\"axis\":{\"id\":\"1050\"},\"ticker\":null},\"id\":\"1053\",\"type\":\"Grid\"},{\"attributes\":{},\"id\":\"1048\",\"type\":\"LinearScale\"},{\"attributes\":{},\"id\":\"1059\",\"type\":\"WheelZoomTool\"},{\"attributes\":{\"axis_label\":\"LEVEL\",\"formatter\":{\"id\":\"1085\"},\"major_label_policy\":{\"id\":\"1084\"},\"ticker\":{\"id\":\"1055\"}},\"id\":\"1054\",\"type\":\"LinearAxis\"},{\"attributes\":{\"axis\":{\"id\":\"1054\"},\"dimension\":1,\"ticker\":null},\"id\":\"1057\",\"type\":\"Grid\"},{\"attributes\":{},\"id\":\"1055\",\"type\":\"BasicTicker\"},{\"attributes\":{\"active_multi\":null,\"active_scroll\":{\"id\":\"1059\"},\"tools\":[{\"id\":\"1058\"},{\"id\":\"1059\"},{\"id\":\"1060\"},{\"id\":\"1061\"},{\"id\":\"1062\"},{\"id\":\"1063\"},{\"id\":\"1091\"}]},\"id\":\"1065\",\"type\":\"Toolbar\"},{\"attributes\":{},\"id\":\"1063\",\"type\":\"HelpTool\"},{\"attributes\":{},\"id\":\"1058\",\"type\":\"PanTool\"}],\"root_ids\":[\"1039\"]},\"title\":\"Bokeh Application\",\"version\":\"2.3.2\"}};\n",
       "  var render_items = [{\"docid\":\"9c5dd51a-7be9-45e3-954f-aff1c0d60d15\",\"root_ids\":[\"1039\"],\"roots\":{\"1039\":\"57014030-f385-4ae8-a04e-09699a4bae57\"}}];\n",
       "  root.Bokeh.embed.embed_items_notebook(docs_json, render_items);\n",
       "\n",
       "  }\n",
       "  if (root.Bokeh !== undefined) {\n",
       "    embed_document(root);\n",
       "  } else {\n",
       "    var attempts = 0;\n",
       "    var timer = setInterval(function(root) {\n",
       "      if (root.Bokeh !== undefined) {\n",
       "        clearInterval(timer);\n",
       "        embed_document(root);\n",
       "      } else {\n",
       "        attempts++;\n",
       "        if (attempts > 100) {\n",
       "          clearInterval(timer);\n",
       "          console.log(\"Bokeh: ERROR: Unable to run BokehJS code because BokehJS library is missing\");\n",
       "        }\n",
       "      }\n",
       "    }, 10, root)\n",
       "  }\n",
       "})(window);"
      ],
      "application/vnd.bokehjs_exec.v0+json": ""
     },
     "metadata": {
      "application/vnd.bokehjs_exec.v0+json": {
       "id": "1039"
      }
     },
     "output_type": "display_data"
    },
    {
     "data": {
      "text/html": [
       "<div style=\"display: table;\"><div style=\"display: table-row;\"><div style=\"display: table-cell;\"><b title=\"bokeh.plotting.figure.Figure\">Figure</b>(</div><div style=\"display: table-cell;\">id&nbsp;=&nbsp;'1039', <span id=\"1144\" style=\"cursor: pointer;\">&hellip;)</span></div></div><div class=\"1143\" style=\"display: none;\"><div style=\"display: table-cell;\"></div><div style=\"display: table-cell;\">above&nbsp;=&nbsp;[],</div></div><div class=\"1143\" style=\"display: none;\"><div style=\"display: table-cell;\"></div><div style=\"display: table-cell;\">align&nbsp;=&nbsp;'start',</div></div><div class=\"1143\" style=\"display: none;\"><div style=\"display: table-cell;\"></div><div style=\"display: table-cell;\">aspect_ratio&nbsp;=&nbsp;None,</div></div><div class=\"1143\" style=\"display: none;\"><div style=\"display: table-cell;\"></div><div style=\"display: table-cell;\">aspect_scale&nbsp;=&nbsp;1,</div></div><div class=\"1143\" style=\"display: none;\"><div style=\"display: table-cell;\"></div><div style=\"display: table-cell;\">background&nbsp;=&nbsp;None,</div></div><div class=\"1143\" style=\"display: none;\"><div style=\"display: table-cell;\"></div><div style=\"display: table-cell;\">background_fill_alpha&nbsp;=&nbsp;1.0,</div></div><div class=\"1143\" style=\"display: none;\"><div style=\"display: table-cell;\"></div><div style=\"display: table-cell;\">background_fill_color&nbsp;=&nbsp;'#ffffff',</div></div><div class=\"1143\" style=\"display: none;\"><div style=\"display: table-cell;\"></div><div style=\"display: table-cell;\">below&nbsp;=&nbsp;[LinearAxis(id='1050', ...)],</div></div><div class=\"1143\" style=\"display: none;\"><div style=\"display: table-cell;\"></div><div style=\"display: table-cell;\">border_fill_alpha&nbsp;=&nbsp;1.0,</div></div><div class=\"1143\" style=\"display: none;\"><div style=\"display: table-cell;\"></div><div style=\"display: table-cell;\">border_fill_color&nbsp;=&nbsp;'#ffffff',</div></div><div class=\"1143\" style=\"display: none;\"><div style=\"display: table-cell;\"></div><div style=\"display: table-cell;\">center&nbsp;=&nbsp;[Grid(id='1053', ...), Grid(id='1057', ...), Legend(id='1089', ...)],</div></div><div class=\"1143\" style=\"display: none;\"><div style=\"display: table-cell;\"></div><div style=\"display: table-cell;\">css_classes&nbsp;=&nbsp;[],</div></div><div class=\"1143\" style=\"display: none;\"><div style=\"display: table-cell;\"></div><div style=\"display: table-cell;\">disabled&nbsp;=&nbsp;False,</div></div><div class=\"1143\" style=\"display: none;\"><div style=\"display: table-cell;\"></div><div style=\"display: table-cell;\">extra_x_ranges&nbsp;=&nbsp;{},</div></div><div class=\"1143\" style=\"display: none;\"><div style=\"display: table-cell;\"></div><div style=\"display: table-cell;\">extra_y_ranges&nbsp;=&nbsp;{},</div></div><div class=\"1143\" style=\"display: none;\"><div style=\"display: table-cell;\"></div><div style=\"display: table-cell;\">frame_height&nbsp;=&nbsp;None,</div></div><div class=\"1143\" style=\"display: none;\"><div style=\"display: table-cell;\"></div><div style=\"display: table-cell;\">frame_width&nbsp;=&nbsp;None,</div></div><div class=\"1143\" style=\"display: none;\"><div style=\"display: table-cell;\"></div><div style=\"display: table-cell;\">height&nbsp;=&nbsp;500,</div></div><div class=\"1143\" style=\"display: none;\"><div style=\"display: table-cell;\"></div><div style=\"display: table-cell;\">height_policy&nbsp;=&nbsp;'auto',</div></div><div class=\"1143\" style=\"display: none;\"><div style=\"display: table-cell;\"></div><div style=\"display: table-cell;\">hidpi&nbsp;=&nbsp;True,</div></div><div class=\"1143\" style=\"display: none;\"><div style=\"display: table-cell;\"></div><div style=\"display: table-cell;\">inner_height&nbsp;=&nbsp;0,</div></div><div class=\"1143\" style=\"display: none;\"><div style=\"display: table-cell;\"></div><div style=\"display: table-cell;\">inner_width&nbsp;=&nbsp;0,</div></div><div class=\"1143\" style=\"display: none;\"><div style=\"display: table-cell;\"></div><div style=\"display: table-cell;\">js_event_callbacks&nbsp;=&nbsp;{},</div></div><div class=\"1143\" style=\"display: none;\"><div style=\"display: table-cell;\"></div><div style=\"display: table-cell;\">js_property_callbacks&nbsp;=&nbsp;{},</div></div><div class=\"1143\" style=\"display: none;\"><div style=\"display: table-cell;\"></div><div style=\"display: table-cell;\">left&nbsp;=&nbsp;[LinearAxis(id='1054', ...)],</div></div><div class=\"1143\" style=\"display: none;\"><div style=\"display: table-cell;\"></div><div style=\"display: table-cell;\">lod_factor&nbsp;=&nbsp;10,</div></div><div class=\"1143\" style=\"display: none;\"><div style=\"display: table-cell;\"></div><div style=\"display: table-cell;\">lod_interval&nbsp;=&nbsp;300,</div></div><div class=\"1143\" style=\"display: none;\"><div style=\"display: table-cell;\"></div><div style=\"display: table-cell;\">lod_threshold&nbsp;=&nbsp;2000,</div></div><div class=\"1143\" style=\"display: none;\"><div style=\"display: table-cell;\"></div><div style=\"display: table-cell;\">lod_timeout&nbsp;=&nbsp;500,</div></div><div class=\"1143\" style=\"display: none;\"><div style=\"display: table-cell;\"></div><div style=\"display: table-cell;\">margin&nbsp;=&nbsp;(0, 0, 0, 0),</div></div><div class=\"1143\" style=\"display: none;\"><div style=\"display: table-cell;\"></div><div style=\"display: table-cell;\">match_aspect&nbsp;=&nbsp;False,</div></div><div class=\"1143\" style=\"display: none;\"><div style=\"display: table-cell;\"></div><div style=\"display: table-cell;\">max_height&nbsp;=&nbsp;None,</div></div><div class=\"1143\" style=\"display: none;\"><div style=\"display: table-cell;\"></div><div style=\"display: table-cell;\">max_width&nbsp;=&nbsp;None,</div></div><div class=\"1143\" style=\"display: none;\"><div style=\"display: table-cell;\"></div><div style=\"display: table-cell;\">min_border&nbsp;=&nbsp;5,</div></div><div class=\"1143\" style=\"display: none;\"><div style=\"display: table-cell;\"></div><div style=\"display: table-cell;\">min_border_bottom&nbsp;=&nbsp;None,</div></div><div class=\"1143\" style=\"display: none;\"><div style=\"display: table-cell;\"></div><div style=\"display: table-cell;\">min_border_left&nbsp;=&nbsp;None,</div></div><div class=\"1143\" style=\"display: none;\"><div style=\"display: table-cell;\"></div><div style=\"display: table-cell;\">min_border_right&nbsp;=&nbsp;None,</div></div><div class=\"1143\" style=\"display: none;\"><div style=\"display: table-cell;\"></div><div style=\"display: table-cell;\">min_border_top&nbsp;=&nbsp;None,</div></div><div class=\"1143\" style=\"display: none;\"><div style=\"display: table-cell;\"></div><div style=\"display: table-cell;\">min_height&nbsp;=&nbsp;None,</div></div><div class=\"1143\" style=\"display: none;\"><div style=\"display: table-cell;\"></div><div style=\"display: table-cell;\">min_width&nbsp;=&nbsp;None,</div></div><div class=\"1143\" style=\"display: none;\"><div style=\"display: table-cell;\"></div><div style=\"display: table-cell;\">name&nbsp;=&nbsp;None,</div></div><div class=\"1143\" style=\"display: none;\"><div style=\"display: table-cell;\"></div><div style=\"display: table-cell;\">outer_height&nbsp;=&nbsp;0,</div></div><div class=\"1143\" style=\"display: none;\"><div style=\"display: table-cell;\"></div><div style=\"display: table-cell;\">outer_width&nbsp;=&nbsp;0,</div></div><div class=\"1143\" style=\"display: none;\"><div style=\"display: table-cell;\"></div><div style=\"display: table-cell;\">outline_line_alpha&nbsp;=&nbsp;1.0,</div></div><div class=\"1143\" style=\"display: none;\"><div style=\"display: table-cell;\"></div><div style=\"display: table-cell;\">outline_line_cap&nbsp;=&nbsp;'butt',</div></div><div class=\"1143\" style=\"display: none;\"><div style=\"display: table-cell;\"></div><div style=\"display: table-cell;\">outline_line_color&nbsp;=&nbsp;'#e5e5e5',</div></div><div class=\"1143\" style=\"display: none;\"><div style=\"display: table-cell;\"></div><div style=\"display: table-cell;\">outline_line_dash&nbsp;=&nbsp;[],</div></div><div class=\"1143\" style=\"display: none;\"><div style=\"display: table-cell;\"></div><div style=\"display: table-cell;\">outline_line_dash_offset&nbsp;=&nbsp;0,</div></div><div class=\"1143\" style=\"display: none;\"><div style=\"display: table-cell;\"></div><div style=\"display: table-cell;\">outline_line_join&nbsp;=&nbsp;'bevel',</div></div><div class=\"1143\" style=\"display: none;\"><div style=\"display: table-cell;\"></div><div style=\"display: table-cell;\">outline_line_width&nbsp;=&nbsp;1,</div></div><div class=\"1143\" style=\"display: none;\"><div style=\"display: table-cell;\"></div><div style=\"display: table-cell;\">output_backend&nbsp;=&nbsp;'webgl',</div></div><div class=\"1143\" style=\"display: none;\"><div style=\"display: table-cell;\"></div><div style=\"display: table-cell;\">renderers&nbsp;=&nbsp;[GlyphRenderer(id='1078', ...)],</div></div><div class=\"1143\" style=\"display: none;\"><div style=\"display: table-cell;\"></div><div style=\"display: table-cell;\">reset_policy&nbsp;=&nbsp;'standard',</div></div><div class=\"1143\" style=\"display: none;\"><div style=\"display: table-cell;\"></div><div style=\"display: table-cell;\">right&nbsp;=&nbsp;[],</div></div><div class=\"1143\" style=\"display: none;\"><div style=\"display: table-cell;\"></div><div style=\"display: table-cell;\">sizing_mode&nbsp;=&nbsp;'fixed',</div></div><div class=\"1143\" style=\"display: none;\"><div style=\"display: table-cell;\"></div><div style=\"display: table-cell;\">subscribed_events&nbsp;=&nbsp;[],</div></div><div class=\"1143\" style=\"display: none;\"><div style=\"display: table-cell;\"></div><div style=\"display: table-cell;\">syncable&nbsp;=&nbsp;True,</div></div><div class=\"1143\" style=\"display: none;\"><div style=\"display: table-cell;\"></div><div style=\"display: table-cell;\">tags&nbsp;=&nbsp;[],</div></div><div class=\"1143\" style=\"display: none;\"><div style=\"display: table-cell;\"></div><div style=\"display: table-cell;\">title&nbsp;=&nbsp;Title(id='1040', ...),</div></div><div class=\"1143\" style=\"display: none;\"><div style=\"display: table-cell;\"></div><div style=\"display: table-cell;\">title_location&nbsp;=&nbsp;'above',</div></div><div class=\"1143\" style=\"display: none;\"><div style=\"display: table-cell;\"></div><div style=\"display: table-cell;\">toolbar&nbsp;=&nbsp;Toolbar(id='1065', ...),</div></div><div class=\"1143\" style=\"display: none;\"><div style=\"display: table-cell;\"></div><div style=\"display: table-cell;\">toolbar_location&nbsp;=&nbsp;'right',</div></div><div class=\"1143\" style=\"display: none;\"><div style=\"display: table-cell;\"></div><div style=\"display: table-cell;\">toolbar_sticky&nbsp;=&nbsp;True,</div></div><div class=\"1143\" style=\"display: none;\"><div style=\"display: table-cell;\"></div><div style=\"display: table-cell;\">visible&nbsp;=&nbsp;True,</div></div><div class=\"1143\" style=\"display: none;\"><div style=\"display: table-cell;\"></div><div style=\"display: table-cell;\">width&nbsp;=&nbsp;1200,</div></div><div class=\"1143\" style=\"display: none;\"><div style=\"display: table-cell;\"></div><div style=\"display: table-cell;\">width_policy&nbsp;=&nbsp;'auto',</div></div><div class=\"1143\" style=\"display: none;\"><div style=\"display: table-cell;\"></div><div style=\"display: table-cell;\">x_range&nbsp;=&nbsp;DataRange1d(id='1042', ...),</div></div><div class=\"1143\" style=\"display: none;\"><div style=\"display: table-cell;\"></div><div style=\"display: table-cell;\">x_scale&nbsp;=&nbsp;LinearScale(id='1046', ...),</div></div><div class=\"1143\" style=\"display: none;\"><div style=\"display: table-cell;\"></div><div style=\"display: table-cell;\">y_range&nbsp;=&nbsp;DataRange1d(id='1044', ...),</div></div><div class=\"1143\" style=\"display: none;\"><div style=\"display: table-cell;\"></div><div style=\"display: table-cell;\">y_scale&nbsp;=&nbsp;LinearScale(id='1048', ...))</div></div></div>\n",
       "<script>\n",
       "(function() {\n",
       "  var expanded = false;\n",
       "  var ellipsis = document.getElementById(\"1144\");\n",
       "  ellipsis.addEventListener(\"click\", function() {\n",
       "    var rows = document.getElementsByClassName(\"1143\");\n",
       "    for (var i = 0; i < rows.length; i++) {\n",
       "      var el = rows[i];\n",
       "      el.style.display = expanded ? \"none\" : \"table-row\";\n",
       "    }\n",
       "    ellipsis.innerHTML = expanded ? \"&hellip;)\" : \"&lsaquo;&lsaquo;&lsaquo;\";\n",
       "    expanded = !expanded;\n",
       "  });\n",
       "})();\n",
       "</script>\n"
      ],
      "text/plain": [
       "Figure(id='1039', ...)"
      ]
     },
     "execution_count": 27,
     "metadata": {},
     "output_type": "execute_result"
    }
   ],
   "source": [
    "df.plot_bokeh.bar(figsize=(1200, 500))"
   ]
  },
  {
   "cell_type": "markdown",
   "metadata": {
    "id": "yU9Sckfx7x7E"
   },
   "source": [
    "### 各個測站不同季節的海廢等級"
   ]
  },
  {
   "cell_type": "code",
   "execution_count": 28,
   "metadata": {
    "id": "OT4anP9hvUat"
   },
   "outputs": [
    {
     "data": {
      "text/html": [
       "<div>\n",
       "<style scoped>\n",
       "    .dataframe tbody tr th:only-of-type {\n",
       "        vertical-align: middle;\n",
       "    }\n",
       "\n",
       "    .dataframe tbody tr th {\n",
       "        vertical-align: top;\n",
       "    }\n",
       "\n",
       "    .dataframe thead th {\n",
       "        text-align: right;\n",
       "    }\n",
       "</style>\n",
       "<table border=\"1\" class=\"dataframe\">\n",
       "  <thead>\n",
       "    <tr style=\"text-align: right;\">\n",
       "      <th></th>\n",
       "      <th>Season</th>\n",
       "      <th>1</th>\n",
       "      <th>2</th>\n",
       "      <th>3</th>\n",
       "      <th>4</th>\n",
       "    </tr>\n",
       "    <tr>\n",
       "      <th>Station</th>\n",
       "      <th></th>\n",
       "      <th></th>\n",
       "      <th></th>\n",
       "      <th></th>\n",
       "      <th></th>\n",
       "    </tr>\n",
       "  </thead>\n",
       "  <tbody>\n",
       "    <tr>\n",
       "      <th>E02</th>\n",
       "      <th>LEVEL</th>\n",
       "      <td>2.0</td>\n",
       "      <td>5</td>\n",
       "      <td>2</td>\n",
       "      <td>1</td>\n",
       "    </tr>\n",
       "    <tr>\n",
       "      <th>E03</th>\n",
       "      <th>LEVEL</th>\n",
       "      <td>5.0</td>\n",
       "      <td>5</td>\n",
       "      <td>7</td>\n",
       "      <td>2</td>\n",
       "    </tr>\n",
       "    <tr>\n",
       "      <th>E05</th>\n",
       "      <th>LEVEL</th>\n",
       "      <td>5.0</td>\n",
       "      <td>6</td>\n",
       "      <td>7</td>\n",
       "      <td>4</td>\n",
       "    </tr>\n",
       "    <tr>\n",
       "      <th>E06</th>\n",
       "      <th>LEVEL</th>\n",
       "      <td>4.0</td>\n",
       "      <td>8</td>\n",
       "      <td>8</td>\n",
       "      <td>6</td>\n",
       "    </tr>\n",
       "    <tr>\n",
       "      <th>E08</th>\n",
       "      <th>LEVEL</th>\n",
       "      <td>2.0</td>\n",
       "      <td>5</td>\n",
       "      <td>4</td>\n",
       "      <td>3</td>\n",
       "    </tr>\n",
       "  </tbody>\n",
       "</table>\n",
       "</div>"
      ],
      "text/plain": [
       "Season           1  2  3  4\n",
       "Station                    \n",
       "E02     LEVEL  2.0  5  2  1\n",
       "E03     LEVEL  5.0  5  7  2\n",
       "E05     LEVEL  5.0  6  7  4\n",
       "E06     LEVEL  4.0  8  8  6\n",
       "E08     LEVEL  2.0  5  4  3"
      ]
     },
     "execution_count": 28,
     "metadata": {},
     "output_type": "execute_result"
    }
   ],
   "source": [
    "def level_season(x):\n",
    "  x.set_index('Season', inplace=True)\n",
    "  return x.T\n",
    "\n",
    "df = train.groupby('Station')[['Season', 'LEVEL']].apply(level_season)\n",
    "df.head()"
   ]
  },
  {
   "cell_type": "code",
   "execution_count": 29,
   "metadata": {
    "id": "GBKQKcEAE4lS"
   },
   "outputs": [
    {
     "data": {
      "text/html": [
       "<div>\n",
       "<style scoped>\n",
       "    .dataframe tbody tr th:only-of-type {\n",
       "        vertical-align: middle;\n",
       "    }\n",
       "\n",
       "    .dataframe tbody tr th {\n",
       "        vertical-align: top;\n",
       "    }\n",
       "\n",
       "    .dataframe thead th {\n",
       "        text-align: right;\n",
       "    }\n",
       "</style>\n",
       "<table border=\"1\" class=\"dataframe\">\n",
       "  <thead>\n",
       "    <tr style=\"text-align: right;\">\n",
       "      <th></th>\n",
       "      <th>Season</th>\n",
       "      <th>LEVEL</th>\n",
       "    </tr>\n",
       "  </thead>\n",
       "  <tbody>\n",
       "    <tr>\n",
       "      <th>0</th>\n",
       "      <td>1</td>\n",
       "      <td>2</td>\n",
       "    </tr>\n",
       "    <tr>\n",
       "      <th>1</th>\n",
       "      <td>2</td>\n",
       "      <td>5</td>\n",
       "    </tr>\n",
       "    <tr>\n",
       "      <th>2</th>\n",
       "      <td>3</td>\n",
       "      <td>2</td>\n",
       "    </tr>\n",
       "    <tr>\n",
       "      <th>3</th>\n",
       "      <td>4</td>\n",
       "      <td>1</td>\n",
       "    </tr>\n",
       "    <tr>\n",
       "      <th>4</th>\n",
       "      <td>1</td>\n",
       "      <td>5</td>\n",
       "    </tr>\n",
       "    <tr>\n",
       "      <th>...</th>\n",
       "      <td>...</td>\n",
       "      <td>...</td>\n",
       "    </tr>\n",
       "    <tr>\n",
       "      <th>314</th>\n",
       "      <td>4</td>\n",
       "      <td>2</td>\n",
       "    </tr>\n",
       "    <tr>\n",
       "      <th>315</th>\n",
       "      <td>1</td>\n",
       "      <td>3</td>\n",
       "    </tr>\n",
       "    <tr>\n",
       "      <th>316</th>\n",
       "      <td>2</td>\n",
       "      <td>2</td>\n",
       "    </tr>\n",
       "    <tr>\n",
       "      <th>317</th>\n",
       "      <td>3</td>\n",
       "      <td>3</td>\n",
       "    </tr>\n",
       "    <tr>\n",
       "      <th>318</th>\n",
       "      <td>4</td>\n",
       "      <td>1</td>\n",
       "    </tr>\n",
       "  </tbody>\n",
       "</table>\n",
       "<p>319 rows × 2 columns</p>\n",
       "</div>"
      ],
      "text/plain": [
       "     Season  LEVEL\n",
       "0         1      2\n",
       "1         2      5\n",
       "2         3      2\n",
       "3         4      1\n",
       "4         1      5\n",
       "..      ...    ...\n",
       "314       4      2\n",
       "315       1      3\n",
       "316       2      2\n",
       "317       3      3\n",
       "318       4      1\n",
       "\n",
       "[319 rows x 2 columns]"
      ]
     },
     "metadata": {},
     "output_type": "display_data"
    },
    {
     "data": {
      "text/html": [
       "<div>\n",
       "<style scoped>\n",
       "    .dataframe tbody tr th:only-of-type {\n",
       "        vertical-align: middle;\n",
       "    }\n",
       "\n",
       "    .dataframe tbody tr th {\n",
       "        vertical-align: top;\n",
       "    }\n",
       "\n",
       "    .dataframe thead th {\n",
       "        text-align: right;\n",
       "    }\n",
       "</style>\n",
       "<table border=\"1\" class=\"dataframe\">\n",
       "  <thead>\n",
       "    <tr style=\"text-align: right;\">\n",
       "      <th></th>\n",
       "      <th>LEVEL</th>\n",
       "    </tr>\n",
       "    <tr>\n",
       "      <th>Season</th>\n",
       "      <th></th>\n",
       "    </tr>\n",
       "  </thead>\n",
       "  <tbody>\n",
       "    <tr>\n",
       "      <th>1</th>\n",
       "      <td>2</td>\n",
       "    </tr>\n",
       "    <tr>\n",
       "      <th>2</th>\n",
       "      <td>5</td>\n",
       "    </tr>\n",
       "    <tr>\n",
       "      <th>3</th>\n",
       "      <td>2</td>\n",
       "    </tr>\n",
       "    <tr>\n",
       "      <th>4</th>\n",
       "      <td>1</td>\n",
       "    </tr>\n",
       "    <tr>\n",
       "      <th>1</th>\n",
       "      <td>5</td>\n",
       "    </tr>\n",
       "    <tr>\n",
       "      <th>...</th>\n",
       "      <td>...</td>\n",
       "    </tr>\n",
       "    <tr>\n",
       "      <th>4</th>\n",
       "      <td>2</td>\n",
       "    </tr>\n",
       "    <tr>\n",
       "      <th>1</th>\n",
       "      <td>3</td>\n",
       "    </tr>\n",
       "    <tr>\n",
       "      <th>2</th>\n",
       "      <td>2</td>\n",
       "    </tr>\n",
       "    <tr>\n",
       "      <th>3</th>\n",
       "      <td>3</td>\n",
       "    </tr>\n",
       "    <tr>\n",
       "      <th>4</th>\n",
       "      <td>1</td>\n",
       "    </tr>\n",
       "  </tbody>\n",
       "</table>\n",
       "<p>319 rows × 1 columns</p>\n",
       "</div>"
      ],
      "text/plain": [
       "        LEVEL\n",
       "Season       \n",
       "1           2\n",
       "2           5\n",
       "3           2\n",
       "4           1\n",
       "1           5\n",
       "...       ...\n",
       "4           2\n",
       "1           3\n",
       "2           2\n",
       "3           3\n",
       "4           1\n",
       "\n",
       "[319 rows x 1 columns]"
      ]
     },
     "metadata": {},
     "output_type": "display_data"
    },
    {
     "data": {
      "text/html": [
       "<div>\n",
       "<style scoped>\n",
       "    .dataframe tbody tr th:only-of-type {\n",
       "        vertical-align: middle;\n",
       "    }\n",
       "\n",
       "    .dataframe tbody tr th {\n",
       "        vertical-align: top;\n",
       "    }\n",
       "\n",
       "    .dataframe thead th {\n",
       "        text-align: right;\n",
       "    }\n",
       "</style>\n",
       "<table border=\"1\" class=\"dataframe\">\n",
       "  <thead>\n",
       "    <tr style=\"text-align: right;\">\n",
       "      <th>Season</th>\n",
       "      <th>1</th>\n",
       "      <th>2</th>\n",
       "      <th>3</th>\n",
       "      <th>4</th>\n",
       "      <th>1</th>\n",
       "      <th>2</th>\n",
       "      <th>3</th>\n",
       "      <th>4</th>\n",
       "      <th>1</th>\n",
       "      <th>2</th>\n",
       "      <th>...</th>\n",
       "      <th>3</th>\n",
       "      <th>4</th>\n",
       "      <th>1</th>\n",
       "      <th>2</th>\n",
       "      <th>3</th>\n",
       "      <th>4</th>\n",
       "      <th>1</th>\n",
       "      <th>2</th>\n",
       "      <th>3</th>\n",
       "      <th>4</th>\n",
       "    </tr>\n",
       "  </thead>\n",
       "  <tbody>\n",
       "    <tr>\n",
       "      <th>LEVEL</th>\n",
       "      <td>2</td>\n",
       "      <td>5</td>\n",
       "      <td>2</td>\n",
       "      <td>1</td>\n",
       "      <td>5</td>\n",
       "      <td>5</td>\n",
       "      <td>7</td>\n",
       "      <td>2</td>\n",
       "      <td>5</td>\n",
       "      <td>6</td>\n",
       "      <td>...</td>\n",
       "      <td>9</td>\n",
       "      <td>8</td>\n",
       "      <td>2</td>\n",
       "      <td>1</td>\n",
       "      <td>5</td>\n",
       "      <td>2</td>\n",
       "      <td>3</td>\n",
       "      <td>2</td>\n",
       "      <td>3</td>\n",
       "      <td>1</td>\n",
       "    </tr>\n",
       "  </tbody>\n",
       "</table>\n",
       "<p>1 rows × 319 columns</p>\n",
       "</div>"
      ],
      "text/plain": [
       "Season  1  2  3  4  1  2  3  4  1  2  ...  3  4  1  2  3  4  1  2  3  4\n",
       "LEVEL   2  5  2  1  5  5  7  2  5  6  ...  9  8  2  1  5  2  3  2  3  1\n",
       "\n",
       "[1 rows x 319 columns]"
      ]
     },
     "metadata": {},
     "output_type": "display_data"
    }
   ],
   "source": [
    "display(train[['Season', 'LEVEL']])\n",
    "display(train[['Season', 'LEVEL']].set_index('Season'))\n",
    "display(train[['Season', 'LEVEL']].set_index('Season').T)"
   ]
  },
  {
   "cell_type": "code",
   "execution_count": 30,
   "metadata": {
    "id": "KSagycSx6PMr"
   },
   "outputs": [
    {
     "data": {
      "text/html": [
       "\n",
       "\n",
       "\n",
       "\n",
       "\n",
       "\n",
       "  <div class=\"bk-root\" id=\"12c8e8ae-d29f-4ffd-b172-990fe98017a6\" data-root-id=\"1182\"></div>\n"
      ]
     },
     "metadata": {},
     "output_type": "display_data"
    },
    {
     "data": {
      "application/javascript": [
       "(function(root) {\n",
       "  function embed_document(root) {\n",
       "    \n",
       "  var docs_json = {\"c46019aa-82bc-4a49-96e7-8cb445bea434\":{\"defs\":[],\"roots\":{\"references\":[{\"attributes\":{\"below\":[{\"id\":\"1193\"}],\"center\":[{\"id\":\"1196\"},{\"id\":\"1200\"},{\"id\":\"1232\"}],\"height\":500,\"left\":[{\"id\":\"1197\"}],\"output_backend\":\"webgl\",\"renderers\":[{\"id\":\"1221\"},{\"id\":\"1240\"},{\"id\":\"1258\"},{\"id\":\"1276\"}],\"sizing_mode\":\"fixed\",\"title\":{\"id\":\"1183\"},\"toolbar\":{\"id\":\"1208\"},\"width\":1200,\"x_range\":{\"id\":\"1185\"},\"x_scale\":{\"id\":\"1189\"},\"y_range\":{\"id\":\"1187\"},\"y_scale\":{\"id\":\"1191\"}},\"id\":\"1182\",\"subtype\":\"Figure\",\"type\":\"Plot\"},{\"attributes\":{\"active_multi\":null,\"active_scroll\":{\"id\":\"1202\"},\"tools\":[{\"id\":\"1201\"},{\"id\":\"1202\"},{\"id\":\"1203\"},{\"id\":\"1204\"},{\"id\":\"1205\"},{\"id\":\"1206\"},{\"id\":\"1234\"},{\"id\":\"1252\"},{\"id\":\"1270\"},{\"id\":\"1288\"}]},\"id\":\"1208\",\"type\":\"Toolbar\"},{\"attributes\":{\"data\":{\"1\":{\"__ndarray__\":\"AAAAAAAAAEAAAAAAAAAUQAAAAAAAABRAAAAAAAAAEEAAAAAAAAAAQAAAAAAAABxAAAAAAAAAAEAAAAAAAAAQQAAAAAAAABxAAAAAAAAACEAAAAAAAAAcQAAAAAAAABRAAAAAAAAAFEAAAAAAAAAQQAAAAAAAABxAAAAAAAAAGEAAAAAAAAAgQAAAAAAAAABAAAAAAAAAGEAAAAAAAAAkQAAAAAAAABBAAAAAAAAAFEAAAAAAAAAYQAAAAAAAABxAAAAAAAAAHEAAAAAAAAD4fwAAAAAAABhAAAAAAAAAHEAAAAAAAAAgQAAAAAAAABRAAAAAAAAAHEAAAAAAAAAUQAAAAAAAAAhAAAAAAAAAFEAAAAAAAAAiQAAAAAAAABhAAAAAAAAAIkAAAAAAAAAgQAAAAAAAABBAAAAAAAAACEAAAAAAAAAcQAAAAAAAABhAAAAAAAAAIEAAAAAAAAAgQAAAAAAAABhAAAAAAAAAFEAAAAAAAAAAQAAAAAAAAAhAAAAAAAAAEEAAAAAAAAAUQAAAAAAAAABAAAAAAAAACEAAAAAAAAAUQAAAAAAAABRAAAAAAAAACEAAAAAAAAAgQAAAAAAAACJAAAAAAAAAAEAAAAAAAAAYQAAAAAAAAAhAAAAAAAAAFEAAAAAAAAAcQAAAAAAAABhAAAAAAAAAGEAAAAAAAAAcQAAAAAAAABhAAAAAAAAAHEAAAAAAAAAgQAAAAAAAABhAAAAAAAAAHEAAAAAAAAAQQAAAAAAAABxAAAAAAAAAFEAAAAAAAAAkQAAAAAAAABxAAAAAAAAAFEAAAAAAAAAkQAAAAAAAACJAAAAAAAAAAEAAAAAAAAAIQA==\",\"dtype\":\"float64\",\"order\":\"little\",\"shape\":[80]},\"2\":[5,5,6,8,5,7,1,2,9,1,5,4,3,4,7,3,8,6,7,9,5,6,8,7,7,3,2,3,8,4,8,6,2,4,9,5,8,6,2,5,9,8,6,9,7,7,2,3,3,2,1,1,1,1,6,7,7,5,7,2,5,5,6,4,6,6,3,7,4,6,4,8,2,10,4,8,7,9,1,2],\"3\":[2,7,7,8,4,6,2,2,9,2,7,5,4,3,7,5,8,7,6,9,2,6,7,9,7,5,4,7,9,6,6,6,4,4,10,5,8,2,4,5,9,8,6,10,8,8,3,5,2,2,2,2,2,4,4,8,8,3,7,5,5,5,6,7,6,5,4,5,3,7,2,7,2,9,6,8,7,9,5,3],\"4\":[1,2,4,6,3,6,3,2,8,2,7,6,2,2,7,4,8,6,5,10,3,6,9,8,7,7,7,7,10,6,7,7,2,5,9,6,8,3,3,1,7,4,6,10,8,6,2,2,2,2,2,2,2,5,3,8,8,3,7,3,5,5,6,5,8,6,1,6,3,6,2,7,2,9,6,6,4,8,2,1],\"__x__values\":[0,1,2,3,4,5,6,7,8,9,10,11,12,13,14,15,16,17,18,19,20,21,22,23,24,25,26,27,28,29,30,31,32,33,34,35,36,37,38,39,40,41,42,43,44,45,46,47,48,49,50,51,52,53,54,55,56,57,58,59,60,61,62,63,64,65,66,67,68,69,70,71,72,73,74,75,76,77,78,79],\"__x__values_original\":[[\"E02\",\"LEVEL\"],[\"E03\",\"LEVEL\"],[\"E05\",\"LEVEL\"],[\"E06\",\"LEVEL\"],[\"E08\",\"LEVEL\"],[\"E09\",\"LEVEL\"],[\"HL02\",\"LEVEL\"],[\"HL03\",\"LEVEL\"],[\"HL05\",\"LEVEL\"],[\"HL06\",\"LEVEL\"],[\"HL08\",\"LEVEL\"],[\"HL09\",\"LEVEL\"],[\"HL11\",\"LEVEL\"],[\"HL12\",\"LEVEL\"],[\"M01\",\"LEVEL\"],[\"M02\",\"LEVEL\"],[\"M04\",\"LEVEL\"],[\"M05\",\"LEVEL\"],[\"M07\",\"LEVEL\"],[\"M08\",\"LEVEL\"],[\"M10\",\"LEVEL\"],[\"M11\",\"LEVEL\"],[\"M13\",\"LEVEL\"],[\"M14\",\"LEVEL\"],[\"M16\",\"LEVEL\"],[\"M17\",\"LEVEL\"],[\"M19\",\"LEVEL\"],[\"M20\",\"LEVEL\"],[\"M22\",\"LEVEL\"],[\"M23\",\"LEVEL\"],[\"N01\",\"LEVEL\"],[\"N02\",\"LEVEL\"],[\"N04\",\"LEVEL\"],[\"N05\",\"LEVEL\"],[\"N07\",\"LEVEL\"],[\"N08\",\"LEVEL\"],[\"N10\",\"LEVEL\"],[\"N11\",\"LEVEL\"],[\"N13\",\"LEVEL\"],[\"N14\",\"LEVEL\"],[\"N16\",\"LEVEL\"],[\"N17\",\"LEVEL\"],[\"N19\",\"LEVEL\"],[\"N20\",\"LEVEL\"],[\"N22\",\"LEVEL\"],[\"N23\",\"LEVEL\"],[\"SE03\",\"LEVEL\"],[\"SE04\",\"LEVEL\"],[\"SE06\",\"LEVEL\"],[\"SE07\",\"LEVEL\"],[\"SE09\",\"LEVEL\"],[\"SE10\",\"LEVEL\"],[\"SE12\",\"LEVEL\"],[\"SE13\",\"LEVEL\"],[\"SE15\",\"LEVEL\"],[\"SE16\",\"LEVEL\"],[\"SE18\",\"LEVEL\"],[\"SE19\",\"LEVEL\"],[\"SE21\",\"LEVEL\"],[\"SE22\",\"LEVEL\"],[\"SE24\",\"LEVEL\"],[\"SW01\",\"LEVEL\"],[\"SW03\",\"LEVEL\"],[\"SW04\",\"LEVEL\"],[\"SW06\",\"LEVEL\"],[\"SW07\",\"LEVEL\"],[\"SW09\",\"LEVEL\"],[\"SW10\",\"LEVEL\"],[\"SW12\",\"LEVEL\"],[\"SW13\",\"LEVEL\"],[\"SW15\",\"LEVEL\"],[\"SW16\",\"LEVEL\"],[\"SW18\",\"LEVEL\"],[\"SW19\",\"LEVEL\"],[\"SW21\",\"LEVEL\"],[\"SW22\",\"LEVEL\"],[\"SW24\",\"LEVEL\"],[\"SW25\",\"LEVEL\"],[\"TT02\",\"LEVEL\"],[\"TT03\",\"LEVEL\"]]},\"selected\":{\"id\":\"1231\"},\"selection_policy\":{\"id\":\"1230\"}},\"id\":\"1181\",\"type\":\"ColumnDataSource\"},{\"attributes\":{\"label\":{\"value\":\" 3\"},\"renderers\":[{\"id\":\"1258\"}]},\"id\":\"1269\",\"type\":\"LegendItem\"},{\"attributes\":{\"fill_alpha\":{\"value\":0.1},\"fill_color\":{\"value\":\"#1f77b4\"},\"line_alpha\":{\"value\":0.1},\"line_color\":{\"value\":\"#1f77b4\"},\"line_width\":{\"value\":2},\"top\":{\"field\":\"1\"},\"width\":{\"value\":0.14285714285714285},\"x\":{\"field\":\"__x__values\",\"transform\":{\"id\":\"1217\"}}},\"id\":\"1220\",\"type\":\"VBar\"},{\"attributes\":{},\"id\":\"1198\",\"type\":\"BasicTicker\"},{\"attributes\":{\"ticks\":[0,1,2,3,4,5,6,7,8,9,10,11,12,13,14,15,16,17,18,19,20,21,22,23,24,25,26,27,28,29,30,31,32,33,34,35,36,37,38,39,40,41,42,43,44,45,46,47,48,49,50,51,52,53,54,55,56,57,58,59,60,61,62,63,64,65,66,67,68,69,70,71,72,73,74,75,76,77,78,79]},\"id\":\"1290\",\"type\":\"FixedTicker\"},{\"attributes\":{},\"id\":\"1189\",\"type\":\"LinearScale\"},{\"attributes\":{\"fill_alpha\":{\"value\":0.1},\"fill_color\":{\"value\":\"#ff7f0e\"},\"line_alpha\":{\"value\":0.1},\"line_color\":{\"value\":\"#ff7f0e\"},\"line_width\":{\"value\":2},\"top\":{\"field\":\"2\"},\"width\":{\"value\":0.14285714285714285},\"x\":{\"field\":\"__x__values\",\"transform\":{\"id\":\"1236\"}}},\"id\":\"1239\",\"type\":\"VBar\"},{\"attributes\":{\"range\":{\"id\":\"1185\"},\"value\":-0.08333333333333334},\"id\":\"1236\",\"type\":\"Dodge\"},{\"attributes\":{\"fill_color\":{\"value\":\"#1f77b4\"},\"line_color\":{\"value\":\"#1f77b4\"},\"line_width\":{\"value\":2},\"top\":{\"field\":\"1\"},\"width\":{\"value\":0.14285714285714285},\"x\":{\"field\":\"__x__values\",\"transform\":{\"id\":\"1217\"}}},\"id\":\"1219\",\"type\":\"VBar\"},{\"attributes\":{},\"id\":\"1231\",\"type\":\"Selection\"},{\"attributes\":{\"data_source\":{\"id\":\"1181\"},\"glyph\":{\"id\":\"1256\"},\"hover_glyph\":null,\"muted_glyph\":null,\"nonselection_glyph\":{\"id\":\"1257\"},\"view\":{\"id\":\"1259\"}},\"id\":\"1258\",\"type\":\"GlyphRenderer\"},{\"attributes\":{},\"id\":\"1225\",\"type\":\"AllLabels\"},{\"attributes\":{\"bottom_units\":\"screen\",\"fill_alpha\":0.5,\"fill_color\":\"lightgrey\",\"left_units\":\"screen\",\"level\":\"overlay\",\"line_alpha\":1.0,\"line_color\":\"black\",\"line_dash\":[4,4],\"line_width\":2,\"right_units\":\"screen\",\"syncable\":false,\"top_units\":\"screen\"},\"id\":\"1207\",\"type\":\"BoxAnnotation\"},{\"attributes\":{\"fill_alpha\":{\"value\":0.1},\"fill_color\":{\"value\":\"#2ca02c\"},\"line_alpha\":{\"value\":0.1},\"line_color\":{\"value\":\"#2ca02c\"},\"line_width\":{\"value\":2},\"top\":{\"field\":\"3\"},\"width\":{\"value\":0.14285714285714285},\"x\":{\"field\":\"__x__values\",\"transform\":{\"id\":\"1254\"}}},\"id\":\"1257\",\"type\":\"VBar\"},{\"attributes\":{\"callback\":null,\"mode\":\"vline\",\"renderers\":[{\"id\":\"1221\"}],\"tooltips\":[[\"x\",\"@__x__values_original\"],[\"1\",\"@{1}\"]]},\"id\":\"1234\",\"type\":\"HoverTool\"},{\"attributes\":{},\"id\":\"1230\",\"type\":\"UnionRenderers\"},{\"attributes\":{\"callback\":null,\"mode\":\"vline\",\"renderers\":[{\"id\":\"1276\"}],\"tooltips\":[[\"x\",\"@__x__values_original\"],[\"4\",\"@{4}\"]]},\"id\":\"1288\",\"type\":\"HoverTool\"},{\"attributes\":{},\"id\":\"1202\",\"type\":\"WheelZoomTool\"},{\"attributes\":{},\"id\":\"1185\",\"type\":\"DataRange1d\"},{\"attributes\":{},\"id\":\"1205\",\"type\":\"ResetTool\"},{\"attributes\":{\"callback\":null,\"mode\":\"vline\",\"renderers\":[{\"id\":\"1240\"}],\"tooltips\":[[\"x\",\"@__x__values_original\"],[\"2\",\"@{2}\"]]},\"id\":\"1252\",\"type\":\"HoverTool\"},{\"attributes\":{\"formatter\":{\"id\":\"1228\"},\"major_label_policy\":{\"id\":\"1227\"},\"ticker\":{\"id\":\"1198\"}},\"id\":\"1197\",\"type\":\"LinearAxis\"},{\"attributes\":{},\"id\":\"1228\",\"type\":\"BasicTickFormatter\"},{\"attributes\":{\"data_source\":{\"id\":\"1181\"},\"glyph\":{\"id\":\"1219\"},\"hover_glyph\":null,\"muted_glyph\":null,\"nonselection_glyph\":{\"id\":\"1220\"},\"view\":{\"id\":\"1222\"}},\"id\":\"1221\",\"type\":\"GlyphRenderer\"},{\"attributes\":{\"label\":{\"value\":\" 1\"},\"renderers\":[{\"id\":\"1221\"}]},\"id\":\"1233\",\"type\":\"LegendItem\"},{\"attributes\":{\"overlay\":{\"id\":\"1207\"}},\"id\":\"1203\",\"type\":\"BoxZoomTool\"},{\"attributes\":{\"callback\":null,\"mode\":\"vline\",\"renderers\":[{\"id\":\"1258\"}],\"tooltips\":[[\"x\",\"@__x__values_original\"],[\"3\",\"@{3}\"]]},\"id\":\"1270\",\"type\":\"HoverTool\"},{\"attributes\":{},\"id\":\"1201\",\"type\":\"PanTool\"},{\"attributes\":{\"fill_color\":{\"value\":\"#ff7f0e\"},\"line_color\":{\"value\":\"#ff7f0e\"},\"line_width\":{\"value\":2},\"top\":{\"field\":\"2\"},\"width\":{\"value\":0.14285714285714285},\"x\":{\"field\":\"__x__values\",\"transform\":{\"id\":\"1236\"}}},\"id\":\"1238\",\"type\":\"VBar\"},{\"attributes\":{\"range\":{\"id\":\"1185\"},\"value\":0.08333333333333331},\"id\":\"1254\",\"type\":\"Dodge\"},{\"attributes\":{},\"id\":\"1204\",\"type\":\"SaveTool\"},{\"attributes\":{\"range\":{\"id\":\"1185\"},\"value\":0.25},\"id\":\"1272\",\"type\":\"Dodge\"},{\"attributes\":{\"data_source\":{\"id\":\"1181\"},\"glyph\":{\"id\":\"1238\"},\"hover_glyph\":null,\"muted_glyph\":null,\"nonselection_glyph\":{\"id\":\"1239\"},\"view\":{\"id\":\"1241\"}},\"id\":\"1240\",\"type\":\"GlyphRenderer\"},{\"attributes\":{\"code\":\"\\n                                    var labels = {0: \\\"('E02', 'LEVEL')\\\", 1: \\\"('E03', 'LEVEL')\\\", 2: \\\"('E05', 'LEVEL')\\\", 3: \\\"('E06', 'LEVEL')\\\", 4: \\\"('E08', 'LEVEL')\\\", 5: \\\"('E09', 'LEVEL')\\\", 6: \\\"('HL02', 'LEVEL')\\\", 7: \\\"('HL03', 'LEVEL')\\\", 8: \\\"('HL05', 'LEVEL')\\\", 9: \\\"('HL06', 'LEVEL')\\\", 10: \\\"('HL08', 'LEVEL')\\\", 11: \\\"('HL09', 'LEVEL')\\\", 12: \\\"('HL11', 'LEVEL')\\\", 13: \\\"('HL12', 'LEVEL')\\\", 14: \\\"('M01', 'LEVEL')\\\", 15: \\\"('M02', 'LEVEL')\\\", 16: \\\"('M04', 'LEVEL')\\\", 17: \\\"('M05', 'LEVEL')\\\", 18: \\\"('M07', 'LEVEL')\\\", 19: \\\"('M08', 'LEVEL')\\\", 20: \\\"('M10', 'LEVEL')\\\", 21: \\\"('M11', 'LEVEL')\\\", 22: \\\"('M13', 'LEVEL')\\\", 23: \\\"('M14', 'LEVEL')\\\", 24: \\\"('M16', 'LEVEL')\\\", 25: \\\"('M17', 'LEVEL')\\\", 26: \\\"('M19', 'LEVEL')\\\", 27: \\\"('M20', 'LEVEL')\\\", 28: \\\"('M22', 'LEVEL')\\\", 29: \\\"('M23', 'LEVEL')\\\", 30: \\\"('N01', 'LEVEL')\\\", 31: \\\"('N02', 'LEVEL')\\\", 32: \\\"('N04', 'LEVEL')\\\", 33: \\\"('N05', 'LEVEL')\\\", 34: \\\"('N07', 'LEVEL')\\\", 35: \\\"('N08', 'LEVEL')\\\", 36: \\\"('N10', 'LEVEL')\\\", 37: \\\"('N11', 'LEVEL')\\\", 38: \\\"('N13', 'LEVEL')\\\", 39: \\\"('N14', 'LEVEL')\\\", 40: \\\"('N16', 'LEVEL')\\\", 41: \\\"('N17', 'LEVEL')\\\", 42: \\\"('N19', 'LEVEL')\\\", 43: \\\"('N20', 'LEVEL')\\\", 44: \\\"('N22', 'LEVEL')\\\", 45: \\\"('N23', 'LEVEL')\\\", 46: \\\"('SE03', 'LEVEL')\\\", 47: \\\"('SE04', 'LEVEL')\\\", 48: \\\"('SE06', 'LEVEL')\\\", 49: \\\"('SE07', 'LEVEL')\\\", 50: \\\"('SE09', 'LEVEL')\\\", 51: \\\"('SE10', 'LEVEL')\\\", 52: \\\"('SE12', 'LEVEL')\\\", 53: \\\"('SE13', 'LEVEL')\\\", 54: \\\"('SE15', 'LEVEL')\\\", 55: \\\"('SE16', 'LEVEL')\\\", 56: \\\"('SE18', 'LEVEL')\\\", 57: \\\"('SE19', 'LEVEL')\\\", 58: \\\"('SE21', 'LEVEL')\\\", 59: \\\"('SE22', 'LEVEL')\\\", 60: \\\"('SE24', 'LEVEL')\\\", 61: \\\"('SW01', 'LEVEL')\\\", 62: \\\"('SW03', 'LEVEL')\\\", 63: \\\"('SW04', 'LEVEL')\\\", 64: \\\"('SW06', 'LEVEL')\\\", 65: \\\"('SW07', 'LEVEL')\\\", 66: \\\"('SW09', 'LEVEL')\\\", 67: \\\"('SW10', 'LEVEL')\\\", 68: \\\"('SW12', 'LEVEL')\\\", 69: \\\"('SW13', 'LEVEL')\\\", 70: \\\"('SW15', 'LEVEL')\\\", 71: \\\"('SW16', 'LEVEL')\\\", 72: \\\"('SW18', 'LEVEL')\\\", 73: \\\"('SW19', 'LEVEL')\\\", 74: \\\"('SW21', 'LEVEL')\\\", 75: \\\"('SW22', 'LEVEL')\\\", 76: \\\"('SW24', 'LEVEL')\\\", 77: \\\"('SW25', 'LEVEL')\\\", 78: \\\"('TT02', 'LEVEL')\\\", 79: \\\"('TT03', 'LEVEL')\\\"};\\n                                    return labels[tick];\\n                                    \"},\"id\":\"1215\",\"type\":\"FuncTickFormatter\"},{\"attributes\":{\"source\":{\"id\":\"1181\"}},\"id\":\"1241\",\"type\":\"CDSView\"},{\"attributes\":{\"range\":{\"id\":\"1185\"},\"value\":-0.25},\"id\":\"1217\",\"type\":\"Dodge\"},{\"attributes\":{\"label\":{\"value\":\" 2\"},\"renderers\":[{\"id\":\"1240\"}]},\"id\":\"1251\",\"type\":\"LegendItem\"},{\"attributes\":{\"fill_color\":{\"value\":\"#2ca02c\"},\"line_color\":{\"value\":\"#2ca02c\"},\"line_width\":{\"value\":2},\"top\":{\"field\":\"3\"},\"width\":{\"value\":0.14285714285714285},\"x\":{\"field\":\"__x__values\",\"transform\":{\"id\":\"1254\"}}},\"id\":\"1256\",\"type\":\"VBar\"},{\"attributes\":{},\"id\":\"1227\",\"type\":\"AllLabels\"},{\"attributes\":{\"click_policy\":\"hide\",\"items\":[{\"id\":\"1233\"},{\"id\":\"1251\"},{\"id\":\"1269\"},{\"id\":\"1287\"}]},\"id\":\"1232\",\"type\":\"Legend\"},{\"attributes\":{\"source\":{\"id\":\"1181\"}},\"id\":\"1277\",\"type\":\"CDSView\"},{\"attributes\":{\"formatter\":{\"id\":\"1215\"},\"major_label_policy\":{\"id\":\"1225\"},\"ticker\":{\"id\":\"1290\"}},\"id\":\"1193\",\"type\":\"LinearAxis\"},{\"attributes\":{},\"id\":\"1206\",\"type\":\"HelpTool\"},{\"attributes\":{\"axis\":{\"id\":\"1197\"},\"dimension\":1,\"ticker\":null},\"id\":\"1200\",\"type\":\"Grid\"},{\"attributes\":{},\"id\":\"1183\",\"type\":\"Title\"},{\"attributes\":{\"data_source\":{\"id\":\"1181\"},\"glyph\":{\"id\":\"1274\"},\"hover_glyph\":null,\"muted_glyph\":null,\"nonselection_glyph\":{\"id\":\"1275\"},\"view\":{\"id\":\"1277\"}},\"id\":\"1276\",\"type\":\"GlyphRenderer\"},{\"attributes\":{},\"id\":\"1191\",\"type\":\"LinearScale\"},{\"attributes\":{\"source\":{\"id\":\"1181\"}},\"id\":\"1222\",\"type\":\"CDSView\"},{\"attributes\":{\"axis\":{\"id\":\"1193\"},\"ticker\":null},\"id\":\"1196\",\"type\":\"Grid\"},{\"attributes\":{\"fill_color\":{\"value\":\"#d62728\"},\"line_color\":{\"value\":\"#d62728\"},\"line_width\":{\"value\":2},\"top\":{\"field\":\"4\"},\"width\":{\"value\":0.14285714285714285},\"x\":{\"field\":\"__x__values\",\"transform\":{\"id\":\"1272\"}}},\"id\":\"1274\",\"type\":\"VBar\"},{\"attributes\":{\"fill_alpha\":{\"value\":0.1},\"fill_color\":{\"value\":\"#d62728\"},\"line_alpha\":{\"value\":0.1},\"line_color\":{\"value\":\"#d62728\"},\"line_width\":{\"value\":2},\"top\":{\"field\":\"4\"},\"width\":{\"value\":0.14285714285714285},\"x\":{\"field\":\"__x__values\",\"transform\":{\"id\":\"1272\"}}},\"id\":\"1275\",\"type\":\"VBar\"},{\"attributes\":{\"source\":{\"id\":\"1181\"}},\"id\":\"1259\",\"type\":\"CDSView\"},{\"attributes\":{\"label\":{\"value\":\" 4\"},\"renderers\":[{\"id\":\"1276\"}]},\"id\":\"1287\",\"type\":\"LegendItem\"},{\"attributes\":{},\"id\":\"1187\",\"type\":\"DataRange1d\"}],\"root_ids\":[\"1182\"]},\"title\":\"Bokeh Application\",\"version\":\"2.3.2\"}};\n",
       "  var render_items = [{\"docid\":\"c46019aa-82bc-4a49-96e7-8cb445bea434\",\"root_ids\":[\"1182\"],\"roots\":{\"1182\":\"12c8e8ae-d29f-4ffd-b172-990fe98017a6\"}}];\n",
       "  root.Bokeh.embed.embed_items_notebook(docs_json, render_items);\n",
       "\n",
       "  }\n",
       "  if (root.Bokeh !== undefined) {\n",
       "    embed_document(root);\n",
       "  } else {\n",
       "    var attempts = 0;\n",
       "    var timer = setInterval(function(root) {\n",
       "      if (root.Bokeh !== undefined) {\n",
       "        clearInterval(timer);\n",
       "        embed_document(root);\n",
       "      } else {\n",
       "        attempts++;\n",
       "        if (attempts > 100) {\n",
       "          clearInterval(timer);\n",
       "          console.log(\"Bokeh: ERROR: Unable to run BokehJS code because BokehJS library is missing\");\n",
       "        }\n",
       "      }\n",
       "    }, 10, root)\n",
       "  }\n",
       "})(window);"
      ],
      "application/vnd.bokehjs_exec.v0+json": ""
     },
     "metadata": {
      "application/vnd.bokehjs_exec.v0+json": {
       "id": "1182"
      }
     },
     "output_type": "display_data"
    },
    {
     "data": {
      "text/html": [
       "<div style=\"display: table;\"><div style=\"display: table-row;\"><div style=\"display: table-cell;\"><b title=\"bokeh.plotting.figure.Figure\">Figure</b>(</div><div style=\"display: table-cell;\">id&nbsp;=&nbsp;'1182', <span id=\"1349\" style=\"cursor: pointer;\">&hellip;)</span></div></div><div class=\"1348\" style=\"display: none;\"><div style=\"display: table-cell;\"></div><div style=\"display: table-cell;\">above&nbsp;=&nbsp;[],</div></div><div class=\"1348\" style=\"display: none;\"><div style=\"display: table-cell;\"></div><div style=\"display: table-cell;\">align&nbsp;=&nbsp;'start',</div></div><div class=\"1348\" style=\"display: none;\"><div style=\"display: table-cell;\"></div><div style=\"display: table-cell;\">aspect_ratio&nbsp;=&nbsp;None,</div></div><div class=\"1348\" style=\"display: none;\"><div style=\"display: table-cell;\"></div><div style=\"display: table-cell;\">aspect_scale&nbsp;=&nbsp;1,</div></div><div class=\"1348\" style=\"display: none;\"><div style=\"display: table-cell;\"></div><div style=\"display: table-cell;\">background&nbsp;=&nbsp;None,</div></div><div class=\"1348\" style=\"display: none;\"><div style=\"display: table-cell;\"></div><div style=\"display: table-cell;\">background_fill_alpha&nbsp;=&nbsp;1.0,</div></div><div class=\"1348\" style=\"display: none;\"><div style=\"display: table-cell;\"></div><div style=\"display: table-cell;\">background_fill_color&nbsp;=&nbsp;'#ffffff',</div></div><div class=\"1348\" style=\"display: none;\"><div style=\"display: table-cell;\"></div><div style=\"display: table-cell;\">below&nbsp;=&nbsp;[LinearAxis(id='1193', ...)],</div></div><div class=\"1348\" style=\"display: none;\"><div style=\"display: table-cell;\"></div><div style=\"display: table-cell;\">border_fill_alpha&nbsp;=&nbsp;1.0,</div></div><div class=\"1348\" style=\"display: none;\"><div style=\"display: table-cell;\"></div><div style=\"display: table-cell;\">border_fill_color&nbsp;=&nbsp;'#ffffff',</div></div><div class=\"1348\" style=\"display: none;\"><div style=\"display: table-cell;\"></div><div style=\"display: table-cell;\">center&nbsp;=&nbsp;[Grid(id='1196', ...), Grid(id='1200', ...), Legend(id='1232', ...)],</div></div><div class=\"1348\" style=\"display: none;\"><div style=\"display: table-cell;\"></div><div style=\"display: table-cell;\">css_classes&nbsp;=&nbsp;[],</div></div><div class=\"1348\" style=\"display: none;\"><div style=\"display: table-cell;\"></div><div style=\"display: table-cell;\">disabled&nbsp;=&nbsp;False,</div></div><div class=\"1348\" style=\"display: none;\"><div style=\"display: table-cell;\"></div><div style=\"display: table-cell;\">extra_x_ranges&nbsp;=&nbsp;{},</div></div><div class=\"1348\" style=\"display: none;\"><div style=\"display: table-cell;\"></div><div style=\"display: table-cell;\">extra_y_ranges&nbsp;=&nbsp;{},</div></div><div class=\"1348\" style=\"display: none;\"><div style=\"display: table-cell;\"></div><div style=\"display: table-cell;\">frame_height&nbsp;=&nbsp;None,</div></div><div class=\"1348\" style=\"display: none;\"><div style=\"display: table-cell;\"></div><div style=\"display: table-cell;\">frame_width&nbsp;=&nbsp;None,</div></div><div class=\"1348\" style=\"display: none;\"><div style=\"display: table-cell;\"></div><div style=\"display: table-cell;\">height&nbsp;=&nbsp;500,</div></div><div class=\"1348\" style=\"display: none;\"><div style=\"display: table-cell;\"></div><div style=\"display: table-cell;\">height_policy&nbsp;=&nbsp;'auto',</div></div><div class=\"1348\" style=\"display: none;\"><div style=\"display: table-cell;\"></div><div style=\"display: table-cell;\">hidpi&nbsp;=&nbsp;True,</div></div><div class=\"1348\" style=\"display: none;\"><div style=\"display: table-cell;\"></div><div style=\"display: table-cell;\">inner_height&nbsp;=&nbsp;0,</div></div><div class=\"1348\" style=\"display: none;\"><div style=\"display: table-cell;\"></div><div style=\"display: table-cell;\">inner_width&nbsp;=&nbsp;0,</div></div><div class=\"1348\" style=\"display: none;\"><div style=\"display: table-cell;\"></div><div style=\"display: table-cell;\">js_event_callbacks&nbsp;=&nbsp;{},</div></div><div class=\"1348\" style=\"display: none;\"><div style=\"display: table-cell;\"></div><div style=\"display: table-cell;\">js_property_callbacks&nbsp;=&nbsp;{},</div></div><div class=\"1348\" style=\"display: none;\"><div style=\"display: table-cell;\"></div><div style=\"display: table-cell;\">left&nbsp;=&nbsp;[LinearAxis(id='1197', ...)],</div></div><div class=\"1348\" style=\"display: none;\"><div style=\"display: table-cell;\"></div><div style=\"display: table-cell;\">lod_factor&nbsp;=&nbsp;10,</div></div><div class=\"1348\" style=\"display: none;\"><div style=\"display: table-cell;\"></div><div style=\"display: table-cell;\">lod_interval&nbsp;=&nbsp;300,</div></div><div class=\"1348\" style=\"display: none;\"><div style=\"display: table-cell;\"></div><div style=\"display: table-cell;\">lod_threshold&nbsp;=&nbsp;2000,</div></div><div class=\"1348\" style=\"display: none;\"><div style=\"display: table-cell;\"></div><div style=\"display: table-cell;\">lod_timeout&nbsp;=&nbsp;500,</div></div><div class=\"1348\" style=\"display: none;\"><div style=\"display: table-cell;\"></div><div style=\"display: table-cell;\">margin&nbsp;=&nbsp;(0, 0, 0, 0),</div></div><div class=\"1348\" style=\"display: none;\"><div style=\"display: table-cell;\"></div><div style=\"display: table-cell;\">match_aspect&nbsp;=&nbsp;False,</div></div><div class=\"1348\" style=\"display: none;\"><div style=\"display: table-cell;\"></div><div style=\"display: table-cell;\">max_height&nbsp;=&nbsp;None,</div></div><div class=\"1348\" style=\"display: none;\"><div style=\"display: table-cell;\"></div><div style=\"display: table-cell;\">max_width&nbsp;=&nbsp;None,</div></div><div class=\"1348\" style=\"display: none;\"><div style=\"display: table-cell;\"></div><div style=\"display: table-cell;\">min_border&nbsp;=&nbsp;5,</div></div><div class=\"1348\" style=\"display: none;\"><div style=\"display: table-cell;\"></div><div style=\"display: table-cell;\">min_border_bottom&nbsp;=&nbsp;None,</div></div><div class=\"1348\" style=\"display: none;\"><div style=\"display: table-cell;\"></div><div style=\"display: table-cell;\">min_border_left&nbsp;=&nbsp;None,</div></div><div class=\"1348\" style=\"display: none;\"><div style=\"display: table-cell;\"></div><div style=\"display: table-cell;\">min_border_right&nbsp;=&nbsp;None,</div></div><div class=\"1348\" style=\"display: none;\"><div style=\"display: table-cell;\"></div><div style=\"display: table-cell;\">min_border_top&nbsp;=&nbsp;None,</div></div><div class=\"1348\" style=\"display: none;\"><div style=\"display: table-cell;\"></div><div style=\"display: table-cell;\">min_height&nbsp;=&nbsp;None,</div></div><div class=\"1348\" style=\"display: none;\"><div style=\"display: table-cell;\"></div><div style=\"display: table-cell;\">min_width&nbsp;=&nbsp;None,</div></div><div class=\"1348\" style=\"display: none;\"><div style=\"display: table-cell;\"></div><div style=\"display: table-cell;\">name&nbsp;=&nbsp;None,</div></div><div class=\"1348\" style=\"display: none;\"><div style=\"display: table-cell;\"></div><div style=\"display: table-cell;\">outer_height&nbsp;=&nbsp;0,</div></div><div class=\"1348\" style=\"display: none;\"><div style=\"display: table-cell;\"></div><div style=\"display: table-cell;\">outer_width&nbsp;=&nbsp;0,</div></div><div class=\"1348\" style=\"display: none;\"><div style=\"display: table-cell;\"></div><div style=\"display: table-cell;\">outline_line_alpha&nbsp;=&nbsp;1.0,</div></div><div class=\"1348\" style=\"display: none;\"><div style=\"display: table-cell;\"></div><div style=\"display: table-cell;\">outline_line_cap&nbsp;=&nbsp;'butt',</div></div><div class=\"1348\" style=\"display: none;\"><div style=\"display: table-cell;\"></div><div style=\"display: table-cell;\">outline_line_color&nbsp;=&nbsp;'#e5e5e5',</div></div><div class=\"1348\" style=\"display: none;\"><div style=\"display: table-cell;\"></div><div style=\"display: table-cell;\">outline_line_dash&nbsp;=&nbsp;[],</div></div><div class=\"1348\" style=\"display: none;\"><div style=\"display: table-cell;\"></div><div style=\"display: table-cell;\">outline_line_dash_offset&nbsp;=&nbsp;0,</div></div><div class=\"1348\" style=\"display: none;\"><div style=\"display: table-cell;\"></div><div style=\"display: table-cell;\">outline_line_join&nbsp;=&nbsp;'bevel',</div></div><div class=\"1348\" style=\"display: none;\"><div style=\"display: table-cell;\"></div><div style=\"display: table-cell;\">outline_line_width&nbsp;=&nbsp;1,</div></div><div class=\"1348\" style=\"display: none;\"><div style=\"display: table-cell;\"></div><div style=\"display: table-cell;\">output_backend&nbsp;=&nbsp;'webgl',</div></div><div class=\"1348\" style=\"display: none;\"><div style=\"display: table-cell;\"></div><div style=\"display: table-cell;\">renderers&nbsp;=&nbsp;[GlyphRenderer(id='1221', ...), GlyphRenderer(id='1240', ...), GlyphRenderer(id='1258', ...), GlyphRenderer(id='1276', ...)],</div></div><div class=\"1348\" style=\"display: none;\"><div style=\"display: table-cell;\"></div><div style=\"display: table-cell;\">reset_policy&nbsp;=&nbsp;'standard',</div></div><div class=\"1348\" style=\"display: none;\"><div style=\"display: table-cell;\"></div><div style=\"display: table-cell;\">right&nbsp;=&nbsp;[],</div></div><div class=\"1348\" style=\"display: none;\"><div style=\"display: table-cell;\"></div><div style=\"display: table-cell;\">sizing_mode&nbsp;=&nbsp;'fixed',</div></div><div class=\"1348\" style=\"display: none;\"><div style=\"display: table-cell;\"></div><div style=\"display: table-cell;\">subscribed_events&nbsp;=&nbsp;[],</div></div><div class=\"1348\" style=\"display: none;\"><div style=\"display: table-cell;\"></div><div style=\"display: table-cell;\">syncable&nbsp;=&nbsp;True,</div></div><div class=\"1348\" style=\"display: none;\"><div style=\"display: table-cell;\"></div><div style=\"display: table-cell;\">tags&nbsp;=&nbsp;[],</div></div><div class=\"1348\" style=\"display: none;\"><div style=\"display: table-cell;\"></div><div style=\"display: table-cell;\">title&nbsp;=&nbsp;Title(id='1183', ...),</div></div><div class=\"1348\" style=\"display: none;\"><div style=\"display: table-cell;\"></div><div style=\"display: table-cell;\">title_location&nbsp;=&nbsp;'above',</div></div><div class=\"1348\" style=\"display: none;\"><div style=\"display: table-cell;\"></div><div style=\"display: table-cell;\">toolbar&nbsp;=&nbsp;Toolbar(id='1208', ...),</div></div><div class=\"1348\" style=\"display: none;\"><div style=\"display: table-cell;\"></div><div style=\"display: table-cell;\">toolbar_location&nbsp;=&nbsp;'right',</div></div><div class=\"1348\" style=\"display: none;\"><div style=\"display: table-cell;\"></div><div style=\"display: table-cell;\">toolbar_sticky&nbsp;=&nbsp;True,</div></div><div class=\"1348\" style=\"display: none;\"><div style=\"display: table-cell;\"></div><div style=\"display: table-cell;\">visible&nbsp;=&nbsp;True,</div></div><div class=\"1348\" style=\"display: none;\"><div style=\"display: table-cell;\"></div><div style=\"display: table-cell;\">width&nbsp;=&nbsp;1200,</div></div><div class=\"1348\" style=\"display: none;\"><div style=\"display: table-cell;\"></div><div style=\"display: table-cell;\">width_policy&nbsp;=&nbsp;'auto',</div></div><div class=\"1348\" style=\"display: none;\"><div style=\"display: table-cell;\"></div><div style=\"display: table-cell;\">x_range&nbsp;=&nbsp;DataRange1d(id='1185', ...),</div></div><div class=\"1348\" style=\"display: none;\"><div style=\"display: table-cell;\"></div><div style=\"display: table-cell;\">x_scale&nbsp;=&nbsp;LinearScale(id='1189', ...),</div></div><div class=\"1348\" style=\"display: none;\"><div style=\"display: table-cell;\"></div><div style=\"display: table-cell;\">y_range&nbsp;=&nbsp;DataRange1d(id='1187', ...),</div></div><div class=\"1348\" style=\"display: none;\"><div style=\"display: table-cell;\"></div><div style=\"display: table-cell;\">y_scale&nbsp;=&nbsp;LinearScale(id='1191', ...))</div></div></div>\n",
       "<script>\n",
       "(function() {\n",
       "  var expanded = false;\n",
       "  var ellipsis = document.getElementById(\"1349\");\n",
       "  ellipsis.addEventListener(\"click\", function() {\n",
       "    var rows = document.getElementsByClassName(\"1348\");\n",
       "    for (var i = 0; i < rows.length; i++) {\n",
       "      var el = rows[i];\n",
       "      el.style.display = expanded ? \"none\" : \"table-row\";\n",
       "    }\n",
       "    ellipsis.innerHTML = expanded ? \"&hellip;)\" : \"&lsaquo;&lsaquo;&lsaquo;\";\n",
       "    expanded = !expanded;\n",
       "  });\n",
       "})();\n",
       "</script>\n"
      ],
      "text/plain": [
       "Figure(id='1182', ...)"
      ]
     },
     "execution_count": 30,
     "metadata": {},
     "output_type": "execute_result"
    }
   ],
   "source": [
    "df.plot_bokeh.bar(figsize=(1200, 500))"
   ]
  },
  {
   "cell_type": "markdown",
   "metadata": {
    "id": "wm8iteeOnn3O"
   },
   "source": [
    "### 哪些季節比較容易堆積廢棄物?"
   ]
  },
  {
   "cell_type": "code",
   "execution_count": 31,
   "metadata": {
    "id": "iQJbUzB1nuOr"
   },
   "outputs": [
    {
     "data": {
      "text/html": [
       "<div>\n",
       "<style scoped>\n",
       "    .dataframe tbody tr th:only-of-type {\n",
       "        vertical-align: middle;\n",
       "    }\n",
       "\n",
       "    .dataframe tbody tr th {\n",
       "        vertical-align: top;\n",
       "    }\n",
       "\n",
       "    .dataframe thead th {\n",
       "        text-align: right;\n",
       "    }\n",
       "</style>\n",
       "<table border=\"1\" class=\"dataframe\">\n",
       "  <thead>\n",
       "    <tr style=\"text-align: right;\">\n",
       "      <th></th>\n",
       "      <th>LEVEL</th>\n",
       "    </tr>\n",
       "    <tr>\n",
       "      <th>Season</th>\n",
       "      <th></th>\n",
       "    </tr>\n",
       "  </thead>\n",
       "  <tbody>\n",
       "    <tr>\n",
       "      <th>1</th>\n",
       "      <td>5.594937</td>\n",
       "    </tr>\n",
       "    <tr>\n",
       "      <th>2</th>\n",
       "      <td>5.175000</td>\n",
       "    </tr>\n",
       "    <tr>\n",
       "      <th>3</th>\n",
       "      <td>5.537500</td>\n",
       "    </tr>\n",
       "    <tr>\n",
       "      <th>4</th>\n",
       "      <td>5.062500</td>\n",
       "    </tr>\n",
       "  </tbody>\n",
       "</table>\n",
       "</div>"
      ],
      "text/plain": [
       "           LEVEL\n",
       "Season          \n",
       "1       5.594937\n",
       "2       5.175000\n",
       "3       5.537500\n",
       "4       5.062500"
      ]
     },
     "execution_count": 31,
     "metadata": {},
     "output_type": "execute_result"
    }
   ],
   "source": [
    "df = train.groupby('Season')[['LEVEL']].mean()\n",
    "df.head()"
   ]
  },
  {
   "cell_type": "code",
   "execution_count": 32,
   "metadata": {
    "id": "tI60ZV7gsv8q"
   },
   "outputs": [
    {
     "name": "stdout",
     "output_type": "stream",
     "text": [
      "__x__values_original\n"
     ]
    },
    {
     "data": {
      "text/html": [
       "\n",
       "\n",
       "\n",
       "\n",
       "\n",
       "\n",
       "  <div class=\"bk-root\" id=\"914bffb7-68cb-4a6e-b96e-701f55105dcb\" data-root-id=\"1386\"></div>\n"
      ]
     },
     "metadata": {},
     "output_type": "display_data"
    },
    {
     "data": {
      "application/javascript": [
       "(function(root) {\n",
       "  function embed_document(root) {\n",
       "    \n",
       "  var docs_json = {\"62a4da66-6c40-4498-bd06-9a3714ebe42d\":{\"defs\":[],\"roots\":{\"references\":[{\"attributes\":{\"below\":[{\"id\":\"1397\"}],\"center\":[{\"id\":\"1400\"},{\"id\":\"1404\"},{\"id\":\"1437\"}],\"height\":400,\"left\":[{\"id\":\"1401\"}],\"renderers\":[{\"id\":\"1425\"}],\"title\":{\"id\":\"1387\"},\"toolbar\":{\"id\":\"1412\"},\"toolbar_location\":null,\"x_range\":{\"id\":\"1389\"},\"x_scale\":{\"id\":\"1393\"},\"y_range\":{\"id\":\"1391\"},\"y_scale\":{\"id\":\"1395\"}},\"id\":\"1386\",\"subtype\":\"Figure\",\"type\":\"Plot\"},{\"attributes\":{},\"id\":\"1387\",\"type\":\"Title\"},{\"attributes\":{},\"id\":\"1432\",\"type\":\"AllLabels\"},{\"attributes\":{\"label\":{\"field\":\"__x__values_original\"},\"renderers\":[{\"id\":\"1425\"}]},\"id\":\"1438\",\"type\":\"LegendItem\"},{\"attributes\":{\"field\":\"LEVEL_angle\"},\"id\":\"1420\",\"type\":\"CumSum\"},{\"attributes\":{\"callback\":null,\"renderers\":[{\"id\":\"1425\"}],\"tooltips\":[[\"Season\",\"@__x__values_original\"],[\"LEVEL\",\"@{LEVEL}\"]]},\"id\":\"1439\",\"type\":\"HoverTool\"},{\"attributes\":{\"axis_label\":null,\"formatter\":{\"id\":\"1433\"},\"major_label_policy\":{\"id\":\"1432\"},\"ticker\":{\"id\":\"1402\"},\"visible\":false},\"id\":\"1401\",\"type\":\"LinearAxis\"},{\"attributes\":{\"axis_label\":null,\"formatter\":{\"id\":\"1430\"},\"major_label_policy\":{\"id\":\"1429\"},\"ticker\":{\"id\":\"1441\"},\"visible\":false},\"id\":\"1397\",\"type\":\"LinearAxis\"},{\"attributes\":{},\"id\":\"1402\",\"type\":\"BasicTicker\"},{\"attributes\":{},\"id\":\"1433\",\"type\":\"BasicTickFormatter\"},{\"attributes\":{\"axis\":{\"id\":\"1397\"},\"grid_line_color\":null,\"ticker\":null},\"id\":\"1400\",\"type\":\"Grid\"},{\"attributes\":{},\"id\":\"1410\",\"type\":\"HelpTool\"},{\"attributes\":{},\"id\":\"1435\",\"type\":\"UnionRenderers\"},{\"attributes\":{\"data\":{\"LEVEL\":{\"__ndarray__\":\"wvyuFjdhFkAzMzMzM7MUQGZmZmZmJhZAAAAAAABAFEA=\",\"dtype\":\"float64\",\"order\":\"little\",\"shape\":[4]},\"LEVEL_angle\":{\"__ndarray__\":\"/VJv/AJS+j8BQCCZR1j4PzhdJCDXDPo/LsRcm8vQ9z8=\",\"dtype\":\"float64\",\"order\":\"little\",\"shape\":[4]},\"__x__values\":[1,2,3,4],\"__x__values_original\":[1,2,3,4],\"color\":[\"#1f77b4\",\"#ff7f0e\",\"#2ca02c\",\"#d62728\"],\"inner_radius\":[0.0,0.0,0.0,0.0],\"outer_radius\":[0.9,0.9,0.9,0.9]},\"selected\":{\"id\":\"1436\"},\"selection_policy\":{\"id\":\"1435\"}},\"id\":\"1421\",\"type\":\"ColumnDataSource\"},{\"attributes\":{\"field\":\"LEVEL_angle\",\"include_zero\":true},\"id\":\"1419\",\"type\":\"CumSum\"},{\"attributes\":{},\"id\":\"1429\",\"type\":\"AllLabels\"},{\"attributes\":{\"axis\":{\"id\":\"1401\"},\"dimension\":1,\"grid_line_color\":null,\"ticker\":null},\"id\":\"1404\",\"type\":\"Grid\"},{\"attributes\":{},\"id\":\"1393\",\"type\":\"LinearScale\"},{\"attributes\":{},\"id\":\"1436\",\"type\":\"Selection\"},{\"attributes\":{},\"id\":\"1406\",\"type\":\"WheelZoomTool\"},{\"attributes\":{\"end_angle\":{\"expr\":{\"id\":\"1420\"}},\"fill_alpha\":{\"value\":0.1},\"fill_color\":{\"field\":\"color\"},\"inner_radius\":{\"field\":\"inner_radius\"},\"line_alpha\":{\"value\":0.1},\"line_color\":{\"value\":\"white\"},\"line_width\":{\"value\":2},\"outer_radius\":{\"field\":\"outer_radius\"},\"start_angle\":{\"expr\":{\"id\":\"1419\"}},\"x\":{\"value\":0},\"y\":{\"value\":0}},\"id\":\"1424\",\"type\":\"AnnularWedge\"},{\"attributes\":{},\"id\":\"1395\",\"type\":\"LinearScale\"},{\"attributes\":{},\"id\":\"1405\",\"type\":\"PanTool\"},{\"attributes\":{\"overlay\":{\"id\":\"1411\"}},\"id\":\"1407\",\"type\":\"BoxZoomTool\"},{\"attributes\":{},\"id\":\"1408\",\"type\":\"SaveTool\"},{\"attributes\":{\"end\":2,\"start\":-1.65},\"id\":\"1389\",\"type\":\"Range1d\"},{\"attributes\":{\"data_source\":{\"id\":\"1421\"},\"glyph\":{\"id\":\"1423\"},\"hover_glyph\":null,\"muted_glyph\":null,\"nonselection_glyph\":{\"id\":\"1424\"},\"view\":{\"id\":\"1426\"}},\"id\":\"1425\",\"type\":\"GlyphRenderer\"},{\"attributes\":{},\"id\":\"1409\",\"type\":\"ResetTool\"},{\"attributes\":{\"ticks\":[0,1,2,3]},\"id\":\"1441\",\"type\":\"FixedTicker\"},{\"attributes\":{\"bottom_units\":\"screen\",\"fill_alpha\":0.5,\"fill_color\":\"lightgrey\",\"left_units\":\"screen\",\"level\":\"overlay\",\"line_alpha\":1.0,\"line_color\":\"black\",\"line_dash\":[4,4],\"line_width\":2,\"right_units\":\"screen\",\"syncable\":false,\"top_units\":\"screen\"},\"id\":\"1411\",\"type\":\"BoxAnnotation\"},{\"attributes\":{},\"id\":\"1430\",\"type\":\"BasicTickFormatter\"},{\"attributes\":{\"active_multi\":null,\"tools\":[{\"id\":\"1405\"},{\"id\":\"1406\"},{\"id\":\"1407\"},{\"id\":\"1408\"},{\"id\":\"1409\"},{\"id\":\"1410\"},{\"id\":\"1439\"}]},\"id\":\"1412\",\"type\":\"Toolbar\"},{\"attributes\":{\"end_angle\":{\"expr\":{\"id\":\"1420\"}},\"fill_color\":{\"field\":\"color\"},\"inner_radius\":{\"field\":\"inner_radius\"},\"line_color\":{\"value\":\"white\"},\"line_width\":{\"value\":2},\"outer_radius\":{\"field\":\"outer_radius\"},\"start_angle\":{\"expr\":{\"id\":\"1419\"}},\"x\":{\"value\":0},\"y\":{\"value\":0}},\"id\":\"1423\",\"type\":\"AnnularWedge\"},{\"attributes\":{\"end\":1.2,\"start\":-1.2},\"id\":\"1391\",\"type\":\"Range1d\"},{\"attributes\":{\"source\":{\"id\":\"1421\"}},\"id\":\"1426\",\"type\":\"CDSView\"},{\"attributes\":{\"items\":[{\"id\":\"1438\"}]},\"id\":\"1437\",\"type\":\"Legend\"}],\"root_ids\":[\"1386\"]},\"title\":\"Bokeh Application\",\"version\":\"2.3.2\"}};\n",
       "  var render_items = [{\"docid\":\"62a4da66-6c40-4498-bd06-9a3714ebe42d\",\"root_ids\":[\"1386\"],\"roots\":{\"1386\":\"914bffb7-68cb-4a6e-b96e-701f55105dcb\"}}];\n",
       "  root.Bokeh.embed.embed_items_notebook(docs_json, render_items);\n",
       "\n",
       "  }\n",
       "  if (root.Bokeh !== undefined) {\n",
       "    embed_document(root);\n",
       "  } else {\n",
       "    var attempts = 0;\n",
       "    var timer = setInterval(function(root) {\n",
       "      if (root.Bokeh !== undefined) {\n",
       "        clearInterval(timer);\n",
       "        embed_document(root);\n",
       "      } else {\n",
       "        attempts++;\n",
       "        if (attempts > 100) {\n",
       "          clearInterval(timer);\n",
       "          console.log(\"Bokeh: ERROR: Unable to run BokehJS code because BokehJS library is missing\");\n",
       "        }\n",
       "      }\n",
       "    }, 10, root)\n",
       "  }\n",
       "})(window);"
      ],
      "application/vnd.bokehjs_exec.v0+json": ""
     },
     "metadata": {
      "application/vnd.bokehjs_exec.v0+json": {
       "id": "1386"
      }
     },
     "output_type": "display_data"
    },
    {
     "data": {
      "text/html": [
       "<div style=\"display: table;\"><div style=\"display: table-row;\"><div style=\"display: table-cell;\"><b title=\"bokeh.plotting.figure.Figure\">Figure</b>(</div><div style=\"display: table-cell;\">id&nbsp;=&nbsp;'1386', <span id=\"1514\" style=\"cursor: pointer;\">&hellip;)</span></div></div><div class=\"1513\" style=\"display: none;\"><div style=\"display: table-cell;\"></div><div style=\"display: table-cell;\">above&nbsp;=&nbsp;[],</div></div><div class=\"1513\" style=\"display: none;\"><div style=\"display: table-cell;\"></div><div style=\"display: table-cell;\">align&nbsp;=&nbsp;'start',</div></div><div class=\"1513\" style=\"display: none;\"><div style=\"display: table-cell;\"></div><div style=\"display: table-cell;\">aspect_ratio&nbsp;=&nbsp;None,</div></div><div class=\"1513\" style=\"display: none;\"><div style=\"display: table-cell;\"></div><div style=\"display: table-cell;\">aspect_scale&nbsp;=&nbsp;1,</div></div><div class=\"1513\" style=\"display: none;\"><div style=\"display: table-cell;\"></div><div style=\"display: table-cell;\">background&nbsp;=&nbsp;None,</div></div><div class=\"1513\" style=\"display: none;\"><div style=\"display: table-cell;\"></div><div style=\"display: table-cell;\">background_fill_alpha&nbsp;=&nbsp;1.0,</div></div><div class=\"1513\" style=\"display: none;\"><div style=\"display: table-cell;\"></div><div style=\"display: table-cell;\">background_fill_color&nbsp;=&nbsp;'#ffffff',</div></div><div class=\"1513\" style=\"display: none;\"><div style=\"display: table-cell;\"></div><div style=\"display: table-cell;\">below&nbsp;=&nbsp;[LinearAxis(id='1397', ...)],</div></div><div class=\"1513\" style=\"display: none;\"><div style=\"display: table-cell;\"></div><div style=\"display: table-cell;\">border_fill_alpha&nbsp;=&nbsp;1.0,</div></div><div class=\"1513\" style=\"display: none;\"><div style=\"display: table-cell;\"></div><div style=\"display: table-cell;\">border_fill_color&nbsp;=&nbsp;'#ffffff',</div></div><div class=\"1513\" style=\"display: none;\"><div style=\"display: table-cell;\"></div><div style=\"display: table-cell;\">center&nbsp;=&nbsp;[Grid(id='1400', ...), Grid(id='1404', ...), Legend(id='1437', ...)],</div></div><div class=\"1513\" style=\"display: none;\"><div style=\"display: table-cell;\"></div><div style=\"display: table-cell;\">css_classes&nbsp;=&nbsp;[],</div></div><div class=\"1513\" style=\"display: none;\"><div style=\"display: table-cell;\"></div><div style=\"display: table-cell;\">disabled&nbsp;=&nbsp;False,</div></div><div class=\"1513\" style=\"display: none;\"><div style=\"display: table-cell;\"></div><div style=\"display: table-cell;\">extra_x_ranges&nbsp;=&nbsp;{},</div></div><div class=\"1513\" style=\"display: none;\"><div style=\"display: table-cell;\"></div><div style=\"display: table-cell;\">extra_y_ranges&nbsp;=&nbsp;{},</div></div><div class=\"1513\" style=\"display: none;\"><div style=\"display: table-cell;\"></div><div style=\"display: table-cell;\">frame_height&nbsp;=&nbsp;None,</div></div><div class=\"1513\" style=\"display: none;\"><div style=\"display: table-cell;\"></div><div style=\"display: table-cell;\">frame_width&nbsp;=&nbsp;None,</div></div><div class=\"1513\" style=\"display: none;\"><div style=\"display: table-cell;\"></div><div style=\"display: table-cell;\">height&nbsp;=&nbsp;400,</div></div><div class=\"1513\" style=\"display: none;\"><div style=\"display: table-cell;\"></div><div style=\"display: table-cell;\">height_policy&nbsp;=&nbsp;'auto',</div></div><div class=\"1513\" style=\"display: none;\"><div style=\"display: table-cell;\"></div><div style=\"display: table-cell;\">hidpi&nbsp;=&nbsp;True,</div></div><div class=\"1513\" style=\"display: none;\"><div style=\"display: table-cell;\"></div><div style=\"display: table-cell;\">inner_height&nbsp;=&nbsp;0,</div></div><div class=\"1513\" style=\"display: none;\"><div style=\"display: table-cell;\"></div><div style=\"display: table-cell;\">inner_width&nbsp;=&nbsp;0,</div></div><div class=\"1513\" style=\"display: none;\"><div style=\"display: table-cell;\"></div><div style=\"display: table-cell;\">js_event_callbacks&nbsp;=&nbsp;{},</div></div><div class=\"1513\" style=\"display: none;\"><div style=\"display: table-cell;\"></div><div style=\"display: table-cell;\">js_property_callbacks&nbsp;=&nbsp;{},</div></div><div class=\"1513\" style=\"display: none;\"><div style=\"display: table-cell;\"></div><div style=\"display: table-cell;\">left&nbsp;=&nbsp;[LinearAxis(id='1401', ...)],</div></div><div class=\"1513\" style=\"display: none;\"><div style=\"display: table-cell;\"></div><div style=\"display: table-cell;\">lod_factor&nbsp;=&nbsp;10,</div></div><div class=\"1513\" style=\"display: none;\"><div style=\"display: table-cell;\"></div><div style=\"display: table-cell;\">lod_interval&nbsp;=&nbsp;300,</div></div><div class=\"1513\" style=\"display: none;\"><div style=\"display: table-cell;\"></div><div style=\"display: table-cell;\">lod_threshold&nbsp;=&nbsp;2000,</div></div><div class=\"1513\" style=\"display: none;\"><div style=\"display: table-cell;\"></div><div style=\"display: table-cell;\">lod_timeout&nbsp;=&nbsp;500,</div></div><div class=\"1513\" style=\"display: none;\"><div style=\"display: table-cell;\"></div><div style=\"display: table-cell;\">margin&nbsp;=&nbsp;(0, 0, 0, 0),</div></div><div class=\"1513\" style=\"display: none;\"><div style=\"display: table-cell;\"></div><div style=\"display: table-cell;\">match_aspect&nbsp;=&nbsp;False,</div></div><div class=\"1513\" style=\"display: none;\"><div style=\"display: table-cell;\"></div><div style=\"display: table-cell;\">max_height&nbsp;=&nbsp;None,</div></div><div class=\"1513\" style=\"display: none;\"><div style=\"display: table-cell;\"></div><div style=\"display: table-cell;\">max_width&nbsp;=&nbsp;None,</div></div><div class=\"1513\" style=\"display: none;\"><div style=\"display: table-cell;\"></div><div style=\"display: table-cell;\">min_border&nbsp;=&nbsp;5,</div></div><div class=\"1513\" style=\"display: none;\"><div style=\"display: table-cell;\"></div><div style=\"display: table-cell;\">min_border_bottom&nbsp;=&nbsp;None,</div></div><div class=\"1513\" style=\"display: none;\"><div style=\"display: table-cell;\"></div><div style=\"display: table-cell;\">min_border_left&nbsp;=&nbsp;None,</div></div><div class=\"1513\" style=\"display: none;\"><div style=\"display: table-cell;\"></div><div style=\"display: table-cell;\">min_border_right&nbsp;=&nbsp;None,</div></div><div class=\"1513\" style=\"display: none;\"><div style=\"display: table-cell;\"></div><div style=\"display: table-cell;\">min_border_top&nbsp;=&nbsp;None,</div></div><div class=\"1513\" style=\"display: none;\"><div style=\"display: table-cell;\"></div><div style=\"display: table-cell;\">min_height&nbsp;=&nbsp;None,</div></div><div class=\"1513\" style=\"display: none;\"><div style=\"display: table-cell;\"></div><div style=\"display: table-cell;\">min_width&nbsp;=&nbsp;None,</div></div><div class=\"1513\" style=\"display: none;\"><div style=\"display: table-cell;\"></div><div style=\"display: table-cell;\">name&nbsp;=&nbsp;None,</div></div><div class=\"1513\" style=\"display: none;\"><div style=\"display: table-cell;\"></div><div style=\"display: table-cell;\">outer_height&nbsp;=&nbsp;0,</div></div><div class=\"1513\" style=\"display: none;\"><div style=\"display: table-cell;\"></div><div style=\"display: table-cell;\">outer_width&nbsp;=&nbsp;0,</div></div><div class=\"1513\" style=\"display: none;\"><div style=\"display: table-cell;\"></div><div style=\"display: table-cell;\">outline_line_alpha&nbsp;=&nbsp;1.0,</div></div><div class=\"1513\" style=\"display: none;\"><div style=\"display: table-cell;\"></div><div style=\"display: table-cell;\">outline_line_cap&nbsp;=&nbsp;'butt',</div></div><div class=\"1513\" style=\"display: none;\"><div style=\"display: table-cell;\"></div><div style=\"display: table-cell;\">outline_line_color&nbsp;=&nbsp;'#e5e5e5',</div></div><div class=\"1513\" style=\"display: none;\"><div style=\"display: table-cell;\"></div><div style=\"display: table-cell;\">outline_line_dash&nbsp;=&nbsp;[],</div></div><div class=\"1513\" style=\"display: none;\"><div style=\"display: table-cell;\"></div><div style=\"display: table-cell;\">outline_line_dash_offset&nbsp;=&nbsp;0,</div></div><div class=\"1513\" style=\"display: none;\"><div style=\"display: table-cell;\"></div><div style=\"display: table-cell;\">outline_line_join&nbsp;=&nbsp;'bevel',</div></div><div class=\"1513\" style=\"display: none;\"><div style=\"display: table-cell;\"></div><div style=\"display: table-cell;\">outline_line_width&nbsp;=&nbsp;1,</div></div><div class=\"1513\" style=\"display: none;\"><div style=\"display: table-cell;\"></div><div style=\"display: table-cell;\">output_backend&nbsp;=&nbsp;'canvas',</div></div><div class=\"1513\" style=\"display: none;\"><div style=\"display: table-cell;\"></div><div style=\"display: table-cell;\">renderers&nbsp;=&nbsp;[GlyphRenderer(id='1425', ...)],</div></div><div class=\"1513\" style=\"display: none;\"><div style=\"display: table-cell;\"></div><div style=\"display: table-cell;\">reset_policy&nbsp;=&nbsp;'standard',</div></div><div class=\"1513\" style=\"display: none;\"><div style=\"display: table-cell;\"></div><div style=\"display: table-cell;\">right&nbsp;=&nbsp;[],</div></div><div class=\"1513\" style=\"display: none;\"><div style=\"display: table-cell;\"></div><div style=\"display: table-cell;\">sizing_mode&nbsp;=&nbsp;None,</div></div><div class=\"1513\" style=\"display: none;\"><div style=\"display: table-cell;\"></div><div style=\"display: table-cell;\">subscribed_events&nbsp;=&nbsp;[],</div></div><div class=\"1513\" style=\"display: none;\"><div style=\"display: table-cell;\"></div><div style=\"display: table-cell;\">syncable&nbsp;=&nbsp;True,</div></div><div class=\"1513\" style=\"display: none;\"><div style=\"display: table-cell;\"></div><div style=\"display: table-cell;\">tags&nbsp;=&nbsp;[],</div></div><div class=\"1513\" style=\"display: none;\"><div style=\"display: table-cell;\"></div><div style=\"display: table-cell;\">title&nbsp;=&nbsp;Title(id='1387', ...),</div></div><div class=\"1513\" style=\"display: none;\"><div style=\"display: table-cell;\"></div><div style=\"display: table-cell;\">title_location&nbsp;=&nbsp;'above',</div></div><div class=\"1513\" style=\"display: none;\"><div style=\"display: table-cell;\"></div><div style=\"display: table-cell;\">toolbar&nbsp;=&nbsp;Toolbar(id='1412', ...),</div></div><div class=\"1513\" style=\"display: none;\"><div style=\"display: table-cell;\"></div><div style=\"display: table-cell;\">toolbar_location&nbsp;=&nbsp;None,</div></div><div class=\"1513\" style=\"display: none;\"><div style=\"display: table-cell;\"></div><div style=\"display: table-cell;\">toolbar_sticky&nbsp;=&nbsp;True,</div></div><div class=\"1513\" style=\"display: none;\"><div style=\"display: table-cell;\"></div><div style=\"display: table-cell;\">visible&nbsp;=&nbsp;True,</div></div><div class=\"1513\" style=\"display: none;\"><div style=\"display: table-cell;\"></div><div style=\"display: table-cell;\">width&nbsp;=&nbsp;600,</div></div><div class=\"1513\" style=\"display: none;\"><div style=\"display: table-cell;\"></div><div style=\"display: table-cell;\">width_policy&nbsp;=&nbsp;'auto',</div></div><div class=\"1513\" style=\"display: none;\"><div style=\"display: table-cell;\"></div><div style=\"display: table-cell;\">x_range&nbsp;=&nbsp;Range1d(id='1389', ...),</div></div><div class=\"1513\" style=\"display: none;\"><div style=\"display: table-cell;\"></div><div style=\"display: table-cell;\">x_scale&nbsp;=&nbsp;LinearScale(id='1393', ...),</div></div><div class=\"1513\" style=\"display: none;\"><div style=\"display: table-cell;\"></div><div style=\"display: table-cell;\">y_range&nbsp;=&nbsp;Range1d(id='1391', ...),</div></div><div class=\"1513\" style=\"display: none;\"><div style=\"display: table-cell;\"></div><div style=\"display: table-cell;\">y_scale&nbsp;=&nbsp;LinearScale(id='1395', ...))</div></div></div>\n",
       "<script>\n",
       "(function() {\n",
       "  var expanded = false;\n",
       "  var ellipsis = document.getElementById(\"1514\");\n",
       "  ellipsis.addEventListener(\"click\", function() {\n",
       "    var rows = document.getElementsByClassName(\"1513\");\n",
       "    for (var i = 0; i < rows.length; i++) {\n",
       "      var el = rows[i];\n",
       "      el.style.display = expanded ? \"none\" : \"table-row\";\n",
       "    }\n",
       "    ellipsis.innerHTML = expanded ? \"&hellip;)\" : \"&lsaquo;&lsaquo;&lsaquo;\";\n",
       "    expanded = !expanded;\n",
       "  });\n",
       "})();\n",
       "</script>\n"
      ],
      "text/plain": [
       "Figure(id='1386', ...)"
      ]
     },
     "execution_count": 32,
     "metadata": {},
     "output_type": "execute_result"
    }
   ],
   "source": [
    "df.plot_bokeh.pie()"
   ]
  },
  {
   "cell_type": "markdown",
   "metadata": {
    "id": "Op6XED2db45m"
   },
   "source": [
    "### 不同的海岸類型廢棄物會不同嗎?"
   ]
  },
  {
   "cell_type": "code",
   "execution_count": 33,
   "metadata": {
    "id": "dXfNh4HlNewm"
   },
   "outputs": [],
   "source": [
    "import numpy as np"
   ]
  },
  {
   "cell_type": "code",
   "execution_count": 34,
   "metadata": {
    "id": "kqSc7RfnISZ1"
   },
   "outputs": [
    {
     "data": {
      "text/html": [
       "<div>\n",
       "<style scoped>\n",
       "    .dataframe tbody tr th:only-of-type {\n",
       "        vertical-align: middle;\n",
       "    }\n",
       "\n",
       "    .dataframe tbody tr th {\n",
       "        vertical-align: top;\n",
       "    }\n",
       "\n",
       "    .dataframe thead th {\n",
       "        text-align: right;\n",
       "    }\n",
       "</style>\n",
       "<table border=\"1\" class=\"dataframe\">\n",
       "  <thead>\n",
       "    <tr style=\"text-align: right;\">\n",
       "      <th></th>\n",
       "      <th>Station</th>\n",
       "      <th>Season</th>\n",
       "      <th>County</th>\n",
       "      <th>Location</th>\n",
       "      <th>Lat</th>\n",
       "      <th>Lon</th>\n",
       "      <th>縣市</th>\n",
       "      <th>海岸段</th>\n",
       "      <th>Region</th>\n",
       "      <th>Seat</th>\n",
       "      <th>...</th>\n",
       "      <th>Glass jar</th>\n",
       "      <th>Metal</th>\n",
       "      <th>Paper</th>\n",
       "      <th>Others</th>\n",
       "      <th>LEVEL</th>\n",
       "      <th>shape_1</th>\n",
       "      <th>shape_2</th>\n",
       "      <th>shape_3</th>\n",
       "      <th>Lat_std</th>\n",
       "      <th>Lon_std</th>\n",
       "    </tr>\n",
       "  </thead>\n",
       "  <tbody>\n",
       "    <tr>\n",
       "      <th>0</th>\n",
       "      <td>E02</td>\n",
       "      <td>1</td>\n",
       "      <td>宜蘭縣</td>\n",
       "      <td>大溪</td>\n",
       "      <td>24.92528</td>\n",
       "      <td>121.88569</td>\n",
       "      <td>16</td>\n",
       "      <td>5</td>\n",
       "      <td>1</td>\n",
       "      <td>4</td>\n",
       "      <td>...</td>\n",
       "      <td>0</td>\n",
       "      <td>0</td>\n",
       "      <td>0</td>\n",
       "      <td>0</td>\n",
       "      <td>2</td>\n",
       "      <td>0</td>\n",
       "      <td>1</td>\n",
       "      <td>0</td>\n",
       "      <td>1.209991</td>\n",
       "      <td>1.559830</td>\n",
       "    </tr>\n",
       "    <tr>\n",
       "      <th>1</th>\n",
       "      <td>E02</td>\n",
       "      <td>2</td>\n",
       "      <td>宜蘭縣</td>\n",
       "      <td>大溪</td>\n",
       "      <td>24.92528</td>\n",
       "      <td>121.88569</td>\n",
       "      <td>16</td>\n",
       "      <td>5</td>\n",
       "      <td>1</td>\n",
       "      <td>4</td>\n",
       "      <td>...</td>\n",
       "      <td>0</td>\n",
       "      <td>0</td>\n",
       "      <td>0</td>\n",
       "      <td>0</td>\n",
       "      <td>5</td>\n",
       "      <td>0</td>\n",
       "      <td>1</td>\n",
       "      <td>0</td>\n",
       "      <td>1.209991</td>\n",
       "      <td>1.559830</td>\n",
       "    </tr>\n",
       "    <tr>\n",
       "      <th>2</th>\n",
       "      <td>E02</td>\n",
       "      <td>3</td>\n",
       "      <td>宜蘭縣</td>\n",
       "      <td>大溪</td>\n",
       "      <td>24.92528</td>\n",
       "      <td>121.88569</td>\n",
       "      <td>16</td>\n",
       "      <td>5</td>\n",
       "      <td>1</td>\n",
       "      <td>4</td>\n",
       "      <td>...</td>\n",
       "      <td>1</td>\n",
       "      <td>0</td>\n",
       "      <td>0</td>\n",
       "      <td>0</td>\n",
       "      <td>2</td>\n",
       "      <td>0</td>\n",
       "      <td>1</td>\n",
       "      <td>0</td>\n",
       "      <td>1.209991</td>\n",
       "      <td>1.559830</td>\n",
       "    </tr>\n",
       "    <tr>\n",
       "      <th>3</th>\n",
       "      <td>E02</td>\n",
       "      <td>4</td>\n",
       "      <td>宜蘭縣</td>\n",
       "      <td>大溪</td>\n",
       "      <td>24.92528</td>\n",
       "      <td>121.88569</td>\n",
       "      <td>16</td>\n",
       "      <td>5</td>\n",
       "      <td>1</td>\n",
       "      <td>4</td>\n",
       "      <td>...</td>\n",
       "      <td>0</td>\n",
       "      <td>0</td>\n",
       "      <td>0</td>\n",
       "      <td>0</td>\n",
       "      <td>1</td>\n",
       "      <td>0</td>\n",
       "      <td>1</td>\n",
       "      <td>0</td>\n",
       "      <td>1.209991</td>\n",
       "      <td>1.559830</td>\n",
       "    </tr>\n",
       "    <tr>\n",
       "      <th>4</th>\n",
       "      <td>E03</td>\n",
       "      <td>1</td>\n",
       "      <td>宜蘭縣</td>\n",
       "      <td>頭城</td>\n",
       "      <td>24.85730</td>\n",
       "      <td>121.83342</td>\n",
       "      <td>16</td>\n",
       "      <td>5</td>\n",
       "      <td>1</td>\n",
       "      <td>4</td>\n",
       "      <td>...</td>\n",
       "      <td>0</td>\n",
       "      <td>0</td>\n",
       "      <td>0</td>\n",
       "      <td>0</td>\n",
       "      <td>5</td>\n",
       "      <td>1</td>\n",
       "      <td>0</td>\n",
       "      <td>0</td>\n",
       "      <td>1.143786</td>\n",
       "      <td>1.472527</td>\n",
       "    </tr>\n",
       "  </tbody>\n",
       "</table>\n",
       "<p>5 rows × 39 columns</p>\n",
       "</div>"
      ],
      "text/plain": [
       "  Station  Season County Location       Lat        Lon  縣市  海岸段  Region  Seat  \\\n",
       "0     E02       1    宜蘭縣       大溪  24.92528  121.88569  16    5       1     4   \n",
       "1     E02       2    宜蘭縣       大溪  24.92528  121.88569  16    5       1     4   \n",
       "2     E02       3    宜蘭縣       大溪  24.92528  121.88569  16    5       1     4   \n",
       "3     E02       4    宜蘭縣       大溪  24.92528  121.88569  16    5       1     4   \n",
       "4     E03       1    宜蘭縣       頭城  24.85730  121.83342  16    5       1     4   \n",
       "\n",
       "   ...  Glass jar  Metal  Paper  Others  LEVEL  shape_1  shape_2  shape_3  \\\n",
       "0  ...          0      0      0       0      2        0        1        0   \n",
       "1  ...          0      0      0       0      5        0        1        0   \n",
       "2  ...          1      0      0       0      2        0        1        0   \n",
       "3  ...          0      0      0       0      1        0        1        0   \n",
       "4  ...          0      0      0       0      5        1        0        0   \n",
       "\n",
       "    Lat_std   Lon_std  \n",
       "0  1.209991  1.559830  \n",
       "1  1.209991  1.559830  \n",
       "2  1.209991  1.559830  \n",
       "3  1.209991  1.559830  \n",
       "4  1.143786  1.472527  \n",
       "\n",
       "[5 rows x 39 columns]"
      ]
     },
     "execution_count": 34,
     "metadata": {},
     "output_type": "execute_result"
    }
   ],
   "source": [
    "train.head()"
   ]
  },
  {
   "cell_type": "code",
   "execution_count": 35,
   "metadata": {
    "id": "OkLvHdmPDN1v"
   },
   "outputs": [
    {
     "data": {
      "text/html": [
       "<div>\n",
       "<style scoped>\n",
       "    .dataframe tbody tr th:only-of-type {\n",
       "        vertical-align: middle;\n",
       "    }\n",
       "\n",
       "    .dataframe tbody tr th {\n",
       "        vertical-align: top;\n",
       "    }\n",
       "\n",
       "    .dataframe thead th {\n",
       "        text-align: right;\n",
       "    }\n",
       "</style>\n",
       "<table border=\"1\" class=\"dataframe\">\n",
       "  <thead>\n",
       "    <tr style=\"text-align: right;\">\n",
       "      <th></th>\n",
       "      <th>Station</th>\n",
       "      <th>Season</th>\n",
       "      <th>County</th>\n",
       "      <th>Location</th>\n",
       "      <th>Lat</th>\n",
       "      <th>Lon</th>\n",
       "      <th>縣市</th>\n",
       "      <th>海岸段</th>\n",
       "      <th>Region</th>\n",
       "      <th>Seat</th>\n",
       "      <th>...</th>\n",
       "      <th>Metal</th>\n",
       "      <th>Paper</th>\n",
       "      <th>Others</th>\n",
       "      <th>LEVEL</th>\n",
       "      <th>shape_1</th>\n",
       "      <th>shape_2</th>\n",
       "      <th>shape_3</th>\n",
       "      <th>Lat_std</th>\n",
       "      <th>Lon_std</th>\n",
       "      <th>Shore_type</th>\n",
       "    </tr>\n",
       "  </thead>\n",
       "  <tbody>\n",
       "    <tr>\n",
       "      <th>0</th>\n",
       "      <td>E02</td>\n",
       "      <td>1</td>\n",
       "      <td>宜蘭縣</td>\n",
       "      <td>大溪</td>\n",
       "      <td>24.92528</td>\n",
       "      <td>121.88569</td>\n",
       "      <td>16</td>\n",
       "      <td>5</td>\n",
       "      <td>1</td>\n",
       "      <td>4</td>\n",
       "      <td>...</td>\n",
       "      <td>0</td>\n",
       "      <td>0</td>\n",
       "      <td>0</td>\n",
       "      <td>2</td>\n",
       "      <td>0</td>\n",
       "      <td>1</td>\n",
       "      <td>0</td>\n",
       "      <td>1.209991</td>\n",
       "      <td>1.559830</td>\n",
       "      <td>3暴露岩盤_7開闊潮間帶</td>\n",
       "    </tr>\n",
       "    <tr>\n",
       "      <th>1</th>\n",
       "      <td>E02</td>\n",
       "      <td>2</td>\n",
       "      <td>宜蘭縣</td>\n",
       "      <td>大溪</td>\n",
       "      <td>24.92528</td>\n",
       "      <td>121.88569</td>\n",
       "      <td>16</td>\n",
       "      <td>5</td>\n",
       "      <td>1</td>\n",
       "      <td>4</td>\n",
       "      <td>...</td>\n",
       "      <td>0</td>\n",
       "      <td>0</td>\n",
       "      <td>0</td>\n",
       "      <td>5</td>\n",
       "      <td>0</td>\n",
       "      <td>1</td>\n",
       "      <td>0</td>\n",
       "      <td>1.209991</td>\n",
       "      <td>1.559830</td>\n",
       "      <td>3暴露岩盤</td>\n",
       "    </tr>\n",
       "    <tr>\n",
       "      <th>2</th>\n",
       "      <td>E02</td>\n",
       "      <td>3</td>\n",
       "      <td>宜蘭縣</td>\n",
       "      <td>大溪</td>\n",
       "      <td>24.92528</td>\n",
       "      <td>121.88569</td>\n",
       "      <td>16</td>\n",
       "      <td>5</td>\n",
       "      <td>1</td>\n",
       "      <td>4</td>\n",
       "      <td>...</td>\n",
       "      <td>0</td>\n",
       "      <td>0</td>\n",
       "      <td>0</td>\n",
       "      <td>2</td>\n",
       "      <td>0</td>\n",
       "      <td>1</td>\n",
       "      <td>0</td>\n",
       "      <td>1.209991</td>\n",
       "      <td>1.559830</td>\n",
       "      <td>3暴露岩盤</td>\n",
       "    </tr>\n",
       "    <tr>\n",
       "      <th>3</th>\n",
       "      <td>E02</td>\n",
       "      <td>4</td>\n",
       "      <td>宜蘭縣</td>\n",
       "      <td>大溪</td>\n",
       "      <td>24.92528</td>\n",
       "      <td>121.88569</td>\n",
       "      <td>16</td>\n",
       "      <td>5</td>\n",
       "      <td>1</td>\n",
       "      <td>4</td>\n",
       "      <td>...</td>\n",
       "      <td>0</td>\n",
       "      <td>0</td>\n",
       "      <td>0</td>\n",
       "      <td>1</td>\n",
       "      <td>0</td>\n",
       "      <td>1</td>\n",
       "      <td>0</td>\n",
       "      <td>1.209991</td>\n",
       "      <td>1.559830</td>\n",
       "      <td>3暴露岩盤_7開闊潮間帶</td>\n",
       "    </tr>\n",
       "    <tr>\n",
       "      <th>4</th>\n",
       "      <td>E03</td>\n",
       "      <td>1</td>\n",
       "      <td>宜蘭縣</td>\n",
       "      <td>頭城</td>\n",
       "      <td>24.85730</td>\n",
       "      <td>121.83342</td>\n",
       "      <td>16</td>\n",
       "      <td>5</td>\n",
       "      <td>1</td>\n",
       "      <td>4</td>\n",
       "      <td>...</td>\n",
       "      <td>0</td>\n",
       "      <td>0</td>\n",
       "      <td>0</td>\n",
       "      <td>5</td>\n",
       "      <td>1</td>\n",
       "      <td>0</td>\n",
       "      <td>0</td>\n",
       "      <td>1.143786</td>\n",
       "      <td>1.472527</td>\n",
       "      <td>4沙灘</td>\n",
       "    </tr>\n",
       "  </tbody>\n",
       "</table>\n",
       "<p>5 rows × 40 columns</p>\n",
       "</div>"
      ],
      "text/plain": [
       "  Station  Season County Location       Lat        Lon  縣市  海岸段  Region  Seat  \\\n",
       "0     E02       1    宜蘭縣       大溪  24.92528  121.88569  16    5       1     4   \n",
       "1     E02       2    宜蘭縣       大溪  24.92528  121.88569  16    5       1     4   \n",
       "2     E02       3    宜蘭縣       大溪  24.92528  121.88569  16    5       1     4   \n",
       "3     E02       4    宜蘭縣       大溪  24.92528  121.88569  16    5       1     4   \n",
       "4     E03       1    宜蘭縣       頭城  24.85730  121.83342  16    5       1     4   \n",
       "\n",
       "   ...  Metal  Paper  Others  LEVEL  shape_1  shape_2  shape_3   Lat_std  \\\n",
       "0  ...      0      0       0      2        0        1        0  1.209991   \n",
       "1  ...      0      0       0      5        0        1        0  1.209991   \n",
       "2  ...      0      0       0      2        0        1        0  1.209991   \n",
       "3  ...      0      0       0      1        0        1        0  1.209991   \n",
       "4  ...      0      0       0      5        1        0        0  1.143786   \n",
       "\n",
       "    Lon_std    Shore_type  \n",
       "0  1.559830  3暴露岩盤_7開闊潮間帶  \n",
       "1  1.559830         3暴露岩盤  \n",
       "2  1.559830         3暴露岩盤  \n",
       "3  1.559830  3暴露岩盤_7開闊潮間帶  \n",
       "4  1.472527           4沙灘  \n",
       "\n",
       "[5 rows x 40 columns]"
      ]
     },
     "execution_count": 35,
     "metadata": {},
     "output_type": "execute_result"
    }
   ],
   "source": [
    "def concat_shore(x):\n",
    "  s_types_index = np.where(x.to_numpy() == 1)[0]\n",
    "  s_types = np.array(x.index)[s_types_index]\n",
    "  return '_'.join(list(s_types))\n",
    "\n",
    "train['Shore_type'] = train[shore_type].apply(concat_shore, axis=1)\n",
    "train.head()"
   ]
  },
  {
   "cell_type": "code",
   "execution_count": 36,
   "metadata": {
    "id": "13h-moQpHiwz"
   },
   "outputs": [
    {
     "data": {
      "text/html": [
       "<div>\n",
       "<style scoped>\n",
       "    .dataframe tbody tr th:only-of-type {\n",
       "        vertical-align: middle;\n",
       "    }\n",
       "\n",
       "    .dataframe tbody tr th {\n",
       "        vertical-align: top;\n",
       "    }\n",
       "\n",
       "    .dataframe thead th {\n",
       "        text-align: right;\n",
       "    }\n",
       "</style>\n",
       "<table border=\"1\" class=\"dataframe\">\n",
       "  <thead>\n",
       "    <tr style=\"text-align: right;\">\n",
       "      <th></th>\n",
       "      <th>1暴露岩岸</th>\n",
       "      <th>2暴露人造結構物</th>\n",
       "      <th>3暴露岩盤</th>\n",
       "      <th>4沙灘</th>\n",
       "      <th>5砂礫混合灘</th>\n",
       "      <th>6礫石灘</th>\n",
       "      <th>7開闊潮間帶</th>\n",
       "      <th>8遮蔽岩岸</th>\n",
       "      <th>9遮蔽潮間帶</th>\n",
       "      <th>10遮蔽濕地</th>\n",
       "    </tr>\n",
       "  </thead>\n",
       "  <tbody>\n",
       "    <tr>\n",
       "      <th>0</th>\n",
       "      <td>0.0</td>\n",
       "      <td>0.0</td>\n",
       "      <td>1.0</td>\n",
       "      <td>0.0</td>\n",
       "      <td>0.0</td>\n",
       "      <td>0.0</td>\n",
       "      <td>1.0</td>\n",
       "      <td>0.0</td>\n",
       "      <td>0.0</td>\n",
       "      <td>0.0</td>\n",
       "    </tr>\n",
       "    <tr>\n",
       "      <th>1</th>\n",
       "      <td>0.0</td>\n",
       "      <td>0.0</td>\n",
       "      <td>1.0</td>\n",
       "      <td>0.0</td>\n",
       "      <td>0.0</td>\n",
       "      <td>0.0</td>\n",
       "      <td>0.0</td>\n",
       "      <td>0.0</td>\n",
       "      <td>0.0</td>\n",
       "      <td>0.0</td>\n",
       "    </tr>\n",
       "    <tr>\n",
       "      <th>2</th>\n",
       "      <td>0.0</td>\n",
       "      <td>0.0</td>\n",
       "      <td>1.0</td>\n",
       "      <td>0.0</td>\n",
       "      <td>0.0</td>\n",
       "      <td>0.0</td>\n",
       "      <td>0.0</td>\n",
       "      <td>0.0</td>\n",
       "      <td>0.0</td>\n",
       "      <td>0.0</td>\n",
       "    </tr>\n",
       "  </tbody>\n",
       "</table>\n",
       "</div>"
      ],
      "text/plain": [
       "   1暴露岩岸  2暴露人造結構物  3暴露岩盤  4沙灘  5砂礫混合灘  6礫石灘  7開闊潮間帶  8遮蔽岩岸  9遮蔽潮間帶  10遮蔽濕地\n",
       "0    0.0       0.0    1.0  0.0     0.0   0.0     1.0    0.0     0.0     0.0\n",
       "1    0.0       0.0    1.0  0.0     0.0   0.0     0.0    0.0     0.0     0.0\n",
       "2    0.0       0.0    1.0  0.0     0.0   0.0     0.0    0.0     0.0     0.0"
      ]
     },
     "metadata": {},
     "output_type": "display_data"
    },
    {
     "name": "stdout",
     "output_type": "stream",
     "text": [
      "--------------------x---------------------\n"
     ]
    },
    {
     "data": {
      "text/plain": [
       "1暴露岩岸       0.0\n",
       "2暴露人造結構物    0.0\n",
       "3暴露岩盤       1.0\n",
       "4沙灘         0.0\n",
       "5砂礫混合灘      0.0\n",
       "6礫石灘        0.0\n",
       "7開闊潮間帶      1.0\n",
       "8遮蔽岩岸       0.0\n",
       "9遮蔽潮間帶      0.0\n",
       "10遮蔽濕地      0.0\n",
       "Name: 0, dtype: float64"
      ]
     },
     "metadata": {},
     "output_type": "display_data"
    },
    {
     "name": "stdout",
     "output_type": "stream",
     "text": [
      "\n",
      " ---------------x.to_numpy()---------------\n"
     ]
    },
    {
     "data": {
      "text/plain": [
       "array([0., 0., 1., 0., 0., 0., 1., 0., 0., 0.])"
      ]
     },
     "metadata": {},
     "output_type": "display_data"
    },
    {
     "name": "stdout",
     "output_type": "stream",
     "text": [
      "\n",
      " ------------x.to_numpy() == 1-------------\n"
     ]
    },
    {
     "data": {
      "text/plain": [
       "array([False, False,  True, False, False, False,  True, False, False,\n",
       "       False])"
      ]
     },
     "metadata": {},
     "output_type": "display_data"
    },
    {
     "name": "stdout",
     "output_type": "stream",
     "text": [
      "\n",
      " -------np.where(x.to_numpy() == 1)--------\n"
     ]
    },
    {
     "data": {
      "text/plain": [
       "(array([2, 6], dtype=int64),)"
      ]
     },
     "metadata": {},
     "output_type": "display_data"
    },
    {
     "name": "stdout",
     "output_type": "stream",
     "text": [
      "\n",
      " s_types_index = np.where(x.to_numpy() == 1)[0]\n"
     ]
    },
    {
     "data": {
      "text/plain": [
       "array([2, 6], dtype=int64)"
      ]
     },
     "metadata": {},
     "output_type": "display_data"
    },
    {
     "name": "stdout",
     "output_type": "stream",
     "text": [
      "\n",
      " ------------np.array(x.index)-------------\n"
     ]
    },
    {
     "data": {
      "text/plain": [
       "array(['1暴露岩岸', '2暴露人造結構物', '3暴露岩盤', '4沙灘', '5砂礫混合灘', '6礫石灘', '7開闊潮間帶',\n",
       "       '8遮蔽岩岸', '9遮蔽潮間帶', '10遮蔽濕地'], dtype=object)"
      ]
     },
     "metadata": {},
     "output_type": "display_data"
    },
    {
     "name": "stdout",
     "output_type": "stream",
     "text": [
      "\n",
      " s_types = np.array(x.index)[s_types_index]\n"
     ]
    },
    {
     "data": {
      "text/plain": [
       "array(['3暴露岩盤', '7開闊潮間帶'], dtype=object)"
      ]
     },
     "metadata": {},
     "output_type": "display_data"
    },
    {
     "name": "stdout",
     "output_type": "stream",
     "text": [
      "\n",
      " --------------list(s_types)---------------\n"
     ]
    },
    {
     "data": {
      "text/plain": [
       "['3暴露岩盤', '7開闊潮間帶']"
      ]
     },
     "metadata": {},
     "output_type": "display_data"
    },
    {
     "name": "stdout",
     "output_type": "stream",
     "text": [
      "\n",
      " ---------'_'.join(list(s_types))----------\n"
     ]
    },
    {
     "data": {
      "text/plain": [
       "'3暴露岩盤_7開闊潮間帶'"
      ]
     },
     "metadata": {},
     "output_type": "display_data"
    },
    {
     "name": "stdout",
     "output_type": "stream",
     "text": [
      "\n",
      " ==================================================== \n",
      "\n",
      "--------------------x---------------------\n"
     ]
    },
    {
     "data": {
      "text/plain": [
       "1暴露岩岸       0.0\n",
       "2暴露人造結構物    0.0\n",
       "3暴露岩盤       1.0\n",
       "4沙灘         0.0\n",
       "5砂礫混合灘      0.0\n",
       "6礫石灘        0.0\n",
       "7開闊潮間帶      0.0\n",
       "8遮蔽岩岸       0.0\n",
       "9遮蔽潮間帶      0.0\n",
       "10遮蔽濕地      0.0\n",
       "Name: 1, dtype: float64"
      ]
     },
     "metadata": {},
     "output_type": "display_data"
    },
    {
     "name": "stdout",
     "output_type": "stream",
     "text": [
      "\n",
      " ---------------x.to_numpy()---------------\n"
     ]
    },
    {
     "data": {
      "text/plain": [
       "array([0., 0., 1., 0., 0., 0., 0., 0., 0., 0.])"
      ]
     },
     "metadata": {},
     "output_type": "display_data"
    },
    {
     "name": "stdout",
     "output_type": "stream",
     "text": [
      "\n",
      " ------------x.to_numpy() == 1-------------\n"
     ]
    },
    {
     "data": {
      "text/plain": [
       "array([False, False,  True, False, False, False, False, False, False,\n",
       "       False])"
      ]
     },
     "metadata": {},
     "output_type": "display_data"
    },
    {
     "name": "stdout",
     "output_type": "stream",
     "text": [
      "\n",
      " -------np.where(x.to_numpy() == 1)--------\n"
     ]
    },
    {
     "data": {
      "text/plain": [
       "(array([2], dtype=int64),)"
      ]
     },
     "metadata": {},
     "output_type": "display_data"
    },
    {
     "name": "stdout",
     "output_type": "stream",
     "text": [
      "\n",
      " s_types_index = np.where(x.to_numpy() == 1)[0]\n"
     ]
    },
    {
     "data": {
      "text/plain": [
       "array([2], dtype=int64)"
      ]
     },
     "metadata": {},
     "output_type": "display_data"
    },
    {
     "name": "stdout",
     "output_type": "stream",
     "text": [
      "\n",
      " ------------np.array(x.index)-------------\n"
     ]
    },
    {
     "data": {
      "text/plain": [
       "array(['1暴露岩岸', '2暴露人造結構物', '3暴露岩盤', '4沙灘', '5砂礫混合灘', '6礫石灘', '7開闊潮間帶',\n",
       "       '8遮蔽岩岸', '9遮蔽潮間帶', '10遮蔽濕地'], dtype=object)"
      ]
     },
     "metadata": {},
     "output_type": "display_data"
    },
    {
     "name": "stdout",
     "output_type": "stream",
     "text": [
      "\n",
      " s_types = np.array(x.index)[s_types_index]\n"
     ]
    },
    {
     "data": {
      "text/plain": [
       "array(['3暴露岩盤'], dtype=object)"
      ]
     },
     "metadata": {},
     "output_type": "display_data"
    },
    {
     "name": "stdout",
     "output_type": "stream",
     "text": [
      "\n",
      " --------------list(s_types)---------------\n"
     ]
    },
    {
     "data": {
      "text/plain": [
       "['3暴露岩盤']"
      ]
     },
     "metadata": {},
     "output_type": "display_data"
    },
    {
     "name": "stdout",
     "output_type": "stream",
     "text": [
      "\n",
      " ---------'_'.join(list(s_types))----------\n"
     ]
    },
    {
     "data": {
      "text/plain": [
       "'3暴露岩盤'"
      ]
     },
     "metadata": {},
     "output_type": "display_data"
    },
    {
     "name": "stdout",
     "output_type": "stream",
     "text": [
      "\n",
      " ==================================================== \n",
      "\n",
      "--------------------x---------------------\n"
     ]
    },
    {
     "data": {
      "text/plain": [
       "1暴露岩岸       0.0\n",
       "2暴露人造結構物    0.0\n",
       "3暴露岩盤       1.0\n",
       "4沙灘         0.0\n",
       "5砂礫混合灘      0.0\n",
       "6礫石灘        0.0\n",
       "7開闊潮間帶      0.0\n",
       "8遮蔽岩岸       0.0\n",
       "9遮蔽潮間帶      0.0\n",
       "10遮蔽濕地      0.0\n",
       "Name: 2, dtype: float64"
      ]
     },
     "metadata": {},
     "output_type": "display_data"
    },
    {
     "name": "stdout",
     "output_type": "stream",
     "text": [
      "\n",
      " ---------------x.to_numpy()---------------\n"
     ]
    },
    {
     "data": {
      "text/plain": [
       "array([0., 0., 1., 0., 0., 0., 0., 0., 0., 0.])"
      ]
     },
     "metadata": {},
     "output_type": "display_data"
    },
    {
     "name": "stdout",
     "output_type": "stream",
     "text": [
      "\n",
      " ------------x.to_numpy() == 1-------------\n"
     ]
    },
    {
     "data": {
      "text/plain": [
       "array([False, False,  True, False, False, False, False, False, False,\n",
       "       False])"
      ]
     },
     "metadata": {},
     "output_type": "display_data"
    },
    {
     "name": "stdout",
     "output_type": "stream",
     "text": [
      "\n",
      " -------np.where(x.to_numpy() == 1)--------\n"
     ]
    },
    {
     "data": {
      "text/plain": [
       "(array([2], dtype=int64),)"
      ]
     },
     "metadata": {},
     "output_type": "display_data"
    },
    {
     "name": "stdout",
     "output_type": "stream",
     "text": [
      "\n",
      " s_types_index = np.where(x.to_numpy() == 1)[0]\n"
     ]
    },
    {
     "data": {
      "text/plain": [
       "array([2], dtype=int64)"
      ]
     },
     "metadata": {},
     "output_type": "display_data"
    },
    {
     "name": "stdout",
     "output_type": "stream",
     "text": [
      "\n",
      " ------------np.array(x.index)-------------\n"
     ]
    },
    {
     "data": {
      "text/plain": [
       "array(['1暴露岩岸', '2暴露人造結構物', '3暴露岩盤', '4沙灘', '5砂礫混合灘', '6礫石灘', '7開闊潮間帶',\n",
       "       '8遮蔽岩岸', '9遮蔽潮間帶', '10遮蔽濕地'], dtype=object)"
      ]
     },
     "metadata": {},
     "output_type": "display_data"
    },
    {
     "name": "stdout",
     "output_type": "stream",
     "text": [
      "\n",
      " s_types = np.array(x.index)[s_types_index]\n"
     ]
    },
    {
     "data": {
      "text/plain": [
       "array(['3暴露岩盤'], dtype=object)"
      ]
     },
     "metadata": {},
     "output_type": "display_data"
    },
    {
     "name": "stdout",
     "output_type": "stream",
     "text": [
      "\n",
      " --------------list(s_types)---------------\n"
     ]
    },
    {
     "data": {
      "text/plain": [
       "['3暴露岩盤']"
      ]
     },
     "metadata": {},
     "output_type": "display_data"
    },
    {
     "name": "stdout",
     "output_type": "stream",
     "text": [
      "\n",
      " ---------'_'.join(list(s_types))----------\n"
     ]
    },
    {
     "data": {
      "text/plain": [
       "'3暴露岩盤'"
      ]
     },
     "metadata": {},
     "output_type": "display_data"
    },
    {
     "name": "stdout",
     "output_type": "stream",
     "text": [
      "\n",
      " ==================================================== \n",
      "\n"
     ]
    },
    {
     "data": {
      "text/plain": [
       "0    3暴露岩盤_7開闊潮間帶\n",
       "1           3暴露岩盤\n",
       "2           3暴露岩盤\n",
       "dtype: object"
      ]
     },
     "execution_count": 36,
     "metadata": {},
     "output_type": "execute_result"
    }
   ],
   "source": [
    "def concat_shore_demo(x):\n",
    "  print('x'.center(42, '-'))\n",
    "  display(x)\n",
    "  print('\\n','x.to_numpy()'.center(42, '-'))\n",
    "  display(x.to_numpy())\n",
    "  print('\\n','x.to_numpy() == 1'.center(42, '-'))\n",
    "  display(x.to_numpy() == 1)\n",
    "  print('\\n','np.where(x.to_numpy() == 1)'.center(42, '-'))\n",
    "  display(np.where(x.to_numpy() == 1))\n",
    "  \n",
    "  \n",
    "  s_types_index = np.where(x.to_numpy() == 1)[0]\n",
    "\n",
    "  print('\\n','s_types_index = np.where(x.to_numpy() == 1)[0]'.center(42, '-'))\n",
    "  display(s_types_index)\n",
    "  print('\\n','np.array(x.index)'.center(42, '-'))\n",
    "  display(np.array(x.index))\n",
    "  \n",
    "\n",
    "  s_types = np.array(x.index)[s_types_index]\n",
    "\n",
    "  print('\\n','s_types = np.array(x.index)[s_types_index]'.center(42, '-'))\n",
    "  display(s_types)\n",
    "  print('\\n','list(s_types)'.center(42, '-'))\n",
    "  display(list(s_types))\n",
    "  print('\\n',\"'_'.join(list(s_types))\".center(42, '-'))\n",
    "  display('_'.join(list(s_types)))\n",
    "\n",
    "  print('\\n','=' * 52, '\\n')\n",
    "  return '_'.join(list(s_types))\n",
    "\n",
    "display(train[shore_type].iloc[:3])\n",
    "train[shore_type].iloc[:3].apply(concat_shore_demo, axis=1)"
   ]
  },
  {
   "cell_type": "code",
   "execution_count": 37,
   "metadata": {
    "id": "LRg19-8FOhCU"
   },
   "outputs": [
    {
     "data": {
      "text/plain": [
       "0    3暴露岩盤_7開闊潮間帶\n",
       "1           3暴露岩盤\n",
       "2           3暴露岩盤\n",
       "dtype: object"
      ]
     },
     "execution_count": 37,
     "metadata": {},
     "output_type": "execute_result"
    }
   ],
   "source": [
    "def concat_shore_2(x):\n",
    "  s = x.where(x == 1)\n",
    "  s_types = x[s.notnull()].index\n",
    "  return '_'.join(list(s_types))\n",
    "train[shore_type].iloc[:3].apply(concat_shore_2, axis=1)"
   ]
  },
  {
   "cell_type": "code",
   "execution_count": 38,
   "metadata": {
    "id": "hA9HzHXdm2h1"
   },
   "outputs": [
    {
     "data": {
      "text/html": [
       "<div>\n",
       "<style scoped>\n",
       "    .dataframe tbody tr th:only-of-type {\n",
       "        vertical-align: middle;\n",
       "    }\n",
       "\n",
       "    .dataframe tbody tr th {\n",
       "        vertical-align: top;\n",
       "    }\n",
       "\n",
       "    .dataframe thead th {\n",
       "        text-align: right;\n",
       "    }\n",
       "</style>\n",
       "<table border=\"1\" class=\"dataframe\">\n",
       "  <thead>\n",
       "    <tr style=\"text-align: right;\">\n",
       "      <th></th>\n",
       "      <th>Plastic bottle container</th>\n",
       "      <th>Disposable cup / straw / tableware</th>\n",
       "      <th>Plastic bag</th>\n",
       "      <th>Foam material</th>\n",
       "      <th>Float</th>\n",
       "      <th>Fishing nets and ropes</th>\n",
       "      <th>Fishing equipment</th>\n",
       "      <th>Cigarette and lighter</th>\n",
       "      <th>Glass jar</th>\n",
       "      <th>Metal</th>\n",
       "      <th>Paper</th>\n",
       "      <th>Others</th>\n",
       "    </tr>\n",
       "    <tr>\n",
       "      <th>Shore_type</th>\n",
       "      <th></th>\n",
       "      <th></th>\n",
       "      <th></th>\n",
       "      <th></th>\n",
       "      <th></th>\n",
       "      <th></th>\n",
       "      <th></th>\n",
       "      <th></th>\n",
       "      <th></th>\n",
       "      <th></th>\n",
       "      <th></th>\n",
       "      <th></th>\n",
       "    </tr>\n",
       "  </thead>\n",
       "  <tbody>\n",
       "    <tr>\n",
       "      <th></th>\n",
       "      <td>2</td>\n",
       "      <td>2</td>\n",
       "      <td>0</td>\n",
       "      <td>3</td>\n",
       "      <td>1</td>\n",
       "      <td>0</td>\n",
       "      <td>0</td>\n",
       "      <td>0</td>\n",
       "      <td>1</td>\n",
       "      <td>0</td>\n",
       "      <td>0</td>\n",
       "      <td>0</td>\n",
       "    </tr>\n",
       "    <tr>\n",
       "      <th>1暴露岩岸</th>\n",
       "      <td>4</td>\n",
       "      <td>1</td>\n",
       "      <td>1</td>\n",
       "      <td>2</td>\n",
       "      <td>1</td>\n",
       "      <td>1</td>\n",
       "      <td>0</td>\n",
       "      <td>0</td>\n",
       "      <td>0</td>\n",
       "      <td>0</td>\n",
       "      <td>1</td>\n",
       "      <td>1</td>\n",
       "    </tr>\n",
       "    <tr>\n",
       "      <th>1暴露岩岸_2暴露人造結構物_4沙灘</th>\n",
       "      <td>1</td>\n",
       "      <td>0</td>\n",
       "      <td>0</td>\n",
       "      <td>0</td>\n",
       "      <td>0</td>\n",
       "      <td>2</td>\n",
       "      <td>0</td>\n",
       "      <td>0</td>\n",
       "      <td>2</td>\n",
       "      <td>0</td>\n",
       "      <td>1</td>\n",
       "      <td>0</td>\n",
       "    </tr>\n",
       "    <tr>\n",
       "      <th>1暴露岩岸_2暴露人造結構物_4沙灘_6礫石灘</th>\n",
       "      <td>1</td>\n",
       "      <td>0</td>\n",
       "      <td>0</td>\n",
       "      <td>1</td>\n",
       "      <td>0</td>\n",
       "      <td>1</td>\n",
       "      <td>0</td>\n",
       "      <td>0</td>\n",
       "      <td>0</td>\n",
       "      <td>0</td>\n",
       "      <td>0</td>\n",
       "      <td>0</td>\n",
       "    </tr>\n",
       "    <tr>\n",
       "      <th>1暴露岩岸_3暴露岩盤</th>\n",
       "      <td>1</td>\n",
       "      <td>0</td>\n",
       "      <td>0</td>\n",
       "      <td>1</td>\n",
       "      <td>1</td>\n",
       "      <td>0</td>\n",
       "      <td>0</td>\n",
       "      <td>0</td>\n",
       "      <td>0</td>\n",
       "      <td>0</td>\n",
       "      <td>0</td>\n",
       "      <td>0</td>\n",
       "    </tr>\n",
       "  </tbody>\n",
       "</table>\n",
       "</div>"
      ],
      "text/plain": [
       "                         Plastic bottle container  \\\n",
       "Shore_type                                          \n",
       "                                                2   \n",
       "1暴露岩岸                                           4   \n",
       "1暴露岩岸_2暴露人造結構物_4沙灘                              1   \n",
       "1暴露岩岸_2暴露人造結構物_4沙灘_6礫石灘                         1   \n",
       "1暴露岩岸_3暴露岩盤                                     1   \n",
       "\n",
       "                         Disposable cup / straw / tableware  Plastic bag  \\\n",
       "Shore_type                                                                 \n",
       "                                                          2            0   \n",
       "1暴露岩岸                                                     1            1   \n",
       "1暴露岩岸_2暴露人造結構物_4沙灘                                        0            0   \n",
       "1暴露岩岸_2暴露人造結構物_4沙灘_6礫石灘                                   0            0   \n",
       "1暴露岩岸_3暴露岩盤                                               0            0   \n",
       "\n",
       "                         Foam material  Float  Fishing nets and ropes  \\\n",
       "Shore_type                                                              \n",
       "                                     3      1                       0   \n",
       "1暴露岩岸                                2      1                       1   \n",
       "1暴露岩岸_2暴露人造結構物_4沙灘                   0      0                       2   \n",
       "1暴露岩岸_2暴露人造結構物_4沙灘_6礫石灘              1      0                       1   \n",
       "1暴露岩岸_3暴露岩盤                          1      1                       0   \n",
       "\n",
       "                         Fishing equipment  Cigarette and lighter  Glass jar  \\\n",
       "Shore_type                                                                     \n",
       "                                         0                      0          1   \n",
       "1暴露岩岸                                    0                      0          0   \n",
       "1暴露岩岸_2暴露人造結構物_4沙灘                       0                      0          2   \n",
       "1暴露岩岸_2暴露人造結構物_4沙灘_6礫石灘                  0                      0          0   \n",
       "1暴露岩岸_3暴露岩盤                              0                      0          0   \n",
       "\n",
       "                         Metal  Paper  Others  \n",
       "Shore_type                                     \n",
       "                             0      0       0  \n",
       "1暴露岩岸                        0      1       1  \n",
       "1暴露岩岸_2暴露人造結構物_4沙灘           0      1       0  \n",
       "1暴露岩岸_2暴露人造結構物_4沙灘_6礫石灘      0      0       0  \n",
       "1暴露岩岸_3暴露岩盤                  0      0       0  "
      ]
     },
     "execution_count": 38,
     "metadata": {},
     "output_type": "execute_result"
    }
   ],
   "source": [
    "df = train.groupby('Shore_type')[trash_type].sum()\n",
    "df.head()"
   ]
  },
  {
   "cell_type": "code",
   "execution_count": 39,
   "metadata": {
    "id": "jNMDS0O1dyif"
   },
   "outputs": [
    {
     "data": {
      "text/html": [
       "\n",
       "\n",
       "\n",
       "\n",
       "\n",
       "\n",
       "  <div class=\"bk-root\" id=\"32244f40-c909-43fd-9f28-a8c04417c806\" data-root-id=\"1552\"></div>\n"
      ]
     },
     "metadata": {},
     "output_type": "display_data"
    },
    {
     "data": {
      "application/javascript": [
       "(function(root) {\n",
       "  function embed_document(root) {\n",
       "    \n",
       "  var docs_json = {\"0d8ee60a-1289-45a4-bfd8-7b89aa93472b\":{\"defs\":[],\"roots\":{\"references\":[{\"attributes\":{\"below\":[{\"id\":\"1563\"}],\"center\":[{\"id\":\"1566\"},{\"id\":\"1570\"},{\"id\":\"1602\"}],\"height\":500,\"left\":[{\"id\":\"1567\"}],\"output_backend\":\"webgl\",\"renderers\":[{\"id\":\"1591\"},{\"id\":\"1610\"},{\"id\":\"1628\"},{\"id\":\"1646\"},{\"id\":\"1664\"},{\"id\":\"1682\"},{\"id\":\"1700\"},{\"id\":\"1718\"},{\"id\":\"1736\"},{\"id\":\"1754\"},{\"id\":\"1772\"},{\"id\":\"1790\"}],\"sizing_mode\":\"fixed\",\"title\":{\"id\":\"1553\"},\"toolbar\":{\"id\":\"1578\"},\"width\":1200,\"x_range\":{\"id\":\"1555\"},\"x_scale\":{\"id\":\"1559\"},\"y_range\":{\"id\":\"1557\"},\"y_scale\":{\"id\":\"1561\"}},\"id\":\"1552\",\"subtype\":\"Figure\",\"type\":\"Plot\"},{\"attributes\":{\"source\":{\"id\":\"1551\"}},\"id\":\"1755\",\"type\":\"CDSView\"},{\"attributes\":{},\"id\":\"1601\",\"type\":\"Selection\"},{\"attributes\":{\"ticks\":[0,1,2,3,4,5,6,7,8,9,10,11,12,13,14,15,16,17,18,19,20,21,22,23,24,25,26,27,28,29,30,31,32,33,34,35,36,37,38,39,40,41,42,43,44,45,46,47,48,49,50,51,52,53,54,55,56]},\"id\":\"1804\",\"type\":\"FixedTicker\"},{\"attributes\":{\"range\":{\"id\":\"1555\"},\"value\":0.15909090909090912},\"id\":\"1750\",\"type\":\"Dodge\"},{\"attributes\":{\"data_source\":{\"id\":\"1551\"},\"glyph\":{\"id\":\"1752\"},\"hover_glyph\":null,\"muted_glyph\":null,\"nonselection_glyph\":{\"id\":\"1753\"},\"view\":{\"id\":\"1755\"}},\"id\":\"1754\",\"type\":\"GlyphRenderer\"},{\"attributes\":{\"label\":{\"value\":\" Metal\"},\"renderers\":[{\"id\":\"1754\"}]},\"id\":\"1765\",\"type\":\"LegendItem\"},{\"attributes\":{\"fill_color\":{\"value\":\"#d62728\"},\"line_color\":{\"value\":\"#d62728\"},\"line_width\":{\"value\":2},\"top\":{\"field\":\"Fishing equipment\"},\"width\":{\"value\":0.043478260869565216},\"x\":{\"field\":\"__x__values\",\"transform\":{\"id\":\"1696\"}}},\"id\":\"1698\",\"type\":\"VBar\"},{\"attributes\":{\"callback\":null,\"mode\":\"vline\",\"renderers\":[{\"id\":\"1736\"}],\"tooltips\":[[\"Shore_type\",\"@__x__values_original\"],[\"Glass jar\",\"@{Glass jar}\"]]},\"id\":\"1748\",\"type\":\"HoverTool\"},{\"attributes\":{\"range\":{\"id\":\"1555\"},\"value\":0.022727272727272707},\"id\":\"1696\",\"type\":\"Dodge\"},{\"attributes\":{\"fill_alpha\":{\"value\":0.1},\"fill_color\":{\"value\":\"#d62728\"},\"line_alpha\":{\"value\":0.1},\"line_color\":{\"value\":\"#d62728\"},\"line_width\":{\"value\":2},\"top\":{\"field\":\"Fishing equipment\"},\"width\":{\"value\":0.043478260869565216},\"x\":{\"field\":\"__x__values\",\"transform\":{\"id\":\"1696\"}}},\"id\":\"1699\",\"type\":\"VBar\"},{\"attributes\":{\"source\":{\"id\":\"1551\"}},\"id\":\"1701\",\"type\":\"CDSView\"},{\"attributes\":{\"data_source\":{\"id\":\"1551\"},\"glyph\":{\"id\":\"1698\"},\"hover_glyph\":null,\"muted_glyph\":null,\"nonselection_glyph\":{\"id\":\"1699\"},\"view\":{\"id\":\"1701\"}},\"id\":\"1700\",\"type\":\"GlyphRenderer\"},{\"attributes\":{\"callback\":null,\"mode\":\"vline\",\"renderers\":[{\"id\":\"1772\"}],\"tooltips\":[[\"Shore_type\",\"@__x__values_original\"],[\"Paper\",\"@{Paper}\"]]},\"id\":\"1784\",\"type\":\"HoverTool\"},{\"attributes\":{\"fill_alpha\":{\"value\":0.1},\"fill_color\":{\"value\":\"#c5b0d5\"},\"line_alpha\":{\"value\":0.1},\"line_color\":{\"value\":\"#c5b0d5\"},\"line_width\":{\"value\":2},\"top\":{\"field\":\"Metal\"},\"width\":{\"value\":0.043478260869565216},\"x\":{\"field\":\"__x__values\",\"transform\":{\"id\":\"1750\"}}},\"id\":\"1753\",\"type\":\"VBar\"},{\"attributes\":{\"fill_color\":{\"value\":\"#c5b0d5\"},\"line_color\":{\"value\":\"#c5b0d5\"},\"line_width\":{\"value\":2},\"top\":{\"field\":\"Metal\"},\"width\":{\"value\":0.043478260869565216},\"x\":{\"field\":\"__x__values\",\"transform\":{\"id\":\"1750\"}}},\"id\":\"1752\",\"type\":\"VBar\"},{\"attributes\":{\"label\":{\"value\":\" Glass jar\"},\"renderers\":[{\"id\":\"1736\"}]},\"id\":\"1747\",\"type\":\"LegendItem\"},{\"attributes\":{\"range\":{\"id\":\"1555\"},\"value\":0.25},\"id\":\"1786\",\"type\":\"Dodge\"},{\"attributes\":{\"range\":{\"id\":\"1555\"},\"value\":0.11363636363636365},\"id\":\"1732\",\"type\":\"Dodge\"},{\"attributes\":{\"data_source\":{\"id\":\"1551\"},\"glyph\":{\"id\":\"1788\"},\"hover_glyph\":null,\"muted_glyph\":null,\"nonselection_glyph\":{\"id\":\"1789\"},\"view\":{\"id\":\"1791\"}},\"id\":\"1790\",\"type\":\"GlyphRenderer\"},{\"attributes\":{\"fill_alpha\":{\"value\":0.1},\"fill_color\":{\"value\":\"#1f77b4\"},\"line_alpha\":{\"value\":0.1},\"line_color\":{\"value\":\"#1f77b4\"},\"line_width\":{\"value\":2},\"top\":{\"field\":\"Plastic bottle container\"},\"width\":{\"value\":0.043478260869565216},\"x\":{\"field\":\"__x__values\",\"transform\":{\"id\":\"1587\"}}},\"id\":\"1590\",\"type\":\"VBar\"},{\"attributes\":{\"fill_color\":{\"value\":\"#ffbb78\"},\"line_color\":{\"value\":\"#ffbb78\"},\"line_width\":{\"value\":2},\"top\":{\"field\":\"Foam material\"},\"width\":{\"value\":0.043478260869565216},\"x\":{\"field\":\"__x__values\",\"transform\":{\"id\":\"1642\"}}},\"id\":\"1644\",\"type\":\"VBar\"},{\"attributes\":{\"axis\":{\"id\":\"1567\"},\"dimension\":1,\"ticker\":null},\"id\":\"1570\",\"type\":\"Grid\"},{\"attributes\":{\"label\":{\"value\":\" Others\"},\"renderers\":[{\"id\":\"1790\"}]},\"id\":\"1801\",\"type\":\"LegendItem\"},{\"attributes\":{\"fill_alpha\":{\"value\":0.1},\"fill_color\":{\"value\":\"#ffbb78\"},\"line_alpha\":{\"value\":0.1},\"line_color\":{\"value\":\"#ffbb78\"},\"line_width\":{\"value\":2},\"top\":{\"field\":\"Foam material\"},\"width\":{\"value\":0.043478260869565216},\"x\":{\"field\":\"__x__values\",\"transform\":{\"id\":\"1642\"}}},\"id\":\"1645\",\"type\":\"VBar\"},{\"attributes\":{},\"id\":\"1574\",\"type\":\"SaveTool\"},{\"attributes\":{\"fill_alpha\":{\"value\":0.1},\"fill_color\":{\"value\":\"#c49c94\"},\"line_alpha\":{\"value\":0.1},\"line_color\":{\"value\":\"#c49c94\"},\"line_width\":{\"value\":2},\"top\":{\"field\":\"Others\"},\"width\":{\"value\":0.043478260869565216},\"x\":{\"field\":\"__x__values\",\"transform\":{\"id\":\"1786\"}}},\"id\":\"1789\",\"type\":\"VBar\"},{\"attributes\":{\"range\":{\"id\":\"1555\"},\"value\":-0.11363636363636365},\"id\":\"1642\",\"type\":\"Dodge\"},{\"attributes\":{\"callback\":null,\"mode\":\"vline\",\"renderers\":[{\"id\":\"1790\"}],\"tooltips\":[[\"Shore_type\",\"@__x__values_original\"],[\"Others\",\"@{Others}\"]]},\"id\":\"1802\",\"type\":\"HoverTool\"},{\"attributes\":{\"fill_color\":{\"value\":\"#1f77b4\"},\"line_color\":{\"value\":\"#1f77b4\"},\"line_width\":{\"value\":2},\"top\":{\"field\":\"Plastic bottle container\"},\"width\":{\"value\":0.043478260869565216},\"x\":{\"field\":\"__x__values\",\"transform\":{\"id\":\"1587\"}}},\"id\":\"1589\",\"type\":\"VBar\"},{\"attributes\":{\"fill_color\":{\"value\":\"#ff9896\"},\"line_color\":{\"value\":\"#ff9896\"},\"line_width\":{\"value\":2},\"top\":{\"field\":\"Cigarette and lighter\"},\"width\":{\"value\":0.043478260869565216},\"x\":{\"field\":\"__x__values\",\"transform\":{\"id\":\"1714\"}}},\"id\":\"1716\",\"type\":\"VBar\"},{\"attributes\":{},\"id\":\"1576\",\"type\":\"HelpTool\"},{\"attributes\":{\"source\":{\"id\":\"1551\"}},\"id\":\"1647\",\"type\":\"CDSView\"},{\"attributes\":{},\"id\":\"1568\",\"type\":\"BasicTicker\"},{\"attributes\":{\"data_source\":{\"id\":\"1551\"},\"glyph\":{\"id\":\"1644\"},\"hover_glyph\":null,\"muted_glyph\":null,\"nonselection_glyph\":{\"id\":\"1645\"},\"view\":{\"id\":\"1647\"}},\"id\":\"1646\",\"type\":\"GlyphRenderer\"},{\"attributes\":{\"source\":{\"id\":\"1551\"}},\"id\":\"1592\",\"type\":\"CDSView\"},{\"attributes\":{\"click_policy\":\"hide\",\"items\":[{\"id\":\"1603\"},{\"id\":\"1621\"},{\"id\":\"1639\"},{\"id\":\"1657\"},{\"id\":\"1675\"},{\"id\":\"1693\"},{\"id\":\"1711\"},{\"id\":\"1729\"},{\"id\":\"1747\"},{\"id\":\"1765\"},{\"id\":\"1783\"},{\"id\":\"1801\"}]},\"id\":\"1602\",\"type\":\"Legend\"},{\"attributes\":{\"overlay\":{\"id\":\"1577\"}},\"id\":\"1573\",\"type\":\"BoxZoomTool\"},{\"attributes\":{\"source\":{\"id\":\"1551\"}},\"id\":\"1791\",\"type\":\"CDSView\"},{\"attributes\":{\"data_source\":{\"id\":\"1551\"},\"glyph\":{\"id\":\"1589\"},\"hover_glyph\":null,\"muted_glyph\":null,\"nonselection_glyph\":{\"id\":\"1590\"},\"view\":{\"id\":\"1592\"}},\"id\":\"1591\",\"type\":\"GlyphRenderer\"},{\"attributes\":{\"label\":{\"value\":\" Foam material\"},\"renderers\":[{\"id\":\"1646\"}]},\"id\":\"1657\",\"type\":\"LegendItem\"},{\"attributes\":{\"callback\":null,\"mode\":\"vline\",\"renderers\":[{\"id\":\"1754\"}],\"tooltips\":[[\"Shore_type\",\"@__x__values_original\"],[\"Metal\",\"@{Metal}\"]]},\"id\":\"1766\",\"type\":\"HoverTool\"},{\"attributes\":{},\"id\":\"1571\",\"type\":\"PanTool\"},{\"attributes\":{\"label\":{\"value\":\" Plastic bottle container\"},\"renderers\":[{\"id\":\"1591\"}]},\"id\":\"1603\",\"type\":\"LegendItem\"},{\"attributes\":{\"active_multi\":null,\"active_scroll\":{\"id\":\"1572\"},\"tools\":[{\"id\":\"1571\"},{\"id\":\"1572\"},{\"id\":\"1573\"},{\"id\":\"1574\"},{\"id\":\"1575\"},{\"id\":\"1576\"},{\"id\":\"1604\"},{\"id\":\"1622\"},{\"id\":\"1640\"},{\"id\":\"1658\"},{\"id\":\"1676\"},{\"id\":\"1694\"},{\"id\":\"1712\"},{\"id\":\"1730\"},{\"id\":\"1748\"},{\"id\":\"1766\"},{\"id\":\"1784\"},{\"id\":\"1802\"}]},\"id\":\"1578\",\"type\":\"Toolbar\"},{\"attributes\":{},\"id\":\"1595\",\"type\":\"AllLabels\"},{\"attributes\":{},\"id\":\"1572\",\"type\":\"WheelZoomTool\"},{\"attributes\":{\"callback\":null,\"mode\":\"vline\",\"renderers\":[{\"id\":\"1700\"}],\"tooltips\":[[\"Shore_type\",\"@__x__values_original\"],[\"Fishing equipment\",\"@{Fishing equipment}\"]]},\"id\":\"1712\",\"type\":\"HoverTool\"},{\"attributes\":{\"callback\":null,\"mode\":\"vline\",\"renderers\":[{\"id\":\"1591\"}],\"tooltips\":[[\"Shore_type\",\"@__x__values_original\"],[\"Plastic bottle container\",\"@{Plastic bottle container}\"]]},\"id\":\"1604\",\"type\":\"HoverTool\"},{\"attributes\":{},\"id\":\"1575\",\"type\":\"ResetTool\"},{\"attributes\":{\"source\":{\"id\":\"1551\"}},\"id\":\"1719\",\"type\":\"CDSView\"},{\"attributes\":{\"callback\":null,\"mode\":\"vline\",\"renderers\":[{\"id\":\"1628\"}],\"tooltips\":[[\"Shore_type\",\"@__x__values_original\"],[\"Plastic bag\",\"@{Plastic bag}\"]]},\"id\":\"1640\",\"type\":\"HoverTool\"},{\"attributes\":{\"fill_color\":{\"value\":\"#c49c94\"},\"line_color\":{\"value\":\"#c49c94\"},\"line_width\":{\"value\":2},\"top\":{\"field\":\"Others\"},\"width\":{\"value\":0.043478260869565216},\"x\":{\"field\":\"__x__values\",\"transform\":{\"id\":\"1786\"}}},\"id\":\"1788\",\"type\":\"VBar\"},{\"attributes\":{\"range\":{\"id\":\"1555\"},\"value\":-0.20454545454545453},\"id\":\"1606\",\"type\":\"Dodge\"},{\"attributes\":{\"fill_color\":{\"value\":\"#aec7e8\"},\"line_color\":{\"value\":\"#aec7e8\"},\"line_width\":{\"value\":2},\"top\":{\"field\":\"Disposable cup / straw / tableware\"},\"width\":{\"value\":0.043478260869565216},\"x\":{\"field\":\"__x__values\",\"transform\":{\"id\":\"1606\"}}},\"id\":\"1608\",\"type\":\"VBar\"},{\"attributes\":{\"fill_alpha\":{\"value\":0.1},\"fill_color\":{\"value\":\"#aec7e8\"},\"line_alpha\":{\"value\":0.1},\"line_color\":{\"value\":\"#aec7e8\"},\"line_width\":{\"value\":2},\"top\":{\"field\":\"Disposable cup / straw / tableware\"},\"width\":{\"value\":0.043478260869565216},\"x\":{\"field\":\"__x__values\",\"transform\":{\"id\":\"1606\"}}},\"id\":\"1609\",\"type\":\"VBar\"},{\"attributes\":{\"label\":{\"value\":\" Cigarette and lighter\"},\"renderers\":[{\"id\":\"1718\"}]},\"id\":\"1729\",\"type\":\"LegendItem\"},{\"attributes\":{\"fill_color\":{\"value\":\"#9467bd\"},\"line_color\":{\"value\":\"#9467bd\"},\"line_width\":{\"value\":2},\"top\":{\"field\":\"Glass jar\"},\"width\":{\"value\":0.043478260869565216},\"x\":{\"field\":\"__x__values\",\"transform\":{\"id\":\"1732\"}}},\"id\":\"1734\",\"type\":\"VBar\"},{\"attributes\":{\"fill_alpha\":{\"value\":0.1},\"fill_color\":{\"value\":\"#8c564b\"},\"line_alpha\":{\"value\":0.1},\"line_color\":{\"value\":\"#8c564b\"},\"line_width\":{\"value\":2},\"top\":{\"field\":\"Paper\"},\"width\":{\"value\":0.043478260869565216},\"x\":{\"field\":\"__x__values\",\"transform\":{\"id\":\"1768\"}}},\"id\":\"1771\",\"type\":\"VBar\"},{\"attributes\":{\"source\":{\"id\":\"1551\"}},\"id\":\"1611\",\"type\":\"CDSView\"},{\"attributes\":{\"data_source\":{\"id\":\"1551\"},\"glyph\":{\"id\":\"1608\"},\"hover_glyph\":null,\"muted_glyph\":null,\"nonselection_glyph\":{\"id\":\"1609\"},\"view\":{\"id\":\"1611\"}},\"id\":\"1610\",\"type\":\"GlyphRenderer\"},{\"attributes\":{\"code\":\"\\n                                    var labels = {0: '', 1: '1\\u66b4\\u9732\\u5ca9\\u5cb8', 2: '1\\u66b4\\u9732\\u5ca9\\u5cb8_2\\u66b4\\u9732\\u4eba\\u9020\\u7d50\\u69cb\\u7269_4\\u6c99\\u7058', 3: '1\\u66b4\\u9732\\u5ca9\\u5cb8_2\\u66b4\\u9732\\u4eba\\u9020\\u7d50\\u69cb\\u7269_4\\u6c99\\u7058_6\\u792b\\u77f3\\u7058', 4: '1\\u66b4\\u9732\\u5ca9\\u5cb8_3\\u66b4\\u9732\\u5ca9\\u76e4', 5: '1\\u66b4\\u9732\\u5ca9\\u5cb8_3\\u66b4\\u9732\\u5ca9\\u76e4_4\\u6c99\\u7058_5\\u7802\\u792b\\u6df7\\u5408\\u7058', 6: '1\\u66b4\\u9732\\u5ca9\\u5cb8_3\\u66b4\\u9732\\u5ca9\\u76e4_5\\u7802\\u792b\\u6df7\\u5408\\u7058_6\\u792b\\u77f3\\u7058_9\\u906e\\u853d\\u6f6e\\u9593\\u5e36', 7: '1\\u66b4\\u9732\\u5ca9\\u5cb8_3\\u66b4\\u9732\\u5ca9\\u76e4_6\\u792b\\u77f3\\u7058', 8: '1\\u66b4\\u9732\\u5ca9\\u5cb8_3\\u66b4\\u9732\\u5ca9\\u76e4_6\\u792b\\u77f3\\u7058_9\\u906e\\u853d\\u6f6e\\u9593\\u5e36', 9: '1\\u66b4\\u9732\\u5ca9\\u5cb8_3\\u66b4\\u9732\\u5ca9\\u76e4_7\\u958b\\u95ca\\u6f6e\\u9593\\u5e36', 10: '1\\u66b4\\u9732\\u5ca9\\u5cb8_4\\u6c99\\u7058', 11: '1\\u66b4\\u9732\\u5ca9\\u5cb8_4\\u6c99\\u7058_5\\u7802\\u792b\\u6df7\\u5408\\u7058', 12: '1\\u66b4\\u9732\\u5ca9\\u5cb8_4\\u6c99\\u7058_5\\u7802\\u792b\\u6df7\\u5408\\u7058_6\\u792b\\u77f3\\u7058', 13: '1\\u66b4\\u9732\\u5ca9\\u5cb8_5\\u7802\\u792b\\u6df7\\u5408\\u7058', 14: '1\\u66b4\\u9732\\u5ca9\\u5cb8_6\\u792b\\u77f3\\u7058', 15: '1\\u66b4\\u9732\\u5ca9\\u5cb8_6\\u792b\\u77f3\\u7058_7\\u958b\\u95ca\\u6f6e\\u9593\\u5e36', 16: '1\\u66b4\\u9732\\u5ca9\\u5cb8_7\\u958b\\u95ca\\u6f6e\\u9593\\u5e36', 17: '2\\u66b4\\u9732\\u4eba\\u9020\\u7d50\\u69cb\\u7269', 18: '2\\u66b4\\u9732\\u4eba\\u9020\\u7d50\\u69cb\\u7269_10\\u906e\\u853d\\u6fd5\\u5730', 19: '2\\u66b4\\u9732\\u4eba\\u9020\\u7d50\\u69cb\\u7269_3\\u66b4\\u9732\\u5ca9\\u76e4', 20: '2\\u66b4\\u9732\\u4eba\\u9020\\u7d50\\u69cb\\u7269_3\\u66b4\\u9732\\u5ca9\\u76e4_6\\u792b\\u77f3\\u7058', 21: '2\\u66b4\\u9732\\u4eba\\u9020\\u7d50\\u69cb\\u7269_4\\u6c99\\u7058', 22: '2\\u66b4\\u9732\\u4eba\\u9020\\u7d50\\u69cb\\u7269_4\\u6c99\\u7058_5\\u7802\\u792b\\u6df7\\u5408\\u7058', 23: '2\\u66b4\\u9732\\u4eba\\u9020\\u7d50\\u69cb\\u7269_4\\u6c99\\u7058_6\\u792b\\u77f3\\u7058', 24: '2\\u66b4\\u9732\\u4eba\\u9020\\u7d50\\u69cb\\u7269_4\\u6c99\\u7058_7\\u958b\\u95ca\\u6f6e\\u9593\\u5e36', 25: '2\\u66b4\\u9732\\u4eba\\u9020\\u7d50\\u69cb\\u7269_4\\u6c99\\u7058_7\\u958b\\u95ca\\u6f6e\\u9593\\u5e36_10\\u906e\\u853d\\u6fd5\\u5730', 26: '2\\u66b4\\u9732\\u4eba\\u9020\\u7d50\\u69cb\\u7269_4\\u6c99\\u7058_8\\u906e\\u853d\\u5ca9\\u5cb8', 27: '2\\u66b4\\u9732\\u4eba\\u9020\\u7d50\\u69cb\\u7269_5\\u7802\\u792b\\u6df7\\u5408\\u7058', 28: '2\\u66b4\\u9732\\u4eba\\u9020\\u7d50\\u69cb\\u7269_5\\u7802\\u792b\\u6df7\\u5408\\u7058_6\\u792b\\u77f3\\u7058', 29: '2\\u66b4\\u9732\\u4eba\\u9020\\u7d50\\u69cb\\u7269_6\\u792b\\u77f3\\u7058', 30: '2\\u66b4\\u9732\\u4eba\\u9020\\u7d50\\u69cb\\u7269_6\\u792b\\u77f3\\u7058_7\\u958b\\u95ca\\u6f6e\\u9593\\u5e36', 31: '2\\u66b4\\u9732\\u4eba\\u9020\\u7d50\\u69cb\\u7269_7\\u958b\\u95ca\\u6f6e\\u9593\\u5e36', 32: '2\\u66b4\\u9732\\u4eba\\u9020\\u7d50\\u69cb\\u7269_8\\u906e\\u853d\\u5ca9\\u5cb8', 33: '3\\u66b4\\u9732\\u5ca9\\u76e4', 34: '3\\u66b4\\u9732\\u5ca9\\u76e4_4\\u6c99\\u7058', 35: '3\\u66b4\\u9732\\u5ca9\\u76e4_4\\u6c99\\u7058_5\\u7802\\u792b\\u6df7\\u5408\\u7058', 36: '3\\u66b4\\u9732\\u5ca9\\u76e4_4\\u6c99\\u7058_5\\u7802\\u792b\\u6df7\\u5408\\u7058_7\\u958b\\u95ca\\u6f6e\\u9593\\u5e36', 37: '3\\u66b4\\u9732\\u5ca9\\u76e4_5\\u7802\\u792b\\u6df7\\u5408\\u7058', 38: '3\\u66b4\\u9732\\u5ca9\\u76e4_6\\u792b\\u77f3\\u7058', 39: '3\\u66b4\\u9732\\u5ca9\\u76e4_7\\u958b\\u95ca\\u6f6e\\u9593\\u5e36', 40: '3\\u66b4\\u9732\\u5ca9\\u76e4_9\\u906e\\u853d\\u6f6e\\u9593\\u5e36', 41: '4\\u6c99\\u7058', 42: '4\\u6c99\\u7058_10\\u906e\\u853d\\u6fd5\\u5730', 43: '4\\u6c99\\u7058_5\\u7802\\u792b\\u6df7\\u5408\\u7058', 44: '4\\u6c99\\u7058_5\\u7802\\u792b\\u6df7\\u5408\\u7058_6\\u792b\\u77f3\\u7058', 45: '4\\u6c99\\u7058_6\\u792b\\u77f3\\u7058', 46: '4\\u6c99\\u7058_7\\u958b\\u95ca\\u6f6e\\u9593\\u5e36', 47: '4\\u6c99\\u7058_8\\u906e\\u853d\\u5ca9\\u5cb8', 48: '5\\u7802\\u792b\\u6df7\\u5408\\u7058', 49: '5\\u7802\\u792b\\u6df7\\u5408\\u7058_6\\u792b\\u77f3\\u7058', 50: '5\\u7802\\u792b\\u6df7\\u5408\\u7058_6\\u792b\\u77f3\\u7058_8\\u906e\\u853d\\u5ca9\\u5cb8', 51: '5\\u7802\\u792b\\u6df7\\u5408\\u7058_7\\u958b\\u95ca\\u6f6e\\u9593\\u5e36', 52: '6\\u792b\\u77f3\\u7058', 53: '6\\u792b\\u77f3\\u7058_7\\u958b\\u95ca\\u6f6e\\u9593\\u5e36', 54: '6\\u792b\\u77f3\\u7058_8\\u906e\\u853d\\u5ca9\\u5cb8', 55: '7\\u958b\\u95ca\\u6f6e\\u9593\\u5e36', 56: '8\\u906e\\u853d\\u5ca9\\u5cb8'};\\n                                    return labels[tick];\\n                                    \"},\"id\":\"1585\",\"type\":\"FuncTickFormatter\"},{\"attributes\":{\"source\":{\"id\":\"1551\"}},\"id\":\"1773\",\"type\":\"CDSView\"},{\"attributes\":{},\"id\":\"1555\",\"type\":\"DataRange1d\"},{\"attributes\":{\"callback\":null,\"mode\":\"vline\",\"renderers\":[{\"id\":\"1646\"}],\"tooltips\":[[\"Shore_type\",\"@__x__values_original\"],[\"Foam material\",\"@{Foam material}\"]]},\"id\":\"1658\",\"type\":\"HoverTool\"},{\"attributes\":{\"fill_alpha\":{\"value\":0.1},\"fill_color\":{\"value\":\"#ff7f0e\"},\"line_alpha\":{\"value\":0.1},\"line_color\":{\"value\":\"#ff7f0e\"},\"line_width\":{\"value\":2},\"top\":{\"field\":\"Plastic bag\"},\"width\":{\"value\":0.043478260869565216},\"x\":{\"field\":\"__x__values\",\"transform\":{\"id\":\"1624\"}}},\"id\":\"1627\",\"type\":\"VBar\"},{\"attributes\":{\"fill_alpha\":{\"value\":0.1},\"fill_color\":{\"value\":\"#2ca02c\"},\"line_alpha\":{\"value\":0.1},\"line_color\":{\"value\":\"#2ca02c\"},\"line_width\":{\"value\":2},\"top\":{\"field\":\"Float\"},\"width\":{\"value\":0.043478260869565216},\"x\":{\"field\":\"__x__values\",\"transform\":{\"id\":\"1660\"}}},\"id\":\"1663\",\"type\":\"VBar\"},{\"attributes\":{\"fill_color\":{\"value\":\"#2ca02c\"},\"line_color\":{\"value\":\"#2ca02c\"},\"line_width\":{\"value\":2},\"top\":{\"field\":\"Float\"},\"width\":{\"value\":0.043478260869565216},\"x\":{\"field\":\"__x__values\",\"transform\":{\"id\":\"1660\"}}},\"id\":\"1662\",\"type\":\"VBar\"},{\"attributes\":{},\"id\":\"1553\",\"type\":\"Title\"},{\"attributes\":{\"source\":{\"id\":\"1551\"}},\"id\":\"1737\",\"type\":\"CDSView\"},{\"attributes\":{},\"id\":\"1559\",\"type\":\"LinearScale\"},{\"attributes\":{\"range\":{\"id\":\"1555\"},\"value\":-0.06818181818181818},\"id\":\"1660\",\"type\":\"Dodge\"},{\"attributes\":{\"fill_alpha\":{\"value\":0.1},\"fill_color\":{\"value\":\"#9467bd\"},\"line_alpha\":{\"value\":0.1},\"line_color\":{\"value\":\"#9467bd\"},\"line_width\":{\"value\":2},\"top\":{\"field\":\"Glass jar\"},\"width\":{\"value\":0.043478260869565216},\"x\":{\"field\":\"__x__values\",\"transform\":{\"id\":\"1732\"}}},\"id\":\"1735\",\"type\":\"VBar\"},{\"attributes\":{\"range\":{\"id\":\"1555\"},\"value\":-0.25},\"id\":\"1587\",\"type\":\"Dodge\"},{\"attributes\":{},\"id\":\"1557\",\"type\":\"DataRange1d\"},{\"attributes\":{},\"id\":\"1597\",\"type\":\"AllLabels\"},{\"attributes\":{\"source\":{\"id\":\"1551\"}},\"id\":\"1665\",\"type\":\"CDSView\"},{\"attributes\":{\"axis_label\":\"Shore_type\",\"formatter\":{\"id\":\"1585\"},\"major_label_policy\":{\"id\":\"1595\"},\"ticker\":{\"id\":\"1804\"}},\"id\":\"1563\",\"type\":\"LinearAxis\"},{\"attributes\":{\"axis\":{\"id\":\"1563\"},\"ticker\":null},\"id\":\"1566\",\"type\":\"Grid\"},{\"attributes\":{\"data_source\":{\"id\":\"1551\"},\"glyph\":{\"id\":\"1662\"},\"hover_glyph\":null,\"muted_glyph\":null,\"nonselection_glyph\":{\"id\":\"1663\"},\"view\":{\"id\":\"1665\"}},\"id\":\"1664\",\"type\":\"GlyphRenderer\"},{\"attributes\":{},\"id\":\"1561\",\"type\":\"LinearScale\"},{\"attributes\":{\"data_source\":{\"id\":\"1551\"},\"glyph\":{\"id\":\"1770\"},\"hover_glyph\":null,\"muted_glyph\":null,\"nonselection_glyph\":{\"id\":\"1771\"},\"view\":{\"id\":\"1773\"}},\"id\":\"1772\",\"type\":\"GlyphRenderer\"},{\"attributes\":{},\"id\":\"1598\",\"type\":\"BasicTickFormatter\"},{\"attributes\":{\"fill_color\":{\"value\":\"#ff7f0e\"},\"line_color\":{\"value\":\"#ff7f0e\"},\"line_width\":{\"value\":2},\"top\":{\"field\":\"Plastic bag\"},\"width\":{\"value\":0.043478260869565216},\"x\":{\"field\":\"__x__values\",\"transform\":{\"id\":\"1624\"}}},\"id\":\"1626\",\"type\":\"VBar\"},{\"attributes\":{\"label\":{\"value\":\" Float\"},\"renderers\":[{\"id\":\"1664\"}]},\"id\":\"1675\",\"type\":\"LegendItem\"},{\"attributes\":{\"range\":{\"id\":\"1555\"},\"value\":0.20454545454545459},\"id\":\"1768\",\"type\":\"Dodge\"},{\"attributes\":{\"formatter\":{\"id\":\"1598\"},\"major_label_policy\":{\"id\":\"1597\"},\"ticker\":{\"id\":\"1568\"}},\"id\":\"1567\",\"type\":\"LinearAxis\"},{\"attributes\":{\"callback\":null,\"mode\":\"vline\",\"renderers\":[{\"id\":\"1610\"}],\"tooltips\":[[\"Shore_type\",\"@__x__values_original\"],[\"Disposable cup / straw / tableware\",\"@{Disposable cup / straw / tableware}\"]]},\"id\":\"1622\",\"type\":\"HoverTool\"},{\"attributes\":{\"data_source\":{\"id\":\"1551\"},\"glyph\":{\"id\":\"1626\"},\"hover_glyph\":null,\"muted_glyph\":null,\"nonselection_glyph\":{\"id\":\"1627\"},\"view\":{\"id\":\"1629\"}},\"id\":\"1628\",\"type\":\"GlyphRenderer\"},{\"attributes\":{\"range\":{\"id\":\"1555\"},\"value\":-0.1590909090909091},\"id\":\"1624\",\"type\":\"Dodge\"},{\"attributes\":{\"label\":{\"value\":\" Disposable cup / straw / tableware\"},\"renderers\":[{\"id\":\"1610\"}]},\"id\":\"1621\",\"type\":\"LegendItem\"},{\"attributes\":{\"fill_alpha\":{\"value\":0.1},\"fill_color\":{\"value\":\"#ff9896\"},\"line_alpha\":{\"value\":0.1},\"line_color\":{\"value\":\"#ff9896\"},\"line_width\":{\"value\":2},\"top\":{\"field\":\"Cigarette and lighter\"},\"width\":{\"value\":0.043478260869565216},\"x\":{\"field\":\"__x__values\",\"transform\":{\"id\":\"1714\"}}},\"id\":\"1717\",\"type\":\"VBar\"},{\"attributes\":{\"label\":{\"value\":\" Fishing equipment\"},\"renderers\":[{\"id\":\"1700\"}]},\"id\":\"1711\",\"type\":\"LegendItem\"},{\"attributes\":{\"source\":{\"id\":\"1551\"}},\"id\":\"1629\",\"type\":\"CDSView\"},{\"attributes\":{\"fill_color\":{\"value\":\"#8c564b\"},\"line_color\":{\"value\":\"#8c564b\"},\"line_width\":{\"value\":2},\"top\":{\"field\":\"Paper\"},\"width\":{\"value\":0.043478260869565216},\"x\":{\"field\":\"__x__values\",\"transform\":{\"id\":\"1768\"}}},\"id\":\"1770\",\"type\":\"VBar\"},{\"attributes\":{\"label\":{\"value\":\" Paper\"},\"renderers\":[{\"id\":\"1772\"}]},\"id\":\"1783\",\"type\":\"LegendItem\"},{\"attributes\":{\"label\":{\"value\":\" Plastic bag\"},\"renderers\":[{\"id\":\"1628\"}]},\"id\":\"1639\",\"type\":\"LegendItem\"},{\"attributes\":{\"bottom_units\":\"screen\",\"fill_alpha\":0.5,\"fill_color\":\"lightgrey\",\"left_units\":\"screen\",\"level\":\"overlay\",\"line_alpha\":1.0,\"line_color\":\"black\",\"line_dash\":[4,4],\"line_width\":2,\"right_units\":\"screen\",\"syncable\":false,\"top_units\":\"screen\"},\"id\":\"1577\",\"type\":\"BoxAnnotation\"},{\"attributes\":{\"data_source\":{\"id\":\"1551\"},\"glyph\":{\"id\":\"1734\"},\"hover_glyph\":null,\"muted_glyph\":null,\"nonselection_glyph\":{\"id\":\"1735\"},\"view\":{\"id\":\"1737\"}},\"id\":\"1736\",\"type\":\"GlyphRenderer\"},{\"attributes\":{\"data_source\":{\"id\":\"1551\"},\"glyph\":{\"id\":\"1716\"},\"hover_glyph\":null,\"muted_glyph\":null,\"nonselection_glyph\":{\"id\":\"1717\"},\"view\":{\"id\":\"1719\"}},\"id\":\"1718\",\"type\":\"GlyphRenderer\"},{\"attributes\":{\"callback\":null,\"mode\":\"vline\",\"renderers\":[{\"id\":\"1664\"}],\"tooltips\":[[\"Shore_type\",\"@__x__values_original\"],[\"Float\",\"@{Float}\"]]},\"id\":\"1676\",\"type\":\"HoverTool\"},{\"attributes\":{\"fill_alpha\":{\"value\":0.1},\"fill_color\":{\"value\":\"#98df8a\"},\"line_alpha\":{\"value\":0.1},\"line_color\":{\"value\":\"#98df8a\"},\"line_width\":{\"value\":2},\"top\":{\"field\":\"Fishing nets and ropes\"},\"width\":{\"value\":0.043478260869565216},\"x\":{\"field\":\"__x__values\",\"transform\":{\"id\":\"1678\"}}},\"id\":\"1681\",\"type\":\"VBar\"},{\"attributes\":{\"range\":{\"id\":\"1555\"},\"value\":0.06818181818181818},\"id\":\"1714\",\"type\":\"Dodge\"},{\"attributes\":{\"callback\":null,\"mode\":\"vline\",\"renderers\":[{\"id\":\"1718\"}],\"tooltips\":[[\"Shore_type\",\"@__x__values_original\"],[\"Cigarette and lighter\",\"@{Cigarette and lighter}\"]]},\"id\":\"1730\",\"type\":\"HoverTool\"},{\"attributes\":{\"fill_color\":{\"value\":\"#98df8a\"},\"line_color\":{\"value\":\"#98df8a\"},\"line_width\":{\"value\":2},\"top\":{\"field\":\"Fishing nets and ropes\"},\"width\":{\"value\":0.043478260869565216},\"x\":{\"field\":\"__x__values\",\"transform\":{\"id\":\"1678\"}}},\"id\":\"1680\",\"type\":\"VBar\"},{\"attributes\":{\"range\":{\"id\":\"1555\"},\"value\":-0.022727272727272707},\"id\":\"1678\",\"type\":\"Dodge\"},{\"attributes\":{\"data\":{\"Cigarette and lighter\":[0,0,0,0,0,0,0,0,0,0,0,0,0,0,0,0,0,0,0,0,0,0,0,0,0,0,0,0,0,0,0,0,0,0,0,0,0,0,0,0,0,1,0,0,0,0,0,0,0,0,0,0,0,0,0,0,0],\"Disposable cup / straw / tableware\":[2,1,0,0,0,0,0,0,0,0,2,0,0,0,0,0,0,2,0,1,0,7,0,0,0,0,2,1,1,0,0,0,1,0,0,0,0,0,1,0,0,11,0,1,0,0,2,4,2,0,0,0,2,1,0,3,0],\"Fishing equipment\":[0,0,0,0,0,0,0,0,0,0,0,0,0,0,0,0,0,0,0,0,0,0,0,0,0,0,0,0,0,0,0,0,0,0,0,0,0,0,0,1,0,0,0,0,0,1,0,0,1,0,0,0,0,0,0,0,0],\"Fishing nets and ropes\":[0,1,2,1,0,0,0,0,0,0,1,0,0,0,4,0,1,8,2,1,0,9,0,1,2,1,3,1,0,15,1,4,1,3,0,0,1,0,3,0,1,28,0,4,1,0,1,3,10,0,0,1,8,0,0,4,1],\"Float\":[1,1,0,0,1,0,0,0,0,1,0,0,0,0,1,0,1,5,0,0,1,8,0,0,0,0,0,0,0,6,1,0,0,0,0,0,0,2,2,0,0,13,1,1,0,0,4,0,2,0,0,0,5,0,0,0,0],\"Foam material\":[3,2,0,1,1,0,1,0,1,1,0,1,0,0,4,0,0,9,0,1,1,14,2,1,2,1,3,1,0,13,1,2,3,2,1,0,0,3,2,0,0,31,1,6,1,1,2,7,7,2,0,0,10,0,0,0,1],\"Glass jar\":[1,0,2,0,0,0,0,0,0,0,0,0,0,0,0,0,0,0,2,0,0,3,1,1,0,0,1,0,1,1,0,2,0,1,0,1,0,0,0,0,0,9,0,0,1,0,1,4,0,1,0,0,0,0,0,0,0],\"Metal\":[0,0,0,0,0,0,0,0,0,0,0,0,1,0,0,0,0,0,0,0,0,0,0,0,0,0,0,0,0,0,0,0,0,0,0,0,0,0,0,0,0,1,0,0,0,0,2,0,4,0,0,0,2,0,0,0,0],\"Others\":[0,1,0,0,0,0,0,0,0,0,1,0,0,0,1,0,1,4,0,0,0,3,0,0,0,0,0,0,0,5,0,0,0,1,0,0,0,1,1,0,1,11,0,1,0,0,0,0,3,2,1,0,6,0,0,1,0],\"Paper\":[0,1,1,0,0,0,0,0,0,0,0,0,0,0,0,0,0,1,0,0,0,0,0,0,0,0,0,0,0,0,0,0,0,0,0,0,0,0,0,0,0,1,0,0,0,0,0,0,0,0,1,0,0,0,0,0,0],\"Plastic bag\":[0,1,0,0,0,0,0,0,0,0,0,1,0,0,0,0,1,1,0,0,0,3,0,1,0,0,0,0,0,1,0,1,0,0,0,0,0,0,0,1,0,5,0,0,0,0,0,0,1,0,0,1,1,0,0,1,0],\"Plastic bottle container\":[2,4,1,1,1,0,1,1,1,1,3,1,1,1,5,0,1,5,2,1,1,17,2,3,2,1,3,3,2,10,0,5,3,4,1,1,0,2,5,1,1,41,1,11,2,3,5,5,20,4,1,0,17,1,1,1,1],\"__x__values\":[0,1,2,3,4,5,6,7,8,9,10,11,12,13,14,15,16,17,18,19,20,21,22,23,24,25,26,27,28,29,30,31,32,33,34,35,36,37,38,39,40,41,42,43,44,45,46,47,48,49,50,51,52,53,54,55,56],\"__x__values_original\":[\"\",\"1\\u66b4\\u9732\\u5ca9\\u5cb8\",\"1\\u66b4\\u9732\\u5ca9\\u5cb8_2\\u66b4\\u9732\\u4eba\\u9020\\u7d50\\u69cb\\u7269_4\\u6c99\\u7058\",\"1\\u66b4\\u9732\\u5ca9\\u5cb8_2\\u66b4\\u9732\\u4eba\\u9020\\u7d50\\u69cb\\u7269_4\\u6c99\\u7058_6\\u792b\\u77f3\\u7058\",\"1\\u66b4\\u9732\\u5ca9\\u5cb8_3\\u66b4\\u9732\\u5ca9\\u76e4\",\"1\\u66b4\\u9732\\u5ca9\\u5cb8_3\\u66b4\\u9732\\u5ca9\\u76e4_4\\u6c99\\u7058_5\\u7802\\u792b\\u6df7\\u5408\\u7058\",\"1\\u66b4\\u9732\\u5ca9\\u5cb8_3\\u66b4\\u9732\\u5ca9\\u76e4_5\\u7802\\u792b\\u6df7\\u5408\\u7058_6\\u792b\\u77f3\\u7058_9\\u906e\\u853d\\u6f6e\\u9593\\u5e36\",\"1\\u66b4\\u9732\\u5ca9\\u5cb8_3\\u66b4\\u9732\\u5ca9\\u76e4_6\\u792b\\u77f3\\u7058\",\"1\\u66b4\\u9732\\u5ca9\\u5cb8_3\\u66b4\\u9732\\u5ca9\\u76e4_6\\u792b\\u77f3\\u7058_9\\u906e\\u853d\\u6f6e\\u9593\\u5e36\",\"1\\u66b4\\u9732\\u5ca9\\u5cb8_3\\u66b4\\u9732\\u5ca9\\u76e4_7\\u958b\\u95ca\\u6f6e\\u9593\\u5e36\",\"1\\u66b4\\u9732\\u5ca9\\u5cb8_4\\u6c99\\u7058\",\"1\\u66b4\\u9732\\u5ca9\\u5cb8_4\\u6c99\\u7058_5\\u7802\\u792b\\u6df7\\u5408\\u7058\",\"1\\u66b4\\u9732\\u5ca9\\u5cb8_4\\u6c99\\u7058_5\\u7802\\u792b\\u6df7\\u5408\\u7058_6\\u792b\\u77f3\\u7058\",\"1\\u66b4\\u9732\\u5ca9\\u5cb8_5\\u7802\\u792b\\u6df7\\u5408\\u7058\",\"1\\u66b4\\u9732\\u5ca9\\u5cb8_6\\u792b\\u77f3\\u7058\",\"1\\u66b4\\u9732\\u5ca9\\u5cb8_6\\u792b\\u77f3\\u7058_7\\u958b\\u95ca\\u6f6e\\u9593\\u5e36\",\"1\\u66b4\\u9732\\u5ca9\\u5cb8_7\\u958b\\u95ca\\u6f6e\\u9593\\u5e36\",\"2\\u66b4\\u9732\\u4eba\\u9020\\u7d50\\u69cb\\u7269\",\"2\\u66b4\\u9732\\u4eba\\u9020\\u7d50\\u69cb\\u7269_10\\u906e\\u853d\\u6fd5\\u5730\",\"2\\u66b4\\u9732\\u4eba\\u9020\\u7d50\\u69cb\\u7269_3\\u66b4\\u9732\\u5ca9\\u76e4\",\"2\\u66b4\\u9732\\u4eba\\u9020\\u7d50\\u69cb\\u7269_3\\u66b4\\u9732\\u5ca9\\u76e4_6\\u792b\\u77f3\\u7058\",\"2\\u66b4\\u9732\\u4eba\\u9020\\u7d50\\u69cb\\u7269_4\\u6c99\\u7058\",\"2\\u66b4\\u9732\\u4eba\\u9020\\u7d50\\u69cb\\u7269_4\\u6c99\\u7058_5\\u7802\\u792b\\u6df7\\u5408\\u7058\",\"2\\u66b4\\u9732\\u4eba\\u9020\\u7d50\\u69cb\\u7269_4\\u6c99\\u7058_6\\u792b\\u77f3\\u7058\",\"2\\u66b4\\u9732\\u4eba\\u9020\\u7d50\\u69cb\\u7269_4\\u6c99\\u7058_7\\u958b\\u95ca\\u6f6e\\u9593\\u5e36\",\"2\\u66b4\\u9732\\u4eba\\u9020\\u7d50\\u69cb\\u7269_4\\u6c99\\u7058_7\\u958b\\u95ca\\u6f6e\\u9593\\u5e36_10\\u906e\\u853d\\u6fd5\\u5730\",\"2\\u66b4\\u9732\\u4eba\\u9020\\u7d50\\u69cb\\u7269_4\\u6c99\\u7058_8\\u906e\\u853d\\u5ca9\\u5cb8\",\"2\\u66b4\\u9732\\u4eba\\u9020\\u7d50\\u69cb\\u7269_5\\u7802\\u792b\\u6df7\\u5408\\u7058\",\"2\\u66b4\\u9732\\u4eba\\u9020\\u7d50\\u69cb\\u7269_5\\u7802\\u792b\\u6df7\\u5408\\u7058_6\\u792b\\u77f3\\u7058\",\"2\\u66b4\\u9732\\u4eba\\u9020\\u7d50\\u69cb\\u7269_6\\u792b\\u77f3\\u7058\",\"2\\u66b4\\u9732\\u4eba\\u9020\\u7d50\\u69cb\\u7269_6\\u792b\\u77f3\\u7058_7\\u958b\\u95ca\\u6f6e\\u9593\\u5e36\",\"2\\u66b4\\u9732\\u4eba\\u9020\\u7d50\\u69cb\\u7269_7\\u958b\\u95ca\\u6f6e\\u9593\\u5e36\",\"2\\u66b4\\u9732\\u4eba\\u9020\\u7d50\\u69cb\\u7269_8\\u906e\\u853d\\u5ca9\\u5cb8\",\"3\\u66b4\\u9732\\u5ca9\\u76e4\",\"3\\u66b4\\u9732\\u5ca9\\u76e4_4\\u6c99\\u7058\",\"3\\u66b4\\u9732\\u5ca9\\u76e4_4\\u6c99\\u7058_5\\u7802\\u792b\\u6df7\\u5408\\u7058\",\"3\\u66b4\\u9732\\u5ca9\\u76e4_4\\u6c99\\u7058_5\\u7802\\u792b\\u6df7\\u5408\\u7058_7\\u958b\\u95ca\\u6f6e\\u9593\\u5e36\",\"3\\u66b4\\u9732\\u5ca9\\u76e4_5\\u7802\\u792b\\u6df7\\u5408\\u7058\",\"3\\u66b4\\u9732\\u5ca9\\u76e4_6\\u792b\\u77f3\\u7058\",\"3\\u66b4\\u9732\\u5ca9\\u76e4_7\\u958b\\u95ca\\u6f6e\\u9593\\u5e36\",\"3\\u66b4\\u9732\\u5ca9\\u76e4_9\\u906e\\u853d\\u6f6e\\u9593\\u5e36\",\"4\\u6c99\\u7058\",\"4\\u6c99\\u7058_10\\u906e\\u853d\\u6fd5\\u5730\",\"4\\u6c99\\u7058_5\\u7802\\u792b\\u6df7\\u5408\\u7058\",\"4\\u6c99\\u7058_5\\u7802\\u792b\\u6df7\\u5408\\u7058_6\\u792b\\u77f3\\u7058\",\"4\\u6c99\\u7058_6\\u792b\\u77f3\\u7058\",\"4\\u6c99\\u7058_7\\u958b\\u95ca\\u6f6e\\u9593\\u5e36\",\"4\\u6c99\\u7058_8\\u906e\\u853d\\u5ca9\\u5cb8\",\"5\\u7802\\u792b\\u6df7\\u5408\\u7058\",\"5\\u7802\\u792b\\u6df7\\u5408\\u7058_6\\u792b\\u77f3\\u7058\",\"5\\u7802\\u792b\\u6df7\\u5408\\u7058_6\\u792b\\u77f3\\u7058_8\\u906e\\u853d\\u5ca9\\u5cb8\",\"5\\u7802\\u792b\\u6df7\\u5408\\u7058_7\\u958b\\u95ca\\u6f6e\\u9593\\u5e36\",\"6\\u792b\\u77f3\\u7058\",\"6\\u792b\\u77f3\\u7058_7\\u958b\\u95ca\\u6f6e\\u9593\\u5e36\",\"6\\u792b\\u77f3\\u7058_8\\u906e\\u853d\\u5ca9\\u5cb8\",\"7\\u958b\\u95ca\\u6f6e\\u9593\\u5e36\",\"8\\u906e\\u853d\\u5ca9\\u5cb8\"]},\"selected\":{\"id\":\"1601\"},\"selection_policy\":{\"id\":\"1600\"}},\"id\":\"1551\",\"type\":\"ColumnDataSource\"},{\"attributes\":{\"source\":{\"id\":\"1551\"}},\"id\":\"1683\",\"type\":\"CDSView\"},{\"attributes\":{},\"id\":\"1600\",\"type\":\"UnionRenderers\"},{\"attributes\":{\"label\":{\"value\":\" Fishing nets and ropes\"},\"renderers\":[{\"id\":\"1682\"}]},\"id\":\"1693\",\"type\":\"LegendItem\"},{\"attributes\":{\"data_source\":{\"id\":\"1551\"},\"glyph\":{\"id\":\"1680\"},\"hover_glyph\":null,\"muted_glyph\":null,\"nonselection_glyph\":{\"id\":\"1681\"},\"view\":{\"id\":\"1683\"}},\"id\":\"1682\",\"type\":\"GlyphRenderer\"},{\"attributes\":{\"callback\":null,\"mode\":\"vline\",\"renderers\":[{\"id\":\"1682\"}],\"tooltips\":[[\"Shore_type\",\"@__x__values_original\"],[\"Fishing nets and ropes\",\"@{Fishing nets and ropes}\"]]},\"id\":\"1694\",\"type\":\"HoverTool\"}],\"root_ids\":[\"1552\"]},\"title\":\"Bokeh Application\",\"version\":\"2.3.2\"}};\n",
       "  var render_items = [{\"docid\":\"0d8ee60a-1289-45a4-bfd8-7b89aa93472b\",\"root_ids\":[\"1552\"],\"roots\":{\"1552\":\"32244f40-c909-43fd-9f28-a8c04417c806\"}}];\n",
       "  root.Bokeh.embed.embed_items_notebook(docs_json, render_items);\n",
       "\n",
       "  }\n",
       "  if (root.Bokeh !== undefined) {\n",
       "    embed_document(root);\n",
       "  } else {\n",
       "    var attempts = 0;\n",
       "    var timer = setInterval(function(root) {\n",
       "      if (root.Bokeh !== undefined) {\n",
       "        clearInterval(timer);\n",
       "        embed_document(root);\n",
       "      } else {\n",
       "        attempts++;\n",
       "        if (attempts > 100) {\n",
       "          clearInterval(timer);\n",
       "          console.log(\"Bokeh: ERROR: Unable to run BokehJS code because BokehJS library is missing\");\n",
       "        }\n",
       "      }\n",
       "    }, 10, root)\n",
       "  }\n",
       "})(window);"
      ],
      "application/vnd.bokehjs_exec.v0+json": ""
     },
     "metadata": {
      "application/vnd.bokehjs_exec.v0+json": {
       "id": "1552"
      }
     },
     "output_type": "display_data"
    },
    {
     "data": {
      "text/html": [
       "<div style=\"display: table;\"><div style=\"display: table-row;\"><div style=\"display: table-cell;\"><b title=\"bokeh.plotting.figure.Figure\">Figure</b>(</div><div style=\"display: table-cell;\">id&nbsp;=&nbsp;'1552', <span id=\"1880\" style=\"cursor: pointer;\">&hellip;)</span></div></div><div class=\"1879\" style=\"display: none;\"><div style=\"display: table-cell;\"></div><div style=\"display: table-cell;\">above&nbsp;=&nbsp;[],</div></div><div class=\"1879\" style=\"display: none;\"><div style=\"display: table-cell;\"></div><div style=\"display: table-cell;\">align&nbsp;=&nbsp;'start',</div></div><div class=\"1879\" style=\"display: none;\"><div style=\"display: table-cell;\"></div><div style=\"display: table-cell;\">aspect_ratio&nbsp;=&nbsp;None,</div></div><div class=\"1879\" style=\"display: none;\"><div style=\"display: table-cell;\"></div><div style=\"display: table-cell;\">aspect_scale&nbsp;=&nbsp;1,</div></div><div class=\"1879\" style=\"display: none;\"><div style=\"display: table-cell;\"></div><div style=\"display: table-cell;\">background&nbsp;=&nbsp;None,</div></div><div class=\"1879\" style=\"display: none;\"><div style=\"display: table-cell;\"></div><div style=\"display: table-cell;\">background_fill_alpha&nbsp;=&nbsp;1.0,</div></div><div class=\"1879\" style=\"display: none;\"><div style=\"display: table-cell;\"></div><div style=\"display: table-cell;\">background_fill_color&nbsp;=&nbsp;'#ffffff',</div></div><div class=\"1879\" style=\"display: none;\"><div style=\"display: table-cell;\"></div><div style=\"display: table-cell;\">below&nbsp;=&nbsp;[LinearAxis(id='1563', ...)],</div></div><div class=\"1879\" style=\"display: none;\"><div style=\"display: table-cell;\"></div><div style=\"display: table-cell;\">border_fill_alpha&nbsp;=&nbsp;1.0,</div></div><div class=\"1879\" style=\"display: none;\"><div style=\"display: table-cell;\"></div><div style=\"display: table-cell;\">border_fill_color&nbsp;=&nbsp;'#ffffff',</div></div><div class=\"1879\" style=\"display: none;\"><div style=\"display: table-cell;\"></div><div style=\"display: table-cell;\">center&nbsp;=&nbsp;[Grid(id='1566', ...), Grid(id='1570', ...), Legend(id='1602', ...)],</div></div><div class=\"1879\" style=\"display: none;\"><div style=\"display: table-cell;\"></div><div style=\"display: table-cell;\">css_classes&nbsp;=&nbsp;[],</div></div><div class=\"1879\" style=\"display: none;\"><div style=\"display: table-cell;\"></div><div style=\"display: table-cell;\">disabled&nbsp;=&nbsp;False,</div></div><div class=\"1879\" style=\"display: none;\"><div style=\"display: table-cell;\"></div><div style=\"display: table-cell;\">extra_x_ranges&nbsp;=&nbsp;{},</div></div><div class=\"1879\" style=\"display: none;\"><div style=\"display: table-cell;\"></div><div style=\"display: table-cell;\">extra_y_ranges&nbsp;=&nbsp;{},</div></div><div class=\"1879\" style=\"display: none;\"><div style=\"display: table-cell;\"></div><div style=\"display: table-cell;\">frame_height&nbsp;=&nbsp;None,</div></div><div class=\"1879\" style=\"display: none;\"><div style=\"display: table-cell;\"></div><div style=\"display: table-cell;\">frame_width&nbsp;=&nbsp;None,</div></div><div class=\"1879\" style=\"display: none;\"><div style=\"display: table-cell;\"></div><div style=\"display: table-cell;\">height&nbsp;=&nbsp;500,</div></div><div class=\"1879\" style=\"display: none;\"><div style=\"display: table-cell;\"></div><div style=\"display: table-cell;\">height_policy&nbsp;=&nbsp;'auto',</div></div><div class=\"1879\" style=\"display: none;\"><div style=\"display: table-cell;\"></div><div style=\"display: table-cell;\">hidpi&nbsp;=&nbsp;True,</div></div><div class=\"1879\" style=\"display: none;\"><div style=\"display: table-cell;\"></div><div style=\"display: table-cell;\">inner_height&nbsp;=&nbsp;0,</div></div><div class=\"1879\" style=\"display: none;\"><div style=\"display: table-cell;\"></div><div style=\"display: table-cell;\">inner_width&nbsp;=&nbsp;0,</div></div><div class=\"1879\" style=\"display: none;\"><div style=\"display: table-cell;\"></div><div style=\"display: table-cell;\">js_event_callbacks&nbsp;=&nbsp;{},</div></div><div class=\"1879\" style=\"display: none;\"><div style=\"display: table-cell;\"></div><div style=\"display: table-cell;\">js_property_callbacks&nbsp;=&nbsp;{},</div></div><div class=\"1879\" style=\"display: none;\"><div style=\"display: table-cell;\"></div><div style=\"display: table-cell;\">left&nbsp;=&nbsp;[LinearAxis(id='1567', ...)],</div></div><div class=\"1879\" style=\"display: none;\"><div style=\"display: table-cell;\"></div><div style=\"display: table-cell;\">lod_factor&nbsp;=&nbsp;10,</div></div><div class=\"1879\" style=\"display: none;\"><div style=\"display: table-cell;\"></div><div style=\"display: table-cell;\">lod_interval&nbsp;=&nbsp;300,</div></div><div class=\"1879\" style=\"display: none;\"><div style=\"display: table-cell;\"></div><div style=\"display: table-cell;\">lod_threshold&nbsp;=&nbsp;2000,</div></div><div class=\"1879\" style=\"display: none;\"><div style=\"display: table-cell;\"></div><div style=\"display: table-cell;\">lod_timeout&nbsp;=&nbsp;500,</div></div><div class=\"1879\" style=\"display: none;\"><div style=\"display: table-cell;\"></div><div style=\"display: table-cell;\">margin&nbsp;=&nbsp;(0, 0, 0, 0),</div></div><div class=\"1879\" style=\"display: none;\"><div style=\"display: table-cell;\"></div><div style=\"display: table-cell;\">match_aspect&nbsp;=&nbsp;False,</div></div><div class=\"1879\" style=\"display: none;\"><div style=\"display: table-cell;\"></div><div style=\"display: table-cell;\">max_height&nbsp;=&nbsp;None,</div></div><div class=\"1879\" style=\"display: none;\"><div style=\"display: table-cell;\"></div><div style=\"display: table-cell;\">max_width&nbsp;=&nbsp;None,</div></div><div class=\"1879\" style=\"display: none;\"><div style=\"display: table-cell;\"></div><div style=\"display: table-cell;\">min_border&nbsp;=&nbsp;5,</div></div><div class=\"1879\" style=\"display: none;\"><div style=\"display: table-cell;\"></div><div style=\"display: table-cell;\">min_border_bottom&nbsp;=&nbsp;None,</div></div><div class=\"1879\" style=\"display: none;\"><div style=\"display: table-cell;\"></div><div style=\"display: table-cell;\">min_border_left&nbsp;=&nbsp;None,</div></div><div class=\"1879\" style=\"display: none;\"><div style=\"display: table-cell;\"></div><div style=\"display: table-cell;\">min_border_right&nbsp;=&nbsp;None,</div></div><div class=\"1879\" style=\"display: none;\"><div style=\"display: table-cell;\"></div><div style=\"display: table-cell;\">min_border_top&nbsp;=&nbsp;None,</div></div><div class=\"1879\" style=\"display: none;\"><div style=\"display: table-cell;\"></div><div style=\"display: table-cell;\">min_height&nbsp;=&nbsp;None,</div></div><div class=\"1879\" style=\"display: none;\"><div style=\"display: table-cell;\"></div><div style=\"display: table-cell;\">min_width&nbsp;=&nbsp;None,</div></div><div class=\"1879\" style=\"display: none;\"><div style=\"display: table-cell;\"></div><div style=\"display: table-cell;\">name&nbsp;=&nbsp;None,</div></div><div class=\"1879\" style=\"display: none;\"><div style=\"display: table-cell;\"></div><div style=\"display: table-cell;\">outer_height&nbsp;=&nbsp;0,</div></div><div class=\"1879\" style=\"display: none;\"><div style=\"display: table-cell;\"></div><div style=\"display: table-cell;\">outer_width&nbsp;=&nbsp;0,</div></div><div class=\"1879\" style=\"display: none;\"><div style=\"display: table-cell;\"></div><div style=\"display: table-cell;\">outline_line_alpha&nbsp;=&nbsp;1.0,</div></div><div class=\"1879\" style=\"display: none;\"><div style=\"display: table-cell;\"></div><div style=\"display: table-cell;\">outline_line_cap&nbsp;=&nbsp;'butt',</div></div><div class=\"1879\" style=\"display: none;\"><div style=\"display: table-cell;\"></div><div style=\"display: table-cell;\">outline_line_color&nbsp;=&nbsp;'#e5e5e5',</div></div><div class=\"1879\" style=\"display: none;\"><div style=\"display: table-cell;\"></div><div style=\"display: table-cell;\">outline_line_dash&nbsp;=&nbsp;[],</div></div><div class=\"1879\" style=\"display: none;\"><div style=\"display: table-cell;\"></div><div style=\"display: table-cell;\">outline_line_dash_offset&nbsp;=&nbsp;0,</div></div><div class=\"1879\" style=\"display: none;\"><div style=\"display: table-cell;\"></div><div style=\"display: table-cell;\">outline_line_join&nbsp;=&nbsp;'bevel',</div></div><div class=\"1879\" style=\"display: none;\"><div style=\"display: table-cell;\"></div><div style=\"display: table-cell;\">outline_line_width&nbsp;=&nbsp;1,</div></div><div class=\"1879\" style=\"display: none;\"><div style=\"display: table-cell;\"></div><div style=\"display: table-cell;\">output_backend&nbsp;=&nbsp;'webgl',</div></div><div class=\"1879\" style=\"display: none;\"><div style=\"display: table-cell;\"></div><div style=\"display: table-cell;\">renderers&nbsp;=&nbsp;[GlyphRenderer(id='1591', ...), GlyphRenderer(id='1610', ...), GlyphRenderer(id='1628', ...), GlyphRenderer(id='1646', ...), GlyphRenderer(id='1664', ...), GlyphRenderer(id='1682', ...), GlyphRenderer(id='1700', ...), GlyphRenderer(id='1718', ...), GlyphRenderer(id='1736', ...), GlyphRenderer(id='1754', ...), GlyphRenderer(id='1772', ...), GlyphRenderer(id='1790', ...)],</div></div><div class=\"1879\" style=\"display: none;\"><div style=\"display: table-cell;\"></div><div style=\"display: table-cell;\">reset_policy&nbsp;=&nbsp;'standard',</div></div><div class=\"1879\" style=\"display: none;\"><div style=\"display: table-cell;\"></div><div style=\"display: table-cell;\">right&nbsp;=&nbsp;[],</div></div><div class=\"1879\" style=\"display: none;\"><div style=\"display: table-cell;\"></div><div style=\"display: table-cell;\">sizing_mode&nbsp;=&nbsp;'fixed',</div></div><div class=\"1879\" style=\"display: none;\"><div style=\"display: table-cell;\"></div><div style=\"display: table-cell;\">subscribed_events&nbsp;=&nbsp;[],</div></div><div class=\"1879\" style=\"display: none;\"><div style=\"display: table-cell;\"></div><div style=\"display: table-cell;\">syncable&nbsp;=&nbsp;True,</div></div><div class=\"1879\" style=\"display: none;\"><div style=\"display: table-cell;\"></div><div style=\"display: table-cell;\">tags&nbsp;=&nbsp;[],</div></div><div class=\"1879\" style=\"display: none;\"><div style=\"display: table-cell;\"></div><div style=\"display: table-cell;\">title&nbsp;=&nbsp;Title(id='1553', ...),</div></div><div class=\"1879\" style=\"display: none;\"><div style=\"display: table-cell;\"></div><div style=\"display: table-cell;\">title_location&nbsp;=&nbsp;'above',</div></div><div class=\"1879\" style=\"display: none;\"><div style=\"display: table-cell;\"></div><div style=\"display: table-cell;\">toolbar&nbsp;=&nbsp;Toolbar(id='1578', ...),</div></div><div class=\"1879\" style=\"display: none;\"><div style=\"display: table-cell;\"></div><div style=\"display: table-cell;\">toolbar_location&nbsp;=&nbsp;'right',</div></div><div class=\"1879\" style=\"display: none;\"><div style=\"display: table-cell;\"></div><div style=\"display: table-cell;\">toolbar_sticky&nbsp;=&nbsp;True,</div></div><div class=\"1879\" style=\"display: none;\"><div style=\"display: table-cell;\"></div><div style=\"display: table-cell;\">visible&nbsp;=&nbsp;True,</div></div><div class=\"1879\" style=\"display: none;\"><div style=\"display: table-cell;\"></div><div style=\"display: table-cell;\">width&nbsp;=&nbsp;1200,</div></div><div class=\"1879\" style=\"display: none;\"><div style=\"display: table-cell;\"></div><div style=\"display: table-cell;\">width_policy&nbsp;=&nbsp;'auto',</div></div><div class=\"1879\" style=\"display: none;\"><div style=\"display: table-cell;\"></div><div style=\"display: table-cell;\">x_range&nbsp;=&nbsp;DataRange1d(id='1555', ...),</div></div><div class=\"1879\" style=\"display: none;\"><div style=\"display: table-cell;\"></div><div style=\"display: table-cell;\">x_scale&nbsp;=&nbsp;LinearScale(id='1559', ...),</div></div><div class=\"1879\" style=\"display: none;\"><div style=\"display: table-cell;\"></div><div style=\"display: table-cell;\">y_range&nbsp;=&nbsp;DataRange1d(id='1557', ...),</div></div><div class=\"1879\" style=\"display: none;\"><div style=\"display: table-cell;\"></div><div style=\"display: table-cell;\">y_scale&nbsp;=&nbsp;LinearScale(id='1561', ...))</div></div></div>\n",
       "<script>\n",
       "(function() {\n",
       "  var expanded = false;\n",
       "  var ellipsis = document.getElementById(\"1880\");\n",
       "  ellipsis.addEventListener(\"click\", function() {\n",
       "    var rows = document.getElementsByClassName(\"1879\");\n",
       "    for (var i = 0; i < rows.length; i++) {\n",
       "      var el = rows[i];\n",
       "      el.style.display = expanded ? \"none\" : \"table-row\";\n",
       "    }\n",
       "    ellipsis.innerHTML = expanded ? \"&hellip;)\" : \"&lsaquo;&lsaquo;&lsaquo;\";\n",
       "    expanded = !expanded;\n",
       "  });\n",
       "})();\n",
       "</script>\n"
      ],
      "text/plain": [
       "Figure(id='1552', ...)"
      ]
     },
     "execution_count": 39,
     "metadata": {},
     "output_type": "execute_result"
    }
   ],
   "source": [
    "df.plot_bokeh.bar(figsize=(1200, 500))"
   ]
  },
  {
   "cell_type": "markdown",
   "metadata": {
    "id": "njbGzsRislX3"
   },
   "source": [
    "### 地形跟海廢等級的關聯"
   ]
  },
  {
   "cell_type": "code",
   "execution_count": 40,
   "metadata": {
    "id": "pPhZHm1eOpk7"
   },
   "outputs": [
    {
     "name": "stdout",
     "output_type": "stream",
     "text": [
      "['1暴露岩岸', '2暴露人造結構物', '3暴露岩盤', '4沙灘', '5砂礫混合灘', '6礫石灘', '7開闊潮間帶', '8遮蔽岩岸', '9遮蔽潮間帶', '10遮蔽濕地']\n"
     ]
    },
    {
     "data": {
      "text/html": [
       "<div>\n",
       "<style scoped>\n",
       "    .dataframe tbody tr th:only-of-type {\n",
       "        vertical-align: middle;\n",
       "    }\n",
       "\n",
       "    .dataframe tbody tr th {\n",
       "        vertical-align: top;\n",
       "    }\n",
       "\n",
       "    .dataframe thead th {\n",
       "        text-align: right;\n",
       "    }\n",
       "</style>\n",
       "<table border=\"1\" class=\"dataframe\">\n",
       "  <thead>\n",
       "    <tr style=\"text-align: right;\">\n",
       "      <th></th>\n",
       "      <th>Station</th>\n",
       "      <th>Season</th>\n",
       "      <th>County</th>\n",
       "      <th>Location</th>\n",
       "      <th>Lat</th>\n",
       "      <th>Lon</th>\n",
       "      <th>縣市</th>\n",
       "      <th>海岸段</th>\n",
       "      <th>Region</th>\n",
       "      <th>Seat</th>\n",
       "      <th>...</th>\n",
       "      <th>Metal</th>\n",
       "      <th>Paper</th>\n",
       "      <th>Others</th>\n",
       "      <th>LEVEL</th>\n",
       "      <th>shape_1</th>\n",
       "      <th>shape_2</th>\n",
       "      <th>shape_3</th>\n",
       "      <th>Lat_std</th>\n",
       "      <th>Lon_std</th>\n",
       "      <th>Shore_type</th>\n",
       "    </tr>\n",
       "  </thead>\n",
       "  <tbody>\n",
       "    <tr>\n",
       "      <th>50</th>\n",
       "      <td>HL11</td>\n",
       "      <td>3</td>\n",
       "      <td>花蓮縣豐濱鄉立德村</td>\n",
       "      <td>立德</td>\n",
       "      <td>23.55709</td>\n",
       "      <td>121.51363</td>\n",
       "      <td>15</td>\n",
       "      <td>5</td>\n",
       "      <td>1</td>\n",
       "      <td>3</td>\n",
       "      <td>...</td>\n",
       "      <td>0</td>\n",
       "      <td>0</td>\n",
       "      <td>0</td>\n",
       "      <td>4</td>\n",
       "      <td>0</td>\n",
       "      <td>1</td>\n",
       "      <td>0</td>\n",
       "      <td>-0.122464</td>\n",
       "      <td>0.938403</td>\n",
       "      <td>1暴露岩岸_5砂礫混合灘</td>\n",
       "    </tr>\n",
       "    <tr>\n",
       "      <th>51</th>\n",
       "      <td>HL11</td>\n",
       "      <td>4</td>\n",
       "      <td>花蓮縣豐濱鄉立德村</td>\n",
       "      <td>立德</td>\n",
       "      <td>23.55709</td>\n",
       "      <td>121.51363</td>\n",
       "      <td>15</td>\n",
       "      <td>5</td>\n",
       "      <td>1</td>\n",
       "      <td>3</td>\n",
       "      <td>...</td>\n",
       "      <td>1</td>\n",
       "      <td>0</td>\n",
       "      <td>0</td>\n",
       "      <td>2</td>\n",
       "      <td>0</td>\n",
       "      <td>1</td>\n",
       "      <td>0</td>\n",
       "      <td>-0.122464</td>\n",
       "      <td>0.938403</td>\n",
       "      <td>1暴露岩岸_4沙灘_5砂礫混合灘_6礫石灘</td>\n",
       "    </tr>\n",
       "    <tr>\n",
       "      <th>70</th>\n",
       "      <td>M05</td>\n",
       "      <td>3</td>\n",
       "      <td>雲林縣四湖鄉</td>\n",
       "      <td>三條崙海水浴場北側</td>\n",
       "      <td>23.66413</td>\n",
       "      <td>120.15401</td>\n",
       "      <td>9</td>\n",
       "      <td>3</td>\n",
       "      <td>2</td>\n",
       "      <td>7</td>\n",
       "      <td>...</td>\n",
       "      <td>0</td>\n",
       "      <td>0</td>\n",
       "      <td>0</td>\n",
       "      <td>7</td>\n",
       "      <td>0</td>\n",
       "      <td>1</td>\n",
       "      <td>0</td>\n",
       "      <td>-0.018220</td>\n",
       "      <td>-1.332480</td>\n",
       "      <td>1暴露岩岸_6礫石灘</td>\n",
       "    </tr>\n",
       "    <tr>\n",
       "      <th>71</th>\n",
       "      <td>M05</td>\n",
       "      <td>4</td>\n",
       "      <td>雲林縣四湖鄉</td>\n",
       "      <td>三條崙海水浴場北側</td>\n",
       "      <td>23.66413</td>\n",
       "      <td>120.15401</td>\n",
       "      <td>9</td>\n",
       "      <td>3</td>\n",
       "      <td>2</td>\n",
       "      <td>7</td>\n",
       "      <td>...</td>\n",
       "      <td>0</td>\n",
       "      <td>0</td>\n",
       "      <td>0</td>\n",
       "      <td>6</td>\n",
       "      <td>0</td>\n",
       "      <td>1</td>\n",
       "      <td>0</td>\n",
       "      <td>-0.018220</td>\n",
       "      <td>-1.332480</td>\n",
       "      <td>1暴露岩岸_2暴露人造結構物_4沙灘_6礫石灘</td>\n",
       "    </tr>\n",
       "    <tr>\n",
       "      <th>152</th>\n",
       "      <td>N13</td>\n",
       "      <td>2</td>\n",
       "      <td>新北</td>\n",
       "      <td>淺水灣</td>\n",
       "      <td>25.24992</td>\n",
       "      <td>121.46426</td>\n",
       "      <td>3</td>\n",
       "      <td>1</td>\n",
       "      <td>3</td>\n",
       "      <td>1</td>\n",
       "      <td>...</td>\n",
       "      <td>0</td>\n",
       "      <td>0</td>\n",
       "      <td>1</td>\n",
       "      <td>2</td>\n",
       "      <td>1</td>\n",
       "      <td>0</td>\n",
       "      <td>0</td>\n",
       "      <td>1.526151</td>\n",
       "      <td>0.855944</td>\n",
       "      <td>1暴露岩岸_4沙灘</td>\n",
       "    </tr>\n",
       "  </tbody>\n",
       "</table>\n",
       "<p>5 rows × 40 columns</p>\n",
       "</div>"
      ],
      "text/plain": [
       "    Station  Season     County   Location       Lat        Lon  縣市  海岸段  \\\n",
       "50     HL11       3  花蓮縣豐濱鄉立德村         立德  23.55709  121.51363  15    5   \n",
       "51     HL11       4  花蓮縣豐濱鄉立德村         立德  23.55709  121.51363  15    5   \n",
       "70      M05       3     雲林縣四湖鄉  三條崙海水浴場北側  23.66413  120.15401   9    3   \n",
       "71      M05       4     雲林縣四湖鄉  三條崙海水浴場北側  23.66413  120.15401   9    3   \n",
       "152     N13       2         新北        淺水灣  25.24992  121.46426   3    1   \n",
       "\n",
       "     Region  Seat  ...  Metal  Paper  Others  LEVEL  shape_1  shape_2  \\\n",
       "50        1     3  ...      0      0       0      4        0        1   \n",
       "51        1     3  ...      1      0       0      2        0        1   \n",
       "70        2     7  ...      0      0       0      7        0        1   \n",
       "71        2     7  ...      0      0       0      6        0        1   \n",
       "152       3     1  ...      0      0       1      2        1        0   \n",
       "\n",
       "     shape_3   Lat_std   Lon_std               Shore_type  \n",
       "50         0 -0.122464  0.938403             1暴露岩岸_5砂礫混合灘  \n",
       "51         0 -0.122464  0.938403    1暴露岩岸_4沙灘_5砂礫混合灘_6礫石灘  \n",
       "70         0 -0.018220 -1.332480               1暴露岩岸_6礫石灘  \n",
       "71         0 -0.018220 -1.332480  1暴露岩岸_2暴露人造結構物_4沙灘_6礫石灘  \n",
       "152        0  1.526151  0.855944                1暴露岩岸_4沙灘  \n",
       "\n",
       "[5 rows x 40 columns]"
      ]
     },
     "execution_count": 40,
     "metadata": {},
     "output_type": "execute_result"
    }
   ],
   "source": [
    "print(shore_type)\n",
    "train[train['1暴露岩岸'] == 1].head()"
   ]
  },
  {
   "cell_type": "code",
   "execution_count": 41,
   "metadata": {
    "id": "NmFvWAnm1KaR"
   },
   "outputs": [
    {
     "data": {
      "text/html": [
       "<div>\n",
       "<style scoped>\n",
       "    .dataframe tbody tr th:only-of-type {\n",
       "        vertical-align: middle;\n",
       "    }\n",
       "\n",
       "    .dataframe tbody tr th {\n",
       "        vertical-align: top;\n",
       "    }\n",
       "\n",
       "    .dataframe thead th {\n",
       "        text-align: right;\n",
       "    }\n",
       "</style>\n",
       "<table border=\"1\" class=\"dataframe\">\n",
       "  <thead>\n",
       "    <tr style=\"text-align: right;\">\n",
       "      <th></th>\n",
       "      <th>LEVEL</th>\n",
       "    </tr>\n",
       "  </thead>\n",
       "  <tbody>\n",
       "    <tr>\n",
       "      <th>1暴露岩岸</th>\n",
       "      <td>4.551724</td>\n",
       "    </tr>\n",
       "    <tr>\n",
       "      <th>2暴露人造結構物</th>\n",
       "      <td>6.071429</td>\n",
       "    </tr>\n",
       "    <tr>\n",
       "      <th>3暴露岩盤</th>\n",
       "      <td>5.233333</td>\n",
       "    </tr>\n",
       "    <tr>\n",
       "      <th>4沙灘</th>\n",
       "      <td>5.216561</td>\n",
       "    </tr>\n",
       "    <tr>\n",
       "      <th>5砂礫混合灘</th>\n",
       "      <td>4.014085</td>\n",
       "    </tr>\n",
       "    <tr>\n",
       "      <th>6礫石灘</th>\n",
       "      <td>5.728395</td>\n",
       "    </tr>\n",
       "    <tr>\n",
       "      <th>7開闊潮間帶</th>\n",
       "      <td>5.258065</td>\n",
       "    </tr>\n",
       "    <tr>\n",
       "      <th>8遮蔽岩岸</th>\n",
       "      <td>6.526316</td>\n",
       "    </tr>\n",
       "    <tr>\n",
       "      <th>9遮蔽潮間帶</th>\n",
       "      <td>5.750000</td>\n",
       "    </tr>\n",
       "    <tr>\n",
       "      <th>10遮蔽濕地</th>\n",
       "      <td>8.750000</td>\n",
       "    </tr>\n",
       "  </tbody>\n",
       "</table>\n",
       "</div>"
      ],
      "text/plain": [
       "             LEVEL\n",
       "1暴露岩岸     4.551724\n",
       "2暴露人造結構物  6.071429\n",
       "3暴露岩盤     5.233333\n",
       "4沙灘       5.216561\n",
       "5砂礫混合灘    4.014085\n",
       "6礫石灘      5.728395\n",
       "7開闊潮間帶    5.258065\n",
       "8遮蔽岩岸     6.526316\n",
       "9遮蔽潮間帶    5.750000\n",
       "10遮蔽濕地    8.750000"
      ]
     },
     "execution_count": 41,
     "metadata": {},
     "output_type": "execute_result"
    }
   ],
   "source": [
    "level_dict = {}\n",
    "for col in shore_type:\n",
    "  level_dict[col] = train[train[col] == 1]['LEVEL'].mean()\n",
    "df = pd.DataFrame(level_dict.values(), index=level_dict.keys(), columns=['LEVEL'])\n",
    "df"
   ]
  },
  {
   "cell_type": "code",
   "execution_count": 42,
   "metadata": {
    "id": "-cm6Xdhz2_tS"
   },
   "outputs": [
    {
     "data": {
      "text/html": [
       "\n",
       "\n",
       "\n",
       "\n",
       "\n",
       "\n",
       "  <div class=\"bk-root\" id=\"663a89b0-9242-4f59-9640-f698878467a7\" data-root-id=\"1918\"></div>\n"
      ]
     },
     "metadata": {},
     "output_type": "display_data"
    },
    {
     "data": {
      "application/javascript": [
       "(function(root) {\n",
       "  function embed_document(root) {\n",
       "    \n",
       "  var docs_json = {\"4fe3adaa-6672-460f-8a70-288486dce03a\":{\"defs\":[],\"roots\":{\"references\":[{\"attributes\":{\"below\":[{\"id\":\"1929\"}],\"center\":[{\"id\":\"1932\"},{\"id\":\"1936\"},{\"id\":\"1968\"}],\"height\":500,\"left\":[{\"id\":\"1933\"}],\"output_backend\":\"webgl\",\"renderers\":[{\"id\":\"1957\"}],\"sizing_mode\":\"fixed\",\"title\":{\"id\":\"1919\"},\"toolbar\":{\"id\":\"1944\"},\"width\":1200,\"x_range\":{\"id\":\"1921\"},\"x_scale\":{\"id\":\"1925\"},\"y_range\":{\"id\":\"1923\"},\"y_scale\":{\"id\":\"1927\"}},\"id\":\"1918\",\"subtype\":\"Figure\",\"type\":\"Plot\"},{\"attributes\":{\"bottom_units\":\"screen\",\"fill_alpha\":0.5,\"fill_color\":\"lightgrey\",\"left_units\":\"screen\",\"level\":\"overlay\",\"line_alpha\":1.0,\"line_color\":\"black\",\"line_dash\":[4,4],\"line_width\":2,\"right_units\":\"screen\",\"syncable\":false,\"top_units\":\"screen\"},\"id\":\"1943\",\"type\":\"BoxAnnotation\"},{\"attributes\":{},\"id\":\"1938\",\"type\":\"WheelZoomTool\"},{\"attributes\":{},\"id\":\"1925\",\"type\":\"LinearScale\"},{\"attributes\":{\"data\":{\"LEVEL\":{\"__ndarray__\":\"c08jLPc0EkCSJEmSJEkYQO/u7u7u7hRAfo/ICcLdFEDOgUQrbA4QQPPDImXg6RZACCGEEEIIFUCvobyG8hoaQAAAAAAAABdAAAAAAACAIUA=\",\"dtype\":\"float64\",\"order\":\"little\",\"shape\":[10]},\"__x__values\":[0,1,2,3,4,5,6,7,8,9],\"__x__values_original\":[\"1\\u66b4\\u9732\\u5ca9\\u5cb8\",\"2\\u66b4\\u9732\\u4eba\\u9020\\u7d50\\u69cb\\u7269\",\"3\\u66b4\\u9732\\u5ca9\\u76e4\",\"4\\u6c99\\u7058\",\"5\\u7802\\u792b\\u6df7\\u5408\\u7058\",\"6\\u792b\\u77f3\\u7058\",\"7\\u958b\\u95ca\\u6f6e\\u9593\\u5e36\",\"8\\u906e\\u853d\\u5ca9\\u5cb8\",\"9\\u906e\\u853d\\u6f6e\\u9593\\u5e36\",\"10\\u906e\\u853d\\u6fd5\\u5730\"]},\"selected\":{\"id\":\"1967\"},\"selection_policy\":{\"id\":\"1966\"}},\"id\":\"1917\",\"type\":\"ColumnDataSource\"},{\"attributes\":{},\"id\":\"1919\",\"type\":\"Title\"},{\"attributes\":{},\"id\":\"1921\",\"type\":\"DataRange1d\"},{\"attributes\":{},\"id\":\"1923\",\"type\":\"DataRange1d\"},{\"attributes\":{\"axis_label\":\"LEVEL\",\"formatter\":{\"id\":\"1964\"},\"major_label_policy\":{\"id\":\"1963\"},\"ticker\":{\"id\":\"1934\"}},\"id\":\"1933\",\"type\":\"LinearAxis\"},{\"attributes\":{\"formatter\":{\"id\":\"1951\"},\"major_label_policy\":{\"id\":\"1961\"},\"ticker\":{\"id\":\"1972\"}},\"id\":\"1929\",\"type\":\"LinearAxis\"},{\"attributes\":{\"axis\":{\"id\":\"1929\"},\"ticker\":null},\"id\":\"1932\",\"type\":\"Grid\"},{\"attributes\":{},\"id\":\"1927\",\"type\":\"LinearScale\"},{\"attributes\":{\"axis\":{\"id\":\"1933\"},\"dimension\":1,\"ticker\":null},\"id\":\"1936\",\"type\":\"Grid\"},{\"attributes\":{},\"id\":\"1934\",\"type\":\"BasicTicker\"},{\"attributes\":{},\"id\":\"1966\",\"type\":\"UnionRenderers\"},{\"attributes\":{\"active_multi\":null,\"active_scroll\":{\"id\":\"1938\"},\"tools\":[{\"id\":\"1937\"},{\"id\":\"1938\"},{\"id\":\"1939\"},{\"id\":\"1940\"},{\"id\":\"1941\"},{\"id\":\"1942\"},{\"id\":\"1970\"}]},\"id\":\"1944\",\"type\":\"Toolbar\"},{\"attributes\":{},\"id\":\"1967\",\"type\":\"Selection\"},{\"attributes\":{},\"id\":\"1942\",\"type\":\"HelpTool\"},{\"attributes\":{},\"id\":\"1937\",\"type\":\"PanTool\"},{\"attributes\":{\"overlay\":{\"id\":\"1943\"}},\"id\":\"1939\",\"type\":\"BoxZoomTool\"},{\"attributes\":{},\"id\":\"1963\",\"type\":\"AllLabels\"},{\"attributes\":{\"callback\":null,\"mode\":\"vline\",\"renderers\":[{\"id\":\"1957\"}],\"tooltips\":[[\"x\",\"@__x__values_original\"],[\"LEVEL\",\"@{LEVEL}\"]]},\"id\":\"1970\",\"type\":\"HoverTool\"},{\"attributes\":{},\"id\":\"1940\",\"type\":\"SaveTool\"},{\"attributes\":{},\"id\":\"1941\",\"type\":\"ResetTool\"},{\"attributes\":{},\"id\":\"1964\",\"type\":\"BasicTickFormatter\"},{\"attributes\":{\"ticks\":[0,1,2,3,4,5,6,7,8,9]},\"id\":\"1972\",\"type\":\"FixedTicker\"},{\"attributes\":{\"fill_color\":{\"value\":\"#1f77b4\"},\"line_color\":{\"value\":\"#1f77b4\"},\"line_width\":{\"value\":2},\"top\":{\"field\":\"LEVEL\"},\"width\":{\"value\":0.7},\"x\":{\"field\":\"__x__values\",\"transform\":{\"id\":\"1953\"}}},\"id\":\"1955\",\"type\":\"VBar\"},{\"attributes\":{\"fill_alpha\":{\"value\":0.1},\"fill_color\":{\"value\":\"#1f77b4\"},\"line_alpha\":{\"value\":0.1},\"line_color\":{\"value\":\"#1f77b4\"},\"line_width\":{\"value\":2},\"top\":{\"field\":\"LEVEL\"},\"width\":{\"value\":0.7},\"x\":{\"field\":\"__x__values\",\"transform\":{\"id\":\"1953\"}}},\"id\":\"1956\",\"type\":\"VBar\"},{\"attributes\":{\"range\":{\"id\":\"1921\"}},\"id\":\"1953\",\"type\":\"Dodge\"},{\"attributes\":{\"source\":{\"id\":\"1917\"}},\"id\":\"1958\",\"type\":\"CDSView\"},{\"attributes\":{\"click_policy\":\"hide\",\"items\":[{\"id\":\"1969\"}]},\"id\":\"1968\",\"type\":\"Legend\"},{\"attributes\":{\"data_source\":{\"id\":\"1917\"},\"glyph\":{\"id\":\"1955\"},\"hover_glyph\":null,\"muted_glyph\":null,\"nonselection_glyph\":{\"id\":\"1956\"},\"view\":{\"id\":\"1958\"}},\"id\":\"1957\",\"type\":\"GlyphRenderer\"},{\"attributes\":{\"label\":{\"value\":\" LEVEL\"},\"renderers\":[{\"id\":\"1957\"}]},\"id\":\"1969\",\"type\":\"LegendItem\"},{\"attributes\":{},\"id\":\"1961\",\"type\":\"AllLabels\"},{\"attributes\":{\"code\":\"\\n                                    var labels = {0: '1\\u66b4\\u9732\\u5ca9\\u5cb8', 1: '2\\u66b4\\u9732\\u4eba\\u9020\\u7d50\\u69cb\\u7269', 2: '3\\u66b4\\u9732\\u5ca9\\u76e4', 3: '4\\u6c99\\u7058', 4: '5\\u7802\\u792b\\u6df7\\u5408\\u7058', 5: '6\\u792b\\u77f3\\u7058', 6: '7\\u958b\\u95ca\\u6f6e\\u9593\\u5e36', 7: '8\\u906e\\u853d\\u5ca9\\u5cb8', 8: '9\\u906e\\u853d\\u6f6e\\u9593\\u5e36', 9: '10\\u906e\\u853d\\u6fd5\\u5730'};\\n                                    return labels[tick];\\n                                    \"},\"id\":\"1951\",\"type\":\"FuncTickFormatter\"}],\"root_ids\":[\"1918\"]},\"title\":\"Bokeh Application\",\"version\":\"2.3.2\"}};\n",
       "  var render_items = [{\"docid\":\"4fe3adaa-6672-460f-8a70-288486dce03a\",\"root_ids\":[\"1918\"],\"roots\":{\"1918\":\"663a89b0-9242-4f59-9640-f698878467a7\"}}];\n",
       "  root.Bokeh.embed.embed_items_notebook(docs_json, render_items);\n",
       "\n",
       "  }\n",
       "  if (root.Bokeh !== undefined) {\n",
       "    embed_document(root);\n",
       "  } else {\n",
       "    var attempts = 0;\n",
       "    var timer = setInterval(function(root) {\n",
       "      if (root.Bokeh !== undefined) {\n",
       "        clearInterval(timer);\n",
       "        embed_document(root);\n",
       "      } else {\n",
       "        attempts++;\n",
       "        if (attempts > 100) {\n",
       "          clearInterval(timer);\n",
       "          console.log(\"Bokeh: ERROR: Unable to run BokehJS code because BokehJS library is missing\");\n",
       "        }\n",
       "      }\n",
       "    }, 10, root)\n",
       "  }\n",
       "})(window);"
      ],
      "application/vnd.bokehjs_exec.v0+json": ""
     },
     "metadata": {
      "application/vnd.bokehjs_exec.v0+json": {
       "id": "1918"
      }
     },
     "output_type": "display_data"
    },
    {
     "data": {
      "text/html": [
       "<div style=\"display: table;\"><div style=\"display: table-row;\"><div style=\"display: table-cell;\"><b title=\"bokeh.plotting.figure.Figure\">Figure</b>(</div><div style=\"display: table-cell;\">id&nbsp;=&nbsp;'1918', <span id=\"2056\" style=\"cursor: pointer;\">&hellip;)</span></div></div><div class=\"2055\" style=\"display: none;\"><div style=\"display: table-cell;\"></div><div style=\"display: table-cell;\">above&nbsp;=&nbsp;[],</div></div><div class=\"2055\" style=\"display: none;\"><div style=\"display: table-cell;\"></div><div style=\"display: table-cell;\">align&nbsp;=&nbsp;'start',</div></div><div class=\"2055\" style=\"display: none;\"><div style=\"display: table-cell;\"></div><div style=\"display: table-cell;\">aspect_ratio&nbsp;=&nbsp;None,</div></div><div class=\"2055\" style=\"display: none;\"><div style=\"display: table-cell;\"></div><div style=\"display: table-cell;\">aspect_scale&nbsp;=&nbsp;1,</div></div><div class=\"2055\" style=\"display: none;\"><div style=\"display: table-cell;\"></div><div style=\"display: table-cell;\">background&nbsp;=&nbsp;None,</div></div><div class=\"2055\" style=\"display: none;\"><div style=\"display: table-cell;\"></div><div style=\"display: table-cell;\">background_fill_alpha&nbsp;=&nbsp;1.0,</div></div><div class=\"2055\" style=\"display: none;\"><div style=\"display: table-cell;\"></div><div style=\"display: table-cell;\">background_fill_color&nbsp;=&nbsp;'#ffffff',</div></div><div class=\"2055\" style=\"display: none;\"><div style=\"display: table-cell;\"></div><div style=\"display: table-cell;\">below&nbsp;=&nbsp;[LinearAxis(id='1929', ...)],</div></div><div class=\"2055\" style=\"display: none;\"><div style=\"display: table-cell;\"></div><div style=\"display: table-cell;\">border_fill_alpha&nbsp;=&nbsp;1.0,</div></div><div class=\"2055\" style=\"display: none;\"><div style=\"display: table-cell;\"></div><div style=\"display: table-cell;\">border_fill_color&nbsp;=&nbsp;'#ffffff',</div></div><div class=\"2055\" style=\"display: none;\"><div style=\"display: table-cell;\"></div><div style=\"display: table-cell;\">center&nbsp;=&nbsp;[Grid(id='1932', ...), Grid(id='1936', ...), Legend(id='1968', ...)],</div></div><div class=\"2055\" style=\"display: none;\"><div style=\"display: table-cell;\"></div><div style=\"display: table-cell;\">css_classes&nbsp;=&nbsp;[],</div></div><div class=\"2055\" style=\"display: none;\"><div style=\"display: table-cell;\"></div><div style=\"display: table-cell;\">disabled&nbsp;=&nbsp;False,</div></div><div class=\"2055\" style=\"display: none;\"><div style=\"display: table-cell;\"></div><div style=\"display: table-cell;\">extra_x_ranges&nbsp;=&nbsp;{},</div></div><div class=\"2055\" style=\"display: none;\"><div style=\"display: table-cell;\"></div><div style=\"display: table-cell;\">extra_y_ranges&nbsp;=&nbsp;{},</div></div><div class=\"2055\" style=\"display: none;\"><div style=\"display: table-cell;\"></div><div style=\"display: table-cell;\">frame_height&nbsp;=&nbsp;None,</div></div><div class=\"2055\" style=\"display: none;\"><div style=\"display: table-cell;\"></div><div style=\"display: table-cell;\">frame_width&nbsp;=&nbsp;None,</div></div><div class=\"2055\" style=\"display: none;\"><div style=\"display: table-cell;\"></div><div style=\"display: table-cell;\">height&nbsp;=&nbsp;500,</div></div><div class=\"2055\" style=\"display: none;\"><div style=\"display: table-cell;\"></div><div style=\"display: table-cell;\">height_policy&nbsp;=&nbsp;'auto',</div></div><div class=\"2055\" style=\"display: none;\"><div style=\"display: table-cell;\"></div><div style=\"display: table-cell;\">hidpi&nbsp;=&nbsp;True,</div></div><div class=\"2055\" style=\"display: none;\"><div style=\"display: table-cell;\"></div><div style=\"display: table-cell;\">inner_height&nbsp;=&nbsp;0,</div></div><div class=\"2055\" style=\"display: none;\"><div style=\"display: table-cell;\"></div><div style=\"display: table-cell;\">inner_width&nbsp;=&nbsp;0,</div></div><div class=\"2055\" style=\"display: none;\"><div style=\"display: table-cell;\"></div><div style=\"display: table-cell;\">js_event_callbacks&nbsp;=&nbsp;{},</div></div><div class=\"2055\" style=\"display: none;\"><div style=\"display: table-cell;\"></div><div style=\"display: table-cell;\">js_property_callbacks&nbsp;=&nbsp;{},</div></div><div class=\"2055\" style=\"display: none;\"><div style=\"display: table-cell;\"></div><div style=\"display: table-cell;\">left&nbsp;=&nbsp;[LinearAxis(id='1933', ...)],</div></div><div class=\"2055\" style=\"display: none;\"><div style=\"display: table-cell;\"></div><div style=\"display: table-cell;\">lod_factor&nbsp;=&nbsp;10,</div></div><div class=\"2055\" style=\"display: none;\"><div style=\"display: table-cell;\"></div><div style=\"display: table-cell;\">lod_interval&nbsp;=&nbsp;300,</div></div><div class=\"2055\" style=\"display: none;\"><div style=\"display: table-cell;\"></div><div style=\"display: table-cell;\">lod_threshold&nbsp;=&nbsp;2000,</div></div><div class=\"2055\" style=\"display: none;\"><div style=\"display: table-cell;\"></div><div style=\"display: table-cell;\">lod_timeout&nbsp;=&nbsp;500,</div></div><div class=\"2055\" style=\"display: none;\"><div style=\"display: table-cell;\"></div><div style=\"display: table-cell;\">margin&nbsp;=&nbsp;(0, 0, 0, 0),</div></div><div class=\"2055\" style=\"display: none;\"><div style=\"display: table-cell;\"></div><div style=\"display: table-cell;\">match_aspect&nbsp;=&nbsp;False,</div></div><div class=\"2055\" style=\"display: none;\"><div style=\"display: table-cell;\"></div><div style=\"display: table-cell;\">max_height&nbsp;=&nbsp;None,</div></div><div class=\"2055\" style=\"display: none;\"><div style=\"display: table-cell;\"></div><div style=\"display: table-cell;\">max_width&nbsp;=&nbsp;None,</div></div><div class=\"2055\" style=\"display: none;\"><div style=\"display: table-cell;\"></div><div style=\"display: table-cell;\">min_border&nbsp;=&nbsp;5,</div></div><div class=\"2055\" style=\"display: none;\"><div style=\"display: table-cell;\"></div><div style=\"display: table-cell;\">min_border_bottom&nbsp;=&nbsp;None,</div></div><div class=\"2055\" style=\"display: none;\"><div style=\"display: table-cell;\"></div><div style=\"display: table-cell;\">min_border_left&nbsp;=&nbsp;None,</div></div><div class=\"2055\" style=\"display: none;\"><div style=\"display: table-cell;\"></div><div style=\"display: table-cell;\">min_border_right&nbsp;=&nbsp;None,</div></div><div class=\"2055\" style=\"display: none;\"><div style=\"display: table-cell;\"></div><div style=\"display: table-cell;\">min_border_top&nbsp;=&nbsp;None,</div></div><div class=\"2055\" style=\"display: none;\"><div style=\"display: table-cell;\"></div><div style=\"display: table-cell;\">min_height&nbsp;=&nbsp;None,</div></div><div class=\"2055\" style=\"display: none;\"><div style=\"display: table-cell;\"></div><div style=\"display: table-cell;\">min_width&nbsp;=&nbsp;None,</div></div><div class=\"2055\" style=\"display: none;\"><div style=\"display: table-cell;\"></div><div style=\"display: table-cell;\">name&nbsp;=&nbsp;None,</div></div><div class=\"2055\" style=\"display: none;\"><div style=\"display: table-cell;\"></div><div style=\"display: table-cell;\">outer_height&nbsp;=&nbsp;0,</div></div><div class=\"2055\" style=\"display: none;\"><div style=\"display: table-cell;\"></div><div style=\"display: table-cell;\">outer_width&nbsp;=&nbsp;0,</div></div><div class=\"2055\" style=\"display: none;\"><div style=\"display: table-cell;\"></div><div style=\"display: table-cell;\">outline_line_alpha&nbsp;=&nbsp;1.0,</div></div><div class=\"2055\" style=\"display: none;\"><div style=\"display: table-cell;\"></div><div style=\"display: table-cell;\">outline_line_cap&nbsp;=&nbsp;'butt',</div></div><div class=\"2055\" style=\"display: none;\"><div style=\"display: table-cell;\"></div><div style=\"display: table-cell;\">outline_line_color&nbsp;=&nbsp;'#e5e5e5',</div></div><div class=\"2055\" style=\"display: none;\"><div style=\"display: table-cell;\"></div><div style=\"display: table-cell;\">outline_line_dash&nbsp;=&nbsp;[],</div></div><div class=\"2055\" style=\"display: none;\"><div style=\"display: table-cell;\"></div><div style=\"display: table-cell;\">outline_line_dash_offset&nbsp;=&nbsp;0,</div></div><div class=\"2055\" style=\"display: none;\"><div style=\"display: table-cell;\"></div><div style=\"display: table-cell;\">outline_line_join&nbsp;=&nbsp;'bevel',</div></div><div class=\"2055\" style=\"display: none;\"><div style=\"display: table-cell;\"></div><div style=\"display: table-cell;\">outline_line_width&nbsp;=&nbsp;1,</div></div><div class=\"2055\" style=\"display: none;\"><div style=\"display: table-cell;\"></div><div style=\"display: table-cell;\">output_backend&nbsp;=&nbsp;'webgl',</div></div><div class=\"2055\" style=\"display: none;\"><div style=\"display: table-cell;\"></div><div style=\"display: table-cell;\">renderers&nbsp;=&nbsp;[GlyphRenderer(id='1957', ...)],</div></div><div class=\"2055\" style=\"display: none;\"><div style=\"display: table-cell;\"></div><div style=\"display: table-cell;\">reset_policy&nbsp;=&nbsp;'standard',</div></div><div class=\"2055\" style=\"display: none;\"><div style=\"display: table-cell;\"></div><div style=\"display: table-cell;\">right&nbsp;=&nbsp;[],</div></div><div class=\"2055\" style=\"display: none;\"><div style=\"display: table-cell;\"></div><div style=\"display: table-cell;\">sizing_mode&nbsp;=&nbsp;'fixed',</div></div><div class=\"2055\" style=\"display: none;\"><div style=\"display: table-cell;\"></div><div style=\"display: table-cell;\">subscribed_events&nbsp;=&nbsp;[],</div></div><div class=\"2055\" style=\"display: none;\"><div style=\"display: table-cell;\"></div><div style=\"display: table-cell;\">syncable&nbsp;=&nbsp;True,</div></div><div class=\"2055\" style=\"display: none;\"><div style=\"display: table-cell;\"></div><div style=\"display: table-cell;\">tags&nbsp;=&nbsp;[],</div></div><div class=\"2055\" style=\"display: none;\"><div style=\"display: table-cell;\"></div><div style=\"display: table-cell;\">title&nbsp;=&nbsp;Title(id='1919', ...),</div></div><div class=\"2055\" style=\"display: none;\"><div style=\"display: table-cell;\"></div><div style=\"display: table-cell;\">title_location&nbsp;=&nbsp;'above',</div></div><div class=\"2055\" style=\"display: none;\"><div style=\"display: table-cell;\"></div><div style=\"display: table-cell;\">toolbar&nbsp;=&nbsp;Toolbar(id='1944', ...),</div></div><div class=\"2055\" style=\"display: none;\"><div style=\"display: table-cell;\"></div><div style=\"display: table-cell;\">toolbar_location&nbsp;=&nbsp;'right',</div></div><div class=\"2055\" style=\"display: none;\"><div style=\"display: table-cell;\"></div><div style=\"display: table-cell;\">toolbar_sticky&nbsp;=&nbsp;True,</div></div><div class=\"2055\" style=\"display: none;\"><div style=\"display: table-cell;\"></div><div style=\"display: table-cell;\">visible&nbsp;=&nbsp;True,</div></div><div class=\"2055\" style=\"display: none;\"><div style=\"display: table-cell;\"></div><div style=\"display: table-cell;\">width&nbsp;=&nbsp;1200,</div></div><div class=\"2055\" style=\"display: none;\"><div style=\"display: table-cell;\"></div><div style=\"display: table-cell;\">width_policy&nbsp;=&nbsp;'auto',</div></div><div class=\"2055\" style=\"display: none;\"><div style=\"display: table-cell;\"></div><div style=\"display: table-cell;\">x_range&nbsp;=&nbsp;DataRange1d(id='1921', ...),</div></div><div class=\"2055\" style=\"display: none;\"><div style=\"display: table-cell;\"></div><div style=\"display: table-cell;\">x_scale&nbsp;=&nbsp;LinearScale(id='1925', ...),</div></div><div class=\"2055\" style=\"display: none;\"><div style=\"display: table-cell;\"></div><div style=\"display: table-cell;\">y_range&nbsp;=&nbsp;DataRange1d(id='1923', ...),</div></div><div class=\"2055\" style=\"display: none;\"><div style=\"display: table-cell;\"></div><div style=\"display: table-cell;\">y_scale&nbsp;=&nbsp;LinearScale(id='1927', ...))</div></div></div>\n",
       "<script>\n",
       "(function() {\n",
       "  var expanded = false;\n",
       "  var ellipsis = document.getElementById(\"2056\");\n",
       "  ellipsis.addEventListener(\"click\", function() {\n",
       "    var rows = document.getElementsByClassName(\"2055\");\n",
       "    for (var i = 0; i < rows.length; i++) {\n",
       "      var el = rows[i];\n",
       "      el.style.display = expanded ? \"none\" : \"table-row\";\n",
       "    }\n",
       "    ellipsis.innerHTML = expanded ? \"&hellip;)\" : \"&lsaquo;&lsaquo;&lsaquo;\";\n",
       "    expanded = !expanded;\n",
       "  });\n",
       "})();\n",
       "</script>\n"
      ],
      "text/plain": [
       "Figure(id='1918', ...)"
      ]
     },
     "execution_count": 42,
     "metadata": {},
     "output_type": "execute_result"
    }
   ],
   "source": [
    "df.plot_bokeh.bar(figsize=(1200, 500))"
   ]
  },
  {
   "cell_type": "code",
   "execution_count": 43,
   "metadata": {
    "id": "ll1Wr5pc9yYp"
   },
   "outputs": [
    {
     "data": {
      "text/html": [
       "<div>\n",
       "<style scoped>\n",
       "    .dataframe tbody tr th:only-of-type {\n",
       "        vertical-align: middle;\n",
       "    }\n",
       "\n",
       "    .dataframe tbody tr th {\n",
       "        vertical-align: top;\n",
       "    }\n",
       "\n",
       "    .dataframe thead th {\n",
       "        text-align: right;\n",
       "    }\n",
       "</style>\n",
       "<table border=\"1\" class=\"dataframe\">\n",
       "  <thead>\n",
       "    <tr style=\"text-align: right;\">\n",
       "      <th></th>\n",
       "      <th>1暴露岩岸</th>\n",
       "      <th>2暴露人造結構物</th>\n",
       "      <th>3暴露岩盤</th>\n",
       "      <th>4沙灘</th>\n",
       "      <th>5砂礫混合灘</th>\n",
       "      <th>6礫石灘</th>\n",
       "      <th>7開闊潮間帶</th>\n",
       "      <th>8遮蔽岩岸</th>\n",
       "      <th>9遮蔽潮間帶</th>\n",
       "      <th>10遮蔽濕地</th>\n",
       "    </tr>\n",
       "    <tr>\n",
       "      <th>LEVEL</th>\n",
       "      <th></th>\n",
       "      <th></th>\n",
       "      <th></th>\n",
       "      <th></th>\n",
       "      <th></th>\n",
       "      <th></th>\n",
       "      <th></th>\n",
       "      <th></th>\n",
       "      <th></th>\n",
       "      <th></th>\n",
       "    </tr>\n",
       "  </thead>\n",
       "  <tbody>\n",
       "    <tr>\n",
       "      <th>1</th>\n",
       "      <td>1.0</td>\n",
       "      <td>3.0</td>\n",
       "      <td>2.0</td>\n",
       "      <td>4.0</td>\n",
       "      <td>7.0</td>\n",
       "      <td>2.0</td>\n",
       "      <td>1.0</td>\n",
       "      <td>0.0</td>\n",
       "      <td>0.0</td>\n",
       "      <td>0.0</td>\n",
       "    </tr>\n",
       "    <tr>\n",
       "      <th>2</th>\n",
       "      <td>6.0</td>\n",
       "      <td>6.0</td>\n",
       "      <td>3.0</td>\n",
       "      <td>23.0</td>\n",
       "      <td>19.0</td>\n",
       "      <td>10.0</td>\n",
       "      <td>3.0</td>\n",
       "      <td>2.0</td>\n",
       "      <td>0.0</td>\n",
       "      <td>0.0</td>\n",
       "    </tr>\n",
       "    <tr>\n",
       "      <th>3</th>\n",
       "      <td>5.0</td>\n",
       "      <td>5.0</td>\n",
       "      <td>5.0</td>\n",
       "      <td>18.0</td>\n",
       "      <td>5.0</td>\n",
       "      <td>8.0</td>\n",
       "      <td>5.0</td>\n",
       "      <td>0.0</td>\n",
       "      <td>0.0</td>\n",
       "      <td>0.0</td>\n",
       "    </tr>\n",
       "    <tr>\n",
       "      <th>4</th>\n",
       "      <td>2.0</td>\n",
       "      <td>8.0</td>\n",
       "      <td>1.0</td>\n",
       "      <td>14.0</td>\n",
       "      <td>8.0</td>\n",
       "      <td>5.0</td>\n",
       "      <td>3.0</td>\n",
       "      <td>2.0</td>\n",
       "      <td>0.0</td>\n",
       "      <td>0.0</td>\n",
       "    </tr>\n",
       "    <tr>\n",
       "      <th>5</th>\n",
       "      <td>5.0</td>\n",
       "      <td>9.0</td>\n",
       "      <td>5.0</td>\n",
       "      <td>23.0</td>\n",
       "      <td>13.0</td>\n",
       "      <td>9.0</td>\n",
       "      <td>3.0</td>\n",
       "      <td>0.0</td>\n",
       "      <td>2.0</td>\n",
       "      <td>0.0</td>\n",
       "    </tr>\n",
       "    <tr>\n",
       "      <th>6</th>\n",
       "      <td>2.0</td>\n",
       "      <td>23.0</td>\n",
       "      <td>4.0</td>\n",
       "      <td>25.0</td>\n",
       "      <td>11.0</td>\n",
       "      <td>11.0</td>\n",
       "      <td>6.0</td>\n",
       "      <td>4.0</td>\n",
       "      <td>1.0</td>\n",
       "      <td>0.0</td>\n",
       "    </tr>\n",
       "    <tr>\n",
       "      <th>7</th>\n",
       "      <td>5.0</td>\n",
       "      <td>19.0</td>\n",
       "      <td>3.0</td>\n",
       "      <td>24.0</td>\n",
       "      <td>5.0</td>\n",
       "      <td>12.0</td>\n",
       "      <td>6.0</td>\n",
       "      <td>4.0</td>\n",
       "      <td>1.0</td>\n",
       "      <td>1.0</td>\n",
       "    </tr>\n",
       "    <tr>\n",
       "      <th>8</th>\n",
       "      <td>3.0</td>\n",
       "      <td>13.0</td>\n",
       "      <td>4.0</td>\n",
       "      <td>12.0</td>\n",
       "      <td>0.0</td>\n",
       "      <td>16.0</td>\n",
       "      <td>2.0</td>\n",
       "      <td>4.0</td>\n",
       "      <td>0.0</td>\n",
       "      <td>0.0</td>\n",
       "    </tr>\n",
       "    <tr>\n",
       "      <th>9</th>\n",
       "      <td>0.0</td>\n",
       "      <td>7.0</td>\n",
       "      <td>2.0</td>\n",
       "      <td>10.0</td>\n",
       "      <td>3.0</td>\n",
       "      <td>5.0</td>\n",
       "      <td>0.0</td>\n",
       "      <td>2.0</td>\n",
       "      <td>0.0</td>\n",
       "      <td>2.0</td>\n",
       "    </tr>\n",
       "    <tr>\n",
       "      <th>10</th>\n",
       "      <td>0.0</td>\n",
       "      <td>5.0</td>\n",
       "      <td>1.0</td>\n",
       "      <td>4.0</td>\n",
       "      <td>0.0</td>\n",
       "      <td>3.0</td>\n",
       "      <td>2.0</td>\n",
       "      <td>1.0</td>\n",
       "      <td>0.0</td>\n",
       "      <td>1.0</td>\n",
       "    </tr>\n",
       "  </tbody>\n",
       "</table>\n",
       "</div>"
      ],
      "text/plain": [
       "       1暴露岩岸  2暴露人造結構物  3暴露岩盤   4沙灘  5砂礫混合灘  6礫石灘  7開闊潮間帶  8遮蔽岩岸  9遮蔽潮間帶  \\\n",
       "LEVEL                                                                      \n",
       "1        1.0       3.0    2.0   4.0     7.0   2.0     1.0    0.0     0.0   \n",
       "2        6.0       6.0    3.0  23.0    19.0  10.0     3.0    2.0     0.0   \n",
       "3        5.0       5.0    5.0  18.0     5.0   8.0     5.0    0.0     0.0   \n",
       "4        2.0       8.0    1.0  14.0     8.0   5.0     3.0    2.0     0.0   \n",
       "5        5.0       9.0    5.0  23.0    13.0   9.0     3.0    0.0     2.0   \n",
       "6        2.0      23.0    4.0  25.0    11.0  11.0     6.0    4.0     1.0   \n",
       "7        5.0      19.0    3.0  24.0     5.0  12.0     6.0    4.0     1.0   \n",
       "8        3.0      13.0    4.0  12.0     0.0  16.0     2.0    4.0     0.0   \n",
       "9        0.0       7.0    2.0  10.0     3.0   5.0     0.0    2.0     0.0   \n",
       "10       0.0       5.0    1.0   4.0     0.0   3.0     2.0    1.0     0.0   \n",
       "\n",
       "       10遮蔽濕地  \n",
       "LEVEL          \n",
       "1         0.0  \n",
       "2         0.0  \n",
       "3         0.0  \n",
       "4         0.0  \n",
       "5         0.0  \n",
       "6         0.0  \n",
       "7         1.0  \n",
       "8         0.0  \n",
       "9         2.0  \n",
       "10        1.0  "
      ]
     },
     "execution_count": 43,
     "metadata": {},
     "output_type": "execute_result"
    }
   ],
   "source": [
    "df = train.groupby(\"LEVEL\")[shore_type].sum()\n",
    "df"
   ]
  },
  {
   "cell_type": "code",
   "execution_count": 44,
   "metadata": {
    "id": "yPHZ_AVy9sFf"
   },
   "outputs": [
    {
     "data": {
      "text/html": [
       "\n",
       "\n",
       "\n",
       "\n",
       "\n",
       "\n",
       "  <div class=\"bk-root\" id=\"684e5e6a-b076-402f-9173-f29b33085bde\" data-root-id=\"2094\"></div>\n"
      ]
     },
     "metadata": {},
     "output_type": "display_data"
    },
    {
     "data": {
      "application/javascript": [
       "(function(root) {\n",
       "  function embed_document(root) {\n",
       "    \n",
       "  var docs_json = {\"788976fc-838d-45d8-be7a-b67e21620771\":{\"defs\":[],\"roots\":{\"references\":[{\"attributes\":{\"below\":[{\"id\":\"2105\"}],\"center\":[{\"id\":\"2108\"},{\"id\":\"2112\"},{\"id\":\"2163\"}],\"height\":500,\"left\":[{\"id\":\"2109\"}],\"output_backend\":\"webgl\",\"renderers\":[{\"id\":\"2152\"},{\"id\":\"2168\"},{\"id\":\"2183\"},{\"id\":\"2198\"},{\"id\":\"2213\"},{\"id\":\"2228\"},{\"id\":\"2243\"},{\"id\":\"2258\"},{\"id\":\"2273\"},{\"id\":\"2288\"}],\"sizing_mode\":\"fixed\",\"title\":{\"id\":\"2095\"},\"toolbar\":{\"id\":\"2120\"},\"width\":1200,\"x_range\":{\"id\":\"2097\"},\"x_scale\":{\"id\":\"2101\"},\"y_range\":{\"id\":\"2099\"},\"y_scale\":{\"id\":\"2103\"}},\"id\":\"2094\",\"subtype\":\"Figure\",\"type\":\"Plot\"},{\"attributes\":{\"fields\":[\"1\\u66b4\\u9732\\u5ca9\\u5cb8\",\"2\\u66b4\\u9732\\u4eba\\u9020\\u7d50\\u69cb\\u7269\",\"3\\u66b4\\u9732\\u5ca9\\u76e4\",\"4\\u6c99\\u7058\",\"5\\u7802\\u792b\\u6df7\\u5408\\u7058\",\"6\\u792b\\u77f3\\u7058\",\"7\\u958b\\u95ca\\u6f6e\\u9593\\u5e36\",\"8\\u906e\\u853d\\u5ca9\\u5cb8\",\"9\\u906e\\u853d\\u6f6e\\u9593\\u5e36\",\"10\\u906e\\u853d\\u6fd5\\u5730\"]},\"id\":\"2148\",\"type\":\"Stack\"},{\"attributes\":{\"fill_color\":{\"value\":\"#1f77b4\"},\"height\":{\"value\":0.8},\"left\":{\"expr\":{\"id\":\"2129\"}},\"line_color\":{\"value\":\"#1f77b4\"},\"line_width\":{\"value\":2},\"right\":{\"expr\":{\"id\":\"2130\"}},\"y\":{\"field\":\"__x__values\"}},\"id\":\"2150\",\"type\":\"HBar\"},{\"attributes\":{\"source\":{\"id\":\"2093\"}},\"id\":\"2153\",\"type\":\"CDSView\"},{\"attributes\":{\"source\":{\"id\":\"2093\"}},\"id\":\"2229\",\"type\":\"CDSView\"},{\"attributes\":{\"fill_alpha\":{\"value\":0.1},\"fill_color\":{\"value\":\"#1f77b4\"},\"height\":{\"value\":0.8},\"left\":{\"expr\":{\"id\":\"2129\"}},\"line_alpha\":{\"value\":0.1},\"line_color\":{\"value\":\"#1f77b4\"},\"line_width\":{\"value\":2},\"right\":{\"expr\":{\"id\":\"2130\"}},\"y\":{\"field\":\"__x__values\"}},\"id\":\"2151\",\"type\":\"HBar\"},{\"attributes\":{\"source\":{\"id\":\"2093\"}},\"id\":\"2289\",\"type\":\"CDSView\"},{\"attributes\":{\"data_source\":{\"id\":\"2093\"},\"glyph\":{\"id\":\"2150\"},\"hover_glyph\":null,\"muted_glyph\":null,\"name\":\"1\\u66b4\\u9732\\u5ca9\\u5cb8\",\"nonselection_glyph\":{\"id\":\"2151\"},\"view\":{\"id\":\"2153\"}},\"id\":\"2152\",\"type\":\"GlyphRenderer\"},{\"attributes\":{\"label\":{\"value\":\"1\\u66b4\\u9732\\u5ca9\\u5cb8\"},\"renderers\":[{\"id\":\"2152\"}]},\"id\":\"2164\",\"type\":\"LegendItem\"},{\"attributes\":{\"items\":[{\"id\":\"2164\"},{\"id\":\"2179\"},{\"id\":\"2194\"},{\"id\":\"2209\"},{\"id\":\"2224\"},{\"id\":\"2239\"},{\"id\":\"2254\"},{\"id\":\"2269\"},{\"id\":\"2284\"},{\"id\":\"2299\"}]},\"id\":\"2163\",\"type\":\"Legend\"},{\"attributes\":{\"fill_alpha\":{\"value\":0.1},\"fill_color\":{\"value\":\"#17becf\"},\"height\":{\"value\":0.8},\"left\":{\"expr\":{\"id\":\"2147\"}},\"line_alpha\":{\"value\":0.1},\"line_color\":{\"value\":\"#17becf\"},\"line_width\":{\"value\":2},\"right\":{\"expr\":{\"id\":\"2148\"}},\"y\":{\"field\":\"__x__values\"}},\"id\":\"2287\",\"type\":\"HBar\"},{\"attributes\":{\"data_source\":{\"id\":\"2093\"},\"glyph\":{\"id\":\"2286\"},\"hover_glyph\":null,\"muted_glyph\":null,\"name\":\"10\\u906e\\u853d\\u6fd5\\u5730\",\"nonselection_glyph\":{\"id\":\"2287\"},\"view\":{\"id\":\"2289\"}},\"id\":\"2288\",\"type\":\"GlyphRenderer\"},{\"attributes\":{\"ticks\":[0,1,2,3,4,5,6,7,8,9]},\"id\":\"2302\",\"type\":\"FixedTicker\"},{\"attributes\":{},\"id\":\"2156\",\"type\":\"AllLabels\"},{\"attributes\":{\"callback\":null,\"mode\":\"hline\",\"renderers\":[{\"id\":\"2288\"}],\"tooltips\":[[\"LEVEL\",\"@__x__values_original\"],[\"1\\u66b4\\u9732\\u5ca9\\u5cb8\",\"@{1\\u66b4\\u9732\\u5ca9\\u5cb8}\"],[\"2\\u66b4\\u9732\\u4eba\\u9020\\u7d50\\u69cb\\u7269\",\"@{2\\u66b4\\u9732\\u4eba\\u9020\\u7d50\\u69cb\\u7269}\"],[\"3\\u66b4\\u9732\\u5ca9\\u76e4\",\"@{3\\u66b4\\u9732\\u5ca9\\u76e4}\"],[\"4\\u6c99\\u7058\",\"@{4\\u6c99\\u7058}\"],[\"5\\u7802\\u792b\\u6df7\\u5408\\u7058\",\"@{5\\u7802\\u792b\\u6df7\\u5408\\u7058}\"],[\"6\\u792b\\u77f3\\u7058\",\"@{6\\u792b\\u77f3\\u7058}\"],[\"7\\u958b\\u95ca\\u6f6e\\u9593\\u5e36\",\"@{7\\u958b\\u95ca\\u6f6e\\u9593\\u5e36}\"],[\"8\\u906e\\u853d\\u5ca9\\u5cb8\",\"@{8\\u906e\\u853d\\u5ca9\\u5cb8}\"],[\"9\\u906e\\u853d\\u6f6e\\u9593\\u5e36\",\"@{9\\u906e\\u853d\\u6f6e\\u9593\\u5e36}\"],[\"10\\u906e\\u853d\\u6fd5\\u5730\",\"@{10\\u906e\\u853d\\u6fd5\\u5730}\"]]},\"id\":\"2300\",\"type\":\"HoverTool\"},{\"attributes\":{},\"id\":\"2157\",\"type\":\"BasicTickFormatter\"},{\"attributes\":{},\"id\":\"2095\",\"type\":\"Title\"},{\"attributes\":{},\"id\":\"2117\",\"type\":\"ResetTool\"},{\"attributes\":{\"source\":{\"id\":\"2093\"}},\"id\":\"2214\",\"type\":\"CDSView\"},{\"attributes\":{\"fields\":[\"1\\u66b4\\u9732\\u5ca9\\u5cb8\",\"2\\u66b4\\u9732\\u4eba\\u9020\\u7d50\\u69cb\\u7269\",\"3\\u66b4\\u9732\\u5ca9\\u76e4\",\"4\\u6c99\\u7058\",\"5\\u7802\\u792b\\u6df7\\u5408\\u7058\",\"6\\u792b\\u77f3\\u7058\",\"7\\u958b\\u95ca\\u6f6e\\u9593\\u5e36\"]},\"id\":\"2143\",\"type\":\"Stack\"},{\"attributes\":{},\"id\":\"2118\",\"type\":\"HelpTool\"},{\"attributes\":{\"label\":{\"value\":\"6\\u792b\\u77f3\\u7058\"},\"renderers\":[{\"id\":\"2228\"}]},\"id\":\"2239\",\"type\":\"LegendItem\"},{\"attributes\":{\"data_source\":{\"id\":\"2093\"},\"glyph\":{\"id\":\"2226\"},\"hover_glyph\":null,\"muted_glyph\":null,\"name\":\"6\\u792b\\u77f3\\u7058\",\"nonselection_glyph\":{\"id\":\"2227\"},\"view\":{\"id\":\"2229\"}},\"id\":\"2228\",\"type\":\"GlyphRenderer\"},{\"attributes\":{\"data\":{\"10\\u906e\\u853d\\u6fd5\\u5730\":{\"__ndarray__\":\"AAAAAAAAAAAAAAAAAAAAAAAAAAAAAAAAAAAAAAAAAAAAAAAAAAAAAAAAAAAAAAAAAAAAAAAA8D8AAAAAAAAAAAAAAAAAAABAAAAAAAAA8D8=\",\"dtype\":\"float64\",\"order\":\"little\",\"shape\":[10]},\"1\\u66b4\\u9732\\u5ca9\\u5cb8\":{\"__ndarray__\":\"AAAAAAAA8D8AAAAAAAAYQAAAAAAAABRAAAAAAAAAAEAAAAAAAAAUQAAAAAAAAABAAAAAAAAAFEAAAAAAAAAIQAAAAAAAAAAAAAAAAAAAAAA=\",\"dtype\":\"float64\",\"order\":\"little\",\"shape\":[10]},\"2\\u66b4\\u9732\\u4eba\\u9020\\u7d50\\u69cb\\u7269\":{\"__ndarray__\":\"AAAAAAAACEAAAAAAAAAYQAAAAAAAABRAAAAAAAAAIEAAAAAAAAAiQAAAAAAAADdAAAAAAAAAM0AAAAAAAAAqQAAAAAAAABxAAAAAAAAAFEA=\",\"dtype\":\"float64\",\"order\":\"little\",\"shape\":[10]},\"3\\u66b4\\u9732\\u5ca9\\u76e4\":{\"__ndarray__\":\"AAAAAAAAAEAAAAAAAAAIQAAAAAAAABRAAAAAAAAA8D8AAAAAAAAUQAAAAAAAABBAAAAAAAAACEAAAAAAAAAQQAAAAAAAAABAAAAAAAAA8D8=\",\"dtype\":\"float64\",\"order\":\"little\",\"shape\":[10]},\"4\\u6c99\\u7058\":{\"__ndarray__\":\"AAAAAAAAEEAAAAAAAAA3QAAAAAAAADJAAAAAAAAALEAAAAAAAAA3QAAAAAAAADlAAAAAAAAAOEAAAAAAAAAoQAAAAAAAACRAAAAAAAAAEEA=\",\"dtype\":\"float64\",\"order\":\"little\",\"shape\":[10]},\"5\\u7802\\u792b\\u6df7\\u5408\\u7058\":{\"__ndarray__\":\"AAAAAAAAHEAAAAAAAAAzQAAAAAAAABRAAAAAAAAAIEAAAAAAAAAqQAAAAAAAACZAAAAAAAAAFEAAAAAAAAAAAAAAAAAAAAhAAAAAAAAAAAA=\",\"dtype\":\"float64\",\"order\":\"little\",\"shape\":[10]},\"6\\u792b\\u77f3\\u7058\":{\"__ndarray__\":\"AAAAAAAAAEAAAAAAAAAkQAAAAAAAACBAAAAAAAAAFEAAAAAAAAAiQAAAAAAAACZAAAAAAAAAKEAAAAAAAAAwQAAAAAAAABRAAAAAAAAACEA=\",\"dtype\":\"float64\",\"order\":\"little\",\"shape\":[10]},\"7\\u958b\\u95ca\\u6f6e\\u9593\\u5e36\":{\"__ndarray__\":\"AAAAAAAA8D8AAAAAAAAIQAAAAAAAABRAAAAAAAAACEAAAAAAAAAIQAAAAAAAABhAAAAAAAAAGEAAAAAAAAAAQAAAAAAAAAAAAAAAAAAAAEA=\",\"dtype\":\"float64\",\"order\":\"little\",\"shape\":[10]},\"8\\u906e\\u853d\\u5ca9\\u5cb8\":{\"__ndarray__\":\"AAAAAAAAAAAAAAAAAAAAQAAAAAAAAAAAAAAAAAAAAEAAAAAAAAAAAAAAAAAAABBAAAAAAAAAEEAAAAAAAAAQQAAAAAAAAABAAAAAAAAA8D8=\",\"dtype\":\"float64\",\"order\":\"little\",\"shape\":[10]},\"9\\u906e\\u853d\\u6f6e\\u9593\\u5e36\":{\"__ndarray__\":\"AAAAAAAAAAAAAAAAAAAAAAAAAAAAAAAAAAAAAAAAAAAAAAAAAAAAQAAAAAAAAPA/AAAAAAAA8D8AAAAAAAAAAAAAAAAAAAAAAAAAAAAAAAA=\",\"dtype\":\"float64\",\"order\":\"little\",\"shape\":[10]},\"__x__values\":[0,1,2,3,4,5,6,7,8,9],\"__x__values_original\":[1,2,3,4,5,6,7,8,9,10]},\"selected\":{\"id\":\"2162\"},\"selection_policy\":{\"id\":\"2161\"}},\"id\":\"2093\",\"type\":\"ColumnDataSource\"},{\"attributes\":{\"fill_alpha\":{\"value\":0.1},\"fill_color\":{\"value\":\"#9467bd\"},\"height\":{\"value\":0.8},\"left\":{\"expr\":{\"id\":\"2137\"}},\"line_alpha\":{\"value\":0.1},\"line_color\":{\"value\":\"#9467bd\"},\"line_width\":{\"value\":2},\"right\":{\"expr\":{\"id\":\"2138\"}},\"y\":{\"field\":\"__x__values\"}},\"id\":\"2212\",\"type\":\"HBar\"},{\"attributes\":{\"data_source\":{\"id\":\"2093\"},\"glyph\":{\"id\":\"2211\"},\"hover_glyph\":null,\"muted_glyph\":null,\"name\":\"5\\u7802\\u792b\\u6df7\\u5408\\u7058\",\"nonselection_glyph\":{\"id\":\"2212\"},\"view\":{\"id\":\"2214\"}},\"id\":\"2213\",\"type\":\"GlyphRenderer\"},{\"attributes\":{},\"id\":\"2159\",\"type\":\"AllLabels\"},{\"attributes\":{\"fields\":[\"1\\u66b4\\u9732\\u5ca9\\u5cb8\",\"2\\u66b4\\u9732\\u4eba\\u9020\\u7d50\\u69cb\\u7269\",\"3\\u66b4\\u9732\\u5ca9\\u76e4\",\"4\\u6c99\\u7058\",\"5\\u7802\\u792b\\u6df7\\u5408\\u7058\",\"6\\u792b\\u77f3\\u7058\",\"7\\u958b\\u95ca\\u6f6e\\u9593\\u5e36\",\"8\\u906e\\u853d\\u5ca9\\u5cb8\"]},\"id\":\"2145\",\"type\":\"Stack\"},{\"attributes\":{\"bottom_units\":\"screen\",\"fill_alpha\":0.5,\"fill_color\":\"lightgrey\",\"left_units\":\"screen\",\"level\":\"overlay\",\"line_alpha\":1.0,\"line_color\":\"black\",\"line_dash\":[4,4],\"line_width\":2,\"right_units\":\"screen\",\"syncable\":false,\"top_units\":\"screen\"},\"id\":\"2119\",\"type\":\"BoxAnnotation\"},{\"attributes\":{\"fill_alpha\":{\"value\":0.1},\"fill_color\":{\"value\":\"#e377c2\"},\"height\":{\"value\":0.8},\"left\":{\"expr\":{\"id\":\"2141\"}},\"line_alpha\":{\"value\":0.1},\"line_color\":{\"value\":\"#e377c2\"},\"line_width\":{\"value\":2},\"right\":{\"expr\":{\"id\":\"2142\"}},\"y\":{\"field\":\"__x__values\"}},\"id\":\"2242\",\"type\":\"HBar\"},{\"attributes\":{\"fill_color\":{\"value\":\"#e377c2\"},\"height\":{\"value\":0.8},\"left\":{\"expr\":{\"id\":\"2141\"}},\"line_color\":{\"value\":\"#e377c2\"},\"line_width\":{\"value\":2},\"right\":{\"expr\":{\"id\":\"2142\"}},\"y\":{\"field\":\"__x__values\"}},\"id\":\"2241\",\"type\":\"HBar\"},{\"attributes\":{\"fields\":[\"1\\u66b4\\u9732\\u5ca9\\u5cb8\",\"2\\u66b4\\u9732\\u4eba\\u9020\\u7d50\\u69cb\\u7269\",\"3\\u66b4\\u9732\\u5ca9\\u76e4\",\"4\\u6c99\\u7058\",\"5\\u7802\\u792b\\u6df7\\u5408\\u7058\"]},\"id\":\"2138\",\"type\":\"Stack\"},{\"attributes\":{\"active_multi\":null,\"active_scroll\":{\"id\":\"2114\"},\"tools\":[{\"id\":\"2113\"},{\"id\":\"2114\"},{\"id\":\"2115\"},{\"id\":\"2116\"},{\"id\":\"2117\"},{\"id\":\"2118\"},{\"id\":\"2300\"}]},\"id\":\"2120\",\"type\":\"Toolbar\"},{\"attributes\":{\"overlay\":{\"id\":\"2119\"}},\"id\":\"2115\",\"type\":\"BoxZoomTool\"},{\"attributes\":{\"fields\":[\"1\\u66b4\\u9732\\u5ca9\\u5cb8\"]},\"id\":\"2131\",\"type\":\"Stack\"},{\"attributes\":{\"fields\":[\"1\\u66b4\\u9732\\u5ca9\\u5cb8\",\"2\\u66b4\\u9732\\u4eba\\u9020\\u7d50\\u69cb\\u7269\"]},\"id\":\"2133\",\"type\":\"Stack\"},{\"attributes\":{\"fields\":[\"1\\u66b4\\u9732\\u5ca9\\u5cb8\",\"2\\u66b4\\u9732\\u4eba\\u9020\\u7d50\\u69cb\\u7269\"]},\"id\":\"2132\",\"type\":\"Stack\"},{\"attributes\":{\"fields\":[]},\"id\":\"2129\",\"type\":\"Stack\"},{\"attributes\":{\"fields\":[\"1\\u66b4\\u9732\\u5ca9\\u5cb8\"]},\"id\":\"2130\",\"type\":\"Stack\"},{\"attributes\":{\"fields\":[\"1\\u66b4\\u9732\\u5ca9\\u5cb8\",\"2\\u66b4\\u9732\\u4eba\\u9020\\u7d50\\u69cb\\u7269\",\"3\\u66b4\\u9732\\u5ca9\\u76e4\",\"4\\u6c99\\u7058\",\"5\\u7802\\u792b\\u6df7\\u5408\\u7058\",\"6\\u792b\\u77f3\\u7058\",\"7\\u958b\\u95ca\\u6f6e\\u9593\\u5e36\"]},\"id\":\"2142\",\"type\":\"Stack\"},{\"attributes\":{\"fields\":[\"1\\u66b4\\u9732\\u5ca9\\u5cb8\",\"2\\u66b4\\u9732\\u4eba\\u9020\\u7d50\\u69cb\\u7269\",\"3\\u66b4\\u9732\\u5ca9\\u76e4\"]},\"id\":\"2134\",\"type\":\"Stack\"},{\"attributes\":{\"fields\":[\"1\\u66b4\\u9732\\u5ca9\\u5cb8\",\"2\\u66b4\\u9732\\u4eba\\u9020\\u7d50\\u69cb\\u7269\",\"3\\u66b4\\u9732\\u5ca9\\u76e4\"]},\"id\":\"2135\",\"type\":\"Stack\"},{\"attributes\":{\"fields\":[\"1\\u66b4\\u9732\\u5ca9\\u5cb8\",\"2\\u66b4\\u9732\\u4eba\\u9020\\u7d50\\u69cb\\u7269\",\"3\\u66b4\\u9732\\u5ca9\\u76e4\",\"4\\u6c99\\u7058\"]},\"id\":\"2136\",\"type\":\"Stack\"},{\"attributes\":{},\"id\":\"2161\",\"type\":\"UnionRenderers\"},{\"attributes\":{\"fields\":[\"1\\u66b4\\u9732\\u5ca9\\u5cb8\",\"2\\u66b4\\u9732\\u4eba\\u9020\\u7d50\\u69cb\\u7269\",\"3\\u66b4\\u9732\\u5ca9\\u76e4\",\"4\\u6c99\\u7058\"]},\"id\":\"2137\",\"type\":\"Stack\"},{\"attributes\":{},\"id\":\"2162\",\"type\":\"Selection\"},{\"attributes\":{\"fields\":[\"1\\u66b4\\u9732\\u5ca9\\u5cb8\",\"2\\u66b4\\u9732\\u4eba\\u9020\\u7d50\\u69cb\\u7269\",\"3\\u66b4\\u9732\\u5ca9\\u76e4\",\"4\\u6c99\\u7058\",\"5\\u7802\\u792b\\u6df7\\u5408\\u7058\",\"6\\u792b\\u77f3\\u7058\"]},\"id\":\"2141\",\"type\":\"Stack\"},{\"attributes\":{\"data_source\":{\"id\":\"2093\"},\"glyph\":{\"id\":\"2241\"},\"hover_glyph\":null,\"muted_glyph\":null,\"name\":\"7\\u958b\\u95ca\\u6f6e\\u9593\\u5e36\",\"nonselection_glyph\":{\"id\":\"2242\"},\"view\":{\"id\":\"2244\"}},\"id\":\"2243\",\"type\":\"GlyphRenderer\"},{\"attributes\":{\"fields\":[\"1\\u66b4\\u9732\\u5ca9\\u5cb8\",\"2\\u66b4\\u9732\\u4eba\\u9020\\u7d50\\u69cb\\u7269\",\"3\\u66b4\\u9732\\u5ca9\\u76e4\",\"4\\u6c99\\u7058\",\"5\\u7802\\u792b\\u6df7\\u5408\\u7058\"]},\"id\":\"2139\",\"type\":\"Stack\"},{\"attributes\":{\"fields\":[\"1\\u66b4\\u9732\\u5ca9\\u5cb8\",\"2\\u66b4\\u9732\\u4eba\\u9020\\u7d50\\u69cb\\u7269\",\"3\\u66b4\\u9732\\u5ca9\\u76e4\",\"4\\u6c99\\u7058\",\"5\\u7802\\u792b\\u6df7\\u5408\\u7058\",\"6\\u792b\\u77f3\\u7058\",\"7\\u958b\\u95ca\\u6f6e\\u9593\\u5e36\",\"8\\u906e\\u853d\\u5ca9\\u5cb8\",\"9\\u906e\\u853d\\u6f6e\\u9593\\u5e36\"]},\"id\":\"2147\",\"type\":\"Stack\"},{\"attributes\":{\"fields\":[\"1\\u66b4\\u9732\\u5ca9\\u5cb8\",\"2\\u66b4\\u9732\\u4eba\\u9020\\u7d50\\u69cb\\u7269\",\"3\\u66b4\\u9732\\u5ca9\\u76e4\",\"4\\u6c99\\u7058\",\"5\\u7802\\u792b\\u6df7\\u5408\\u7058\",\"6\\u792b\\u77f3\\u7058\"]},\"id\":\"2140\",\"type\":\"Stack\"},{\"attributes\":{\"source\":{\"id\":\"2093\"}},\"id\":\"2244\",\"type\":\"CDSView\"},{\"attributes\":{},\"id\":\"2116\",\"type\":\"SaveTool\"},{\"attributes\":{\"fields\":[\"1\\u66b4\\u9732\\u5ca9\\u5cb8\",\"2\\u66b4\\u9732\\u4eba\\u9020\\u7d50\\u69cb\\u7269\",\"3\\u66b4\\u9732\\u5ca9\\u76e4\",\"4\\u6c99\\u7058\",\"5\\u7802\\u792b\\u6df7\\u5408\\u7058\",\"6\\u792b\\u77f3\\u7058\",\"7\\u958b\\u95ca\\u6f6e\\u9593\\u5e36\",\"8\\u906e\\u853d\\u5ca9\\u5cb8\",\"9\\u906e\\u853d\\u6f6e\\u9593\\u5e36\"]},\"id\":\"2146\",\"type\":\"Stack\"},{\"attributes\":{\"fields\":[\"1\\u66b4\\u9732\\u5ca9\\u5cb8\",\"2\\u66b4\\u9732\\u4eba\\u9020\\u7d50\\u69cb\\u7269\",\"3\\u66b4\\u9732\\u5ca9\\u76e4\",\"4\\u6c99\\u7058\",\"5\\u7802\\u792b\\u6df7\\u5408\\u7058\",\"6\\u792b\\u77f3\\u7058\",\"7\\u958b\\u95ca\\u6f6e\\u9593\\u5e36\",\"8\\u906e\\u853d\\u5ca9\\u5cb8\"]},\"id\":\"2144\",\"type\":\"Stack\"},{\"attributes\":{\"axis_label\":\"LEVEL\",\"formatter\":{\"id\":\"2127\"},\"major_label_policy\":{\"id\":\"2159\"},\"ticker\":{\"id\":\"2302\"}},\"id\":\"2109\",\"type\":\"LinearAxis\"},{\"attributes\":{\"label\":{\"value\":\"7\\u958b\\u95ca\\u6f6e\\u9593\\u5e36\"},\"renderers\":[{\"id\":\"2243\"}]},\"id\":\"2254\",\"type\":\"LegendItem\"},{\"attributes\":{\"code\":\"\\n                                    var labels = {0: '1', 1: '2', 2: '3', 3: '4', 4: '5', 5: '6', 6: '7', 7: '8', 8: '9', 9: '10'};\\n                                    return labels[tick];\\n                                    \"},\"id\":\"2127\",\"type\":\"FuncTickFormatter\"},{\"attributes\":{\"fill_color\":{\"value\":\"#7f7f7f\"},\"height\":{\"value\":0.8},\"left\":{\"expr\":{\"id\":\"2143\"}},\"line_color\":{\"value\":\"#7f7f7f\"},\"line_width\":{\"value\":2},\"right\":{\"expr\":{\"id\":\"2144\"}},\"y\":{\"field\":\"__x__values\"}},\"id\":\"2256\",\"type\":\"HBar\"},{\"attributes\":{\"fill_color\":{\"value\":\"#ff7f0e\"},\"height\":{\"value\":0.8},\"left\":{\"expr\":{\"id\":\"2131\"}},\"line_color\":{\"value\":\"#ff7f0e\"},\"line_width\":{\"value\":2},\"right\":{\"expr\":{\"id\":\"2132\"}},\"y\":{\"field\":\"__x__values\"}},\"id\":\"2166\",\"type\":\"HBar\"},{\"attributes\":{\"data_source\":{\"id\":\"2093\"},\"glyph\":{\"id\":\"2196\"},\"hover_glyph\":null,\"muted_glyph\":null,\"name\":\"4\\u6c99\\u7058\",\"nonselection_glyph\":{\"id\":\"2197\"},\"view\":{\"id\":\"2199\"}},\"id\":\"2198\",\"type\":\"GlyphRenderer\"},{\"attributes\":{},\"id\":\"2106\",\"type\":\"BasicTicker\"},{\"attributes\":{\"label\":{\"value\":\"10\\u906e\\u853d\\u6fd5\\u5730\"},\"renderers\":[{\"id\":\"2288\"}]},\"id\":\"2299\",\"type\":\"LegendItem\"},{\"attributes\":{},\"id\":\"2101\",\"type\":\"LinearScale\"},{\"attributes\":{\"fill_color\":{\"value\":\"#8c564b\"},\"height\":{\"value\":0.8},\"left\":{\"expr\":{\"id\":\"2139\"}},\"line_color\":{\"value\":\"#8c564b\"},\"line_width\":{\"value\":2},\"right\":{\"expr\":{\"id\":\"2140\"}},\"y\":{\"field\":\"__x__values\"}},\"id\":\"2226\",\"type\":\"HBar\"},{\"attributes\":{},\"id\":\"2113\",\"type\":\"PanTool\"},{\"attributes\":{\"source\":{\"id\":\"2093\"}},\"id\":\"2169\",\"type\":\"CDSView\"},{\"attributes\":{\"axis\":{\"id\":\"2105\"},\"ticker\":null},\"id\":\"2108\",\"type\":\"Grid\"},{\"attributes\":{\"fill_alpha\":{\"value\":0.1},\"fill_color\":{\"value\":\"#ff7f0e\"},\"height\":{\"value\":0.8},\"left\":{\"expr\":{\"id\":\"2131\"}},\"line_alpha\":{\"value\":0.1},\"line_color\":{\"value\":\"#ff7f0e\"},\"line_width\":{\"value\":2},\"right\":{\"expr\":{\"id\":\"2132\"}},\"y\":{\"field\":\"__x__values\"}},\"id\":\"2167\",\"type\":\"HBar\"},{\"attributes\":{\"axis\":{\"id\":\"2109\"},\"dimension\":1,\"ticker\":null},\"id\":\"2112\",\"type\":\"Grid\"},{\"attributes\":{\"data_source\":{\"id\":\"2093\"},\"glyph\":{\"id\":\"2166\"},\"hover_glyph\":null,\"muted_glyph\":null,\"name\":\"2\\u66b4\\u9732\\u4eba\\u9020\\u7d50\\u69cb\\u7269\",\"nonselection_glyph\":{\"id\":\"2167\"},\"view\":{\"id\":\"2169\"}},\"id\":\"2168\",\"type\":\"GlyphRenderer\"},{\"attributes\":{\"label\":{\"value\":\"2\\u66b4\\u9732\\u4eba\\u9020\\u7d50\\u69cb\\u7269\"},\"renderers\":[{\"id\":\"2168\"}]},\"id\":\"2179\",\"type\":\"LegendItem\"},{\"attributes\":{\"fill_alpha\":{\"value\":0.1},\"fill_color\":{\"value\":\"#7f7f7f\"},\"height\":{\"value\":0.8},\"left\":{\"expr\":{\"id\":\"2143\"}},\"line_alpha\":{\"value\":0.1},\"line_color\":{\"value\":\"#7f7f7f\"},\"line_width\":{\"value\":2},\"right\":{\"expr\":{\"id\":\"2144\"}},\"y\":{\"field\":\"__x__values\"}},\"id\":\"2257\",\"type\":\"HBar\"},{\"attributes\":{\"source\":{\"id\":\"2093\"}},\"id\":\"2259\",\"type\":\"CDSView\"},{\"attributes\":{\"data_source\":{\"id\":\"2093\"},\"glyph\":{\"id\":\"2256\"},\"hover_glyph\":null,\"muted_glyph\":null,\"name\":\"8\\u906e\\u853d\\u5ca9\\u5cb8\",\"nonselection_glyph\":{\"id\":\"2257\"},\"view\":{\"id\":\"2259\"}},\"id\":\"2258\",\"type\":\"GlyphRenderer\"},{\"attributes\":{},\"id\":\"2114\",\"type\":\"WheelZoomTool\"},{\"attributes\":{\"label\":{\"value\":\"8\\u906e\\u853d\\u5ca9\\u5cb8\"},\"renderers\":[{\"id\":\"2258\"}]},\"id\":\"2269\",\"type\":\"LegendItem\"},{\"attributes\":{},\"id\":\"2103\",\"type\":\"LinearScale\"},{\"attributes\":{},\"id\":\"2099\",\"type\":\"DataRange1d\"},{\"attributes\":{},\"id\":\"2097\",\"type\":\"DataRange1d\"},{\"attributes\":{\"formatter\":{\"id\":\"2157\"},\"major_label_policy\":{\"id\":\"2156\"},\"ticker\":{\"id\":\"2106\"}},\"id\":\"2105\",\"type\":\"LinearAxis\"},{\"attributes\":{\"fill_color\":{\"value\":\"#2ca02c\"},\"height\":{\"value\":0.8},\"left\":{\"expr\":{\"id\":\"2133\"}},\"line_color\":{\"value\":\"#2ca02c\"},\"line_width\":{\"value\":2},\"right\":{\"expr\":{\"id\":\"2134\"}},\"y\":{\"field\":\"__x__values\"}},\"id\":\"2181\",\"type\":\"HBar\"},{\"attributes\":{\"fill_alpha\":{\"value\":0.1},\"fill_color\":{\"value\":\"#8c564b\"},\"height\":{\"value\":0.8},\"left\":{\"expr\":{\"id\":\"2139\"}},\"line_alpha\":{\"value\":0.1},\"line_color\":{\"value\":\"#8c564b\"},\"line_width\":{\"value\":2},\"right\":{\"expr\":{\"id\":\"2140\"}},\"y\":{\"field\":\"__x__values\"}},\"id\":\"2227\",\"type\":\"HBar\"},{\"attributes\":{\"source\":{\"id\":\"2093\"}},\"id\":\"2184\",\"type\":\"CDSView\"},{\"attributes\":{\"fill_alpha\":{\"value\":0.1},\"fill_color\":{\"value\":\"#2ca02c\"},\"height\":{\"value\":0.8},\"left\":{\"expr\":{\"id\":\"2133\"}},\"line_alpha\":{\"value\":0.1},\"line_color\":{\"value\":\"#2ca02c\"},\"line_width\":{\"value\":2},\"right\":{\"expr\":{\"id\":\"2134\"}},\"y\":{\"field\":\"__x__values\"}},\"id\":\"2182\",\"type\":\"HBar\"},{\"attributes\":{\"data_source\":{\"id\":\"2093\"},\"glyph\":{\"id\":\"2181\"},\"hover_glyph\":null,\"muted_glyph\":null,\"name\":\"3\\u66b4\\u9732\\u5ca9\\u76e4\",\"nonselection_glyph\":{\"id\":\"2182\"},\"view\":{\"id\":\"2184\"}},\"id\":\"2183\",\"type\":\"GlyphRenderer\"},{\"attributes\":{\"label\":{\"value\":\"3\\u66b4\\u9732\\u5ca9\\u76e4\"},\"renderers\":[{\"id\":\"2183\"}]},\"id\":\"2194\",\"type\":\"LegendItem\"},{\"attributes\":{\"fill_color\":{\"value\":\"#bcbd22\"},\"height\":{\"value\":0.8},\"left\":{\"expr\":{\"id\":\"2145\"}},\"line_color\":{\"value\":\"#bcbd22\"},\"line_width\":{\"value\":2},\"right\":{\"expr\":{\"id\":\"2146\"}},\"y\":{\"field\":\"__x__values\"}},\"id\":\"2271\",\"type\":\"HBar\"},{\"attributes\":{\"fill_color\":{\"value\":\"#17becf\"},\"height\":{\"value\":0.8},\"left\":{\"expr\":{\"id\":\"2147\"}},\"line_color\":{\"value\":\"#17becf\"},\"line_width\":{\"value\":2},\"right\":{\"expr\":{\"id\":\"2148\"}},\"y\":{\"field\":\"__x__values\"}},\"id\":\"2286\",\"type\":\"HBar\"},{\"attributes\":{\"source\":{\"id\":\"2093\"}},\"id\":\"2274\",\"type\":\"CDSView\"},{\"attributes\":{\"fill_alpha\":{\"value\":0.1},\"fill_color\":{\"value\":\"#bcbd22\"},\"height\":{\"value\":0.8},\"left\":{\"expr\":{\"id\":\"2145\"}},\"line_alpha\":{\"value\":0.1},\"line_color\":{\"value\":\"#bcbd22\"},\"line_width\":{\"value\":2},\"right\":{\"expr\":{\"id\":\"2146\"}},\"y\":{\"field\":\"__x__values\"}},\"id\":\"2272\",\"type\":\"HBar\"},{\"attributes\":{\"data_source\":{\"id\":\"2093\"},\"glyph\":{\"id\":\"2271\"},\"hover_glyph\":null,\"muted_glyph\":null,\"name\":\"9\\u906e\\u853d\\u6f6e\\u9593\\u5e36\",\"nonselection_glyph\":{\"id\":\"2272\"},\"view\":{\"id\":\"2274\"}},\"id\":\"2273\",\"type\":\"GlyphRenderer\"},{\"attributes\":{\"label\":{\"value\":\"9\\u906e\\u853d\\u6f6e\\u9593\\u5e36\"},\"renderers\":[{\"id\":\"2273\"}]},\"id\":\"2284\",\"type\":\"LegendItem\"},{\"attributes\":{\"fill_color\":{\"value\":\"#d62728\"},\"height\":{\"value\":0.8},\"left\":{\"expr\":{\"id\":\"2135\"}},\"line_color\":{\"value\":\"#d62728\"},\"line_width\":{\"value\":2},\"right\":{\"expr\":{\"id\":\"2136\"}},\"y\":{\"field\":\"__x__values\"}},\"id\":\"2196\",\"type\":\"HBar\"},{\"attributes\":{\"source\":{\"id\":\"2093\"}},\"id\":\"2199\",\"type\":\"CDSView\"},{\"attributes\":{\"label\":{\"value\":\"4\\u6c99\\u7058\"},\"renderers\":[{\"id\":\"2198\"}]},\"id\":\"2209\",\"type\":\"LegendItem\"},{\"attributes\":{\"label\":{\"value\":\"5\\u7802\\u792b\\u6df7\\u5408\\u7058\"},\"renderers\":[{\"id\":\"2213\"}]},\"id\":\"2224\",\"type\":\"LegendItem\"},{\"attributes\":{\"fill_alpha\":{\"value\":0.1},\"fill_color\":{\"value\":\"#d62728\"},\"height\":{\"value\":0.8},\"left\":{\"expr\":{\"id\":\"2135\"}},\"line_alpha\":{\"value\":0.1},\"line_color\":{\"value\":\"#d62728\"},\"line_width\":{\"value\":2},\"right\":{\"expr\":{\"id\":\"2136\"}},\"y\":{\"field\":\"__x__values\"}},\"id\":\"2197\",\"type\":\"HBar\"},{\"attributes\":{\"fill_color\":{\"value\":\"#9467bd\"},\"height\":{\"value\":0.8},\"left\":{\"expr\":{\"id\":\"2137\"}},\"line_color\":{\"value\":\"#9467bd\"},\"line_width\":{\"value\":2},\"right\":{\"expr\":{\"id\":\"2138\"}},\"y\":{\"field\":\"__x__values\"}},\"id\":\"2211\",\"type\":\"HBar\"}],\"root_ids\":[\"2094\"]},\"title\":\"Bokeh Application\",\"version\":\"2.3.2\"}};\n",
       "  var render_items = [{\"docid\":\"788976fc-838d-45d8-be7a-b67e21620771\",\"root_ids\":[\"2094\"],\"roots\":{\"2094\":\"684e5e6a-b076-402f-9173-f29b33085bde\"}}];\n",
       "  root.Bokeh.embed.embed_items_notebook(docs_json, render_items);\n",
       "\n",
       "  }\n",
       "  if (root.Bokeh !== undefined) {\n",
       "    embed_document(root);\n",
       "  } else {\n",
       "    var attempts = 0;\n",
       "    var timer = setInterval(function(root) {\n",
       "      if (root.Bokeh !== undefined) {\n",
       "        clearInterval(timer);\n",
       "        embed_document(root);\n",
       "      } else {\n",
       "        attempts++;\n",
       "        if (attempts > 100) {\n",
       "          clearInterval(timer);\n",
       "          console.log(\"Bokeh: ERROR: Unable to run BokehJS code because BokehJS library is missing\");\n",
       "        }\n",
       "      }\n",
       "    }, 10, root)\n",
       "  }\n",
       "})(window);"
      ],
      "application/vnd.bokehjs_exec.v0+json": ""
     },
     "metadata": {
      "application/vnd.bokehjs_exec.v0+json": {
       "id": "2094"
      }
     },
     "output_type": "display_data"
    },
    {
     "data": {
      "text/html": [
       "<div style=\"display: table;\"><div style=\"display: table-row;\"><div style=\"display: table-cell;\"><b title=\"bokeh.plotting.figure.Figure\">Figure</b>(</div><div style=\"display: table-cell;\">id&nbsp;=&nbsp;'2094', <span id=\"2394\" style=\"cursor: pointer;\">&hellip;)</span></div></div><div class=\"2393\" style=\"display: none;\"><div style=\"display: table-cell;\"></div><div style=\"display: table-cell;\">above&nbsp;=&nbsp;[],</div></div><div class=\"2393\" style=\"display: none;\"><div style=\"display: table-cell;\"></div><div style=\"display: table-cell;\">align&nbsp;=&nbsp;'start',</div></div><div class=\"2393\" style=\"display: none;\"><div style=\"display: table-cell;\"></div><div style=\"display: table-cell;\">aspect_ratio&nbsp;=&nbsp;None,</div></div><div class=\"2393\" style=\"display: none;\"><div style=\"display: table-cell;\"></div><div style=\"display: table-cell;\">aspect_scale&nbsp;=&nbsp;1,</div></div><div class=\"2393\" style=\"display: none;\"><div style=\"display: table-cell;\"></div><div style=\"display: table-cell;\">background&nbsp;=&nbsp;None,</div></div><div class=\"2393\" style=\"display: none;\"><div style=\"display: table-cell;\"></div><div style=\"display: table-cell;\">background_fill_alpha&nbsp;=&nbsp;1.0,</div></div><div class=\"2393\" style=\"display: none;\"><div style=\"display: table-cell;\"></div><div style=\"display: table-cell;\">background_fill_color&nbsp;=&nbsp;'#ffffff',</div></div><div class=\"2393\" style=\"display: none;\"><div style=\"display: table-cell;\"></div><div style=\"display: table-cell;\">below&nbsp;=&nbsp;[LinearAxis(id='2105', ...)],</div></div><div class=\"2393\" style=\"display: none;\"><div style=\"display: table-cell;\"></div><div style=\"display: table-cell;\">border_fill_alpha&nbsp;=&nbsp;1.0,</div></div><div class=\"2393\" style=\"display: none;\"><div style=\"display: table-cell;\"></div><div style=\"display: table-cell;\">border_fill_color&nbsp;=&nbsp;'#ffffff',</div></div><div class=\"2393\" style=\"display: none;\"><div style=\"display: table-cell;\"></div><div style=\"display: table-cell;\">center&nbsp;=&nbsp;[Grid(id='2108', ...), Grid(id='2112', ...), Legend(id='2163', ...)],</div></div><div class=\"2393\" style=\"display: none;\"><div style=\"display: table-cell;\"></div><div style=\"display: table-cell;\">css_classes&nbsp;=&nbsp;[],</div></div><div class=\"2393\" style=\"display: none;\"><div style=\"display: table-cell;\"></div><div style=\"display: table-cell;\">disabled&nbsp;=&nbsp;False,</div></div><div class=\"2393\" style=\"display: none;\"><div style=\"display: table-cell;\"></div><div style=\"display: table-cell;\">extra_x_ranges&nbsp;=&nbsp;{},</div></div><div class=\"2393\" style=\"display: none;\"><div style=\"display: table-cell;\"></div><div style=\"display: table-cell;\">extra_y_ranges&nbsp;=&nbsp;{},</div></div><div class=\"2393\" style=\"display: none;\"><div style=\"display: table-cell;\"></div><div style=\"display: table-cell;\">frame_height&nbsp;=&nbsp;None,</div></div><div class=\"2393\" style=\"display: none;\"><div style=\"display: table-cell;\"></div><div style=\"display: table-cell;\">frame_width&nbsp;=&nbsp;None,</div></div><div class=\"2393\" style=\"display: none;\"><div style=\"display: table-cell;\"></div><div style=\"display: table-cell;\">height&nbsp;=&nbsp;500,</div></div><div class=\"2393\" style=\"display: none;\"><div style=\"display: table-cell;\"></div><div style=\"display: table-cell;\">height_policy&nbsp;=&nbsp;'auto',</div></div><div class=\"2393\" style=\"display: none;\"><div style=\"display: table-cell;\"></div><div style=\"display: table-cell;\">hidpi&nbsp;=&nbsp;True,</div></div><div class=\"2393\" style=\"display: none;\"><div style=\"display: table-cell;\"></div><div style=\"display: table-cell;\">inner_height&nbsp;=&nbsp;0,</div></div><div class=\"2393\" style=\"display: none;\"><div style=\"display: table-cell;\"></div><div style=\"display: table-cell;\">inner_width&nbsp;=&nbsp;0,</div></div><div class=\"2393\" style=\"display: none;\"><div style=\"display: table-cell;\"></div><div style=\"display: table-cell;\">js_event_callbacks&nbsp;=&nbsp;{},</div></div><div class=\"2393\" style=\"display: none;\"><div style=\"display: table-cell;\"></div><div style=\"display: table-cell;\">js_property_callbacks&nbsp;=&nbsp;{},</div></div><div class=\"2393\" style=\"display: none;\"><div style=\"display: table-cell;\"></div><div style=\"display: table-cell;\">left&nbsp;=&nbsp;[LinearAxis(id='2109', ...)],</div></div><div class=\"2393\" style=\"display: none;\"><div style=\"display: table-cell;\"></div><div style=\"display: table-cell;\">lod_factor&nbsp;=&nbsp;10,</div></div><div class=\"2393\" style=\"display: none;\"><div style=\"display: table-cell;\"></div><div style=\"display: table-cell;\">lod_interval&nbsp;=&nbsp;300,</div></div><div class=\"2393\" style=\"display: none;\"><div style=\"display: table-cell;\"></div><div style=\"display: table-cell;\">lod_threshold&nbsp;=&nbsp;2000,</div></div><div class=\"2393\" style=\"display: none;\"><div style=\"display: table-cell;\"></div><div style=\"display: table-cell;\">lod_timeout&nbsp;=&nbsp;500,</div></div><div class=\"2393\" style=\"display: none;\"><div style=\"display: table-cell;\"></div><div style=\"display: table-cell;\">margin&nbsp;=&nbsp;(0, 0, 0, 0),</div></div><div class=\"2393\" style=\"display: none;\"><div style=\"display: table-cell;\"></div><div style=\"display: table-cell;\">match_aspect&nbsp;=&nbsp;False,</div></div><div class=\"2393\" style=\"display: none;\"><div style=\"display: table-cell;\"></div><div style=\"display: table-cell;\">max_height&nbsp;=&nbsp;None,</div></div><div class=\"2393\" style=\"display: none;\"><div style=\"display: table-cell;\"></div><div style=\"display: table-cell;\">max_width&nbsp;=&nbsp;None,</div></div><div class=\"2393\" style=\"display: none;\"><div style=\"display: table-cell;\"></div><div style=\"display: table-cell;\">min_border&nbsp;=&nbsp;5,</div></div><div class=\"2393\" style=\"display: none;\"><div style=\"display: table-cell;\"></div><div style=\"display: table-cell;\">min_border_bottom&nbsp;=&nbsp;None,</div></div><div class=\"2393\" style=\"display: none;\"><div style=\"display: table-cell;\"></div><div style=\"display: table-cell;\">min_border_left&nbsp;=&nbsp;None,</div></div><div class=\"2393\" style=\"display: none;\"><div style=\"display: table-cell;\"></div><div style=\"display: table-cell;\">min_border_right&nbsp;=&nbsp;None,</div></div><div class=\"2393\" style=\"display: none;\"><div style=\"display: table-cell;\"></div><div style=\"display: table-cell;\">min_border_top&nbsp;=&nbsp;None,</div></div><div class=\"2393\" style=\"display: none;\"><div style=\"display: table-cell;\"></div><div style=\"display: table-cell;\">min_height&nbsp;=&nbsp;None,</div></div><div class=\"2393\" style=\"display: none;\"><div style=\"display: table-cell;\"></div><div style=\"display: table-cell;\">min_width&nbsp;=&nbsp;None,</div></div><div class=\"2393\" style=\"display: none;\"><div style=\"display: table-cell;\"></div><div style=\"display: table-cell;\">name&nbsp;=&nbsp;None,</div></div><div class=\"2393\" style=\"display: none;\"><div style=\"display: table-cell;\"></div><div style=\"display: table-cell;\">outer_height&nbsp;=&nbsp;0,</div></div><div class=\"2393\" style=\"display: none;\"><div style=\"display: table-cell;\"></div><div style=\"display: table-cell;\">outer_width&nbsp;=&nbsp;0,</div></div><div class=\"2393\" style=\"display: none;\"><div style=\"display: table-cell;\"></div><div style=\"display: table-cell;\">outline_line_alpha&nbsp;=&nbsp;1.0,</div></div><div class=\"2393\" style=\"display: none;\"><div style=\"display: table-cell;\"></div><div style=\"display: table-cell;\">outline_line_cap&nbsp;=&nbsp;'butt',</div></div><div class=\"2393\" style=\"display: none;\"><div style=\"display: table-cell;\"></div><div style=\"display: table-cell;\">outline_line_color&nbsp;=&nbsp;'#e5e5e5',</div></div><div class=\"2393\" style=\"display: none;\"><div style=\"display: table-cell;\"></div><div style=\"display: table-cell;\">outline_line_dash&nbsp;=&nbsp;[],</div></div><div class=\"2393\" style=\"display: none;\"><div style=\"display: table-cell;\"></div><div style=\"display: table-cell;\">outline_line_dash_offset&nbsp;=&nbsp;0,</div></div><div class=\"2393\" style=\"display: none;\"><div style=\"display: table-cell;\"></div><div style=\"display: table-cell;\">outline_line_join&nbsp;=&nbsp;'bevel',</div></div><div class=\"2393\" style=\"display: none;\"><div style=\"display: table-cell;\"></div><div style=\"display: table-cell;\">outline_line_width&nbsp;=&nbsp;1,</div></div><div class=\"2393\" style=\"display: none;\"><div style=\"display: table-cell;\"></div><div style=\"display: table-cell;\">output_backend&nbsp;=&nbsp;'webgl',</div></div><div class=\"2393\" style=\"display: none;\"><div style=\"display: table-cell;\"></div><div style=\"display: table-cell;\">renderers&nbsp;=&nbsp;[GlyphRenderer(id='2152', ...), GlyphRenderer(id='2168', ...), GlyphRenderer(id='2183', ...), GlyphRenderer(id='2198', ...), GlyphRenderer(id='2213', ...), GlyphRenderer(id='2228', ...), GlyphRenderer(id='2243', ...), GlyphRenderer(id='2258', ...), GlyphRenderer(id='2273', ...), GlyphRenderer(id='2288', ...)],</div></div><div class=\"2393\" style=\"display: none;\"><div style=\"display: table-cell;\"></div><div style=\"display: table-cell;\">reset_policy&nbsp;=&nbsp;'standard',</div></div><div class=\"2393\" style=\"display: none;\"><div style=\"display: table-cell;\"></div><div style=\"display: table-cell;\">right&nbsp;=&nbsp;[],</div></div><div class=\"2393\" style=\"display: none;\"><div style=\"display: table-cell;\"></div><div style=\"display: table-cell;\">sizing_mode&nbsp;=&nbsp;'fixed',</div></div><div class=\"2393\" style=\"display: none;\"><div style=\"display: table-cell;\"></div><div style=\"display: table-cell;\">subscribed_events&nbsp;=&nbsp;[],</div></div><div class=\"2393\" style=\"display: none;\"><div style=\"display: table-cell;\"></div><div style=\"display: table-cell;\">syncable&nbsp;=&nbsp;True,</div></div><div class=\"2393\" style=\"display: none;\"><div style=\"display: table-cell;\"></div><div style=\"display: table-cell;\">tags&nbsp;=&nbsp;[],</div></div><div class=\"2393\" style=\"display: none;\"><div style=\"display: table-cell;\"></div><div style=\"display: table-cell;\">title&nbsp;=&nbsp;Title(id='2095', ...),</div></div><div class=\"2393\" style=\"display: none;\"><div style=\"display: table-cell;\"></div><div style=\"display: table-cell;\">title_location&nbsp;=&nbsp;'above',</div></div><div class=\"2393\" style=\"display: none;\"><div style=\"display: table-cell;\"></div><div style=\"display: table-cell;\">toolbar&nbsp;=&nbsp;Toolbar(id='2120', ...),</div></div><div class=\"2393\" style=\"display: none;\"><div style=\"display: table-cell;\"></div><div style=\"display: table-cell;\">toolbar_location&nbsp;=&nbsp;'right',</div></div><div class=\"2393\" style=\"display: none;\"><div style=\"display: table-cell;\"></div><div style=\"display: table-cell;\">toolbar_sticky&nbsp;=&nbsp;True,</div></div><div class=\"2393\" style=\"display: none;\"><div style=\"display: table-cell;\"></div><div style=\"display: table-cell;\">visible&nbsp;=&nbsp;True,</div></div><div class=\"2393\" style=\"display: none;\"><div style=\"display: table-cell;\"></div><div style=\"display: table-cell;\">width&nbsp;=&nbsp;1200,</div></div><div class=\"2393\" style=\"display: none;\"><div style=\"display: table-cell;\"></div><div style=\"display: table-cell;\">width_policy&nbsp;=&nbsp;'auto',</div></div><div class=\"2393\" style=\"display: none;\"><div style=\"display: table-cell;\"></div><div style=\"display: table-cell;\">x_range&nbsp;=&nbsp;DataRange1d(id='2097', ...),</div></div><div class=\"2393\" style=\"display: none;\"><div style=\"display: table-cell;\"></div><div style=\"display: table-cell;\">x_scale&nbsp;=&nbsp;LinearScale(id='2101', ...),</div></div><div class=\"2393\" style=\"display: none;\"><div style=\"display: table-cell;\"></div><div style=\"display: table-cell;\">y_range&nbsp;=&nbsp;DataRange1d(id='2099', ...),</div></div><div class=\"2393\" style=\"display: none;\"><div style=\"display: table-cell;\"></div><div style=\"display: table-cell;\">y_scale&nbsp;=&nbsp;LinearScale(id='2103', ...))</div></div></div>\n",
       "<script>\n",
       "(function() {\n",
       "  var expanded = false;\n",
       "  var ellipsis = document.getElementById(\"2394\");\n",
       "  ellipsis.addEventListener(\"click\", function() {\n",
       "    var rows = document.getElementsByClassName(\"2393\");\n",
       "    for (var i = 0; i < rows.length; i++) {\n",
       "      var el = rows[i];\n",
       "      el.style.display = expanded ? \"none\" : \"table-row\";\n",
       "    }\n",
       "    ellipsis.innerHTML = expanded ? \"&hellip;)\" : \"&lsaquo;&lsaquo;&lsaquo;\";\n",
       "    expanded = !expanded;\n",
       "  });\n",
       "})();\n",
       "</script>\n"
      ],
      "text/plain": [
       "Figure(id='2094', ...)"
      ]
     },
     "execution_count": 44,
     "metadata": {},
     "output_type": "execute_result"
    }
   ],
   "source": [
    "df.plot_bokeh.barh(stacked=True, figsize=(1200, 500))"
   ]
  },
  {
   "cell_type": "code",
   "execution_count": 45,
   "metadata": {
    "id": "yNq6xt2yBVnY"
   },
   "outputs": [
    {
     "data": {
      "text/html": [
       "<div>\n",
       "<style scoped>\n",
       "    .dataframe tbody tr th:only-of-type {\n",
       "        vertical-align: middle;\n",
       "    }\n",
       "\n",
       "    .dataframe tbody tr th {\n",
       "        vertical-align: top;\n",
       "    }\n",
       "\n",
       "    .dataframe thead th {\n",
       "        text-align: right;\n",
       "    }\n",
       "</style>\n",
       "<table border=\"1\" class=\"dataframe\">\n",
       "  <thead>\n",
       "    <tr style=\"text-align: right;\">\n",
       "      <th>LEVEL</th>\n",
       "      <th>1</th>\n",
       "      <th>2</th>\n",
       "      <th>3</th>\n",
       "      <th>4</th>\n",
       "      <th>5</th>\n",
       "      <th>6</th>\n",
       "      <th>7</th>\n",
       "      <th>8</th>\n",
       "      <th>9</th>\n",
       "      <th>10</th>\n",
       "    </tr>\n",
       "  </thead>\n",
       "  <tbody>\n",
       "    <tr>\n",
       "      <th>1暴露岩岸</th>\n",
       "      <td>1.0</td>\n",
       "      <td>6.0</td>\n",
       "      <td>5.0</td>\n",
       "      <td>2.0</td>\n",
       "      <td>5.0</td>\n",
       "      <td>2.0</td>\n",
       "      <td>5.0</td>\n",
       "      <td>3.0</td>\n",
       "      <td>0.0</td>\n",
       "      <td>0.0</td>\n",
       "    </tr>\n",
       "    <tr>\n",
       "      <th>2暴露人造結構物</th>\n",
       "      <td>3.0</td>\n",
       "      <td>6.0</td>\n",
       "      <td>5.0</td>\n",
       "      <td>8.0</td>\n",
       "      <td>9.0</td>\n",
       "      <td>23.0</td>\n",
       "      <td>19.0</td>\n",
       "      <td>13.0</td>\n",
       "      <td>7.0</td>\n",
       "      <td>5.0</td>\n",
       "    </tr>\n",
       "    <tr>\n",
       "      <th>3暴露岩盤</th>\n",
       "      <td>2.0</td>\n",
       "      <td>3.0</td>\n",
       "      <td>5.0</td>\n",
       "      <td>1.0</td>\n",
       "      <td>5.0</td>\n",
       "      <td>4.0</td>\n",
       "      <td>3.0</td>\n",
       "      <td>4.0</td>\n",
       "      <td>2.0</td>\n",
       "      <td>1.0</td>\n",
       "    </tr>\n",
       "    <tr>\n",
       "      <th>4沙灘</th>\n",
       "      <td>4.0</td>\n",
       "      <td>23.0</td>\n",
       "      <td>18.0</td>\n",
       "      <td>14.0</td>\n",
       "      <td>23.0</td>\n",
       "      <td>25.0</td>\n",
       "      <td>24.0</td>\n",
       "      <td>12.0</td>\n",
       "      <td>10.0</td>\n",
       "      <td>4.0</td>\n",
       "    </tr>\n",
       "    <tr>\n",
       "      <th>5砂礫混合灘</th>\n",
       "      <td>7.0</td>\n",
       "      <td>19.0</td>\n",
       "      <td>5.0</td>\n",
       "      <td>8.0</td>\n",
       "      <td>13.0</td>\n",
       "      <td>11.0</td>\n",
       "      <td>5.0</td>\n",
       "      <td>0.0</td>\n",
       "      <td>3.0</td>\n",
       "      <td>0.0</td>\n",
       "    </tr>\n",
       "    <tr>\n",
       "      <th>6礫石灘</th>\n",
       "      <td>2.0</td>\n",
       "      <td>10.0</td>\n",
       "      <td>8.0</td>\n",
       "      <td>5.0</td>\n",
       "      <td>9.0</td>\n",
       "      <td>11.0</td>\n",
       "      <td>12.0</td>\n",
       "      <td>16.0</td>\n",
       "      <td>5.0</td>\n",
       "      <td>3.0</td>\n",
       "    </tr>\n",
       "    <tr>\n",
       "      <th>7開闊潮間帶</th>\n",
       "      <td>1.0</td>\n",
       "      <td>3.0</td>\n",
       "      <td>5.0</td>\n",
       "      <td>3.0</td>\n",
       "      <td>3.0</td>\n",
       "      <td>6.0</td>\n",
       "      <td>6.0</td>\n",
       "      <td>2.0</td>\n",
       "      <td>0.0</td>\n",
       "      <td>2.0</td>\n",
       "    </tr>\n",
       "    <tr>\n",
       "      <th>8遮蔽岩岸</th>\n",
       "      <td>0.0</td>\n",
       "      <td>2.0</td>\n",
       "      <td>0.0</td>\n",
       "      <td>2.0</td>\n",
       "      <td>0.0</td>\n",
       "      <td>4.0</td>\n",
       "      <td>4.0</td>\n",
       "      <td>4.0</td>\n",
       "      <td>2.0</td>\n",
       "      <td>1.0</td>\n",
       "    </tr>\n",
       "    <tr>\n",
       "      <th>9遮蔽潮間帶</th>\n",
       "      <td>0.0</td>\n",
       "      <td>0.0</td>\n",
       "      <td>0.0</td>\n",
       "      <td>0.0</td>\n",
       "      <td>2.0</td>\n",
       "      <td>1.0</td>\n",
       "      <td>1.0</td>\n",
       "      <td>0.0</td>\n",
       "      <td>0.0</td>\n",
       "      <td>0.0</td>\n",
       "    </tr>\n",
       "    <tr>\n",
       "      <th>10遮蔽濕地</th>\n",
       "      <td>0.0</td>\n",
       "      <td>0.0</td>\n",
       "      <td>0.0</td>\n",
       "      <td>0.0</td>\n",
       "      <td>0.0</td>\n",
       "      <td>0.0</td>\n",
       "      <td>1.0</td>\n",
       "      <td>0.0</td>\n",
       "      <td>2.0</td>\n",
       "      <td>1.0</td>\n",
       "    </tr>\n",
       "  </tbody>\n",
       "</table>\n",
       "</div>"
      ],
      "text/plain": [
       "LEVEL      1     2     3     4     5     6     7     8     9    10\n",
       "1暴露岩岸     1.0   6.0   5.0   2.0   5.0   2.0   5.0   3.0   0.0  0.0\n",
       "2暴露人造結構物  3.0   6.0   5.0   8.0   9.0  23.0  19.0  13.0   7.0  5.0\n",
       "3暴露岩盤     2.0   3.0   5.0   1.0   5.0   4.0   3.0   4.0   2.0  1.0\n",
       "4沙灘       4.0  23.0  18.0  14.0  23.0  25.0  24.0  12.0  10.0  4.0\n",
       "5砂礫混合灘    7.0  19.0   5.0   8.0  13.0  11.0   5.0   0.0   3.0  0.0\n",
       "6礫石灘      2.0  10.0   8.0   5.0   9.0  11.0  12.0  16.0   5.0  3.0\n",
       "7開闊潮間帶    1.0   3.0   5.0   3.0   3.0   6.0   6.0   2.0   0.0  2.0\n",
       "8遮蔽岩岸     0.0   2.0   0.0   2.0   0.0   4.0   4.0   4.0   2.0  1.0\n",
       "9遮蔽潮間帶    0.0   0.0   0.0   0.0   2.0   1.0   1.0   0.0   0.0  0.0\n",
       "10遮蔽濕地    0.0   0.0   0.0   0.0   0.0   0.0   1.0   0.0   2.0  1.0"
      ]
     },
     "execution_count": 45,
     "metadata": {},
     "output_type": "execute_result"
    }
   ],
   "source": [
    "df.T"
   ]
  },
  {
   "cell_type": "code",
   "execution_count": 46,
   "metadata": {
    "id": "wyWrOOb8AtGy"
   },
   "outputs": [
    {
     "name": "stdout",
     "output_type": "stream",
     "text": [
      "__x__values_original\n"
     ]
    },
    {
     "data": {
      "text/html": [
       "\n",
       "\n",
       "\n",
       "\n",
       "\n",
       "\n",
       "  <div class=\"bk-root\" id=\"a3c32086-ce2b-4658-a494-59c56ad94e83\" data-root-id=\"2431\"></div>\n"
      ]
     },
     "metadata": {},
     "output_type": "display_data"
    },
    {
     "data": {
      "application/javascript": [
       "(function(root) {\n",
       "  function embed_document(root) {\n",
       "    \n",
       "  var docs_json = {\"e5d5cf1c-d086-4881-bd5e-fedc7347e8fe\":{\"defs\":[],\"roots\":{\"references\":[{\"attributes\":{\"below\":[{\"id\":\"2442\"}],\"center\":[{\"id\":\"2445\"},{\"id\":\"2449\"},{\"id\":\"2725\"}],\"height\":400,\"left\":[{\"id\":\"2446\"}],\"renderers\":[{\"id\":\"2470\"},{\"id\":\"2476\"},{\"id\":\"2481\"},{\"id\":\"2491\"},{\"id\":\"2497\"},{\"id\":\"2502\"},{\"id\":\"2512\"},{\"id\":\"2518\"},{\"id\":\"2523\"},{\"id\":\"2533\"},{\"id\":\"2539\"},{\"id\":\"2544\"},{\"id\":\"2554\"},{\"id\":\"2560\"},{\"id\":\"2565\"},{\"id\":\"2575\"},{\"id\":\"2581\"},{\"id\":\"2586\"},{\"id\":\"2596\"},{\"id\":\"2602\"},{\"id\":\"2607\"},{\"id\":\"2617\"},{\"id\":\"2623\"},{\"id\":\"2628\"},{\"id\":\"2638\"},{\"id\":\"2644\"},{\"id\":\"2649\"},{\"id\":\"2659\"},{\"id\":\"2731\"},{\"id\":\"2736\"}],\"title\":{\"id\":\"2432\"},\"toolbar\":{\"id\":\"2457\"},\"toolbar_location\":null,\"x_range\":{\"id\":\"2434\"},\"x_scale\":{\"id\":\"2438\"},\"y_range\":{\"id\":\"2436\"},\"y_scale\":{\"id\":\"2440\"}},\"id\":\"2431\",\"subtype\":\"Figure\",\"type\":\"Plot\"},{\"attributes\":{\"data_source\":{\"id\":\"2613\"},\"glyph\":{\"id\":\"2615\"},\"hover_glyph\":null,\"muted_glyph\":null,\"nonselection_glyph\":{\"id\":\"2616\"},\"view\":{\"id\":\"2618\"}},\"id\":\"2617\",\"type\":\"GlyphRenderer\"},{\"attributes\":{\"data_source\":{\"id\":\"2529\"},\"glyph\":{\"id\":\"2531\"},\"hover_glyph\":null,\"muted_glyph\":null,\"nonselection_glyph\":{\"id\":\"2532\"},\"view\":{\"id\":\"2534\"}},\"id\":\"2533\",\"type\":\"GlyphRenderer\"},{\"attributes\":{\"text_color\":{\"value\":\"black\"},\"text_font_style\":{\"value\":\"bold\"},\"x\":{\"field\":\"__x__values\"},\"y\":{\"field\":\"y\"}},\"id\":\"2537\",\"type\":\"Text\"},{\"attributes\":{},\"id\":\"2666\",\"type\":\"AllLabels\"},{\"attributes\":{},\"id\":\"2697\",\"type\":\"UnionRenderers\"},{\"attributes\":{},\"id\":\"2454\",\"type\":\"ResetTool\"},{\"attributes\":{},\"id\":\"2719\",\"type\":\"UnionRenderers\"},{\"attributes\":{},\"id\":\"2667\",\"type\":\"BasicTickFormatter\"},{\"attributes\":{},\"id\":\"2698\",\"type\":\"Selection\"},{\"attributes\":{},\"id\":\"2720\",\"type\":\"Selection\"},{\"attributes\":{\"x\":{\"field\":\"x\"},\"y\":{\"field\":\"y\"}},\"id\":\"2521\",\"type\":\"Line\"},{\"attributes\":{\"end_angle\":{\"expr\":{\"id\":\"2654\"}},\"fill_color\":{\"field\":\"color\"},\"inner_radius\":{\"field\":\"inner_radius\"},\"line_color\":{\"value\":\"white\"},\"line_width\":{\"value\":2},\"outer_radius\":{\"field\":\"outer_radius\"},\"start_angle\":{\"expr\":{\"id\":\"2653\"}},\"x\":{\"value\":0},\"y\":{\"value\":0}},\"id\":\"2657\",\"type\":\"AnnularWedge\"},{\"attributes\":{\"bottom_units\":\"screen\",\"fill_alpha\":0.5,\"fill_color\":\"lightgrey\",\"left_units\":\"screen\",\"level\":\"overlay\",\"line_alpha\":1.0,\"line_color\":\"black\",\"line_dash\":[4,4],\"line_width\":2,\"right_units\":\"screen\",\"syncable\":false,\"top_units\":\"screen\"},\"id\":\"2456\",\"type\":\"BoxAnnotation\"},{\"attributes\":{},\"id\":\"2673\",\"type\":\"UnionRenderers\"},{\"attributes\":{\"field\":\"1_angle\",\"include_zero\":true},\"id\":\"2653\",\"type\":\"CumSum\"},{\"attributes\":{\"data\":{\"1\":{\"__ndarray__\":\"AAAAAAAA8D8AAAAAAAAIQAAAAAAAAABAAAAAAAAAEEAAAAAAAAAcQAAAAAAAAABAAAAAAAAA8D8AAAAAAAAAAAAAAAAAAAAAAAAAAAAAAAA=\",\"dtype\":\"float64\",\"order\":\"little\",\"shape\":[10]},\"10\":{\"__ndarray__\":\"AAAAAAAAAAAAAAAAAAAUQAAAAAAAAPA/AAAAAAAAEEAAAAAAAAAAAAAAAAAAAAhAAAAAAAAAAEAAAAAAAADwPwAAAAAAAAAAAAAAAAAA8D8=\",\"dtype\":\"float64\",\"order\":\"little\",\"shape\":[10]},\"10_angle\":{\"__ndarray__\":\"AAAAAAAAAABoj6rqY5H9P1MMIiKDp9c/UwwiIoOn9z8AAAAAAAAAAD6JmVmivfE/UwwiIoOn5z9TDCIig6fXPwAAAAAAAAAAUwwiIoOn1z8=\",\"dtype\":\"float64\",\"order\":\"little\",\"shape\":[10]},\"1_angle\":{\"__ndarray__\":\"4PCcdi8b1D9QaesxxyjuP+DwnHYvG+Q/4PCcdi8b9D/EUsmHyZcBQODwnHYvG+Q/4PCcdi8b1D8AAAAAAAAAAAAAAAAAAAAAAAAAAAAAAAA=\",\"dtype\":\"float64\",\"order\":\"little\",\"shape\":[10]},\"2\":{\"__ndarray__\":\"AAAAAAAAGEAAAAAAAAAYQAAAAAAAAAhAAAAAAAAAN0AAAAAAAAAzQAAAAAAAACRAAAAAAAAACEAAAAAAAAAAQAAAAAAAAAAAAAAAAAAAAAA=\",\"dtype\":\"float64\",\"order\":\"little\",\"shape\":[10]},\"2_angle\":{\"__ndarray__\":\"ZXMtOFLB4D9lcy04UsHgP2VzLThSwdA/QTnWdZkOAEBhofLYbIf6P6kVoV3e7Os/ZXMtOFLB0D+HROdKGFfGPwAAAAAAAAAAAAAAAAAAAAA=\",\"dtype\":\"float64\",\"order\":\"little\",\"shape\":[10]},\"3\":{\"__ndarray__\":\"AAAAAAAAFEAAAAAAAAAUQAAAAAAAABRAAAAAAAAAMkAAAAAAAAAUQAAAAAAAACBAAAAAAAAAFEAAAAAAAAAAAAAAAAAAAAAAAAAAAAAAAAA=\",\"dtype\":\"float64\",\"order\":\"little\",\"shape\":[10]},\"3_angle\":{\"__ndarray__\":\"8LRxnEK24z/wtHGcQrbjP/C0cZxCtuM/PomZWaK9AUDwtHGcQrbjPxm7gi0Eiu8/8LRxnEK24z8AAAAAAAAAAAAAAAAAAAAAAAAAAAAAAAA=\",\"dtype\":\"float64\",\"order\":\"little\",\"shape\":[10]},\"4\":{\"__ndarray__\":\"AAAAAAAAAEAAAAAAAAAgQAAAAAAAAPA/AAAAAAAALEAAAAAAAAAgQAAAAAAAABRAAAAAAAAACEAAAAAAAAAAQAAAAAAAAAAAAAAAAAAAAAA=\",\"dtype\":\"float64\",\"order\":\"little\",\"shape\":[10]},\"4_angle\":{\"__ndarray__\":\"pxWGVhS00j+nFYZWFLTyP6cVhlYUtMI/8lK1y5FdAECnFYZWFLTyPxCbJ2wZYec/eiDJgR4O3D+nFYZWFLTSPwAAAAAAAAAAAAAAAAAAAAA=\",\"dtype\":\"float64\",\"order\":\"little\",\"shape\":[10]},\"5\":{\"__ndarray__\":\"AAAAAAAAFEAAAAAAAAAiQAAAAAAAABRAAAAAAAAAN0AAAAAAAAAqQAAAAAAAACJAAAAAAAAACEAAAAAAAAAAAAAAAAAAAABAAAAAAAAAAAA=\",\"dtype\":\"float64\",\"order\":\"little\",\"shape\":[10]},\"5_angle\":{\"__ndarray__\":\"/jezYbAj3T/LGO5XuDnqP/43s2GwI90/ZXMtOFLBAEDMSoE/zPDyP8sY7le4Oeo/MrueOtB70T8AAAAAAAAAAJj5KE7AT8c/AAAAAAAAAAA=\",\"dtype\":\"float64\",\"order\":\"little\",\"shape\":[10]},\"6\":{\"__ndarray__\":\"AAAAAAAAAEAAAAAAAAA3QAAAAAAAABBAAAAAAAAAOUAAAAAAAAAmQAAAAAAAACZAAAAAAAAAGEAAAAAAAAAQQAAAAAAAAPA/AAAAAAAAAAA=\",\"dtype\":\"float64\",\"order\":\"little\",\"shape\":[10]},\"6_angle\":{\"__ndarray__\":\"kwzRRgt9wj8Ugsw1wJP6P5MM0UYLfdI/paOmnmHj/D9LcV+B72vpP0txX4Hva+k/3ZI56pC72z+TDNFGC33SP5MM0UYLfbI/AAAAAAAAAAA=\",\"dtype\":\"float64\",\"order\":\"little\",\"shape\":[10]},\"7\":{\"__ndarray__\":\"AAAAAAAAFEAAAAAAAAAzQAAAAAAAAAhAAAAAAAAAOEAAAAAAAAAUQAAAAAAAAChAAAAAAAAAGEAAAAAAAAAQQAAAAAAAAPA/AAAAAAAA8D8=\",\"dtype\":\"float64\",\"order\":\"little\",\"shape\":[10]},\"7_angle\":{\"__ndarray__\":\"GC1EVPsh2T8KXtpcSOD3P1Bp6zHHKM4/UGnrMcco/j8YLURU+yHZP1Bp6zHHKO4/UGnrMcco3j/g8Jx2LxvUP+DwnHYvG7Q/4PCcdi8btD8=\",\"dtype\":\"float64\",\"order\":\"little\",\"shape\":[10]},\"8\":{\"__ndarray__\":\"AAAAAAAACEAAAAAAAAAqQAAAAAAAABBAAAAAAAAAKEAAAAAAAAAAAAAAAAAAADBAAAAAAAAAAEAAAAAAAAAQQAAAAAAAAAAAAAAAAAAAAAA=\",\"dtype\":\"float64\",\"order\":\"little\",\"shape\":[10]},\"8_angle\":{\"__ndarray__\":\"h0TnShhX1j89inqmrzP4P15bNLl1yd0/h0TnShhX9j8AAAAAAAAAAF5bNLl1yf0/Xls0uXXJzT9eWzS5dcndPwAAAAAAAAAAAAAAAAAAAAA=\",\"dtype\":\"float64\",\"order\":\"little\",\"shape\":[10]},\"9\":{\"__ndarray__\":\"AAAAAAAAAAAAAAAAAAAcQAAAAAAAAABAAAAAAAAAJEAAAAAAAAAIQAAAAAAAABRAAAAAAAAAAAAAAAAAAAAAQAAAAAAAAAAAAAAAAAAAAEA=\",\"dtype\":\"float64\",\"order\":\"little\",\"shape\":[10]},\"9_angle\":{\"__ndarray__\":\"AAAAAAAAAAD9MLGeVrP2PyGBypCH8dk/tZB+uvQ2AEDZ4JesJXXjP7WQfrr0NvA/AAAAAAAAAAAhgcqQh/HZPwAAAAAAAAAAIYHKkIfx2T8=\",\"dtype\":\"float64\",\"order\":\"little\",\"shape\":[10]},\"__x__values\":[\"1\\u66b4\\u9732\\u5ca9\\u5cb8\",\"2\\u66b4\\u9732\\u4eba\\u9020\\u7d50\\u69cb\\u7269\",\"3\\u66b4\\u9732\\u5ca9\\u76e4\",\"4\\u6c99\\u7058\",\"5\\u7802\\u792b\\u6df7\\u5408\\u7058\",\"6\\u792b\\u77f3\\u7058\",\"7\\u958b\\u95ca\\u6f6e\\u9593\\u5e36\",\"8\\u906e\\u853d\\u5ca9\\u5cb8\",\"9\\u906e\\u853d\\u6f6e\\u9593\\u5e36\",\"10\\u906e\\u853d\\u6fd5\\u5730\"],\"__x__values_original\":[\"1\\u66b4\\u9732\\u5ca9\\u5cb8\",\"2\\u66b4\\u9732\\u4eba\\u9020\\u7d50\\u69cb\\u7269\",\"3\\u66b4\\u9732\\u5ca9\\u76e4\",\"4\\u6c99\\u7058\",\"5\\u7802\\u792b\\u6df7\\u5408\\u7058\",\"6\\u792b\\u77f3\\u7058\",\"7\\u958b\\u95ca\\u6f6e\\u9593\\u5e36\",\"8\\u906e\\u853d\\u5ca9\\u5cb8\",\"9\\u906e\\u853d\\u6f6e\\u9593\\u5e36\",\"10\\u906e\\u853d\\u6fd5\\u5730\"],\"color\":[\"#1f77b4\",\"#ff7f0e\",\"#2ca02c\",\"#d62728\",\"#9467bd\",\"#8c564b\",\"#e377c2\",\"#7f7f7f\",\"#bcbd22\",\"#17becf\"],\"inner_radius\":[0.6,0.6,0.6,0.6,0.6,0.6,0.6,0.6,0.6,0.6],\"outer_radius\":[0.6900000000000001,0.6900000000000001,0.6900000000000001,0.6900000000000001,0.6900000000000001,0.6900000000000001,0.6900000000000001,0.6900000000000001,0.6900000000000001,0.6900000000000001]},\"selected\":{\"id\":\"2688\"},\"selection_policy\":{\"id\":\"2687\"}},\"id\":\"2529\",\"type\":\"ColumnDataSource\"},{\"attributes\":{},\"id\":\"2674\",\"type\":\"Selection\"},{\"attributes\":{\"source\":{\"id\":\"2514\"}},\"id\":\"2519\",\"type\":\"CDSView\"},{\"attributes\":{},\"id\":\"2721\",\"type\":\"UnionRenderers\"},{\"attributes\":{},\"id\":\"2699\",\"type\":\"UnionRenderers\"},{\"attributes\":{},\"id\":\"2700\",\"type\":\"Selection\"},{\"attributes\":{},\"id\":\"2722\",\"type\":\"Selection\"},{\"attributes\":{},\"id\":\"2675\",\"type\":\"UnionRenderers\"},{\"attributes\":{},\"id\":\"2676\",\"type\":\"Selection\"},{\"attributes\":{\"data\":{\"1\":{\"__ndarray__\":\"AAAAAAAA8D8AAAAAAAAIQAAAAAAAAABAAAAAAAAAEEAAAAAAAAAcQAAAAAAAAABAAAAAAAAA8D8AAAAAAAAAAAAAAAAAAAAAAAAAAAAAAAA=\",\"dtype\":\"float64\",\"order\":\"little\",\"shape\":[10]},\"10\":{\"__ndarray__\":\"AAAAAAAAAAAAAAAAAAAUQAAAAAAAAPA/AAAAAAAAEEAAAAAAAAAAAAAAAAAAAAhAAAAAAAAAAEAAAAAAAADwPwAAAAAAAAAAAAAAAAAA8D8=\",\"dtype\":\"float64\",\"order\":\"little\",\"shape\":[10]},\"10_angle\":{\"__ndarray__\":\"AAAAAAAAAABoj6rqY5H9P1MMIiKDp9c/UwwiIoOn9z8AAAAAAAAAAD6JmVmivfE/UwwiIoOn5z9TDCIig6fXPwAAAAAAAAAAUwwiIoOn1z8=\",\"dtype\":\"float64\",\"order\":\"little\",\"shape\":[10]},\"1_angle\":{\"__ndarray__\":\"4PCcdi8b1D9QaesxxyjuP+DwnHYvG+Q/4PCcdi8b9D/EUsmHyZcBQODwnHYvG+Q/4PCcdi8b1D8AAAAAAAAAAAAAAAAAAAAAAAAAAAAAAAA=\",\"dtype\":\"float64\",\"order\":\"little\",\"shape\":[10]},\"2\":{\"__ndarray__\":\"AAAAAAAAGEAAAAAAAAAYQAAAAAAAAAhAAAAAAAAAN0AAAAAAAAAzQAAAAAAAACRAAAAAAAAACEAAAAAAAAAAQAAAAAAAAAAAAAAAAAAAAAA=\",\"dtype\":\"float64\",\"order\":\"little\",\"shape\":[10]},\"2_angle\":{\"__ndarray__\":\"ZXMtOFLB4D9lcy04UsHgP2VzLThSwdA/QTnWdZkOAEBhofLYbIf6P6kVoV3e7Os/ZXMtOFLB0D+HROdKGFfGPwAAAAAAAAAAAAAAAAAAAAA=\",\"dtype\":\"float64\",\"order\":\"little\",\"shape\":[10]},\"3\":{\"__ndarray__\":\"AAAAAAAAFEAAAAAAAAAUQAAAAAAAABRAAAAAAAAAMkAAAAAAAAAUQAAAAAAAACBAAAAAAAAAFEAAAAAAAAAAAAAAAAAAAAAAAAAAAAAAAAA=\",\"dtype\":\"float64\",\"order\":\"little\",\"shape\":[10]},\"3_angle\":{\"__ndarray__\":\"8LRxnEK24z/wtHGcQrbjP/C0cZxCtuM/PomZWaK9AUDwtHGcQrbjPxm7gi0Eiu8/8LRxnEK24z8AAAAAAAAAAAAAAAAAAAAAAAAAAAAAAAA=\",\"dtype\":\"float64\",\"order\":\"little\",\"shape\":[10]},\"4\":{\"__ndarray__\":\"AAAAAAAAAEAAAAAAAAAgQAAAAAAAAPA/AAAAAAAALEAAAAAAAAAgQAAAAAAAABRAAAAAAAAACEAAAAAAAAAAQAAAAAAAAAAAAAAAAAAAAAA=\",\"dtype\":\"float64\",\"order\":\"little\",\"shape\":[10]},\"4_angle\":{\"__ndarray__\":\"pxWGVhS00j+nFYZWFLTyP6cVhlYUtMI/8lK1y5FdAECnFYZWFLTyPxCbJ2wZYec/eiDJgR4O3D+nFYZWFLTSPwAAAAAAAAAAAAAAAAAAAAA=\",\"dtype\":\"float64\",\"order\":\"little\",\"shape\":[10]},\"5\":{\"__ndarray__\":\"AAAAAAAAFEAAAAAAAAAiQAAAAAAAABRAAAAAAAAAN0AAAAAAAAAqQAAAAAAAACJAAAAAAAAACEAAAAAAAAAAAAAAAAAAAABAAAAAAAAAAAA=\",\"dtype\":\"float64\",\"order\":\"little\",\"shape\":[10]},\"5_angle\":{\"__ndarray__\":\"/jezYbAj3T/LGO5XuDnqP/43s2GwI90/ZXMtOFLBAEDMSoE/zPDyP8sY7le4Oeo/MrueOtB70T8AAAAAAAAAAJj5KE7AT8c/AAAAAAAAAAA=\",\"dtype\":\"float64\",\"order\":\"little\",\"shape\":[10]},\"6\":{\"__ndarray__\":\"AAAAAAAAAEAAAAAAAAA3QAAAAAAAABBAAAAAAAAAOUAAAAAAAAAmQAAAAAAAACZAAAAAAAAAGEAAAAAAAAAQQAAAAAAAAPA/AAAAAAAAAAA=\",\"dtype\":\"float64\",\"order\":\"little\",\"shape\":[10]},\"6_angle\":{\"__ndarray__\":\"kwzRRgt9wj8Ugsw1wJP6P5MM0UYLfdI/paOmnmHj/D9LcV+B72vpP0txX4Hva+k/3ZI56pC72z+TDNFGC33SP5MM0UYLfbI/AAAAAAAAAAA=\",\"dtype\":\"float64\",\"order\":\"little\",\"shape\":[10]},\"7\":{\"__ndarray__\":\"AAAAAAAAFEAAAAAAAAAzQAAAAAAAAAhAAAAAAAAAOEAAAAAAAAAUQAAAAAAAAChAAAAAAAAAGEAAAAAAAAAQQAAAAAAAAPA/AAAAAAAA8D8=\",\"dtype\":\"float64\",\"order\":\"little\",\"shape\":[10]},\"7_angle\":{\"__ndarray__\":\"GC1EVPsh2T8KXtpcSOD3P1Bp6zHHKM4/UGnrMcco/j8YLURU+yHZP1Bp6zHHKO4/UGnrMcco3j/g8Jx2LxvUP+DwnHYvG7Q/4PCcdi8btD8=\",\"dtype\":\"float64\",\"order\":\"little\",\"shape\":[10]},\"8\":{\"__ndarray__\":\"AAAAAAAACEAAAAAAAAAqQAAAAAAAABBAAAAAAAAAKEAAAAAAAAAAAAAAAAAAADBAAAAAAAAAAEAAAAAAAAAQQAAAAAAAAAAAAAAAAAAAAAA=\",\"dtype\":\"float64\",\"order\":\"little\",\"shape\":[10]},\"8_angle\":{\"__ndarray__\":\"h0TnShhX1j89inqmrzP4P15bNLl1yd0/h0TnShhX9j8AAAAAAAAAAF5bNLl1yf0/Xls0uXXJzT9eWzS5dcndPwAAAAAAAAAAAAAAAAAAAAA=\",\"dtype\":\"float64\",\"order\":\"little\",\"shape\":[10]},\"9\":{\"__ndarray__\":\"AAAAAAAAAAAAAAAAAAAcQAAAAAAAAABAAAAAAAAAJEAAAAAAAAAIQAAAAAAAABRAAAAAAAAAAAAAAAAAAAAAQAAAAAAAAAAAAAAAAAAAAEA=\",\"dtype\":\"float64\",\"order\":\"little\",\"shape\":[10]},\"9_angle\":{\"__ndarray__\":\"AAAAAAAAAAD9MLGeVrP2PyGBypCH8dk/tZB+uvQ2AEDZ4JesJXXjP7WQfrr0NvA/AAAAAAAAAAAhgcqQh/HZPwAAAAAAAAAAIYHKkIfx2T8=\",\"dtype\":\"float64\",\"order\":\"little\",\"shape\":[10]},\"__x__values\":[\"1\\u66b4\\u9732\\u5ca9\\u5cb8\",\"2\\u66b4\\u9732\\u4eba\\u9020\\u7d50\\u69cb\\u7269\",\"3\\u66b4\\u9732\\u5ca9\\u76e4\",\"4\\u6c99\\u7058\",\"5\\u7802\\u792b\\u6df7\\u5408\\u7058\",\"6\\u792b\\u77f3\\u7058\",\"7\\u958b\\u95ca\\u6f6e\\u9593\\u5e36\",\"8\\u906e\\u853d\\u5ca9\\u5cb8\",\"9\\u906e\\u853d\\u6f6e\\u9593\\u5e36\",\"10\\u906e\\u853d\\u6fd5\\u5730\"],\"__x__values_original\":[\"1\\u66b4\\u9732\\u5ca9\\u5cb8\",\"2\\u66b4\\u9732\\u4eba\\u9020\\u7d50\\u69cb\\u7269\",\"3\\u66b4\\u9732\\u5ca9\\u76e4\",\"4\\u6c99\\u7058\",\"5\\u7802\\u792b\\u6df7\\u5408\\u7058\",\"6\\u792b\\u77f3\\u7058\",\"7\\u958b\\u95ca\\u6f6e\\u9593\\u5e36\",\"8\\u906e\\u853d\\u5ca9\\u5cb8\",\"9\\u906e\\u853d\\u6f6e\\u9593\\u5e36\",\"10\\u906e\\u853d\\u6fd5\\u5730\"],\"color\":[\"#1f77b4\",\"#ff7f0e\",\"#2ca02c\",\"#d62728\",\"#9467bd\",\"#8c564b\",\"#e377c2\",\"#7f7f7f\",\"#bcbd22\",\"#17becf\"],\"inner_radius\":[0.9,0.9,0.9,0.9,0.9,0.9,0.9,0.9,0.9,0.9],\"outer_radius\":[0.99,0.99,0.99,0.99,0.99,0.99,0.99,0.99,0.99,0.99]},\"selected\":{\"id\":\"2670\"},\"selection_policy\":{\"id\":\"2669\"}},\"id\":\"2466\",\"type\":\"ColumnDataSource\"},{\"attributes\":{\"source\":{\"id\":\"2466\"}},\"id\":\"2471\",\"type\":\"CDSView\"},{\"attributes\":{\"field\":\"10_angle\"},\"id\":\"2465\",\"type\":\"CumSum\"},{\"attributes\":{\"field\":\"10_angle\",\"include_zero\":true},\"id\":\"2464\",\"type\":\"CumSum\"},{\"attributes\":{\"data\":{\"__x__values\":[-1.4000000000000001],\"text\":[\"7\"],\"y\":[-1.2999999999999998]},\"selected\":{\"id\":\"2690\"},\"selection_policy\":{\"id\":\"2689\"}},\"id\":\"2535\",\"type\":\"ColumnDataSource\"},{\"attributes\":{},\"id\":\"2701\",\"type\":\"UnionRenderers\"},{\"attributes\":{},\"id\":\"2702\",\"type\":\"Selection\"},{\"attributes\":{\"end_angle\":{\"expr\":{\"id\":\"2465\"}},\"fill_color\":{\"field\":\"color\"},\"inner_radius\":{\"field\":\"inner_radius\"},\"line_color\":{\"value\":\"white\"},\"line_width\":{\"value\":2},\"outer_radius\":{\"field\":\"outer_radius\"},\"start_angle\":{\"expr\":{\"id\":\"2464\"}},\"x\":{\"value\":0},\"y\":{\"value\":0}},\"id\":\"2468\",\"type\":\"AnnularWedge\"},{\"attributes\":{},\"id\":\"2723\",\"type\":\"UnionRenderers\"},{\"attributes\":{\"end_angle\":{\"expr\":{\"id\":\"2465\"}},\"fill_alpha\":{\"value\":0.1},\"fill_color\":{\"field\":\"color\"},\"inner_radius\":{\"field\":\"inner_radius\"},\"line_alpha\":{\"value\":0.1},\"line_color\":{\"value\":\"white\"},\"line_width\":{\"value\":2},\"outer_radius\":{\"field\":\"outer_radius\"},\"start_angle\":{\"expr\":{\"id\":\"2464\"}},\"x\":{\"value\":0},\"y\":{\"value\":0}},\"id\":\"2469\",\"type\":\"AnnularWedge\"},{\"attributes\":{},\"id\":\"2724\",\"type\":\"Selection\"},{\"attributes\":{\"axis_label\":null,\"formatter\":{\"id\":\"2664\"},\"major_label_policy\":{\"id\":\"2663\"},\"ticker\":{\"id\":\"2740\"},\"visible\":false},\"id\":\"2442\",\"type\":\"LinearAxis\"},{\"attributes\":{\"field\":\"9_angle\"},\"id\":\"2486\",\"type\":\"CumSum\"},{\"attributes\":{\"end_angle\":{\"expr\":{\"id\":\"2612\"}},\"fill_alpha\":{\"value\":0.1},\"fill_color\":{\"field\":\"color\"},\"inner_radius\":{\"field\":\"inner_radius\"},\"line_alpha\":{\"value\":0.1},\"line_color\":{\"value\":\"white\"},\"line_width\":{\"value\":2},\"outer_radius\":{\"field\":\"outer_radius\"},\"start_angle\":{\"expr\":{\"id\":\"2611\"}},\"x\":{\"value\":0},\"y\":{\"value\":0}},\"id\":\"2616\",\"type\":\"AnnularWedge\"},{\"attributes\":{\"text_color\":{\"value\":\"black\"},\"text_font_style\":{\"value\":\"bold\"},\"x\":{\"field\":\"__x__values\"},\"y\":{\"field\":\"y\"}},\"id\":\"2474\",\"type\":\"Text\"},{\"attributes\":{\"data_source\":{\"id\":\"2466\"},\"glyph\":{\"id\":\"2468\"},\"hover_glyph\":null,\"muted_glyph\":null,\"nonselection_glyph\":{\"id\":\"2469\"},\"view\":{\"id\":\"2471\"}},\"id\":\"2470\",\"type\":\"GlyphRenderer\"},{\"attributes\":{\"data\":{\"__x__values\":[-1.4000000000000001],\"text\":[\"10\"],\"y\":[-2.1999999999999997]},\"selected\":{\"id\":\"2672\"},\"selection_policy\":{\"id\":\"2671\"}},\"id\":\"2472\",\"type\":\"ColumnDataSource\"},{\"attributes\":{},\"id\":\"2677\",\"type\":\"UnionRenderers\"},{\"attributes\":{},\"id\":\"2447\",\"type\":\"BasicTicker\"},{\"attributes\":{},\"id\":\"2678\",\"type\":\"Selection\"},{\"attributes\":{\"axis\":{\"id\":\"2442\"},\"grid_line_color\":null,\"ticker\":null},\"id\":\"2445\",\"type\":\"Grid\"},{\"attributes\":{\"text_alpha\":{\"value\":0.1},\"text_color\":{\"value\":\"black\"},\"text_font_style\":{\"value\":\"bold\"},\"x\":{\"field\":\"__x__values\"},\"y\":{\"field\":\"y\"}},\"id\":\"2475\",\"type\":\"Text\"},{\"attributes\":{\"x\":{\"field\":\"x\"},\"y\":{\"field\":\"y\"}},\"id\":\"2479\",\"type\":\"Line\"},{\"attributes\":{},\"id\":\"2703\",\"type\":\"UnionRenderers\"},{\"attributes\":{\"axis_label\":null,\"formatter\":{\"id\":\"2667\"},\"major_label_policy\":{\"id\":\"2666\"},\"ticker\":{\"id\":\"2447\"},\"visible\":false},\"id\":\"2446\",\"type\":\"LinearAxis\"},{\"attributes\":{\"end_angle\":{\"expr\":{\"id\":\"2528\"}},\"fill_alpha\":{\"value\":0.1},\"fill_color\":{\"field\":\"color\"},\"inner_radius\":{\"field\":\"inner_radius\"},\"line_alpha\":{\"value\":0.1},\"line_color\":{\"value\":\"white\"},\"line_width\":{\"value\":2},\"outer_radius\":{\"field\":\"outer_radius\"},\"start_angle\":{\"expr\":{\"id\":\"2527\"}},\"x\":{\"value\":0},\"y\":{\"value\":0}},\"id\":\"2532\",\"type\":\"AnnularWedge\"},{\"attributes\":{},\"id\":\"2690\",\"type\":\"Selection\"},{\"attributes\":{\"data_source\":{\"id\":\"2472\"},\"glyph\":{\"id\":\"2474\"},\"hover_glyph\":null,\"muted_glyph\":null,\"nonselection_glyph\":{\"id\":\"2475\"},\"view\":{\"id\":\"2477\"}},\"id\":\"2476\",\"type\":\"GlyphRenderer\"},{\"attributes\":{},\"id\":\"2704\",\"type\":\"Selection\"},{\"attributes\":{\"source\":{\"id\":\"2472\"}},\"id\":\"2477\",\"type\":\"CDSView\"},{\"attributes\":{\"source\":{\"id\":\"2478\"}},\"id\":\"2482\",\"type\":\"CDSView\"},{\"attributes\":{\"data\":{\"x\":[-1.3,0],\"y\":[-2.1999999999999997,-0.9450000000000001]},\"selected\":{\"id\":\"2674\"},\"selection_policy\":{\"id\":\"2673\"}},\"id\":\"2478\",\"type\":\"ColumnDataSource\"},{\"attributes\":{\"callback\":null,\"renderers\":[{\"id\":\"2470\"}],\"tooltips\":[[\"x\",\"@__x__values_original\"],[\"10\",\"@{10}\"]]},\"id\":\"2483\",\"type\":\"HoverTool\"},{\"attributes\":{\"data_source\":{\"id\":\"2478\"},\"glyph\":{\"id\":\"2479\"},\"hover_glyph\":null,\"muted_glyph\":null,\"nonselection_glyph\":{\"id\":\"2480\"},\"view\":{\"id\":\"2482\"}},\"id\":\"2481\",\"type\":\"GlyphRenderer\"},{\"attributes\":{},\"id\":\"2440\",\"type\":\"LinearScale\"},{\"attributes\":{\"source\":{\"id\":\"2487\"}},\"id\":\"2492\",\"type\":\"CDSView\"},{\"attributes\":{\"axis\":{\"id\":\"2446\"},\"dimension\":1,\"grid_line_color\":null,\"ticker\":null},\"id\":\"2449\",\"type\":\"Grid\"},{\"attributes\":{\"line_alpha\":0.1,\"x\":{\"field\":\"x\"},\"y\":{\"field\":\"y\"}},\"id\":\"2480\",\"type\":\"Line\"},{\"attributes\":{\"source\":{\"id\":\"2529\"}},\"id\":\"2534\",\"type\":\"CDSView\"},{\"attributes\":{},\"id\":\"2693\",\"type\":\"UnionRenderers\"},{\"attributes\":{\"data\":{\"1\":{\"__ndarray__\":\"AAAAAAAA8D8AAAAAAAAIQAAAAAAAAABAAAAAAAAAEEAAAAAAAAAcQAAAAAAAAABAAAAAAAAA8D8AAAAAAAAAAAAAAAAAAAAAAAAAAAAAAAA=\",\"dtype\":\"float64\",\"order\":\"little\",\"shape\":[10]},\"10\":{\"__ndarray__\":\"AAAAAAAAAAAAAAAAAAAUQAAAAAAAAPA/AAAAAAAAEEAAAAAAAAAAAAAAAAAAAAhAAAAAAAAAAEAAAAAAAADwPwAAAAAAAAAAAAAAAAAA8D8=\",\"dtype\":\"float64\",\"order\":\"little\",\"shape\":[10]},\"10_angle\":{\"__ndarray__\":\"AAAAAAAAAABoj6rqY5H9P1MMIiKDp9c/UwwiIoOn9z8AAAAAAAAAAD6JmVmivfE/UwwiIoOn5z9TDCIig6fXPwAAAAAAAAAAUwwiIoOn1z8=\",\"dtype\":\"float64\",\"order\":\"little\",\"shape\":[10]},\"1_angle\":{\"__ndarray__\":\"4PCcdi8b1D9QaesxxyjuP+DwnHYvG+Q/4PCcdi8b9D/EUsmHyZcBQODwnHYvG+Q/4PCcdi8b1D8AAAAAAAAAAAAAAAAAAAAAAAAAAAAAAAA=\",\"dtype\":\"float64\",\"order\":\"little\",\"shape\":[10]},\"2\":{\"__ndarray__\":\"AAAAAAAAGEAAAAAAAAAYQAAAAAAAAAhAAAAAAAAAN0AAAAAAAAAzQAAAAAAAACRAAAAAAAAACEAAAAAAAAAAQAAAAAAAAAAAAAAAAAAAAAA=\",\"dtype\":\"float64\",\"order\":\"little\",\"shape\":[10]},\"2_angle\":{\"__ndarray__\":\"ZXMtOFLB4D9lcy04UsHgP2VzLThSwdA/QTnWdZkOAEBhofLYbIf6P6kVoV3e7Os/ZXMtOFLB0D+HROdKGFfGPwAAAAAAAAAAAAAAAAAAAAA=\",\"dtype\":\"float64\",\"order\":\"little\",\"shape\":[10]},\"3\":{\"__ndarray__\":\"AAAAAAAAFEAAAAAAAAAUQAAAAAAAABRAAAAAAAAAMkAAAAAAAAAUQAAAAAAAACBAAAAAAAAAFEAAAAAAAAAAAAAAAAAAAAAAAAAAAAAAAAA=\",\"dtype\":\"float64\",\"order\":\"little\",\"shape\":[10]},\"3_angle\":{\"__ndarray__\":\"8LRxnEK24z/wtHGcQrbjP/C0cZxCtuM/PomZWaK9AUDwtHGcQrbjPxm7gi0Eiu8/8LRxnEK24z8AAAAAAAAAAAAAAAAAAAAAAAAAAAAAAAA=\",\"dtype\":\"float64\",\"order\":\"little\",\"shape\":[10]},\"4\":{\"__ndarray__\":\"AAAAAAAAAEAAAAAAAAAgQAAAAAAAAPA/AAAAAAAALEAAAAAAAAAgQAAAAAAAABRAAAAAAAAACEAAAAAAAAAAQAAAAAAAAAAAAAAAAAAAAAA=\",\"dtype\":\"float64\",\"order\":\"little\",\"shape\":[10]},\"4_angle\":{\"__ndarray__\":\"pxWGVhS00j+nFYZWFLTyP6cVhlYUtMI/8lK1y5FdAECnFYZWFLTyPxCbJ2wZYec/eiDJgR4O3D+nFYZWFLTSPwAAAAAAAAAAAAAAAAAAAAA=\",\"dtype\":\"float64\",\"order\":\"little\",\"shape\":[10]},\"5\":{\"__ndarray__\":\"AAAAAAAAFEAAAAAAAAAiQAAAAAAAABRAAAAAAAAAN0AAAAAAAAAqQAAAAAAAACJAAAAAAAAACEAAAAAAAAAAAAAAAAAAAABAAAAAAAAAAAA=\",\"dtype\":\"float64\",\"order\":\"little\",\"shape\":[10]},\"5_angle\":{\"__ndarray__\":\"/jezYbAj3T/LGO5XuDnqP/43s2GwI90/ZXMtOFLBAEDMSoE/zPDyP8sY7le4Oeo/MrueOtB70T8AAAAAAAAAAJj5KE7AT8c/AAAAAAAAAAA=\",\"dtype\":\"float64\",\"order\":\"little\",\"shape\":[10]},\"6\":{\"__ndarray__\":\"AAAAAAAAAEAAAAAAAAA3QAAAAAAAABBAAAAAAAAAOUAAAAAAAAAmQAAAAAAAACZAAAAAAAAAGEAAAAAAAAAQQAAAAAAAAPA/AAAAAAAAAAA=\",\"dtype\":\"float64\",\"order\":\"little\",\"shape\":[10]},\"6_angle\":{\"__ndarray__\":\"kwzRRgt9wj8Ugsw1wJP6P5MM0UYLfdI/paOmnmHj/D9LcV+B72vpP0txX4Hva+k/3ZI56pC72z+TDNFGC33SP5MM0UYLfbI/AAAAAAAAAAA=\",\"dtype\":\"float64\",\"order\":\"little\",\"shape\":[10]},\"7\":{\"__ndarray__\":\"AAAAAAAAFEAAAAAAAAAzQAAAAAAAAAhAAAAAAAAAOEAAAAAAAAAUQAAAAAAAAChAAAAAAAAAGEAAAAAAAAAQQAAAAAAAAPA/AAAAAAAA8D8=\",\"dtype\":\"float64\",\"order\":\"little\",\"shape\":[10]},\"7_angle\":{\"__ndarray__\":\"GC1EVPsh2T8KXtpcSOD3P1Bp6zHHKM4/UGnrMcco/j8YLURU+yHZP1Bp6zHHKO4/UGnrMcco3j/g8Jx2LxvUP+DwnHYvG7Q/4PCcdi8btD8=\",\"dtype\":\"float64\",\"order\":\"little\",\"shape\":[10]},\"8\":{\"__ndarray__\":\"AAAAAAAACEAAAAAAAAAqQAAAAAAAABBAAAAAAAAAKEAAAAAAAAAAAAAAAAAAADBAAAAAAAAAAEAAAAAAAAAQQAAAAAAAAAAAAAAAAAAAAAA=\",\"dtype\":\"float64\",\"order\":\"little\",\"shape\":[10]},\"8_angle\":{\"__ndarray__\":\"h0TnShhX1j89inqmrzP4P15bNLl1yd0/h0TnShhX9j8AAAAAAAAAAF5bNLl1yf0/Xls0uXXJzT9eWzS5dcndPwAAAAAAAAAAAAAAAAAAAAA=\",\"dtype\":\"float64\",\"order\":\"little\",\"shape\":[10]},\"9\":{\"__ndarray__\":\"AAAAAAAAAAAAAAAAAAAcQAAAAAAAAABAAAAAAAAAJEAAAAAAAAAIQAAAAAAAABRAAAAAAAAAAAAAAAAAAAAAQAAAAAAAAAAAAAAAAAAAAEA=\",\"dtype\":\"float64\",\"order\":\"little\",\"shape\":[10]},\"9_angle\":{\"__ndarray__\":\"AAAAAAAAAAD9MLGeVrP2PyGBypCH8dk/tZB+uvQ2AEDZ4JesJXXjP7WQfrr0NvA/AAAAAAAAAAAhgcqQh/HZPwAAAAAAAAAAIYHKkIfx2T8=\",\"dtype\":\"float64\",\"order\":\"little\",\"shape\":[10]},\"__x__values\":[\"1\\u66b4\\u9732\\u5ca9\\u5cb8\",\"2\\u66b4\\u9732\\u4eba\\u9020\\u7d50\\u69cb\\u7269\",\"3\\u66b4\\u9732\\u5ca9\\u76e4\",\"4\\u6c99\\u7058\",\"5\\u7802\\u792b\\u6df7\\u5408\\u7058\",\"6\\u792b\\u77f3\\u7058\",\"7\\u958b\\u95ca\\u6f6e\\u9593\\u5e36\",\"8\\u906e\\u853d\\u5ca9\\u5cb8\",\"9\\u906e\\u853d\\u6f6e\\u9593\\u5e36\",\"10\\u906e\\u853d\\u6fd5\\u5730\"],\"__x__values_original\":[\"1\\u66b4\\u9732\\u5ca9\\u5cb8\",\"2\\u66b4\\u9732\\u4eba\\u9020\\u7d50\\u69cb\\u7269\",\"3\\u66b4\\u9732\\u5ca9\\u76e4\",\"4\\u6c99\\u7058\",\"5\\u7802\\u792b\\u6df7\\u5408\\u7058\",\"6\\u792b\\u77f3\\u7058\",\"7\\u958b\\u95ca\\u6f6e\\u9593\\u5e36\",\"8\\u906e\\u853d\\u5ca9\\u5cb8\",\"9\\u906e\\u853d\\u6f6e\\u9593\\u5e36\",\"10\\u906e\\u853d\\u6fd5\\u5730\"],\"color\":[\"#1f77b4\",\"#ff7f0e\",\"#2ca02c\",\"#d62728\",\"#9467bd\",\"#8c564b\",\"#e377c2\",\"#7f7f7f\",\"#bcbd22\",\"#17becf\"],\"inner_radius\":[0.8,0.8,0.8,0.8,0.8,0.8,0.8,0.8,0.8,0.8],\"outer_radius\":[0.89,0.89,0.89,0.89,0.89,0.89,0.89,0.89,0.89,0.89]},\"selected\":{\"id\":\"2676\"},\"selection_policy\":{\"id\":\"2675\"}},\"id\":\"2487\",\"type\":\"ColumnDataSource\"},{\"attributes\":{},\"id\":\"2694\",\"type\":\"Selection\"},{\"attributes\":{\"field\":\"9_angle\",\"include_zero\":true},\"id\":\"2485\",\"type\":\"CumSum\"},{\"attributes\":{\"end_angle\":{\"expr\":{\"id\":\"2486\"}},\"fill_color\":{\"field\":\"color\"},\"inner_radius\":{\"field\":\"inner_radius\"},\"line_color\":{\"value\":\"white\"},\"line_width\":{\"value\":2},\"outer_radius\":{\"field\":\"outer_radius\"},\"start_angle\":{\"expr\":{\"id\":\"2485\"}},\"x\":{\"value\":0},\"y\":{\"value\":0}},\"id\":\"2489\",\"type\":\"AnnularWedge\"},{\"attributes\":{},\"id\":\"2455\",\"type\":\"HelpTool\"},{\"attributes\":{},\"id\":\"2669\",\"type\":\"UnionRenderers\"},{\"attributes\":{\"end_angle\":{\"expr\":{\"id\":\"2486\"}},\"fill_alpha\":{\"value\":0.1},\"fill_color\":{\"field\":\"color\"},\"inner_radius\":{\"field\":\"inner_radius\"},\"line_alpha\":{\"value\":0.1},\"line_color\":{\"value\":\"white\"},\"line_width\":{\"value\":2},\"outer_radius\":{\"field\":\"outer_radius\"},\"start_angle\":{\"expr\":{\"id\":\"2485\"}},\"x\":{\"value\":0},\"y\":{\"value\":0}},\"id\":\"2490\",\"type\":\"AnnularWedge\"},{\"attributes\":{},\"id\":\"2670\",\"type\":\"Selection\"},{\"attributes\":{},\"id\":\"2705\",\"type\":\"UnionRenderers\"},{\"attributes\":{\"text_alpha\":{\"value\":0.1},\"text_color\":{\"value\":\"black\"},\"text_font_style\":{\"value\":\"bold\"},\"x\":{\"field\":\"__x__values\"},\"y\":{\"field\":\"y\"}},\"id\":\"2496\",\"type\":\"Text\"},{\"attributes\":{},\"id\":\"2706\",\"type\":\"Selection\"},{\"attributes\":{\"end_angle\":{\"expr\":{\"id\":\"2528\"}},\"fill_color\":{\"field\":\"color\"},\"inner_radius\":{\"field\":\"inner_radius\"},\"line_color\":{\"value\":\"white\"},\"line_width\":{\"value\":2},\"outer_radius\":{\"field\":\"outer_radius\"},\"start_angle\":{\"expr\":{\"id\":\"2527\"}},\"x\":{\"value\":0},\"y\":{\"value\":0}},\"id\":\"2531\",\"type\":\"AnnularWedge\"},{\"attributes\":{\"data\":{\"1\":{\"__ndarray__\":\"AAAAAAAA8D8AAAAAAAAIQAAAAAAAAABAAAAAAAAAEEAAAAAAAAAcQAAAAAAAAABAAAAAAAAA8D8AAAAAAAAAAAAAAAAAAAAAAAAAAAAAAAA=\",\"dtype\":\"float64\",\"order\":\"little\",\"shape\":[10]},\"10\":{\"__ndarray__\":\"AAAAAAAAAAAAAAAAAAAUQAAAAAAAAPA/AAAAAAAAEEAAAAAAAAAAAAAAAAAAAAhAAAAAAAAAAEAAAAAAAADwPwAAAAAAAAAAAAAAAAAA8D8=\",\"dtype\":\"float64\",\"order\":\"little\",\"shape\":[10]},\"10_angle\":{\"__ndarray__\":\"AAAAAAAAAABoj6rqY5H9P1MMIiKDp9c/UwwiIoOn9z8AAAAAAAAAAD6JmVmivfE/UwwiIoOn5z9TDCIig6fXPwAAAAAAAAAAUwwiIoOn1z8=\",\"dtype\":\"float64\",\"order\":\"little\",\"shape\":[10]},\"1_angle\":{\"__ndarray__\":\"4PCcdi8b1D9QaesxxyjuP+DwnHYvG+Q/4PCcdi8b9D/EUsmHyZcBQODwnHYvG+Q/4PCcdi8b1D8AAAAAAAAAAAAAAAAAAAAAAAAAAAAAAAA=\",\"dtype\":\"float64\",\"order\":\"little\",\"shape\":[10]},\"2\":{\"__ndarray__\":\"AAAAAAAAGEAAAAAAAAAYQAAAAAAAAAhAAAAAAAAAN0AAAAAAAAAzQAAAAAAAACRAAAAAAAAACEAAAAAAAAAAQAAAAAAAAAAAAAAAAAAAAAA=\",\"dtype\":\"float64\",\"order\":\"little\",\"shape\":[10]},\"2_angle\":{\"__ndarray__\":\"ZXMtOFLB4D9lcy04UsHgP2VzLThSwdA/QTnWdZkOAEBhofLYbIf6P6kVoV3e7Os/ZXMtOFLB0D+HROdKGFfGPwAAAAAAAAAAAAAAAAAAAAA=\",\"dtype\":\"float64\",\"order\":\"little\",\"shape\":[10]},\"3\":{\"__ndarray__\":\"AAAAAAAAFEAAAAAAAAAUQAAAAAAAABRAAAAAAAAAMkAAAAAAAAAUQAAAAAAAACBAAAAAAAAAFEAAAAAAAAAAAAAAAAAAAAAAAAAAAAAAAAA=\",\"dtype\":\"float64\",\"order\":\"little\",\"shape\":[10]},\"3_angle\":{\"__ndarray__\":\"8LRxnEK24z/wtHGcQrbjP/C0cZxCtuM/PomZWaK9AUDwtHGcQrbjPxm7gi0Eiu8/8LRxnEK24z8AAAAAAAAAAAAAAAAAAAAAAAAAAAAAAAA=\",\"dtype\":\"float64\",\"order\":\"little\",\"shape\":[10]},\"4\":{\"__ndarray__\":\"AAAAAAAAAEAAAAAAAAAgQAAAAAAAAPA/AAAAAAAALEAAAAAAAAAgQAAAAAAAABRAAAAAAAAACEAAAAAAAAAAQAAAAAAAAAAAAAAAAAAAAAA=\",\"dtype\":\"float64\",\"order\":\"little\",\"shape\":[10]},\"4_angle\":{\"__ndarray__\":\"pxWGVhS00j+nFYZWFLTyP6cVhlYUtMI/8lK1y5FdAECnFYZWFLTyPxCbJ2wZYec/eiDJgR4O3D+nFYZWFLTSPwAAAAAAAAAAAAAAAAAAAAA=\",\"dtype\":\"float64\",\"order\":\"little\",\"shape\":[10]},\"5\":{\"__ndarray__\":\"AAAAAAAAFEAAAAAAAAAiQAAAAAAAABRAAAAAAAAAN0AAAAAAAAAqQAAAAAAAACJAAAAAAAAACEAAAAAAAAAAAAAAAAAAAABAAAAAAAAAAAA=\",\"dtype\":\"float64\",\"order\":\"little\",\"shape\":[10]},\"5_angle\":{\"__ndarray__\":\"/jezYbAj3T/LGO5XuDnqP/43s2GwI90/ZXMtOFLBAEDMSoE/zPDyP8sY7le4Oeo/MrueOtB70T8AAAAAAAAAAJj5KE7AT8c/AAAAAAAAAAA=\",\"dtype\":\"float64\",\"order\":\"little\",\"shape\":[10]},\"6\":{\"__ndarray__\":\"AAAAAAAAAEAAAAAAAAA3QAAAAAAAABBAAAAAAAAAOUAAAAAAAAAmQAAAAAAAACZAAAAAAAAAGEAAAAAAAAAQQAAAAAAAAPA/AAAAAAAAAAA=\",\"dtype\":\"float64\",\"order\":\"little\",\"shape\":[10]},\"6_angle\":{\"__ndarray__\":\"kwzRRgt9wj8Ugsw1wJP6P5MM0UYLfdI/paOmnmHj/D9LcV+B72vpP0txX4Hva+k/3ZI56pC72z+TDNFGC33SP5MM0UYLfbI/AAAAAAAAAAA=\",\"dtype\":\"float64\",\"order\":\"little\",\"shape\":[10]},\"7\":{\"__ndarray__\":\"AAAAAAAAFEAAAAAAAAAzQAAAAAAAAAhAAAAAAAAAOEAAAAAAAAAUQAAAAAAAAChAAAAAAAAAGEAAAAAAAAAQQAAAAAAAAPA/AAAAAAAA8D8=\",\"dtype\":\"float64\",\"order\":\"little\",\"shape\":[10]},\"7_angle\":{\"__ndarray__\":\"GC1EVPsh2T8KXtpcSOD3P1Bp6zHHKM4/UGnrMcco/j8YLURU+yHZP1Bp6zHHKO4/UGnrMcco3j/g8Jx2LxvUP+DwnHYvG7Q/4PCcdi8btD8=\",\"dtype\":\"float64\",\"order\":\"little\",\"shape\":[10]},\"8\":{\"__ndarray__\":\"AAAAAAAACEAAAAAAAAAqQAAAAAAAABBAAAAAAAAAKEAAAAAAAAAAAAAAAAAAADBAAAAAAAAAAEAAAAAAAAAQQAAAAAAAAAAAAAAAAAAAAAA=\",\"dtype\":\"float64\",\"order\":\"little\",\"shape\":[10]},\"8_angle\":{\"__ndarray__\":\"h0TnShhX1j89inqmrzP4P15bNLl1yd0/h0TnShhX9j8AAAAAAAAAAF5bNLl1yf0/Xls0uXXJzT9eWzS5dcndPwAAAAAAAAAAAAAAAAAAAAA=\",\"dtype\":\"float64\",\"order\":\"little\",\"shape\":[10]},\"9\":{\"__ndarray__\":\"AAAAAAAAAAAAAAAAAAAcQAAAAAAAAABAAAAAAAAAJEAAAAAAAAAIQAAAAAAAABRAAAAAAAAAAAAAAAAAAAAAQAAAAAAAAAAAAAAAAAAAAEA=\",\"dtype\":\"float64\",\"order\":\"little\",\"shape\":[10]},\"9_angle\":{\"__ndarray__\":\"AAAAAAAAAAD9MLGeVrP2PyGBypCH8dk/tZB+uvQ2AEDZ4JesJXXjP7WQfrr0NvA/AAAAAAAAAAAhgcqQh/HZPwAAAAAAAAAAIYHKkIfx2T8=\",\"dtype\":\"float64\",\"order\":\"little\",\"shape\":[10]},\"__x__values\":[\"1\\u66b4\\u9732\\u5ca9\\u5cb8\",\"2\\u66b4\\u9732\\u4eba\\u9020\\u7d50\\u69cb\\u7269\",\"3\\u66b4\\u9732\\u5ca9\\u76e4\",\"4\\u6c99\\u7058\",\"5\\u7802\\u792b\\u6df7\\u5408\\u7058\",\"6\\u792b\\u77f3\\u7058\",\"7\\u958b\\u95ca\\u6f6e\\u9593\\u5e36\",\"8\\u906e\\u853d\\u5ca9\\u5cb8\",\"9\\u906e\\u853d\\u6f6e\\u9593\\u5e36\",\"10\\u906e\\u853d\\u6fd5\\u5730\"],\"__x__values_original\":[\"1\\u66b4\\u9732\\u5ca9\\u5cb8\",\"2\\u66b4\\u9732\\u4eba\\u9020\\u7d50\\u69cb\\u7269\",\"3\\u66b4\\u9732\\u5ca9\\u76e4\",\"4\\u6c99\\u7058\",\"5\\u7802\\u792b\\u6df7\\u5408\\u7058\",\"6\\u792b\\u77f3\\u7058\",\"7\\u958b\\u95ca\\u6f6e\\u9593\\u5e36\",\"8\\u906e\\u853d\\u5ca9\\u5cb8\",\"9\\u906e\\u853d\\u6f6e\\u9593\\u5e36\",\"10\\u906e\\u853d\\u6fd5\\u5730\"],\"color\":[\"#1f77b4\",\"#ff7f0e\",\"#2ca02c\",\"#d62728\",\"#9467bd\",\"#8c564b\",\"#e377c2\",\"#7f7f7f\",\"#bcbd22\",\"#17becf\"],\"inner_radius\":[0.0,0.0,0.0,0.0,0.0,0.0,0.0,0.0,0.0,0.0],\"outer_radius\":[0.09,0.09,0.09,0.09,0.09,0.09,0.09,0.09,0.09,0.09]},\"selected\":{\"id\":\"2724\"},\"selection_policy\":{\"id\":\"2723\"}},\"id\":\"2655\",\"type\":\"ColumnDataSource\"},{\"attributes\":{\"data_source\":{\"id\":\"2487\"},\"glyph\":{\"id\":\"2489\"},\"hover_glyph\":null,\"muted_glyph\":null,\"nonselection_glyph\":{\"id\":\"2490\"},\"view\":{\"id\":\"2492\"}},\"id\":\"2491\",\"type\":\"GlyphRenderer\"},{\"attributes\":{\"line_alpha\":0.1,\"x\":{\"field\":\"x\"},\"y\":{\"field\":\"y\"}},\"id\":\"2501\",\"type\":\"Line\"},{\"attributes\":{\"data\":{\"__x__values\":[-1.4000000000000001],\"text\":[\"9\"],\"y\":[-1.9]},\"selected\":{\"id\":\"2678\"},\"selection_policy\":{\"id\":\"2677\"}},\"id\":\"2493\",\"type\":\"ColumnDataSource\"},{\"attributes\":{},\"id\":\"2432\",\"type\":\"Title\"},{\"attributes\":{\"text_color\":{\"value\":\"black\"},\"text_font_style\":{\"value\":\"bold\"},\"x\":{\"field\":\"__x__values\"},\"y\":{\"field\":\"y\"}},\"id\":\"2495\",\"type\":\"Text\"},{\"attributes\":{\"data_source\":{\"id\":\"2493\"},\"glyph\":{\"id\":\"2495\"},\"hover_glyph\":null,\"muted_glyph\":null,\"nonselection_glyph\":{\"id\":\"2496\"},\"view\":{\"id\":\"2498\"}},\"id\":\"2497\",\"type\":\"GlyphRenderer\"},{\"attributes\":{\"end\":2,\"start\":-1.5},\"id\":\"2434\",\"type\":\"Range1d\"},{\"attributes\":{\"end\":1.2,\"start\":-1.2},\"id\":\"2436\",\"type\":\"Range1d\"},{\"attributes\":{\"source\":{\"id\":\"2493\"}},\"id\":\"2498\",\"type\":\"CDSView\"},{\"attributes\":{\"data\":{\"x\":[-1.34,0],\"y\":[-1.6,-0.745]},\"selected\":{\"id\":\"2686\"},\"selection_policy\":{\"id\":\"2685\"}},\"id\":\"2520\",\"type\":\"ColumnDataSource\"},{\"attributes\":{},\"id\":\"2695\",\"type\":\"UnionRenderers\"},{\"attributes\":{\"data\":{\"x\":[-1.34,0],\"y\":[-1.9,-0.845]},\"selected\":{\"id\":\"2680\"},\"selection_policy\":{\"id\":\"2679\"}},\"id\":\"2499\",\"type\":\"ColumnDataSource\"},{\"attributes\":{\"line_alpha\":0.1,\"x\":{\"field\":\"x\"},\"y\":{\"field\":\"y\"}},\"id\":\"2522\",\"type\":\"Line\"},{\"attributes\":{},\"id\":\"2696\",\"type\":\"Selection\"},{\"attributes\":{\"active_multi\":null,\"tools\":[{\"id\":\"2450\"},{\"id\":\"2451\"},{\"id\":\"2452\"},{\"id\":\"2453\"},{\"id\":\"2454\"},{\"id\":\"2455\"},{\"id\":\"2483\"},{\"id\":\"2504\"},{\"id\":\"2525\"},{\"id\":\"2546\"},{\"id\":\"2567\"},{\"id\":\"2588\"},{\"id\":\"2609\"},{\"id\":\"2630\"},{\"id\":\"2651\"},{\"id\":\"2738\"}]},\"id\":\"2457\",\"type\":\"Toolbar\"},{\"attributes\":{\"x\":{\"field\":\"x\"},\"y\":{\"field\":\"y\"}},\"id\":\"2500\",\"type\":\"Line\"},{\"attributes\":{},\"id\":\"2438\",\"type\":\"LinearScale\"},{\"attributes\":{\"field\":\"1_angle\"},\"id\":\"2654\",\"type\":\"CumSum\"},{\"attributes\":{\"data_source\":{\"id\":\"2520\"},\"glyph\":{\"id\":\"2521\"},\"hover_glyph\":null,\"muted_glyph\":null,\"nonselection_glyph\":{\"id\":\"2522\"},\"view\":{\"id\":\"2524\"}},\"id\":\"2523\",\"type\":\"GlyphRenderer\"},{\"attributes\":{},\"id\":\"2671\",\"type\":\"UnionRenderers\"},{\"attributes\":{\"data_source\":{\"id\":\"2499\"},\"glyph\":{\"id\":\"2500\"},\"hover_glyph\":null,\"muted_glyph\":null,\"nonselection_glyph\":{\"id\":\"2501\"},\"view\":{\"id\":\"2503\"}},\"id\":\"2502\",\"type\":\"GlyphRenderer\"},{\"attributes\":{},\"id\":\"2672\",\"type\":\"Selection\"},{\"attributes\":{\"field\":\"7_angle\",\"include_zero\":true},\"id\":\"2527\",\"type\":\"CumSum\"},{\"attributes\":{\"callback\":null,\"renderers\":[{\"id\":\"2491\"}],\"tooltips\":[[\"x\",\"@__x__values_original\"],[\"9\",\"@{9}\"]]},\"id\":\"2504\",\"type\":\"HoverTool\"},{\"attributes\":{\"source\":{\"id\":\"2520\"}},\"id\":\"2524\",\"type\":\"CDSView\"},{\"attributes\":{},\"id\":\"2689\",\"type\":\"UnionRenderers\"},{\"attributes\":{\"source\":{\"id\":\"2499\"}},\"id\":\"2503\",\"type\":\"CDSView\"},{\"attributes\":{},\"id\":\"2707\",\"type\":\"UnionRenderers\"},{\"attributes\":{},\"id\":\"2708\",\"type\":\"Selection\"},{\"attributes\":{\"field\":\"7_angle\"},\"id\":\"2528\",\"type\":\"CumSum\"},{\"attributes\":{\"callback\":null,\"renderers\":[{\"id\":\"2512\"}],\"tooltips\":[[\"x\",\"@__x__values_original\"],[\"8\",\"@{8}\"]]},\"id\":\"2525\",\"type\":\"HoverTool\"},{\"attributes\":{\"field\":\"8_angle\",\"include_zero\":true},\"id\":\"2506\",\"type\":\"CumSum\"},{\"attributes\":{\"source\":{\"id\":\"2592\"}},\"id\":\"2597\",\"type\":\"CDSView\"},{\"attributes\":{\"field\":\"8_angle\"},\"id\":\"2507\",\"type\":\"CumSum\"},{\"attributes\":{\"data\":{\"__x__values\":[-1.4000000000000001],\"text\":[\"8\"],\"y\":[-1.6]},\"selected\":{\"id\":\"2684\"},\"selection_policy\":{\"id\":\"2683\"}},\"id\":\"2514\",\"type\":\"ColumnDataSource\"},{\"attributes\":{\"text_alpha\":{\"value\":0.1},\"text_color\":{\"value\":\"black\"},\"text_font_style\":{\"value\":\"bold\"},\"x\":{\"field\":\"__x__values\"},\"y\":{\"field\":\"y\"}},\"id\":\"2601\",\"type\":\"Text\"},{\"attributes\":{\"callback\":null,\"renderers\":[{\"id\":\"2533\"}],\"tooltips\":[[\"x\",\"@__x__values_original\"],[\"7\",\"@{7}\"]]},\"id\":\"2546\",\"type\":\"HoverTool\"},{\"attributes\":{\"data\":{\"__x__values\":[-1.4000000000000001],\"text\":[\"3\"],\"y\":[-0.09999999999999998]},\"selected\":{\"id\":\"2714\"},\"selection_policy\":{\"id\":\"2713\"}},\"id\":\"2619\",\"type\":\"ColumnDataSource\"},{\"attributes\":{},\"id\":\"2856\",\"type\":\"UnionRenderers\"},{\"attributes\":{\"end_angle\":{\"expr\":{\"id\":\"2507\"}},\"fill_color\":{\"field\":\"color\"},\"inner_radius\":{\"field\":\"inner_radius\"},\"line_color\":{\"value\":\"white\"},\"line_width\":{\"value\":2},\"outer_radius\":{\"field\":\"outer_radius\"},\"start_angle\":{\"expr\":{\"id\":\"2506\"}},\"x\":{\"value\":0},\"y\":{\"value\":0}},\"id\":\"2510\",\"type\":\"AnnularWedge\"},{\"attributes\":{\"data\":{\"1\":{\"__ndarray__\":\"AAAAAAAA8D8AAAAAAAAIQAAAAAAAAABAAAAAAAAAEEAAAAAAAAAcQAAAAAAAAABAAAAAAAAA8D8AAAAAAAAAAAAAAAAAAAAAAAAAAAAAAAA=\",\"dtype\":\"float64\",\"order\":\"little\",\"shape\":[10]},\"10\":{\"__ndarray__\":\"AAAAAAAAAAAAAAAAAAAUQAAAAAAAAPA/AAAAAAAAEEAAAAAAAAAAAAAAAAAAAAhAAAAAAAAAAEAAAAAAAADwPwAAAAAAAAAAAAAAAAAA8D8=\",\"dtype\":\"float64\",\"order\":\"little\",\"shape\":[10]},\"10_angle\":{\"__ndarray__\":\"AAAAAAAAAABoj6rqY5H9P1MMIiKDp9c/UwwiIoOn9z8AAAAAAAAAAD6JmVmivfE/UwwiIoOn5z9TDCIig6fXPwAAAAAAAAAAUwwiIoOn1z8=\",\"dtype\":\"float64\",\"order\":\"little\",\"shape\":[10]},\"1_angle\":{\"__ndarray__\":\"4PCcdi8b1D9QaesxxyjuP+DwnHYvG+Q/4PCcdi8b9D/EUsmHyZcBQODwnHYvG+Q/4PCcdi8b1D8AAAAAAAAAAAAAAAAAAAAAAAAAAAAAAAA=\",\"dtype\":\"float64\",\"order\":\"little\",\"shape\":[10]},\"2\":{\"__ndarray__\":\"AAAAAAAAGEAAAAAAAAAYQAAAAAAAAAhAAAAAAAAAN0AAAAAAAAAzQAAAAAAAACRAAAAAAAAACEAAAAAAAAAAQAAAAAAAAAAAAAAAAAAAAAA=\",\"dtype\":\"float64\",\"order\":\"little\",\"shape\":[10]},\"2_angle\":{\"__ndarray__\":\"ZXMtOFLB4D9lcy04UsHgP2VzLThSwdA/QTnWdZkOAEBhofLYbIf6P6kVoV3e7Os/ZXMtOFLB0D+HROdKGFfGPwAAAAAAAAAAAAAAAAAAAAA=\",\"dtype\":\"float64\",\"order\":\"little\",\"shape\":[10]},\"3\":{\"__ndarray__\":\"AAAAAAAAFEAAAAAAAAAUQAAAAAAAABRAAAAAAAAAMkAAAAAAAAAUQAAAAAAAACBAAAAAAAAAFEAAAAAAAAAAAAAAAAAAAAAAAAAAAAAAAAA=\",\"dtype\":\"float64\",\"order\":\"little\",\"shape\":[10]},\"3_angle\":{\"__ndarray__\":\"8LRxnEK24z/wtHGcQrbjP/C0cZxCtuM/PomZWaK9AUDwtHGcQrbjPxm7gi0Eiu8/8LRxnEK24z8AAAAAAAAAAAAAAAAAAAAAAAAAAAAAAAA=\",\"dtype\":\"float64\",\"order\":\"little\",\"shape\":[10]},\"4\":{\"__ndarray__\":\"AAAAAAAAAEAAAAAAAAAgQAAAAAAAAPA/AAAAAAAALEAAAAAAAAAgQAAAAAAAABRAAAAAAAAACEAAAAAAAAAAQAAAAAAAAAAAAAAAAAAAAAA=\",\"dtype\":\"float64\",\"order\":\"little\",\"shape\":[10]},\"4_angle\":{\"__ndarray__\":\"pxWGVhS00j+nFYZWFLTyP6cVhlYUtMI/8lK1y5FdAECnFYZWFLTyPxCbJ2wZYec/eiDJgR4O3D+nFYZWFLTSPwAAAAAAAAAAAAAAAAAAAAA=\",\"dtype\":\"float64\",\"order\":\"little\",\"shape\":[10]},\"5\":{\"__ndarray__\":\"AAAAAAAAFEAAAAAAAAAiQAAAAAAAABRAAAAAAAAAN0AAAAAAAAAqQAAAAAAAACJAAAAAAAAACEAAAAAAAAAAAAAAAAAAAABAAAAAAAAAAAA=\",\"dtype\":\"float64\",\"order\":\"little\",\"shape\":[10]},\"5_angle\":{\"__ndarray__\":\"/jezYbAj3T/LGO5XuDnqP/43s2GwI90/ZXMtOFLBAEDMSoE/zPDyP8sY7le4Oeo/MrueOtB70T8AAAAAAAAAAJj5KE7AT8c/AAAAAAAAAAA=\",\"dtype\":\"float64\",\"order\":\"little\",\"shape\":[10]},\"6\":{\"__ndarray__\":\"AAAAAAAAAEAAAAAAAAA3QAAAAAAAABBAAAAAAAAAOUAAAAAAAAAmQAAAAAAAACZAAAAAAAAAGEAAAAAAAAAQQAAAAAAAAPA/AAAAAAAAAAA=\",\"dtype\":\"float64\",\"order\":\"little\",\"shape\":[10]},\"6_angle\":{\"__ndarray__\":\"kwzRRgt9wj8Ugsw1wJP6P5MM0UYLfdI/paOmnmHj/D9LcV+B72vpP0txX4Hva+k/3ZI56pC72z+TDNFGC33SP5MM0UYLfbI/AAAAAAAAAAA=\",\"dtype\":\"float64\",\"order\":\"little\",\"shape\":[10]},\"7\":{\"__ndarray__\":\"AAAAAAAAFEAAAAAAAAAzQAAAAAAAAAhAAAAAAAAAOEAAAAAAAAAUQAAAAAAAAChAAAAAAAAAGEAAAAAAAAAQQAAAAAAAAPA/AAAAAAAA8D8=\",\"dtype\":\"float64\",\"order\":\"little\",\"shape\":[10]},\"7_angle\":{\"__ndarray__\":\"GC1EVPsh2T8KXtpcSOD3P1Bp6zHHKM4/UGnrMcco/j8YLURU+yHZP1Bp6zHHKO4/UGnrMcco3j/g8Jx2LxvUP+DwnHYvG7Q/4PCcdi8btD8=\",\"dtype\":\"float64\",\"order\":\"little\",\"shape\":[10]},\"8\":{\"__ndarray__\":\"AAAAAAAACEAAAAAAAAAqQAAAAAAAABBAAAAAAAAAKEAAAAAAAAAAAAAAAAAAADBAAAAAAAAAAEAAAAAAAAAQQAAAAAAAAAAAAAAAAAAAAAA=\",\"dtype\":\"float64\",\"order\":\"little\",\"shape\":[10]},\"8_angle\":{\"__ndarray__\":\"h0TnShhX1j89inqmrzP4P15bNLl1yd0/h0TnShhX9j8AAAAAAAAAAF5bNLl1yf0/Xls0uXXJzT9eWzS5dcndPwAAAAAAAAAAAAAAAAAAAAA=\",\"dtype\":\"float64\",\"order\":\"little\",\"shape\":[10]},\"9\":{\"__ndarray__\":\"AAAAAAAAAAAAAAAAAAAcQAAAAAAAAABAAAAAAAAAJEAAAAAAAAAIQAAAAAAAABRAAAAAAAAAAAAAAAAAAAAAQAAAAAAAAAAAAAAAAAAAAEA=\",\"dtype\":\"float64\",\"order\":\"little\",\"shape\":[10]},\"9_angle\":{\"__ndarray__\":\"AAAAAAAAAAD9MLGeVrP2PyGBypCH8dk/tZB+uvQ2AEDZ4JesJXXjP7WQfrr0NvA/AAAAAAAAAAAhgcqQh/HZPwAAAAAAAAAAIYHKkIfx2T8=\",\"dtype\":\"float64\",\"order\":\"little\",\"shape\":[10]},\"__x__values\":[\"1\\u66b4\\u9732\\u5ca9\\u5cb8\",\"2\\u66b4\\u9732\\u4eba\\u9020\\u7d50\\u69cb\\u7269\",\"3\\u66b4\\u9732\\u5ca9\\u76e4\",\"4\\u6c99\\u7058\",\"5\\u7802\\u792b\\u6df7\\u5408\\u7058\",\"6\\u792b\\u77f3\\u7058\",\"7\\u958b\\u95ca\\u6f6e\\u9593\\u5e36\",\"8\\u906e\\u853d\\u5ca9\\u5cb8\",\"9\\u906e\\u853d\\u6f6e\\u9593\\u5e36\",\"10\\u906e\\u853d\\u6fd5\\u5730\"],\"__x__values_original\":[\"1\\u66b4\\u9732\\u5ca9\\u5cb8\",\"2\\u66b4\\u9732\\u4eba\\u9020\\u7d50\\u69cb\\u7269\",\"3\\u66b4\\u9732\\u5ca9\\u76e4\",\"4\\u6c99\\u7058\",\"5\\u7802\\u792b\\u6df7\\u5408\\u7058\",\"6\\u792b\\u77f3\\u7058\",\"7\\u958b\\u95ca\\u6f6e\\u9593\\u5e36\",\"8\\u906e\\u853d\\u5ca9\\u5cb8\",\"9\\u906e\\u853d\\u6f6e\\u9593\\u5e36\",\"10\\u906e\\u853d\\u6fd5\\u5730\"],\"color\":[\"#1f77b4\",\"#ff7f0e\",\"#2ca02c\",\"#d62728\",\"#9467bd\",\"#8c564b\",\"#e377c2\",\"#7f7f7f\",\"#bcbd22\",\"#17becf\"],\"inner_radius\":[0.7,0.7,0.7,0.7,0.7,0.7,0.7,0.7,0.7,0.7],\"outer_radius\":[0.79,0.79,0.79,0.79,0.79,0.79,0.79,0.79,0.79,0.79]},\"selected\":{\"id\":\"2682\"},\"selection_policy\":{\"id\":\"2681\"}},\"id\":\"2508\",\"type\":\"ColumnDataSource\"},{\"attributes\":{\"source\":{\"id\":\"2613\"}},\"id\":\"2618\",\"type\":\"CDSView\"},{\"attributes\":{},\"id\":\"2857\",\"type\":\"Selection\"},{\"attributes\":{\"data\":{\"__x__values\":[-1.4000000000000001],\"text\":[\"4\"],\"y\":[-0.3999999999999999]},\"selected\":{\"id\":\"2708\"},\"selection_policy\":{\"id\":\"2707\"}},\"id\":\"2598\",\"type\":\"ColumnDataSource\"},{\"attributes\":{\"text_color\":{\"value\":\"black\"},\"text_font_style\":{\"value\":\"bold\"},\"x\":{\"field\":\"__x__values\"},\"y\":{\"field\":\"y\"}},\"id\":\"2600\",\"type\":\"Text\"},{\"attributes\":{\"data_source\":{\"id\":\"2598\"},\"glyph\":{\"id\":\"2600\"},\"hover_glyph\":null,\"muted_glyph\":null,\"nonselection_glyph\":{\"id\":\"2601\"},\"view\":{\"id\":\"2603\"}},\"id\":\"2602\",\"type\":\"GlyphRenderer\"},{\"attributes\":{\"source\":{\"id\":\"2508\"}},\"id\":\"2513\",\"type\":\"CDSView\"},{\"attributes\":{},\"id\":\"2691\",\"type\":\"UnionRenderers\"},{\"attributes\":{\"end_angle\":{\"expr\":{\"id\":\"2507\"}},\"fill_alpha\":{\"value\":0.1},\"fill_color\":{\"field\":\"color\"},\"inner_radius\":{\"field\":\"inner_radius\"},\"line_alpha\":{\"value\":0.1},\"line_color\":{\"value\":\"white\"},\"line_width\":{\"value\":2},\"outer_radius\":{\"field\":\"outer_radius\"},\"start_angle\":{\"expr\":{\"id\":\"2506\"}},\"x\":{\"value\":0},\"y\":{\"value\":0}},\"id\":\"2511\",\"type\":\"AnnularWedge\"},{\"attributes\":{\"text_alpha\":{\"value\":0.1},\"text_color\":{\"value\":\"black\"},\"text_font_style\":{\"value\":\"bold\"},\"x\":{\"field\":\"__x__values\"},\"y\":{\"field\":\"y\"}},\"id\":\"2622\",\"type\":\"Text\"},{\"attributes\":{},\"id\":\"2709\",\"type\":\"UnionRenderers\"},{\"attributes\":{\"text_alpha\":{\"value\":0.1},\"text_color\":{\"value\":\"black\"},\"text_font_style\":{\"value\":\"bold\"},\"x\":{\"field\":\"__x__values\"},\"y\":{\"field\":\"y\"}},\"id\":\"2517\",\"type\":\"Text\"},{\"attributes\":{\"data_source\":{\"id\":\"2541\"},\"glyph\":{\"id\":\"2542\"},\"hover_glyph\":null,\"muted_glyph\":null,\"nonselection_glyph\":{\"id\":\"2543\"},\"view\":{\"id\":\"2545\"}},\"id\":\"2544\",\"type\":\"GlyphRenderer\"},{\"attributes\":{\"source\":{\"id\":\"2598\"}},\"id\":\"2603\",\"type\":\"CDSView\"},{\"attributes\":{},\"id\":\"2710\",\"type\":\"Selection\"},{\"attributes\":{\"source\":{\"id\":\"2619\"}},\"id\":\"2624\",\"type\":\"CDSView\"},{\"attributes\":{\"data_source\":{\"id\":\"2508\"},\"glyph\":{\"id\":\"2510\"},\"hover_glyph\":null,\"muted_glyph\":null,\"nonselection_glyph\":{\"id\":\"2511\"},\"view\":{\"id\":\"2513\"}},\"id\":\"2512\",\"type\":\"GlyphRenderer\"},{\"attributes\":{\"data\":{\"x\":[-1.34,0],\"y\":[-0.3999999999999999,-0.345]},\"selected\":{\"id\":\"2710\"},\"selection_policy\":{\"id\":\"2709\"}},\"id\":\"2604\",\"type\":\"ColumnDataSource\"},{\"attributes\":{},\"id\":\"2692\",\"type\":\"Selection\"},{\"attributes\":{\"text_color\":{\"value\":\"black\"},\"text_font_style\":{\"value\":\"bold\"},\"x\":{\"field\":\"__x__values\"},\"y\":{\"field\":\"y\"}},\"id\":\"2516\",\"type\":\"Text\"},{\"attributes\":{\"data_source\":{\"id\":\"2535\"},\"glyph\":{\"id\":\"2537\"},\"hover_glyph\":null,\"muted_glyph\":null,\"nonselection_glyph\":{\"id\":\"2538\"},\"view\":{\"id\":\"2540\"}},\"id\":\"2539\",\"type\":\"GlyphRenderer\"},{\"attributes\":{\"source\":{\"id\":\"2535\"}},\"id\":\"2540\",\"type\":\"CDSView\"},{\"attributes\":{\"text_color\":{\"value\":\"black\"},\"text_font_style\":{\"value\":\"bold\"},\"x\":{\"field\":\"__x__values\"},\"y\":{\"field\":\"y\"}},\"id\":\"2621\",\"type\":\"Text\"},{\"attributes\":{\"data_source\":{\"id\":\"2619\"},\"glyph\":{\"id\":\"2621\"},\"hover_glyph\":null,\"muted_glyph\":null,\"nonselection_glyph\":{\"id\":\"2622\"},\"view\":{\"id\":\"2624\"}},\"id\":\"2623\",\"type\":\"GlyphRenderer\"},{\"attributes\":{\"source\":{\"id\":\"2541\"}},\"id\":\"2545\",\"type\":\"CDSView\"},{\"attributes\":{\"data_source\":{\"id\":\"2514\"},\"glyph\":{\"id\":\"2516\"},\"hover_glyph\":null,\"muted_glyph\":null,\"nonselection_glyph\":{\"id\":\"2517\"},\"view\":{\"id\":\"2519\"}},\"id\":\"2518\",\"type\":\"GlyphRenderer\"},{\"attributes\":{\"data\":{\"x\":[-1.34,0],\"y\":[-1.2999999999999998,-0.645]},\"selected\":{\"id\":\"2692\"},\"selection_policy\":{\"id\":\"2691\"}},\"id\":\"2541\",\"type\":\"ColumnDataSource\"},{\"attributes\":{\"source\":{\"id\":\"2625\"}},\"id\":\"2629\",\"type\":\"CDSView\"},{\"attributes\":{\"field\":\"3_angle\"},\"id\":\"2612\",\"type\":\"CumSum\"},{\"attributes\":{\"text_alpha\":{\"value\":0.1},\"text_color\":{\"value\":\"black\"},\"text_font_style\":{\"value\":\"bold\"},\"x\":{\"field\":\"__x__values\"},\"y\":{\"field\":\"y\"}},\"id\":\"2538\",\"type\":\"Text\"},{\"attributes\":{\"x\":{\"field\":\"x\"},\"y\":{\"field\":\"y\"}},\"id\":\"2626\",\"type\":\"Line\"},{\"attributes\":{},\"id\":\"2680\",\"type\":\"Selection\"},{\"attributes\":{\"x\":{\"field\":\"x\"},\"y\":{\"field\":\"y\"}},\"id\":\"2542\",\"type\":\"Line\"},{\"attributes\":{\"data\":{\"x\":[-1.34,0],\"y\":[-0.09999999999999998,-0.245]},\"selected\":{\"id\":\"2716\"},\"selection_policy\":{\"id\":\"2715\"}},\"id\":\"2625\",\"type\":\"ColumnDataSource\"},{\"attributes\":{\"callback\":null,\"renderers\":[{\"id\":\"2617\"}],\"tooltips\":[[\"x\",\"@__x__values_original\"],[\"3\",\"@{3}\"]]},\"id\":\"2630\",\"type\":\"HoverTool\"},{\"attributes\":{},\"id\":\"2687\",\"type\":\"UnionRenderers\"},{\"attributes\":{\"field\":\"3_angle\",\"include_zero\":true},\"id\":\"2611\",\"type\":\"CumSum\"},{\"attributes\":{\"data_source\":{\"id\":\"2625\"},\"glyph\":{\"id\":\"2626\"},\"hover_glyph\":null,\"muted_glyph\":null,\"nonselection_glyph\":{\"id\":\"2627\"},\"view\":{\"id\":\"2629\"}},\"id\":\"2628\",\"type\":\"GlyphRenderer\"},{\"attributes\":{\"source\":{\"id\":\"2550\"}},\"id\":\"2555\",\"type\":\"CDSView\"},{\"attributes\":{},\"id\":\"2683\",\"type\":\"UnionRenderers\"},{\"attributes\":{\"end_angle\":{\"expr\":{\"id\":\"2549\"}},\"fill_color\":{\"field\":\"color\"},\"inner_radius\":{\"field\":\"inner_radius\"},\"line_color\":{\"value\":\"white\"},\"line_width\":{\"value\":2},\"outer_radius\":{\"field\":\"outer_radius\"},\"start_angle\":{\"expr\":{\"id\":\"2548\"}},\"x\":{\"value\":0},\"y\":{\"value\":0}},\"id\":\"2552\",\"type\":\"AnnularWedge\"},{\"attributes\":{\"source\":{\"id\":\"2634\"}},\"id\":\"2639\",\"type\":\"CDSView\"},{\"attributes\":{},\"id\":\"2711\",\"type\":\"UnionRenderers\"},{\"attributes\":{\"line_alpha\":0.1,\"x\":{\"field\":\"x\"},\"y\":{\"field\":\"y\"}},\"id\":\"2543\",\"type\":\"Line\"},{\"attributes\":{\"end_angle\":{\"expr\":{\"id\":\"2633\"}},\"fill_color\":{\"field\":\"color\"},\"inner_radius\":{\"field\":\"inner_radius\"},\"line_color\":{\"value\":\"white\"},\"line_width\":{\"value\":2},\"outer_radius\":{\"field\":\"outer_radius\"},\"start_angle\":{\"expr\":{\"id\":\"2632\"}},\"x\":{\"value\":0},\"y\":{\"value\":0}},\"id\":\"2636\",\"type\":\"AnnularWedge\"},{\"attributes\":{},\"id\":\"2712\",\"type\":\"Selection\"},{\"attributes\":{\"data\":{\"1\":{\"__ndarray__\":\"AAAAAAAA8D8AAAAAAAAIQAAAAAAAAABAAAAAAAAAEEAAAAAAAAAcQAAAAAAAAABAAAAAAAAA8D8AAAAAAAAAAAAAAAAAAAAAAAAAAAAAAAA=\",\"dtype\":\"float64\",\"order\":\"little\",\"shape\":[10]},\"10\":{\"__ndarray__\":\"AAAAAAAAAAAAAAAAAAAUQAAAAAAAAPA/AAAAAAAAEEAAAAAAAAAAAAAAAAAAAAhAAAAAAAAAAEAAAAAAAADwPwAAAAAAAAAAAAAAAAAA8D8=\",\"dtype\":\"float64\",\"order\":\"little\",\"shape\":[10]},\"10_angle\":{\"__ndarray__\":\"AAAAAAAAAABoj6rqY5H9P1MMIiKDp9c/UwwiIoOn9z8AAAAAAAAAAD6JmVmivfE/UwwiIoOn5z9TDCIig6fXPwAAAAAAAAAAUwwiIoOn1z8=\",\"dtype\":\"float64\",\"order\":\"little\",\"shape\":[10]},\"1_angle\":{\"__ndarray__\":\"4PCcdi8b1D9QaesxxyjuP+DwnHYvG+Q/4PCcdi8b9D/EUsmHyZcBQODwnHYvG+Q/4PCcdi8b1D8AAAAAAAAAAAAAAAAAAAAAAAAAAAAAAAA=\",\"dtype\":\"float64\",\"order\":\"little\",\"shape\":[10]},\"2\":{\"__ndarray__\":\"AAAAAAAAGEAAAAAAAAAYQAAAAAAAAAhAAAAAAAAAN0AAAAAAAAAzQAAAAAAAACRAAAAAAAAACEAAAAAAAAAAQAAAAAAAAAAAAAAAAAAAAAA=\",\"dtype\":\"float64\",\"order\":\"little\",\"shape\":[10]},\"2_angle\":{\"__ndarray__\":\"ZXMtOFLB4D9lcy04UsHgP2VzLThSwdA/QTnWdZkOAEBhofLYbIf6P6kVoV3e7Os/ZXMtOFLB0D+HROdKGFfGPwAAAAAAAAAAAAAAAAAAAAA=\",\"dtype\":\"float64\",\"order\":\"little\",\"shape\":[10]},\"3\":{\"__ndarray__\":\"AAAAAAAAFEAAAAAAAAAUQAAAAAAAABRAAAAAAAAAMkAAAAAAAAAUQAAAAAAAACBAAAAAAAAAFEAAAAAAAAAAAAAAAAAAAAAAAAAAAAAAAAA=\",\"dtype\":\"float64\",\"order\":\"little\",\"shape\":[10]},\"3_angle\":{\"__ndarray__\":\"8LRxnEK24z/wtHGcQrbjP/C0cZxCtuM/PomZWaK9AUDwtHGcQrbjPxm7gi0Eiu8/8LRxnEK24z8AAAAAAAAAAAAAAAAAAAAAAAAAAAAAAAA=\",\"dtype\":\"float64\",\"order\":\"little\",\"shape\":[10]},\"4\":{\"__ndarray__\":\"AAAAAAAAAEAAAAAAAAAgQAAAAAAAAPA/AAAAAAAALEAAAAAAAAAgQAAAAAAAABRAAAAAAAAACEAAAAAAAAAAQAAAAAAAAAAAAAAAAAAAAAA=\",\"dtype\":\"float64\",\"order\":\"little\",\"shape\":[10]},\"4_angle\":{\"__ndarray__\":\"pxWGVhS00j+nFYZWFLTyP6cVhlYUtMI/8lK1y5FdAECnFYZWFLTyPxCbJ2wZYec/eiDJgR4O3D+nFYZWFLTSPwAAAAAAAAAAAAAAAAAAAAA=\",\"dtype\":\"float64\",\"order\":\"little\",\"shape\":[10]},\"5\":{\"__ndarray__\":\"AAAAAAAAFEAAAAAAAAAiQAAAAAAAABRAAAAAAAAAN0AAAAAAAAAqQAAAAAAAACJAAAAAAAAACEAAAAAAAAAAAAAAAAAAAABAAAAAAAAAAAA=\",\"dtype\":\"float64\",\"order\":\"little\",\"shape\":[10]},\"5_angle\":{\"__ndarray__\":\"/jezYbAj3T/LGO5XuDnqP/43s2GwI90/ZXMtOFLBAEDMSoE/zPDyP8sY7le4Oeo/MrueOtB70T8AAAAAAAAAAJj5KE7AT8c/AAAAAAAAAAA=\",\"dtype\":\"float64\",\"order\":\"little\",\"shape\":[10]},\"6\":{\"__ndarray__\":\"AAAAAAAAAEAAAAAAAAA3QAAAAAAAABBAAAAAAAAAOUAAAAAAAAAmQAAAAAAAACZAAAAAAAAAGEAAAAAAAAAQQAAAAAAAAPA/AAAAAAAAAAA=\",\"dtype\":\"float64\",\"order\":\"little\",\"shape\":[10]},\"6_angle\":{\"__ndarray__\":\"kwzRRgt9wj8Ugsw1wJP6P5MM0UYLfdI/paOmnmHj/D9LcV+B72vpP0txX4Hva+k/3ZI56pC72z+TDNFGC33SP5MM0UYLfbI/AAAAAAAAAAA=\",\"dtype\":\"float64\",\"order\":\"little\",\"shape\":[10]},\"7\":{\"__ndarray__\":\"AAAAAAAAFEAAAAAAAAAzQAAAAAAAAAhAAAAAAAAAOEAAAAAAAAAUQAAAAAAAAChAAAAAAAAAGEAAAAAAAAAQQAAAAAAAAPA/AAAAAAAA8D8=\",\"dtype\":\"float64\",\"order\":\"little\",\"shape\":[10]},\"7_angle\":{\"__ndarray__\":\"GC1EVPsh2T8KXtpcSOD3P1Bp6zHHKM4/UGnrMcco/j8YLURU+yHZP1Bp6zHHKO4/UGnrMcco3j/g8Jx2LxvUP+DwnHYvG7Q/4PCcdi8btD8=\",\"dtype\":\"float64\",\"order\":\"little\",\"shape\":[10]},\"8\":{\"__ndarray__\":\"AAAAAAAACEAAAAAAAAAqQAAAAAAAABBAAAAAAAAAKEAAAAAAAAAAAAAAAAAAADBAAAAAAAAAAEAAAAAAAAAQQAAAAAAAAAAAAAAAAAAAAAA=\",\"dtype\":\"float64\",\"order\":\"little\",\"shape\":[10]},\"8_angle\":{\"__ndarray__\":\"h0TnShhX1j89inqmrzP4P15bNLl1yd0/h0TnShhX9j8AAAAAAAAAAF5bNLl1yf0/Xls0uXXJzT9eWzS5dcndPwAAAAAAAAAAAAAAAAAAAAA=\",\"dtype\":\"float64\",\"order\":\"little\",\"shape\":[10]},\"9\":{\"__ndarray__\":\"AAAAAAAAAAAAAAAAAAAcQAAAAAAAAABAAAAAAAAAJEAAAAAAAAAIQAAAAAAAABRAAAAAAAAAAAAAAAAAAAAAQAAAAAAAAAAAAAAAAAAAAEA=\",\"dtype\":\"float64\",\"order\":\"little\",\"shape\":[10]},\"9_angle\":{\"__ndarray__\":\"AAAAAAAAAAD9MLGeVrP2PyGBypCH8dk/tZB+uvQ2AEDZ4JesJXXjP7WQfrr0NvA/AAAAAAAAAAAhgcqQh/HZPwAAAAAAAAAAIYHKkIfx2T8=\",\"dtype\":\"float64\",\"order\":\"little\",\"shape\":[10]},\"__x__values\":[\"1\\u66b4\\u9732\\u5ca9\\u5cb8\",\"2\\u66b4\\u9732\\u4eba\\u9020\\u7d50\\u69cb\\u7269\",\"3\\u66b4\\u9732\\u5ca9\\u76e4\",\"4\\u6c99\\u7058\",\"5\\u7802\\u792b\\u6df7\\u5408\\u7058\",\"6\\u792b\\u77f3\\u7058\",\"7\\u958b\\u95ca\\u6f6e\\u9593\\u5e36\",\"8\\u906e\\u853d\\u5ca9\\u5cb8\",\"9\\u906e\\u853d\\u6f6e\\u9593\\u5e36\",\"10\\u906e\\u853d\\u6fd5\\u5730\"],\"__x__values_original\":[\"1\\u66b4\\u9732\\u5ca9\\u5cb8\",\"2\\u66b4\\u9732\\u4eba\\u9020\\u7d50\\u69cb\\u7269\",\"3\\u66b4\\u9732\\u5ca9\\u76e4\",\"4\\u6c99\\u7058\",\"5\\u7802\\u792b\\u6df7\\u5408\\u7058\",\"6\\u792b\\u77f3\\u7058\",\"7\\u958b\\u95ca\\u6f6e\\u9593\\u5e36\",\"8\\u906e\\u853d\\u5ca9\\u5cb8\",\"9\\u906e\\u853d\\u6f6e\\u9593\\u5e36\",\"10\\u906e\\u853d\\u6fd5\\u5730\"],\"color\":[\"#1f77b4\",\"#ff7f0e\",\"#2ca02c\",\"#d62728\",\"#9467bd\",\"#8c564b\",\"#e377c2\",\"#7f7f7f\",\"#bcbd22\",\"#17becf\"],\"inner_radius\":[0.2,0.2,0.2,0.2,0.2,0.2,0.2,0.2,0.2,0.2],\"outer_radius\":[0.29,0.29,0.29,0.29,0.29,0.29,0.29,0.29,0.29,0.29]},\"selected\":{\"id\":\"2712\"},\"selection_policy\":{\"id\":\"2711\"}},\"id\":\"2613\",\"type\":\"ColumnDataSource\"},{\"attributes\":{\"line_alpha\":0.1,\"x\":{\"field\":\"x\"},\"y\":{\"field\":\"y\"}},\"id\":\"2627\",\"type\":\"Line\"},{\"attributes\":{},\"id\":\"2684\",\"type\":\"Selection\"},{\"attributes\":{\"data\":{\"1\":{\"__ndarray__\":\"AAAAAAAA8D8AAAAAAAAIQAAAAAAAAABAAAAAAAAAEEAAAAAAAAAcQAAAAAAAAABAAAAAAAAA8D8AAAAAAAAAAAAAAAAAAAAAAAAAAAAAAAA=\",\"dtype\":\"float64\",\"order\":\"little\",\"shape\":[10]},\"10\":{\"__ndarray__\":\"AAAAAAAAAAAAAAAAAAAUQAAAAAAAAPA/AAAAAAAAEEAAAAAAAAAAAAAAAAAAAAhAAAAAAAAAAEAAAAAAAADwPwAAAAAAAAAAAAAAAAAA8D8=\",\"dtype\":\"float64\",\"order\":\"little\",\"shape\":[10]},\"10_angle\":{\"__ndarray__\":\"AAAAAAAAAABoj6rqY5H9P1MMIiKDp9c/UwwiIoOn9z8AAAAAAAAAAD6JmVmivfE/UwwiIoOn5z9TDCIig6fXPwAAAAAAAAAAUwwiIoOn1z8=\",\"dtype\":\"float64\",\"order\":\"little\",\"shape\":[10]},\"1_angle\":{\"__ndarray__\":\"4PCcdi8b1D9QaesxxyjuP+DwnHYvG+Q/4PCcdi8b9D/EUsmHyZcBQODwnHYvG+Q/4PCcdi8b1D8AAAAAAAAAAAAAAAAAAAAAAAAAAAAAAAA=\",\"dtype\":\"float64\",\"order\":\"little\",\"shape\":[10]},\"2\":{\"__ndarray__\":\"AAAAAAAAGEAAAAAAAAAYQAAAAAAAAAhAAAAAAAAAN0AAAAAAAAAzQAAAAAAAACRAAAAAAAAACEAAAAAAAAAAQAAAAAAAAAAAAAAAAAAAAAA=\",\"dtype\":\"float64\",\"order\":\"little\",\"shape\":[10]},\"2_angle\":{\"__ndarray__\":\"ZXMtOFLB4D9lcy04UsHgP2VzLThSwdA/QTnWdZkOAEBhofLYbIf6P6kVoV3e7Os/ZXMtOFLB0D+HROdKGFfGPwAAAAAAAAAAAAAAAAAAAAA=\",\"dtype\":\"float64\",\"order\":\"little\",\"shape\":[10]},\"3\":{\"__ndarray__\":\"AAAAAAAAFEAAAAAAAAAUQAAAAAAAABRAAAAAAAAAMkAAAAAAAAAUQAAAAAAAACBAAAAAAAAAFEAAAAAAAAAAAAAAAAAAAAAAAAAAAAAAAAA=\",\"dtype\":\"float64\",\"order\":\"little\",\"shape\":[10]},\"3_angle\":{\"__ndarray__\":\"8LRxnEK24z/wtHGcQrbjP/C0cZxCtuM/PomZWaK9AUDwtHGcQrbjPxm7gi0Eiu8/8LRxnEK24z8AAAAAAAAAAAAAAAAAAAAAAAAAAAAAAAA=\",\"dtype\":\"float64\",\"order\":\"little\",\"shape\":[10]},\"4\":{\"__ndarray__\":\"AAAAAAAAAEAAAAAAAAAgQAAAAAAAAPA/AAAAAAAALEAAAAAAAAAgQAAAAAAAABRAAAAAAAAACEAAAAAAAAAAQAAAAAAAAAAAAAAAAAAAAAA=\",\"dtype\":\"float64\",\"order\":\"little\",\"shape\":[10]},\"4_angle\":{\"__ndarray__\":\"pxWGVhS00j+nFYZWFLTyP6cVhlYUtMI/8lK1y5FdAECnFYZWFLTyPxCbJ2wZYec/eiDJgR4O3D+nFYZWFLTSPwAAAAAAAAAAAAAAAAAAAAA=\",\"dtype\":\"float64\",\"order\":\"little\",\"shape\":[10]},\"5\":{\"__ndarray__\":\"AAAAAAAAFEAAAAAAAAAiQAAAAAAAABRAAAAAAAAAN0AAAAAAAAAqQAAAAAAAACJAAAAAAAAACEAAAAAAAAAAAAAAAAAAAABAAAAAAAAAAAA=\",\"dtype\":\"float64\",\"order\":\"little\",\"shape\":[10]},\"5_angle\":{\"__ndarray__\":\"/jezYbAj3T/LGO5XuDnqP/43s2GwI90/ZXMtOFLBAEDMSoE/zPDyP8sY7le4Oeo/MrueOtB70T8AAAAAAAAAAJj5KE7AT8c/AAAAAAAAAAA=\",\"dtype\":\"float64\",\"order\":\"little\",\"shape\":[10]},\"6\":{\"__ndarray__\":\"AAAAAAAAAEAAAAAAAAA3QAAAAAAAABBAAAAAAAAAOUAAAAAAAAAmQAAAAAAAACZAAAAAAAAAGEAAAAAAAAAQQAAAAAAAAPA/AAAAAAAAAAA=\",\"dtype\":\"float64\",\"order\":\"little\",\"shape\":[10]},\"6_angle\":{\"__ndarray__\":\"kwzRRgt9wj8Ugsw1wJP6P5MM0UYLfdI/paOmnmHj/D9LcV+B72vpP0txX4Hva+k/3ZI56pC72z+TDNFGC33SP5MM0UYLfbI/AAAAAAAAAAA=\",\"dtype\":\"float64\",\"order\":\"little\",\"shape\":[10]},\"7\":{\"__ndarray__\":\"AAAAAAAAFEAAAAAAAAAzQAAAAAAAAAhAAAAAAAAAOEAAAAAAAAAUQAAAAAAAAChAAAAAAAAAGEAAAAAAAAAQQAAAAAAAAPA/AAAAAAAA8D8=\",\"dtype\":\"float64\",\"order\":\"little\",\"shape\":[10]},\"7_angle\":{\"__ndarray__\":\"GC1EVPsh2T8KXtpcSOD3P1Bp6zHHKM4/UGnrMcco/j8YLURU+yHZP1Bp6zHHKO4/UGnrMcco3j/g8Jx2LxvUP+DwnHYvG7Q/4PCcdi8btD8=\",\"dtype\":\"float64\",\"order\":\"little\",\"shape\":[10]},\"8\":{\"__ndarray__\":\"AAAAAAAACEAAAAAAAAAqQAAAAAAAABBAAAAAAAAAKEAAAAAAAAAAAAAAAAAAADBAAAAAAAAAAEAAAAAAAAAQQAAAAAAAAAAAAAAAAAAAAAA=\",\"dtype\":\"float64\",\"order\":\"little\",\"shape\":[10]},\"8_angle\":{\"__ndarray__\":\"h0TnShhX1j89inqmrzP4P15bNLl1yd0/h0TnShhX9j8AAAAAAAAAAF5bNLl1yf0/Xls0uXXJzT9eWzS5dcndPwAAAAAAAAAAAAAAAAAAAAA=\",\"dtype\":\"float64\",\"order\":\"little\",\"shape\":[10]},\"9\":{\"__ndarray__\":\"AAAAAAAAAAAAAAAAAAAcQAAAAAAAAABAAAAAAAAAJEAAAAAAAAAIQAAAAAAAABRAAAAAAAAAAAAAAAAAAAAAQAAAAAAAAAAAAAAAAAAAAEA=\",\"dtype\":\"float64\",\"order\":\"little\",\"shape\":[10]},\"9_angle\":{\"__ndarray__\":\"AAAAAAAAAAD9MLGeVrP2PyGBypCH8dk/tZB+uvQ2AEDZ4JesJXXjP7WQfrr0NvA/AAAAAAAAAAAhgcqQh/HZPwAAAAAAAAAAIYHKkIfx2T8=\",\"dtype\":\"float64\",\"order\":\"little\",\"shape\":[10]},\"__x__values\":[\"1\\u66b4\\u9732\\u5ca9\\u5cb8\",\"2\\u66b4\\u9732\\u4eba\\u9020\\u7d50\\u69cb\\u7269\",\"3\\u66b4\\u9732\\u5ca9\\u76e4\",\"4\\u6c99\\u7058\",\"5\\u7802\\u792b\\u6df7\\u5408\\u7058\",\"6\\u792b\\u77f3\\u7058\",\"7\\u958b\\u95ca\\u6f6e\\u9593\\u5e36\",\"8\\u906e\\u853d\\u5ca9\\u5cb8\",\"9\\u906e\\u853d\\u6f6e\\u9593\\u5e36\",\"10\\u906e\\u853d\\u6fd5\\u5730\"],\"__x__values_original\":[\"1\\u66b4\\u9732\\u5ca9\\u5cb8\",\"2\\u66b4\\u9732\\u4eba\\u9020\\u7d50\\u69cb\\u7269\",\"3\\u66b4\\u9732\\u5ca9\\u76e4\",\"4\\u6c99\\u7058\",\"5\\u7802\\u792b\\u6df7\\u5408\\u7058\",\"6\\u792b\\u77f3\\u7058\",\"7\\u958b\\u95ca\\u6f6e\\u9593\\u5e36\",\"8\\u906e\\u853d\\u5ca9\\u5cb8\",\"9\\u906e\\u853d\\u6f6e\\u9593\\u5e36\",\"10\\u906e\\u853d\\u6fd5\\u5730\"],\"color\":[\"#1f77b4\",\"#ff7f0e\",\"#2ca02c\",\"#d62728\",\"#9467bd\",\"#8c564b\",\"#e377c2\",\"#7f7f7f\",\"#bcbd22\",\"#17becf\"],\"inner_radius\":[0.5,0.5,0.5,0.5,0.5,0.5,0.5,0.5,0.5,0.5],\"outer_radius\":[0.5900000000000001,0.5900000000000001,0.5900000000000001,0.5900000000000001,0.5900000000000001,0.5900000000000001,0.5900000000000001,0.5900000000000001,0.5900000000000001,0.5900000000000001]},\"selected\":{\"id\":\"2694\"},\"selection_policy\":{\"id\":\"2693\"}},\"id\":\"2550\",\"type\":\"ColumnDataSource\"},{\"attributes\":{\"data\":{\"__x__values\":[-1.4000000000000001],\"text\":[\"1\"],\"y\":[0.5]},\"selected\":{\"id\":\"2855\"},\"selection_policy\":{\"id\":\"2854\"}},\"id\":\"2727\",\"type\":\"ColumnDataSource\"},{\"attributes\":{},\"id\":\"2688\",\"type\":\"Selection\"},{\"attributes\":{\"data\":{\"1\":{\"__ndarray__\":\"AAAAAAAA8D8AAAAAAAAIQAAAAAAAAABAAAAAAAAAEEAAAAAAAAAcQAAAAAAAAABAAAAAAAAA8D8AAAAAAAAAAAAAAAAAAAAAAAAAAAAAAAA=\",\"dtype\":\"float64\",\"order\":\"little\",\"shape\":[10]},\"10\":{\"__ndarray__\":\"AAAAAAAAAAAAAAAAAAAUQAAAAAAAAPA/AAAAAAAAEEAAAAAAAAAAAAAAAAAAAAhAAAAAAAAAAEAAAAAAAADwPwAAAAAAAAAAAAAAAAAA8D8=\",\"dtype\":\"float64\",\"order\":\"little\",\"shape\":[10]},\"10_angle\":{\"__ndarray__\":\"AAAAAAAAAABoj6rqY5H9P1MMIiKDp9c/UwwiIoOn9z8AAAAAAAAAAD6JmVmivfE/UwwiIoOn5z9TDCIig6fXPwAAAAAAAAAAUwwiIoOn1z8=\",\"dtype\":\"float64\",\"order\":\"little\",\"shape\":[10]},\"1_angle\":{\"__ndarray__\":\"4PCcdi8b1D9QaesxxyjuP+DwnHYvG+Q/4PCcdi8b9D/EUsmHyZcBQODwnHYvG+Q/4PCcdi8b1D8AAAAAAAAAAAAAAAAAAAAAAAAAAAAAAAA=\",\"dtype\":\"float64\",\"order\":\"little\",\"shape\":[10]},\"2\":{\"__ndarray__\":\"AAAAAAAAGEAAAAAAAAAYQAAAAAAAAAhAAAAAAAAAN0AAAAAAAAAzQAAAAAAAACRAAAAAAAAACEAAAAAAAAAAQAAAAAAAAAAAAAAAAAAAAAA=\",\"dtype\":\"float64\",\"order\":\"little\",\"shape\":[10]},\"2_angle\":{\"__ndarray__\":\"ZXMtOFLB4D9lcy04UsHgP2VzLThSwdA/QTnWdZkOAEBhofLYbIf6P6kVoV3e7Os/ZXMtOFLB0D+HROdKGFfGPwAAAAAAAAAAAAAAAAAAAAA=\",\"dtype\":\"float64\",\"order\":\"little\",\"shape\":[10]},\"3\":{\"__ndarray__\":\"AAAAAAAAFEAAAAAAAAAUQAAAAAAAABRAAAAAAAAAMkAAAAAAAAAUQAAAAAAAACBAAAAAAAAAFEAAAAAAAAAAAAAAAAAAAAAAAAAAAAAAAAA=\",\"dtype\":\"float64\",\"order\":\"little\",\"shape\":[10]},\"3_angle\":{\"__ndarray__\":\"8LRxnEK24z/wtHGcQrbjP/C0cZxCtuM/PomZWaK9AUDwtHGcQrbjPxm7gi0Eiu8/8LRxnEK24z8AAAAAAAAAAAAAAAAAAAAAAAAAAAAAAAA=\",\"dtype\":\"float64\",\"order\":\"little\",\"shape\":[10]},\"4\":{\"__ndarray__\":\"AAAAAAAAAEAAAAAAAAAgQAAAAAAAAPA/AAAAAAAALEAAAAAAAAAgQAAAAAAAABRAAAAAAAAACEAAAAAAAAAAQAAAAAAAAAAAAAAAAAAAAAA=\",\"dtype\":\"float64\",\"order\":\"little\",\"shape\":[10]},\"4_angle\":{\"__ndarray__\":\"pxWGVhS00j+nFYZWFLTyP6cVhlYUtMI/8lK1y5FdAECnFYZWFLTyPxCbJ2wZYec/eiDJgR4O3D+nFYZWFLTSPwAAAAAAAAAAAAAAAAAAAAA=\",\"dtype\":\"float64\",\"order\":\"little\",\"shape\":[10]},\"5\":{\"__ndarray__\":\"AAAAAAAAFEAAAAAAAAAiQAAAAAAAABRAAAAAAAAAN0AAAAAAAAAqQAAAAAAAACJAAAAAAAAACEAAAAAAAAAAAAAAAAAAAABAAAAAAAAAAAA=\",\"dtype\":\"float64\",\"order\":\"little\",\"shape\":[10]},\"5_angle\":{\"__ndarray__\":\"/jezYbAj3T/LGO5XuDnqP/43s2GwI90/ZXMtOFLBAEDMSoE/zPDyP8sY7le4Oeo/MrueOtB70T8AAAAAAAAAAJj5KE7AT8c/AAAAAAAAAAA=\",\"dtype\":\"float64\",\"order\":\"little\",\"shape\":[10]},\"6\":{\"__ndarray__\":\"AAAAAAAAAEAAAAAAAAA3QAAAAAAAABBAAAAAAAAAOUAAAAAAAAAmQAAAAAAAACZAAAAAAAAAGEAAAAAAAAAQQAAAAAAAAPA/AAAAAAAAAAA=\",\"dtype\":\"float64\",\"order\":\"little\",\"shape\":[10]},\"6_angle\":{\"__ndarray__\":\"kwzRRgt9wj8Ugsw1wJP6P5MM0UYLfdI/paOmnmHj/D9LcV+B72vpP0txX4Hva+k/3ZI56pC72z+TDNFGC33SP5MM0UYLfbI/AAAAAAAAAAA=\",\"dtype\":\"float64\",\"order\":\"little\",\"shape\":[10]},\"7\":{\"__ndarray__\":\"AAAAAAAAFEAAAAAAAAAzQAAAAAAAAAhAAAAAAAAAOEAAAAAAAAAUQAAAAAAAAChAAAAAAAAAGEAAAAAAAAAQQAAAAAAAAPA/AAAAAAAA8D8=\",\"dtype\":\"float64\",\"order\":\"little\",\"shape\":[10]},\"7_angle\":{\"__ndarray__\":\"GC1EVPsh2T8KXtpcSOD3P1Bp6zHHKM4/UGnrMcco/j8YLURU+yHZP1Bp6zHHKO4/UGnrMcco3j/g8Jx2LxvUP+DwnHYvG7Q/4PCcdi8btD8=\",\"dtype\":\"float64\",\"order\":\"little\",\"shape\":[10]},\"8\":{\"__ndarray__\":\"AAAAAAAACEAAAAAAAAAqQAAAAAAAABBAAAAAAAAAKEAAAAAAAAAAAAAAAAAAADBAAAAAAAAAAEAAAAAAAAAQQAAAAAAAAAAAAAAAAAAAAAA=\",\"dtype\":\"float64\",\"order\":\"little\",\"shape\":[10]},\"8_angle\":{\"__ndarray__\":\"h0TnShhX1j89inqmrzP4P15bNLl1yd0/h0TnShhX9j8AAAAAAAAAAF5bNLl1yf0/Xls0uXXJzT9eWzS5dcndPwAAAAAAAAAAAAAAAAAAAAA=\",\"dtype\":\"float64\",\"order\":\"little\",\"shape\":[10]},\"9\":{\"__ndarray__\":\"AAAAAAAAAAAAAAAAAAAcQAAAAAAAAABAAAAAAAAAJEAAAAAAAAAIQAAAAAAAABRAAAAAAAAAAAAAAAAAAAAAQAAAAAAAAAAAAAAAAAAAAEA=\",\"dtype\":\"float64\",\"order\":\"little\",\"shape\":[10]},\"9_angle\":{\"__ndarray__\":\"AAAAAAAAAAD9MLGeVrP2PyGBypCH8dk/tZB+uvQ2AEDZ4JesJXXjP7WQfrr0NvA/AAAAAAAAAAAhgcqQh/HZPwAAAAAAAAAAIYHKkIfx2T8=\",\"dtype\":\"float64\",\"order\":\"little\",\"shape\":[10]},\"__x__values\":[\"1\\u66b4\\u9732\\u5ca9\\u5cb8\",\"2\\u66b4\\u9732\\u4eba\\u9020\\u7d50\\u69cb\\u7269\",\"3\\u66b4\\u9732\\u5ca9\\u76e4\",\"4\\u6c99\\u7058\",\"5\\u7802\\u792b\\u6df7\\u5408\\u7058\",\"6\\u792b\\u77f3\\u7058\",\"7\\u958b\\u95ca\\u6f6e\\u9593\\u5e36\",\"8\\u906e\\u853d\\u5ca9\\u5cb8\",\"9\\u906e\\u853d\\u6f6e\\u9593\\u5e36\",\"10\\u906e\\u853d\\u6fd5\\u5730\"],\"__x__values_original\":[\"1\\u66b4\\u9732\\u5ca9\\u5cb8\",\"2\\u66b4\\u9732\\u4eba\\u9020\\u7d50\\u69cb\\u7269\",\"3\\u66b4\\u9732\\u5ca9\\u76e4\",\"4\\u6c99\\u7058\",\"5\\u7802\\u792b\\u6df7\\u5408\\u7058\",\"6\\u792b\\u77f3\\u7058\",\"7\\u958b\\u95ca\\u6f6e\\u9593\\u5e36\",\"8\\u906e\\u853d\\u5ca9\\u5cb8\",\"9\\u906e\\u853d\\u6f6e\\u9593\\u5e36\",\"10\\u906e\\u853d\\u6fd5\\u5730\"],\"color\":[\"#1f77b4\",\"#ff7f0e\",\"#2ca02c\",\"#d62728\",\"#9467bd\",\"#8c564b\",\"#e377c2\",\"#7f7f7f\",\"#bcbd22\",\"#17becf\"],\"inner_radius\":[0.1,0.1,0.1,0.1,0.1,0.1,0.1,0.1,0.1,0.1],\"outer_radius\":[0.19,0.19,0.19,0.19,0.19,0.19,0.19,0.19,0.19,0.19]},\"selected\":{\"id\":\"2718\"},\"selection_policy\":{\"id\":\"2717\"}},\"id\":\"2634\",\"type\":\"ColumnDataSource\"},{\"attributes\":{\"text_alpha\":{\"value\":0.1},\"text_color\":{\"value\":\"black\"},\"text_font_style\":{\"value\":\"bold\"},\"x\":{\"field\":\"__x__values\"},\"y\":{\"field\":\"y\"}},\"id\":\"2730\",\"type\":\"Text\"},{\"attributes\":{\"field\":\"6_angle\",\"include_zero\":true},\"id\":\"2548\",\"type\":\"CumSum\"},{\"attributes\":{\"field\":\"6_angle\"},\"id\":\"2549\",\"type\":\"CumSum\"},{\"attributes\":{\"field\":\"2_angle\",\"include_zero\":true},\"id\":\"2632\",\"type\":\"CumSum\"},{\"attributes\":{\"field\":\"2_angle\"},\"id\":\"2633\",\"type\":\"CumSum\"},{\"attributes\":{\"end_angle\":{\"expr\":{\"id\":\"2549\"}},\"fill_alpha\":{\"value\":0.1},\"fill_color\":{\"field\":\"color\"},\"inner_radius\":{\"field\":\"inner_radius\"},\"line_alpha\":{\"value\":0.1},\"line_color\":{\"value\":\"white\"},\"line_width\":{\"value\":2},\"outer_radius\":{\"field\":\"outer_radius\"},\"start_angle\":{\"expr\":{\"id\":\"2548\"}},\"x\":{\"value\":0},\"y\":{\"value\":0}},\"id\":\"2553\",\"type\":\"AnnularWedge\"},{\"attributes\":{\"text_alpha\":{\"value\":0.1},\"text_color\":{\"value\":\"black\"},\"text_font_style\":{\"value\":\"bold\"},\"x\":{\"field\":\"__x__values\"},\"y\":{\"field\":\"y\"}},\"id\":\"2559\",\"type\":\"Text\"},{\"attributes\":{\"end_angle\":{\"expr\":{\"id\":\"2633\"}},\"fill_alpha\":{\"value\":0.1},\"fill_color\":{\"field\":\"color\"},\"inner_radius\":{\"field\":\"inner_radius\"},\"line_alpha\":{\"value\":0.1},\"line_color\":{\"value\":\"white\"},\"line_width\":{\"value\":2},\"outer_radius\":{\"field\":\"outer_radius\"},\"start_angle\":{\"expr\":{\"id\":\"2632\"}},\"x\":{\"value\":0},\"y\":{\"value\":0}},\"id\":\"2637\",\"type\":\"AnnularWedge\"},{\"attributes\":{\"callback\":null,\"renderers\":[{\"id\":\"2596\"}],\"tooltips\":[[\"x\",\"@__x__values_original\"],[\"4\",\"@{4}\"]]},\"id\":\"2609\",\"type\":\"HoverTool\"},{\"attributes\":{\"text_alpha\":{\"value\":0.1},\"text_color\":{\"value\":\"black\"},\"text_font_style\":{\"value\":\"bold\"},\"x\":{\"field\":\"__x__values\"},\"y\":{\"field\":\"y\"}},\"id\":\"2643\",\"type\":\"Text\"},{\"attributes\":{\"text_color\":{\"value\":\"black\"},\"text_font_style\":{\"value\":\"bold\"},\"x\":{\"field\":\"__x__values\"},\"y\":{\"field\":\"y\"}},\"id\":\"2729\",\"type\":\"Text\"},{\"attributes\":{\"source\":{\"id\":\"2604\"}},\"id\":\"2608\",\"type\":\"CDSView\"},{\"attributes\":{\"data_source\":{\"id\":\"2550\"},\"glyph\":{\"id\":\"2552\"},\"hover_glyph\":null,\"muted_glyph\":null,\"nonselection_glyph\":{\"id\":\"2553\"},\"view\":{\"id\":\"2555\"}},\"id\":\"2554\",\"type\":\"GlyphRenderer\"},{\"attributes\":{\"data_source\":{\"id\":\"2727\"},\"glyph\":{\"id\":\"2729\"},\"hover_glyph\":null,\"muted_glyph\":null,\"nonselection_glyph\":{\"id\":\"2730\"},\"view\":{\"id\":\"2732\"}},\"id\":\"2731\",\"type\":\"GlyphRenderer\"},{\"attributes\":{},\"id\":\"2663\",\"type\":\"AllLabels\"},{\"attributes\":{\"data_source\":{\"id\":\"2634\"},\"glyph\":{\"id\":\"2636\"},\"hover_glyph\":null,\"muted_glyph\":null,\"nonselection_glyph\":{\"id\":\"2637\"},\"view\":{\"id\":\"2639\"}},\"id\":\"2638\",\"type\":\"GlyphRenderer\"},{\"attributes\":{},\"id\":\"2681\",\"type\":\"UnionRenderers\"},{\"attributes\":{\"x\":{\"field\":\"x\"},\"y\":{\"field\":\"y\"}},\"id\":\"2734\",\"type\":\"Line\"},{\"attributes\":{\"data\":{\"__x__values\":[-1.4000000000000001],\"text\":[\"6\"],\"y\":[-1.0]},\"selected\":{\"id\":\"2696\"},\"selection_policy\":{\"id\":\"2695\"}},\"id\":\"2556\",\"type\":\"ColumnDataSource\"},{\"attributes\":{\"source\":{\"id\":\"2727\"}},\"id\":\"2732\",\"type\":\"CDSView\"},{\"attributes\":{\"text_color\":{\"value\":\"black\"},\"text_font_style\":{\"value\":\"bold\"},\"x\":{\"field\":\"__x__values\"},\"y\":{\"field\":\"y\"}},\"id\":\"2558\",\"type\":\"Text\"},{\"attributes\":{\"data\":{\"__x__values\":[-1.4000000000000001],\"text\":[\"2\"],\"y\":[0.2]},\"selected\":{\"id\":\"2720\"},\"selection_policy\":{\"id\":\"2719\"}},\"id\":\"2640\",\"type\":\"ColumnDataSource\"},{\"attributes\":{\"source\":{\"id\":\"2733\"}},\"id\":\"2737\",\"type\":\"CDSView\"},{\"attributes\":{\"data_source\":{\"id\":\"2556\"},\"glyph\":{\"id\":\"2558\"},\"hover_glyph\":null,\"muted_glyph\":null,\"nonselection_glyph\":{\"id\":\"2559\"},\"view\":{\"id\":\"2561\"}},\"id\":\"2560\",\"type\":\"GlyphRenderer\"},{\"attributes\":{\"text_color\":{\"value\":\"black\"},\"text_font_style\":{\"value\":\"bold\"},\"x\":{\"field\":\"__x__values\"},\"y\":{\"field\":\"y\"}},\"id\":\"2642\",\"type\":\"Text\"},{\"attributes\":{\"data\":{\"x\":[-1.34,0],\"y\":[0.5,-0.045]},\"selected\":{\"id\":\"2857\"},\"selection_policy\":{\"id\":\"2856\"}},\"id\":\"2733\",\"type\":\"ColumnDataSource\"},{\"attributes\":{\"data_source\":{\"id\":\"2640\"},\"glyph\":{\"id\":\"2642\"},\"hover_glyph\":null,\"muted_glyph\":null,\"nonselection_glyph\":{\"id\":\"2643\"},\"view\":{\"id\":\"2645\"}},\"id\":\"2644\",\"type\":\"GlyphRenderer\"},{\"attributes\":{\"callback\":null,\"renderers\":[{\"id\":\"2659\"}],\"tooltips\":[[\"x\",\"@__x__values_original\"],[\"1\",\"@{1}\"]]},\"id\":\"2738\",\"type\":\"HoverTool\"},{\"attributes\":{},\"id\":\"2713\",\"type\":\"UnionRenderers\"},{\"attributes\":{\"data_source\":{\"id\":\"2733\"},\"glyph\":{\"id\":\"2734\"},\"hover_glyph\":null,\"muted_glyph\":null,\"nonselection_glyph\":{\"id\":\"2735\"},\"view\":{\"id\":\"2737\"}},\"id\":\"2736\",\"type\":\"GlyphRenderer\"},{\"attributes\":{\"x\":{\"field\":\"x\"},\"y\":{\"field\":\"y\"}},\"id\":\"2563\",\"type\":\"Line\"},{\"attributes\":{},\"id\":\"2714\",\"type\":\"Selection\"},{\"attributes\":{\"source\":{\"id\":\"2556\"}},\"id\":\"2561\",\"type\":\"CDSView\"},{\"attributes\":{\"x\":{\"field\":\"x\"},\"y\":{\"field\":\"y\"}},\"id\":\"2647\",\"type\":\"Line\"},{\"attributes\":{\"source\":{\"id\":\"2562\"}},\"id\":\"2566\",\"type\":\"CDSView\"},{\"attributes\":{\"source\":{\"id\":\"2640\"}},\"id\":\"2645\",\"type\":\"CDSView\"},{\"attributes\":{},\"id\":\"2450\",\"type\":\"PanTool\"},{\"attributes\":{\"data\":{\"x\":[-1.34,0],\"y\":[-1.0,-0.545]},\"selected\":{\"id\":\"2698\"},\"selection_policy\":{\"id\":\"2697\"}},\"id\":\"2562\",\"type\":\"ColumnDataSource\"},{\"attributes\":{\"source\":{\"id\":\"2646\"}},\"id\":\"2650\",\"type\":\"CDSView\"},{\"attributes\":{\"ticks\":[0,1,2,3,4,5,6,7,8,9]},\"id\":\"2740\",\"type\":\"FixedTicker\"},{\"attributes\":{\"callback\":null,\"renderers\":[{\"id\":\"2554\"}],\"tooltips\":[[\"x\",\"@__x__values_original\"],[\"6\",\"@{6}\"]]},\"id\":\"2567\",\"type\":\"HoverTool\"},{\"attributes\":{\"data\":{\"x\":[-1.34,0],\"y\":[0.2,-0.14500000000000002]},\"selected\":{\"id\":\"2722\"},\"selection_policy\":{\"id\":\"2721\"}},\"id\":\"2646\",\"type\":\"ColumnDataSource\"},{\"attributes\":{\"data_source\":{\"id\":\"2562\"},\"glyph\":{\"id\":\"2563\"},\"hover_glyph\":null,\"muted_glyph\":null,\"nonselection_glyph\":{\"id\":\"2564\"},\"view\":{\"id\":\"2566\"}},\"id\":\"2565\",\"type\":\"GlyphRenderer\"},{\"attributes\":{\"callback\":null,\"renderers\":[{\"id\":\"2638\"}],\"tooltips\":[[\"x\",\"@__x__values_original\"],[\"2\",\"@{2}\"]]},\"id\":\"2651\",\"type\":\"HoverTool\"},{\"attributes\":{\"line_alpha\":0.1,\"x\":{\"field\":\"x\"},\"y\":{\"field\":\"y\"}},\"id\":\"2735\",\"type\":\"Line\"},{\"attributes\":{\"data_source\":{\"id\":\"2646\"},\"glyph\":{\"id\":\"2647\"},\"hover_glyph\":null,\"muted_glyph\":null,\"nonselection_glyph\":{\"id\":\"2648\"},\"view\":{\"id\":\"2650\"}},\"id\":\"2649\",\"type\":\"GlyphRenderer\"},{\"attributes\":{\"source\":{\"id\":\"2571\"}},\"id\":\"2576\",\"type\":\"CDSView\"},{\"attributes\":{},\"id\":\"2679\",\"type\":\"UnionRenderers\"},{\"attributes\":{\"end_angle\":{\"expr\":{\"id\":\"2570\"}},\"fill_color\":{\"field\":\"color\"},\"inner_radius\":{\"field\":\"inner_radius\"},\"line_color\":{\"value\":\"white\"},\"line_width\":{\"value\":2},\"outer_radius\":{\"field\":\"outer_radius\"},\"start_angle\":{\"expr\":{\"id\":\"2569\"}},\"x\":{\"value\":0},\"y\":{\"value\":0}},\"id\":\"2573\",\"type\":\"AnnularWedge\"},{\"attributes\":{\"end_angle\":{\"expr\":{\"id\":\"2654\"}},\"fill_alpha\":{\"value\":0.1},\"fill_color\":{\"field\":\"color\"},\"inner_radius\":{\"field\":\"inner_radius\"},\"line_alpha\":{\"value\":0.1},\"line_color\":{\"value\":\"white\"},\"line_width\":{\"value\":2},\"outer_radius\":{\"field\":\"outer_radius\"},\"start_angle\":{\"expr\":{\"id\":\"2653\"}},\"x\":{\"value\":0},\"y\":{\"value\":0}},\"id\":\"2658\",\"type\":\"AnnularWedge\"},{\"attributes\":{\"label\":{\"field\":\"__x__values_original\"},\"renderers\":[{\"id\":\"2659\"}]},\"id\":\"2726\",\"type\":\"LegendItem\"},{\"attributes\":{\"line_alpha\":0.1,\"x\":{\"field\":\"x\"},\"y\":{\"field\":\"y\"}},\"id\":\"2564\",\"type\":\"Line\"},{\"attributes\":{\"line_alpha\":0.1,\"x\":{\"field\":\"x\"},\"y\":{\"field\":\"y\"}},\"id\":\"2606\",\"type\":\"Line\"},{\"attributes\":{\"line_alpha\":0.1,\"x\":{\"field\":\"x\"},\"y\":{\"field\":\"y\"}},\"id\":\"2648\",\"type\":\"Line\"},{\"attributes\":{\"data\":{\"1\":{\"__ndarray__\":\"AAAAAAAA8D8AAAAAAAAIQAAAAAAAAABAAAAAAAAAEEAAAAAAAAAcQAAAAAAAAABAAAAAAAAA8D8AAAAAAAAAAAAAAAAAAAAAAAAAAAAAAAA=\",\"dtype\":\"float64\",\"order\":\"little\",\"shape\":[10]},\"10\":{\"__ndarray__\":\"AAAAAAAAAAAAAAAAAAAUQAAAAAAAAPA/AAAAAAAAEEAAAAAAAAAAAAAAAAAAAAhAAAAAAAAAAEAAAAAAAADwPwAAAAAAAAAAAAAAAAAA8D8=\",\"dtype\":\"float64\",\"order\":\"little\",\"shape\":[10]},\"10_angle\":{\"__ndarray__\":\"AAAAAAAAAABoj6rqY5H9P1MMIiKDp9c/UwwiIoOn9z8AAAAAAAAAAD6JmVmivfE/UwwiIoOn5z9TDCIig6fXPwAAAAAAAAAAUwwiIoOn1z8=\",\"dtype\":\"float64\",\"order\":\"little\",\"shape\":[10]},\"1_angle\":{\"__ndarray__\":\"4PCcdi8b1D9QaesxxyjuP+DwnHYvG+Q/4PCcdi8b9D/EUsmHyZcBQODwnHYvG+Q/4PCcdi8b1D8AAAAAAAAAAAAAAAAAAAAAAAAAAAAAAAA=\",\"dtype\":\"float64\",\"order\":\"little\",\"shape\":[10]},\"2\":{\"__ndarray__\":\"AAAAAAAAGEAAAAAAAAAYQAAAAAAAAAhAAAAAAAAAN0AAAAAAAAAzQAAAAAAAACRAAAAAAAAACEAAAAAAAAAAQAAAAAAAAAAAAAAAAAAAAAA=\",\"dtype\":\"float64\",\"order\":\"little\",\"shape\":[10]},\"2_angle\":{\"__ndarray__\":\"ZXMtOFLB4D9lcy04UsHgP2VzLThSwdA/QTnWdZkOAEBhofLYbIf6P6kVoV3e7Os/ZXMtOFLB0D+HROdKGFfGPwAAAAAAAAAAAAAAAAAAAAA=\",\"dtype\":\"float64\",\"order\":\"little\",\"shape\":[10]},\"3\":{\"__ndarray__\":\"AAAAAAAAFEAAAAAAAAAUQAAAAAAAABRAAAAAAAAAMkAAAAAAAAAUQAAAAAAAACBAAAAAAAAAFEAAAAAAAAAAAAAAAAAAAAAAAAAAAAAAAAA=\",\"dtype\":\"float64\",\"order\":\"little\",\"shape\":[10]},\"3_angle\":{\"__ndarray__\":\"8LRxnEK24z/wtHGcQrbjP/C0cZxCtuM/PomZWaK9AUDwtHGcQrbjPxm7gi0Eiu8/8LRxnEK24z8AAAAAAAAAAAAAAAAAAAAAAAAAAAAAAAA=\",\"dtype\":\"float64\",\"order\":\"little\",\"shape\":[10]},\"4\":{\"__ndarray__\":\"AAAAAAAAAEAAAAAAAAAgQAAAAAAAAPA/AAAAAAAALEAAAAAAAAAgQAAAAAAAABRAAAAAAAAACEAAAAAAAAAAQAAAAAAAAAAAAAAAAAAAAAA=\",\"dtype\":\"float64\",\"order\":\"little\",\"shape\":[10]},\"4_angle\":{\"__ndarray__\":\"pxWGVhS00j+nFYZWFLTyP6cVhlYUtMI/8lK1y5FdAECnFYZWFLTyPxCbJ2wZYec/eiDJgR4O3D+nFYZWFLTSPwAAAAAAAAAAAAAAAAAAAAA=\",\"dtype\":\"float64\",\"order\":\"little\",\"shape\":[10]},\"5\":{\"__ndarray__\":\"AAAAAAAAFEAAAAAAAAAiQAAAAAAAABRAAAAAAAAAN0AAAAAAAAAqQAAAAAAAACJAAAAAAAAACEAAAAAAAAAAAAAAAAAAAABAAAAAAAAAAAA=\",\"dtype\":\"float64\",\"order\":\"little\",\"shape\":[10]},\"5_angle\":{\"__ndarray__\":\"/jezYbAj3T/LGO5XuDnqP/43s2GwI90/ZXMtOFLBAEDMSoE/zPDyP8sY7le4Oeo/MrueOtB70T8AAAAAAAAAAJj5KE7AT8c/AAAAAAAAAAA=\",\"dtype\":\"float64\",\"order\":\"little\",\"shape\":[10]},\"6\":{\"__ndarray__\":\"AAAAAAAAAEAAAAAAAAA3QAAAAAAAABBAAAAAAAAAOUAAAAAAAAAmQAAAAAAAACZAAAAAAAAAGEAAAAAAAAAQQAAAAAAAAPA/AAAAAAAAAAA=\",\"dtype\":\"float64\",\"order\":\"little\",\"shape\":[10]},\"6_angle\":{\"__ndarray__\":\"kwzRRgt9wj8Ugsw1wJP6P5MM0UYLfdI/paOmnmHj/D9LcV+B72vpP0txX4Hva+k/3ZI56pC72z+TDNFGC33SP5MM0UYLfbI/AAAAAAAAAAA=\",\"dtype\":\"float64\",\"order\":\"little\",\"shape\":[10]},\"7\":{\"__ndarray__\":\"AAAAAAAAFEAAAAAAAAAzQAAAAAAAAAhAAAAAAAAAOEAAAAAAAAAUQAAAAAAAAChAAAAAAAAAGEAAAAAAAAAQQAAAAAAAAPA/AAAAAAAA8D8=\",\"dtype\":\"float64\",\"order\":\"little\",\"shape\":[10]},\"7_angle\":{\"__ndarray__\":\"GC1EVPsh2T8KXtpcSOD3P1Bp6zHHKM4/UGnrMcco/j8YLURU+yHZP1Bp6zHHKO4/UGnrMcco3j/g8Jx2LxvUP+DwnHYvG7Q/4PCcdi8btD8=\",\"dtype\":\"float64\",\"order\":\"little\",\"shape\":[10]},\"8\":{\"__ndarray__\":\"AAAAAAAACEAAAAAAAAAqQAAAAAAAABBAAAAAAAAAKEAAAAAAAAAAAAAAAAAAADBAAAAAAAAAAEAAAAAAAAAQQAAAAAAAAAAAAAAAAAAAAAA=\",\"dtype\":\"float64\",\"order\":\"little\",\"shape\":[10]},\"8_angle\":{\"__ndarray__\":\"h0TnShhX1j89inqmrzP4P15bNLl1yd0/h0TnShhX9j8AAAAAAAAAAF5bNLl1yf0/Xls0uXXJzT9eWzS5dcndPwAAAAAAAAAAAAAAAAAAAAA=\",\"dtype\":\"float64\",\"order\":\"little\",\"shape\":[10]},\"9\":{\"__ndarray__\":\"AAAAAAAAAAAAAAAAAAAcQAAAAAAAAABAAAAAAAAAJEAAAAAAAAAIQAAAAAAAABRAAAAAAAAAAAAAAAAAAAAAQAAAAAAAAAAAAAAAAAAAAEA=\",\"dtype\":\"float64\",\"order\":\"little\",\"shape\":[10]},\"9_angle\":{\"__ndarray__\":\"AAAAAAAAAAD9MLGeVrP2PyGBypCH8dk/tZB+uvQ2AEDZ4JesJXXjP7WQfrr0NvA/AAAAAAAAAAAhgcqQh/HZPwAAAAAAAAAAIYHKkIfx2T8=\",\"dtype\":\"float64\",\"order\":\"little\",\"shape\":[10]},\"__x__values\":[\"1\\u66b4\\u9732\\u5ca9\\u5cb8\",\"2\\u66b4\\u9732\\u4eba\\u9020\\u7d50\\u69cb\\u7269\",\"3\\u66b4\\u9732\\u5ca9\\u76e4\",\"4\\u6c99\\u7058\",\"5\\u7802\\u792b\\u6df7\\u5408\\u7058\",\"6\\u792b\\u77f3\\u7058\",\"7\\u958b\\u95ca\\u6f6e\\u9593\\u5e36\",\"8\\u906e\\u853d\\u5ca9\\u5cb8\",\"9\\u906e\\u853d\\u6f6e\\u9593\\u5e36\",\"10\\u906e\\u853d\\u6fd5\\u5730\"],\"__x__values_original\":[\"1\\u66b4\\u9732\\u5ca9\\u5cb8\",\"2\\u66b4\\u9732\\u4eba\\u9020\\u7d50\\u69cb\\u7269\",\"3\\u66b4\\u9732\\u5ca9\\u76e4\",\"4\\u6c99\\u7058\",\"5\\u7802\\u792b\\u6df7\\u5408\\u7058\",\"6\\u792b\\u77f3\\u7058\",\"7\\u958b\\u95ca\\u6f6e\\u9593\\u5e36\",\"8\\u906e\\u853d\\u5ca9\\u5cb8\",\"9\\u906e\\u853d\\u6f6e\\u9593\\u5e36\",\"10\\u906e\\u853d\\u6fd5\\u5730\"],\"color\":[\"#1f77b4\",\"#ff7f0e\",\"#2ca02c\",\"#d62728\",\"#9467bd\",\"#8c564b\",\"#e377c2\",\"#7f7f7f\",\"#bcbd22\",\"#17becf\"],\"inner_radius\":[0.4,0.4,0.4,0.4,0.4,0.4,0.4,0.4,0.4,0.4],\"outer_radius\":[0.49000000000000005,0.49000000000000005,0.49000000000000005,0.49000000000000005,0.49000000000000005,0.49000000000000005,0.49000000000000005,0.49000000000000005,0.49000000000000005,0.49000000000000005]},\"selected\":{\"id\":\"2700\"},\"selection_policy\":{\"id\":\"2699\"}},\"id\":\"2571\",\"type\":\"ColumnDataSource\"},{\"attributes\":{\"data_source\":{\"id\":\"2655\"},\"glyph\":{\"id\":\"2657\"},\"hover_glyph\":null,\"muted_glyph\":null,\"nonselection_glyph\":{\"id\":\"2658\"},\"view\":{\"id\":\"2660\"}},\"id\":\"2659\",\"type\":\"GlyphRenderer\"},{\"attributes\":{\"field\":\"5_angle\",\"include_zero\":true},\"id\":\"2569\",\"type\":\"CumSum\"},{\"attributes\":{\"field\":\"5_angle\"},\"id\":\"2570\",\"type\":\"CumSum\"},{\"attributes\":{},\"id\":\"2715\",\"type\":\"UnionRenderers\"},{\"attributes\":{\"source\":{\"id\":\"2655\"}},\"id\":\"2660\",\"type\":\"CDSView\"},{\"attributes\":{},\"id\":\"2682\",\"type\":\"Selection\"},{\"attributes\":{\"end_angle\":{\"expr\":{\"id\":\"2570\"}},\"fill_alpha\":{\"value\":0.1},\"fill_color\":{\"field\":\"color\"},\"inner_radius\":{\"field\":\"inner_radius\"},\"line_alpha\":{\"value\":0.1},\"line_color\":{\"value\":\"white\"},\"line_width\":{\"value\":2},\"outer_radius\":{\"field\":\"outer_radius\"},\"start_angle\":{\"expr\":{\"id\":\"2569\"}},\"x\":{\"value\":0},\"y\":{\"value\":0}},\"id\":\"2574\",\"type\":\"AnnularWedge\"},{\"attributes\":{},\"id\":\"2716\",\"type\":\"Selection\"},{\"attributes\":{\"text_alpha\":{\"value\":0.1},\"text_color\":{\"value\":\"black\"},\"text_font_style\":{\"value\":\"bold\"},\"x\":{\"field\":\"__x__values\"},\"y\":{\"field\":\"y\"}},\"id\":\"2580\",\"type\":\"Text\"},{\"attributes\":{\"items\":[{\"id\":\"2726\"}]},\"id\":\"2725\",\"type\":\"Legend\"},{\"attributes\":{\"end_angle\":{\"expr\":{\"id\":\"2612\"}},\"fill_color\":{\"field\":\"color\"},\"inner_radius\":{\"field\":\"inner_radius\"},\"line_color\":{\"value\":\"white\"},\"line_width\":{\"value\":2},\"outer_radius\":{\"field\":\"outer_radius\"},\"start_angle\":{\"expr\":{\"id\":\"2611\"}},\"x\":{\"value\":0},\"y\":{\"value\":0}},\"id\":\"2615\",\"type\":\"AnnularWedge\"},{\"attributes\":{\"data_source\":{\"id\":\"2604\"},\"glyph\":{\"id\":\"2605\"},\"hover_glyph\":null,\"muted_glyph\":null,\"nonselection_glyph\":{\"id\":\"2606\"},\"view\":{\"id\":\"2608\"}},\"id\":\"2607\",\"type\":\"GlyphRenderer\"},{\"attributes\":{\"data_source\":{\"id\":\"2571\"},\"glyph\":{\"id\":\"2573\"},\"hover_glyph\":null,\"muted_glyph\":null,\"nonselection_glyph\":{\"id\":\"2574\"},\"view\":{\"id\":\"2576\"}},\"id\":\"2575\",\"type\":\"GlyphRenderer\"},{\"attributes\":{\"overlay\":{\"id\":\"2456\"}},\"id\":\"2452\",\"type\":\"BoxZoomTool\"},{\"attributes\":{},\"id\":\"2664\",\"type\":\"BasicTickFormatter\"},{\"attributes\":{\"data\":{\"__x__values\":[-1.4000000000000001],\"text\":[\"5\"],\"y\":[-0.7]},\"selected\":{\"id\":\"2702\"},\"selection_policy\":{\"id\":\"2701\"}},\"id\":\"2577\",\"type\":\"ColumnDataSource\"},{\"attributes\":{\"text_color\":{\"value\":\"black\"},\"text_font_style\":{\"value\":\"bold\"},\"x\":{\"field\":\"__x__values\"},\"y\":{\"field\":\"y\"}},\"id\":\"2579\",\"type\":\"Text\"},{\"attributes\":{\"data_source\":{\"id\":\"2577\"},\"glyph\":{\"id\":\"2579\"},\"hover_glyph\":null,\"muted_glyph\":null,\"nonselection_glyph\":{\"id\":\"2580\"},\"view\":{\"id\":\"2582\"}},\"id\":\"2581\",\"type\":\"GlyphRenderer\"},{\"attributes\":{\"x\":{\"field\":\"x\"},\"y\":{\"field\":\"y\"}},\"id\":\"2584\",\"type\":\"Line\"},{\"attributes\":{\"source\":{\"id\":\"2577\"}},\"id\":\"2582\",\"type\":\"CDSView\"},{\"attributes\":{\"source\":{\"id\":\"2583\"}},\"id\":\"2587\",\"type\":\"CDSView\"},{\"attributes\":{},\"id\":\"2453\",\"type\":\"SaveTool\"},{\"attributes\":{\"data\":{\"x\":[-1.34,0],\"y\":[-0.7,-0.44500000000000006]},\"selected\":{\"id\":\"2704\"},\"selection_policy\":{\"id\":\"2703\"}},\"id\":\"2583\",\"type\":\"ColumnDataSource\"},{\"attributes\":{\"callback\":null,\"renderers\":[{\"id\":\"2575\"}],\"tooltips\":[[\"x\",\"@__x__values_original\"],[\"5\",\"@{5}\"]]},\"id\":\"2588\",\"type\":\"HoverTool\"},{\"attributes\":{},\"id\":\"2717\",\"type\":\"UnionRenderers\"},{\"attributes\":{},\"id\":\"2718\",\"type\":\"Selection\"},{\"attributes\":{\"data_source\":{\"id\":\"2583\"},\"glyph\":{\"id\":\"2584\"},\"hover_glyph\":null,\"muted_glyph\":null,\"nonselection_glyph\":{\"id\":\"2585\"},\"view\":{\"id\":\"2587\"}},\"id\":\"2586\",\"type\":\"GlyphRenderer\"},{\"attributes\":{},\"id\":\"2854\",\"type\":\"UnionRenderers\"},{\"attributes\":{},\"id\":\"2855\",\"type\":\"Selection\"},{\"attributes\":{\"x\":{\"field\":\"x\"},\"y\":{\"field\":\"y\"}},\"id\":\"2605\",\"type\":\"Line\"},{\"attributes\":{\"end_angle\":{\"expr\":{\"id\":\"2591\"}},\"fill_color\":{\"field\":\"color\"},\"inner_radius\":{\"field\":\"inner_radius\"},\"line_color\":{\"value\":\"white\"},\"line_width\":{\"value\":2},\"outer_radius\":{\"field\":\"outer_radius\"},\"start_angle\":{\"expr\":{\"id\":\"2590\"}},\"x\":{\"value\":0},\"y\":{\"value\":0}},\"id\":\"2594\",\"type\":\"AnnularWedge\"},{\"attributes\":{\"line_alpha\":0.1,\"x\":{\"field\":\"x\"},\"y\":{\"field\":\"y\"}},\"id\":\"2585\",\"type\":\"Line\"},{\"attributes\":{},\"id\":\"2685\",\"type\":\"UnionRenderers\"},{\"attributes\":{\"data_source\":{\"id\":\"2592\"},\"glyph\":{\"id\":\"2594\"},\"hover_glyph\":null,\"muted_glyph\":null,\"nonselection_glyph\":{\"id\":\"2595\"},\"view\":{\"id\":\"2597\"}},\"id\":\"2596\",\"type\":\"GlyphRenderer\"},{\"attributes\":{},\"id\":\"2451\",\"type\":\"WheelZoomTool\"},{\"attributes\":{\"data\":{\"1\":{\"__ndarray__\":\"AAAAAAAA8D8AAAAAAAAIQAAAAAAAAABAAAAAAAAAEEAAAAAAAAAcQAAAAAAAAABAAAAAAAAA8D8AAAAAAAAAAAAAAAAAAAAAAAAAAAAAAAA=\",\"dtype\":\"float64\",\"order\":\"little\",\"shape\":[10]},\"10\":{\"__ndarray__\":\"AAAAAAAAAAAAAAAAAAAUQAAAAAAAAPA/AAAAAAAAEEAAAAAAAAAAAAAAAAAAAAhAAAAAAAAAAEAAAAAAAADwPwAAAAAAAAAAAAAAAAAA8D8=\",\"dtype\":\"float64\",\"order\":\"little\",\"shape\":[10]},\"10_angle\":{\"__ndarray__\":\"AAAAAAAAAABoj6rqY5H9P1MMIiKDp9c/UwwiIoOn9z8AAAAAAAAAAD6JmVmivfE/UwwiIoOn5z9TDCIig6fXPwAAAAAAAAAAUwwiIoOn1z8=\",\"dtype\":\"float64\",\"order\":\"little\",\"shape\":[10]},\"1_angle\":{\"__ndarray__\":\"4PCcdi8b1D9QaesxxyjuP+DwnHYvG+Q/4PCcdi8b9D/EUsmHyZcBQODwnHYvG+Q/4PCcdi8b1D8AAAAAAAAAAAAAAAAAAAAAAAAAAAAAAAA=\",\"dtype\":\"float64\",\"order\":\"little\",\"shape\":[10]},\"2\":{\"__ndarray__\":\"AAAAAAAAGEAAAAAAAAAYQAAAAAAAAAhAAAAAAAAAN0AAAAAAAAAzQAAAAAAAACRAAAAAAAAACEAAAAAAAAAAQAAAAAAAAAAAAAAAAAAAAAA=\",\"dtype\":\"float64\",\"order\":\"little\",\"shape\":[10]},\"2_angle\":{\"__ndarray__\":\"ZXMtOFLB4D9lcy04UsHgP2VzLThSwdA/QTnWdZkOAEBhofLYbIf6P6kVoV3e7Os/ZXMtOFLB0D+HROdKGFfGPwAAAAAAAAAAAAAAAAAAAAA=\",\"dtype\":\"float64\",\"order\":\"little\",\"shape\":[10]},\"3\":{\"__ndarray__\":\"AAAAAAAAFEAAAAAAAAAUQAAAAAAAABRAAAAAAAAAMkAAAAAAAAAUQAAAAAAAACBAAAAAAAAAFEAAAAAAAAAAAAAAAAAAAAAAAAAAAAAAAAA=\",\"dtype\":\"float64\",\"order\":\"little\",\"shape\":[10]},\"3_angle\":{\"__ndarray__\":\"8LRxnEK24z/wtHGcQrbjP/C0cZxCtuM/PomZWaK9AUDwtHGcQrbjPxm7gi0Eiu8/8LRxnEK24z8AAAAAAAAAAAAAAAAAAAAAAAAAAAAAAAA=\",\"dtype\":\"float64\",\"order\":\"little\",\"shape\":[10]},\"4\":{\"__ndarray__\":\"AAAAAAAAAEAAAAAAAAAgQAAAAAAAAPA/AAAAAAAALEAAAAAAAAAgQAAAAAAAABRAAAAAAAAACEAAAAAAAAAAQAAAAAAAAAAAAAAAAAAAAAA=\",\"dtype\":\"float64\",\"order\":\"little\",\"shape\":[10]},\"4_angle\":{\"__ndarray__\":\"pxWGVhS00j+nFYZWFLTyP6cVhlYUtMI/8lK1y5FdAECnFYZWFLTyPxCbJ2wZYec/eiDJgR4O3D+nFYZWFLTSPwAAAAAAAAAAAAAAAAAAAAA=\",\"dtype\":\"float64\",\"order\":\"little\",\"shape\":[10]},\"5\":{\"__ndarray__\":\"AAAAAAAAFEAAAAAAAAAiQAAAAAAAABRAAAAAAAAAN0AAAAAAAAAqQAAAAAAAACJAAAAAAAAACEAAAAAAAAAAAAAAAAAAAABAAAAAAAAAAAA=\",\"dtype\":\"float64\",\"order\":\"little\",\"shape\":[10]},\"5_angle\":{\"__ndarray__\":\"/jezYbAj3T/LGO5XuDnqP/43s2GwI90/ZXMtOFLBAEDMSoE/zPDyP8sY7le4Oeo/MrueOtB70T8AAAAAAAAAAJj5KE7AT8c/AAAAAAAAAAA=\",\"dtype\":\"float64\",\"order\":\"little\",\"shape\":[10]},\"6\":{\"__ndarray__\":\"AAAAAAAAAEAAAAAAAAA3QAAAAAAAABBAAAAAAAAAOUAAAAAAAAAmQAAAAAAAACZAAAAAAAAAGEAAAAAAAAAQQAAAAAAAAPA/AAAAAAAAAAA=\",\"dtype\":\"float64\",\"order\":\"little\",\"shape\":[10]},\"6_angle\":{\"__ndarray__\":\"kwzRRgt9wj8Ugsw1wJP6P5MM0UYLfdI/paOmnmHj/D9LcV+B72vpP0txX4Hva+k/3ZI56pC72z+TDNFGC33SP5MM0UYLfbI/AAAAAAAAAAA=\",\"dtype\":\"float64\",\"order\":\"little\",\"shape\":[10]},\"7\":{\"__ndarray__\":\"AAAAAAAAFEAAAAAAAAAzQAAAAAAAAAhAAAAAAAAAOEAAAAAAAAAUQAAAAAAAAChAAAAAAAAAGEAAAAAAAAAQQAAAAAAAAPA/AAAAAAAA8D8=\",\"dtype\":\"float64\",\"order\":\"little\",\"shape\":[10]},\"7_angle\":{\"__ndarray__\":\"GC1EVPsh2T8KXtpcSOD3P1Bp6zHHKM4/UGnrMcco/j8YLURU+yHZP1Bp6zHHKO4/UGnrMcco3j/g8Jx2LxvUP+DwnHYvG7Q/4PCcdi8btD8=\",\"dtype\":\"float64\",\"order\":\"little\",\"shape\":[10]},\"8\":{\"__ndarray__\":\"AAAAAAAACEAAAAAAAAAqQAAAAAAAABBAAAAAAAAAKEAAAAAAAAAAAAAAAAAAADBAAAAAAAAAAEAAAAAAAAAQQAAAAAAAAAAAAAAAAAAAAAA=\",\"dtype\":\"float64\",\"order\":\"little\",\"shape\":[10]},\"8_angle\":{\"__ndarray__\":\"h0TnShhX1j89inqmrzP4P15bNLl1yd0/h0TnShhX9j8AAAAAAAAAAF5bNLl1yf0/Xls0uXXJzT9eWzS5dcndPwAAAAAAAAAAAAAAAAAAAAA=\",\"dtype\":\"float64\",\"order\":\"little\",\"shape\":[10]},\"9\":{\"__ndarray__\":\"AAAAAAAAAAAAAAAAAAAcQAAAAAAAAABAAAAAAAAAJEAAAAAAAAAIQAAAAAAAABRAAAAAAAAAAAAAAAAAAAAAQAAAAAAAAAAAAAAAAAAAAEA=\",\"dtype\":\"float64\",\"order\":\"little\",\"shape\":[10]},\"9_angle\":{\"__ndarray__\":\"AAAAAAAAAAD9MLGeVrP2PyGBypCH8dk/tZB+uvQ2AEDZ4JesJXXjP7WQfrr0NvA/AAAAAAAAAAAhgcqQh/HZPwAAAAAAAAAAIYHKkIfx2T8=\",\"dtype\":\"float64\",\"order\":\"little\",\"shape\":[10]},\"__x__values\":[\"1\\u66b4\\u9732\\u5ca9\\u5cb8\",\"2\\u66b4\\u9732\\u4eba\\u9020\\u7d50\\u69cb\\u7269\",\"3\\u66b4\\u9732\\u5ca9\\u76e4\",\"4\\u6c99\\u7058\",\"5\\u7802\\u792b\\u6df7\\u5408\\u7058\",\"6\\u792b\\u77f3\\u7058\",\"7\\u958b\\u95ca\\u6f6e\\u9593\\u5e36\",\"8\\u906e\\u853d\\u5ca9\\u5cb8\",\"9\\u906e\\u853d\\u6f6e\\u9593\\u5e36\",\"10\\u906e\\u853d\\u6fd5\\u5730\"],\"__x__values_original\":[\"1\\u66b4\\u9732\\u5ca9\\u5cb8\",\"2\\u66b4\\u9732\\u4eba\\u9020\\u7d50\\u69cb\\u7269\",\"3\\u66b4\\u9732\\u5ca9\\u76e4\",\"4\\u6c99\\u7058\",\"5\\u7802\\u792b\\u6df7\\u5408\\u7058\",\"6\\u792b\\u77f3\\u7058\",\"7\\u958b\\u95ca\\u6f6e\\u9593\\u5e36\",\"8\\u906e\\u853d\\u5ca9\\u5cb8\",\"9\\u906e\\u853d\\u6f6e\\u9593\\u5e36\",\"10\\u906e\\u853d\\u6fd5\\u5730\"],\"color\":[\"#1f77b4\",\"#ff7f0e\",\"#2ca02c\",\"#d62728\",\"#9467bd\",\"#8c564b\",\"#e377c2\",\"#7f7f7f\",\"#bcbd22\",\"#17becf\"],\"inner_radius\":[0.3,0.3,0.3,0.3,0.3,0.3,0.3,0.3,0.3,0.3],\"outer_radius\":[0.39,0.39,0.39,0.39,0.39,0.39,0.39,0.39,0.39,0.39]},\"selected\":{\"id\":\"2706\"},\"selection_policy\":{\"id\":\"2705\"}},\"id\":\"2592\",\"type\":\"ColumnDataSource\"},{\"attributes\":{},\"id\":\"2686\",\"type\":\"Selection\"},{\"attributes\":{\"field\":\"4_angle\",\"include_zero\":true},\"id\":\"2590\",\"type\":\"CumSum\"},{\"attributes\":{\"field\":\"4_angle\"},\"id\":\"2591\",\"type\":\"CumSum\"},{\"attributes\":{\"end_angle\":{\"expr\":{\"id\":\"2591\"}},\"fill_alpha\":{\"value\":0.1},\"fill_color\":{\"field\":\"color\"},\"inner_radius\":{\"field\":\"inner_radius\"},\"line_alpha\":{\"value\":0.1},\"line_color\":{\"value\":\"white\"},\"line_width\":{\"value\":2},\"outer_radius\":{\"field\":\"outer_radius\"},\"start_angle\":{\"expr\":{\"id\":\"2590\"}},\"x\":{\"value\":0},\"y\":{\"value\":0}},\"id\":\"2595\",\"type\":\"AnnularWedge\"}],\"root_ids\":[\"2431\"]},\"title\":\"Bokeh Application\",\"version\":\"2.3.2\"}};\n",
       "  var render_items = [{\"docid\":\"e5d5cf1c-d086-4881-bd5e-fedc7347e8fe\",\"root_ids\":[\"2431\"],\"roots\":{\"2431\":\"a3c32086-ce2b-4658-a494-59c56ad94e83\"}}];\n",
       "  root.Bokeh.embed.embed_items_notebook(docs_json, render_items);\n",
       "\n",
       "  }\n",
       "  if (root.Bokeh !== undefined) {\n",
       "    embed_document(root);\n",
       "  } else {\n",
       "    var attempts = 0;\n",
       "    var timer = setInterval(function(root) {\n",
       "      if (root.Bokeh !== undefined) {\n",
       "        clearInterval(timer);\n",
       "        embed_document(root);\n",
       "      } else {\n",
       "        attempts++;\n",
       "        if (attempts > 100) {\n",
       "          clearInterval(timer);\n",
       "          console.log(\"Bokeh: ERROR: Unable to run BokehJS code because BokehJS library is missing\");\n",
       "        }\n",
       "      }\n",
       "    }, 10, root)\n",
       "  }\n",
       "})(window);"
      ],
      "application/vnd.bokehjs_exec.v0+json": ""
     },
     "metadata": {
      "application/vnd.bokehjs_exec.v0+json": {
       "id": "2431"
      }
     },
     "output_type": "display_data"
    },
    {
     "data": {
      "text/html": [
       "<div style=\"display: table;\"><div style=\"display: table-row;\"><div style=\"display: table-cell;\"><b title=\"bokeh.plotting.figure.Figure\">Figure</b>(</div><div style=\"display: table-cell;\">id&nbsp;=&nbsp;'2431', <span id=\"3194\" style=\"cursor: pointer;\">&hellip;)</span></div></div><div class=\"3193\" style=\"display: none;\"><div style=\"display: table-cell;\"></div><div style=\"display: table-cell;\">above&nbsp;=&nbsp;[],</div></div><div class=\"3193\" style=\"display: none;\"><div style=\"display: table-cell;\"></div><div style=\"display: table-cell;\">align&nbsp;=&nbsp;'start',</div></div><div class=\"3193\" style=\"display: none;\"><div style=\"display: table-cell;\"></div><div style=\"display: table-cell;\">aspect_ratio&nbsp;=&nbsp;None,</div></div><div class=\"3193\" style=\"display: none;\"><div style=\"display: table-cell;\"></div><div style=\"display: table-cell;\">aspect_scale&nbsp;=&nbsp;1,</div></div><div class=\"3193\" style=\"display: none;\"><div style=\"display: table-cell;\"></div><div style=\"display: table-cell;\">background&nbsp;=&nbsp;None,</div></div><div class=\"3193\" style=\"display: none;\"><div style=\"display: table-cell;\"></div><div style=\"display: table-cell;\">background_fill_alpha&nbsp;=&nbsp;1.0,</div></div><div class=\"3193\" style=\"display: none;\"><div style=\"display: table-cell;\"></div><div style=\"display: table-cell;\">background_fill_color&nbsp;=&nbsp;'#ffffff',</div></div><div class=\"3193\" style=\"display: none;\"><div style=\"display: table-cell;\"></div><div style=\"display: table-cell;\">below&nbsp;=&nbsp;[LinearAxis(id='2442', ...)],</div></div><div class=\"3193\" style=\"display: none;\"><div style=\"display: table-cell;\"></div><div style=\"display: table-cell;\">border_fill_alpha&nbsp;=&nbsp;1.0,</div></div><div class=\"3193\" style=\"display: none;\"><div style=\"display: table-cell;\"></div><div style=\"display: table-cell;\">border_fill_color&nbsp;=&nbsp;'#ffffff',</div></div><div class=\"3193\" style=\"display: none;\"><div style=\"display: table-cell;\"></div><div style=\"display: table-cell;\">center&nbsp;=&nbsp;[Grid(id='2445', ...), Grid(id='2449', ...), Legend(id='2725', ...)],</div></div><div class=\"3193\" style=\"display: none;\"><div style=\"display: table-cell;\"></div><div style=\"display: table-cell;\">css_classes&nbsp;=&nbsp;[],</div></div><div class=\"3193\" style=\"display: none;\"><div style=\"display: table-cell;\"></div><div style=\"display: table-cell;\">disabled&nbsp;=&nbsp;False,</div></div><div class=\"3193\" style=\"display: none;\"><div style=\"display: table-cell;\"></div><div style=\"display: table-cell;\">extra_x_ranges&nbsp;=&nbsp;{},</div></div><div class=\"3193\" style=\"display: none;\"><div style=\"display: table-cell;\"></div><div style=\"display: table-cell;\">extra_y_ranges&nbsp;=&nbsp;{},</div></div><div class=\"3193\" style=\"display: none;\"><div style=\"display: table-cell;\"></div><div style=\"display: table-cell;\">frame_height&nbsp;=&nbsp;None,</div></div><div class=\"3193\" style=\"display: none;\"><div style=\"display: table-cell;\"></div><div style=\"display: table-cell;\">frame_width&nbsp;=&nbsp;None,</div></div><div class=\"3193\" style=\"display: none;\"><div style=\"display: table-cell;\"></div><div style=\"display: table-cell;\">height&nbsp;=&nbsp;400,</div></div><div class=\"3193\" style=\"display: none;\"><div style=\"display: table-cell;\"></div><div style=\"display: table-cell;\">height_policy&nbsp;=&nbsp;'auto',</div></div><div class=\"3193\" style=\"display: none;\"><div style=\"display: table-cell;\"></div><div style=\"display: table-cell;\">hidpi&nbsp;=&nbsp;True,</div></div><div class=\"3193\" style=\"display: none;\"><div style=\"display: table-cell;\"></div><div style=\"display: table-cell;\">inner_height&nbsp;=&nbsp;0,</div></div><div class=\"3193\" style=\"display: none;\"><div style=\"display: table-cell;\"></div><div style=\"display: table-cell;\">inner_width&nbsp;=&nbsp;0,</div></div><div class=\"3193\" style=\"display: none;\"><div style=\"display: table-cell;\"></div><div style=\"display: table-cell;\">js_event_callbacks&nbsp;=&nbsp;{},</div></div><div class=\"3193\" style=\"display: none;\"><div style=\"display: table-cell;\"></div><div style=\"display: table-cell;\">js_property_callbacks&nbsp;=&nbsp;{},</div></div><div class=\"3193\" style=\"display: none;\"><div style=\"display: table-cell;\"></div><div style=\"display: table-cell;\">left&nbsp;=&nbsp;[LinearAxis(id='2446', ...)],</div></div><div class=\"3193\" style=\"display: none;\"><div style=\"display: table-cell;\"></div><div style=\"display: table-cell;\">lod_factor&nbsp;=&nbsp;10,</div></div><div class=\"3193\" style=\"display: none;\"><div style=\"display: table-cell;\"></div><div style=\"display: table-cell;\">lod_interval&nbsp;=&nbsp;300,</div></div><div class=\"3193\" style=\"display: none;\"><div style=\"display: table-cell;\"></div><div style=\"display: table-cell;\">lod_threshold&nbsp;=&nbsp;2000,</div></div><div class=\"3193\" style=\"display: none;\"><div style=\"display: table-cell;\"></div><div style=\"display: table-cell;\">lod_timeout&nbsp;=&nbsp;500,</div></div><div class=\"3193\" style=\"display: none;\"><div style=\"display: table-cell;\"></div><div style=\"display: table-cell;\">margin&nbsp;=&nbsp;(0, 0, 0, 0),</div></div><div class=\"3193\" style=\"display: none;\"><div style=\"display: table-cell;\"></div><div style=\"display: table-cell;\">match_aspect&nbsp;=&nbsp;False,</div></div><div class=\"3193\" style=\"display: none;\"><div style=\"display: table-cell;\"></div><div style=\"display: table-cell;\">max_height&nbsp;=&nbsp;None,</div></div><div class=\"3193\" style=\"display: none;\"><div style=\"display: table-cell;\"></div><div style=\"display: table-cell;\">max_width&nbsp;=&nbsp;None,</div></div><div class=\"3193\" style=\"display: none;\"><div style=\"display: table-cell;\"></div><div style=\"display: table-cell;\">min_border&nbsp;=&nbsp;5,</div></div><div class=\"3193\" style=\"display: none;\"><div style=\"display: table-cell;\"></div><div style=\"display: table-cell;\">min_border_bottom&nbsp;=&nbsp;None,</div></div><div class=\"3193\" style=\"display: none;\"><div style=\"display: table-cell;\"></div><div style=\"display: table-cell;\">min_border_left&nbsp;=&nbsp;None,</div></div><div class=\"3193\" style=\"display: none;\"><div style=\"display: table-cell;\"></div><div style=\"display: table-cell;\">min_border_right&nbsp;=&nbsp;None,</div></div><div class=\"3193\" style=\"display: none;\"><div style=\"display: table-cell;\"></div><div style=\"display: table-cell;\">min_border_top&nbsp;=&nbsp;None,</div></div><div class=\"3193\" style=\"display: none;\"><div style=\"display: table-cell;\"></div><div style=\"display: table-cell;\">min_height&nbsp;=&nbsp;None,</div></div><div class=\"3193\" style=\"display: none;\"><div style=\"display: table-cell;\"></div><div style=\"display: table-cell;\">min_width&nbsp;=&nbsp;None,</div></div><div class=\"3193\" style=\"display: none;\"><div style=\"display: table-cell;\"></div><div style=\"display: table-cell;\">name&nbsp;=&nbsp;None,</div></div><div class=\"3193\" style=\"display: none;\"><div style=\"display: table-cell;\"></div><div style=\"display: table-cell;\">outer_height&nbsp;=&nbsp;0,</div></div><div class=\"3193\" style=\"display: none;\"><div style=\"display: table-cell;\"></div><div style=\"display: table-cell;\">outer_width&nbsp;=&nbsp;0,</div></div><div class=\"3193\" style=\"display: none;\"><div style=\"display: table-cell;\"></div><div style=\"display: table-cell;\">outline_line_alpha&nbsp;=&nbsp;1.0,</div></div><div class=\"3193\" style=\"display: none;\"><div style=\"display: table-cell;\"></div><div style=\"display: table-cell;\">outline_line_cap&nbsp;=&nbsp;'butt',</div></div><div class=\"3193\" style=\"display: none;\"><div style=\"display: table-cell;\"></div><div style=\"display: table-cell;\">outline_line_color&nbsp;=&nbsp;'#e5e5e5',</div></div><div class=\"3193\" style=\"display: none;\"><div style=\"display: table-cell;\"></div><div style=\"display: table-cell;\">outline_line_dash&nbsp;=&nbsp;[],</div></div><div class=\"3193\" style=\"display: none;\"><div style=\"display: table-cell;\"></div><div style=\"display: table-cell;\">outline_line_dash_offset&nbsp;=&nbsp;0,</div></div><div class=\"3193\" style=\"display: none;\"><div style=\"display: table-cell;\"></div><div style=\"display: table-cell;\">outline_line_join&nbsp;=&nbsp;'bevel',</div></div><div class=\"3193\" style=\"display: none;\"><div style=\"display: table-cell;\"></div><div style=\"display: table-cell;\">outline_line_width&nbsp;=&nbsp;1,</div></div><div class=\"3193\" style=\"display: none;\"><div style=\"display: table-cell;\"></div><div style=\"display: table-cell;\">output_backend&nbsp;=&nbsp;'canvas',</div></div><div class=\"3193\" style=\"display: none;\"><div style=\"display: table-cell;\"></div><div style=\"display: table-cell;\">renderers&nbsp;=&nbsp;[GlyphRenderer(id='2470', ...), GlyphRenderer(id='2476', ...), GlyphRenderer(id='2481', ...), GlyphRenderer(id='2491', ...), GlyphRenderer(id='2497', ...), GlyphRenderer(id='2502', ...), GlyphRenderer(id='2512', ...), GlyphRenderer(id='2518', ...), GlyphRenderer(id='2523', ...), GlyphRenderer(id='2533', ...), GlyphRenderer(id='2539', ...), GlyphRenderer(id='2544', ...), GlyphRenderer(id='2554', ...), GlyphRenderer(id='2560', ...), GlyphRenderer(id='2565', ...), GlyphRenderer(id='2575', ...), GlyphRenderer(id='2581', ...), GlyphRenderer(id='2586', ...), GlyphRenderer(id='2596', ...), GlyphRenderer(id='2602', ...), GlyphRenderer(id='2607', ...), GlyphRenderer(id='2617', ...), GlyphRenderer(id='2623', ...), GlyphRenderer(id='2628', ...), GlyphRenderer(id='2638', ...), GlyphRenderer(id='2644', ...), GlyphRenderer(id='2649', ...), GlyphRenderer(id='2659', ...), GlyphRenderer(id='2731', ...), GlyphRenderer(id='2736', ...)],</div></div><div class=\"3193\" style=\"display: none;\"><div style=\"display: table-cell;\"></div><div style=\"display: table-cell;\">reset_policy&nbsp;=&nbsp;'standard',</div></div><div class=\"3193\" style=\"display: none;\"><div style=\"display: table-cell;\"></div><div style=\"display: table-cell;\">right&nbsp;=&nbsp;[],</div></div><div class=\"3193\" style=\"display: none;\"><div style=\"display: table-cell;\"></div><div style=\"display: table-cell;\">sizing_mode&nbsp;=&nbsp;None,</div></div><div class=\"3193\" style=\"display: none;\"><div style=\"display: table-cell;\"></div><div style=\"display: table-cell;\">subscribed_events&nbsp;=&nbsp;[],</div></div><div class=\"3193\" style=\"display: none;\"><div style=\"display: table-cell;\"></div><div style=\"display: table-cell;\">syncable&nbsp;=&nbsp;True,</div></div><div class=\"3193\" style=\"display: none;\"><div style=\"display: table-cell;\"></div><div style=\"display: table-cell;\">tags&nbsp;=&nbsp;[],</div></div><div class=\"3193\" style=\"display: none;\"><div style=\"display: table-cell;\"></div><div style=\"display: table-cell;\">title&nbsp;=&nbsp;Title(id='2432', ...),</div></div><div class=\"3193\" style=\"display: none;\"><div style=\"display: table-cell;\"></div><div style=\"display: table-cell;\">title_location&nbsp;=&nbsp;'above',</div></div><div class=\"3193\" style=\"display: none;\"><div style=\"display: table-cell;\"></div><div style=\"display: table-cell;\">toolbar&nbsp;=&nbsp;Toolbar(id='2457', ...),</div></div><div class=\"3193\" style=\"display: none;\"><div style=\"display: table-cell;\"></div><div style=\"display: table-cell;\">toolbar_location&nbsp;=&nbsp;None,</div></div><div class=\"3193\" style=\"display: none;\"><div style=\"display: table-cell;\"></div><div style=\"display: table-cell;\">toolbar_sticky&nbsp;=&nbsp;True,</div></div><div class=\"3193\" style=\"display: none;\"><div style=\"display: table-cell;\"></div><div style=\"display: table-cell;\">visible&nbsp;=&nbsp;True,</div></div><div class=\"3193\" style=\"display: none;\"><div style=\"display: table-cell;\"></div><div style=\"display: table-cell;\">width&nbsp;=&nbsp;600,</div></div><div class=\"3193\" style=\"display: none;\"><div style=\"display: table-cell;\"></div><div style=\"display: table-cell;\">width_policy&nbsp;=&nbsp;'auto',</div></div><div class=\"3193\" style=\"display: none;\"><div style=\"display: table-cell;\"></div><div style=\"display: table-cell;\">x_range&nbsp;=&nbsp;Range1d(id='2434', ...),</div></div><div class=\"3193\" style=\"display: none;\"><div style=\"display: table-cell;\"></div><div style=\"display: table-cell;\">x_scale&nbsp;=&nbsp;LinearScale(id='2438', ...),</div></div><div class=\"3193\" style=\"display: none;\"><div style=\"display: table-cell;\"></div><div style=\"display: table-cell;\">y_range&nbsp;=&nbsp;Range1d(id='2436', ...),</div></div><div class=\"3193\" style=\"display: none;\"><div style=\"display: table-cell;\"></div><div style=\"display: table-cell;\">y_scale&nbsp;=&nbsp;LinearScale(id='2440', ...))</div></div></div>\n",
       "<script>\n",
       "(function() {\n",
       "  var expanded = false;\n",
       "  var ellipsis = document.getElementById(\"3194\");\n",
       "  ellipsis.addEventListener(\"click\", function() {\n",
       "    var rows = document.getElementsByClassName(\"3193\");\n",
       "    for (var i = 0; i < rows.length; i++) {\n",
       "      var el = rows[i];\n",
       "      el.style.display = expanded ? \"none\" : \"table-row\";\n",
       "    }\n",
       "    ellipsis.innerHTML = expanded ? \"&hellip;)\" : \"&lsaquo;&lsaquo;&lsaquo;\";\n",
       "    expanded = !expanded;\n",
       "  });\n",
       "})();\n",
       "</script>\n"
      ],
      "text/plain": [
       "Figure(id='2431', ...)"
      ]
     },
     "execution_count": 46,
     "metadata": {},
     "output_type": "execute_result"
    }
   ],
   "source": [
    "df.T.plot_bokeh.pie()"
   ]
  },
  {
   "cell_type": "markdown",
   "metadata": {
    "id": "F7qC24gjsUy0"
   },
   "source": [
    "### 廢棄物種類出現頻率"
   ]
  },
  {
   "cell_type": "code",
   "execution_count": 47,
   "metadata": {
    "id": "C5yTuVz2-rYn"
   },
   "outputs": [
    {
     "data": {
      "text/html": [
       "<div>\n",
       "<style scoped>\n",
       "    .dataframe tbody tr th:only-of-type {\n",
       "        vertical-align: middle;\n",
       "    }\n",
       "\n",
       "    .dataframe tbody tr th {\n",
       "        vertical-align: top;\n",
       "    }\n",
       "\n",
       "    .dataframe thead th {\n",
       "        text-align: right;\n",
       "    }\n",
       "</style>\n",
       "<table border=\"1\" class=\"dataframe\">\n",
       "  <thead>\n",
       "    <tr style=\"text-align: right;\">\n",
       "      <th></th>\n",
       "      <th>0</th>\n",
       "    </tr>\n",
       "  </thead>\n",
       "  <tbody>\n",
       "    <tr>\n",
       "      <th>Plastic bottle container</th>\n",
       "      <td>214</td>\n",
       "    </tr>\n",
       "    <tr>\n",
       "      <th>Disposable cup / straw / tableware</th>\n",
       "      <td>47</td>\n",
       "    </tr>\n",
       "    <tr>\n",
       "      <th>Plastic bag</th>\n",
       "      <td>20</td>\n",
       "    </tr>\n",
       "    <tr>\n",
       "      <th>Foam material</th>\n",
       "      <td>146</td>\n",
       "    </tr>\n",
       "    <tr>\n",
       "      <th>Float</th>\n",
       "      <td>57</td>\n",
       "    </tr>\n",
       "    <tr>\n",
       "      <th>Fishing nets and ropes</th>\n",
       "      <td>128</td>\n",
       "    </tr>\n",
       "    <tr>\n",
       "      <th>Fishing equipment</th>\n",
       "      <td>3</td>\n",
       "    </tr>\n",
       "    <tr>\n",
       "      <th>Cigarette and lighter</th>\n",
       "      <td>1</td>\n",
       "    </tr>\n",
       "    <tr>\n",
       "      <th>Glass jar</th>\n",
       "      <td>33</td>\n",
       "    </tr>\n",
       "    <tr>\n",
       "      <th>Metal</th>\n",
       "      <td>10</td>\n",
       "    </tr>\n",
       "    <tr>\n",
       "      <th>Paper</th>\n",
       "      <td>5</td>\n",
       "    </tr>\n",
       "    <tr>\n",
       "      <th>Others</th>\n",
       "      <td>45</td>\n",
       "    </tr>\n",
       "  </tbody>\n",
       "</table>\n",
       "</div>"
      ],
      "text/plain": [
       "                                      0\n",
       "Plastic bottle container            214\n",
       "Disposable cup / straw / tableware   47\n",
       "Plastic bag                          20\n",
       "Foam material                       146\n",
       "Float                                57\n",
       "Fishing nets and ropes              128\n",
       "Fishing equipment                     3\n",
       "Cigarette and lighter                 1\n",
       "Glass jar                            33\n",
       "Metal                                10\n",
       "Paper                                 5\n",
       "Others                               45"
      ]
     },
     "execution_count": 47,
     "metadata": {},
     "output_type": "execute_result"
    }
   ],
   "source": [
    "df = train[trash_type].sum()\n",
    "df = pd.DataFrame(df)\n",
    "df"
   ]
  },
  {
   "cell_type": "code",
   "execution_count": 48,
   "metadata": {
    "id": "Oq6-wOYQwRBp"
   },
   "outputs": [
    {
     "name": "stdout",
     "output_type": "stream",
     "text": [
      "__x__values_original\n"
     ]
    },
    {
     "data": {
      "text/html": [
       "\n",
       "\n",
       "\n",
       "\n",
       "\n",
       "\n",
       "  <div class=\"bk-root\" id=\"c2469702-4db3-4958-986c-06591e1de601\" data-root-id=\"3231\"></div>\n"
      ]
     },
     "metadata": {},
     "output_type": "display_data"
    },
    {
     "data": {
      "application/javascript": [
       "(function(root) {\n",
       "  function embed_document(root) {\n",
       "    \n",
       "  var docs_json = {\"18c4b57a-2dc6-46be-9c81-96c4c5b507e4\":{\"defs\":[],\"roots\":{\"references\":[{\"attributes\":{\"below\":[{\"id\":\"3242\"}],\"center\":[{\"id\":\"3245\"},{\"id\":\"3249\"},{\"id\":\"3282\"}],\"height\":500,\"left\":[{\"id\":\"3246\"}],\"renderers\":[{\"id\":\"3270\"}],\"title\":{\"id\":\"3232\"},\"toolbar\":{\"id\":\"3257\"},\"toolbar_location\":null,\"width\":800,\"x_range\":{\"id\":\"3234\"},\"x_scale\":{\"id\":\"3238\"},\"y_range\":{\"id\":\"3236\"},\"y_scale\":{\"id\":\"3240\"}},\"id\":\"3231\",\"subtype\":\"Figure\",\"type\":\"Plot\"},{\"attributes\":{\"items\":[{\"id\":\"3283\"}]},\"id\":\"3282\",\"type\":\"Legend\"},{\"attributes\":{\"end\":1.2,\"start\":-1.2},\"id\":\"3236\",\"type\":\"Range1d\"},{\"attributes\":{},\"id\":\"3240\",\"type\":\"LinearScale\"},{\"attributes\":{\"callback\":null,\"renderers\":[{\"id\":\"3270\"}],\"tooltips\":[[\"x\",\"@__x__values_original\"],[\"0\",\"@{0}\"]]},\"id\":\"3284\",\"type\":\"HoverTool\"},{\"attributes\":{},\"id\":\"3274\",\"type\":\"AllLabels\"},{\"attributes\":{\"end_angle\":{\"expr\":{\"id\":\"3265\"}},\"fill_alpha\":{\"value\":0.1},\"fill_color\":{\"field\":\"color\"},\"inner_radius\":{\"field\":\"inner_radius\"},\"line_alpha\":{\"value\":0.1},\"line_color\":{\"value\":\"white\"},\"line_width\":{\"value\":2},\"outer_radius\":{\"field\":\"outer_radius\"},\"start_angle\":{\"expr\":{\"id\":\"3264\"}},\"x\":{\"value\":0},\"y\":{\"value\":0}},\"id\":\"3269\",\"type\":\"AnnularWedge\"},{\"attributes\":{\"label\":{\"field\":\"__x__values_original\"},\"renderers\":[{\"id\":\"3270\"}]},\"id\":\"3283\",\"type\":\"LegendItem\"},{\"attributes\":{},\"id\":\"3255\",\"type\":\"HelpTool\"},{\"attributes\":{\"data\":{\"0\":[214,47,20,146,57,128,3,1,33,10,5,45],\"0_angle\":{\"__ndarray__\":\"AtrfePdX/j8UDMftMajaP6Aa+1fTr8Y/5SEVDaSz9D9f6eJhEyrgPxniyKxCJvI/J1MtA2Q5mz8Z4sisQiaCPyopL8J0t9I/oBr7V9Ovtj+gGvtX06+mP/N9+sLNhdk/\",\"dtype\":\"float64\",\"order\":\"little\",\"shape\":[12]},\"__x__values\":[\"Plastic bottle container\",\"Disposable cup / straw / tableware\",\"Plastic bag\",\"Foam material\",\"Float\",\"Fishing nets and ropes\",\"Fishing equipment\",\"Cigarette and lighter\",\"Glass jar\",\"Metal\",\"Paper\",\"Others\"],\"__x__values_original\":[\"Plastic bottle container\",\"Disposable cup / straw / tableware\",\"Plastic bag\",\"Foam material\",\"Float\",\"Fishing nets and ropes\",\"Fishing equipment\",\"Cigarette and lighter\",\"Glass jar\",\"Metal\",\"Paper\",\"Others\"],\"color\":[\"#1f77b4\",\"#aec7e8\",\"#ff7f0e\",\"#ffbb78\",\"#2ca02c\",\"#98df8a\",\"#d62728\",\"#ff9896\",\"#9467bd\",\"#c5b0d5\",\"#8c564b\",\"#c49c94\"],\"inner_radius\":[0.0,0.0,0.0,0.0,0.0,0.0,0.0,0.0,0.0,0.0,0.0,0.0],\"outer_radius\":[0.9,0.9,0.9,0.9,0.9,0.9,0.9,0.9,0.9,0.9,0.9,0.9]},\"selected\":{\"id\":\"3281\"},\"selection_policy\":{\"id\":\"3280\"}},\"id\":\"3266\",\"type\":\"ColumnDataSource\"},{\"attributes\":{},\"id\":\"3254\",\"type\":\"ResetTool\"},{\"attributes\":{\"ticks\":[0,1,2,3,4,5,6,7,8,9,10,11]},\"id\":\"3286\",\"type\":\"FixedTicker\"},{\"attributes\":{},\"id\":\"3275\",\"type\":\"BasicTickFormatter\"},{\"attributes\":{\"data_source\":{\"id\":\"3266\"},\"glyph\":{\"id\":\"3268\"},\"hover_glyph\":null,\"muted_glyph\":null,\"nonselection_glyph\":{\"id\":\"3269\"},\"view\":{\"id\":\"3271\"}},\"id\":\"3270\",\"type\":\"GlyphRenderer\"},{\"attributes\":{\"field\":\"0_angle\",\"include_zero\":true},\"id\":\"3264\",\"type\":\"CumSum\"},{\"attributes\":{\"end\":2,\"start\":-1.45},\"id\":\"3234\",\"type\":\"Range1d\"},{\"attributes\":{\"source\":{\"id\":\"3266\"}},\"id\":\"3271\",\"type\":\"CDSView\"},{\"attributes\":{\"axis_label\":null,\"formatter\":{\"id\":\"3275\"},\"major_label_policy\":{\"id\":\"3274\"},\"ticker\":{\"id\":\"3286\"},\"visible\":false},\"id\":\"3242\",\"type\":\"LinearAxis\"},{\"attributes\":{},\"id\":\"3280\",\"type\":\"UnionRenderers\"},{\"attributes\":{},\"id\":\"3281\",\"type\":\"Selection\"},{\"attributes\":{},\"id\":\"3250\",\"type\":\"PanTool\"},{\"attributes\":{\"field\":\"0_angle\"},\"id\":\"3265\",\"type\":\"CumSum\"},{\"attributes\":{},\"id\":\"3253\",\"type\":\"SaveTool\"},{\"attributes\":{\"axis\":{\"id\":\"3242\"},\"grid_line_color\":null,\"ticker\":null},\"id\":\"3245\",\"type\":\"Grid\"},{\"attributes\":{\"active_multi\":null,\"tools\":[{\"id\":\"3250\"},{\"id\":\"3251\"},{\"id\":\"3252\"},{\"id\":\"3253\"},{\"id\":\"3254\"},{\"id\":\"3255\"},{\"id\":\"3284\"}]},\"id\":\"3257\",\"type\":\"Toolbar\"},{\"attributes\":{},\"id\":\"3238\",\"type\":\"LinearScale\"},{\"attributes\":{\"bottom_units\":\"screen\",\"fill_alpha\":0.5,\"fill_color\":\"lightgrey\",\"left_units\":\"screen\",\"level\":\"overlay\",\"line_alpha\":1.0,\"line_color\":\"black\",\"line_dash\":[4,4],\"line_width\":2,\"right_units\":\"screen\",\"syncable\":false,\"top_units\":\"screen\"},\"id\":\"3256\",\"type\":\"BoxAnnotation\"},{\"attributes\":{},\"id\":\"3232\",\"type\":\"Title\"},{\"attributes\":{\"end_angle\":{\"expr\":{\"id\":\"3265\"}},\"fill_color\":{\"field\":\"color\"},\"inner_radius\":{\"field\":\"inner_radius\"},\"line_color\":{\"value\":\"white\"},\"line_width\":{\"value\":2},\"outer_radius\":{\"field\":\"outer_radius\"},\"start_angle\":{\"expr\":{\"id\":\"3264\"}},\"x\":{\"value\":0},\"y\":{\"value\":0}},\"id\":\"3268\",\"type\":\"AnnularWedge\"},{\"attributes\":{},\"id\":\"3251\",\"type\":\"WheelZoomTool\"},{\"attributes\":{},\"id\":\"3277\",\"type\":\"AllLabels\"},{\"attributes\":{},\"id\":\"3247\",\"type\":\"BasicTicker\"},{\"attributes\":{\"overlay\":{\"id\":\"3256\"}},\"id\":\"3252\",\"type\":\"BoxZoomTool\"},{\"attributes\":{\"axis\":{\"id\":\"3246\"},\"dimension\":1,\"grid_line_color\":null,\"ticker\":null},\"id\":\"3249\",\"type\":\"Grid\"},{\"attributes\":{},\"id\":\"3278\",\"type\":\"BasicTickFormatter\"},{\"attributes\":{\"axis_label\":null,\"formatter\":{\"id\":\"3278\"},\"major_label_policy\":{\"id\":\"3277\"},\"ticker\":{\"id\":\"3247\"},\"visible\":false},\"id\":\"3246\",\"type\":\"LinearAxis\"}],\"root_ids\":[\"3231\"]},\"title\":\"Bokeh Application\",\"version\":\"2.3.2\"}};\n",
       "  var render_items = [{\"docid\":\"18c4b57a-2dc6-46be-9c81-96c4c5b507e4\",\"root_ids\":[\"3231\"],\"roots\":{\"3231\":\"c2469702-4db3-4958-986c-06591e1de601\"}}];\n",
       "  root.Bokeh.embed.embed_items_notebook(docs_json, render_items);\n",
       "\n",
       "  }\n",
       "  if (root.Bokeh !== undefined) {\n",
       "    embed_document(root);\n",
       "  } else {\n",
       "    var attempts = 0;\n",
       "    var timer = setInterval(function(root) {\n",
       "      if (root.Bokeh !== undefined) {\n",
       "        clearInterval(timer);\n",
       "        embed_document(root);\n",
       "      } else {\n",
       "        attempts++;\n",
       "        if (attempts > 100) {\n",
       "          clearInterval(timer);\n",
       "          console.log(\"Bokeh: ERROR: Unable to run BokehJS code because BokehJS library is missing\");\n",
       "        }\n",
       "      }\n",
       "    }, 10, root)\n",
       "  }\n",
       "})(window);"
      ],
      "application/vnd.bokehjs_exec.v0+json": ""
     },
     "metadata": {
      "application/vnd.bokehjs_exec.v0+json": {
       "id": "3231"
      }
     },
     "output_type": "display_data"
    },
    {
     "data": {
      "text/html": [
       "<div style=\"display: table;\"><div style=\"display: table-row;\"><div style=\"display: table-cell;\"><b title=\"bokeh.plotting.figure.Figure\">Figure</b>(</div><div style=\"display: table-cell;\">id&nbsp;=&nbsp;'3231', <span id=\"3459\" style=\"cursor: pointer;\">&hellip;)</span></div></div><div class=\"3458\" style=\"display: none;\"><div style=\"display: table-cell;\"></div><div style=\"display: table-cell;\">above&nbsp;=&nbsp;[],</div></div><div class=\"3458\" style=\"display: none;\"><div style=\"display: table-cell;\"></div><div style=\"display: table-cell;\">align&nbsp;=&nbsp;'start',</div></div><div class=\"3458\" style=\"display: none;\"><div style=\"display: table-cell;\"></div><div style=\"display: table-cell;\">aspect_ratio&nbsp;=&nbsp;None,</div></div><div class=\"3458\" style=\"display: none;\"><div style=\"display: table-cell;\"></div><div style=\"display: table-cell;\">aspect_scale&nbsp;=&nbsp;1,</div></div><div class=\"3458\" style=\"display: none;\"><div style=\"display: table-cell;\"></div><div style=\"display: table-cell;\">background&nbsp;=&nbsp;None,</div></div><div class=\"3458\" style=\"display: none;\"><div style=\"display: table-cell;\"></div><div style=\"display: table-cell;\">background_fill_alpha&nbsp;=&nbsp;1.0,</div></div><div class=\"3458\" style=\"display: none;\"><div style=\"display: table-cell;\"></div><div style=\"display: table-cell;\">background_fill_color&nbsp;=&nbsp;'#ffffff',</div></div><div class=\"3458\" style=\"display: none;\"><div style=\"display: table-cell;\"></div><div style=\"display: table-cell;\">below&nbsp;=&nbsp;[LinearAxis(id='3242', ...)],</div></div><div class=\"3458\" style=\"display: none;\"><div style=\"display: table-cell;\"></div><div style=\"display: table-cell;\">border_fill_alpha&nbsp;=&nbsp;1.0,</div></div><div class=\"3458\" style=\"display: none;\"><div style=\"display: table-cell;\"></div><div style=\"display: table-cell;\">border_fill_color&nbsp;=&nbsp;'#ffffff',</div></div><div class=\"3458\" style=\"display: none;\"><div style=\"display: table-cell;\"></div><div style=\"display: table-cell;\">center&nbsp;=&nbsp;[Grid(id='3245', ...), Grid(id='3249', ...), Legend(id='3282', ...)],</div></div><div class=\"3458\" style=\"display: none;\"><div style=\"display: table-cell;\"></div><div style=\"display: table-cell;\">css_classes&nbsp;=&nbsp;[],</div></div><div class=\"3458\" style=\"display: none;\"><div style=\"display: table-cell;\"></div><div style=\"display: table-cell;\">disabled&nbsp;=&nbsp;False,</div></div><div class=\"3458\" style=\"display: none;\"><div style=\"display: table-cell;\"></div><div style=\"display: table-cell;\">extra_x_ranges&nbsp;=&nbsp;{},</div></div><div class=\"3458\" style=\"display: none;\"><div style=\"display: table-cell;\"></div><div style=\"display: table-cell;\">extra_y_ranges&nbsp;=&nbsp;{},</div></div><div class=\"3458\" style=\"display: none;\"><div style=\"display: table-cell;\"></div><div style=\"display: table-cell;\">frame_height&nbsp;=&nbsp;None,</div></div><div class=\"3458\" style=\"display: none;\"><div style=\"display: table-cell;\"></div><div style=\"display: table-cell;\">frame_width&nbsp;=&nbsp;None,</div></div><div class=\"3458\" style=\"display: none;\"><div style=\"display: table-cell;\"></div><div style=\"display: table-cell;\">height&nbsp;=&nbsp;500,</div></div><div class=\"3458\" style=\"display: none;\"><div style=\"display: table-cell;\"></div><div style=\"display: table-cell;\">height_policy&nbsp;=&nbsp;'auto',</div></div><div class=\"3458\" style=\"display: none;\"><div style=\"display: table-cell;\"></div><div style=\"display: table-cell;\">hidpi&nbsp;=&nbsp;True,</div></div><div class=\"3458\" style=\"display: none;\"><div style=\"display: table-cell;\"></div><div style=\"display: table-cell;\">inner_height&nbsp;=&nbsp;0,</div></div><div class=\"3458\" style=\"display: none;\"><div style=\"display: table-cell;\"></div><div style=\"display: table-cell;\">inner_width&nbsp;=&nbsp;0,</div></div><div class=\"3458\" style=\"display: none;\"><div style=\"display: table-cell;\"></div><div style=\"display: table-cell;\">js_event_callbacks&nbsp;=&nbsp;{},</div></div><div class=\"3458\" style=\"display: none;\"><div style=\"display: table-cell;\"></div><div style=\"display: table-cell;\">js_property_callbacks&nbsp;=&nbsp;{},</div></div><div class=\"3458\" style=\"display: none;\"><div style=\"display: table-cell;\"></div><div style=\"display: table-cell;\">left&nbsp;=&nbsp;[LinearAxis(id='3246', ...)],</div></div><div class=\"3458\" style=\"display: none;\"><div style=\"display: table-cell;\"></div><div style=\"display: table-cell;\">lod_factor&nbsp;=&nbsp;10,</div></div><div class=\"3458\" style=\"display: none;\"><div style=\"display: table-cell;\"></div><div style=\"display: table-cell;\">lod_interval&nbsp;=&nbsp;300,</div></div><div class=\"3458\" style=\"display: none;\"><div style=\"display: table-cell;\"></div><div style=\"display: table-cell;\">lod_threshold&nbsp;=&nbsp;2000,</div></div><div class=\"3458\" style=\"display: none;\"><div style=\"display: table-cell;\"></div><div style=\"display: table-cell;\">lod_timeout&nbsp;=&nbsp;500,</div></div><div class=\"3458\" style=\"display: none;\"><div style=\"display: table-cell;\"></div><div style=\"display: table-cell;\">margin&nbsp;=&nbsp;(0, 0, 0, 0),</div></div><div class=\"3458\" style=\"display: none;\"><div style=\"display: table-cell;\"></div><div style=\"display: table-cell;\">match_aspect&nbsp;=&nbsp;False,</div></div><div class=\"3458\" style=\"display: none;\"><div style=\"display: table-cell;\"></div><div style=\"display: table-cell;\">max_height&nbsp;=&nbsp;None,</div></div><div class=\"3458\" style=\"display: none;\"><div style=\"display: table-cell;\"></div><div style=\"display: table-cell;\">max_width&nbsp;=&nbsp;None,</div></div><div class=\"3458\" style=\"display: none;\"><div style=\"display: table-cell;\"></div><div style=\"display: table-cell;\">min_border&nbsp;=&nbsp;5,</div></div><div class=\"3458\" style=\"display: none;\"><div style=\"display: table-cell;\"></div><div style=\"display: table-cell;\">min_border_bottom&nbsp;=&nbsp;None,</div></div><div class=\"3458\" style=\"display: none;\"><div style=\"display: table-cell;\"></div><div style=\"display: table-cell;\">min_border_left&nbsp;=&nbsp;None,</div></div><div class=\"3458\" style=\"display: none;\"><div style=\"display: table-cell;\"></div><div style=\"display: table-cell;\">min_border_right&nbsp;=&nbsp;None,</div></div><div class=\"3458\" style=\"display: none;\"><div style=\"display: table-cell;\"></div><div style=\"display: table-cell;\">min_border_top&nbsp;=&nbsp;None,</div></div><div class=\"3458\" style=\"display: none;\"><div style=\"display: table-cell;\"></div><div style=\"display: table-cell;\">min_height&nbsp;=&nbsp;None,</div></div><div class=\"3458\" style=\"display: none;\"><div style=\"display: table-cell;\"></div><div style=\"display: table-cell;\">min_width&nbsp;=&nbsp;None,</div></div><div class=\"3458\" style=\"display: none;\"><div style=\"display: table-cell;\"></div><div style=\"display: table-cell;\">name&nbsp;=&nbsp;None,</div></div><div class=\"3458\" style=\"display: none;\"><div style=\"display: table-cell;\"></div><div style=\"display: table-cell;\">outer_height&nbsp;=&nbsp;0,</div></div><div class=\"3458\" style=\"display: none;\"><div style=\"display: table-cell;\"></div><div style=\"display: table-cell;\">outer_width&nbsp;=&nbsp;0,</div></div><div class=\"3458\" style=\"display: none;\"><div style=\"display: table-cell;\"></div><div style=\"display: table-cell;\">outline_line_alpha&nbsp;=&nbsp;1.0,</div></div><div class=\"3458\" style=\"display: none;\"><div style=\"display: table-cell;\"></div><div style=\"display: table-cell;\">outline_line_cap&nbsp;=&nbsp;'butt',</div></div><div class=\"3458\" style=\"display: none;\"><div style=\"display: table-cell;\"></div><div style=\"display: table-cell;\">outline_line_color&nbsp;=&nbsp;'#e5e5e5',</div></div><div class=\"3458\" style=\"display: none;\"><div style=\"display: table-cell;\"></div><div style=\"display: table-cell;\">outline_line_dash&nbsp;=&nbsp;[],</div></div><div class=\"3458\" style=\"display: none;\"><div style=\"display: table-cell;\"></div><div style=\"display: table-cell;\">outline_line_dash_offset&nbsp;=&nbsp;0,</div></div><div class=\"3458\" style=\"display: none;\"><div style=\"display: table-cell;\"></div><div style=\"display: table-cell;\">outline_line_join&nbsp;=&nbsp;'bevel',</div></div><div class=\"3458\" style=\"display: none;\"><div style=\"display: table-cell;\"></div><div style=\"display: table-cell;\">outline_line_width&nbsp;=&nbsp;1,</div></div><div class=\"3458\" style=\"display: none;\"><div style=\"display: table-cell;\"></div><div style=\"display: table-cell;\">output_backend&nbsp;=&nbsp;'canvas',</div></div><div class=\"3458\" style=\"display: none;\"><div style=\"display: table-cell;\"></div><div style=\"display: table-cell;\">renderers&nbsp;=&nbsp;[GlyphRenderer(id='3270', ...)],</div></div><div class=\"3458\" style=\"display: none;\"><div style=\"display: table-cell;\"></div><div style=\"display: table-cell;\">reset_policy&nbsp;=&nbsp;'standard',</div></div><div class=\"3458\" style=\"display: none;\"><div style=\"display: table-cell;\"></div><div style=\"display: table-cell;\">right&nbsp;=&nbsp;[],</div></div><div class=\"3458\" style=\"display: none;\"><div style=\"display: table-cell;\"></div><div style=\"display: table-cell;\">sizing_mode&nbsp;=&nbsp;None,</div></div><div class=\"3458\" style=\"display: none;\"><div style=\"display: table-cell;\"></div><div style=\"display: table-cell;\">subscribed_events&nbsp;=&nbsp;[],</div></div><div class=\"3458\" style=\"display: none;\"><div style=\"display: table-cell;\"></div><div style=\"display: table-cell;\">syncable&nbsp;=&nbsp;True,</div></div><div class=\"3458\" style=\"display: none;\"><div style=\"display: table-cell;\"></div><div style=\"display: table-cell;\">tags&nbsp;=&nbsp;[],</div></div><div class=\"3458\" style=\"display: none;\"><div style=\"display: table-cell;\"></div><div style=\"display: table-cell;\">title&nbsp;=&nbsp;Title(id='3232', ...),</div></div><div class=\"3458\" style=\"display: none;\"><div style=\"display: table-cell;\"></div><div style=\"display: table-cell;\">title_location&nbsp;=&nbsp;'above',</div></div><div class=\"3458\" style=\"display: none;\"><div style=\"display: table-cell;\"></div><div style=\"display: table-cell;\">toolbar&nbsp;=&nbsp;Toolbar(id='3257', ...),</div></div><div class=\"3458\" style=\"display: none;\"><div style=\"display: table-cell;\"></div><div style=\"display: table-cell;\">toolbar_location&nbsp;=&nbsp;None,</div></div><div class=\"3458\" style=\"display: none;\"><div style=\"display: table-cell;\"></div><div style=\"display: table-cell;\">toolbar_sticky&nbsp;=&nbsp;True,</div></div><div class=\"3458\" style=\"display: none;\"><div style=\"display: table-cell;\"></div><div style=\"display: table-cell;\">visible&nbsp;=&nbsp;True,</div></div><div class=\"3458\" style=\"display: none;\"><div style=\"display: table-cell;\"></div><div style=\"display: table-cell;\">width&nbsp;=&nbsp;800,</div></div><div class=\"3458\" style=\"display: none;\"><div style=\"display: table-cell;\"></div><div style=\"display: table-cell;\">width_policy&nbsp;=&nbsp;'auto',</div></div><div class=\"3458\" style=\"display: none;\"><div style=\"display: table-cell;\"></div><div style=\"display: table-cell;\">x_range&nbsp;=&nbsp;Range1d(id='3234', ...),</div></div><div class=\"3458\" style=\"display: none;\"><div style=\"display: table-cell;\"></div><div style=\"display: table-cell;\">x_scale&nbsp;=&nbsp;LinearScale(id='3238', ...),</div></div><div class=\"3458\" style=\"display: none;\"><div style=\"display: table-cell;\"></div><div style=\"display: table-cell;\">y_range&nbsp;=&nbsp;Range1d(id='3236', ...),</div></div><div class=\"3458\" style=\"display: none;\"><div style=\"display: table-cell;\"></div><div style=\"display: table-cell;\">y_scale&nbsp;=&nbsp;LinearScale(id='3240', ...))</div></div></div>\n",
       "<script>\n",
       "(function() {\n",
       "  var expanded = false;\n",
       "  var ellipsis = document.getElementById(\"3459\");\n",
       "  ellipsis.addEventListener(\"click\", function() {\n",
       "    var rows = document.getElementsByClassName(\"3458\");\n",
       "    for (var i = 0; i < rows.length; i++) {\n",
       "      var el = rows[i];\n",
       "      el.style.display = expanded ? \"none\" : \"table-row\";\n",
       "    }\n",
       "    ellipsis.innerHTML = expanded ? \"&hellip;)\" : \"&lsaquo;&lsaquo;&lsaquo;\";\n",
       "    expanded = !expanded;\n",
       "  });\n",
       "})();\n",
       "</script>\n"
      ],
      "text/plain": [
       "Figure(id='3231', ...)"
      ]
     },
     "execution_count": 48,
     "metadata": {},
     "output_type": "execute_result"
    }
   ],
   "source": [
    "df.plot_bokeh.pie(figsize=(800, 500))"
   ]
  },
  {
   "cell_type": "markdown",
   "metadata": {
    "id": "sP5kJsgzsg5n"
   },
   "source": [
    "### 廢棄物跟海廢等級的關聯"
   ]
  },
  {
   "cell_type": "code",
   "execution_count": 49,
   "metadata": {
    "id": "leT5_eiFwvX2"
   },
   "outputs": [
    {
     "data": {
      "text/html": [
       "<div>\n",
       "<style scoped>\n",
       "    .dataframe tbody tr th:only-of-type {\n",
       "        vertical-align: middle;\n",
       "    }\n",
       "\n",
       "    .dataframe tbody tr th {\n",
       "        vertical-align: top;\n",
       "    }\n",
       "\n",
       "    .dataframe thead th {\n",
       "        text-align: right;\n",
       "    }\n",
       "</style>\n",
       "<table border=\"1\" class=\"dataframe\">\n",
       "  <thead>\n",
       "    <tr style=\"text-align: right;\">\n",
       "      <th></th>\n",
       "      <th>Plastic bottle container</th>\n",
       "      <th>Disposable cup / straw / tableware</th>\n",
       "      <th>Plastic bag</th>\n",
       "      <th>Foam material</th>\n",
       "      <th>Float</th>\n",
       "      <th>Fishing nets and ropes</th>\n",
       "      <th>Fishing equipment</th>\n",
       "      <th>Cigarette and lighter</th>\n",
       "      <th>Glass jar</th>\n",
       "      <th>Metal</th>\n",
       "      <th>Paper</th>\n",
       "      <th>Others</th>\n",
       "    </tr>\n",
       "    <tr>\n",
       "      <th>LEVEL</th>\n",
       "      <th></th>\n",
       "      <th></th>\n",
       "      <th></th>\n",
       "      <th></th>\n",
       "      <th></th>\n",
       "      <th></th>\n",
       "      <th></th>\n",
       "      <th></th>\n",
       "      <th></th>\n",
       "      <th></th>\n",
       "      <th></th>\n",
       "      <th></th>\n",
       "    </tr>\n",
       "  </thead>\n",
       "  <tbody>\n",
       "    <tr>\n",
       "      <th>1</th>\n",
       "      <td>5</td>\n",
       "      <td>2</td>\n",
       "      <td>1</td>\n",
       "      <td>1</td>\n",
       "      <td>0</td>\n",
       "      <td>1</td>\n",
       "      <td>0</td>\n",
       "      <td>0</td>\n",
       "      <td>1</td>\n",
       "      <td>0</td>\n",
       "      <td>0</td>\n",
       "      <td>0</td>\n",
       "    </tr>\n",
       "    <tr>\n",
       "      <th>2</th>\n",
       "      <td>30</td>\n",
       "      <td>8</td>\n",
       "      <td>4</td>\n",
       "      <td>6</td>\n",
       "      <td>3</td>\n",
       "      <td>8</td>\n",
       "      <td>2</td>\n",
       "      <td>1</td>\n",
       "      <td>7</td>\n",
       "      <td>1</td>\n",
       "      <td>2</td>\n",
       "      <td>6</td>\n",
       "    </tr>\n",
       "    <tr>\n",
       "      <th>3</th>\n",
       "      <td>19</td>\n",
       "      <td>3</td>\n",
       "      <td>4</td>\n",
       "      <td>5</td>\n",
       "      <td>2</td>\n",
       "      <td>9</td>\n",
       "      <td>0</td>\n",
       "      <td>0</td>\n",
       "      <td>3</td>\n",
       "      <td>0</td>\n",
       "      <td>0</td>\n",
       "      <td>5</td>\n",
       "    </tr>\n",
       "    <tr>\n",
       "      <th>4</th>\n",
       "      <td>16</td>\n",
       "      <td>4</td>\n",
       "      <td>3</td>\n",
       "      <td>13</td>\n",
       "      <td>2</td>\n",
       "      <td>9</td>\n",
       "      <td>0</td>\n",
       "      <td>0</td>\n",
       "      <td>2</td>\n",
       "      <td>1</td>\n",
       "      <td>0</td>\n",
       "      <td>3</td>\n",
       "    </tr>\n",
       "    <tr>\n",
       "      <th>5</th>\n",
       "      <td>31</td>\n",
       "      <td>7</td>\n",
       "      <td>3</td>\n",
       "      <td>12</td>\n",
       "      <td>7</td>\n",
       "      <td>18</td>\n",
       "      <td>0</td>\n",
       "      <td>0</td>\n",
       "      <td>8</td>\n",
       "      <td>1</td>\n",
       "      <td>2</td>\n",
       "      <td>10</td>\n",
       "    </tr>\n",
       "  </tbody>\n",
       "</table>\n",
       "</div>"
      ],
      "text/plain": [
       "       Plastic bottle container  Disposable cup / straw / tableware  \\\n",
       "LEVEL                                                                 \n",
       "1                             5                                   2   \n",
       "2                            30                                   8   \n",
       "3                            19                                   3   \n",
       "4                            16                                   4   \n",
       "5                            31                                   7   \n",
       "\n",
       "       Plastic bag  Foam material  Float  Fishing nets and ropes  \\\n",
       "LEVEL                                                              \n",
       "1                1              1      0                       1   \n",
       "2                4              6      3                       8   \n",
       "3                4              5      2                       9   \n",
       "4                3             13      2                       9   \n",
       "5                3             12      7                      18   \n",
       "\n",
       "       Fishing equipment  Cigarette and lighter  Glass jar  Metal  Paper  \\\n",
       "LEVEL                                                                      \n",
       "1                      0                      0          1      0      0   \n",
       "2                      2                      1          7      1      2   \n",
       "3                      0                      0          3      0      0   \n",
       "4                      0                      0          2      1      0   \n",
       "5                      0                      0          8      1      2   \n",
       "\n",
       "       Others  \n",
       "LEVEL          \n",
       "1           0  \n",
       "2           6  \n",
       "3           5  \n",
       "4           3  \n",
       "5          10  "
      ]
     },
     "execution_count": 49,
     "metadata": {},
     "output_type": "execute_result"
    }
   ],
   "source": [
    "df = train.groupby('LEVEL')[trash_type].sum()\n",
    "df.head()"
   ]
  },
  {
   "cell_type": "code",
   "execution_count": 50,
   "metadata": {
    "id": "plWNV74Vy7YU"
   },
   "outputs": [
    {
     "data": {
      "text/html": [
       "\n",
       "\n",
       "\n",
       "\n",
       "\n",
       "\n",
       "  <div class=\"bk-root\" id=\"68254748-f210-48b7-baae-11f2fcb9e23f\" data-root-id=\"3497\"></div>\n"
      ]
     },
     "metadata": {},
     "output_type": "display_data"
    },
    {
     "data": {
      "application/javascript": [
       "(function(root) {\n",
       "  function embed_document(root) {\n",
       "    \n",
       "  var docs_json = {\"252e18b1-48a7-41e1-88fa-40719b00673b\":{\"defs\":[],\"roots\":{\"references\":[{\"attributes\":{\"below\":[{\"id\":\"3508\"}],\"center\":[{\"id\":\"3511\"},{\"id\":\"3515\"},{\"id\":\"3570\"}],\"height\":500,\"left\":[{\"id\":\"3512\"}],\"output_backend\":\"webgl\",\"renderers\":[{\"id\":\"3559\"},{\"id\":\"3575\"},{\"id\":\"3590\"},{\"id\":\"3605\"},{\"id\":\"3620\"},{\"id\":\"3635\"},{\"id\":\"3650\"},{\"id\":\"3665\"},{\"id\":\"3680\"},{\"id\":\"3695\"},{\"id\":\"3710\"},{\"id\":\"3725\"}],\"sizing_mode\":\"fixed\",\"title\":{\"id\":\"3498\"},\"toolbar\":{\"id\":\"3523\"},\"width\":1200,\"x_range\":{\"id\":\"3500\"},\"x_scale\":{\"id\":\"3504\"},\"y_range\":{\"id\":\"3502\"},\"y_scale\":{\"id\":\"3506\"}},\"id\":\"3497\",\"subtype\":\"Figure\",\"type\":\"Plot\"},{\"attributes\":{\"fill_alpha\":{\"value\":0.1},\"fill_color\":{\"value\":\"#c5b0d5\"},\"height\":{\"value\":0.8},\"left\":{\"expr\":{\"id\":\"3550\"}},\"line_alpha\":{\"value\":0.1},\"line_color\":{\"value\":\"#c5b0d5\"},\"line_width\":{\"value\":2},\"right\":{\"expr\":{\"id\":\"3551\"}},\"y\":{\"field\":\"__x__values\"}},\"id\":\"3694\",\"type\":\"HBar\"},{\"attributes\":{\"source\":{\"id\":\"3496\"}},\"id\":\"3696\",\"type\":\"CDSView\"},{\"attributes\":{\"source\":{\"id\":\"3496\"}},\"id\":\"3711\",\"type\":\"CDSView\"},{\"attributes\":{\"data_source\":{\"id\":\"3496\"},\"glyph\":{\"id\":\"3693\"},\"hover_glyph\":null,\"muted_glyph\":null,\"name\":\"Metal\",\"nonselection_glyph\":{\"id\":\"3694\"},\"view\":{\"id\":\"3696\"}},\"id\":\"3695\",\"type\":\"GlyphRenderer\"},{\"attributes\":{\"label\":{\"value\":\"Fishing nets and ropes\"},\"renderers\":[{\"id\":\"3635\"}]},\"id\":\"3646\",\"type\":\"LegendItem\"},{\"attributes\":{},\"id\":\"3506\",\"type\":\"LinearScale\"},{\"attributes\":{\"fill_alpha\":{\"value\":0.1},\"fill_color\":{\"value\":\"#aec7e8\"},\"height\":{\"value\":0.8},\"left\":{\"expr\":{\"id\":\"3534\"}},\"line_alpha\":{\"value\":0.1},\"line_color\":{\"value\":\"#aec7e8\"},\"line_width\":{\"value\":2},\"right\":{\"expr\":{\"id\":\"3535\"}},\"y\":{\"field\":\"__x__values\"}},\"id\":\"3574\",\"type\":\"HBar\"},{\"attributes\":{},\"id\":\"3516\",\"type\":\"PanTool\"},{\"attributes\":{\"formatter\":{\"id\":\"3564\"},\"major_label_policy\":{\"id\":\"3563\"},\"ticker\":{\"id\":\"3509\"}},\"id\":\"3508\",\"type\":\"LinearAxis\"},{\"attributes\":{},\"id\":\"3519\",\"type\":\"SaveTool\"},{\"attributes\":{},\"id\":\"3504\",\"type\":\"LinearScale\"},{\"attributes\":{\"fill_alpha\":{\"value\":0.1},\"fill_color\":{\"value\":\"#8c564b\"},\"height\":{\"value\":0.8},\"left\":{\"expr\":{\"id\":\"3552\"}},\"line_alpha\":{\"value\":0.1},\"line_color\":{\"value\":\"#8c564b\"},\"line_width\":{\"value\":2},\"right\":{\"expr\":{\"id\":\"3553\"}},\"y\":{\"field\":\"__x__values\"}},\"id\":\"3709\",\"type\":\"HBar\"},{\"attributes\":{\"axis\":{\"id\":\"3508\"},\"ticker\":null},\"id\":\"3511\",\"type\":\"Grid\"},{\"attributes\":{\"overlay\":{\"id\":\"3522\"}},\"id\":\"3518\",\"type\":\"BoxZoomTool\"},{\"attributes\":{\"data_source\":{\"id\":\"3496\"},\"glyph\":{\"id\":\"3708\"},\"hover_glyph\":null,\"muted_glyph\":null,\"name\":\"Paper\",\"nonselection_glyph\":{\"id\":\"3709\"},\"view\":{\"id\":\"3711\"}},\"id\":\"3710\",\"type\":\"GlyphRenderer\"},{\"attributes\":{\"label\":{\"value\":\"Paper\"},\"renderers\":[{\"id\":\"3710\"}]},\"id\":\"3721\",\"type\":\"LegendItem\"},{\"attributes\":{\"fill_color\":{\"value\":\"#aec7e8\"},\"height\":{\"value\":0.8},\"left\":{\"expr\":{\"id\":\"3534\"}},\"line_color\":{\"value\":\"#aec7e8\"},\"line_width\":{\"value\":2},\"right\":{\"expr\":{\"id\":\"3535\"}},\"y\":{\"field\":\"__x__values\"}},\"id\":\"3573\",\"type\":\"HBar\"},{\"attributes\":{\"axis\":{\"id\":\"3512\"},\"dimension\":1,\"ticker\":null},\"id\":\"3515\",\"type\":\"Grid\"},{\"attributes\":{\"axis_label\":\"LEVEL\",\"formatter\":{\"id\":\"3530\"},\"major_label_policy\":{\"id\":\"3566\"},\"ticker\":{\"id\":\"3739\"}},\"id\":\"3512\",\"type\":\"LinearAxis\"},{\"attributes\":{\"code\":\"\\n                                    var labels = {0: '1', 1: '2', 2: '3', 3: '4', 4: '5', 5: '6', 6: '7', 7: '8', 8: '9', 9: '10'};\\n                                    return labels[tick];\\n                                    \"},\"id\":\"3530\",\"type\":\"FuncTickFormatter\"},{\"attributes\":{\"data_source\":{\"id\":\"3496\"},\"glyph\":{\"id\":\"3633\"},\"hover_glyph\":null,\"muted_glyph\":null,\"name\":\"Fishing nets and ropes\",\"nonselection_glyph\":{\"id\":\"3634\"},\"view\":{\"id\":\"3636\"}},\"id\":\"3635\",\"type\":\"GlyphRenderer\"},{\"attributes\":{},\"id\":\"3509\",\"type\":\"BasicTicker\"},{\"attributes\":{\"label\":{\"value\":\"Disposable cup / straw / tableware\"},\"renderers\":[{\"id\":\"3575\"}]},\"id\":\"3586\",\"type\":\"LegendItem\"},{\"attributes\":{\"fill_color\":{\"value\":\"#8c564b\"},\"height\":{\"value\":0.8},\"left\":{\"expr\":{\"id\":\"3552\"}},\"line_color\":{\"value\":\"#8c564b\"},\"line_width\":{\"value\":2},\"right\":{\"expr\":{\"id\":\"3553\"}},\"y\":{\"field\":\"__x__values\"}},\"id\":\"3708\",\"type\":\"HBar\"},{\"attributes\":{\"fill_color\":{\"value\":\"#c49c94\"},\"height\":{\"value\":0.8},\"left\":{\"expr\":{\"id\":\"3554\"}},\"line_color\":{\"value\":\"#c49c94\"},\"line_width\":{\"value\":2},\"right\":{\"expr\":{\"id\":\"3555\"}},\"y\":{\"field\":\"__x__values\"}},\"id\":\"3723\",\"type\":\"HBar\"},{\"attributes\":{\"fill_color\":{\"value\":\"#ffbb78\"},\"height\":{\"value\":0.8},\"left\":{\"expr\":{\"id\":\"3538\"}},\"line_color\":{\"value\":\"#ffbb78\"},\"line_width\":{\"value\":2},\"right\":{\"expr\":{\"id\":\"3539\"}},\"y\":{\"field\":\"__x__values\"}},\"id\":\"3603\",\"type\":\"HBar\"},{\"attributes\":{\"data_source\":{\"id\":\"3496\"},\"glyph\":{\"id\":\"3573\"},\"hover_glyph\":null,\"muted_glyph\":null,\"name\":\"Disposable cup / straw / tableware\",\"nonselection_glyph\":{\"id\":\"3574\"},\"view\":{\"id\":\"3576\"}},\"id\":\"3575\",\"type\":\"GlyphRenderer\"},{\"attributes\":{\"source\":{\"id\":\"3496\"}},\"id\":\"3726\",\"type\":\"CDSView\"},{\"attributes\":{\"label\":{\"value\":\"Plastic bag\"},\"renderers\":[{\"id\":\"3590\"}]},\"id\":\"3601\",\"type\":\"LegendItem\"},{\"attributes\":{\"data\":{\"Cigarette and lighter\":[0,1,0,0,0,0,0,0,0,0],\"Disposable cup / straw / tableware\":[2,8,3,4,7,8,11,4,0,0],\"Fishing equipment\":[0,2,0,0,0,0,1,0,0,0],\"Fishing nets and ropes\":[1,8,9,9,18,20,26,19,12,6],\"Float\":[0,3,2,2,7,11,14,8,9,1],\"Foam material\":[1,6,5,13,12,28,30,26,16,9],\"Glass jar\":[1,7,3,2,8,6,2,1,2,1],\"Metal\":[0,1,0,1,1,3,1,3,0,0],\"Others\":[0,6,5,3,10,5,6,7,3,0],\"Paper\":[0,2,0,0,2,1,0,0,0,0],\"Plastic bag\":[1,4,4,3,3,1,3,1,0,0],\"Plastic bottle container\":[5,30,19,16,31,33,37,24,12,7],\"__x__values\":[0,1,2,3,4,5,6,7,8,9],\"__x__values_original\":[1,2,3,4,5,6,7,8,9,10]},\"selected\":{\"id\":\"3569\"},\"selection_policy\":{\"id\":\"3568\"}},\"id\":\"3496\",\"type\":\"ColumnDataSource\"},{\"attributes\":{\"fill_alpha\":{\"value\":0.1},\"fill_color\":{\"value\":\"#c49c94\"},\"height\":{\"value\":0.8},\"left\":{\"expr\":{\"id\":\"3554\"}},\"line_alpha\":{\"value\":0.1},\"line_color\":{\"value\":\"#c49c94\"},\"line_width\":{\"value\":2},\"right\":{\"expr\":{\"id\":\"3555\"}},\"y\":{\"field\":\"__x__values\"}},\"id\":\"3724\",\"type\":\"HBar\"},{\"attributes\":{\"data_source\":{\"id\":\"3496\"},\"glyph\":{\"id\":\"3723\"},\"hover_glyph\":null,\"muted_glyph\":null,\"name\":\"Others\",\"nonselection_glyph\":{\"id\":\"3724\"},\"view\":{\"id\":\"3726\"}},\"id\":\"3725\",\"type\":\"GlyphRenderer\"},{\"attributes\":{\"label\":{\"value\":\"Others\"},\"renderers\":[{\"id\":\"3725\"}]},\"id\":\"3736\",\"type\":\"LegendItem\"},{\"attributes\":{\"data_source\":{\"id\":\"3496\"},\"glyph\":{\"id\":\"3588\"},\"hover_glyph\":null,\"muted_glyph\":null,\"name\":\"Plastic bag\",\"nonselection_glyph\":{\"id\":\"3589\"},\"view\":{\"id\":\"3591\"}},\"id\":\"3590\",\"type\":\"GlyphRenderer\"},{\"attributes\":{},\"id\":\"3517\",\"type\":\"WheelZoomTool\"},{\"attributes\":{\"fill_color\":{\"value\":\"#d62728\"},\"height\":{\"value\":0.8},\"left\":{\"expr\":{\"id\":\"3544\"}},\"line_color\":{\"value\":\"#d62728\"},\"line_width\":{\"value\":2},\"right\":{\"expr\":{\"id\":\"3545\"}},\"y\":{\"field\":\"__x__values\"}},\"id\":\"3648\",\"type\":\"HBar\"},{\"attributes\":{},\"id\":\"3569\",\"type\":\"Selection\"},{\"attributes\":{\"fill_alpha\":{\"value\":0.1},\"fill_color\":{\"value\":\"#ff7f0e\"},\"height\":{\"value\":0.8},\"left\":{\"expr\":{\"id\":\"3536\"}},\"line_alpha\":{\"value\":0.1},\"line_color\":{\"value\":\"#ff7f0e\"},\"line_width\":{\"value\":2},\"right\":{\"expr\":{\"id\":\"3537\"}},\"y\":{\"field\":\"__x__values\"}},\"id\":\"3589\",\"type\":\"HBar\"},{\"attributes\":{\"source\":{\"id\":\"3496\"}},\"id\":\"3591\",\"type\":\"CDSView\"},{\"attributes\":{\"fill_color\":{\"value\":\"#ff7f0e\"},\"height\":{\"value\":0.8},\"left\":{\"expr\":{\"id\":\"3536\"}},\"line_color\":{\"value\":\"#ff7f0e\"},\"line_width\":{\"value\":2},\"right\":{\"expr\":{\"id\":\"3537\"}},\"y\":{\"field\":\"__x__values\"}},\"id\":\"3588\",\"type\":\"HBar\"},{\"attributes\":{\"source\":{\"id\":\"3496\"}},\"id\":\"3576\",\"type\":\"CDSView\"},{\"attributes\":{\"ticks\":[0,1,2,3,4,5,6,7,8,9]},\"id\":\"3739\",\"type\":\"FixedTicker\"},{\"attributes\":{\"fields\":[\"Plastic bottle container\"]},\"id\":\"3533\",\"type\":\"Stack\"},{\"attributes\":{\"fields\":[\"Plastic bottle container\",\"Disposable cup / straw / tableware\"]},\"id\":\"3535\",\"type\":\"Stack\"},{\"attributes\":{\"fields\":[\"Plastic bottle container\",\"Disposable cup / straw / tableware\",\"Plastic bag\",\"Foam material\",\"Float\",\"Fishing nets and ropes\",\"Fishing equipment\"]},\"id\":\"3545\",\"type\":\"Stack\"},{\"attributes\":{\"fields\":[\"Plastic bottle container\"]},\"id\":\"3534\",\"type\":\"Stack\"},{\"attributes\":{\"fields\":[\"Plastic bottle container\",\"Disposable cup / straw / tableware\",\"Plastic bag\",\"Foam material\",\"Float\",\"Fishing nets and ropes\",\"Fishing equipment\"]},\"id\":\"3546\",\"type\":\"Stack\"},{\"attributes\":{\"fields\":[\"Plastic bottle container\",\"Disposable cup / straw / tableware\"]},\"id\":\"3536\",\"type\":\"Stack\"},{\"attributes\":{\"fields\":[\"Plastic bottle container\",\"Disposable cup / straw / tableware\",\"Plastic bag\"]},\"id\":\"3537\",\"type\":\"Stack\"},{\"attributes\":{\"source\":{\"id\":\"3496\"}},\"id\":\"3606\",\"type\":\"CDSView\"},{\"attributes\":{\"fields\":[\"Plastic bottle container\",\"Disposable cup / straw / tableware\",\"Plastic bag\"]},\"id\":\"3538\",\"type\":\"Stack\"},{\"attributes\":{\"fields\":[\"Plastic bottle container\",\"Disposable cup / straw / tableware\",\"Plastic bag\",\"Foam material\"]},\"id\":\"3539\",\"type\":\"Stack\"},{\"attributes\":{\"fields\":[\"Plastic bottle container\",\"Disposable cup / straw / tableware\",\"Plastic bag\",\"Foam material\"]},\"id\":\"3540\",\"type\":\"Stack\"},{\"attributes\":{\"fields\":[\"Plastic bottle container\",\"Disposable cup / straw / tableware\",\"Plastic bag\",\"Foam material\",\"Float\"]},\"id\":\"3541\",\"type\":\"Stack\"},{\"attributes\":{\"data_source\":{\"id\":\"3496\"},\"glyph\":{\"id\":\"3603\"},\"hover_glyph\":null,\"muted_glyph\":null,\"name\":\"Foam material\",\"nonselection_glyph\":{\"id\":\"3604\"},\"view\":{\"id\":\"3606\"}},\"id\":\"3605\",\"type\":\"GlyphRenderer\"},{\"attributes\":{\"fields\":[\"Plastic bottle container\",\"Disposable cup / straw / tableware\",\"Plastic bag\",\"Foam material\",\"Float\",\"Fishing nets and ropes\"]},\"id\":\"3544\",\"type\":\"Stack\"},{\"attributes\":{\"fields\":[\"Plastic bottle container\",\"Disposable cup / straw / tableware\",\"Plastic bag\",\"Foam material\",\"Float\"]},\"id\":\"3542\",\"type\":\"Stack\"},{\"attributes\":{\"fields\":[\"Plastic bottle container\",\"Disposable cup / straw / tableware\",\"Plastic bag\",\"Foam material\",\"Float\",\"Fishing nets and ropes\",\"Fishing equipment\",\"Cigarette and lighter\"]},\"id\":\"3548\",\"type\":\"Stack\"},{\"attributes\":{\"fields\":[\"Plastic bottle container\",\"Disposable cup / straw / tableware\",\"Plastic bag\",\"Foam material\",\"Float\",\"Fishing nets and ropes\"]},\"id\":\"3543\",\"type\":\"Stack\"},{\"attributes\":{\"fields\":[\"Plastic bottle container\",\"Disposable cup / straw / tableware\",\"Plastic bag\",\"Foam material\",\"Float\",\"Fishing nets and ropes\",\"Fishing equipment\",\"Cigarette and lighter\",\"Glass jar\"]},\"id\":\"3550\",\"type\":\"Stack\"},{\"attributes\":{\"fields\":[\"Plastic bottle container\",\"Disposable cup / straw / tableware\",\"Plastic bag\",\"Foam material\",\"Float\",\"Fishing nets and ropes\",\"Fishing equipment\",\"Cigarette and lighter\"]},\"id\":\"3547\",\"type\":\"Stack\"},{\"attributes\":{\"fill_alpha\":{\"value\":0.1},\"fill_color\":{\"value\":\"#ffbb78\"},\"height\":{\"value\":0.8},\"left\":{\"expr\":{\"id\":\"3538\"}},\"line_alpha\":{\"value\":0.1},\"line_color\":{\"value\":\"#ffbb78\"},\"line_width\":{\"value\":2},\"right\":{\"expr\":{\"id\":\"3539\"}},\"y\":{\"field\":\"__x__values\"}},\"id\":\"3604\",\"type\":\"HBar\"},{\"attributes\":{\"fields\":[\"Plastic bottle container\",\"Disposable cup / straw / tableware\",\"Plastic bag\",\"Foam material\",\"Float\",\"Fishing nets and ropes\",\"Fishing equipment\",\"Cigarette and lighter\",\"Glass jar\"]},\"id\":\"3549\",\"type\":\"Stack\"},{\"attributes\":{\"fill_alpha\":{\"value\":0.1},\"fill_color\":{\"value\":\"#98df8a\"},\"height\":{\"value\":0.8},\"left\":{\"expr\":{\"id\":\"3542\"}},\"line_alpha\":{\"value\":0.1},\"line_color\":{\"value\":\"#98df8a\"},\"line_width\":{\"value\":2},\"right\":{\"expr\":{\"id\":\"3543\"}},\"y\":{\"field\":\"__x__values\"}},\"id\":\"3634\",\"type\":\"HBar\"},{\"attributes\":{\"source\":{\"id\":\"3496\"}},\"id\":\"3621\",\"type\":\"CDSView\"},{\"attributes\":{\"fill_color\":{\"value\":\"#98df8a\"},\"height\":{\"value\":0.8},\"left\":{\"expr\":{\"id\":\"3542\"}},\"line_color\":{\"value\":\"#98df8a\"},\"line_width\":{\"value\":2},\"right\":{\"expr\":{\"id\":\"3543\"}},\"y\":{\"field\":\"__x__values\"}},\"id\":\"3633\",\"type\":\"HBar\"},{\"attributes\":{\"label\":{\"value\":\"Float\"},\"renderers\":[{\"id\":\"3620\"}]},\"id\":\"3631\",\"type\":\"LegendItem\"},{\"attributes\":{\"fill_alpha\":{\"value\":0.1},\"fill_color\":{\"value\":\"#ff9896\"},\"height\":{\"value\":0.8},\"left\":{\"expr\":{\"id\":\"3546\"}},\"line_alpha\":{\"value\":0.1},\"line_color\":{\"value\":\"#ff9896\"},\"line_width\":{\"value\":2},\"right\":{\"expr\":{\"id\":\"3547\"}},\"y\":{\"field\":\"__x__values\"}},\"id\":\"3664\",\"type\":\"HBar\"},{\"attributes\":{\"fields\":[\"Plastic bottle container\",\"Disposable cup / straw / tableware\",\"Plastic bag\",\"Foam material\",\"Float\",\"Fishing nets and ropes\",\"Fishing equipment\",\"Cigarette and lighter\",\"Glass jar\",\"Metal\"]},\"id\":\"3551\",\"type\":\"Stack\"},{\"attributes\":{\"source\":{\"id\":\"3496\"}},\"id\":\"3666\",\"type\":\"CDSView\"},{\"attributes\":{\"fields\":[\"Plastic bottle container\",\"Disposable cup / straw / tableware\",\"Plastic bag\",\"Foam material\",\"Float\",\"Fishing nets and ropes\",\"Fishing equipment\",\"Cigarette and lighter\",\"Glass jar\",\"Metal\"]},\"id\":\"3552\",\"type\":\"Stack\"},{\"attributes\":{\"fields\":[\"Plastic bottle container\",\"Disposable cup / straw / tableware\",\"Plastic bag\",\"Foam material\",\"Float\",\"Fishing nets and ropes\",\"Fishing equipment\",\"Cigarette and lighter\",\"Glass jar\",\"Metal\",\"Paper\"]},\"id\":\"3553\",\"type\":\"Stack\"},{\"attributes\":{\"fill_alpha\":{\"value\":0.1},\"fill_color\":{\"value\":\"#2ca02c\"},\"height\":{\"value\":0.8},\"left\":{\"expr\":{\"id\":\"3540\"}},\"line_alpha\":{\"value\":0.1},\"line_color\":{\"value\":\"#2ca02c\"},\"line_width\":{\"value\":2},\"right\":{\"expr\":{\"id\":\"3541\"}},\"y\":{\"field\":\"__x__values\"}},\"id\":\"3619\",\"type\":\"HBar\"},{\"attributes\":{\"fields\":[\"Plastic bottle container\",\"Disposable cup / straw / tableware\",\"Plastic bag\",\"Foam material\",\"Float\",\"Fishing nets and ropes\",\"Fishing equipment\",\"Cigarette and lighter\",\"Glass jar\",\"Metal\",\"Paper\"]},\"id\":\"3554\",\"type\":\"Stack\"},{\"attributes\":{\"fields\":[\"Plastic bottle container\",\"Disposable cup / straw / tableware\",\"Plastic bag\",\"Foam material\",\"Float\",\"Fishing nets and ropes\",\"Fishing equipment\",\"Cigarette and lighter\",\"Glass jar\",\"Metal\",\"Paper\",\"Others\"]},\"id\":\"3555\",\"type\":\"Stack\"},{\"attributes\":{\"data_source\":{\"id\":\"3496\"},\"glyph\":{\"id\":\"3618\"},\"hover_glyph\":null,\"muted_glyph\":null,\"name\":\"Float\",\"nonselection_glyph\":{\"id\":\"3619\"},\"view\":{\"id\":\"3621\"}},\"id\":\"3620\",\"type\":\"GlyphRenderer\"},{\"attributes\":{\"data_source\":{\"id\":\"3496\"},\"glyph\":{\"id\":\"3663\"},\"hover_glyph\":null,\"muted_glyph\":null,\"name\":\"Cigarette and lighter\",\"nonselection_glyph\":{\"id\":\"3664\"},\"view\":{\"id\":\"3666\"}},\"id\":\"3665\",\"type\":\"GlyphRenderer\"},{\"attributes\":{\"fill_color\":{\"value\":\"#1f77b4\"},\"height\":{\"value\":0.8},\"left\":{\"expr\":{\"id\":\"3532\"}},\"line_color\":{\"value\":\"#1f77b4\"},\"line_width\":{\"value\":2},\"right\":{\"expr\":{\"id\":\"3533\"}},\"y\":{\"field\":\"__x__values\"}},\"id\":\"3557\",\"type\":\"HBar\"},{\"attributes\":{\"label\":{\"value\":\"Cigarette and lighter\"},\"renderers\":[{\"id\":\"3665\"}]},\"id\":\"3676\",\"type\":\"LegendItem\"},{\"attributes\":{\"fill_color\":{\"value\":\"#2ca02c\"},\"height\":{\"value\":0.8},\"left\":{\"expr\":{\"id\":\"3540\"}},\"line_color\":{\"value\":\"#2ca02c\"},\"line_width\":{\"value\":2},\"right\":{\"expr\":{\"id\":\"3541\"}},\"y\":{\"field\":\"__x__values\"}},\"id\":\"3618\",\"type\":\"HBar\"},{\"attributes\":{\"source\":{\"id\":\"3496\"}},\"id\":\"3560\",\"type\":\"CDSView\"},{\"attributes\":{\"fill_alpha\":{\"value\":0.1},\"fill_color\":{\"value\":\"#1f77b4\"},\"height\":{\"value\":0.8},\"left\":{\"expr\":{\"id\":\"3532\"}},\"line_alpha\":{\"value\":0.1},\"line_color\":{\"value\":\"#1f77b4\"},\"line_width\":{\"value\":2},\"right\":{\"expr\":{\"id\":\"3533\"}},\"y\":{\"field\":\"__x__values\"}},\"id\":\"3558\",\"type\":\"HBar\"},{\"attributes\":{\"data_source\":{\"id\":\"3496\"},\"glyph\":{\"id\":\"3557\"},\"hover_glyph\":null,\"muted_glyph\":null,\"name\":\"Plastic bottle container\",\"nonselection_glyph\":{\"id\":\"3558\"},\"view\":{\"id\":\"3560\"}},\"id\":\"3559\",\"type\":\"GlyphRenderer\"},{\"attributes\":{\"label\":{\"value\":\"Plastic bottle container\"},\"renderers\":[{\"id\":\"3559\"}]},\"id\":\"3571\",\"type\":\"LegendItem\"},{\"attributes\":{\"items\":[{\"id\":\"3571\"},{\"id\":\"3586\"},{\"id\":\"3601\"},{\"id\":\"3616\"},{\"id\":\"3631\"},{\"id\":\"3646\"},{\"id\":\"3661\"},{\"id\":\"3676\"},{\"id\":\"3691\"},{\"id\":\"3706\"},{\"id\":\"3721\"},{\"id\":\"3736\"}]},\"id\":\"3570\",\"type\":\"Legend\"},{\"attributes\":{\"callback\":null,\"mode\":\"hline\",\"renderers\":[{\"id\":\"3725\"}],\"tooltips\":[[\"LEVEL\",\"@__x__values_original\"],[\"Plastic bottle container\",\"@{Plastic bottle container}\"],[\"Disposable cup / straw / tableware\",\"@{Disposable cup / straw / tableware}\"],[\"Plastic bag\",\"@{Plastic bag}\"],[\"Foam material\",\"@{Foam material}\"],[\"Float\",\"@{Float}\"],[\"Fishing nets and ropes\",\"@{Fishing nets and ropes}\"],[\"Fishing equipment\",\"@{Fishing equipment}\"],[\"Cigarette and lighter\",\"@{Cigarette and lighter}\"],[\"Glass jar\",\"@{Glass jar}\"],[\"Metal\",\"@{Metal}\"],[\"Paper\",\"@{Paper}\"],[\"Others\",\"@{Others}\"]]},\"id\":\"3737\",\"type\":\"HoverTool\"},{\"attributes\":{},\"id\":\"3500\",\"type\":\"DataRange1d\"},{\"attributes\":{\"source\":{\"id\":\"3496\"}},\"id\":\"3636\",\"type\":\"CDSView\"},{\"attributes\":{},\"id\":\"3498\",\"type\":\"Title\"},{\"attributes\":{},\"id\":\"3521\",\"type\":\"HelpTool\"},{\"attributes\":{},\"id\":\"3563\",\"type\":\"AllLabels\"},{\"attributes\":{\"fields\":[]},\"id\":\"3532\",\"type\":\"Stack\"},{\"attributes\":{},\"id\":\"3502\",\"type\":\"DataRange1d\"},{\"attributes\":{},\"id\":\"3564\",\"type\":\"BasicTickFormatter\"},{\"attributes\":{},\"id\":\"3520\",\"type\":\"ResetTool\"},{\"attributes\":{\"fill_color\":{\"value\":\"#9467bd\"},\"height\":{\"value\":0.8},\"left\":{\"expr\":{\"id\":\"3548\"}},\"line_color\":{\"value\":\"#9467bd\"},\"line_width\":{\"value\":2},\"right\":{\"expr\":{\"id\":\"3549\"}},\"y\":{\"field\":\"__x__values\"}},\"id\":\"3678\",\"type\":\"HBar\"},{\"attributes\":{},\"id\":\"3568\",\"type\":\"UnionRenderers\"},{\"attributes\":{\"source\":{\"id\":\"3496\"}},\"id\":\"3681\",\"type\":\"CDSView\"},{\"attributes\":{\"fill_alpha\":{\"value\":0.1},\"fill_color\":{\"value\":\"#9467bd\"},\"height\":{\"value\":0.8},\"left\":{\"expr\":{\"id\":\"3548\"}},\"line_alpha\":{\"value\":0.1},\"line_color\":{\"value\":\"#9467bd\"},\"line_width\":{\"value\":2},\"right\":{\"expr\":{\"id\":\"3549\"}},\"y\":{\"field\":\"__x__values\"}},\"id\":\"3679\",\"type\":\"HBar\"},{\"attributes\":{\"data_source\":{\"id\":\"3496\"},\"glyph\":{\"id\":\"3678\"},\"hover_glyph\":null,\"muted_glyph\":null,\"name\":\"Glass jar\",\"nonselection_glyph\":{\"id\":\"3679\"},\"view\":{\"id\":\"3681\"}},\"id\":\"3680\",\"type\":\"GlyphRenderer\"},{\"attributes\":{\"label\":{\"value\":\"Glass jar\"},\"renderers\":[{\"id\":\"3680\"}]},\"id\":\"3691\",\"type\":\"LegendItem\"},{\"attributes\":{\"bottom_units\":\"screen\",\"fill_alpha\":0.5,\"fill_color\":\"lightgrey\",\"left_units\":\"screen\",\"level\":\"overlay\",\"line_alpha\":1.0,\"line_color\":\"black\",\"line_dash\":[4,4],\"line_width\":2,\"right_units\":\"screen\",\"syncable\":false,\"top_units\":\"screen\"},\"id\":\"3522\",\"type\":\"BoxAnnotation\"},{\"attributes\":{},\"id\":\"3566\",\"type\":\"AllLabels\"},{\"attributes\":{\"label\":{\"value\":\"Foam material\"},\"renderers\":[{\"id\":\"3605\"}]},\"id\":\"3616\",\"type\":\"LegendItem\"},{\"attributes\":{\"label\":{\"value\":\"Fishing equipment\"},\"renderers\":[{\"id\":\"3650\"}]},\"id\":\"3661\",\"type\":\"LegendItem\"},{\"attributes\":{\"fill_alpha\":{\"value\":0.1},\"fill_color\":{\"value\":\"#d62728\"},\"height\":{\"value\":0.8},\"left\":{\"expr\":{\"id\":\"3544\"}},\"line_alpha\":{\"value\":0.1},\"line_color\":{\"value\":\"#d62728\"},\"line_width\":{\"value\":2},\"right\":{\"expr\":{\"id\":\"3545\"}},\"y\":{\"field\":\"__x__values\"}},\"id\":\"3649\",\"type\":\"HBar\"},{\"attributes\":{\"source\":{\"id\":\"3496\"}},\"id\":\"3651\",\"type\":\"CDSView\"},{\"attributes\":{\"label\":{\"value\":\"Metal\"},\"renderers\":[{\"id\":\"3695\"}]},\"id\":\"3706\",\"type\":\"LegendItem\"},{\"attributes\":{\"data_source\":{\"id\":\"3496\"},\"glyph\":{\"id\":\"3648\"},\"hover_glyph\":null,\"muted_glyph\":null,\"name\":\"Fishing equipment\",\"nonselection_glyph\":{\"id\":\"3649\"},\"view\":{\"id\":\"3651\"}},\"id\":\"3650\",\"type\":\"GlyphRenderer\"},{\"attributes\":{\"fill_color\":{\"value\":\"#ff9896\"},\"height\":{\"value\":0.8},\"left\":{\"expr\":{\"id\":\"3546\"}},\"line_color\":{\"value\":\"#ff9896\"},\"line_width\":{\"value\":2},\"right\":{\"expr\":{\"id\":\"3547\"}},\"y\":{\"field\":\"__x__values\"}},\"id\":\"3663\",\"type\":\"HBar\"},{\"attributes\":{\"active_multi\":null,\"active_scroll\":{\"id\":\"3517\"},\"tools\":[{\"id\":\"3516\"},{\"id\":\"3517\"},{\"id\":\"3518\"},{\"id\":\"3519\"},{\"id\":\"3520\"},{\"id\":\"3521\"},{\"id\":\"3737\"}]},\"id\":\"3523\",\"type\":\"Toolbar\"},{\"attributes\":{\"fill_color\":{\"value\":\"#c5b0d5\"},\"height\":{\"value\":0.8},\"left\":{\"expr\":{\"id\":\"3550\"}},\"line_color\":{\"value\":\"#c5b0d5\"},\"line_width\":{\"value\":2},\"right\":{\"expr\":{\"id\":\"3551\"}},\"y\":{\"field\":\"__x__values\"}},\"id\":\"3693\",\"type\":\"HBar\"}],\"root_ids\":[\"3497\"]},\"title\":\"Bokeh Application\",\"version\":\"2.3.2\"}};\n",
       "  var render_items = [{\"docid\":\"252e18b1-48a7-41e1-88fa-40719b00673b\",\"root_ids\":[\"3497\"],\"roots\":{\"3497\":\"68254748-f210-48b7-baae-11f2fcb9e23f\"}}];\n",
       "  root.Bokeh.embed.embed_items_notebook(docs_json, render_items);\n",
       "\n",
       "  }\n",
       "  if (root.Bokeh !== undefined) {\n",
       "    embed_document(root);\n",
       "  } else {\n",
       "    var attempts = 0;\n",
       "    var timer = setInterval(function(root) {\n",
       "      if (root.Bokeh !== undefined) {\n",
       "        clearInterval(timer);\n",
       "        embed_document(root);\n",
       "      } else {\n",
       "        attempts++;\n",
       "        if (attempts > 100) {\n",
       "          clearInterval(timer);\n",
       "          console.log(\"Bokeh: ERROR: Unable to run BokehJS code because BokehJS library is missing\");\n",
       "        }\n",
       "      }\n",
       "    }, 10, root)\n",
       "  }\n",
       "})(window);"
      ],
      "application/vnd.bokehjs_exec.v0+json": ""
     },
     "metadata": {
      "application/vnd.bokehjs_exec.v0+json": {
       "id": "3497"
      }
     },
     "output_type": "display_data"
    },
    {
     "data": {
      "text/html": [
       "<div style=\"display: table;\"><div style=\"display: table-row;\"><div style=\"display: table-cell;\"><b title=\"bokeh.plotting.figure.Figure\">Figure</b>(</div><div style=\"display: table-cell;\">id&nbsp;=&nbsp;'3497', <span id=\"3915\" style=\"cursor: pointer;\">&hellip;)</span></div></div><div class=\"3914\" style=\"display: none;\"><div style=\"display: table-cell;\"></div><div style=\"display: table-cell;\">above&nbsp;=&nbsp;[],</div></div><div class=\"3914\" style=\"display: none;\"><div style=\"display: table-cell;\"></div><div style=\"display: table-cell;\">align&nbsp;=&nbsp;'start',</div></div><div class=\"3914\" style=\"display: none;\"><div style=\"display: table-cell;\"></div><div style=\"display: table-cell;\">aspect_ratio&nbsp;=&nbsp;None,</div></div><div class=\"3914\" style=\"display: none;\"><div style=\"display: table-cell;\"></div><div style=\"display: table-cell;\">aspect_scale&nbsp;=&nbsp;1,</div></div><div class=\"3914\" style=\"display: none;\"><div style=\"display: table-cell;\"></div><div style=\"display: table-cell;\">background&nbsp;=&nbsp;None,</div></div><div class=\"3914\" style=\"display: none;\"><div style=\"display: table-cell;\"></div><div style=\"display: table-cell;\">background_fill_alpha&nbsp;=&nbsp;1.0,</div></div><div class=\"3914\" style=\"display: none;\"><div style=\"display: table-cell;\"></div><div style=\"display: table-cell;\">background_fill_color&nbsp;=&nbsp;'#ffffff',</div></div><div class=\"3914\" style=\"display: none;\"><div style=\"display: table-cell;\"></div><div style=\"display: table-cell;\">below&nbsp;=&nbsp;[LinearAxis(id='3508', ...)],</div></div><div class=\"3914\" style=\"display: none;\"><div style=\"display: table-cell;\"></div><div style=\"display: table-cell;\">border_fill_alpha&nbsp;=&nbsp;1.0,</div></div><div class=\"3914\" style=\"display: none;\"><div style=\"display: table-cell;\"></div><div style=\"display: table-cell;\">border_fill_color&nbsp;=&nbsp;'#ffffff',</div></div><div class=\"3914\" style=\"display: none;\"><div style=\"display: table-cell;\"></div><div style=\"display: table-cell;\">center&nbsp;=&nbsp;[Grid(id='3511', ...), Grid(id='3515', ...), Legend(id='3570', ...)],</div></div><div class=\"3914\" style=\"display: none;\"><div style=\"display: table-cell;\"></div><div style=\"display: table-cell;\">css_classes&nbsp;=&nbsp;[],</div></div><div class=\"3914\" style=\"display: none;\"><div style=\"display: table-cell;\"></div><div style=\"display: table-cell;\">disabled&nbsp;=&nbsp;False,</div></div><div class=\"3914\" style=\"display: none;\"><div style=\"display: table-cell;\"></div><div style=\"display: table-cell;\">extra_x_ranges&nbsp;=&nbsp;{},</div></div><div class=\"3914\" style=\"display: none;\"><div style=\"display: table-cell;\"></div><div style=\"display: table-cell;\">extra_y_ranges&nbsp;=&nbsp;{},</div></div><div class=\"3914\" style=\"display: none;\"><div style=\"display: table-cell;\"></div><div style=\"display: table-cell;\">frame_height&nbsp;=&nbsp;None,</div></div><div class=\"3914\" style=\"display: none;\"><div style=\"display: table-cell;\"></div><div style=\"display: table-cell;\">frame_width&nbsp;=&nbsp;None,</div></div><div class=\"3914\" style=\"display: none;\"><div style=\"display: table-cell;\"></div><div style=\"display: table-cell;\">height&nbsp;=&nbsp;500,</div></div><div class=\"3914\" style=\"display: none;\"><div style=\"display: table-cell;\"></div><div style=\"display: table-cell;\">height_policy&nbsp;=&nbsp;'auto',</div></div><div class=\"3914\" style=\"display: none;\"><div style=\"display: table-cell;\"></div><div style=\"display: table-cell;\">hidpi&nbsp;=&nbsp;True,</div></div><div class=\"3914\" style=\"display: none;\"><div style=\"display: table-cell;\"></div><div style=\"display: table-cell;\">inner_height&nbsp;=&nbsp;0,</div></div><div class=\"3914\" style=\"display: none;\"><div style=\"display: table-cell;\"></div><div style=\"display: table-cell;\">inner_width&nbsp;=&nbsp;0,</div></div><div class=\"3914\" style=\"display: none;\"><div style=\"display: table-cell;\"></div><div style=\"display: table-cell;\">js_event_callbacks&nbsp;=&nbsp;{},</div></div><div class=\"3914\" style=\"display: none;\"><div style=\"display: table-cell;\"></div><div style=\"display: table-cell;\">js_property_callbacks&nbsp;=&nbsp;{},</div></div><div class=\"3914\" style=\"display: none;\"><div style=\"display: table-cell;\"></div><div style=\"display: table-cell;\">left&nbsp;=&nbsp;[LinearAxis(id='3512', ...)],</div></div><div class=\"3914\" style=\"display: none;\"><div style=\"display: table-cell;\"></div><div style=\"display: table-cell;\">lod_factor&nbsp;=&nbsp;10,</div></div><div class=\"3914\" style=\"display: none;\"><div style=\"display: table-cell;\"></div><div style=\"display: table-cell;\">lod_interval&nbsp;=&nbsp;300,</div></div><div class=\"3914\" style=\"display: none;\"><div style=\"display: table-cell;\"></div><div style=\"display: table-cell;\">lod_threshold&nbsp;=&nbsp;2000,</div></div><div class=\"3914\" style=\"display: none;\"><div style=\"display: table-cell;\"></div><div style=\"display: table-cell;\">lod_timeout&nbsp;=&nbsp;500,</div></div><div class=\"3914\" style=\"display: none;\"><div style=\"display: table-cell;\"></div><div style=\"display: table-cell;\">margin&nbsp;=&nbsp;(0, 0, 0, 0),</div></div><div class=\"3914\" style=\"display: none;\"><div style=\"display: table-cell;\"></div><div style=\"display: table-cell;\">match_aspect&nbsp;=&nbsp;False,</div></div><div class=\"3914\" style=\"display: none;\"><div style=\"display: table-cell;\"></div><div style=\"display: table-cell;\">max_height&nbsp;=&nbsp;None,</div></div><div class=\"3914\" style=\"display: none;\"><div style=\"display: table-cell;\"></div><div style=\"display: table-cell;\">max_width&nbsp;=&nbsp;None,</div></div><div class=\"3914\" style=\"display: none;\"><div style=\"display: table-cell;\"></div><div style=\"display: table-cell;\">min_border&nbsp;=&nbsp;5,</div></div><div class=\"3914\" style=\"display: none;\"><div style=\"display: table-cell;\"></div><div style=\"display: table-cell;\">min_border_bottom&nbsp;=&nbsp;None,</div></div><div class=\"3914\" style=\"display: none;\"><div style=\"display: table-cell;\"></div><div style=\"display: table-cell;\">min_border_left&nbsp;=&nbsp;None,</div></div><div class=\"3914\" style=\"display: none;\"><div style=\"display: table-cell;\"></div><div style=\"display: table-cell;\">min_border_right&nbsp;=&nbsp;None,</div></div><div class=\"3914\" style=\"display: none;\"><div style=\"display: table-cell;\"></div><div style=\"display: table-cell;\">min_border_top&nbsp;=&nbsp;None,</div></div><div class=\"3914\" style=\"display: none;\"><div style=\"display: table-cell;\"></div><div style=\"display: table-cell;\">min_height&nbsp;=&nbsp;None,</div></div><div class=\"3914\" style=\"display: none;\"><div style=\"display: table-cell;\"></div><div style=\"display: table-cell;\">min_width&nbsp;=&nbsp;None,</div></div><div class=\"3914\" style=\"display: none;\"><div style=\"display: table-cell;\"></div><div style=\"display: table-cell;\">name&nbsp;=&nbsp;None,</div></div><div class=\"3914\" style=\"display: none;\"><div style=\"display: table-cell;\"></div><div style=\"display: table-cell;\">outer_height&nbsp;=&nbsp;0,</div></div><div class=\"3914\" style=\"display: none;\"><div style=\"display: table-cell;\"></div><div style=\"display: table-cell;\">outer_width&nbsp;=&nbsp;0,</div></div><div class=\"3914\" style=\"display: none;\"><div style=\"display: table-cell;\"></div><div style=\"display: table-cell;\">outline_line_alpha&nbsp;=&nbsp;1.0,</div></div><div class=\"3914\" style=\"display: none;\"><div style=\"display: table-cell;\"></div><div style=\"display: table-cell;\">outline_line_cap&nbsp;=&nbsp;'butt',</div></div><div class=\"3914\" style=\"display: none;\"><div style=\"display: table-cell;\"></div><div style=\"display: table-cell;\">outline_line_color&nbsp;=&nbsp;'#e5e5e5',</div></div><div class=\"3914\" style=\"display: none;\"><div style=\"display: table-cell;\"></div><div style=\"display: table-cell;\">outline_line_dash&nbsp;=&nbsp;[],</div></div><div class=\"3914\" style=\"display: none;\"><div style=\"display: table-cell;\"></div><div style=\"display: table-cell;\">outline_line_dash_offset&nbsp;=&nbsp;0,</div></div><div class=\"3914\" style=\"display: none;\"><div style=\"display: table-cell;\"></div><div style=\"display: table-cell;\">outline_line_join&nbsp;=&nbsp;'bevel',</div></div><div class=\"3914\" style=\"display: none;\"><div style=\"display: table-cell;\"></div><div style=\"display: table-cell;\">outline_line_width&nbsp;=&nbsp;1,</div></div><div class=\"3914\" style=\"display: none;\"><div style=\"display: table-cell;\"></div><div style=\"display: table-cell;\">output_backend&nbsp;=&nbsp;'webgl',</div></div><div class=\"3914\" style=\"display: none;\"><div style=\"display: table-cell;\"></div><div style=\"display: table-cell;\">renderers&nbsp;=&nbsp;[GlyphRenderer(id='3559', ...), GlyphRenderer(id='3575', ...), GlyphRenderer(id='3590', ...), GlyphRenderer(id='3605', ...), GlyphRenderer(id='3620', ...), GlyphRenderer(id='3635', ...), GlyphRenderer(id='3650', ...), GlyphRenderer(id='3665', ...), GlyphRenderer(id='3680', ...), GlyphRenderer(id='3695', ...), GlyphRenderer(id='3710', ...), GlyphRenderer(id='3725', ...)],</div></div><div class=\"3914\" style=\"display: none;\"><div style=\"display: table-cell;\"></div><div style=\"display: table-cell;\">reset_policy&nbsp;=&nbsp;'standard',</div></div><div class=\"3914\" style=\"display: none;\"><div style=\"display: table-cell;\"></div><div style=\"display: table-cell;\">right&nbsp;=&nbsp;[],</div></div><div class=\"3914\" style=\"display: none;\"><div style=\"display: table-cell;\"></div><div style=\"display: table-cell;\">sizing_mode&nbsp;=&nbsp;'fixed',</div></div><div class=\"3914\" style=\"display: none;\"><div style=\"display: table-cell;\"></div><div style=\"display: table-cell;\">subscribed_events&nbsp;=&nbsp;[],</div></div><div class=\"3914\" style=\"display: none;\"><div style=\"display: table-cell;\"></div><div style=\"display: table-cell;\">syncable&nbsp;=&nbsp;True,</div></div><div class=\"3914\" style=\"display: none;\"><div style=\"display: table-cell;\"></div><div style=\"display: table-cell;\">tags&nbsp;=&nbsp;[],</div></div><div class=\"3914\" style=\"display: none;\"><div style=\"display: table-cell;\"></div><div style=\"display: table-cell;\">title&nbsp;=&nbsp;Title(id='3498', ...),</div></div><div class=\"3914\" style=\"display: none;\"><div style=\"display: table-cell;\"></div><div style=\"display: table-cell;\">title_location&nbsp;=&nbsp;'above',</div></div><div class=\"3914\" style=\"display: none;\"><div style=\"display: table-cell;\"></div><div style=\"display: table-cell;\">toolbar&nbsp;=&nbsp;Toolbar(id='3523', ...),</div></div><div class=\"3914\" style=\"display: none;\"><div style=\"display: table-cell;\"></div><div style=\"display: table-cell;\">toolbar_location&nbsp;=&nbsp;'right',</div></div><div class=\"3914\" style=\"display: none;\"><div style=\"display: table-cell;\"></div><div style=\"display: table-cell;\">toolbar_sticky&nbsp;=&nbsp;True,</div></div><div class=\"3914\" style=\"display: none;\"><div style=\"display: table-cell;\"></div><div style=\"display: table-cell;\">visible&nbsp;=&nbsp;True,</div></div><div class=\"3914\" style=\"display: none;\"><div style=\"display: table-cell;\"></div><div style=\"display: table-cell;\">width&nbsp;=&nbsp;1200,</div></div><div class=\"3914\" style=\"display: none;\"><div style=\"display: table-cell;\"></div><div style=\"display: table-cell;\">width_policy&nbsp;=&nbsp;'auto',</div></div><div class=\"3914\" style=\"display: none;\"><div style=\"display: table-cell;\"></div><div style=\"display: table-cell;\">x_range&nbsp;=&nbsp;DataRange1d(id='3500', ...),</div></div><div class=\"3914\" style=\"display: none;\"><div style=\"display: table-cell;\"></div><div style=\"display: table-cell;\">x_scale&nbsp;=&nbsp;LinearScale(id='3504', ...),</div></div><div class=\"3914\" style=\"display: none;\"><div style=\"display: table-cell;\"></div><div style=\"display: table-cell;\">y_range&nbsp;=&nbsp;DataRange1d(id='3502', ...),</div></div><div class=\"3914\" style=\"display: none;\"><div style=\"display: table-cell;\"></div><div style=\"display: table-cell;\">y_scale&nbsp;=&nbsp;LinearScale(id='3506', ...))</div></div></div>\n",
       "<script>\n",
       "(function() {\n",
       "  var expanded = false;\n",
       "  var ellipsis = document.getElementById(\"3915\");\n",
       "  ellipsis.addEventListener(\"click\", function() {\n",
       "    var rows = document.getElementsByClassName(\"3914\");\n",
       "    for (var i = 0; i < rows.length; i++) {\n",
       "      var el = rows[i];\n",
       "      el.style.display = expanded ? \"none\" : \"table-row\";\n",
       "    }\n",
       "    ellipsis.innerHTML = expanded ? \"&hellip;)\" : \"&lsaquo;&lsaquo;&lsaquo;\";\n",
       "    expanded = !expanded;\n",
       "  });\n",
       "})();\n",
       "</script>\n"
      ],
      "text/plain": [
       "Figure(id='3497', ...)"
      ]
     },
     "execution_count": 50,
     "metadata": {},
     "output_type": "execute_result"
    }
   ],
   "source": [
    "df.plot_bokeh.barh(stacked=True, figsize=(1200, 500))"
   ]
  },
  {
   "cell_type": "code",
   "execution_count": 51,
   "metadata": {
    "id": "bp11EhFG87IK"
   },
   "outputs": [
    {
     "name": "stdout",
     "output_type": "stream",
     "text": [
      "__x__values_original\n"
     ]
    },
    {
     "data": {
      "text/html": [
       "\n",
       "\n",
       "\n",
       "\n",
       "\n",
       "\n",
       "  <div class=\"bk-root\" id=\"b27ed6a8-6361-480e-ad73-53d0099eecf7\" data-root-id=\"3952\"></div>\n"
      ]
     },
     "metadata": {},
     "output_type": "display_data"
    },
    {
     "data": {
      "application/javascript": [
       "(function(root) {\n",
       "  function embed_document(root) {\n",
       "    \n",
       "  var docs_json = {\"10e46f8a-3f07-40b0-adb3-c781cd75f23f\":{\"defs\":[],\"roots\":{\"references\":[{\"attributes\":{\"below\":[{\"id\":\"3963\"}],\"center\":[{\"id\":\"3966\"},{\"id\":\"3970\"},{\"id\":\"4246\"}],\"height\":400,\"left\":[{\"id\":\"3967\"}],\"renderers\":[{\"id\":\"3991\"},{\"id\":\"3997\"},{\"id\":\"4002\"},{\"id\":\"4012\"},{\"id\":\"4018\"},{\"id\":\"4023\"},{\"id\":\"4033\"},{\"id\":\"4039\"},{\"id\":\"4044\"},{\"id\":\"4054\"},{\"id\":\"4060\"},{\"id\":\"4065\"},{\"id\":\"4075\"},{\"id\":\"4081\"},{\"id\":\"4086\"},{\"id\":\"4096\"},{\"id\":\"4102\"},{\"id\":\"4107\"},{\"id\":\"4117\"},{\"id\":\"4123\"},{\"id\":\"4128\"},{\"id\":\"4138\"},{\"id\":\"4144\"},{\"id\":\"4149\"},{\"id\":\"4159\"},{\"id\":\"4165\"},{\"id\":\"4170\"},{\"id\":\"4180\"},{\"id\":\"4252\"},{\"id\":\"4257\"}],\"title\":{\"id\":\"3953\"},\"toolbar\":{\"id\":\"3978\"},\"toolbar_location\":null,\"x_range\":{\"id\":\"3955\"},\"x_scale\":{\"id\":\"3959\"},\"y_range\":{\"id\":\"3957\"},\"y_scale\":{\"id\":\"3961\"}},\"id\":\"3952\",\"subtype\":\"Figure\",\"type\":\"Plot\"},{\"attributes\":{},\"id\":\"4235\",\"type\":\"Selection\"},{\"attributes\":{\"text_alpha\":{\"value\":0.1},\"text_color\":{\"value\":\"black\"},\"text_font_style\":{\"value\":\"bold\"},\"x\":{\"field\":\"__x__values\"},\"y\":{\"field\":\"y\"}},\"id\":\"4251\",\"type\":\"Text\"},{\"attributes\":{},\"id\":\"4243\",\"type\":\"Selection\"},{\"attributes\":{\"data_source\":{\"id\":\"4248\"},\"glyph\":{\"id\":\"4250\"},\"hover_glyph\":null,\"muted_glyph\":null,\"nonselection_glyph\":{\"id\":\"4251\"},\"view\":{\"id\":\"4253\"}},\"id\":\"4252\",\"type\":\"GlyphRenderer\"},{\"attributes\":{\"x\":{\"field\":\"x\"},\"y\":{\"field\":\"y\"}},\"id\":\"4255\",\"type\":\"Line\"},{\"attributes\":{\"source\":{\"id\":\"4248\"}},\"id\":\"4253\",\"type\":\"CDSView\"},{\"attributes\":{\"field\":\"1_angle\"},\"id\":\"4175\",\"type\":\"CumSum\"},{\"attributes\":{\"source\":{\"id\":\"4254\"}},\"id\":\"4258\",\"type\":\"CDSView\"},{\"attributes\":{\"data\":{\"x\":[-1.34,0],\"y\":[0.5,-0.045]},\"selected\":{\"id\":\"4462\"},\"selection_policy\":{\"id\":\"4461\"}},\"id\":\"4254\",\"type\":\"ColumnDataSource\"},{\"attributes\":{},\"id\":\"4190\",\"type\":\"UnionRenderers\"},{\"attributes\":{\"callback\":null,\"renderers\":[{\"id\":\"4180\"}],\"tooltips\":[[\"x\",\"@__x__values_original\"],[\"1\",\"@{1}\"]]},\"id\":\"4259\",\"type\":\"HoverTool\"},{\"attributes\":{\"data_source\":{\"id\":\"4254\"},\"glyph\":{\"id\":\"4255\"},\"hover_glyph\":null,\"muted_glyph\":null,\"nonselection_glyph\":{\"id\":\"4256\"},\"view\":{\"id\":\"4258\"}},\"id\":\"4257\",\"type\":\"GlyphRenderer\"},{\"attributes\":{\"line_alpha\":0.1,\"x\":{\"field\":\"x\"},\"y\":{\"field\":\"y\"}},\"id\":\"4256\",\"type\":\"Line\"},{\"attributes\":{},\"id\":\"4191\",\"type\":\"Selection\"},{\"attributes\":{\"ticks\":[0,1,2,3,4,5,6,7,8,9,10,11]},\"id\":\"4261\",\"type\":\"FixedTicker\"},{\"attributes\":{},\"id\":\"4245\",\"type\":\"Selection\"},{\"attributes\":{},\"id\":\"4221\",\"type\":\"Selection\"},{\"attributes\":{},\"id\":\"4222\",\"type\":\"UnionRenderers\"},{\"attributes\":{\"field\":\"1_angle\",\"include_zero\":true},\"id\":\"4174\",\"type\":\"CumSum\"},{\"attributes\":{},\"id\":\"4238\",\"type\":\"UnionRenderers\"},{\"attributes\":{},\"id\":\"4202\",\"type\":\"UnionRenderers\"},{\"attributes\":{},\"id\":\"4203\",\"type\":\"Selection\"},{\"attributes\":{\"field\":\"3_angle\"},\"id\":\"4133\",\"type\":\"CumSum\"},{\"attributes\":{},\"id\":\"4459\",\"type\":\"UnionRenderers\"},{\"attributes\":{},\"id\":\"4460\",\"type\":\"Selection\"},{\"attributes\":{},\"id\":\"4234\",\"type\":\"UnionRenderers\"},{\"attributes\":{\"end_angle\":{\"expr\":{\"id\":\"4175\"}},\"fill_color\":{\"field\":\"color\"},\"inner_radius\":{\"field\":\"inner_radius\"},\"line_color\":{\"value\":\"white\"},\"line_width\":{\"value\":2},\"outer_radius\":{\"field\":\"outer_radius\"},\"start_angle\":{\"expr\":{\"id\":\"4174\"}},\"x\":{\"value\":0},\"y\":{\"value\":0}},\"id\":\"4178\",\"type\":\"AnnularWedge\"},{\"attributes\":{},\"id\":\"4240\",\"type\":\"UnionRenderers\"},{\"attributes\":{},\"id\":\"4461\",\"type\":\"UnionRenderers\"},{\"attributes\":{},\"id\":\"4462\",\"type\":\"Selection\"},{\"attributes\":{\"bottom_units\":\"screen\",\"fill_alpha\":0.5,\"fill_color\":\"lightgrey\",\"left_units\":\"screen\",\"level\":\"overlay\",\"line_alpha\":1.0,\"line_color\":\"black\",\"line_dash\":[4,4],\"line_width\":2,\"right_units\":\"screen\",\"syncable\":false,\"top_units\":\"screen\"},\"id\":\"3977\",\"type\":\"BoxAnnotation\"},{\"attributes\":{\"end_angle\":{\"expr\":{\"id\":\"4091\"}},\"fill_alpha\":{\"value\":0.1},\"fill_color\":{\"field\":\"color\"},\"inner_radius\":{\"field\":\"inner_radius\"},\"line_alpha\":{\"value\":0.1},\"line_color\":{\"value\":\"white\"},\"line_width\":{\"value\":2},\"outer_radius\":{\"field\":\"outer_radius\"},\"start_angle\":{\"expr\":{\"id\":\"4090\"}},\"x\":{\"value\":0},\"y\":{\"value\":0}},\"id\":\"4095\",\"type\":\"AnnularWedge\"},{\"attributes\":{\"data\":{\"__x__values\":[-1.4000000000000001],\"text\":[\"1\"],\"y\":[0.5]},\"selected\":{\"id\":\"4460\"},\"selection_policy\":{\"id\":\"4459\"}},\"id\":\"4248\",\"type\":\"ColumnDataSource\"},{\"attributes\":{\"text_color\":{\"value\":\"black\"},\"text_font_style\":{\"value\":\"bold\"},\"x\":{\"field\":\"__x__values\"},\"y\":{\"field\":\"y\"}},\"id\":\"4250\",\"type\":\"Text\"},{\"attributes\":{\"data\":{\"__x__values\":[-1.4000000000000001],\"text\":[\"5\"],\"y\":[-0.7]},\"selected\":{\"id\":\"4223\"},\"selection_policy\":{\"id\":\"4222\"}},\"id\":\"4098\",\"type\":\"ColumnDataSource\"},{\"attributes\":{},\"id\":\"3961\",\"type\":\"LinearScale\"},{\"attributes\":{\"text_color\":{\"value\":\"black\"},\"text_font_style\":{\"value\":\"bold\"},\"x\":{\"field\":\"__x__values\"},\"y\":{\"field\":\"y\"}},\"id\":\"4100\",\"type\":\"Text\"},{\"attributes\":{},\"id\":\"4199\",\"type\":\"Selection\"},{\"attributes\":{\"axis_label\":null,\"formatter\":{\"id\":\"4185\"},\"major_label_policy\":{\"id\":\"4184\"},\"ticker\":{\"id\":\"4261\"},\"visible\":false},\"id\":\"3963\",\"type\":\"LinearAxis\"},{\"attributes\":{\"source\":{\"id\":\"4176\"}},\"id\":\"4181\",\"type\":\"CDSView\"},{\"attributes\":{},\"id\":\"4223\",\"type\":\"Selection\"},{\"attributes\":{\"axis\":{\"id\":\"3963\"},\"grid_line_color\":null,\"ticker\":null},\"id\":\"3966\",\"type\":\"Grid\"},{\"attributes\":{\"data_source\":{\"id\":\"4014\"},\"glyph\":{\"id\":\"4016\"},\"hover_glyph\":null,\"muted_glyph\":null,\"nonselection_glyph\":{\"id\":\"4017\"},\"view\":{\"id\":\"4019\"}},\"id\":\"4018\",\"type\":\"GlyphRenderer\"},{\"attributes\":{\"end_angle\":{\"expr\":{\"id\":\"4175\"}},\"fill_alpha\":{\"value\":0.1},\"fill_color\":{\"field\":\"color\"},\"inner_radius\":{\"field\":\"inner_radius\"},\"line_alpha\":{\"value\":0.1},\"line_color\":{\"value\":\"white\"},\"line_width\":{\"value\":2},\"outer_radius\":{\"field\":\"outer_radius\"},\"start_angle\":{\"expr\":{\"id\":\"4174\"}},\"x\":{\"value\":0},\"y\":{\"value\":0}},\"id\":\"4179\",\"type\":\"AnnularWedge\"},{\"attributes\":{\"axis_label\":null,\"formatter\":{\"id\":\"4188\"},\"major_label_policy\":{\"id\":\"4187\"},\"ticker\":{\"id\":\"3968\"},\"visible\":false},\"id\":\"3967\",\"type\":\"LinearAxis\"},{\"attributes\":{\"text_alpha\":{\"value\":0.1},\"text_color\":{\"value\":\"black\"},\"text_font_style\":{\"value\":\"bold\"},\"x\":{\"field\":\"__x__values\"},\"y\":{\"field\":\"y\"}},\"id\":\"4017\",\"type\":\"Text\"},{\"attributes\":{},\"id\":\"4212\",\"type\":\"UnionRenderers\"},{\"attributes\":{\"end_angle\":{\"expr\":{\"id\":\"4154\"}},\"fill_color\":{\"field\":\"color\"},\"inner_radius\":{\"field\":\"inner_radius\"},\"line_color\":{\"value\":\"white\"},\"line_width\":{\"value\":2},\"outer_radius\":{\"field\":\"outer_radius\"},\"start_angle\":{\"expr\":{\"id\":\"4153\"}},\"x\":{\"value\":0},\"y\":{\"value\":0}},\"id\":\"4157\",\"type\":\"AnnularWedge\"},{\"attributes\":{},\"id\":\"4213\",\"type\":\"Selection\"},{\"attributes\":{},\"id\":\"4244\",\"type\":\"UnionRenderers\"},{\"attributes\":{},\"id\":\"4184\",\"type\":\"AllLabels\"},{\"attributes\":{},\"id\":\"3976\",\"type\":\"HelpTool\"},{\"attributes\":{\"source\":{\"id\":\"4014\"}},\"id\":\"4019\",\"type\":\"CDSView\"},{\"attributes\":{\"data_source\":{\"id\":\"4098\"},\"glyph\":{\"id\":\"4100\"},\"hover_glyph\":null,\"muted_glyph\":null,\"nonselection_glyph\":{\"id\":\"4101\"},\"view\":{\"id\":\"4103\"}},\"id\":\"4102\",\"type\":\"GlyphRenderer\"},{\"attributes\":{\"data_source\":{\"id\":\"4176\"},\"glyph\":{\"id\":\"4178\"},\"hover_glyph\":null,\"muted_glyph\":null,\"nonselection_glyph\":{\"id\":\"4179\"},\"view\":{\"id\":\"4181\"}},\"id\":\"4180\",\"type\":\"GlyphRenderer\"},{\"attributes\":{\"x\":{\"field\":\"x\"},\"y\":{\"field\":\"y\"}},\"id\":\"4021\",\"type\":\"Line\"},{\"attributes\":{\"label\":{\"field\":\"__x__values_original\"},\"renderers\":[{\"id\":\"4180\"}]},\"id\":\"4247\",\"type\":\"LegendItem\"},{\"attributes\":{\"data\":{\"x\":[-1.34,0],\"y\":[-1.9,-0.845]},\"selected\":{\"id\":\"4201\"},\"selection_policy\":{\"id\":\"4200\"}},\"id\":\"4020\",\"type\":\"ColumnDataSource\"},{\"attributes\":{\"text_alpha\":{\"value\":0.1},\"text_color\":{\"value\":\"black\"},\"text_font_style\":{\"value\":\"bold\"},\"x\":{\"field\":\"__x__values\"},\"y\":{\"field\":\"y\"}},\"id\":\"4101\",\"type\":\"Text\"},{\"attributes\":{\"callback\":null,\"renderers\":[{\"id\":\"4012\"}],\"tooltips\":[[\"x\",\"@__x__values_original\"],[\"9\",\"@{9}\"]]},\"id\":\"4025\",\"type\":\"HoverTool\"},{\"attributes\":{\"x\":{\"field\":\"x\"},\"y\":{\"field\":\"y\"}},\"id\":\"4105\",\"type\":\"Line\"},{\"attributes\":{\"data\":{\"1\":[5,2,1,1,0,1,0,0,1,0,0,0],\"10\":[7,0,0,9,1,6,0,0,1,0,0,0],\"10_angle\":{\"__ndarray__\":\"8olP4k9S/T8AAAAAAAAAAAAAAAAAAAAA0iEzf3zZAkBlcy04UsHQPxgtRFT7Ifk/AAAAAAAAAAAAAAAAAAAAAGVzLThSwdA/AAAAAAAAAAAAAAAAAAAAAAAAAAAAAAAA\",\"dtype\":\"float64\",\"order\":\"little\",\"shape\":[12]},\"1_angle\":{\"__ndarray__\":\"W53JBhPZBkDjfdRrQkfyP+N91GtCR+I/433Ua0JH4j8AAAAAAAAAAON91GtCR+I/AAAAAAAAAAAAAAAAAAAAAON91GtCR+I/AAAAAAAAAAAAAAAAAAAAAAAAAAAAAAAA\",\"dtype\":\"float64\",\"order\":\"little\",\"shape\":[12]},\"2\":[30,8,4,6,3,8,2,1,7,1,2,6],\"2_angle\":{\"__ndarray__\":\"iazlezdVA0AaycEdKp/kPxrJwR0qn9Q/qK2iLL/u3j+oraIsv+7OPxrJwR0qn+Q/GsnBHSqfxD8aycEdKp+0P/ePCdpEC+I/GsnBHSqftD8aycEdKp/EP6itoiy/7t4/\",\"dtype\":\"float64\",\"order\":\"little\",\"shape\":[12]},\"3\":[19,3,4,5,2,9,0,0,3,0,0,5],\"3_angle\":{\"__ndarray__\":\"bn57fdMZA0CmuiJbnyDYPxonF5K/FeA/4PCcdi8b5D8aJxeSvxXQP/0LWoR3GPI/AAAAAAAAAAAAAAAAAAAAAKa6IlufINg/AAAAAAAAAAAAAAAAAAAAAODwnHYvG+Q/\",\"dtype\":\"float64\",\"order\":\"little\",\"shape\":[12]},\"4\":[16,4,3,13,2,9,0,0,2,1,0,3],\"4_angle\":{\"__ndarray__\":\"JgYiIlZZ/j8mBiIiVlneP52EmZkAw9Y//6S7+5Wo+D8mBiIiVlnOP3UjM3NAEvE/AAAAAAAAAAAAAAAAAAAAACYGIiJWWc4/JgYiIlZZvj8AAAAAAAAAAJ2EmZkAw9Y/\",\"dtype\":\"float64\",\"order\":\"little\",\"shape\":[12]},\"5\":[31,7,3,12,7,18,0,0,8,1,2,10],\"5_angle\":{\"__ndarray__\":\"eYPRgLl6/z99boMZ2W7cP9mncDoDX8g/2adwOgNf6D99boMZ2W7cP+N91GtCR/I/AAAAAAAAAAAAAAAAAAAAAJEaS3xXP+A/kRpLfFc/sD+RGkt8Vz/APzXhXVstT+Q/\",\"dtype\":\"float64\",\"order\":\"little\",\"shape\":[12]},\"6\":[33,8,1,28,11,20,0,0,6,3,1,5],\"6_angle\":{\"__ndarray__\":\"dF+LcW2Z/D/dkjnqkLvbP92SOeqQu6s/gWDyzB5E+D/3lAeh8xDjP8r7Y5I6VfE/AAAAAAAAAAAAAAAAAAAAACUuq6+szNQ/JS6rr6zMxD/dkjnqkLurP8r7Y5I6VdE/\",\"dtype\":\"float64\",\"order\":\"little\",\"shape\":[12]},\"7\":[37,11,3,30,14,26,1,0,2,1,0,6],\"7_angle\":{\"__ndarray__\":\"Vc0rC+1k/D8I1IFnEOLgP6xbdp/6asI/l/JTR7kF9z/zal8Pz3zlP1Djatfk8/M/OnpIf6OOqD8AAAAAAAAAADp6SH+jjrg/OnpIf6OOqD8AAAAAAAAAAKxbdp/6atI/\",\"dtype\":\"float64\",\"order\":\"little\",\"shape\":[12]},\"8\":[24,4,1,26,8,19,0,0,1,3,0,7],\"8_angle\":{\"__ndarray__\":\"IYHKkIfx+T8WVty1r0vRPxZW3LWvS7E/4wuGh/0a/D8WVty1r0vhPzum9afgifQ/AAAAAAAAAAAAAAAAAAAAABZW3LWvS7E/IYHKkIfxyT8AAAAAAAAAAKeWQX5zRN4/\",\"dtype\":\"float64\",\"order\":\"little\",\"shape\":[12]},\"9\":[12,0,0,16,9,12,0,0,2,0,0,3],\"9_angle\":{\"__ndarray__\":\"h0TnShhX9j8AAAAAAAAAAAAAAAAAAAAAXls0uXXJ/T9lcy04UsHwP4dE50oYV/Y/AAAAAAAAAAAAAAAAAAAAAF5bNLl1yc0/AAAAAAAAAAAAAAAAAAAAAIdE50oYV9Y/\",\"dtype\":\"float64\",\"order\":\"little\",\"shape\":[12]},\"__x__values\":[\"Plastic bottle container\",\"Disposable cup / straw / tableware\",\"Plastic bag\",\"Foam material\",\"Float\",\"Fishing nets and ropes\",\"Fishing equipment\",\"Cigarette and lighter\",\"Glass jar\",\"Metal\",\"Paper\",\"Others\"],\"__x__values_original\":[\"Plastic bottle container\",\"Disposable cup / straw / tableware\",\"Plastic bag\",\"Foam material\",\"Float\",\"Fishing nets and ropes\",\"Fishing equipment\",\"Cigarette and lighter\",\"Glass jar\",\"Metal\",\"Paper\",\"Others\"],\"color\":[\"#1f77b4\",\"#aec7e8\",\"#ff7f0e\",\"#ffbb78\",\"#2ca02c\",\"#98df8a\",\"#d62728\",\"#ff9896\",\"#9467bd\",\"#c5b0d5\",\"#8c564b\",\"#c49c94\"],\"inner_radius\":[0.1,0.1,0.1,0.1,0.1,0.1,0.1,0.1,0.1,0.1,0.1,0.1],\"outer_radius\":[0.19,0.19,0.19,0.19,0.19,0.19,0.19,0.19,0.19,0.19,0.19,0.19]},\"selected\":{\"id\":\"4239\"},\"selection_policy\":{\"id\":\"4238\"}},\"id\":\"4155\",\"type\":\"ColumnDataSource\"},{\"attributes\":{\"data_source\":{\"id\":\"4020\"},\"glyph\":{\"id\":\"4021\"},\"hover_glyph\":null,\"muted_glyph\":null,\"nonselection_glyph\":{\"id\":\"4022\"},\"view\":{\"id\":\"4024\"}},\"id\":\"4023\",\"type\":\"GlyphRenderer\"},{\"attributes\":{\"axis\":{\"id\":\"3967\"},\"dimension\":1,\"grid_line_color\":null,\"ticker\":null},\"id\":\"3970\",\"type\":\"Grid\"},{\"attributes\":{\"source\":{\"id\":\"4098\"}},\"id\":\"4103\",\"type\":\"CDSView\"},{\"attributes\":{\"items\":[{\"id\":\"4247\"}]},\"id\":\"4246\",\"type\":\"Legend\"},{\"attributes\":{},\"id\":\"3968\",\"type\":\"BasicTicker\"},{\"attributes\":{\"source\":{\"id\":\"4020\"}},\"id\":\"4024\",\"type\":\"CDSView\"},{\"attributes\":{\"callback\":null,\"renderers\":[{\"id\":\"4054\"}],\"tooltips\":[[\"x\",\"@__x__values_original\"],[\"7\",\"@{7}\"]]},\"id\":\"4067\",\"type\":\"HoverTool\"},{\"attributes\":{\"data\":{\"x\":[-1.34,0],\"y\":[-0.7,-0.44500000000000006]},\"selected\":{\"id\":\"4225\"},\"selection_policy\":{\"id\":\"4224\"}},\"id\":\"4104\",\"type\":\"ColumnDataSource\"},{\"attributes\":{\"source\":{\"id\":\"4104\"}},\"id\":\"4108\",\"type\":\"CDSView\"},{\"attributes\":{\"callback\":null,\"renderers\":[{\"id\":\"4096\"}],\"tooltips\":[[\"x\",\"@__x__values_original\"],[\"5\",\"@{5}\"]]},\"id\":\"4109\",\"type\":\"HoverTool\"},{\"attributes\":{\"field\":\"8_angle\",\"include_zero\":true},\"id\":\"4027\",\"type\":\"CumSum\"},{\"attributes\":{},\"id\":\"4224\",\"type\":\"UnionRenderers\"},{\"attributes\":{\"data_source\":{\"id\":\"4104\"},\"glyph\":{\"id\":\"4105\"},\"hover_glyph\":null,\"muted_glyph\":null,\"nonselection_glyph\":{\"id\":\"4106\"},\"view\":{\"id\":\"4108\"}},\"id\":\"4107\",\"type\":\"GlyphRenderer\"},{\"attributes\":{},\"id\":\"3972\",\"type\":\"WheelZoomTool\"},{\"attributes\":{\"end_angle\":{\"expr\":{\"id\":\"4028\"}},\"fill_color\":{\"field\":\"color\"},\"inner_radius\":{\"field\":\"inner_radius\"},\"line_color\":{\"value\":\"white\"},\"line_width\":{\"value\":2},\"outer_radius\":{\"field\":\"outer_radius\"},\"start_angle\":{\"expr\":{\"id\":\"4027\"}},\"x\":{\"value\":0},\"y\":{\"value\":0}},\"id\":\"4031\",\"type\":\"AnnularWedge\"},{\"attributes\":{},\"id\":\"3971\",\"type\":\"PanTool\"},{\"attributes\":{\"line_alpha\":0.1,\"x\":{\"field\":\"x\"},\"y\":{\"field\":\"y\"}},\"id\":\"4022\",\"type\":\"Line\"},{\"attributes\":{\"source\":{\"id\":\"4113\"}},\"id\":\"4118\",\"type\":\"CDSView\"},{\"attributes\":{},\"id\":\"4185\",\"type\":\"BasicTickFormatter\"},{\"attributes\":{\"overlay\":{\"id\":\"3977\"}},\"id\":\"3973\",\"type\":\"BoxZoomTool\"},{\"attributes\":{\"data\":{\"1\":[5,2,1,1,0,1,0,0,1,0,0,0],\"10\":[7,0,0,9,1,6,0,0,1,0,0,0],\"10_angle\":{\"__ndarray__\":\"8olP4k9S/T8AAAAAAAAAAAAAAAAAAAAA0iEzf3zZAkBlcy04UsHQPxgtRFT7Ifk/AAAAAAAAAAAAAAAAAAAAAGVzLThSwdA/AAAAAAAAAAAAAAAAAAAAAAAAAAAAAAAA\",\"dtype\":\"float64\",\"order\":\"little\",\"shape\":[12]},\"1_angle\":{\"__ndarray__\":\"W53JBhPZBkDjfdRrQkfyP+N91GtCR+I/433Ua0JH4j8AAAAAAAAAAON91GtCR+I/AAAAAAAAAAAAAAAAAAAAAON91GtCR+I/AAAAAAAAAAAAAAAAAAAAAAAAAAAAAAAA\",\"dtype\":\"float64\",\"order\":\"little\",\"shape\":[12]},\"2\":[30,8,4,6,3,8,2,1,7,1,2,6],\"2_angle\":{\"__ndarray__\":\"iazlezdVA0AaycEdKp/kPxrJwR0qn9Q/qK2iLL/u3j+oraIsv+7OPxrJwR0qn+Q/GsnBHSqfxD8aycEdKp+0P/ePCdpEC+I/GsnBHSqftD8aycEdKp/EP6itoiy/7t4/\",\"dtype\":\"float64\",\"order\":\"little\",\"shape\":[12]},\"3\":[19,3,4,5,2,9,0,0,3,0,0,5],\"3_angle\":{\"__ndarray__\":\"bn57fdMZA0CmuiJbnyDYPxonF5K/FeA/4PCcdi8b5D8aJxeSvxXQP/0LWoR3GPI/AAAAAAAAAAAAAAAAAAAAAKa6IlufINg/AAAAAAAAAAAAAAAAAAAAAODwnHYvG+Q/\",\"dtype\":\"float64\",\"order\":\"little\",\"shape\":[12]},\"4\":[16,4,3,13,2,9,0,0,2,1,0,3],\"4_angle\":{\"__ndarray__\":\"JgYiIlZZ/j8mBiIiVlneP52EmZkAw9Y//6S7+5Wo+D8mBiIiVlnOP3UjM3NAEvE/AAAAAAAAAAAAAAAAAAAAACYGIiJWWc4/JgYiIlZZvj8AAAAAAAAAAJ2EmZkAw9Y/\",\"dtype\":\"float64\",\"order\":\"little\",\"shape\":[12]},\"5\":[31,7,3,12,7,18,0,0,8,1,2,10],\"5_angle\":{\"__ndarray__\":\"eYPRgLl6/z99boMZ2W7cP9mncDoDX8g/2adwOgNf6D99boMZ2W7cP+N91GtCR/I/AAAAAAAAAAAAAAAAAAAAAJEaS3xXP+A/kRpLfFc/sD+RGkt8Vz/APzXhXVstT+Q/\",\"dtype\":\"float64\",\"order\":\"little\",\"shape\":[12]},\"6\":[33,8,1,28,11,20,0,0,6,3,1,5],\"6_angle\":{\"__ndarray__\":\"dF+LcW2Z/D/dkjnqkLvbP92SOeqQu6s/gWDyzB5E+D/3lAeh8xDjP8r7Y5I6VfE/AAAAAAAAAAAAAAAAAAAAACUuq6+szNQ/JS6rr6zMxD/dkjnqkLurP8r7Y5I6VdE/\",\"dtype\":\"float64\",\"order\":\"little\",\"shape\":[12]},\"7\":[37,11,3,30,14,26,1,0,2,1,0,6],\"7_angle\":{\"__ndarray__\":\"Vc0rC+1k/D8I1IFnEOLgP6xbdp/6asI/l/JTR7kF9z/zal8Pz3zlP1Djatfk8/M/OnpIf6OOqD8AAAAAAAAAADp6SH+jjrg/OnpIf6OOqD8AAAAAAAAAAKxbdp/6atI/\",\"dtype\":\"float64\",\"order\":\"little\",\"shape\":[12]},\"8\":[24,4,1,26,8,19,0,0,1,3,0,7],\"8_angle\":{\"__ndarray__\":\"IYHKkIfx+T8WVty1r0vRPxZW3LWvS7E/4wuGh/0a/D8WVty1r0vhPzum9afgifQ/AAAAAAAAAAAAAAAAAAAAABZW3LWvS7E/IYHKkIfxyT8AAAAAAAAAAKeWQX5zRN4/\",\"dtype\":\"float64\",\"order\":\"little\",\"shape\":[12]},\"9\":[12,0,0,16,9,12,0,0,2,0,0,3],\"9_angle\":{\"__ndarray__\":\"h0TnShhX9j8AAAAAAAAAAAAAAAAAAAAAXls0uXXJ/T9lcy04UsHwP4dE50oYV/Y/AAAAAAAAAAAAAAAAAAAAAF5bNLl1yc0/AAAAAAAAAAAAAAAAAAAAAIdE50oYV9Y/\",\"dtype\":\"float64\",\"order\":\"little\",\"shape\":[12]},\"__x__values\":[\"Plastic bottle container\",\"Disposable cup / straw / tableware\",\"Plastic bag\",\"Foam material\",\"Float\",\"Fishing nets and ropes\",\"Fishing equipment\",\"Cigarette and lighter\",\"Glass jar\",\"Metal\",\"Paper\",\"Others\"],\"__x__values_original\":[\"Plastic bottle container\",\"Disposable cup / straw / tableware\",\"Plastic bag\",\"Foam material\",\"Float\",\"Fishing nets and ropes\",\"Fishing equipment\",\"Cigarette and lighter\",\"Glass jar\",\"Metal\",\"Paper\",\"Others\"],\"color\":[\"#1f77b4\",\"#aec7e8\",\"#ff7f0e\",\"#ffbb78\",\"#2ca02c\",\"#98df8a\",\"#d62728\",\"#ff9896\",\"#9467bd\",\"#c5b0d5\",\"#8c564b\",\"#c49c94\"],\"inner_radius\":[0.7,0.7,0.7,0.7,0.7,0.7,0.7,0.7,0.7,0.7,0.7,0.7],\"outer_radius\":[0.79,0.79,0.79,0.79,0.79,0.79,0.79,0.79,0.79,0.79,0.79,0.79]},\"selected\":{\"id\":\"4203\"},\"selection_policy\":{\"id\":\"4202\"}},\"id\":\"4029\",\"type\":\"ColumnDataSource\"},{\"attributes\":{},\"id\":\"3974\",\"type\":\"SaveTool\"},{\"attributes\":{\"line_alpha\":0.1,\"x\":{\"field\":\"x\"},\"y\":{\"field\":\"y\"}},\"id\":\"4106\",\"type\":\"Line\"},{\"attributes\":{\"end_angle\":{\"expr\":{\"id\":\"4112\"}},\"fill_color\":{\"field\":\"color\"},\"inner_radius\":{\"field\":\"inner_radius\"},\"line_color\":{\"value\":\"white\"},\"line_width\":{\"value\":2},\"outer_radius\":{\"field\":\"outer_radius\"},\"start_angle\":{\"expr\":{\"id\":\"4111\"}},\"x\":{\"value\":0},\"y\":{\"value\":0}},\"id\":\"4115\",\"type\":\"AnnularWedge\"},{\"attributes\":{\"data_source\":{\"id\":\"4146\"},\"glyph\":{\"id\":\"4147\"},\"hover_glyph\":null,\"muted_glyph\":null,\"nonselection_glyph\":{\"id\":\"4148\"},\"view\":{\"id\":\"4150\"}},\"id\":\"4149\",\"type\":\"GlyphRenderer\"},{\"attributes\":{},\"id\":\"3975\",\"type\":\"ResetTool\"},{\"attributes\":{\"data\":{\"__x__values\":[-1.4000000000000001],\"text\":[\"8\"],\"y\":[-1.6]},\"selected\":{\"id\":\"4205\"},\"selection_policy\":{\"id\":\"4204\"}},\"id\":\"4035\",\"type\":\"ColumnDataSource\"},{\"attributes\":{\"source\":{\"id\":\"4029\"}},\"id\":\"4034\",\"type\":\"CDSView\"},{\"attributes\":{\"data\":{\"1\":[5,2,1,1,0,1,0,0,1,0,0,0],\"10\":[7,0,0,9,1,6,0,0,1,0,0,0],\"10_angle\":{\"__ndarray__\":\"8olP4k9S/T8AAAAAAAAAAAAAAAAAAAAA0iEzf3zZAkBlcy04UsHQPxgtRFT7Ifk/AAAAAAAAAAAAAAAAAAAAAGVzLThSwdA/AAAAAAAAAAAAAAAAAAAAAAAAAAAAAAAA\",\"dtype\":\"float64\",\"order\":\"little\",\"shape\":[12]},\"1_angle\":{\"__ndarray__\":\"W53JBhPZBkDjfdRrQkfyP+N91GtCR+I/433Ua0JH4j8AAAAAAAAAAON91GtCR+I/AAAAAAAAAAAAAAAAAAAAAON91GtCR+I/AAAAAAAAAAAAAAAAAAAAAAAAAAAAAAAA\",\"dtype\":\"float64\",\"order\":\"little\",\"shape\":[12]},\"2\":[30,8,4,6,3,8,2,1,7,1,2,6],\"2_angle\":{\"__ndarray__\":\"iazlezdVA0AaycEdKp/kPxrJwR0qn9Q/qK2iLL/u3j+oraIsv+7OPxrJwR0qn+Q/GsnBHSqfxD8aycEdKp+0P/ePCdpEC+I/GsnBHSqftD8aycEdKp/EP6itoiy/7t4/\",\"dtype\":\"float64\",\"order\":\"little\",\"shape\":[12]},\"3\":[19,3,4,5,2,9,0,0,3,0,0,5],\"3_angle\":{\"__ndarray__\":\"bn57fdMZA0CmuiJbnyDYPxonF5K/FeA/4PCcdi8b5D8aJxeSvxXQP/0LWoR3GPI/AAAAAAAAAAAAAAAAAAAAAKa6IlufINg/AAAAAAAAAAAAAAAAAAAAAODwnHYvG+Q/\",\"dtype\":\"float64\",\"order\":\"little\",\"shape\":[12]},\"4\":[16,4,3,13,2,9,0,0,2,1,0,3],\"4_angle\":{\"__ndarray__\":\"JgYiIlZZ/j8mBiIiVlneP52EmZkAw9Y//6S7+5Wo+D8mBiIiVlnOP3UjM3NAEvE/AAAAAAAAAAAAAAAAAAAAACYGIiJWWc4/JgYiIlZZvj8AAAAAAAAAAJ2EmZkAw9Y/\",\"dtype\":\"float64\",\"order\":\"little\",\"shape\":[12]},\"5\":[31,7,3,12,7,18,0,0,8,1,2,10],\"5_angle\":{\"__ndarray__\":\"eYPRgLl6/z99boMZ2W7cP9mncDoDX8g/2adwOgNf6D99boMZ2W7cP+N91GtCR/I/AAAAAAAAAAAAAAAAAAAAAJEaS3xXP+A/kRpLfFc/sD+RGkt8Vz/APzXhXVstT+Q/\",\"dtype\":\"float64\",\"order\":\"little\",\"shape\":[12]},\"6\":[33,8,1,28,11,20,0,0,6,3,1,5],\"6_angle\":{\"__ndarray__\":\"dF+LcW2Z/D/dkjnqkLvbP92SOeqQu6s/gWDyzB5E+D/3lAeh8xDjP8r7Y5I6VfE/AAAAAAAAAAAAAAAAAAAAACUuq6+szNQ/JS6rr6zMxD/dkjnqkLurP8r7Y5I6VdE/\",\"dtype\":\"float64\",\"order\":\"little\",\"shape\":[12]},\"7\":[37,11,3,30,14,26,1,0,2,1,0,6],\"7_angle\":{\"__ndarray__\":\"Vc0rC+1k/D8I1IFnEOLgP6xbdp/6asI/l/JTR7kF9z/zal8Pz3zlP1Djatfk8/M/OnpIf6OOqD8AAAAAAAAAADp6SH+jjrg/OnpIf6OOqD8AAAAAAAAAAKxbdp/6atI/\",\"dtype\":\"float64\",\"order\":\"little\",\"shape\":[12]},\"8\":[24,4,1,26,8,19,0,0,1,3,0,7],\"8_angle\":{\"__ndarray__\":\"IYHKkIfx+T8WVty1r0vRPxZW3LWvS7E/4wuGh/0a/D8WVty1r0vhPzum9afgifQ/AAAAAAAAAAAAAAAAAAAAABZW3LWvS7E/IYHKkIfxyT8AAAAAAAAAAKeWQX5zRN4/\",\"dtype\":\"float64\",\"order\":\"little\",\"shape\":[12]},\"9\":[12,0,0,16,9,12,0,0,2,0,0,3],\"9_angle\":{\"__ndarray__\":\"h0TnShhX9j8AAAAAAAAAAAAAAAAAAAAAXls0uXXJ/T9lcy04UsHwP4dE50oYV/Y/AAAAAAAAAAAAAAAAAAAAAF5bNLl1yc0/AAAAAAAAAAAAAAAAAAAAAIdE50oYV9Y/\",\"dtype\":\"float64\",\"order\":\"little\",\"shape\":[12]},\"__x__values\":[\"Plastic bottle container\",\"Disposable cup / straw / tableware\",\"Plastic bag\",\"Foam material\",\"Float\",\"Fishing nets and ropes\",\"Fishing equipment\",\"Cigarette and lighter\",\"Glass jar\",\"Metal\",\"Paper\",\"Others\"],\"__x__values_original\":[\"Plastic bottle container\",\"Disposable cup / straw / tableware\",\"Plastic bag\",\"Foam material\",\"Float\",\"Fishing nets and ropes\",\"Fishing equipment\",\"Cigarette and lighter\",\"Glass jar\",\"Metal\",\"Paper\",\"Others\"],\"color\":[\"#1f77b4\",\"#aec7e8\",\"#ff7f0e\",\"#ffbb78\",\"#2ca02c\",\"#98df8a\",\"#d62728\",\"#ff9896\",\"#9467bd\",\"#c5b0d5\",\"#8c564b\",\"#c49c94\"],\"inner_radius\":[0.3,0.3,0.3,0.3,0.3,0.3,0.3,0.3,0.3,0.3,0.3,0.3],\"outer_radius\":[0.39,0.39,0.39,0.39,0.39,0.39,0.39,0.39,0.39,0.39,0.39,0.39]},\"selected\":{\"id\":\"4227\"},\"selection_policy\":{\"id\":\"4226\"}},\"id\":\"4113\",\"type\":\"ColumnDataSource\"},{\"attributes\":{\"field\":\"8_angle\"},\"id\":\"4028\",\"type\":\"CumSum\"},{\"attributes\":{},\"id\":\"4214\",\"type\":\"UnionRenderers\"},{\"attributes\":{},\"id\":\"4215\",\"type\":\"Selection\"},{\"attributes\":{\"field\":\"4_angle\",\"include_zero\":true},\"id\":\"4111\",\"type\":\"CumSum\"},{\"attributes\":{\"end_angle\":{\"expr\":{\"id\":\"4028\"}},\"fill_alpha\":{\"value\":0.1},\"fill_color\":{\"field\":\"color\"},\"inner_radius\":{\"field\":\"inner_radius\"},\"line_alpha\":{\"value\":0.1},\"line_color\":{\"value\":\"white\"},\"line_width\":{\"value\":2},\"outer_radius\":{\"field\":\"outer_radius\"},\"start_angle\":{\"expr\":{\"id\":\"4027\"}},\"x\":{\"value\":0},\"y\":{\"value\":0}},\"id\":\"4032\",\"type\":\"AnnularWedge\"},{\"attributes\":{\"field\":\"4_angle\"},\"id\":\"4112\",\"type\":\"CumSum\"},{\"attributes\":{\"text_alpha\":{\"value\":0.1},\"text_color\":{\"value\":\"black\"},\"text_font_style\":{\"value\":\"bold\"},\"x\":{\"field\":\"__x__values\"},\"y\":{\"field\":\"y\"}},\"id\":\"4038\",\"type\":\"Text\"},{\"attributes\":{\"data_source\":{\"id\":\"4062\"},\"glyph\":{\"id\":\"4063\"},\"hover_glyph\":null,\"muted_glyph\":null,\"nonselection_glyph\":{\"id\":\"4064\"},\"view\":{\"id\":\"4066\"}},\"id\":\"4065\",\"type\":\"GlyphRenderer\"},{\"attributes\":{\"end_angle\":{\"expr\":{\"id\":\"4112\"}},\"fill_alpha\":{\"value\":0.1},\"fill_color\":{\"field\":\"color\"},\"inner_radius\":{\"field\":\"inner_radius\"},\"line_alpha\":{\"value\":0.1},\"line_color\":{\"value\":\"white\"},\"line_width\":{\"value\":2},\"outer_radius\":{\"field\":\"outer_radius\"},\"start_angle\":{\"expr\":{\"id\":\"4111\"}},\"x\":{\"value\":0},\"y\":{\"value\":0}},\"id\":\"4116\",\"type\":\"AnnularWedge\"},{\"attributes\":{\"text_alpha\":{\"value\":0.1},\"text_color\":{\"value\":\"black\"},\"text_font_style\":{\"value\":\"bold\"},\"x\":{\"field\":\"__x__values\"},\"y\":{\"field\":\"y\"}},\"id\":\"4122\",\"type\":\"Text\"},{\"attributes\":{},\"id\":\"4236\",\"type\":\"UnionRenderers\"},{\"attributes\":{\"data_source\":{\"id\":\"4029\"},\"glyph\":{\"id\":\"4031\"},\"hover_glyph\":null,\"muted_glyph\":null,\"nonselection_glyph\":{\"id\":\"4032\"},\"view\":{\"id\":\"4034\"}},\"id\":\"4033\",\"type\":\"GlyphRenderer\"},{\"attributes\":{\"line_alpha\":0.1,\"x\":{\"field\":\"x\"},\"y\":{\"field\":\"y\"}},\"id\":\"4148\",\"type\":\"Line\"},{\"attributes\":{},\"id\":\"3959\",\"type\":\"LinearScale\"},{\"attributes\":{\"text_color\":{\"value\":\"black\"},\"text_font_style\":{\"value\":\"bold\"},\"x\":{\"field\":\"__x__values\"},\"y\":{\"field\":\"y\"}},\"id\":\"4037\",\"type\":\"Text\"},{\"attributes\":{\"data\":{\"x\":[-1.34,0],\"y\":[-0.09999999999999998,-0.245]},\"selected\":{\"id\":\"4237\"},\"selection_policy\":{\"id\":\"4236\"}},\"id\":\"4146\",\"type\":\"ColumnDataSource\"},{\"attributes\":{\"data_source\":{\"id\":\"4113\"},\"glyph\":{\"id\":\"4115\"},\"hover_glyph\":null,\"muted_glyph\":null,\"nonselection_glyph\":{\"id\":\"4116\"},\"view\":{\"id\":\"4118\"}},\"id\":\"4117\",\"type\":\"GlyphRenderer\"},{\"attributes\":{},\"id\":\"4204\",\"type\":\"UnionRenderers\"},{\"attributes\":{},\"id\":\"4205\",\"type\":\"Selection\"},{\"attributes\":{\"text_alpha\":{\"value\":0.1},\"text_color\":{\"value\":\"black\"},\"text_font_style\":{\"value\":\"bold\"},\"x\":{\"field\":\"__x__values\"},\"y\":{\"field\":\"y\"}},\"id\":\"4143\",\"type\":\"Text\"},{\"attributes\":{},\"id\":\"4237\",\"type\":\"Selection\"},{\"attributes\":{\"x\":{\"field\":\"x\"},\"y\":{\"field\":\"y\"}},\"id\":\"4063\",\"type\":\"Line\"},{\"attributes\":{},\"id\":\"4226\",\"type\":\"UnionRenderers\"},{\"attributes\":{\"data_source\":{\"id\":\"4035\"},\"glyph\":{\"id\":\"4037\"},\"hover_glyph\":null,\"muted_glyph\":null,\"nonselection_glyph\":{\"id\":\"4038\"},\"view\":{\"id\":\"4040\"}},\"id\":\"4039\",\"type\":\"GlyphRenderer\"},{\"attributes\":{\"data\":{\"__x__values\":[-1.4000000000000001],\"text\":[\"4\"],\"y\":[-0.3999999999999999]},\"selected\":{\"id\":\"4229\"},\"selection_policy\":{\"id\":\"4228\"}},\"id\":\"4119\",\"type\":\"ColumnDataSource\"},{\"attributes\":{},\"id\":\"4227\",\"type\":\"Selection\"},{\"attributes\":{\"data\":{\"x\":[-1.34,0],\"y\":[-1.2999999999999998,-0.645]},\"selected\":{\"id\":\"4213\"},\"selection_policy\":{\"id\":\"4212\"}},\"id\":\"4062\",\"type\":\"ColumnDataSource\"},{\"attributes\":{\"text_color\":{\"value\":\"black\"},\"text_font_style\":{\"value\":\"bold\"},\"x\":{\"field\":\"__x__values\"},\"y\":{\"field\":\"y\"}},\"id\":\"4121\",\"type\":\"Text\"},{\"attributes\":{},\"id\":\"4192\",\"type\":\"UnionRenderers\"},{\"attributes\":{\"data_source\":{\"id\":\"4119\"},\"glyph\":{\"id\":\"4121\"},\"hover_glyph\":null,\"muted_glyph\":null,\"nonselection_glyph\":{\"id\":\"4122\"},\"view\":{\"id\":\"4124\"}},\"id\":\"4123\",\"type\":\"GlyphRenderer\"},{\"attributes\":{\"x\":{\"field\":\"x\"},\"y\":{\"field\":\"y\"}},\"id\":\"4042\",\"type\":\"Line\"},{\"attributes\":{},\"id\":\"4193\",\"type\":\"Selection\"},{\"attributes\":{\"source\":{\"id\":\"4035\"}},\"id\":\"4040\",\"type\":\"CDSView\"},{\"attributes\":{\"source\":{\"id\":\"4155\"}},\"id\":\"4160\",\"type\":\"CDSView\"},{\"attributes\":{\"source\":{\"id\":\"4041\"}},\"id\":\"4045\",\"type\":\"CDSView\"},{\"attributes\":{\"x\":{\"field\":\"x\"},\"y\":{\"field\":\"y\"}},\"id\":\"4126\",\"type\":\"Line\"},{\"attributes\":{\"data\":{\"x\":[-1.34,0],\"y\":[-1.6,-0.745]},\"selected\":{\"id\":\"4207\"},\"selection_policy\":{\"id\":\"4206\"}},\"id\":\"4041\",\"type\":\"ColumnDataSource\"},{\"attributes\":{\"source\":{\"id\":\"4119\"}},\"id\":\"4124\",\"type\":\"CDSView\"},{\"attributes\":{\"callback\":null,\"renderers\":[{\"id\":\"4033\"}],\"tooltips\":[[\"x\",\"@__x__values_original\"],[\"8\",\"@{8}\"]]},\"id\":\"4046\",\"type\":\"HoverTool\"},{\"attributes\":{\"source\":{\"id\":\"4125\"}},\"id\":\"4129\",\"type\":\"CDSView\"},{\"attributes\":{},\"id\":\"4216\",\"type\":\"UnionRenderers\"},{\"attributes\":{\"data_source\":{\"id\":\"4041\"},\"glyph\":{\"id\":\"4042\"},\"hover_glyph\":null,\"muted_glyph\":null,\"nonselection_glyph\":{\"id\":\"4043\"},\"view\":{\"id\":\"4045\"}},\"id\":\"4044\",\"type\":\"GlyphRenderer\"},{\"attributes\":{\"text_color\":{\"value\":\"black\"},\"text_font_style\":{\"value\":\"bold\"},\"x\":{\"field\":\"__x__values\"},\"y\":{\"field\":\"y\"}},\"id\":\"4016\",\"type\":\"Text\"},{\"attributes\":{\"data\":{\"x\":[-1.34,0],\"y\":[-0.3999999999999999,-0.345]},\"selected\":{\"id\":\"4231\"},\"selection_policy\":{\"id\":\"4230\"}},\"id\":\"4125\",\"type\":\"ColumnDataSource\"},{\"attributes\":{\"callback\":null,\"renderers\":[{\"id\":\"4117\"}],\"tooltips\":[[\"x\",\"@__x__values_original\"],[\"4\",\"@{4}\"]]},\"id\":\"4130\",\"type\":\"HoverTool\"},{\"attributes\":{},\"id\":\"4187\",\"type\":\"AllLabels\"},{\"attributes\":{\"source\":{\"id\":\"4050\"}},\"id\":\"4055\",\"type\":\"CDSView\"},{\"attributes\":{\"data_source\":{\"id\":\"4125\"},\"glyph\":{\"id\":\"4126\"},\"hover_glyph\":null,\"muted_glyph\":null,\"nonselection_glyph\":{\"id\":\"4127\"},\"view\":{\"id\":\"4129\"}},\"id\":\"4128\",\"type\":\"GlyphRenderer\"},{\"attributes\":{\"end_angle\":{\"expr\":{\"id\":\"4049\"}},\"fill_color\":{\"field\":\"color\"},\"inner_radius\":{\"field\":\"inner_radius\"},\"line_color\":{\"value\":\"white\"},\"line_width\":{\"value\":2},\"outer_radius\":{\"field\":\"outer_radius\"},\"start_angle\":{\"expr\":{\"id\":\"4048\"}},\"x\":{\"value\":0},\"y\":{\"value\":0}},\"id\":\"4052\",\"type\":\"AnnularWedge\"},{\"attributes\":{},\"id\":\"4217\",\"type\":\"Selection\"},{\"attributes\":{\"line_alpha\":0.1,\"x\":{\"field\":\"x\"},\"y\":{\"field\":\"y\"}},\"id\":\"4043\",\"type\":\"Line\"},{\"attributes\":{\"source\":{\"id\":\"4134\"}},\"id\":\"4139\",\"type\":\"CDSView\"},{\"attributes\":{},\"id\":\"4206\",\"type\":\"UnionRenderers\"},{\"attributes\":{},\"id\":\"4188\",\"type\":\"BasicTickFormatter\"},{\"attributes\":{\"active_multi\":null,\"tools\":[{\"id\":\"3971\"},{\"id\":\"3972\"},{\"id\":\"3973\"},{\"id\":\"3974\"},{\"id\":\"3975\"},{\"id\":\"3976\"},{\"id\":\"4004\"},{\"id\":\"4025\"},{\"id\":\"4046\"},{\"id\":\"4067\"},{\"id\":\"4088\"},{\"id\":\"4109\"},{\"id\":\"4130\"},{\"id\":\"4151\"},{\"id\":\"4172\"},{\"id\":\"4259\"}]},\"id\":\"3978\",\"type\":\"Toolbar\"},{\"attributes\":{\"end_angle\":{\"expr\":{\"id\":\"4133\"}},\"fill_color\":{\"field\":\"color\"},\"inner_radius\":{\"field\":\"inner_radius\"},\"line_color\":{\"value\":\"white\"},\"line_width\":{\"value\":2},\"outer_radius\":{\"field\":\"outer_radius\"},\"start_angle\":{\"expr\":{\"id\":\"4132\"}},\"x\":{\"value\":0},\"y\":{\"value\":0}},\"id\":\"4136\",\"type\":\"AnnularWedge\"},{\"attributes\":{\"data\":{\"1\":[5,2,1,1,0,1,0,0,1,0,0,0],\"10\":[7,0,0,9,1,6,0,0,1,0,0,0],\"10_angle\":{\"__ndarray__\":\"8olP4k9S/T8AAAAAAAAAAAAAAAAAAAAA0iEzf3zZAkBlcy04UsHQPxgtRFT7Ifk/AAAAAAAAAAAAAAAAAAAAAGVzLThSwdA/AAAAAAAAAAAAAAAAAAAAAAAAAAAAAAAA\",\"dtype\":\"float64\",\"order\":\"little\",\"shape\":[12]},\"1_angle\":{\"__ndarray__\":\"W53JBhPZBkDjfdRrQkfyP+N91GtCR+I/433Ua0JH4j8AAAAAAAAAAON91GtCR+I/AAAAAAAAAAAAAAAAAAAAAON91GtCR+I/AAAAAAAAAAAAAAAAAAAAAAAAAAAAAAAA\",\"dtype\":\"float64\",\"order\":\"little\",\"shape\":[12]},\"2\":[30,8,4,6,3,8,2,1,7,1,2,6],\"2_angle\":{\"__ndarray__\":\"iazlezdVA0AaycEdKp/kPxrJwR0qn9Q/qK2iLL/u3j+oraIsv+7OPxrJwR0qn+Q/GsnBHSqfxD8aycEdKp+0P/ePCdpEC+I/GsnBHSqftD8aycEdKp/EP6itoiy/7t4/\",\"dtype\":\"float64\",\"order\":\"little\",\"shape\":[12]},\"3\":[19,3,4,5,2,9,0,0,3,0,0,5],\"3_angle\":{\"__ndarray__\":\"bn57fdMZA0CmuiJbnyDYPxonF5K/FeA/4PCcdi8b5D8aJxeSvxXQP/0LWoR3GPI/AAAAAAAAAAAAAAAAAAAAAKa6IlufINg/AAAAAAAAAAAAAAAAAAAAAODwnHYvG+Q/\",\"dtype\":\"float64\",\"order\":\"little\",\"shape\":[12]},\"4\":[16,4,3,13,2,9,0,0,2,1,0,3],\"4_angle\":{\"__ndarray__\":\"JgYiIlZZ/j8mBiIiVlneP52EmZkAw9Y//6S7+5Wo+D8mBiIiVlnOP3UjM3NAEvE/AAAAAAAAAAAAAAAAAAAAACYGIiJWWc4/JgYiIlZZvj8AAAAAAAAAAJ2EmZkAw9Y/\",\"dtype\":\"float64\",\"order\":\"little\",\"shape\":[12]},\"5\":[31,7,3,12,7,18,0,0,8,1,2,10],\"5_angle\":{\"__ndarray__\":\"eYPRgLl6/z99boMZ2W7cP9mncDoDX8g/2adwOgNf6D99boMZ2W7cP+N91GtCR/I/AAAAAAAAAAAAAAAAAAAAAJEaS3xXP+A/kRpLfFc/sD+RGkt8Vz/APzXhXVstT+Q/\",\"dtype\":\"float64\",\"order\":\"little\",\"shape\":[12]},\"6\":[33,8,1,28,11,20,0,0,6,3,1,5],\"6_angle\":{\"__ndarray__\":\"dF+LcW2Z/D/dkjnqkLvbP92SOeqQu6s/gWDyzB5E+D/3lAeh8xDjP8r7Y5I6VfE/AAAAAAAAAAAAAAAAAAAAACUuq6+szNQ/JS6rr6zMxD/dkjnqkLurP8r7Y5I6VdE/\",\"dtype\":\"float64\",\"order\":\"little\",\"shape\":[12]},\"7\":[37,11,3,30,14,26,1,0,2,1,0,6],\"7_angle\":{\"__ndarray__\":\"Vc0rC+1k/D8I1IFnEOLgP6xbdp/6asI/l/JTR7kF9z/zal8Pz3zlP1Djatfk8/M/OnpIf6OOqD8AAAAAAAAAADp6SH+jjrg/OnpIf6OOqD8AAAAAAAAAAKxbdp/6atI/\",\"dtype\":\"float64\",\"order\":\"little\",\"shape\":[12]},\"8\":[24,4,1,26,8,19,0,0,1,3,0,7],\"8_angle\":{\"__ndarray__\":\"IYHKkIfx+T8WVty1r0vRPxZW3LWvS7E/4wuGh/0a/D8WVty1r0vhPzum9afgifQ/AAAAAAAAAAAAAAAAAAAAABZW3LWvS7E/IYHKkIfxyT8AAAAAAAAAAKeWQX5zRN4/\",\"dtype\":\"float64\",\"order\":\"little\",\"shape\":[12]},\"9\":[12,0,0,16,9,12,0,0,2,0,0,3],\"9_angle\":{\"__ndarray__\":\"h0TnShhX9j8AAAAAAAAAAAAAAAAAAAAAXls0uXXJ/T9lcy04UsHwP4dE50oYV/Y/AAAAAAAAAAAAAAAAAAAAAF5bNLl1yc0/AAAAAAAAAAAAAAAAAAAAAIdE50oYV9Y/\",\"dtype\":\"float64\",\"order\":\"little\",\"shape\":[12]},\"__x__values\":[\"Plastic bottle container\",\"Disposable cup / straw / tableware\",\"Plastic bag\",\"Foam material\",\"Float\",\"Fishing nets and ropes\",\"Fishing equipment\",\"Cigarette and lighter\",\"Glass jar\",\"Metal\",\"Paper\",\"Others\"],\"__x__values_original\":[\"Plastic bottle container\",\"Disposable cup / straw / tableware\",\"Plastic bag\",\"Foam material\",\"Float\",\"Fishing nets and ropes\",\"Fishing equipment\",\"Cigarette and lighter\",\"Glass jar\",\"Metal\",\"Paper\",\"Others\"],\"color\":[\"#1f77b4\",\"#aec7e8\",\"#ff7f0e\",\"#ffbb78\",\"#2ca02c\",\"#98df8a\",\"#d62728\",\"#ff9896\",\"#9467bd\",\"#c5b0d5\",\"#8c564b\",\"#c49c94\"],\"inner_radius\":[0.6,0.6,0.6,0.6,0.6,0.6,0.6,0.6,0.6,0.6,0.6,0.6],\"outer_radius\":[0.6900000000000001,0.6900000000000001,0.6900000000000001,0.6900000000000001,0.6900000000000001,0.6900000000000001,0.6900000000000001,0.6900000000000001,0.6900000000000001,0.6900000000000001,0.6900000000000001,0.6900000000000001]},\"selected\":{\"id\":\"4209\"},\"selection_policy\":{\"id\":\"4208\"}},\"id\":\"4050\",\"type\":\"ColumnDataSource\"},{\"attributes\":{\"line_alpha\":0.1,\"x\":{\"field\":\"x\"},\"y\":{\"field\":\"y\"}},\"id\":\"4127\",\"type\":\"Line\"},{\"attributes\":{},\"id\":\"4207\",\"type\":\"Selection\"},{\"attributes\":{\"field\":\"7_angle\",\"include_zero\":true},\"id\":\"4048\",\"type\":\"CumSum\"},{\"attributes\":{},\"id\":\"4239\",\"type\":\"Selection\"},{\"attributes\":{\"data\":{\"1\":[5,2,1,1,0,1,0,0,1,0,0,0],\"10\":[7,0,0,9,1,6,0,0,1,0,0,0],\"10_angle\":{\"__ndarray__\":\"8olP4k9S/T8AAAAAAAAAAAAAAAAAAAAA0iEzf3zZAkBlcy04UsHQPxgtRFT7Ifk/AAAAAAAAAAAAAAAAAAAAAGVzLThSwdA/AAAAAAAAAAAAAAAAAAAAAAAAAAAAAAAA\",\"dtype\":\"float64\",\"order\":\"little\",\"shape\":[12]},\"1_angle\":{\"__ndarray__\":\"W53JBhPZBkDjfdRrQkfyP+N91GtCR+I/433Ua0JH4j8AAAAAAAAAAON91GtCR+I/AAAAAAAAAAAAAAAAAAAAAON91GtCR+I/AAAAAAAAAAAAAAAAAAAAAAAAAAAAAAAA\",\"dtype\":\"float64\",\"order\":\"little\",\"shape\":[12]},\"2\":[30,8,4,6,3,8,2,1,7,1,2,6],\"2_angle\":{\"__ndarray__\":\"iazlezdVA0AaycEdKp/kPxrJwR0qn9Q/qK2iLL/u3j+oraIsv+7OPxrJwR0qn+Q/GsnBHSqfxD8aycEdKp+0P/ePCdpEC+I/GsnBHSqftD8aycEdKp/EP6itoiy/7t4/\",\"dtype\":\"float64\",\"order\":\"little\",\"shape\":[12]},\"3\":[19,3,4,5,2,9,0,0,3,0,0,5],\"3_angle\":{\"__ndarray__\":\"bn57fdMZA0CmuiJbnyDYPxonF5K/FeA/4PCcdi8b5D8aJxeSvxXQP/0LWoR3GPI/AAAAAAAAAAAAAAAAAAAAAKa6IlufINg/AAAAAAAAAAAAAAAAAAAAAODwnHYvG+Q/\",\"dtype\":\"float64\",\"order\":\"little\",\"shape\":[12]},\"4\":[16,4,3,13,2,9,0,0,2,1,0,3],\"4_angle\":{\"__ndarray__\":\"JgYiIlZZ/j8mBiIiVlneP52EmZkAw9Y//6S7+5Wo+D8mBiIiVlnOP3UjM3NAEvE/AAAAAAAAAAAAAAAAAAAAACYGIiJWWc4/JgYiIlZZvj8AAAAAAAAAAJ2EmZkAw9Y/\",\"dtype\":\"float64\",\"order\":\"little\",\"shape\":[12]},\"5\":[31,7,3,12,7,18,0,0,8,1,2,10],\"5_angle\":{\"__ndarray__\":\"eYPRgLl6/z99boMZ2W7cP9mncDoDX8g/2adwOgNf6D99boMZ2W7cP+N91GtCR/I/AAAAAAAAAAAAAAAAAAAAAJEaS3xXP+A/kRpLfFc/sD+RGkt8Vz/APzXhXVstT+Q/\",\"dtype\":\"float64\",\"order\":\"little\",\"shape\":[12]},\"6\":[33,8,1,28,11,20,0,0,6,3,1,5],\"6_angle\":{\"__ndarray__\":\"dF+LcW2Z/D/dkjnqkLvbP92SOeqQu6s/gWDyzB5E+D/3lAeh8xDjP8r7Y5I6VfE/AAAAAAAAAAAAAAAAAAAAACUuq6+szNQ/JS6rr6zMxD/dkjnqkLurP8r7Y5I6VdE/\",\"dtype\":\"float64\",\"order\":\"little\",\"shape\":[12]},\"7\":[37,11,3,30,14,26,1,0,2,1,0,6],\"7_angle\":{\"__ndarray__\":\"Vc0rC+1k/D8I1IFnEOLgP6xbdp/6asI/l/JTR7kF9z/zal8Pz3zlP1Djatfk8/M/OnpIf6OOqD8AAAAAAAAAADp6SH+jjrg/OnpIf6OOqD8AAAAAAAAAAKxbdp/6atI/\",\"dtype\":\"float64\",\"order\":\"little\",\"shape\":[12]},\"8\":[24,4,1,26,8,19,0,0,1,3,0,7],\"8_angle\":{\"__ndarray__\":\"IYHKkIfx+T8WVty1r0vRPxZW3LWvS7E/4wuGh/0a/D8WVty1r0vhPzum9afgifQ/AAAAAAAAAAAAAAAAAAAAABZW3LWvS7E/IYHKkIfxyT8AAAAAAAAAAKeWQX5zRN4/\",\"dtype\":\"float64\",\"order\":\"little\",\"shape\":[12]},\"9\":[12,0,0,16,9,12,0,0,2,0,0,3],\"9_angle\":{\"__ndarray__\":\"h0TnShhX9j8AAAAAAAAAAAAAAAAAAAAAXls0uXXJ/T9lcy04UsHwP4dE50oYV/Y/AAAAAAAAAAAAAAAAAAAAAF5bNLl1yc0/AAAAAAAAAAAAAAAAAAAAAIdE50oYV9Y/\",\"dtype\":\"float64\",\"order\":\"little\",\"shape\":[12]},\"__x__values\":[\"Plastic bottle container\",\"Disposable cup / straw / tableware\",\"Plastic bag\",\"Foam material\",\"Float\",\"Fishing nets and ropes\",\"Fishing equipment\",\"Cigarette and lighter\",\"Glass jar\",\"Metal\",\"Paper\",\"Others\"],\"__x__values_original\":[\"Plastic bottle container\",\"Disposable cup / straw / tableware\",\"Plastic bag\",\"Foam material\",\"Float\",\"Fishing nets and ropes\",\"Fishing equipment\",\"Cigarette and lighter\",\"Glass jar\",\"Metal\",\"Paper\",\"Others\"],\"color\":[\"#1f77b4\",\"#aec7e8\",\"#ff7f0e\",\"#ffbb78\",\"#2ca02c\",\"#98df8a\",\"#d62728\",\"#ff9896\",\"#9467bd\",\"#c5b0d5\",\"#8c564b\",\"#c49c94\"],\"inner_radius\":[0.2,0.2,0.2,0.2,0.2,0.2,0.2,0.2,0.2,0.2,0.2,0.2],\"outer_radius\":[0.29,0.29,0.29,0.29,0.29,0.29,0.29,0.29,0.29,0.29,0.29,0.29]},\"selected\":{\"id\":\"4233\"},\"selection_policy\":{\"id\":\"4232\"}},\"id\":\"4134\",\"type\":\"ColumnDataSource\"},{\"attributes\":{\"field\":\"7_angle\"},\"id\":\"4049\",\"type\":\"CumSum\"},{\"attributes\":{\"data\":{\"1\":[5,2,1,1,0,1,0,0,1,0,0,0],\"10\":[7,0,0,9,1,6,0,0,1,0,0,0],\"10_angle\":{\"__ndarray__\":\"8olP4k9S/T8AAAAAAAAAAAAAAAAAAAAA0iEzf3zZAkBlcy04UsHQPxgtRFT7Ifk/AAAAAAAAAAAAAAAAAAAAAGVzLThSwdA/AAAAAAAAAAAAAAAAAAAAAAAAAAAAAAAA\",\"dtype\":\"float64\",\"order\":\"little\",\"shape\":[12]},\"1_angle\":{\"__ndarray__\":\"W53JBhPZBkDjfdRrQkfyP+N91GtCR+I/433Ua0JH4j8AAAAAAAAAAON91GtCR+I/AAAAAAAAAAAAAAAAAAAAAON91GtCR+I/AAAAAAAAAAAAAAAAAAAAAAAAAAAAAAAA\",\"dtype\":\"float64\",\"order\":\"little\",\"shape\":[12]},\"2\":[30,8,4,6,3,8,2,1,7,1,2,6],\"2_angle\":{\"__ndarray__\":\"iazlezdVA0AaycEdKp/kPxrJwR0qn9Q/qK2iLL/u3j+oraIsv+7OPxrJwR0qn+Q/GsnBHSqfxD8aycEdKp+0P/ePCdpEC+I/GsnBHSqftD8aycEdKp/EP6itoiy/7t4/\",\"dtype\":\"float64\",\"order\":\"little\",\"shape\":[12]},\"3\":[19,3,4,5,2,9,0,0,3,0,0,5],\"3_angle\":{\"__ndarray__\":\"bn57fdMZA0CmuiJbnyDYPxonF5K/FeA/4PCcdi8b5D8aJxeSvxXQP/0LWoR3GPI/AAAAAAAAAAAAAAAAAAAAAKa6IlufINg/AAAAAAAAAAAAAAAAAAAAAODwnHYvG+Q/\",\"dtype\":\"float64\",\"order\":\"little\",\"shape\":[12]},\"4\":[16,4,3,13,2,9,0,0,2,1,0,3],\"4_angle\":{\"__ndarray__\":\"JgYiIlZZ/j8mBiIiVlneP52EmZkAw9Y//6S7+5Wo+D8mBiIiVlnOP3UjM3NAEvE/AAAAAAAAAAAAAAAAAAAAACYGIiJWWc4/JgYiIlZZvj8AAAAAAAAAAJ2EmZkAw9Y/\",\"dtype\":\"float64\",\"order\":\"little\",\"shape\":[12]},\"5\":[31,7,3,12,7,18,0,0,8,1,2,10],\"5_angle\":{\"__ndarray__\":\"eYPRgLl6/z99boMZ2W7cP9mncDoDX8g/2adwOgNf6D99boMZ2W7cP+N91GtCR/I/AAAAAAAAAAAAAAAAAAAAAJEaS3xXP+A/kRpLfFc/sD+RGkt8Vz/APzXhXVstT+Q/\",\"dtype\":\"float64\",\"order\":\"little\",\"shape\":[12]},\"6\":[33,8,1,28,11,20,0,0,6,3,1,5],\"6_angle\":{\"__ndarray__\":\"dF+LcW2Z/D/dkjnqkLvbP92SOeqQu6s/gWDyzB5E+D/3lAeh8xDjP8r7Y5I6VfE/AAAAAAAAAAAAAAAAAAAAACUuq6+szNQ/JS6rr6zMxD/dkjnqkLurP8r7Y5I6VdE/\",\"dtype\":\"float64\",\"order\":\"little\",\"shape\":[12]},\"7\":[37,11,3,30,14,26,1,0,2,1,0,6],\"7_angle\":{\"__ndarray__\":\"Vc0rC+1k/D8I1IFnEOLgP6xbdp/6asI/l/JTR7kF9z/zal8Pz3zlP1Djatfk8/M/OnpIf6OOqD8AAAAAAAAAADp6SH+jjrg/OnpIf6OOqD8AAAAAAAAAAKxbdp/6atI/\",\"dtype\":\"float64\",\"order\":\"little\",\"shape\":[12]},\"8\":[24,4,1,26,8,19,0,0,1,3,0,7],\"8_angle\":{\"__ndarray__\":\"IYHKkIfx+T8WVty1r0vRPxZW3LWvS7E/4wuGh/0a/D8WVty1r0vhPzum9afgifQ/AAAAAAAAAAAAAAAAAAAAABZW3LWvS7E/IYHKkIfxyT8AAAAAAAAAAKeWQX5zRN4/\",\"dtype\":\"float64\",\"order\":\"little\",\"shape\":[12]},\"9\":[12,0,0,16,9,12,0,0,2,0,0,3],\"9_angle\":{\"__ndarray__\":\"h0TnShhX9j8AAAAAAAAAAAAAAAAAAAAAXls0uXXJ/T9lcy04UsHwP4dE50oYV/Y/AAAAAAAAAAAAAAAAAAAAAF5bNLl1yc0/AAAAAAAAAAAAAAAAAAAAAIdE50oYV9Y/\",\"dtype\":\"float64\",\"order\":\"little\",\"shape\":[12]},\"__x__values\":[\"Plastic bottle container\",\"Disposable cup / straw / tableware\",\"Plastic bag\",\"Foam material\",\"Float\",\"Fishing nets and ropes\",\"Fishing equipment\",\"Cigarette and lighter\",\"Glass jar\",\"Metal\",\"Paper\",\"Others\"],\"__x__values_original\":[\"Plastic bottle container\",\"Disposable cup / straw / tableware\",\"Plastic bag\",\"Foam material\",\"Float\",\"Fishing nets and ropes\",\"Fishing equipment\",\"Cigarette and lighter\",\"Glass jar\",\"Metal\",\"Paper\",\"Others\"],\"color\":[\"#1f77b4\",\"#aec7e8\",\"#ff7f0e\",\"#ffbb78\",\"#2ca02c\",\"#98df8a\",\"#d62728\",\"#ff9896\",\"#9467bd\",\"#c5b0d5\",\"#8c564b\",\"#c49c94\"],\"inner_radius\":[0.9,0.9,0.9,0.9,0.9,0.9,0.9,0.9,0.9,0.9,0.9,0.9],\"outer_radius\":[0.99,0.99,0.99,0.99,0.99,0.99,0.99,0.99,0.99,0.99,0.99,0.99]},\"selected\":{\"id\":\"4191\"},\"selection_policy\":{\"id\":\"4190\"}},\"id\":\"3987\",\"type\":\"ColumnDataSource\"},{\"attributes\":{},\"id\":\"4194\",\"type\":\"UnionRenderers\"},{\"attributes\":{\"field\":\"3_angle\",\"include_zero\":true},\"id\":\"4132\",\"type\":\"CumSum\"},{\"attributes\":{\"source\":{\"id\":\"3987\"}},\"id\":\"3992\",\"type\":\"CDSView\"},{\"attributes\":{\"end_angle\":{\"expr\":{\"id\":\"4049\"}},\"fill_alpha\":{\"value\":0.1},\"fill_color\":{\"field\":\"color\"},\"inner_radius\":{\"field\":\"inner_radius\"},\"line_alpha\":{\"value\":0.1},\"line_color\":{\"value\":\"white\"},\"line_width\":{\"value\":2},\"outer_radius\":{\"field\":\"outer_radius\"},\"start_angle\":{\"expr\":{\"id\":\"4048\"}},\"x\":{\"value\":0},\"y\":{\"value\":0}},\"id\":\"4053\",\"type\":\"AnnularWedge\"},{\"attributes\":{},\"id\":\"4228\",\"type\":\"UnionRenderers\"},{\"attributes\":{\"field\":\"10_angle\"},\"id\":\"3986\",\"type\":\"CumSum\"},{\"attributes\":{},\"id\":\"4195\",\"type\":\"Selection\"},{\"attributes\":{\"field\":\"6_angle\",\"include_zero\":true},\"id\":\"4069\",\"type\":\"CumSum\"},{\"attributes\":{\"source\":{\"id\":\"4062\"}},\"id\":\"4066\",\"type\":\"CDSView\"},{\"attributes\":{\"end_angle\":{\"expr\":{\"id\":\"4133\"}},\"fill_alpha\":{\"value\":0.1},\"fill_color\":{\"field\":\"color\"},\"inner_radius\":{\"field\":\"inner_radius\"},\"line_alpha\":{\"value\":0.1},\"line_color\":{\"value\":\"white\"},\"line_width\":{\"value\":2},\"outer_radius\":{\"field\":\"outer_radius\"},\"start_angle\":{\"expr\":{\"id\":\"4132\"}},\"x\":{\"value\":0},\"y\":{\"value\":0}},\"id\":\"4137\",\"type\":\"AnnularWedge\"},{\"attributes\":{\"field\":\"10_angle\",\"include_zero\":true},\"id\":\"3985\",\"type\":\"CumSum\"},{\"attributes\":{\"text_alpha\":{\"value\":0.1},\"text_color\":{\"value\":\"black\"},\"text_font_style\":{\"value\":\"bold\"},\"x\":{\"field\":\"__x__values\"},\"y\":{\"field\":\"y\"}},\"id\":\"4059\",\"type\":\"Text\"},{\"attributes\":{\"data\":{\"1\":[5,2,1,1,0,1,0,0,1,0,0,0],\"10\":[7,0,0,9,1,6,0,0,1,0,0,0],\"10_angle\":{\"__ndarray__\":\"8olP4k9S/T8AAAAAAAAAAAAAAAAAAAAA0iEzf3zZAkBlcy04UsHQPxgtRFT7Ifk/AAAAAAAAAAAAAAAAAAAAAGVzLThSwdA/AAAAAAAAAAAAAAAAAAAAAAAAAAAAAAAA\",\"dtype\":\"float64\",\"order\":\"little\",\"shape\":[12]},\"1_angle\":{\"__ndarray__\":\"W53JBhPZBkDjfdRrQkfyP+N91GtCR+I/433Ua0JH4j8AAAAAAAAAAON91GtCR+I/AAAAAAAAAAAAAAAAAAAAAON91GtCR+I/AAAAAAAAAAAAAAAAAAAAAAAAAAAAAAAA\",\"dtype\":\"float64\",\"order\":\"little\",\"shape\":[12]},\"2\":[30,8,4,6,3,8,2,1,7,1,2,6],\"2_angle\":{\"__ndarray__\":\"iazlezdVA0AaycEdKp/kPxrJwR0qn9Q/qK2iLL/u3j+oraIsv+7OPxrJwR0qn+Q/GsnBHSqfxD8aycEdKp+0P/ePCdpEC+I/GsnBHSqftD8aycEdKp/EP6itoiy/7t4/\",\"dtype\":\"float64\",\"order\":\"little\",\"shape\":[12]},\"3\":[19,3,4,5,2,9,0,0,3,0,0,5],\"3_angle\":{\"__ndarray__\":\"bn57fdMZA0CmuiJbnyDYPxonF5K/FeA/4PCcdi8b5D8aJxeSvxXQP/0LWoR3GPI/AAAAAAAAAAAAAAAAAAAAAKa6IlufINg/AAAAAAAAAAAAAAAAAAAAAODwnHYvG+Q/\",\"dtype\":\"float64\",\"order\":\"little\",\"shape\":[12]},\"4\":[16,4,3,13,2,9,0,0,2,1,0,3],\"4_angle\":{\"__ndarray__\":\"JgYiIlZZ/j8mBiIiVlneP52EmZkAw9Y//6S7+5Wo+D8mBiIiVlnOP3UjM3NAEvE/AAAAAAAAAAAAAAAAAAAAACYGIiJWWc4/JgYiIlZZvj8AAAAAAAAAAJ2EmZkAw9Y/\",\"dtype\":\"float64\",\"order\":\"little\",\"shape\":[12]},\"5\":[31,7,3,12,7,18,0,0,8,1,2,10],\"5_angle\":{\"__ndarray__\":\"eYPRgLl6/z99boMZ2W7cP9mncDoDX8g/2adwOgNf6D99boMZ2W7cP+N91GtCR/I/AAAAAAAAAAAAAAAAAAAAAJEaS3xXP+A/kRpLfFc/sD+RGkt8Vz/APzXhXVstT+Q/\",\"dtype\":\"float64\",\"order\":\"little\",\"shape\":[12]},\"6\":[33,8,1,28,11,20,0,0,6,3,1,5],\"6_angle\":{\"__ndarray__\":\"dF+LcW2Z/D/dkjnqkLvbP92SOeqQu6s/gWDyzB5E+D/3lAeh8xDjP8r7Y5I6VfE/AAAAAAAAAAAAAAAAAAAAACUuq6+szNQ/JS6rr6zMxD/dkjnqkLurP8r7Y5I6VdE/\",\"dtype\":\"float64\",\"order\":\"little\",\"shape\":[12]},\"7\":[37,11,3,30,14,26,1,0,2,1,0,6],\"7_angle\":{\"__ndarray__\":\"Vc0rC+1k/D8I1IFnEOLgP6xbdp/6asI/l/JTR7kF9z/zal8Pz3zlP1Djatfk8/M/OnpIf6OOqD8AAAAAAAAAADp6SH+jjrg/OnpIf6OOqD8AAAAAAAAAAKxbdp/6atI/\",\"dtype\":\"float64\",\"order\":\"little\",\"shape\":[12]},\"8\":[24,4,1,26,8,19,0,0,1,3,0,7],\"8_angle\":{\"__ndarray__\":\"IYHKkIfx+T8WVty1r0vRPxZW3LWvS7E/4wuGh/0a/D8WVty1r0vhPzum9afgifQ/AAAAAAAAAAAAAAAAAAAAABZW3LWvS7E/IYHKkIfxyT8AAAAAAAAAAKeWQX5zRN4/\",\"dtype\":\"float64\",\"order\":\"little\",\"shape\":[12]},\"9\":[12,0,0,16,9,12,0,0,2,0,0,3],\"9_angle\":{\"__ndarray__\":\"h0TnShhX9j8AAAAAAAAAAAAAAAAAAAAAXls0uXXJ/T9lcy04UsHwP4dE50oYV/Y/AAAAAAAAAAAAAAAAAAAAAF5bNLl1yc0/AAAAAAAAAAAAAAAAAAAAAIdE50oYV9Y/\",\"dtype\":\"float64\",\"order\":\"little\",\"shape\":[12]},\"__x__values\":[\"Plastic bottle container\",\"Disposable cup / straw / tableware\",\"Plastic bag\",\"Foam material\",\"Float\",\"Fishing nets and ropes\",\"Fishing equipment\",\"Cigarette and lighter\",\"Glass jar\",\"Metal\",\"Paper\",\"Others\"],\"__x__values_original\":[\"Plastic bottle container\",\"Disposable cup / straw / tableware\",\"Plastic bag\",\"Foam material\",\"Float\",\"Fishing nets and ropes\",\"Fishing equipment\",\"Cigarette and lighter\",\"Glass jar\",\"Metal\",\"Paper\",\"Others\"],\"color\":[\"#1f77b4\",\"#aec7e8\",\"#ff7f0e\",\"#ffbb78\",\"#2ca02c\",\"#98df8a\",\"#d62728\",\"#ff9896\",\"#9467bd\",\"#c5b0d5\",\"#8c564b\",\"#c49c94\"],\"inner_radius\":[0.5,0.5,0.5,0.5,0.5,0.5,0.5,0.5,0.5,0.5,0.5,0.5],\"outer_radius\":[0.5900000000000001,0.5900000000000001,0.5900000000000001,0.5900000000000001,0.5900000000000001,0.5900000000000001,0.5900000000000001,0.5900000000000001,0.5900000000000001,0.5900000000000001,0.5900000000000001,0.5900000000000001]},\"selected\":{\"id\":\"4215\"},\"selection_policy\":{\"id\":\"4214\"}},\"id\":\"4071\",\"type\":\"ColumnDataSource\"},{\"attributes\":{},\"id\":\"4229\",\"type\":\"Selection\"},{\"attributes\":{\"data_source\":{\"id\":\"4050\"},\"glyph\":{\"id\":\"4052\"},\"hover_glyph\":null,\"muted_glyph\":null,\"nonselection_glyph\":{\"id\":\"4053\"},\"view\":{\"id\":\"4055\"}},\"id\":\"4054\",\"type\":\"GlyphRenderer\"},{\"attributes\":{\"callback\":null,\"renderers\":[{\"id\":\"4138\"}],\"tooltips\":[[\"x\",\"@__x__values_original\"],[\"3\",\"@{3}\"]]},\"id\":\"4151\",\"type\":\"HoverTool\"},{\"attributes\":{},\"id\":\"4218\",\"type\":\"UnionRenderers\"},{\"attributes\":{\"end_angle\":{\"expr\":{\"id\":\"3986\"}},\"fill_color\":{\"field\":\"color\"},\"inner_radius\":{\"field\":\"inner_radius\"},\"line_color\":{\"value\":\"white\"},\"line_width\":{\"value\":2},\"outer_radius\":{\"field\":\"outer_radius\"},\"start_angle\":{\"expr\":{\"id\":\"3985\"}},\"x\":{\"value\":0},\"y\":{\"value\":0}},\"id\":\"3989\",\"type\":\"AnnularWedge\"},{\"attributes\":{\"source\":{\"id\":\"4071\"}},\"id\":\"4076\",\"type\":\"CDSView\"},{\"attributes\":{\"field\":\"2_angle\"},\"id\":\"4154\",\"type\":\"CumSum\"},{\"attributes\":{\"data_source\":{\"id\":\"4134\"},\"glyph\":{\"id\":\"4136\"},\"hover_glyph\":null,\"muted_glyph\":null,\"nonselection_glyph\":{\"id\":\"4137\"},\"view\":{\"id\":\"4139\"}},\"id\":\"4138\",\"type\":\"GlyphRenderer\"},{\"attributes\":{\"source\":{\"id\":\"4140\"}},\"id\":\"4145\",\"type\":\"CDSView\"},{\"attributes\":{},\"id\":\"4219\",\"type\":\"Selection\"},{\"attributes\":{\"end_angle\":{\"expr\":{\"id\":\"3986\"}},\"fill_alpha\":{\"value\":0.1},\"fill_color\":{\"field\":\"color\"},\"inner_radius\":{\"field\":\"inner_radius\"},\"line_alpha\":{\"value\":0.1},\"line_color\":{\"value\":\"white\"},\"line_width\":{\"value\":2},\"outer_radius\":{\"field\":\"outer_radius\"},\"start_angle\":{\"expr\":{\"id\":\"3985\"}},\"x\":{\"value\":0},\"y\":{\"value\":0}},\"id\":\"3990\",\"type\":\"AnnularWedge\"},{\"attributes\":{\"end_angle\":{\"expr\":{\"id\":\"4070\"}},\"fill_color\":{\"field\":\"color\"},\"inner_radius\":{\"field\":\"inner_radius\"},\"line_color\":{\"value\":\"white\"},\"line_width\":{\"value\":2},\"outer_radius\":{\"field\":\"outer_radius\"},\"start_angle\":{\"expr\":{\"id\":\"4069\"}},\"x\":{\"value\":0},\"y\":{\"value\":0}},\"id\":\"4073\",\"type\":\"AnnularWedge\"},{\"attributes\":{\"x\":{\"field\":\"x\"},\"y\":{\"field\":\"y\"}},\"id\":\"4147\",\"type\":\"Line\"},{\"attributes\":{\"data_source\":{\"id\":\"4056\"},\"glyph\":{\"id\":\"4058\"},\"hover_glyph\":null,\"muted_glyph\":null,\"nonselection_glyph\":{\"id\":\"4059\"},\"view\":{\"id\":\"4061\"}},\"id\":\"4060\",\"type\":\"GlyphRenderer\"},{\"attributes\":{\"line_alpha\":0.1,\"x\":{\"field\":\"x\"},\"y\":{\"field\":\"y\"}},\"id\":\"4064\",\"type\":\"Line\"},{\"attributes\":{},\"id\":\"4225\",\"type\":\"Selection\"},{\"attributes\":{\"source\":{\"id\":\"4146\"}},\"id\":\"4150\",\"type\":\"CDSView\"},{\"attributes\":{\"field\":\"9_angle\"},\"id\":\"4007\",\"type\":\"CumSum\"},{\"attributes\":{\"field\":\"6_angle\"},\"id\":\"4070\",\"type\":\"CumSum\"},{\"attributes\":{\"text_color\":{\"value\":\"black\"},\"text_font_style\":{\"value\":\"bold\"},\"x\":{\"field\":\"__x__values\"},\"y\":{\"field\":\"y\"}},\"id\":\"4142\",\"type\":\"Text\"},{\"attributes\":{},\"id\":\"4208\",\"type\":\"UnionRenderers\"},{\"attributes\":{\"field\":\"2_angle\",\"include_zero\":true},\"id\":\"4153\",\"type\":\"CumSum\"},{\"attributes\":{\"text_color\":{\"value\":\"black\"},\"text_font_style\":{\"value\":\"bold\"},\"x\":{\"field\":\"__x__values\"},\"y\":{\"field\":\"y\"}},\"id\":\"3995\",\"type\":\"Text\"},{\"attributes\":{\"end_angle\":{\"expr\":{\"id\":\"4070\"}},\"fill_alpha\":{\"value\":0.1},\"fill_color\":{\"field\":\"color\"},\"inner_radius\":{\"field\":\"inner_radius\"},\"line_alpha\":{\"value\":0.1},\"line_color\":{\"value\":\"white\"},\"line_width\":{\"value\":2},\"outer_radius\":{\"field\":\"outer_radius\"},\"start_angle\":{\"expr\":{\"id\":\"4069\"}},\"x\":{\"value\":0},\"y\":{\"value\":0}},\"id\":\"4074\",\"type\":\"AnnularWedge\"},{\"attributes\":{\"end_angle\":{\"expr\":{\"id\":\"4154\"}},\"fill_alpha\":{\"value\":0.1},\"fill_color\":{\"field\":\"color\"},\"inner_radius\":{\"field\":\"inner_radius\"},\"line_alpha\":{\"value\":0.1},\"line_color\":{\"value\":\"white\"},\"line_width\":{\"value\":2},\"outer_radius\":{\"field\":\"outer_radius\"},\"start_angle\":{\"expr\":{\"id\":\"4153\"}},\"x\":{\"value\":0},\"y\":{\"value\":0}},\"id\":\"4158\",\"type\":\"AnnularWedge\"},{\"attributes\":{\"data_source\":{\"id\":\"3987\"},\"glyph\":{\"id\":\"3989\"},\"hover_glyph\":null,\"muted_glyph\":null,\"nonselection_glyph\":{\"id\":\"3990\"},\"view\":{\"id\":\"3992\"}},\"id\":\"3991\",\"type\":\"GlyphRenderer\"},{\"attributes\":{\"text_alpha\":{\"value\":0.1},\"text_color\":{\"value\":\"black\"},\"text_font_style\":{\"value\":\"bold\"},\"x\":{\"field\":\"__x__values\"},\"y\":{\"field\":\"y\"}},\"id\":\"4080\",\"type\":\"Text\"},{\"attributes\":{\"text_alpha\":{\"value\":0.1},\"text_color\":{\"value\":\"black\"},\"text_font_style\":{\"value\":\"bold\"},\"x\":{\"field\":\"__x__values\"},\"y\":{\"field\":\"y\"}},\"id\":\"4164\",\"type\":\"Text\"},{\"attributes\":{\"data\":{\"__x__values\":[-1.4000000000000001],\"text\":[\"10\"],\"y\":[-2.1999999999999997]},\"selected\":{\"id\":\"4193\"},\"selection_policy\":{\"id\":\"4192\"}},\"id\":\"3993\",\"type\":\"ColumnDataSource\"},{\"attributes\":{\"data\":{\"__x__values\":[-1.4000000000000001],\"text\":[\"3\"],\"y\":[-0.09999999999999998]},\"selected\":{\"id\":\"4235\"},\"selection_policy\":{\"id\":\"4234\"}},\"id\":\"4140\",\"type\":\"ColumnDataSource\"},{\"attributes\":{},\"id\":\"4209\",\"type\":\"Selection\"},{\"attributes\":{\"text_color\":{\"value\":\"black\"},\"text_font_style\":{\"value\":\"bold\"},\"x\":{\"field\":\"__x__values\"},\"y\":{\"field\":\"y\"}},\"id\":\"4058\",\"type\":\"Text\"},{\"attributes\":{},\"id\":\"4230\",\"type\":\"UnionRenderers\"},{\"attributes\":{},\"id\":\"4241\",\"type\":\"Selection\"},{\"attributes\":{\"data_source\":{\"id\":\"4071\"},\"glyph\":{\"id\":\"4073\"},\"hover_glyph\":null,\"muted_glyph\":null,\"nonselection_glyph\":{\"id\":\"4074\"},\"view\":{\"id\":\"4076\"}},\"id\":\"4075\",\"type\":\"GlyphRenderer\"},{\"attributes\":{\"data_source\":{\"id\":\"4155\"},\"glyph\":{\"id\":\"4157\"},\"hover_glyph\":null,\"muted_glyph\":null,\"nonselection_glyph\":{\"id\":\"4158\"},\"view\":{\"id\":\"4160\"}},\"id\":\"4159\",\"type\":\"GlyphRenderer\"},{\"attributes\":{},\"id\":\"4196\",\"type\":\"UnionRenderers\"},{\"attributes\":{},\"id\":\"4197\",\"type\":\"Selection\"},{\"attributes\":{},\"id\":\"4231\",\"type\":\"Selection\"},{\"attributes\":{\"text_alpha\":{\"value\":0.1},\"text_color\":{\"value\":\"black\"},\"text_font_style\":{\"value\":\"bold\"},\"x\":{\"field\":\"__x__values\"},\"y\":{\"field\":\"y\"}},\"id\":\"3996\",\"type\":\"Text\"},{\"attributes\":{},\"id\":\"4198\",\"type\":\"UnionRenderers\"},{\"attributes\":{\"data_source\":{\"id\":\"3993\"},\"glyph\":{\"id\":\"3995\"},\"hover_glyph\":null,\"muted_glyph\":null,\"nonselection_glyph\":{\"id\":\"3996\"},\"view\":{\"id\":\"3998\"}},\"id\":\"3997\",\"type\":\"GlyphRenderer\"},{\"attributes\":{\"data\":{\"__x__values\":[-1.4000000000000001],\"text\":[\"6\"],\"y\":[-1.0]},\"selected\":{\"id\":\"4217\"},\"selection_policy\":{\"id\":\"4216\"}},\"id\":\"4077\",\"type\":\"ColumnDataSource\"},{\"attributes\":{\"data\":{\"__x__values\":[-1.4000000000000001],\"text\":[\"2\"],\"y\":[0.2]},\"selected\":{\"id\":\"4241\"},\"selection_policy\":{\"id\":\"4240\"}},\"id\":\"4161\",\"type\":\"ColumnDataSource\"},{\"attributes\":{\"data\":{\"__x__values\":[-1.4000000000000001],\"text\":[\"7\"],\"y\":[-1.2999999999999998]},\"selected\":{\"id\":\"4211\"},\"selection_policy\":{\"id\":\"4210\"}},\"id\":\"4056\",\"type\":\"ColumnDataSource\"},{\"attributes\":{\"text_color\":{\"value\":\"black\"},\"text_font_style\":{\"value\":\"bold\"},\"x\":{\"field\":\"__x__values\"},\"y\":{\"field\":\"y\"}},\"id\":\"4079\",\"type\":\"Text\"},{\"attributes\":{\"text_color\":{\"value\":\"black\"},\"text_font_style\":{\"value\":\"bold\"},\"x\":{\"field\":\"__x__values\"},\"y\":{\"field\":\"y\"}},\"id\":\"4163\",\"type\":\"Text\"},{\"attributes\":{\"data_source\":{\"id\":\"4077\"},\"glyph\":{\"id\":\"4079\"},\"hover_glyph\":null,\"muted_glyph\":null,\"nonselection_glyph\":{\"id\":\"4080\"},\"view\":{\"id\":\"4082\"}},\"id\":\"4081\",\"type\":\"GlyphRenderer\"},{\"attributes\":{\"data_source\":{\"id\":\"4161\"},\"glyph\":{\"id\":\"4163\"},\"hover_glyph\":null,\"muted_glyph\":null,\"nonselection_glyph\":{\"id\":\"4164\"},\"view\":{\"id\":\"4166\"}},\"id\":\"4165\",\"type\":\"GlyphRenderer\"},{\"attributes\":{\"x\":{\"field\":\"x\"},\"y\":{\"field\":\"y\"}},\"id\":\"4000\",\"type\":\"Line\"},{\"attributes\":{\"data_source\":{\"id\":\"4140\"},\"glyph\":{\"id\":\"4142\"},\"hover_glyph\":null,\"muted_glyph\":null,\"nonselection_glyph\":{\"id\":\"4143\"},\"view\":{\"id\":\"4145\"}},\"id\":\"4144\",\"type\":\"GlyphRenderer\"},{\"attributes\":{\"source\":{\"id\":\"3993\"}},\"id\":\"3998\",\"type\":\"CDSView\"},{\"attributes\":{},\"id\":\"4220\",\"type\":\"UnionRenderers\"},{\"attributes\":{\"source\":{\"id\":\"3999\"}},\"id\":\"4003\",\"type\":\"CDSView\"},{\"attributes\":{\"x\":{\"field\":\"x\"},\"y\":{\"field\":\"y\"}},\"id\":\"4084\",\"type\":\"Line\"},{\"attributes\":{\"x\":{\"field\":\"x\"},\"y\":{\"field\":\"y\"}},\"id\":\"4168\",\"type\":\"Line\"},{\"attributes\":{\"data\":{\"x\":[-1.3,0],\"y\":[-2.1999999999999997,-0.9450000000000001]},\"selected\":{\"id\":\"4195\"},\"selection_policy\":{\"id\":\"4194\"}},\"id\":\"3999\",\"type\":\"ColumnDataSource\"},{\"attributes\":{\"source\":{\"id\":\"4077\"}},\"id\":\"4082\",\"type\":\"CDSView\"},{\"attributes\":{\"source\":{\"id\":\"4161\"}},\"id\":\"4166\",\"type\":\"CDSView\"},{\"attributes\":{\"callback\":null,\"renderers\":[{\"id\":\"3991\"}],\"tooltips\":[[\"x\",\"@__x__values_original\"],[\"10\",\"@{10}\"]]},\"id\":\"4004\",\"type\":\"HoverTool\"},{\"attributes\":{\"source\":{\"id\":\"4083\"}},\"id\":\"4087\",\"type\":\"CDSView\"},{\"attributes\":{\"source\":{\"id\":\"4167\"}},\"id\":\"4171\",\"type\":\"CDSView\"},{\"attributes\":{\"data_source\":{\"id\":\"3999\"},\"glyph\":{\"id\":\"4000\"},\"hover_glyph\":null,\"muted_glyph\":null,\"nonselection_glyph\":{\"id\":\"4001\"},\"view\":{\"id\":\"4003\"}},\"id\":\"4002\",\"type\":\"GlyphRenderer\"},{\"attributes\":{\"data\":{\"x\":[-1.34,0],\"y\":[-1.0,-0.545]},\"selected\":{\"id\":\"4219\"},\"selection_policy\":{\"id\":\"4218\"}},\"id\":\"4083\",\"type\":\"ColumnDataSource\"},{\"attributes\":{\"data\":{\"x\":[-1.34,0],\"y\":[0.2,-0.14500000000000002]},\"selected\":{\"id\":\"4243\"},\"selection_policy\":{\"id\":\"4242\"}},\"id\":\"4167\",\"type\":\"ColumnDataSource\"},{\"attributes\":{\"callback\":null,\"renderers\":[{\"id\":\"4075\"}],\"tooltips\":[[\"x\",\"@__x__values_original\"],[\"6\",\"@{6}\"]]},\"id\":\"4088\",\"type\":\"HoverTool\"},{\"attributes\":{\"callback\":null,\"renderers\":[{\"id\":\"4159\"}],\"tooltips\":[[\"x\",\"@__x__values_original\"],[\"2\",\"@{2}\"]]},\"id\":\"4172\",\"type\":\"HoverTool\"},{\"attributes\":{\"source\":{\"id\":\"4008\"}},\"id\":\"4013\",\"type\":\"CDSView\"},{\"attributes\":{\"data_source\":{\"id\":\"4083\"},\"glyph\":{\"id\":\"4084\"},\"hover_glyph\":null,\"muted_glyph\":null,\"nonselection_glyph\":{\"id\":\"4085\"},\"view\":{\"id\":\"4087\"}},\"id\":\"4086\",\"type\":\"GlyphRenderer\"},{\"attributes\":{\"data_source\":{\"id\":\"4167\"},\"glyph\":{\"id\":\"4168\"},\"hover_glyph\":null,\"muted_glyph\":null,\"nonselection_glyph\":{\"id\":\"4169\"},\"view\":{\"id\":\"4171\"}},\"id\":\"4170\",\"type\":\"GlyphRenderer\"},{\"attributes\":{\"line_alpha\":0.1,\"x\":{\"field\":\"x\"},\"y\":{\"field\":\"y\"}},\"id\":\"4001\",\"type\":\"Line\"},{\"attributes\":{\"data_source\":{\"id\":\"4092\"},\"glyph\":{\"id\":\"4094\"},\"hover_glyph\":null,\"muted_glyph\":null,\"nonselection_glyph\":{\"id\":\"4095\"},\"view\":{\"id\":\"4097\"}},\"id\":\"4096\",\"type\":\"GlyphRenderer\"},{\"attributes\":{},\"id\":\"4210\",\"type\":\"UnionRenderers\"},{\"attributes\":{},\"id\":\"4211\",\"type\":\"Selection\"},{\"attributes\":{\"end\":1.2,\"start\":-1.2},\"id\":\"3957\",\"type\":\"Range1d\"},{\"attributes\":{\"data\":{\"1\":[5,2,1,1,0,1,0,0,1,0,0,0],\"10\":[7,0,0,9,1,6,0,0,1,0,0,0],\"10_angle\":{\"__ndarray__\":\"8olP4k9S/T8AAAAAAAAAAAAAAAAAAAAA0iEzf3zZAkBlcy04UsHQPxgtRFT7Ifk/AAAAAAAAAAAAAAAAAAAAAGVzLThSwdA/AAAAAAAAAAAAAAAAAAAAAAAAAAAAAAAA\",\"dtype\":\"float64\",\"order\":\"little\",\"shape\":[12]},\"1_angle\":{\"__ndarray__\":\"W53JBhPZBkDjfdRrQkfyP+N91GtCR+I/433Ua0JH4j8AAAAAAAAAAON91GtCR+I/AAAAAAAAAAAAAAAAAAAAAON91GtCR+I/AAAAAAAAAAAAAAAAAAAAAAAAAAAAAAAA\",\"dtype\":\"float64\",\"order\":\"little\",\"shape\":[12]},\"2\":[30,8,4,6,3,8,2,1,7,1,2,6],\"2_angle\":{\"__ndarray__\":\"iazlezdVA0AaycEdKp/kPxrJwR0qn9Q/qK2iLL/u3j+oraIsv+7OPxrJwR0qn+Q/GsnBHSqfxD8aycEdKp+0P/ePCdpEC+I/GsnBHSqftD8aycEdKp/EP6itoiy/7t4/\",\"dtype\":\"float64\",\"order\":\"little\",\"shape\":[12]},\"3\":[19,3,4,5,2,9,0,0,3,0,0,5],\"3_angle\":{\"__ndarray__\":\"bn57fdMZA0CmuiJbnyDYPxonF5K/FeA/4PCcdi8b5D8aJxeSvxXQP/0LWoR3GPI/AAAAAAAAAAAAAAAAAAAAAKa6IlufINg/AAAAAAAAAAAAAAAAAAAAAODwnHYvG+Q/\",\"dtype\":\"float64\",\"order\":\"little\",\"shape\":[12]},\"4\":[16,4,3,13,2,9,0,0,2,1,0,3],\"4_angle\":{\"__ndarray__\":\"JgYiIlZZ/j8mBiIiVlneP52EmZkAw9Y//6S7+5Wo+D8mBiIiVlnOP3UjM3NAEvE/AAAAAAAAAAAAAAAAAAAAACYGIiJWWc4/JgYiIlZZvj8AAAAAAAAAAJ2EmZkAw9Y/\",\"dtype\":\"float64\",\"order\":\"little\",\"shape\":[12]},\"5\":[31,7,3,12,7,18,0,0,8,1,2,10],\"5_angle\":{\"__ndarray__\":\"eYPRgLl6/z99boMZ2W7cP9mncDoDX8g/2adwOgNf6D99boMZ2W7cP+N91GtCR/I/AAAAAAAAAAAAAAAAAAAAAJEaS3xXP+A/kRpLfFc/sD+RGkt8Vz/APzXhXVstT+Q/\",\"dtype\":\"float64\",\"order\":\"little\",\"shape\":[12]},\"6\":[33,8,1,28,11,20,0,0,6,3,1,5],\"6_angle\":{\"__ndarray__\":\"dF+LcW2Z/D/dkjnqkLvbP92SOeqQu6s/gWDyzB5E+D/3lAeh8xDjP8r7Y5I6VfE/AAAAAAAAAAAAAAAAAAAAACUuq6+szNQ/JS6rr6zMxD/dkjnqkLurP8r7Y5I6VdE/\",\"dtype\":\"float64\",\"order\":\"little\",\"shape\":[12]},\"7\":[37,11,3,30,14,26,1,0,2,1,0,6],\"7_angle\":{\"__ndarray__\":\"Vc0rC+1k/D8I1IFnEOLgP6xbdp/6asI/l/JTR7kF9z/zal8Pz3zlP1Djatfk8/M/OnpIf6OOqD8AAAAAAAAAADp6SH+jjrg/OnpIf6OOqD8AAAAAAAAAAKxbdp/6atI/\",\"dtype\":\"float64\",\"order\":\"little\",\"shape\":[12]},\"8\":[24,4,1,26,8,19,0,0,1,3,0,7],\"8_angle\":{\"__ndarray__\":\"IYHKkIfx+T8WVty1r0vRPxZW3LWvS7E/4wuGh/0a/D8WVty1r0vhPzum9afgifQ/AAAAAAAAAAAAAAAAAAAAABZW3LWvS7E/IYHKkIfxyT8AAAAAAAAAAKeWQX5zRN4/\",\"dtype\":\"float64\",\"order\":\"little\",\"shape\":[12]},\"9\":[12,0,0,16,9,12,0,0,2,0,0,3],\"9_angle\":{\"__ndarray__\":\"h0TnShhX9j8AAAAAAAAAAAAAAAAAAAAAXls0uXXJ/T9lcy04UsHwP4dE50oYV/Y/AAAAAAAAAAAAAAAAAAAAAF5bNLl1yc0/AAAAAAAAAAAAAAAAAAAAAIdE50oYV9Y/\",\"dtype\":\"float64\",\"order\":\"little\",\"shape\":[12]},\"__x__values\":[\"Plastic bottle container\",\"Disposable cup / straw / tableware\",\"Plastic bag\",\"Foam material\",\"Float\",\"Fishing nets and ropes\",\"Fishing equipment\",\"Cigarette and lighter\",\"Glass jar\",\"Metal\",\"Paper\",\"Others\"],\"__x__values_original\":[\"Plastic bottle container\",\"Disposable cup / straw / tableware\",\"Plastic bag\",\"Foam material\",\"Float\",\"Fishing nets and ropes\",\"Fishing equipment\",\"Cigarette and lighter\",\"Glass jar\",\"Metal\",\"Paper\",\"Others\"],\"color\":[\"#1f77b4\",\"#aec7e8\",\"#ff7f0e\",\"#ffbb78\",\"#2ca02c\",\"#98df8a\",\"#d62728\",\"#ff9896\",\"#9467bd\",\"#c5b0d5\",\"#8c564b\",\"#c49c94\"],\"inner_radius\":[0.8,0.8,0.8,0.8,0.8,0.8,0.8,0.8,0.8,0.8,0.8,0.8],\"outer_radius\":[0.89,0.89,0.89,0.89,0.89,0.89,0.89,0.89,0.89,0.89,0.89,0.89]},\"selected\":{\"id\":\"4197\"},\"selection_policy\":{\"id\":\"4196\"}},\"id\":\"4008\",\"type\":\"ColumnDataSource\"},{\"attributes\":{\"end_angle\":{\"expr\":{\"id\":\"4091\"}},\"fill_color\":{\"field\":\"color\"},\"inner_radius\":{\"field\":\"inner_radius\"},\"line_color\":{\"value\":\"white\"},\"line_width\":{\"value\":2},\"outer_radius\":{\"field\":\"outer_radius\"},\"start_angle\":{\"expr\":{\"id\":\"4090\"}},\"x\":{\"value\":0},\"y\":{\"value\":0}},\"id\":\"4094\",\"type\":\"AnnularWedge\"},{\"attributes\":{\"line_alpha\":0.1,\"x\":{\"field\":\"x\"},\"y\":{\"field\":\"y\"}},\"id\":\"4085\",\"type\":\"Line\"},{\"attributes\":{\"line_alpha\":0.1,\"x\":{\"field\":\"x\"},\"y\":{\"field\":\"y\"}},\"id\":\"4169\",\"type\":\"Line\"},{\"attributes\":{\"field\":\"9_angle\",\"include_zero\":true},\"id\":\"4006\",\"type\":\"CumSum\"},{\"attributes\":{\"end_angle\":{\"expr\":{\"id\":\"4007\"}},\"fill_color\":{\"field\":\"color\"},\"inner_radius\":{\"field\":\"inner_radius\"},\"line_color\":{\"value\":\"white\"},\"line_width\":{\"value\":2},\"outer_radius\":{\"field\":\"outer_radius\"},\"start_angle\":{\"expr\":{\"id\":\"4006\"}},\"x\":{\"value\":0},\"y\":{\"value\":0}},\"id\":\"4010\",\"type\":\"AnnularWedge\"},{\"attributes\":{\"source\":{\"id\":\"4092\"}},\"id\":\"4097\",\"type\":\"CDSView\"},{\"attributes\":{},\"id\":\"4200\",\"type\":\"UnionRenderers\"},{\"attributes\":{\"data\":{\"1\":[5,2,1,1,0,1,0,0,1,0,0,0],\"10\":[7,0,0,9,1,6,0,0,1,0,0,0],\"10_angle\":{\"__ndarray__\":\"8olP4k9S/T8AAAAAAAAAAAAAAAAAAAAA0iEzf3zZAkBlcy04UsHQPxgtRFT7Ifk/AAAAAAAAAAAAAAAAAAAAAGVzLThSwdA/AAAAAAAAAAAAAAAAAAAAAAAAAAAAAAAA\",\"dtype\":\"float64\",\"order\":\"little\",\"shape\":[12]},\"1_angle\":{\"__ndarray__\":\"W53JBhPZBkDjfdRrQkfyP+N91GtCR+I/433Ua0JH4j8AAAAAAAAAAON91GtCR+I/AAAAAAAAAAAAAAAAAAAAAON91GtCR+I/AAAAAAAAAAAAAAAAAAAAAAAAAAAAAAAA\",\"dtype\":\"float64\",\"order\":\"little\",\"shape\":[12]},\"2\":[30,8,4,6,3,8,2,1,7,1,2,6],\"2_angle\":{\"__ndarray__\":\"iazlezdVA0AaycEdKp/kPxrJwR0qn9Q/qK2iLL/u3j+oraIsv+7OPxrJwR0qn+Q/GsnBHSqfxD8aycEdKp+0P/ePCdpEC+I/GsnBHSqftD8aycEdKp/EP6itoiy/7t4/\",\"dtype\":\"float64\",\"order\":\"little\",\"shape\":[12]},\"3\":[19,3,4,5,2,9,0,0,3,0,0,5],\"3_angle\":{\"__ndarray__\":\"bn57fdMZA0CmuiJbnyDYPxonF5K/FeA/4PCcdi8b5D8aJxeSvxXQP/0LWoR3GPI/AAAAAAAAAAAAAAAAAAAAAKa6IlufINg/AAAAAAAAAAAAAAAAAAAAAODwnHYvG+Q/\",\"dtype\":\"float64\",\"order\":\"little\",\"shape\":[12]},\"4\":[16,4,3,13,2,9,0,0,2,1,0,3],\"4_angle\":{\"__ndarray__\":\"JgYiIlZZ/j8mBiIiVlneP52EmZkAw9Y//6S7+5Wo+D8mBiIiVlnOP3UjM3NAEvE/AAAAAAAAAAAAAAAAAAAAACYGIiJWWc4/JgYiIlZZvj8AAAAAAAAAAJ2EmZkAw9Y/\",\"dtype\":\"float64\",\"order\":\"little\",\"shape\":[12]},\"5\":[31,7,3,12,7,18,0,0,8,1,2,10],\"5_angle\":{\"__ndarray__\":\"eYPRgLl6/z99boMZ2W7cP9mncDoDX8g/2adwOgNf6D99boMZ2W7cP+N91GtCR/I/AAAAAAAAAAAAAAAAAAAAAJEaS3xXP+A/kRpLfFc/sD+RGkt8Vz/APzXhXVstT+Q/\",\"dtype\":\"float64\",\"order\":\"little\",\"shape\":[12]},\"6\":[33,8,1,28,11,20,0,0,6,3,1,5],\"6_angle\":{\"__ndarray__\":\"dF+LcW2Z/D/dkjnqkLvbP92SOeqQu6s/gWDyzB5E+D/3lAeh8xDjP8r7Y5I6VfE/AAAAAAAAAAAAAAAAAAAAACUuq6+szNQ/JS6rr6zMxD/dkjnqkLurP8r7Y5I6VdE/\",\"dtype\":\"float64\",\"order\":\"little\",\"shape\":[12]},\"7\":[37,11,3,30,14,26,1,0,2,1,0,6],\"7_angle\":{\"__ndarray__\":\"Vc0rC+1k/D8I1IFnEOLgP6xbdp/6asI/l/JTR7kF9z/zal8Pz3zlP1Djatfk8/M/OnpIf6OOqD8AAAAAAAAAADp6SH+jjrg/OnpIf6OOqD8AAAAAAAAAAKxbdp/6atI/\",\"dtype\":\"float64\",\"order\":\"little\",\"shape\":[12]},\"8\":[24,4,1,26,8,19,0,0,1,3,0,7],\"8_angle\":{\"__ndarray__\":\"IYHKkIfx+T8WVty1r0vRPxZW3LWvS7E/4wuGh/0a/D8WVty1r0vhPzum9afgifQ/AAAAAAAAAAAAAAAAAAAAABZW3LWvS7E/IYHKkIfxyT8AAAAAAAAAAKeWQX5zRN4/\",\"dtype\":\"float64\",\"order\":\"little\",\"shape\":[12]},\"9\":[12,0,0,16,9,12,0,0,2,0,0,3],\"9_angle\":{\"__ndarray__\":\"h0TnShhX9j8AAAAAAAAAAAAAAAAAAAAAXls0uXXJ/T9lcy04UsHwP4dE50oYV/Y/AAAAAAAAAAAAAAAAAAAAAF5bNLl1yc0/AAAAAAAAAAAAAAAAAAAAAIdE50oYV9Y/\",\"dtype\":\"float64\",\"order\":\"little\",\"shape\":[12]},\"__x__values\":[\"Plastic bottle container\",\"Disposable cup / straw / tableware\",\"Plastic bag\",\"Foam material\",\"Float\",\"Fishing nets and ropes\",\"Fishing equipment\",\"Cigarette and lighter\",\"Glass jar\",\"Metal\",\"Paper\",\"Others\"],\"__x__values_original\":[\"Plastic bottle container\",\"Disposable cup / straw / tableware\",\"Plastic bag\",\"Foam material\",\"Float\",\"Fishing nets and ropes\",\"Fishing equipment\",\"Cigarette and lighter\",\"Glass jar\",\"Metal\",\"Paper\",\"Others\"],\"color\":[\"#1f77b4\",\"#aec7e8\",\"#ff7f0e\",\"#ffbb78\",\"#2ca02c\",\"#98df8a\",\"#d62728\",\"#ff9896\",\"#9467bd\",\"#c5b0d5\",\"#8c564b\",\"#c49c94\"],\"inner_radius\":[0.4,0.4,0.4,0.4,0.4,0.4,0.4,0.4,0.4,0.4,0.4,0.4],\"outer_radius\":[0.49000000000000005,0.49000000000000005,0.49000000000000005,0.49000000000000005,0.49000000000000005,0.49000000000000005,0.49000000000000005,0.49000000000000005,0.49000000000000005,0.49000000000000005,0.49000000000000005,0.49000000000000005]},\"selected\":{\"id\":\"4221\"},\"selection_policy\":{\"id\":\"4220\"}},\"id\":\"4092\",\"type\":\"ColumnDataSource\"},{\"attributes\":{},\"id\":\"4232\",\"type\":\"UnionRenderers\"},{\"attributes\":{},\"id\":\"4233\",\"type\":\"Selection\"},{\"attributes\":{\"end_angle\":{\"expr\":{\"id\":\"4007\"}},\"fill_alpha\":{\"value\":0.1},\"fill_color\":{\"field\":\"color\"},\"inner_radius\":{\"field\":\"inner_radius\"},\"line_alpha\":{\"value\":0.1},\"line_color\":{\"value\":\"white\"},\"line_width\":{\"value\":2},\"outer_radius\":{\"field\":\"outer_radius\"},\"start_angle\":{\"expr\":{\"id\":\"4006\"}},\"x\":{\"value\":0},\"y\":{\"value\":0}},\"id\":\"4011\",\"type\":\"AnnularWedge\"},{\"attributes\":{},\"id\":\"4201\",\"type\":\"Selection\"},{\"attributes\":{\"field\":\"5_angle\",\"include_zero\":true},\"id\":\"4090\",\"type\":\"CumSum\"},{\"attributes\":{\"data\":{\"__x__values\":[-1.4000000000000001],\"text\":[\"9\"],\"y\":[-1.9]},\"selected\":{\"id\":\"4199\"},\"selection_policy\":{\"id\":\"4198\"}},\"id\":\"4014\",\"type\":\"ColumnDataSource\"},{\"attributes\":{\"field\":\"5_angle\"},\"id\":\"4091\",\"type\":\"CumSum\"},{\"attributes\":{},\"id\":\"4242\",\"type\":\"UnionRenderers\"},{\"attributes\":{\"source\":{\"id\":\"4056\"}},\"id\":\"4061\",\"type\":\"CDSView\"},{\"attributes\":{\"data\":{\"1\":[5,2,1,1,0,1,0,0,1,0,0,0],\"10\":[7,0,0,9,1,6,0,0,1,0,0,0],\"10_angle\":{\"__ndarray__\":\"8olP4k9S/T8AAAAAAAAAAAAAAAAAAAAA0iEzf3zZAkBlcy04UsHQPxgtRFT7Ifk/AAAAAAAAAAAAAAAAAAAAAGVzLThSwdA/AAAAAAAAAAAAAAAAAAAAAAAAAAAAAAAA\",\"dtype\":\"float64\",\"order\":\"little\",\"shape\":[12]},\"1_angle\":{\"__ndarray__\":\"W53JBhPZBkDjfdRrQkfyP+N91GtCR+I/433Ua0JH4j8AAAAAAAAAAON91GtCR+I/AAAAAAAAAAAAAAAAAAAAAON91GtCR+I/AAAAAAAAAAAAAAAAAAAAAAAAAAAAAAAA\",\"dtype\":\"float64\",\"order\":\"little\",\"shape\":[12]},\"2\":[30,8,4,6,3,8,2,1,7,1,2,6],\"2_angle\":{\"__ndarray__\":\"iazlezdVA0AaycEdKp/kPxrJwR0qn9Q/qK2iLL/u3j+oraIsv+7OPxrJwR0qn+Q/GsnBHSqfxD8aycEdKp+0P/ePCdpEC+I/GsnBHSqftD8aycEdKp/EP6itoiy/7t4/\",\"dtype\":\"float64\",\"order\":\"little\",\"shape\":[12]},\"3\":[19,3,4,5,2,9,0,0,3,0,0,5],\"3_angle\":{\"__ndarray__\":\"bn57fdMZA0CmuiJbnyDYPxonF5K/FeA/4PCcdi8b5D8aJxeSvxXQP/0LWoR3GPI/AAAAAAAAAAAAAAAAAAAAAKa6IlufINg/AAAAAAAAAAAAAAAAAAAAAODwnHYvG+Q/\",\"dtype\":\"float64\",\"order\":\"little\",\"shape\":[12]},\"4\":[16,4,3,13,2,9,0,0,2,1,0,3],\"4_angle\":{\"__ndarray__\":\"JgYiIlZZ/j8mBiIiVlneP52EmZkAw9Y//6S7+5Wo+D8mBiIiVlnOP3UjM3NAEvE/AAAAAAAAAAAAAAAAAAAAACYGIiJWWc4/JgYiIlZZvj8AAAAAAAAAAJ2EmZkAw9Y/\",\"dtype\":\"float64\",\"order\":\"little\",\"shape\":[12]},\"5\":[31,7,3,12,7,18,0,0,8,1,2,10],\"5_angle\":{\"__ndarray__\":\"eYPRgLl6/z99boMZ2W7cP9mncDoDX8g/2adwOgNf6D99boMZ2W7cP+N91GtCR/I/AAAAAAAAAAAAAAAAAAAAAJEaS3xXP+A/kRpLfFc/sD+RGkt8Vz/APzXhXVstT+Q/\",\"dtype\":\"float64\",\"order\":\"little\",\"shape\":[12]},\"6\":[33,8,1,28,11,20,0,0,6,3,1,5],\"6_angle\":{\"__ndarray__\":\"dF+LcW2Z/D/dkjnqkLvbP92SOeqQu6s/gWDyzB5E+D/3lAeh8xDjP8r7Y5I6VfE/AAAAAAAAAAAAAAAAAAAAACUuq6+szNQ/JS6rr6zMxD/dkjnqkLurP8r7Y5I6VdE/\",\"dtype\":\"float64\",\"order\":\"little\",\"shape\":[12]},\"7\":[37,11,3,30,14,26,1,0,2,1,0,6],\"7_angle\":{\"__ndarray__\":\"Vc0rC+1k/D8I1IFnEOLgP6xbdp/6asI/l/JTR7kF9z/zal8Pz3zlP1Djatfk8/M/OnpIf6OOqD8AAAAAAAAAADp6SH+jjrg/OnpIf6OOqD8AAAAAAAAAAKxbdp/6atI/\",\"dtype\":\"float64\",\"order\":\"little\",\"shape\":[12]},\"8\":[24,4,1,26,8,19,0,0,1,3,0,7],\"8_angle\":{\"__ndarray__\":\"IYHKkIfx+T8WVty1r0vRPxZW3LWvS7E/4wuGh/0a/D8WVty1r0vhPzum9afgifQ/AAAAAAAAAAAAAAAAAAAAABZW3LWvS7E/IYHKkIfxyT8AAAAAAAAAAKeWQX5zRN4/\",\"dtype\":\"float64\",\"order\":\"little\",\"shape\":[12]},\"9\":[12,0,0,16,9,12,0,0,2,0,0,3],\"9_angle\":{\"__ndarray__\":\"h0TnShhX9j8AAAAAAAAAAAAAAAAAAAAAXls0uXXJ/T9lcy04UsHwP4dE50oYV/Y/AAAAAAAAAAAAAAAAAAAAAF5bNLl1yc0/AAAAAAAAAAAAAAAAAAAAAIdE50oYV9Y/\",\"dtype\":\"float64\",\"order\":\"little\",\"shape\":[12]},\"__x__values\":[\"Plastic bottle container\",\"Disposable cup / straw / tableware\",\"Plastic bag\",\"Foam material\",\"Float\",\"Fishing nets and ropes\",\"Fishing equipment\",\"Cigarette and lighter\",\"Glass jar\",\"Metal\",\"Paper\",\"Others\"],\"__x__values_original\":[\"Plastic bottle container\",\"Disposable cup / straw / tableware\",\"Plastic bag\",\"Foam material\",\"Float\",\"Fishing nets and ropes\",\"Fishing equipment\",\"Cigarette and lighter\",\"Glass jar\",\"Metal\",\"Paper\",\"Others\"],\"color\":[\"#1f77b4\",\"#aec7e8\",\"#ff7f0e\",\"#ffbb78\",\"#2ca02c\",\"#98df8a\",\"#d62728\",\"#ff9896\",\"#9467bd\",\"#c5b0d5\",\"#8c564b\",\"#c49c94\"],\"inner_radius\":[0.0,0.0,0.0,0.0,0.0,0.0,0.0,0.0,0.0,0.0,0.0,0.0],\"outer_radius\":[0.09,0.09,0.09,0.09,0.09,0.09,0.09,0.09,0.09,0.09,0.09,0.09]},\"selected\":{\"id\":\"4245\"},\"selection_policy\":{\"id\":\"4244\"}},\"id\":\"4176\",\"type\":\"ColumnDataSource\"},{\"attributes\":{},\"id\":\"3953\",\"type\":\"Title\"},{\"attributes\":{\"data_source\":{\"id\":\"4008\"},\"glyph\":{\"id\":\"4010\"},\"hover_glyph\":null,\"muted_glyph\":null,\"nonselection_glyph\":{\"id\":\"4011\"},\"view\":{\"id\":\"4013\"}},\"id\":\"4012\",\"type\":\"GlyphRenderer\"},{\"attributes\":{\"end\":2,\"start\":-1.5},\"id\":\"3955\",\"type\":\"Range1d\"}],\"root_ids\":[\"3952\"]},\"title\":\"Bokeh Application\",\"version\":\"2.3.2\"}};\n",
       "  var render_items = [{\"docid\":\"10e46f8a-3f07-40b0-adb3-c781cd75f23f\",\"root_ids\":[\"3952\"],\"roots\":{\"3952\":\"b27ed6a8-6361-480e-ad73-53d0099eecf7\"}}];\n",
       "  root.Bokeh.embed.embed_items_notebook(docs_json, render_items);\n",
       "\n",
       "  }\n",
       "  if (root.Bokeh !== undefined) {\n",
       "    embed_document(root);\n",
       "  } else {\n",
       "    var attempts = 0;\n",
       "    var timer = setInterval(function(root) {\n",
       "      if (root.Bokeh !== undefined) {\n",
       "        clearInterval(timer);\n",
       "        embed_document(root);\n",
       "      } else {\n",
       "        attempts++;\n",
       "        if (attempts > 100) {\n",
       "          clearInterval(timer);\n",
       "          console.log(\"Bokeh: ERROR: Unable to run BokehJS code because BokehJS library is missing\");\n",
       "        }\n",
       "      }\n",
       "    }, 10, root)\n",
       "  }\n",
       "})(window);"
      ],
      "application/vnd.bokehjs_exec.v0+json": ""
     },
     "metadata": {
      "application/vnd.bokehjs_exec.v0+json": {
       "id": "3952"
      }
     },
     "output_type": "display_data"
    },
    {
     "data": {
      "text/html": [
       "<div style=\"display: table;\"><div style=\"display: table-row;\"><div style=\"display: table-cell;\"><b title=\"bokeh.plotting.figure.Figure\">Figure</b>(</div><div style=\"display: table-cell;\">id&nbsp;=&nbsp;'3952', <span id=\"4799\" style=\"cursor: pointer;\">&hellip;)</span></div></div><div class=\"4798\" style=\"display: none;\"><div style=\"display: table-cell;\"></div><div style=\"display: table-cell;\">above&nbsp;=&nbsp;[],</div></div><div class=\"4798\" style=\"display: none;\"><div style=\"display: table-cell;\"></div><div style=\"display: table-cell;\">align&nbsp;=&nbsp;'start',</div></div><div class=\"4798\" style=\"display: none;\"><div style=\"display: table-cell;\"></div><div style=\"display: table-cell;\">aspect_ratio&nbsp;=&nbsp;None,</div></div><div class=\"4798\" style=\"display: none;\"><div style=\"display: table-cell;\"></div><div style=\"display: table-cell;\">aspect_scale&nbsp;=&nbsp;1,</div></div><div class=\"4798\" style=\"display: none;\"><div style=\"display: table-cell;\"></div><div style=\"display: table-cell;\">background&nbsp;=&nbsp;None,</div></div><div class=\"4798\" style=\"display: none;\"><div style=\"display: table-cell;\"></div><div style=\"display: table-cell;\">background_fill_alpha&nbsp;=&nbsp;1.0,</div></div><div class=\"4798\" style=\"display: none;\"><div style=\"display: table-cell;\"></div><div style=\"display: table-cell;\">background_fill_color&nbsp;=&nbsp;'#ffffff',</div></div><div class=\"4798\" style=\"display: none;\"><div style=\"display: table-cell;\"></div><div style=\"display: table-cell;\">below&nbsp;=&nbsp;[LinearAxis(id='3963', ...)],</div></div><div class=\"4798\" style=\"display: none;\"><div style=\"display: table-cell;\"></div><div style=\"display: table-cell;\">border_fill_alpha&nbsp;=&nbsp;1.0,</div></div><div class=\"4798\" style=\"display: none;\"><div style=\"display: table-cell;\"></div><div style=\"display: table-cell;\">border_fill_color&nbsp;=&nbsp;'#ffffff',</div></div><div class=\"4798\" style=\"display: none;\"><div style=\"display: table-cell;\"></div><div style=\"display: table-cell;\">center&nbsp;=&nbsp;[Grid(id='3966', ...), Grid(id='3970', ...), Legend(id='4246', ...)],</div></div><div class=\"4798\" style=\"display: none;\"><div style=\"display: table-cell;\"></div><div style=\"display: table-cell;\">css_classes&nbsp;=&nbsp;[],</div></div><div class=\"4798\" style=\"display: none;\"><div style=\"display: table-cell;\"></div><div style=\"display: table-cell;\">disabled&nbsp;=&nbsp;False,</div></div><div class=\"4798\" style=\"display: none;\"><div style=\"display: table-cell;\"></div><div style=\"display: table-cell;\">extra_x_ranges&nbsp;=&nbsp;{},</div></div><div class=\"4798\" style=\"display: none;\"><div style=\"display: table-cell;\"></div><div style=\"display: table-cell;\">extra_y_ranges&nbsp;=&nbsp;{},</div></div><div class=\"4798\" style=\"display: none;\"><div style=\"display: table-cell;\"></div><div style=\"display: table-cell;\">frame_height&nbsp;=&nbsp;None,</div></div><div class=\"4798\" style=\"display: none;\"><div style=\"display: table-cell;\"></div><div style=\"display: table-cell;\">frame_width&nbsp;=&nbsp;None,</div></div><div class=\"4798\" style=\"display: none;\"><div style=\"display: table-cell;\"></div><div style=\"display: table-cell;\">height&nbsp;=&nbsp;400,</div></div><div class=\"4798\" style=\"display: none;\"><div style=\"display: table-cell;\"></div><div style=\"display: table-cell;\">height_policy&nbsp;=&nbsp;'auto',</div></div><div class=\"4798\" style=\"display: none;\"><div style=\"display: table-cell;\"></div><div style=\"display: table-cell;\">hidpi&nbsp;=&nbsp;True,</div></div><div class=\"4798\" style=\"display: none;\"><div style=\"display: table-cell;\"></div><div style=\"display: table-cell;\">inner_height&nbsp;=&nbsp;0,</div></div><div class=\"4798\" style=\"display: none;\"><div style=\"display: table-cell;\"></div><div style=\"display: table-cell;\">inner_width&nbsp;=&nbsp;0,</div></div><div class=\"4798\" style=\"display: none;\"><div style=\"display: table-cell;\"></div><div style=\"display: table-cell;\">js_event_callbacks&nbsp;=&nbsp;{},</div></div><div class=\"4798\" style=\"display: none;\"><div style=\"display: table-cell;\"></div><div style=\"display: table-cell;\">js_property_callbacks&nbsp;=&nbsp;{},</div></div><div class=\"4798\" style=\"display: none;\"><div style=\"display: table-cell;\"></div><div style=\"display: table-cell;\">left&nbsp;=&nbsp;[LinearAxis(id='3967', ...)],</div></div><div class=\"4798\" style=\"display: none;\"><div style=\"display: table-cell;\"></div><div style=\"display: table-cell;\">lod_factor&nbsp;=&nbsp;10,</div></div><div class=\"4798\" style=\"display: none;\"><div style=\"display: table-cell;\"></div><div style=\"display: table-cell;\">lod_interval&nbsp;=&nbsp;300,</div></div><div class=\"4798\" style=\"display: none;\"><div style=\"display: table-cell;\"></div><div style=\"display: table-cell;\">lod_threshold&nbsp;=&nbsp;2000,</div></div><div class=\"4798\" style=\"display: none;\"><div style=\"display: table-cell;\"></div><div style=\"display: table-cell;\">lod_timeout&nbsp;=&nbsp;500,</div></div><div class=\"4798\" style=\"display: none;\"><div style=\"display: table-cell;\"></div><div style=\"display: table-cell;\">margin&nbsp;=&nbsp;(0, 0, 0, 0),</div></div><div class=\"4798\" style=\"display: none;\"><div style=\"display: table-cell;\"></div><div style=\"display: table-cell;\">match_aspect&nbsp;=&nbsp;False,</div></div><div class=\"4798\" style=\"display: none;\"><div style=\"display: table-cell;\"></div><div style=\"display: table-cell;\">max_height&nbsp;=&nbsp;None,</div></div><div class=\"4798\" style=\"display: none;\"><div style=\"display: table-cell;\"></div><div style=\"display: table-cell;\">max_width&nbsp;=&nbsp;None,</div></div><div class=\"4798\" style=\"display: none;\"><div style=\"display: table-cell;\"></div><div style=\"display: table-cell;\">min_border&nbsp;=&nbsp;5,</div></div><div class=\"4798\" style=\"display: none;\"><div style=\"display: table-cell;\"></div><div style=\"display: table-cell;\">min_border_bottom&nbsp;=&nbsp;None,</div></div><div class=\"4798\" style=\"display: none;\"><div style=\"display: table-cell;\"></div><div style=\"display: table-cell;\">min_border_left&nbsp;=&nbsp;None,</div></div><div class=\"4798\" style=\"display: none;\"><div style=\"display: table-cell;\"></div><div style=\"display: table-cell;\">min_border_right&nbsp;=&nbsp;None,</div></div><div class=\"4798\" style=\"display: none;\"><div style=\"display: table-cell;\"></div><div style=\"display: table-cell;\">min_border_top&nbsp;=&nbsp;None,</div></div><div class=\"4798\" style=\"display: none;\"><div style=\"display: table-cell;\"></div><div style=\"display: table-cell;\">min_height&nbsp;=&nbsp;None,</div></div><div class=\"4798\" style=\"display: none;\"><div style=\"display: table-cell;\"></div><div style=\"display: table-cell;\">min_width&nbsp;=&nbsp;None,</div></div><div class=\"4798\" style=\"display: none;\"><div style=\"display: table-cell;\"></div><div style=\"display: table-cell;\">name&nbsp;=&nbsp;None,</div></div><div class=\"4798\" style=\"display: none;\"><div style=\"display: table-cell;\"></div><div style=\"display: table-cell;\">outer_height&nbsp;=&nbsp;0,</div></div><div class=\"4798\" style=\"display: none;\"><div style=\"display: table-cell;\"></div><div style=\"display: table-cell;\">outer_width&nbsp;=&nbsp;0,</div></div><div class=\"4798\" style=\"display: none;\"><div style=\"display: table-cell;\"></div><div style=\"display: table-cell;\">outline_line_alpha&nbsp;=&nbsp;1.0,</div></div><div class=\"4798\" style=\"display: none;\"><div style=\"display: table-cell;\"></div><div style=\"display: table-cell;\">outline_line_cap&nbsp;=&nbsp;'butt',</div></div><div class=\"4798\" style=\"display: none;\"><div style=\"display: table-cell;\"></div><div style=\"display: table-cell;\">outline_line_color&nbsp;=&nbsp;'#e5e5e5',</div></div><div class=\"4798\" style=\"display: none;\"><div style=\"display: table-cell;\"></div><div style=\"display: table-cell;\">outline_line_dash&nbsp;=&nbsp;[],</div></div><div class=\"4798\" style=\"display: none;\"><div style=\"display: table-cell;\"></div><div style=\"display: table-cell;\">outline_line_dash_offset&nbsp;=&nbsp;0,</div></div><div class=\"4798\" style=\"display: none;\"><div style=\"display: table-cell;\"></div><div style=\"display: table-cell;\">outline_line_join&nbsp;=&nbsp;'bevel',</div></div><div class=\"4798\" style=\"display: none;\"><div style=\"display: table-cell;\"></div><div style=\"display: table-cell;\">outline_line_width&nbsp;=&nbsp;1,</div></div><div class=\"4798\" style=\"display: none;\"><div style=\"display: table-cell;\"></div><div style=\"display: table-cell;\">output_backend&nbsp;=&nbsp;'canvas',</div></div><div class=\"4798\" style=\"display: none;\"><div style=\"display: table-cell;\"></div><div style=\"display: table-cell;\">renderers&nbsp;=&nbsp;[GlyphRenderer(id='3991', ...), GlyphRenderer(id='3997', ...), GlyphRenderer(id='4002', ...), GlyphRenderer(id='4012', ...), GlyphRenderer(id='4018', ...), GlyphRenderer(id='4023', ...), GlyphRenderer(id='4033', ...), GlyphRenderer(id='4039', ...), GlyphRenderer(id='4044', ...), GlyphRenderer(id='4054', ...), GlyphRenderer(id='4060', ...), GlyphRenderer(id='4065', ...), GlyphRenderer(id='4075', ...), GlyphRenderer(id='4081', ...), GlyphRenderer(id='4086', ...), GlyphRenderer(id='4096', ...), GlyphRenderer(id='4102', ...), GlyphRenderer(id='4107', ...), GlyphRenderer(id='4117', ...), GlyphRenderer(id='4123', ...), GlyphRenderer(id='4128', ...), GlyphRenderer(id='4138', ...), GlyphRenderer(id='4144', ...), GlyphRenderer(id='4149', ...), GlyphRenderer(id='4159', ...), GlyphRenderer(id='4165', ...), GlyphRenderer(id='4170', ...), GlyphRenderer(id='4180', ...), GlyphRenderer(id='4252', ...), GlyphRenderer(id='4257', ...)],</div></div><div class=\"4798\" style=\"display: none;\"><div style=\"display: table-cell;\"></div><div style=\"display: table-cell;\">reset_policy&nbsp;=&nbsp;'standard',</div></div><div class=\"4798\" style=\"display: none;\"><div style=\"display: table-cell;\"></div><div style=\"display: table-cell;\">right&nbsp;=&nbsp;[],</div></div><div class=\"4798\" style=\"display: none;\"><div style=\"display: table-cell;\"></div><div style=\"display: table-cell;\">sizing_mode&nbsp;=&nbsp;None,</div></div><div class=\"4798\" style=\"display: none;\"><div style=\"display: table-cell;\"></div><div style=\"display: table-cell;\">subscribed_events&nbsp;=&nbsp;[],</div></div><div class=\"4798\" style=\"display: none;\"><div style=\"display: table-cell;\"></div><div style=\"display: table-cell;\">syncable&nbsp;=&nbsp;True,</div></div><div class=\"4798\" style=\"display: none;\"><div style=\"display: table-cell;\"></div><div style=\"display: table-cell;\">tags&nbsp;=&nbsp;[],</div></div><div class=\"4798\" style=\"display: none;\"><div style=\"display: table-cell;\"></div><div style=\"display: table-cell;\">title&nbsp;=&nbsp;Title(id='3953', ...),</div></div><div class=\"4798\" style=\"display: none;\"><div style=\"display: table-cell;\"></div><div style=\"display: table-cell;\">title_location&nbsp;=&nbsp;'above',</div></div><div class=\"4798\" style=\"display: none;\"><div style=\"display: table-cell;\"></div><div style=\"display: table-cell;\">toolbar&nbsp;=&nbsp;Toolbar(id='3978', ...),</div></div><div class=\"4798\" style=\"display: none;\"><div style=\"display: table-cell;\"></div><div style=\"display: table-cell;\">toolbar_location&nbsp;=&nbsp;None,</div></div><div class=\"4798\" style=\"display: none;\"><div style=\"display: table-cell;\"></div><div style=\"display: table-cell;\">toolbar_sticky&nbsp;=&nbsp;True,</div></div><div class=\"4798\" style=\"display: none;\"><div style=\"display: table-cell;\"></div><div style=\"display: table-cell;\">visible&nbsp;=&nbsp;True,</div></div><div class=\"4798\" style=\"display: none;\"><div style=\"display: table-cell;\"></div><div style=\"display: table-cell;\">width&nbsp;=&nbsp;600,</div></div><div class=\"4798\" style=\"display: none;\"><div style=\"display: table-cell;\"></div><div style=\"display: table-cell;\">width_policy&nbsp;=&nbsp;'auto',</div></div><div class=\"4798\" style=\"display: none;\"><div style=\"display: table-cell;\"></div><div style=\"display: table-cell;\">x_range&nbsp;=&nbsp;Range1d(id='3955', ...),</div></div><div class=\"4798\" style=\"display: none;\"><div style=\"display: table-cell;\"></div><div style=\"display: table-cell;\">x_scale&nbsp;=&nbsp;LinearScale(id='3959', ...),</div></div><div class=\"4798\" style=\"display: none;\"><div style=\"display: table-cell;\"></div><div style=\"display: table-cell;\">y_range&nbsp;=&nbsp;Range1d(id='3957', ...),</div></div><div class=\"4798\" style=\"display: none;\"><div style=\"display: table-cell;\"></div><div style=\"display: table-cell;\">y_scale&nbsp;=&nbsp;LinearScale(id='3961', ...))</div></div></div>\n",
       "<script>\n",
       "(function() {\n",
       "  var expanded = false;\n",
       "  var ellipsis = document.getElementById(\"4799\");\n",
       "  ellipsis.addEventListener(\"click\", function() {\n",
       "    var rows = document.getElementsByClassName(\"4798\");\n",
       "    for (var i = 0; i < rows.length; i++) {\n",
       "      var el = rows[i];\n",
       "      el.style.display = expanded ? \"none\" : \"table-row\";\n",
       "    }\n",
       "    ellipsis.innerHTML = expanded ? \"&hellip;)\" : \"&lsaquo;&lsaquo;&lsaquo;\";\n",
       "    expanded = !expanded;\n",
       "  });\n",
       "})();\n",
       "</script>\n"
      ],
      "text/plain": [
       "Figure(id='3952', ...)"
      ]
     },
     "execution_count": 51,
     "metadata": {},
     "output_type": "execute_result"
    }
   ],
   "source": [
    "df.T.plot_bokeh.pie()"
   ]
  },
  {
   "cell_type": "markdown",
   "metadata": {
    "id": "xWmlQ-1up5h2"
   },
   "source": [
    "# 還可以在資料裡發現什麼?\n",
    "[Comparison with spreadsheets](https://pandas.pydata.org/pandas-docs/stable/getting_started/comparison/comparison_with_spreadsheets.html#compare-with-spreadsheets)"
   ]
  },
  {
   "cell_type": "markdown",
   "metadata": {
    "id": "l6hUOaD-_8-o"
   },
   "source": [
    "# 預測\n",
    "\n",
    "\n",
    "\n",
    "\n",
    "\n",
    "\n",
    "\n",
    "\n",
    "\n",
    "\n",
    "\n"
   ]
  },
  {
   "cell_type": "markdown",
   "metadata": {
    "id": "ycXDOZL_swHv"
   },
   "source": [
    "## Classifier and Regressor\n",
    "\n",
    "![imgage.png](https://miro.medium.com/max/700/1*Qn4eJPhkvrEQ62CtmydLZw.png)\n",
    "\n",
    "[圖片來源](https://towardsdatascience.com/regression-or-classification-linear-or-logistic-f093e8757b9c)"
   ]
  },
  {
   "cell_type": "markdown",
   "metadata": {
    "id": "83r_DH4C94oQ"
   },
   "source": [
    "## 訓練模型"
   ]
  },
  {
   "cell_type": "markdown",
   "metadata": {
    "id": "VZIvyJTQAd-T"
   },
   "source": [
    "### Decision Tree\n",
    "\n",
    "![image.png](data:image/png;base64,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)\n",
    "\n",
    "[圖片來源](https://www.kaggle.com/dansbecker/underfitting-and-overfitting)\n"
   ]
  },
  {
   "cell_type": "code",
   "execution_count": 52,
   "metadata": {
    "id": "ovN2VpthAbLZ"
   },
   "outputs": [],
   "source": [
    "from sklearn.tree import DecisionTreeClassifier"
   ]
  },
  {
   "cell_type": "code",
   "execution_count": 53,
   "metadata": {
    "id": "X54EskOCCN9F"
   },
   "outputs": [
    {
     "data": {
      "text/html": [
       "<div>\n",
       "<style scoped>\n",
       "    .dataframe tbody tr th:only-of-type {\n",
       "        vertical-align: middle;\n",
       "    }\n",
       "\n",
       "    .dataframe tbody tr th {\n",
       "        vertical-align: top;\n",
       "    }\n",
       "\n",
       "    .dataframe thead th {\n",
       "        text-align: right;\n",
       "    }\n",
       "</style>\n",
       "<table border=\"1\" class=\"dataframe\">\n",
       "  <thead>\n",
       "    <tr style=\"text-align: right;\">\n",
       "      <th></th>\n",
       "      <th>Station</th>\n",
       "      <th>Season</th>\n",
       "      <th>County</th>\n",
       "      <th>Location</th>\n",
       "      <th>Lat</th>\n",
       "      <th>Lon</th>\n",
       "      <th>縣市</th>\n",
       "      <th>海岸段</th>\n",
       "      <th>Region</th>\n",
       "      <th>Seat</th>\n",
       "      <th>...</th>\n",
       "      <th>Metal</th>\n",
       "      <th>Paper</th>\n",
       "      <th>Others</th>\n",
       "      <th>LEVEL</th>\n",
       "      <th>shape_1</th>\n",
       "      <th>shape_2</th>\n",
       "      <th>shape_3</th>\n",
       "      <th>Lat_std</th>\n",
       "      <th>Lon_std</th>\n",
       "      <th>Shore_type</th>\n",
       "    </tr>\n",
       "  </thead>\n",
       "  <tbody>\n",
       "    <tr>\n",
       "      <th>0</th>\n",
       "      <td>E02</td>\n",
       "      <td>1</td>\n",
       "      <td>宜蘭縣</td>\n",
       "      <td>大溪</td>\n",
       "      <td>24.92528</td>\n",
       "      <td>121.88569</td>\n",
       "      <td>16</td>\n",
       "      <td>5</td>\n",
       "      <td>1</td>\n",
       "      <td>4</td>\n",
       "      <td>...</td>\n",
       "      <td>0</td>\n",
       "      <td>0</td>\n",
       "      <td>0</td>\n",
       "      <td>2</td>\n",
       "      <td>0</td>\n",
       "      <td>1</td>\n",
       "      <td>0</td>\n",
       "      <td>1.209991</td>\n",
       "      <td>1.559830</td>\n",
       "      <td>3暴露岩盤_7開闊潮間帶</td>\n",
       "    </tr>\n",
       "    <tr>\n",
       "      <th>1</th>\n",
       "      <td>E02</td>\n",
       "      <td>2</td>\n",
       "      <td>宜蘭縣</td>\n",
       "      <td>大溪</td>\n",
       "      <td>24.92528</td>\n",
       "      <td>121.88569</td>\n",
       "      <td>16</td>\n",
       "      <td>5</td>\n",
       "      <td>1</td>\n",
       "      <td>4</td>\n",
       "      <td>...</td>\n",
       "      <td>0</td>\n",
       "      <td>0</td>\n",
       "      <td>0</td>\n",
       "      <td>5</td>\n",
       "      <td>0</td>\n",
       "      <td>1</td>\n",
       "      <td>0</td>\n",
       "      <td>1.209991</td>\n",
       "      <td>1.559830</td>\n",
       "      <td>3暴露岩盤</td>\n",
       "    </tr>\n",
       "    <tr>\n",
       "      <th>2</th>\n",
       "      <td>E02</td>\n",
       "      <td>3</td>\n",
       "      <td>宜蘭縣</td>\n",
       "      <td>大溪</td>\n",
       "      <td>24.92528</td>\n",
       "      <td>121.88569</td>\n",
       "      <td>16</td>\n",
       "      <td>5</td>\n",
       "      <td>1</td>\n",
       "      <td>4</td>\n",
       "      <td>...</td>\n",
       "      <td>0</td>\n",
       "      <td>0</td>\n",
       "      <td>0</td>\n",
       "      <td>2</td>\n",
       "      <td>0</td>\n",
       "      <td>1</td>\n",
       "      <td>0</td>\n",
       "      <td>1.209991</td>\n",
       "      <td>1.559830</td>\n",
       "      <td>3暴露岩盤</td>\n",
       "    </tr>\n",
       "    <tr>\n",
       "      <th>3</th>\n",
       "      <td>E02</td>\n",
       "      <td>4</td>\n",
       "      <td>宜蘭縣</td>\n",
       "      <td>大溪</td>\n",
       "      <td>24.92528</td>\n",
       "      <td>121.88569</td>\n",
       "      <td>16</td>\n",
       "      <td>5</td>\n",
       "      <td>1</td>\n",
       "      <td>4</td>\n",
       "      <td>...</td>\n",
       "      <td>0</td>\n",
       "      <td>0</td>\n",
       "      <td>0</td>\n",
       "      <td>1</td>\n",
       "      <td>0</td>\n",
       "      <td>1</td>\n",
       "      <td>0</td>\n",
       "      <td>1.209991</td>\n",
       "      <td>1.559830</td>\n",
       "      <td>3暴露岩盤_7開闊潮間帶</td>\n",
       "    </tr>\n",
       "    <tr>\n",
       "      <th>4</th>\n",
       "      <td>E03</td>\n",
       "      <td>1</td>\n",
       "      <td>宜蘭縣</td>\n",
       "      <td>頭城</td>\n",
       "      <td>24.85730</td>\n",
       "      <td>121.83342</td>\n",
       "      <td>16</td>\n",
       "      <td>5</td>\n",
       "      <td>1</td>\n",
       "      <td>4</td>\n",
       "      <td>...</td>\n",
       "      <td>0</td>\n",
       "      <td>0</td>\n",
       "      <td>0</td>\n",
       "      <td>5</td>\n",
       "      <td>1</td>\n",
       "      <td>0</td>\n",
       "      <td>0</td>\n",
       "      <td>1.143786</td>\n",
       "      <td>1.472527</td>\n",
       "      <td>4沙灘</td>\n",
       "    </tr>\n",
       "  </tbody>\n",
       "</table>\n",
       "<p>5 rows × 40 columns</p>\n",
       "</div>"
      ],
      "text/plain": [
       "  Station  Season County Location       Lat        Lon  縣市  海岸段  Region  Seat  \\\n",
       "0     E02       1    宜蘭縣       大溪  24.92528  121.88569  16    5       1     4   \n",
       "1     E02       2    宜蘭縣       大溪  24.92528  121.88569  16    5       1     4   \n",
       "2     E02       3    宜蘭縣       大溪  24.92528  121.88569  16    5       1     4   \n",
       "3     E02       4    宜蘭縣       大溪  24.92528  121.88569  16    5       1     4   \n",
       "4     E03       1    宜蘭縣       頭城  24.85730  121.83342  16    5       1     4   \n",
       "\n",
       "   ...  Metal  Paper  Others  LEVEL  shape_1  shape_2  shape_3   Lat_std  \\\n",
       "0  ...      0      0       0      2        0        1        0  1.209991   \n",
       "1  ...      0      0       0      5        0        1        0  1.209991   \n",
       "2  ...      0      0       0      2        0        1        0  1.209991   \n",
       "3  ...      0      0       0      1        0        1        0  1.209991   \n",
       "4  ...      0      0       0      5        1        0        0  1.143786   \n",
       "\n",
       "    Lon_std    Shore_type  \n",
       "0  1.559830  3暴露岩盤_7開闊潮間帶  \n",
       "1  1.559830         3暴露岩盤  \n",
       "2  1.559830         3暴露岩盤  \n",
       "3  1.559830  3暴露岩盤_7開闊潮間帶  \n",
       "4  1.472527           4沙灘  \n",
       "\n",
       "[5 rows x 40 columns]"
      ]
     },
     "execution_count": 53,
     "metadata": {},
     "output_type": "execute_result"
    }
   ],
   "source": [
    "train.head()"
   ]
  },
  {
   "cell_type": "code",
   "execution_count": 54,
   "metadata": {
    "id": "EakURj7yB2SK"
   },
   "outputs": [
    {
     "name": "stdout",
     "output_type": "stream",
     "text": [
      "['Station', 'Season', 'County', 'Location', 'Lat', 'Lon', '縣市', '海岸段', 'Region', 'Seat', 'Substrate type', '1暴露岩岸', '2暴露人造結構物', '3暴露岩盤', '4沙灘', '5砂礫混合灘', '6礫石灘', '7開闊潮間帶', '8遮蔽岩岸', '9遮蔽潮間帶', '10遮蔽濕地', 'Plastic bottle container', 'Disposable cup / straw / tableware', 'Plastic bag', 'Foam material', 'Float', 'Fishing nets and ropes', 'Fishing equipment', 'Cigarette and lighter', 'Glass jar', 'Metal', 'Paper', 'Others', 'LEVEL', 'shape_1', 'shape_2', 'shape_3', 'Lat_std', 'Lon_std', 'Shore_type']\n"
     ]
    }
   ],
   "source": [
    "y = 'LEVEL'\n",
    "features = list(train.columns)\n",
    "print(features)"
   ]
  },
  {
   "cell_type": "code",
   "execution_count": 55,
   "metadata": {
    "id": "xIfisL2LDxuL"
   },
   "outputs": [
    {
     "name": "stdout",
     "output_type": "stream",
     "text": [
      "['Season', 'Lat', 'Lon', '縣市', '海岸段', 'Region', 'Seat', 'Substrate type', '1暴露岩岸', '2暴露人造結構物', '3暴露岩盤', '4沙灘', '5砂礫混合灘', '6礫石灘', '7開闊潮間帶', '8遮蔽岩岸', '9遮蔽潮間帶', '10遮蔽濕地', 'Plastic bottle container', 'Disposable cup / straw / tableware', 'Plastic bag', 'Foam material', 'Float', 'Fishing nets and ropes', 'Fishing equipment', 'Cigarette and lighter', 'Glass jar', 'Metal', 'Paper', 'Others', 'shape_1', 'shape_2', 'shape_3', 'Lat_std', 'Lon_std']\n"
     ]
    }
   ],
   "source": [
    "features.pop(features.index(y))\n",
    "features.pop(features.index('Station'))\n",
    "features.pop(features.index('County'))\n",
    "features.pop(features.index('Location'))\n",
    "features.pop(features.index('Shore_type'))\n",
    "print(features)"
   ]
  },
  {
   "cell_type": "code",
   "execution_count": 56,
   "metadata": {
    "id": "1BJj_URYEzNQ"
   },
   "outputs": [
    {
     "name": "stdout",
     "output_type": "stream",
     "text": [
      "DecisionTreeClassifier(random_state=30)\n"
     ]
    },
    {
     "data": {
      "text/plain": [
       "array([ 2,  5,  2,  1,  5,  5,  7,  2,  5,  6,  7,  4,  4,  8,  8,  6,  2,\n",
       "        5,  4,  3,  7,  7,  6,  6,  2,  1,  2,  3,  4,  2,  2,  2,  7,  9,\n",
       "        9,  8,  3,  1,  2,  2,  7,  5,  7,  7,  5,  4,  5,  6,  5,  3,  4,\n",
       "        2,  4,  4,  3,  2,  7,  7,  7,  7,  6,  3,  5,  4,  8,  8,  8,  8,\n",
       "        2,  6,  7,  6,  6,  7,  6,  5, 10,  9,  9, 10,  4,  5,  2,  3,  5,\n",
       "        6,  6,  6,  6,  8,  7,  9,  7,  7,  9,  8,  7,  7,  7,  7,  3,  5,\n",
       "        7,  6,  2,  4,  7,  7,  3,  7,  7,  8,  8,  9, 10,  5,  4,  6,  6,\n",
       "        7,  8,  6,  7,  5,  6,  6,  7,  3,  2,  4,  2,  5,  4,  4,  5,  9,\n",
       "        9, 10,  9,  6,  5,  5,  6,  9,  8,  8,  8,  8,  6,  2,  3,  4,  2,\n",
       "        4,  3,  3,  5,  5,  1,  7,  9,  9,  7,  6,  8,  8,  4,  8,  6,  6,\n",
       "        6,  8,  9, 10, 10,  6,  7,  8,  8,  5,  7,  8,  6,  2,  2,  3,  2,\n",
       "        3,  3,  5,  2,  4,  3,  2,  2,  5,  2,  2,  2,  2,  1,  2,  2,  3,\n",
       "        1,  2,  2,  5,  1,  2,  2,  5,  1,  4,  5,  3,  6,  4,  3,  8,  7,\n",
       "        8,  8,  9,  7,  8,  8,  2,  5,  3,  3,  6,  7,  7,  7,  3,  2,  5,\n",
       "        3,  5,  5,  5,  5,  7,  5,  5,  5,  6,  6,  6,  6,  6,  4,  7,  5,\n",
       "        7,  6,  6,  8,  6,  6,  5,  6,  7,  3,  4,  1,  8,  7,  5,  6,  6,\n",
       "        4,  3,  3,  7,  6,  7,  6,  4,  4,  2,  2,  7,  8,  7,  7,  5,  2,\n",
       "        2,  2, 10, 10,  9,  9,  7,  4,  6,  6,  5,  8,  8,  6, 10,  7,  7,\n",
       "        4,  9,  9,  9,  8,  2,  1,  5,  2,  3,  2,  3,  1], dtype=int64)"
      ]
     },
     "execution_count": 56,
     "metadata": {},
     "output_type": "execute_result"
    }
   ],
   "source": [
    "model = DecisionTreeClassifier(random_state=30)\n",
    "print(model)\n",
    "model.fit(train[features], train[y])\n",
    "\n",
    "pred = model.predict(train[features])\n",
    "pred"
   ]
  },
  {
   "cell_type": "markdown",
   "metadata": {
    "id": "t7Wnmab5LBkv"
   },
   "source": [
    "## 評估標準"
   ]
  },
  {
   "cell_type": "code",
   "execution_count": 57,
   "metadata": {
    "id": "SUpdTJPeKTVh"
   },
   "outputs": [],
   "source": [
    "from sklearn.metrics import accuracy_score, cohen_kappa_score, confusion_matrix, ConfusionMatrixDisplay"
   ]
  },
  {
   "cell_type": "code",
   "execution_count": 58,
   "metadata": {
    "id": "xtW4VmRuKHh1"
   },
   "outputs": [
    {
     "name": "stdout",
     "output_type": "stream",
     "text": [
      "1.0\n"
     ]
    },
    {
     "data": {
      "text/plain": [
       "1.0"
      ]
     },
     "execution_count": 58,
     "metadata": {},
     "output_type": "execute_result"
    }
   ],
   "source": [
    "print(accuracy_score(train[y], pred))\n",
    "cohen_kappa_score(train[y], pred, weights='quadratic')"
   ]
  },
  {
   "cell_type": "markdown",
   "metadata": {
    "id": "KTDgHbjLYsJW"
   },
   "source": [
    "### Confusion Matrix"
   ]
  },
  {
   "cell_type": "code",
   "execution_count": 59,
   "metadata": {
    "id": "92Zvn4tVMiCO"
   },
   "outputs": [
    {
     "data": {
      "text/plain": [
       "<sklearn.metrics._plot.confusion_matrix.ConfusionMatrixDisplay at 0x155f5d43130>"
      ]
     },
     "execution_count": 59,
     "metadata": {},
     "output_type": "execute_result"
    },
    {
     "data": {
      "image/png": "[encoded data removed]",
      "text/plain": [
       "<Figure size 432x288 with 2 Axes>"
      ]
     },
     "metadata": {
      "needs_background": "light"
     },
     "output_type": "display_data"
    }
   ],
   "source": [
    "cm = confusion_matrix(train[y], pred)\n",
    "disp = ConfusionMatrixDisplay(confusion_matrix=cm, display_labels=model.classes_)\n",
    "disp.plot() "
   ]
  },
  {
   "cell_type": "markdown",
   "metadata": {
    "id": "J-ZcMRuvclTn"
   },
   "source": [
    "## 切分資料集\n",
    "\n",
    "*   training: 訓練用\n",
    "*   validation(dev): 驗證用\n",
    "*   test: 答案在平台上\n",
    "\n",
    "\n",
    "\n",
    "\n",
    "\n"
   ]
  },
  {
   "cell_type": "code",
   "execution_count": 60,
   "metadata": {
    "id": "pbjsb18ldIju"
   },
   "outputs": [],
   "source": [
    "from sklearn.model_selection import train_test_split"
   ]
  },
  {
   "cell_type": "code",
   "execution_count": 61,
   "metadata": {
    "id": "_tFt-SnxdMR9"
   },
   "outputs": [
    {
     "name": "stdout",
     "output_type": "stream",
     "text": [
      "data (319, 35)\n",
      "X_train (255, 35)\n",
      "X_dev (64, 35)\n",
      "y_train (255,)\n",
      "y_dev (64,)\n"
     ]
    }
   ],
   "source": [
    "print(\"data\", train[features].shape)\n",
    "X_train, X_dev, y_train, y_dev = train_test_split(train[features], train[y], train_size=0.8, random_state=30)\n",
    "print('X_train', X_train.shape)\n",
    "print('X_dev', X_dev.shape)\n",
    "print('y_train', y_train.shape)\n",
    "print('y_dev', y_dev.shape)"
   ]
  },
  {
   "cell_type": "code",
   "execution_count": 62,
   "metadata": {
    "id": "HmmNSzqB3AFc"
   },
   "outputs": [
    {
     "name": "stdout",
     "output_type": "stream",
     "text": [
      "0.33901399878271454\n"
     ]
    },
    {
     "data": {
      "text/plain": [
       "<sklearn.metrics._plot.confusion_matrix.ConfusionMatrixDisplay at 0x155f55851c0>"
      ]
     },
     "execution_count": 62,
     "metadata": {},
     "output_type": "execute_result"
    },
    {
     "data": {
      "image/png": "[encoded data removed]",
      "text/plain": [
       "<Figure size 432x288 with 2 Axes>"
      ]
     },
     "metadata": {
      "needs_background": "light"
     },
     "output_type": "display_data"
    }
   ],
   "source": [
    "model = DecisionTreeClassifier(random_state=30)\n",
    "model.fit(X_train, y_train)\n",
    "pred = model.predict(X_dev)\n",
    "\n",
    "print(cohen_kappa_score(y_dev, pred, weights='quadratic'))\n",
    "cm = confusion_matrix(y_dev, pred)\n",
    "disp = ConfusionMatrixDisplay(confusion_matrix=cm, display_labels=model.classes_)\n",
    "disp.plot() "
   ]
  },
  {
   "cell_type": "markdown",
   "metadata": {
    "id": "yIhTQUu8ci9U"
   },
   "source": [
    "### K-Folds cross-validation\n",
    "![image.png](https://miro.medium.com/max/601/1*PdwlCactbJf8F8C7sP-3gw.png)\n",
    "\n",
    "[圖片來源](https://medium.com/the-owl/k-fold-cross-validation-in-keras-3ec4a3a00538)\n",
    "\n",
    "[Visualizing cross-validation behavior in scikit-learn](https://scikit-learn.org/stable/auto_examples/model_selection/plot_cv_indices.html#sphx-glr-auto-examples-model-selection-plot-cv-indices-py)\n"
   ]
  },
  {
   "cell_type": "code",
   "execution_count": 63,
   "metadata": {
    "id": "-iGduMgEY7rb"
   },
   "outputs": [],
   "source": [
    "from sklearn.model_selection import StratifiedKFold"
   ]
  },
  {
   "cell_type": "code",
   "execution_count": 64,
   "metadata": {
    "id": "k_uZlwT4Y8x3"
   },
   "outputs": [],
   "source": [
    "skf = StratifiedKFold(n_splits=3)"
   ]
  },
  {
   "cell_type": "code",
   "execution_count": 65,
   "metadata": {
    "id": "6oFmjIprZRkO"
   },
   "outputs": [
    {
     "name": "stdout",
     "output_type": "stream",
     "text": [
      "0.24688247320020817\n",
      "0.28857980169154385\n",
      "0.5358431637368899\n"
     ]
    }
   ],
   "source": [
    "for train_index, test_index in skf.split(train[features], train[y]):\n",
    "  X_train, X_dev = train.loc[train_index, features], train.loc[test_index, features]\n",
    "  y_train, y_dev = train.loc[train_index, y], train.loc[test_index, y]\n",
    "\n",
    "  model = DecisionTreeClassifier(random_state=30)\n",
    "  model.fit(X_train, y_train)\n",
    "  pred = model.predict(X_dev)\n",
    "  print(cohen_kappa_score(y_dev, pred, weights='quadratic'))\n"
   ]
  },
  {
   "cell_type": "markdown",
   "metadata": {
    "id": "qrtudwvRj_Z2"
   },
   "source": [
    "## hyperparameter"
   ]
  },
  {
   "cell_type": "code",
   "execution_count": 66,
   "metadata": {
    "id": "vfA_8JvwniDW"
   },
   "outputs": [
    {
     "name": "stdout",
     "output_type": "stream",
     "text": [
      "max_depth=1:   0.4555847475679897\n",
      "max_depth=10:  0.8912100234975254\n"
     ]
    }
   ],
   "source": [
    "X_train, X_dev, y_train, y_dev = train_test_split(train[features], train[y], train_size=0.8, random_state=30)\n",
    "\n",
    "# max_depth=1\n",
    "model = DecisionTreeClassifier(max_depth=1, random_state=30)\n",
    "\n",
    "model.fit(X_train[features], y_train)\n",
    "pred = model.predict(X_train[features])\n",
    "print('max_depth=1:  ', cohen_kappa_score(y_train, pred, weights='quadratic'))\n",
    "\n",
    "\n",
    "# max_depth=10\n",
    "model = DecisionTreeClassifier(max_depth=10, random_state=30)\n",
    "\n",
    "model.fit(X_train[features], y_train)\n",
    "pred = model.predict(X_train[features])\n",
    "print('max_depth=10: ', cohen_kappa_score(y_train, pred, weights='quadratic'))"
   ]
  },
  {
   "cell_type": "markdown",
   "metadata": {
    "id": "wgCcrMZaytIQ"
   },
   "source": [
    "### Underfitting and Overfitting\n",
    "\n",
    "![Screenshot 2021-06-09 165629.png](data:image/png;base64,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)\n",
    "\n",
    "[圖片來源](https://www.kaggle.com/dansbecker/underfitting-and-overfitting)\n",
    "\n"
   ]
  },
  {
   "cell_type": "code",
   "execution_count": 67,
   "metadata": {
    "id": "alNqKK9jyxyL"
   },
   "outputs": [
    {
     "name": "stdout",
     "output_type": "stream",
     "text": [
      "(19, 2)\n"
     ]
    },
    {
     "data": {
      "text/html": [
       "\n",
       "\n",
       "\n",
       "\n",
       "\n",
       "\n",
       "  <div class=\"bk-root\" id=\"cb74dec2-445a-428b-860f-fb25527cabcc\" data-root-id=\"4801\"></div>\n"
      ]
     },
     "metadata": {},
     "output_type": "display_data"
    },
    {
     "data": {
      "application/javascript": [
       "(function(root) {\n",
       "  function embed_document(root) {\n",
       "    \n",
       "  var docs_json = {\"b7616bcb-5f35-4420-ba60-1c9f94f90e66\":{\"defs\":[],\"roots\":{\"references\":[{\"attributes\":{\"below\":[{\"id\":\"4812\"}],\"center\":[{\"id\":\"4815\"},{\"id\":\"4819\"},{\"id\":\"4850\"}],\"height\":500,\"left\":[{\"id\":\"4816\"}],\"output_backend\":\"webgl\",\"renderers\":[{\"id\":\"4838\"},{\"id\":\"4858\"}],\"sizing_mode\":\"fixed\",\"title\":{\"id\":\"4802\"},\"toolbar\":{\"id\":\"4827\"},\"width\":800,\"x_range\":{\"id\":\"4804\"},\"x_scale\":{\"id\":\"4808\"},\"y_range\":{\"id\":\"4806\"},\"y_scale\":{\"id\":\"4810\"}},\"id\":\"4801\",\"subtype\":\"Figure\",\"type\":\"Plot\"},{\"attributes\":{\"callback\":null,\"mode\":\"vline\",\"renderers\":[{\"id\":\"4838\"}],\"tooltips\":[[\"x\",\"@__x__values_original\"],[\"train\",\"@{train}\"]]},\"id\":\"4852\",\"type\":\"HoverTool\"},{\"attributes\":{},\"id\":\"4817\",\"type\":\"BasicTicker\"},{\"attributes\":{\"data\":{\"__x__values\":[1,2,3,4,5,6,7,8,9,10,11,12,13,14,15,16,17,18,19],\"__x__values_original\":[1,2,3,4,5,6,7,8,9,10,11,12,13,14,15,16,17,18,19],\"dev\":{\"__ndarray__\":\"3k7SMIKw1j8oVPwxpovXP1ZVVVVVVdU//+1EtvVL4T/AJ6QjyCjbP+h5nud5nts/hAqulr5v1j8+jujOJ3naP4qd2Imd2NU/eDg1q0E81j+maue8slHWP9QIyz2NsNw/BlqgBVqg1T9cZQqYD2TXP7wbasVnstU/vBtqxWey1T+8G2rFZ7LVP7wbasVnstU/vBtqxWey1T8=\",\"dtype\":\"float64\",\"order\":\"little\",\"shape\":[19]},\"train\":{\"__ndarray__\":\"gBnX7Uwo3T99G/uIV97gP0r7VRTPLeI/BjG5gphc4z/iBA9uPSnkP7wzDNdOEeU/zDacw0E46D+z2sSIqSjqPwRaBLiGq+o/pUEZ4sqE7D/TSYGwSP7sP/goaJ2eiu4/8QlHdD+47z/7y8cIvPTvPwAAAAAAAPA/AAAAAAAA8D8AAAAAAADwPwAAAAAAAPA/AAAAAAAA8D8=\",\"dtype\":\"float64\",\"order\":\"little\",\"shape\":[19]}},\"selected\":{\"id\":\"4849\"},\"selection_policy\":{\"id\":\"4848\"}},\"id\":\"4834\",\"type\":\"ColumnDataSource\"},{\"attributes\":{\"axis\":{\"id\":\"4812\"},\"ticker\":null},\"id\":\"4815\",\"type\":\"Grid\"},{\"attributes\":{\"formatter\":{\"id\":\"4843\"},\"major_label_policy\":{\"id\":\"4842\"},\"ticker\":{\"id\":\"4813\"}},\"id\":\"4812\",\"type\":\"LinearAxis\"},{\"attributes\":{\"data_source\":{\"id\":\"4834\"},\"glyph\":{\"id\":\"4836\"},\"hover_glyph\":null,\"muted_glyph\":null,\"nonselection_glyph\":{\"id\":\"4837\"},\"view\":{\"id\":\"4839\"}},\"id\":\"4838\",\"type\":\"GlyphRenderer\"},{\"attributes\":{\"callback\":null,\"mode\":\"vline\",\"renderers\":[{\"id\":\"4858\"}],\"tooltips\":[[\"x\",\"@__x__values_original\"],[\"dev\",\"@{dev}\"]]},\"id\":\"4873\",\"type\":\"HoverTool\"},{\"attributes\":{\"label\":{\"value\":\" dev\"},\"renderers\":[{\"id\":\"4858\"}]},\"id\":\"4872\",\"type\":\"LegendItem\"},{\"attributes\":{},\"id\":\"4845\",\"type\":\"AllLabels\"},{\"attributes\":{\"click_policy\":\"hide\",\"items\":[{\"id\":\"4851\"},{\"id\":\"4872\"}]},\"id\":\"4850\",\"type\":\"Legend\"},{\"attributes\":{\"label\":{\"value\":\" train\"},\"renderers\":[{\"id\":\"4838\"}]},\"id\":\"4851\",\"type\":\"LegendItem\"},{\"attributes\":{\"axis\":{\"id\":\"4816\"},\"dimension\":1,\"ticker\":null},\"id\":\"4819\",\"type\":\"Grid\"},{\"attributes\":{\"data_source\":{\"id\":\"4854\"},\"glyph\":{\"id\":\"4856\"},\"hover_glyph\":null,\"muted_glyph\":null,\"nonselection_glyph\":{\"id\":\"4857\"},\"view\":{\"id\":\"4859\"}},\"id\":\"4858\",\"type\":\"GlyphRenderer\"},{\"attributes\":{\"line_color\":\"#1f77b4\",\"line_width\":2,\"x\":{\"field\":\"__x__values\"},\"y\":{\"field\":\"train\"}},\"id\":\"4836\",\"type\":\"Line\"},{\"attributes\":{},\"id\":\"4810\",\"type\":\"LinearScale\"},{\"attributes\":{\"line_alpha\":0.1,\"line_color\":\"#1f77b4\",\"line_width\":2,\"x\":{\"field\":\"__x__values\"},\"y\":{\"field\":\"train\"}},\"id\":\"4837\",\"type\":\"Line\"},{\"attributes\":{\"data\":{\"__x__values\":[1,2,3,4,5,6,7,8,9,10,11,12,13,14,15,16,17,18,19],\"__x__values_original\":[1,2,3,4,5,6,7,8,9,10,11,12,13,14,15,16,17,18,19],\"dev\":{\"__ndarray__\":\"3k7SMIKw1j8oVPwxpovXP1ZVVVVVVdU//+1EtvVL4T/AJ6QjyCjbP+h5nud5nts/hAqulr5v1j8+jujOJ3naP4qd2Imd2NU/eDg1q0E81j+maue8slHWP9QIyz2NsNw/BlqgBVqg1T9cZQqYD2TXP7wbasVnstU/vBtqxWey1T+8G2rFZ7LVP7wbasVnstU/vBtqxWey1T8=\",\"dtype\":\"float64\",\"order\":\"little\",\"shape\":[19]},\"train\":{\"__ndarray__\":\"gBnX7Uwo3T99G/uIV97gP0r7VRTPLeI/BjG5gphc4z/iBA9uPSnkP7wzDNdOEeU/zDacw0E46D+z2sSIqSjqPwRaBLiGq+o/pUEZ4sqE7D/TSYGwSP7sP/goaJ2eiu4/8QlHdD+47z/7y8cIvPTvPwAAAAAAAPA/AAAAAAAA8D8AAAAAAADwPwAAAAAAAPA/AAAAAAAA8D8=\",\"dtype\":\"float64\",\"order\":\"little\",\"shape\":[19]}},\"selected\":{\"id\":\"4871\"},\"selection_policy\":{\"id\":\"4870\"}},\"id\":\"4854\",\"type\":\"ColumnDataSource\"},{\"attributes\":{},\"id\":\"4806\",\"type\":\"DataRange1d\"},{\"attributes\":{\"source\":{\"id\":\"4834\"}},\"id\":\"4839\",\"type\":\"CDSView\"},{\"attributes\":{\"line_color\":\"#ff7f0e\",\"line_width\":2,\"x\":{\"field\":\"__x__values\"},\"y\":{\"field\":\"dev\"}},\"id\":\"4856\",\"type\":\"Line\"},{\"attributes\":{},\"id\":\"4825\",\"type\":\"HelpTool\"},{\"attributes\":{\"line_alpha\":0.1,\"line_color\":\"#ff7f0e\",\"line_width\":2,\"x\":{\"field\":\"__x__values\"},\"y\":{\"field\":\"dev\"}},\"id\":\"4857\",\"type\":\"Line\"},{\"attributes\":{},\"id\":\"4813\",\"type\":\"BasicTicker\"},{\"attributes\":{\"formatter\":{\"id\":\"4846\"},\"major_label_policy\":{\"id\":\"4845\"},\"ticker\":{\"id\":\"4817\"}},\"id\":\"4816\",\"type\":\"LinearAxis\"},{\"attributes\":{\"source\":{\"id\":\"4854\"}},\"id\":\"4859\",\"type\":\"CDSView\"},{\"attributes\":{},\"id\":\"4808\",\"type\":\"LinearScale\"},{\"attributes\":{\"bottom_units\":\"screen\",\"fill_alpha\":0.5,\"fill_color\":\"lightgrey\",\"left_units\":\"screen\",\"level\":\"overlay\",\"line_alpha\":1.0,\"line_color\":\"black\",\"line_dash\":[4,4],\"line_width\":2,\"right_units\":\"screen\",\"syncable\":false,\"top_units\":\"screen\"},\"id\":\"4826\",\"type\":\"BoxAnnotation\"},{\"attributes\":{},\"id\":\"4842\",\"type\":\"AllLabels\"},{\"attributes\":{},\"id\":\"4848\",\"type\":\"UnionRenderers\"},{\"attributes\":{},\"id\":\"4849\",\"type\":\"Selection\"},{\"attributes\":{},\"id\":\"4843\",\"type\":\"BasicTickFormatter\"},{\"attributes\":{},\"id\":\"4870\",\"type\":\"UnionRenderers\"},{\"attributes\":{},\"id\":\"4871\",\"type\":\"Selection\"},{\"attributes\":{},\"id\":\"4804\",\"type\":\"DataRange1d\"},{\"attributes\":{},\"id\":\"4821\",\"type\":\"WheelZoomTool\"},{\"attributes\":{},\"id\":\"4802\",\"type\":\"Title\"},{\"attributes\":{\"active_multi\":null,\"active_scroll\":{\"id\":\"4821\"},\"tools\":[{\"id\":\"4820\"},{\"id\":\"4821\"},{\"id\":\"4822\"},{\"id\":\"4823\"},{\"id\":\"4824\"},{\"id\":\"4825\"},{\"id\":\"4852\"},{\"id\":\"4873\"}]},\"id\":\"4827\",\"type\":\"Toolbar\"},{\"attributes\":{},\"id\":\"4820\",\"type\":\"PanTool\"},{\"attributes\":{\"overlay\":{\"id\":\"4826\"}},\"id\":\"4822\",\"type\":\"BoxZoomTool\"},{\"attributes\":{},\"id\":\"4846\",\"type\":\"BasicTickFormatter\"},{\"attributes\":{},\"id\":\"4823\",\"type\":\"SaveTool\"},{\"attributes\":{},\"id\":\"4824\",\"type\":\"ResetTool\"}],\"root_ids\":[\"4801\"]},\"title\":\"Bokeh Application\",\"version\":\"2.3.2\"}};\n",
       "  var render_items = [{\"docid\":\"b7616bcb-5f35-4420-ba60-1c9f94f90e66\",\"root_ids\":[\"4801\"],\"roots\":{\"4801\":\"cb74dec2-445a-428b-860f-fb25527cabcc\"}}];\n",
       "  root.Bokeh.embed.embed_items_notebook(docs_json, render_items);\n",
       "\n",
       "  }\n",
       "  if (root.Bokeh !== undefined) {\n",
       "    embed_document(root);\n",
       "  } else {\n",
       "    var attempts = 0;\n",
       "    var timer = setInterval(function(root) {\n",
       "      if (root.Bokeh !== undefined) {\n",
       "        clearInterval(timer);\n",
       "        embed_document(root);\n",
       "      } else {\n",
       "        attempts++;\n",
       "        if (attempts > 100) {\n",
       "          clearInterval(timer);\n",
       "          console.log(\"Bokeh: ERROR: Unable to run BokehJS code because BokehJS library is missing\");\n",
       "        }\n",
       "      }\n",
       "    }, 10, root)\n",
       "  }\n",
       "})(window);"
      ],
      "application/vnd.bokehjs_exec.v0+json": ""
     },
     "metadata": {
      "application/vnd.bokehjs_exec.v0+json": {
       "id": "4801"
      }
     },
     "output_type": "display_data"
    },
    {
     "data": {
      "text/html": [
       "<div style=\"display: table;\"><div style=\"display: table-row;\"><div style=\"display: table-cell;\"><b title=\"bokeh.plotting.figure.Figure\">Figure</b>(</div><div style=\"display: table-cell;\">id&nbsp;=&nbsp;'4801', <span id=\"5148\" style=\"cursor: pointer;\">&hellip;)</span></div></div><div class=\"5147\" style=\"display: none;\"><div style=\"display: table-cell;\"></div><div style=\"display: table-cell;\">above&nbsp;=&nbsp;[],</div></div><div class=\"5147\" style=\"display: none;\"><div style=\"display: table-cell;\"></div><div style=\"display: table-cell;\">align&nbsp;=&nbsp;'start',</div></div><div class=\"5147\" style=\"display: none;\"><div style=\"display: table-cell;\"></div><div style=\"display: table-cell;\">aspect_ratio&nbsp;=&nbsp;None,</div></div><div class=\"5147\" style=\"display: none;\"><div style=\"display: table-cell;\"></div><div style=\"display: table-cell;\">aspect_scale&nbsp;=&nbsp;1,</div></div><div class=\"5147\" style=\"display: none;\"><div style=\"display: table-cell;\"></div><div style=\"display: table-cell;\">background&nbsp;=&nbsp;None,</div></div><div class=\"5147\" style=\"display: none;\"><div style=\"display: table-cell;\"></div><div style=\"display: table-cell;\">background_fill_alpha&nbsp;=&nbsp;1.0,</div></div><div class=\"5147\" style=\"display: none;\"><div style=\"display: table-cell;\"></div><div style=\"display: table-cell;\">background_fill_color&nbsp;=&nbsp;'#ffffff',</div></div><div class=\"5147\" style=\"display: none;\"><div style=\"display: table-cell;\"></div><div style=\"display: table-cell;\">below&nbsp;=&nbsp;[LinearAxis(id='4812', ...)],</div></div><div class=\"5147\" style=\"display: none;\"><div style=\"display: table-cell;\"></div><div style=\"display: table-cell;\">border_fill_alpha&nbsp;=&nbsp;1.0,</div></div><div class=\"5147\" style=\"display: none;\"><div style=\"display: table-cell;\"></div><div style=\"display: table-cell;\">border_fill_color&nbsp;=&nbsp;'#ffffff',</div></div><div class=\"5147\" style=\"display: none;\"><div style=\"display: table-cell;\"></div><div style=\"display: table-cell;\">center&nbsp;=&nbsp;[Grid(id='4815', ...), Grid(id='4819', ...), Legend(id='4850', ...)],</div></div><div class=\"5147\" style=\"display: none;\"><div style=\"display: table-cell;\"></div><div style=\"display: table-cell;\">css_classes&nbsp;=&nbsp;[],</div></div><div class=\"5147\" style=\"display: none;\"><div style=\"display: table-cell;\"></div><div style=\"display: table-cell;\">disabled&nbsp;=&nbsp;False,</div></div><div class=\"5147\" style=\"display: none;\"><div style=\"display: table-cell;\"></div><div style=\"display: table-cell;\">extra_x_ranges&nbsp;=&nbsp;{},</div></div><div class=\"5147\" style=\"display: none;\"><div style=\"display: table-cell;\"></div><div style=\"display: table-cell;\">extra_y_ranges&nbsp;=&nbsp;{},</div></div><div class=\"5147\" style=\"display: none;\"><div style=\"display: table-cell;\"></div><div style=\"display: table-cell;\">frame_height&nbsp;=&nbsp;None,</div></div><div class=\"5147\" style=\"display: none;\"><div style=\"display: table-cell;\"></div><div style=\"display: table-cell;\">frame_width&nbsp;=&nbsp;None,</div></div><div class=\"5147\" style=\"display: none;\"><div style=\"display: table-cell;\"></div><div style=\"display: table-cell;\">height&nbsp;=&nbsp;500,</div></div><div class=\"5147\" style=\"display: none;\"><div style=\"display: table-cell;\"></div><div style=\"display: table-cell;\">height_policy&nbsp;=&nbsp;'auto',</div></div><div class=\"5147\" style=\"display: none;\"><div style=\"display: table-cell;\"></div><div style=\"display: table-cell;\">hidpi&nbsp;=&nbsp;True,</div></div><div class=\"5147\" style=\"display: none;\"><div style=\"display: table-cell;\"></div><div style=\"display: table-cell;\">inner_height&nbsp;=&nbsp;0,</div></div><div class=\"5147\" style=\"display: none;\"><div style=\"display: table-cell;\"></div><div style=\"display: table-cell;\">inner_width&nbsp;=&nbsp;0,</div></div><div class=\"5147\" style=\"display: none;\"><div style=\"display: table-cell;\"></div><div style=\"display: table-cell;\">js_event_callbacks&nbsp;=&nbsp;{},</div></div><div class=\"5147\" style=\"display: none;\"><div style=\"display: table-cell;\"></div><div style=\"display: table-cell;\">js_property_callbacks&nbsp;=&nbsp;{},</div></div><div class=\"5147\" style=\"display: none;\"><div style=\"display: table-cell;\"></div><div style=\"display: table-cell;\">left&nbsp;=&nbsp;[LinearAxis(id='4816', ...)],</div></div><div class=\"5147\" style=\"display: none;\"><div style=\"display: table-cell;\"></div><div style=\"display: table-cell;\">lod_factor&nbsp;=&nbsp;10,</div></div><div class=\"5147\" style=\"display: none;\"><div style=\"display: table-cell;\"></div><div style=\"display: table-cell;\">lod_interval&nbsp;=&nbsp;300,</div></div><div class=\"5147\" style=\"display: none;\"><div style=\"display: table-cell;\"></div><div style=\"display: table-cell;\">lod_threshold&nbsp;=&nbsp;2000,</div></div><div class=\"5147\" style=\"display: none;\"><div style=\"display: table-cell;\"></div><div style=\"display: table-cell;\">lod_timeout&nbsp;=&nbsp;500,</div></div><div class=\"5147\" style=\"display: none;\"><div style=\"display: table-cell;\"></div><div style=\"display: table-cell;\">margin&nbsp;=&nbsp;(0, 0, 0, 0),</div></div><div class=\"5147\" style=\"display: none;\"><div style=\"display: table-cell;\"></div><div style=\"display: table-cell;\">match_aspect&nbsp;=&nbsp;False,</div></div><div class=\"5147\" style=\"display: none;\"><div style=\"display: table-cell;\"></div><div style=\"display: table-cell;\">max_height&nbsp;=&nbsp;None,</div></div><div class=\"5147\" style=\"display: none;\"><div style=\"display: table-cell;\"></div><div style=\"display: table-cell;\">max_width&nbsp;=&nbsp;None,</div></div><div class=\"5147\" style=\"display: none;\"><div style=\"display: table-cell;\"></div><div style=\"display: table-cell;\">min_border&nbsp;=&nbsp;5,</div></div><div class=\"5147\" style=\"display: none;\"><div style=\"display: table-cell;\"></div><div style=\"display: table-cell;\">min_border_bottom&nbsp;=&nbsp;None,</div></div><div class=\"5147\" style=\"display: none;\"><div style=\"display: table-cell;\"></div><div style=\"display: table-cell;\">min_border_left&nbsp;=&nbsp;None,</div></div><div class=\"5147\" style=\"display: none;\"><div style=\"display: table-cell;\"></div><div style=\"display: table-cell;\">min_border_right&nbsp;=&nbsp;None,</div></div><div class=\"5147\" style=\"display: none;\"><div style=\"display: table-cell;\"></div><div style=\"display: table-cell;\">min_border_top&nbsp;=&nbsp;None,</div></div><div class=\"5147\" style=\"display: none;\"><div style=\"display: table-cell;\"></div><div style=\"display: table-cell;\">min_height&nbsp;=&nbsp;None,</div></div><div class=\"5147\" style=\"display: none;\"><div style=\"display: table-cell;\"></div><div style=\"display: table-cell;\">min_width&nbsp;=&nbsp;None,</div></div><div class=\"5147\" style=\"display: none;\"><div style=\"display: table-cell;\"></div><div style=\"display: table-cell;\">name&nbsp;=&nbsp;None,</div></div><div class=\"5147\" style=\"display: none;\"><div style=\"display: table-cell;\"></div><div style=\"display: table-cell;\">outer_height&nbsp;=&nbsp;0,</div></div><div class=\"5147\" style=\"display: none;\"><div style=\"display: table-cell;\"></div><div style=\"display: table-cell;\">outer_width&nbsp;=&nbsp;0,</div></div><div class=\"5147\" style=\"display: none;\"><div style=\"display: table-cell;\"></div><div style=\"display: table-cell;\">outline_line_alpha&nbsp;=&nbsp;1.0,</div></div><div class=\"5147\" style=\"display: none;\"><div style=\"display: table-cell;\"></div><div style=\"display: table-cell;\">outline_line_cap&nbsp;=&nbsp;'butt',</div></div><div class=\"5147\" style=\"display: none;\"><div style=\"display: table-cell;\"></div><div style=\"display: table-cell;\">outline_line_color&nbsp;=&nbsp;'#e5e5e5',</div></div><div class=\"5147\" style=\"display: none;\"><div style=\"display: table-cell;\"></div><div style=\"display: table-cell;\">outline_line_dash&nbsp;=&nbsp;[],</div></div><div class=\"5147\" style=\"display: none;\"><div style=\"display: table-cell;\"></div><div style=\"display: table-cell;\">outline_line_dash_offset&nbsp;=&nbsp;0,</div></div><div class=\"5147\" style=\"display: none;\"><div style=\"display: table-cell;\"></div><div style=\"display: table-cell;\">outline_line_join&nbsp;=&nbsp;'bevel',</div></div><div class=\"5147\" style=\"display: none;\"><div style=\"display: table-cell;\"></div><div style=\"display: table-cell;\">outline_line_width&nbsp;=&nbsp;1,</div></div><div class=\"5147\" style=\"display: none;\"><div style=\"display: table-cell;\"></div><div style=\"display: table-cell;\">output_backend&nbsp;=&nbsp;'webgl',</div></div><div class=\"5147\" style=\"display: none;\"><div style=\"display: table-cell;\"></div><div style=\"display: table-cell;\">renderers&nbsp;=&nbsp;[GlyphRenderer(id='4838', ...), GlyphRenderer(id='4858', ...)],</div></div><div class=\"5147\" style=\"display: none;\"><div style=\"display: table-cell;\"></div><div style=\"display: table-cell;\">reset_policy&nbsp;=&nbsp;'standard',</div></div><div class=\"5147\" style=\"display: none;\"><div style=\"display: table-cell;\"></div><div style=\"display: table-cell;\">right&nbsp;=&nbsp;[],</div></div><div class=\"5147\" style=\"display: none;\"><div style=\"display: table-cell;\"></div><div style=\"display: table-cell;\">sizing_mode&nbsp;=&nbsp;'fixed',</div></div><div class=\"5147\" style=\"display: none;\"><div style=\"display: table-cell;\"></div><div style=\"display: table-cell;\">subscribed_events&nbsp;=&nbsp;[],</div></div><div class=\"5147\" style=\"display: none;\"><div style=\"display: table-cell;\"></div><div style=\"display: table-cell;\">syncable&nbsp;=&nbsp;True,</div></div><div class=\"5147\" style=\"display: none;\"><div style=\"display: table-cell;\"></div><div style=\"display: table-cell;\">tags&nbsp;=&nbsp;[],</div></div><div class=\"5147\" style=\"display: none;\"><div style=\"display: table-cell;\"></div><div style=\"display: table-cell;\">title&nbsp;=&nbsp;Title(id='4802', ...),</div></div><div class=\"5147\" style=\"display: none;\"><div style=\"display: table-cell;\"></div><div style=\"display: table-cell;\">title_location&nbsp;=&nbsp;'above',</div></div><div class=\"5147\" style=\"display: none;\"><div style=\"display: table-cell;\"></div><div style=\"display: table-cell;\">toolbar&nbsp;=&nbsp;Toolbar(id='4827', ...),</div></div><div class=\"5147\" style=\"display: none;\"><div style=\"display: table-cell;\"></div><div style=\"display: table-cell;\">toolbar_location&nbsp;=&nbsp;'right',</div></div><div class=\"5147\" style=\"display: none;\"><div style=\"display: table-cell;\"></div><div style=\"display: table-cell;\">toolbar_sticky&nbsp;=&nbsp;True,</div></div><div class=\"5147\" style=\"display: none;\"><div style=\"display: table-cell;\"></div><div style=\"display: table-cell;\">visible&nbsp;=&nbsp;True,</div></div><div class=\"5147\" style=\"display: none;\"><div style=\"display: table-cell;\"></div><div style=\"display: table-cell;\">width&nbsp;=&nbsp;800,</div></div><div class=\"5147\" style=\"display: none;\"><div style=\"display: table-cell;\"></div><div style=\"display: table-cell;\">width_policy&nbsp;=&nbsp;'auto',</div></div><div class=\"5147\" style=\"display: none;\"><div style=\"display: table-cell;\"></div><div style=\"display: table-cell;\">x_range&nbsp;=&nbsp;DataRange1d(id='4804', ...),</div></div><div class=\"5147\" style=\"display: none;\"><div style=\"display: table-cell;\"></div><div style=\"display: table-cell;\">x_scale&nbsp;=&nbsp;LinearScale(id='4808', ...),</div></div><div class=\"5147\" style=\"display: none;\"><div style=\"display: table-cell;\"></div><div style=\"display: table-cell;\">y_range&nbsp;=&nbsp;DataRange1d(id='4806', ...),</div></div><div class=\"5147\" style=\"display: none;\"><div style=\"display: table-cell;\"></div><div style=\"display: table-cell;\">y_scale&nbsp;=&nbsp;LinearScale(id='4810', ...))</div></div></div>\n",
       "<script>\n",
       "(function() {\n",
       "  var expanded = false;\n",
       "  var ellipsis = document.getElementById(\"5148\");\n",
       "  ellipsis.addEventListener(\"click\", function() {\n",
       "    var rows = document.getElementsByClassName(\"5147\");\n",
       "    for (var i = 0; i < rows.length; i++) {\n",
       "      var el = rows[i];\n",
       "      el.style.display = expanded ? \"none\" : \"table-row\";\n",
       "    }\n",
       "    ellipsis.innerHTML = expanded ? \"&hellip;)\" : \"&lsaquo;&lsaquo;&lsaquo;\";\n",
       "    expanded = !expanded;\n",
       "  });\n",
       "})();\n",
       "</script>\n"
      ],
      "text/plain": [
       "Figure(id='4801', ...)"
      ]
     },
     "execution_count": 67,
     "metadata": {},
     "output_type": "execute_result"
    }
   ],
   "source": [
    "X_train, X_dev, y_train, y_dev = train_test_split(train[features], train[y], test_size=0.2, random_state=30)\n",
    "\n",
    "max_depths = range(1, 20)\n",
    "\n",
    "train_scores = []\n",
    "dev_scores = []\n",
    "for max_depth in max_depths:\n",
    "  model = DecisionTreeClassifier(max_depth=max_depth, random_state=30)\n",
    "  model.fit(X_train, y_train)\n",
    "  pred = model.predict(X_train)\n",
    "  score = cohen_kappa_score(y_train, pred, weights='quadratic')\n",
    "  train_scores.append(score)\n",
    "\n",
    "\n",
    "  pred = model.predict(X_dev)\n",
    "  score = cohen_kappa_score(y_dev, pred, weights='quadratic')\n",
    "  dev_scores.append(score)\n",
    "df = pd.DataFrame({'train': train_scores, 'dev': dev_scores}, index=max_depths)\n",
    "print(df.shape)\n",
    "df.plot_bokeh.line(figsize=(800, 500))"
   ]
  },
  {
   "cell_type": "markdown",
   "metadata": {
    "id": "OMBokr3XgOaV"
   },
   "source": [
    "### Grid Search"
   ]
  },
  {
   "cell_type": "code",
   "execution_count": 68,
   "metadata": {
    "id": "P59ZLA-KmOg5"
   },
   "outputs": [],
   "source": [
    "from sklearn.model_selection import GridSearchCV\n",
    "from sklearn.metrics import make_scorer"
   ]
  },
  {
   "cell_type": "code",
   "execution_count": 69,
   "metadata": {
    "id": "yjFnopleiAvp"
   },
   "outputs": [],
   "source": [
    "kappa_quadratic = make_scorer(cohen_kappa_score, weights='quadratic')"
   ]
  },
  {
   "cell_type": "code",
   "execution_count": 70,
   "metadata": {
    "id": "g81Adss_mRGP"
   },
   "outputs": [
    {
     "data": {
      "text/plain": [
       "GridSearchCV(cv=3, estimator=DecisionTreeClassifier(random_state=30),\n",
       "             param_grid={'max_depth': [5, 10], 'max_features': [5, 10],\n",
       "                         'min_samples_split': [2, 30]},\n",
       "             scoring=make_scorer(cohen_kappa_score, weights=quadratic))"
      ]
     },
     "execution_count": 70,
     "metadata": {},
     "output_type": "execute_result"
    }
   ],
   "source": [
    "search_space = {\n",
    "    'max_depth': [5, 10], \n",
    "    'max_features': [5, 10],\n",
    "    'min_samples_split': [2, 30]\n",
    "}\n",
    "\n",
    "model = DecisionTreeClassifier(random_state=30)\n",
    "clf = GridSearchCV(model, search_space, scoring=kappa_quadratic, cv=3)\n",
    "clf.fit(train[features], train[y])"
   ]
  },
  {
   "cell_type": "code",
   "execution_count": 71,
   "metadata": {
    "id": "_iRk7abulw76"
   },
   "outputs": [
    {
     "name": "stdout",
     "output_type": "stream",
     "text": [
      "Best parameters\n",
      "\n",
      "0.3942411075171281 {'max_depth': 5, 'max_features': 5, 'min_samples_split': 30}\n",
      "\n",
      "Grid scores\n",
      "\n",
      "0.2135 (+/-0.5128) for {'max_depth': 5, 'max_features': 5, 'min_samples_split': 2}\n",
      "0.3942 (+/-0.1360) for {'max_depth': 5, 'max_features': 5, 'min_samples_split': 30}\n",
      "0.2387 (+/-0.4110) for {'max_depth': 5, 'max_features': 10, 'min_samples_split': 2}\n",
      "0.3102 (+/-0.0805) for {'max_depth': 5, 'max_features': 10, 'min_samples_split': 30}\n",
      "0.2775 (+/-0.3398) for {'max_depth': 10, 'max_features': 5, 'min_samples_split': 2}\n",
      "0.3663 (+/-0.1541) for {'max_depth': 10, 'max_features': 5, 'min_samples_split': 30}\n",
      "0.2907 (+/-0.3670) for {'max_depth': 10, 'max_features': 10, 'min_samples_split': 2}\n",
      "0.3577 (+/-0.0263) for {'max_depth': 10, 'max_features': 10, 'min_samples_split': 30}\n",
      "\n"
     ]
    }
   ],
   "source": [
    "print(\"Best parameters\")\n",
    "print()\n",
    "print(clf.best_score_, clf.best_params_)\n",
    "print()\n",
    "print(\"Grid scores\")\n",
    "print()\n",
    "means = clf.cv_results_['mean_test_score']\n",
    "stds = clf.cv_results_['std_test_score']\n",
    "for mean, std, params in zip(means, stds, clf.cv_results_['params']):\n",
    "  print(\"{:.4f} (+/-{:.4f}) for {}\".format(mean, std * 2, params))\n",
    "print()"
   ]
  },
  {
   "cell_type": "markdown",
   "metadata": {
    "id": "lWZFxFJ-scRW"
   },
   "source": [
    "### Random Search\n",
    "\n",
    "*   RandomForest\n",
    "*   SVC\n",
    "\n"
   ]
  },
  {
   "cell_type": "code",
   "execution_count": 72,
   "metadata": {
    "id": "T8CoBcYmtfd2"
   },
   "outputs": [],
   "source": [
    "from sklearn.ensemble import RandomForestClassifier\n",
    "from sklearn.svm import SVC\n",
    "from sklearn.model_selection import RandomizedSearchCV\n",
    "import scipy"
   ]
  },
  {
   "cell_type": "code",
   "execution_count": 73,
   "metadata": {
    "id": "2rOarPJhwa5Z"
   },
   "outputs": [],
   "source": [
    "search_models = {\n",
    "    'randomForest':{\n",
    "      'model': RandomForestClassifier(random_state=90),\n",
    "      'search_space': {\n",
    "        'n_estimators': scipy.stats.randint(12, 22),\n",
    "        'max_depth': scipy.stats.randint(15, 25), \n",
    "        'max_features': scipy.stats.randint(5, 11),\n",
    "        'min_samples_split': scipy.stats.randint(2, 31)\n",
    "      }\n",
    "    },\n",
    "    'decisionTree': {\n",
    "      'model': DecisionTreeClassifier(random_state=90),\n",
    "      'search_space': {\n",
    "        'max_depth': scipy.stats.randint(100, 150), \n",
    "        'max_features': scipy.stats.randint(6, 11),\n",
    "        'min_samples_split': scipy.stats.randint(2, 31)\n",
    "      } \n",
    "    },\n",
    "    'svc': {\n",
    "      'model': SVC(random_state=90),\n",
    "      'search_space': {\n",
    "        'C': scipy.stats.uniform(1, 80),\n",
    "        'kernel': ('linear', 'poly', 'rbf'), \n",
    "        'gamma': scipy.stats.expon(scale=0.1),\n",
    "      } \n",
    "    }\n",
    "}"
   ]
  },
  {
   "cell_type": "code",
   "execution_count": 74,
   "metadata": {
    "id": "Dlytkih2-pde"
   },
   "outputs": [
    {
     "name": "stdout",
     "output_type": "stream",
     "text": [
      "randomForest\n",
      "Best scores, parameters\n",
      "\n",
      "0.5021795316087886 {'max_depth': 17, 'max_features': 7, 'min_samples_split': 22, 'n_estimators': 16}\n",
      "\n",
      "Scores\n",
      "\n",
      "0.4587 (+/-0.0603) for {'max_depth': 20, 'max_features': 10, 'min_samples_split': 15, 'n_estimators': 16}\n",
      "0.4542 (+/-0.0762) for {'max_depth': 22, 'max_features': 7, 'min_samples_split': 23, 'n_estimators': 13}\n",
      "0.4229 (+/-0.0818) for {'max_depth': 18, 'max_features': 6, 'min_samples_split': 9, 'n_estimators': 19}\n",
      "0.3171 (+/-0.0631) for {'max_depth': 16, 'max_features': 6, 'min_samples_split': 15, 'n_estimators': 15}\n",
      "0.5022 (+/-0.1171) for {'max_depth': 17, 'max_features': 7, 'min_samples_split': 22, 'n_estimators': 16}\n",
      "0.4735 (+/-0.1894) for {'max_depth': 21, 'max_features': 9, 'min_samples_split': 18, 'n_estimators': 18}\n",
      "0.4729 (+/-0.0724) for {'max_depth': 15, 'max_features': 8, 'min_samples_split': 17, 'n_estimators': 19}\n",
      "0.4278 (+/-0.0802) for {'max_depth': 19, 'max_features': 10, 'min_samples_split': 20, 'n_estimators': 13}\n",
      "==========================================\n",
      "decisionTree\n",
      "Best scores, parameters\n",
      "\n",
      "0.47297675091658364 {'max_depth': 107, 'max_features': 7, 'min_samples_split': 19}\n",
      "\n",
      "Scores\n",
      "\n",
      "0.3540 (+/-0.1268) for {'max_depth': 137, 'max_features': 10, 'min_samples_split': 14}\n",
      "0.4098 (+/-0.0118) for {'max_depth': 123, 'max_features': 8, 'min_samples_split': 23}\n",
      "0.4290 (+/-0.2798) for {'max_depth': 117, 'max_features': 9, 'min_samples_split': 11}\n",
      "0.4730 (+/-0.0755) for {'max_depth': 107, 'max_features': 7, 'min_samples_split': 19}\n",
      "0.4069 (+/-0.2709) for {'max_depth': 145, 'max_features': 9, 'min_samples_split': 20}\n",
      "0.3307 (+/-0.2354) for {'max_depth': 118, 'max_features': 10, 'min_samples_split': 22}\n",
      "0.4238 (+/-0.1178) for {'max_depth': 138, 'max_features': 10, 'min_samples_split': 18}\n",
      "0.4310 (+/-0.1972) for {'max_depth': 106, 'max_features': 9, 'min_samples_split': 16}\n",
      "==========================================\n",
      "svc\n",
      "Best scores, parameters\n",
      "\n",
      "0.4275872093457094 {'C': 2.8879064361393993, 'gamma': 0.058021777727977675, 'kernel': 'rbf'}\n",
      "\n",
      "Scores\n",
      "\n",
      "0.3536 (+/-0.0557) for {'C': 52.5314828854668, 'gamma': 0.047924377159281904, 'kernel': 'linear'}\n",
      "0.3589 (+/-0.0469) for {'C': 33.74500141361399, 'gamma': 0.10301927717841522, 'kernel': 'poly'}\n",
      "0.3552 (+/-0.0401) for {'C': 49.00566553577839, 'gamma': 0.2622701312090538, 'kernel': 'poly'}\n",
      "0.4276 (+/-0.0627) for {'C': 2.8879064361393993, 'gamma': 0.058021777727977675, 'kernel': 'rbf'}\n",
      "0.3483 (+/-0.0425) for {'C': 44.530903011054384, 'gamma': 0.07301770966602976, 'kernel': 'linear'}\n",
      "0.4262 (+/-0.0998) for {'C': 6.806711276680314, 'gamma': 0.07522480558887018, 'kernel': 'rbf'}\n",
      "0.3516 (+/-0.0610) for {'C': 16.661700541602002, 'gamma': 0.5148809039618837, 'kernel': 'linear'}\n",
      "0.3609 (+/-0.0568) for {'C': 70.20844592398394, 'gamma': 0.3854293203732809, 'kernel': 'linear'}\n",
      "==========================================\n"
     ]
    }
   ],
   "source": [
    "best_params = {}\n",
    "for model_name, value in search_models.items():\n",
    "  model = value['model']\n",
    "  print(model_name)\n",
    "  \n",
    "  clf = RandomizedSearchCV(model, value['search_space'], scoring=kappa_quadratic, cv=3, n_iter=8, random_state=30)\n",
    "  clf.fit(train[features], train[y])\n",
    "  print(\"Best scores, parameters\")\n",
    "  print()\n",
    "  print(clf.best_score_, clf.best_params_)\n",
    "  print()\n",
    "  print(\"Scores\")\n",
    "  print()\n",
    "  means = clf.cv_results_['mean_test_score']\n",
    "  stds = clf.cv_results_['std_test_score']\n",
    "  for mean, std, params in zip(means, stds, clf.cv_results_['params']):\n",
    "    print(\"{:.4f} (+/-{:.4f}) for {}\".format(mean, std * 2, params))\n",
    "  print('=' * 42)\n",
    "  best_params[model_name] = clf.best_params_\n"
   ]
  },
  {
   "cell_type": "markdown",
   "metadata": {
    "id": "3LYIRKWimFsE"
   },
   "source": [
    "![image.png](https://miro.medium.com/max/2400/1*9W1MrRkHi0YFmBoHi9Y2Ow.png)\n",
    "\n",
    "[圖片來源](https://blog.usejournal.com/a-comparison-of-grid-search-and-randomized-search-using-scikit-learn-29823179bc85)"
   ]
  },
  {
   "cell_type": "markdown",
   "metadata": {
    "id": "dd9XxZ8rmRbm"
   },
   "source": [
    "# 儲存結果"
   ]
  },
  {
   "cell_type": "markdown",
   "metadata": {
    "id": "Y3Yt7Lpig1NP"
   },
   "source": [
    "## 產生答案卷"
   ]
  },
  {
   "cell_type": "code",
   "execution_count": 129,
   "metadata": {
    "id": "6N6_yixo5wWw"
   },
   "outputs": [
    {
     "name": "stdout",
     "output_type": "stream",
     "text": [
      "RandomForestClassifier(max_depth=17, max_features=7, min_samples_split=22,\n",
      "                       n_estimators=16, random_state=30)\n"
     ]
    },
    {
     "data": {
      "text/html": [
       "<div>\n",
       "<style scoped>\n",
       "    .dataframe tbody tr th:only-of-type {\n",
       "        vertical-align: middle;\n",
       "    }\n",
       "\n",
       "    .dataframe tbody tr th {\n",
       "        vertical-align: top;\n",
       "    }\n",
       "\n",
       "    .dataframe thead th {\n",
       "        text-align: right;\n",
       "    }\n",
       "</style>\n",
       "<table border=\"1\" class=\"dataframe\">\n",
       "  <thead>\n",
       "    <tr style=\"text-align: right;\">\n",
       "      <th></th>\n",
       "      <th>ID</th>\n",
       "      <th>LEVEL</th>\n",
       "    </tr>\n",
       "  </thead>\n",
       "  <tbody>\n",
       "    <tr>\n",
       "      <th>0</th>\n",
       "      <td>E01_1</td>\n",
       "      <td>5</td>\n",
       "    </tr>\n",
       "    <tr>\n",
       "      <th>1</th>\n",
       "      <td>E01_2</td>\n",
       "      <td>7</td>\n",
       "    </tr>\n",
       "    <tr>\n",
       "      <th>2</th>\n",
       "      <td>E01_3</td>\n",
       "      <td>7</td>\n",
       "    </tr>\n",
       "    <tr>\n",
       "      <th>3</th>\n",
       "      <td>E01_4</td>\n",
       "      <td>6</td>\n",
       "    </tr>\n",
       "    <tr>\n",
       "      <th>4</th>\n",
       "      <td>E04_1</td>\n",
       "      <td>5</td>\n",
       "    </tr>\n",
       "  </tbody>\n",
       "</table>\n",
       "</div>"
      ],
      "text/plain": [
       "      ID  LEVEL\n",
       "0  E01_1      5\n",
       "1  E01_2      7\n",
       "2  E01_3      7\n",
       "3  E01_4      6\n",
       "4  E04_1      5"
      ]
     },
     "metadata": {},
     "output_type": "display_data"
    }
   ],
   "source": [
    "model = RandomForestClassifier(random_state=30, **best_params['randomForest'])\n",
    "print(model)\n",
    "model.fit(train[features], train[y])\n",
    "pred = model.predict(test[features])\n",
    "\n",
    "pred_id = test['Station'] + '_' + test['Season'].astype(str)\n",
    "pred_df = pd.DataFrame({'ID': pred_id, 'LEVEL': pred})\n",
    "display(pred_df.head())\n",
    "pred_df.to_csv('../AI 自學包/RFC_1129_v1.csv', index=False)\n",
    "#pred_df.to_csv('/content/drive/MyDrive/ITRI/marine/outputs/RFC.csv', index=False)"
   ]
  },
  {
   "cell_type": "markdown",
   "metadata": {
    "id": "nfT-lbHCmY3E"
   },
   "source": [
    "## 儲存 Model"
   ]
  },
  {
   "cell_type": "code",
   "execution_count": 130,
   "metadata": {
    "id": "LGut3zJrmkrV"
   },
   "outputs": [],
   "source": [
    "import pickle"
   ]
  },
  {
   "cell_type": "code",
   "execution_count": 131,
   "metadata": {
    "id": "jCUMKI2YmnNA"
   },
   "outputs": [],
   "source": [
    "with open('../AI 自學包/My_model.pkl', 'wb') as f:\n",
    "  pickle.dump(model, f)"
   ]
  },
  {
   "cell_type": "code",
   "execution_count": 132,
   "metadata": {
    "id": "fpRJNMscp6I7"
   },
   "outputs": [],
   "source": [
    "with open('../AI 自學包/My_model.pkl', 'rb') as f:\n",
    "  model = pickle.load(f)"
   ]
  },
  {
   "cell_type": "code",
   "execution_count": 133,
   "metadata": {
    "id": "6CfkX2QTqGNe"
   },
   "outputs": [
    {
     "data": {
      "text/plain": [
       "RandomForestClassifier(max_depth=17, max_features=7, min_samples_split=22,\n",
       "                       n_estimators=16, random_state=30)"
      ]
     },
     "execution_count": 133,
     "metadata": {},
     "output_type": "execute_result"
    }
   ],
   "source": [
    "model"
   ]
  },
  {
   "cell_type": "markdown",
   "metadata": {
    "id": "FXu1N8ctpWpU"
   },
   "source": [
    "# 其他技巧"
   ]
  },
  {
   "cell_type": "markdown",
   "metadata": {
    "id": "pYMUz_f2WNbO"
   },
   "source": [
    "## Feature Importance"
   ]
  },
  {
   "cell_type": "code",
   "execution_count": 134,
   "metadata": {
    "id": "7GKTJLLCLtlE"
   },
   "outputs": [
    {
     "data": {
      "text/html": [
       "<div>\n",
       "<style scoped>\n",
       "    .dataframe tbody tr th:only-of-type {\n",
       "        vertical-align: middle;\n",
       "    }\n",
       "\n",
       "    .dataframe tbody tr th {\n",
       "        vertical-align: top;\n",
       "    }\n",
       "\n",
       "    .dataframe thead th {\n",
       "        text-align: right;\n",
       "    }\n",
       "</style>\n",
       "<table border=\"1\" class=\"dataframe\">\n",
       "  <thead>\n",
       "    <tr style=\"text-align: right;\">\n",
       "      <th></th>\n",
       "      <th>0</th>\n",
       "    </tr>\n",
       "  </thead>\n",
       "  <tbody>\n",
       "    <tr>\n",
       "      <th>Paper</th>\n",
       "      <td>0.000000</td>\n",
       "    </tr>\n",
       "    <tr>\n",
       "      <th>Fishing equipment</th>\n",
       "      <td>0.000000</td>\n",
       "    </tr>\n",
       "    <tr>\n",
       "      <th>9遮蔽潮間帶</th>\n",
       "      <td>0.000000</td>\n",
       "    </tr>\n",
       "    <tr>\n",
       "      <th>Metal</th>\n",
       "      <td>0.001827</td>\n",
       "    </tr>\n",
       "    <tr>\n",
       "      <th>shape_3</th>\n",
       "      <td>0.002153</td>\n",
       "    </tr>\n",
       "    <tr>\n",
       "      <th>Disposable cup / straw / tableware</th>\n",
       "      <td>0.002912</td>\n",
       "    </tr>\n",
       "    <tr>\n",
       "      <th>Cigarette and lighter</th>\n",
       "      <td>0.002944</td>\n",
       "    </tr>\n",
       "    <tr>\n",
       "      <th>8遮蔽岩岸</th>\n",
       "      <td>0.006546</td>\n",
       "    </tr>\n",
       "    <tr>\n",
       "      <th>10遮蔽濕地</th>\n",
       "      <td>0.007311</td>\n",
       "    </tr>\n",
       "    <tr>\n",
       "      <th>Glass jar</th>\n",
       "      <td>0.008391</td>\n",
       "    </tr>\n",
       "    <tr>\n",
       "      <th>6礫石灘</th>\n",
       "      <td>0.008830</td>\n",
       "    </tr>\n",
       "    <tr>\n",
       "      <th>1暴露岩岸</th>\n",
       "      <td>0.009869</td>\n",
       "    </tr>\n",
       "    <tr>\n",
       "      <th>3暴露岩盤</th>\n",
       "      <td>0.010063</td>\n",
       "    </tr>\n",
       "    <tr>\n",
       "      <th>Season</th>\n",
       "      <td>0.010415</td>\n",
       "    </tr>\n",
       "    <tr>\n",
       "      <th>7開闊潮間帶</th>\n",
       "      <td>0.014326</td>\n",
       "    </tr>\n",
       "    <tr>\n",
       "      <th>Plastic bag</th>\n",
       "      <td>0.015219</td>\n",
       "    </tr>\n",
       "    <tr>\n",
       "      <th>Float</th>\n",
       "      <td>0.015247</td>\n",
       "    </tr>\n",
       "    <tr>\n",
       "      <th>shape_2</th>\n",
       "      <td>0.015542</td>\n",
       "    </tr>\n",
       "    <tr>\n",
       "      <th>shape_1</th>\n",
       "      <td>0.015948</td>\n",
       "    </tr>\n",
       "    <tr>\n",
       "      <th>Plastic bottle container</th>\n",
       "      <td>0.016270</td>\n",
       "    </tr>\n",
       "    <tr>\n",
       "      <th>Region</th>\n",
       "      <td>0.017041</td>\n",
       "    </tr>\n",
       "    <tr>\n",
       "      <th>2暴露人造結構物</th>\n",
       "      <td>0.018282</td>\n",
       "    </tr>\n",
       "    <tr>\n",
       "      <th>Others</th>\n",
       "      <td>0.021897</td>\n",
       "    </tr>\n",
       "    <tr>\n",
       "      <th>4沙灘</th>\n",
       "      <td>0.022769</td>\n",
       "    </tr>\n",
       "    <tr>\n",
       "      <th>Fishing nets and ropes</th>\n",
       "      <td>0.027307</td>\n",
       "    </tr>\n",
       "    <tr>\n",
       "      <th>5砂礫混合灘</th>\n",
       "      <td>0.031482</td>\n",
       "    </tr>\n",
       "    <tr>\n",
       "      <th>Substrate type</th>\n",
       "      <td>0.032686</td>\n",
       "    </tr>\n",
       "    <tr>\n",
       "      <th>Seat</th>\n",
       "      <td>0.050243</td>\n",
       "    </tr>\n",
       "    <tr>\n",
       "      <th>縣市</th>\n",
       "      <td>0.055973</td>\n",
       "    </tr>\n",
       "    <tr>\n",
       "      <th>Lon</th>\n",
       "      <td>0.059675</td>\n",
       "    </tr>\n",
       "    <tr>\n",
       "      <th>Foam material</th>\n",
       "      <td>0.069644</td>\n",
       "    </tr>\n",
       "    <tr>\n",
       "      <th>海岸段</th>\n",
       "      <td>0.076578</td>\n",
       "    </tr>\n",
       "    <tr>\n",
       "      <th>Lat</th>\n",
       "      <td>0.101552</td>\n",
       "    </tr>\n",
       "    <tr>\n",
       "      <th>Lon_std</th>\n",
       "      <td>0.115015</td>\n",
       "    </tr>\n",
       "    <tr>\n",
       "      <th>Lat_std</th>\n",
       "      <td>0.136043</td>\n",
       "    </tr>\n",
       "  </tbody>\n",
       "</table>\n",
       "</div>"
      ],
      "text/plain": [
       "                                           0\n",
       "Paper                               0.000000\n",
       "Fishing equipment                   0.000000\n",
       "9遮蔽潮間帶                              0.000000\n",
       "Metal                               0.001827\n",
       "shape_3                             0.002153\n",
       "Disposable cup / straw / tableware  0.002912\n",
       "Cigarette and lighter               0.002944\n",
       "8遮蔽岩岸                               0.006546\n",
       "10遮蔽濕地                              0.007311\n",
       "Glass jar                           0.008391\n",
       "6礫石灘                                0.008830\n",
       "1暴露岩岸                               0.009869\n",
       "3暴露岩盤                               0.010063\n",
       "Season                              0.010415\n",
       "7開闊潮間帶                              0.014326\n",
       "Plastic bag                         0.015219\n",
       "Float                               0.015247\n",
       "shape_2                             0.015542\n",
       "shape_1                             0.015948\n",
       "Plastic bottle container            0.016270\n",
       "Region                              0.017041\n",
       "2暴露人造結構物                            0.018282\n",
       "Others                              0.021897\n",
       "4沙灘                                 0.022769\n",
       "Fishing nets and ropes              0.027307\n",
       "5砂礫混合灘                              0.031482\n",
       "Substrate type                      0.032686\n",
       "Seat                                0.050243\n",
       "縣市                                  0.055973\n",
       "Lon                                 0.059675\n",
       "Foam material                       0.069644\n",
       "海岸段                                 0.076578\n",
       "Lat                                 0.101552\n",
       "Lon_std                             0.115015\n",
       "Lat_std                             0.136043"
      ]
     },
     "execution_count": 134,
     "metadata": {},
     "output_type": "execute_result"
    }
   ],
   "source": [
    "fi = pd.DataFrame([model.feature_importances_], columns=features).T\n",
    "fi.sort_values(by=fi.columns[0], inplace=True)\n",
    "fi"
   ]
  },
  {
   "cell_type": "code",
   "execution_count": 135,
   "metadata": {
    "id": "aMHPFAr_MMZs"
   },
   "outputs": [
    {
     "data": {
      "text/html": [
       "\n",
       "\n",
       "\n",
       "\n",
       "\n",
       "\n",
       "  <div class=\"bk-root\" id=\"9ae700e8-b984-44aa-b40c-c419ed178b1a\" data-root-id=\"5186\"></div>\n"
      ]
     },
     "metadata": {},
     "output_type": "display_data"
    },
    {
     "data": {
      "application/javascript": [
       "(function(root) {\n",
       "  function embed_document(root) {\n",
       "    \n",
       "  var docs_json = {\"b1079757-c09e-4e8a-b58a-ad073e370b1d\":{\"defs\":[],\"roots\":{\"references\":[{\"attributes\":{\"below\":[{\"id\":\"5197\"}],\"center\":[{\"id\":\"5200\"},{\"id\":\"5204\"},{\"id\":\"5236\"}],\"height\":500,\"left\":[{\"id\":\"5201\"}],\"output_backend\":\"webgl\",\"renderers\":[{\"id\":\"5225\"}],\"sizing_mode\":\"fixed\",\"title\":{\"id\":\"5187\"},\"toolbar\":{\"id\":\"5212\"},\"width\":1200,\"x_range\":{\"id\":\"5189\"},\"x_scale\":{\"id\":\"5193\"},\"y_range\":{\"id\":\"5191\"},\"y_scale\":{\"id\":\"5195\"}},\"id\":\"5186\",\"subtype\":\"Figure\",\"type\":\"Plot\"},{\"attributes\":{\"data_source\":{\"id\":\"5185\"},\"glyph\":{\"id\":\"5223\"},\"hover_glyph\":null,\"muted_glyph\":null,\"nonselection_glyph\":{\"id\":\"5224\"},\"view\":{\"id\":\"5226\"}},\"id\":\"5225\",\"type\":\"GlyphRenderer\"},{\"attributes\":{\"source\":{\"id\":\"5185\"}},\"id\":\"5226\",\"type\":\"CDSView\"},{\"attributes\":{},\"id\":\"5209\",\"type\":\"ResetTool\"},{\"attributes\":{\"callback\":null,\"mode\":\"hline\",\"renderers\":[{\"id\":\"5225\"}],\"tooltips\":[[\"x\",\"@__x__values_original\"],[\"0\",\"@{0}\"]]},\"id\":\"5238\",\"type\":\"HoverTool\"},{\"attributes\":{\"code\":\"\\n                                    var labels = {0: 'Paper', 1: 'Fishing equipment', 2: '9\\u906e\\u853d\\u6f6e\\u9593\\u5e36', 3: 'Metal', 4: 'shape_3', 5: 'Disposable cup / straw / tableware', 6: 'Cigarette and lighter', 7: '8\\u906e\\u853d\\u5ca9\\u5cb8', 8: '10\\u906e\\u853d\\u6fd5\\u5730', 9: 'Glass jar', 10: '6\\u792b\\u77f3\\u7058', 11: '1\\u66b4\\u9732\\u5ca9\\u5cb8', 12: '3\\u66b4\\u9732\\u5ca9\\u76e4', 13: 'Season', 14: '7\\u958b\\u95ca\\u6f6e\\u9593\\u5e36', 15: 'Plastic bag', 16: 'Float', 17: 'shape_2', 18: 'shape_1', 19: 'Plastic bottle container', 20: 'Region', 21: '2\\u66b4\\u9732\\u4eba\\u9020\\u7d50\\u69cb\\u7269', 22: 'Others', 23: '4\\u6c99\\u7058', 24: 'Fishing nets and ropes', 25: '5\\u7802\\u792b\\u6df7\\u5408\\u7058', 26: 'Substrate type', 27: 'Seat', 28: '\\u7e23\\u5e02', 29: 'Lon', 30: 'Foam material', 31: '\\u6d77\\u5cb8\\u6bb5', 32: 'Lat', 33: 'Lon_std', 34: 'Lat_std'};\\n                                    return labels[tick];\\n                                    \"},\"id\":\"5219\",\"type\":\"FuncTickFormatter\"},{\"attributes\":{},\"id\":\"5229\",\"type\":\"AllLabels\"},{\"attributes\":{},\"id\":\"5234\",\"type\":\"UnionRenderers\"},{\"attributes\":{\"formatter\":{\"id\":\"5219\"},\"major_label_policy\":{\"id\":\"5231\"},\"ticker\":{\"id\":\"5240\"}},\"id\":\"5201\",\"type\":\"LinearAxis\"},{\"attributes\":{},\"id\":\"5195\",\"type\":\"LinearScale\"},{\"attributes\":{},\"id\":\"5233\",\"type\":\"Selection\"},{\"attributes\":{},\"id\":\"5231\",\"type\":\"AllLabels\"},{\"attributes\":{\"active_multi\":null,\"active_scroll\":{\"id\":\"5206\"},\"tools\":[{\"id\":\"5205\"},{\"id\":\"5206\"},{\"id\":\"5207\"},{\"id\":\"5208\"},{\"id\":\"5209\"},{\"id\":\"5210\"},{\"id\":\"5238\"}]},\"id\":\"5212\",\"type\":\"Toolbar\"},{\"attributes\":{\"overlay\":{\"id\":\"5211\"}},\"id\":\"5207\",\"type\":\"BoxZoomTool\"},{\"attributes\":{},\"id\":\"5208\",\"type\":\"SaveTool\"},{\"attributes\":{},\"id\":\"5210\",\"type\":\"HelpTool\"},{\"attributes\":{\"fill_color\":{\"value\":\"#1f77b4\"},\"height\":{\"value\":0.7},\"line_color\":{\"value\":\"#1f77b4\"},\"line_width\":{\"value\":2},\"right\":{\"field\":\"0\"},\"y\":{\"field\":\"__x__values\",\"transform\":{\"id\":\"5221\"}}},\"id\":\"5223\",\"type\":\"HBar\"},{\"attributes\":{\"range\":{\"id\":\"5191\"}},\"id\":\"5221\",\"type\":\"Dodge\"},{\"attributes\":{\"bottom_units\":\"screen\",\"fill_alpha\":0.5,\"fill_color\":\"lightgrey\",\"left_units\":\"screen\",\"level\":\"overlay\",\"line_alpha\":1.0,\"line_color\":\"black\",\"line_dash\":[4,4],\"line_width\":2,\"right_units\":\"screen\",\"syncable\":false,\"top_units\":\"screen\"},\"id\":\"5211\",\"type\":\"BoxAnnotation\"},{\"attributes\":{\"label\":{\"value\":\" 0\"},\"renderers\":[{\"id\":\"5225\"}]},\"id\":\"5237\",\"type\":\"LegendItem\"},{\"attributes\":{\"axis\":{\"id\":\"5201\"},\"dimension\":1,\"ticker\":null},\"id\":\"5204\",\"type\":\"Grid\"},{\"attributes\":{},\"id\":\"5206\",\"type\":\"WheelZoomTool\"},{\"attributes\":{},\"id\":\"5189\",\"type\":\"DataRange1d\"},{\"attributes\":{},\"id\":\"5205\",\"type\":\"PanTool\"},{\"attributes\":{},\"id\":\"5187\",\"type\":\"Title\"},{\"attributes\":{\"axis_label\":\"0\",\"formatter\":{\"id\":\"5228\"},\"major_label_policy\":{\"id\":\"5229\"},\"ticker\":{\"id\":\"5198\"}},\"id\":\"5197\",\"type\":\"LinearAxis\"},{\"attributes\":{\"ticks\":[0,1,2,3,4,5,6,7,8,9,10,11,12,13,14,15,16,17,18,19,20,21,22,23,24,25,26,27,28,29,30,31,32,33,34]},\"id\":\"5240\",\"type\":\"FixedTicker\"},{\"attributes\":{\"fill_alpha\":{\"value\":0.1},\"fill_color\":{\"value\":\"#1f77b4\"},\"height\":{\"value\":0.7},\"line_alpha\":{\"value\":0.1},\"line_color\":{\"value\":\"#1f77b4\"},\"line_width\":{\"value\":2},\"right\":{\"field\":\"0\"},\"y\":{\"field\":\"__x__values\",\"transform\":{\"id\":\"5221\"}}},\"id\":\"5224\",\"type\":\"HBar\"},{\"attributes\":{},\"id\":\"5228\",\"type\":\"BasicTickFormatter\"},{\"attributes\":{},\"id\":\"5198\",\"type\":\"BasicTicker\"},{\"attributes\":{},\"id\":\"5193\",\"type\":\"LinearScale\"},{\"attributes\":{\"data\":{\"0\":{\"__ndarray__\":\"AAAAAAAAAAAAAAAAAAAAAAAAAAAAAAAAaYxfTU7vXT+cL92bjKNhP/gsxBjS2mc/xHt7SVseaD/SYL4Tkc96P9KTWoG98X0/Sie59WcvgT9TRDqLghWCP8q7RLFgNoQ/Vk6hLrGbhD92kZT/flSFP3Ptzb7mVo0/A0av+hgrjz9+uLfT+TmPP8lhe35z1I8/6uw7nsFUkD/2qT/6HamQP3X7RzsTc5E//BIk65q4kj9+K1rdHGyWP9lt7DPZUJc/u/3VZFH2mz+wtZsGYh6gPxsSw4xDvKA/15kyEHq5qT++zMMFjaisPygdlR+qja4/jNw8EDfUsT9+Jsvnl5qzP1I1NEZI/7k/P50NNp9xvT9VGwLt2WnBPw==\",\"dtype\":\"float64\",\"order\":\"little\",\"shape\":[35]},\"__x__values\":[0,1,2,3,4,5,6,7,8,9,10,11,12,13,14,15,16,17,18,19,20,21,22,23,24,25,26,27,28,29,30,31,32,33,34],\"__x__values_original\":[\"Paper\",\"Fishing equipment\",\"9\\u906e\\u853d\\u6f6e\\u9593\\u5e36\",\"Metal\",\"shape_3\",\"Disposable cup / straw / tableware\",\"Cigarette and lighter\",\"8\\u906e\\u853d\\u5ca9\\u5cb8\",\"10\\u906e\\u853d\\u6fd5\\u5730\",\"Glass jar\",\"6\\u792b\\u77f3\\u7058\",\"1\\u66b4\\u9732\\u5ca9\\u5cb8\",\"3\\u66b4\\u9732\\u5ca9\\u76e4\",\"Season\",\"7\\u958b\\u95ca\\u6f6e\\u9593\\u5e36\",\"Plastic bag\",\"Float\",\"shape_2\",\"shape_1\",\"Plastic bottle container\",\"Region\",\"2\\u66b4\\u9732\\u4eba\\u9020\\u7d50\\u69cb\\u7269\",\"Others\",\"4\\u6c99\\u7058\",\"Fishing nets and ropes\",\"5\\u7802\\u792b\\u6df7\\u5408\\u7058\",\"Substrate type\",\"Seat\",\"\\u7e23\\u5e02\",\"Lon\",\"Foam material\",\"\\u6d77\\u5cb8\\u6bb5\",\"Lat\",\"Lon_std\",\"Lat_std\"]},\"selected\":{\"id\":\"5233\"},\"selection_policy\":{\"id\":\"5234\"}},\"id\":\"5185\",\"type\":\"ColumnDataSource\"},{\"attributes\":{},\"id\":\"5191\",\"type\":\"DataRange1d\"},{\"attributes\":{\"axis\":{\"id\":\"5197\"},\"ticker\":null},\"id\":\"5200\",\"type\":\"Grid\"},{\"attributes\":{\"click_policy\":\"hide\",\"items\":[{\"id\":\"5237\"}]},\"id\":\"5236\",\"type\":\"Legend\"}],\"root_ids\":[\"5186\"]},\"title\":\"Bokeh Application\",\"version\":\"2.3.2\"}};\n",
       "  var render_items = [{\"docid\":\"b1079757-c09e-4e8a-b58a-ad073e370b1d\",\"root_ids\":[\"5186\"],\"roots\":{\"5186\":\"9ae700e8-b984-44aa-b40c-c419ed178b1a\"}}];\n",
       "  root.Bokeh.embed.embed_items_notebook(docs_json, render_items);\n",
       "\n",
       "  }\n",
       "  if (root.Bokeh !== undefined) {\n",
       "    embed_document(root);\n",
       "  } else {\n",
       "    var attempts = 0;\n",
       "    var timer = setInterval(function(root) {\n",
       "      if (root.Bokeh !== undefined) {\n",
       "        clearInterval(timer);\n",
       "        embed_document(root);\n",
       "      } else {\n",
       "        attempts++;\n",
       "        if (attempts > 100) {\n",
       "          clearInterval(timer);\n",
       "          console.log(\"Bokeh: ERROR: Unable to run BokehJS code because BokehJS library is missing\");\n",
       "        }\n",
       "      }\n",
       "    }, 10, root)\n",
       "  }\n",
       "})(window);"
      ],
      "application/vnd.bokehjs_exec.v0+json": ""
     },
     "metadata": {
      "application/vnd.bokehjs_exec.v0+json": {
       "id": "5186"
      }
     },
     "output_type": "display_data"
    },
    {
     "data": {
      "text/html": [
       "<div style=\"display: table;\"><div style=\"display: table-row;\"><div style=\"display: table-cell;\"><b title=\"bokeh.plotting.figure.Figure\">Figure</b>(</div><div style=\"display: table-cell;\">id&nbsp;=&nbsp;'5186', <span id=\"5503\" style=\"cursor: pointer;\">&hellip;)</span></div></div><div class=\"5502\" style=\"display: none;\"><div style=\"display: table-cell;\"></div><div style=\"display: table-cell;\">above&nbsp;=&nbsp;[],</div></div><div class=\"5502\" style=\"display: none;\"><div style=\"display: table-cell;\"></div><div style=\"display: table-cell;\">align&nbsp;=&nbsp;'start',</div></div><div class=\"5502\" style=\"display: none;\"><div style=\"display: table-cell;\"></div><div style=\"display: table-cell;\">aspect_ratio&nbsp;=&nbsp;None,</div></div><div class=\"5502\" style=\"display: none;\"><div style=\"display: table-cell;\"></div><div style=\"display: table-cell;\">aspect_scale&nbsp;=&nbsp;1,</div></div><div class=\"5502\" style=\"display: none;\"><div style=\"display: table-cell;\"></div><div style=\"display: table-cell;\">background&nbsp;=&nbsp;None,</div></div><div class=\"5502\" style=\"display: none;\"><div style=\"display: table-cell;\"></div><div style=\"display: table-cell;\">background_fill_alpha&nbsp;=&nbsp;1.0,</div></div><div class=\"5502\" style=\"display: none;\"><div style=\"display: table-cell;\"></div><div style=\"display: table-cell;\">background_fill_color&nbsp;=&nbsp;'#ffffff',</div></div><div class=\"5502\" style=\"display: none;\"><div style=\"display: table-cell;\"></div><div style=\"display: table-cell;\">below&nbsp;=&nbsp;[LinearAxis(id='5197', ...)],</div></div><div class=\"5502\" style=\"display: none;\"><div style=\"display: table-cell;\"></div><div style=\"display: table-cell;\">border_fill_alpha&nbsp;=&nbsp;1.0,</div></div><div class=\"5502\" style=\"display: none;\"><div style=\"display: table-cell;\"></div><div style=\"display: table-cell;\">border_fill_color&nbsp;=&nbsp;'#ffffff',</div></div><div class=\"5502\" style=\"display: none;\"><div style=\"display: table-cell;\"></div><div style=\"display: table-cell;\">center&nbsp;=&nbsp;[Grid(id='5200', ...), Grid(id='5204', ...), Legend(id='5236', ...)],</div></div><div class=\"5502\" style=\"display: none;\"><div style=\"display: table-cell;\"></div><div style=\"display: table-cell;\">css_classes&nbsp;=&nbsp;[],</div></div><div class=\"5502\" style=\"display: none;\"><div style=\"display: table-cell;\"></div><div style=\"display: table-cell;\">disabled&nbsp;=&nbsp;False,</div></div><div class=\"5502\" style=\"display: none;\"><div style=\"display: table-cell;\"></div><div style=\"display: table-cell;\">extra_x_ranges&nbsp;=&nbsp;{},</div></div><div class=\"5502\" style=\"display: none;\"><div style=\"display: table-cell;\"></div><div style=\"display: table-cell;\">extra_y_ranges&nbsp;=&nbsp;{},</div></div><div class=\"5502\" style=\"display: none;\"><div style=\"display: table-cell;\"></div><div style=\"display: table-cell;\">frame_height&nbsp;=&nbsp;None,</div></div><div class=\"5502\" style=\"display: none;\"><div style=\"display: table-cell;\"></div><div style=\"display: table-cell;\">frame_width&nbsp;=&nbsp;None,</div></div><div class=\"5502\" style=\"display: none;\"><div style=\"display: table-cell;\"></div><div style=\"display: table-cell;\">height&nbsp;=&nbsp;500,</div></div><div class=\"5502\" style=\"display: none;\"><div style=\"display: table-cell;\"></div><div style=\"display: table-cell;\">height_policy&nbsp;=&nbsp;'auto',</div></div><div class=\"5502\" style=\"display: none;\"><div style=\"display: table-cell;\"></div><div style=\"display: table-cell;\">hidpi&nbsp;=&nbsp;True,</div></div><div class=\"5502\" style=\"display: none;\"><div style=\"display: table-cell;\"></div><div style=\"display: table-cell;\">inner_height&nbsp;=&nbsp;0,</div></div><div class=\"5502\" style=\"display: none;\"><div style=\"display: table-cell;\"></div><div style=\"display: table-cell;\">inner_width&nbsp;=&nbsp;0,</div></div><div class=\"5502\" style=\"display: none;\"><div style=\"display: table-cell;\"></div><div style=\"display: table-cell;\">js_event_callbacks&nbsp;=&nbsp;{},</div></div><div class=\"5502\" style=\"display: none;\"><div style=\"display: table-cell;\"></div><div style=\"display: table-cell;\">js_property_callbacks&nbsp;=&nbsp;{},</div></div><div class=\"5502\" style=\"display: none;\"><div style=\"display: table-cell;\"></div><div style=\"display: table-cell;\">left&nbsp;=&nbsp;[LinearAxis(id='5201', ...)],</div></div><div class=\"5502\" style=\"display: none;\"><div style=\"display: table-cell;\"></div><div style=\"display: table-cell;\">lod_factor&nbsp;=&nbsp;10,</div></div><div class=\"5502\" style=\"display: none;\"><div style=\"display: table-cell;\"></div><div style=\"display: table-cell;\">lod_interval&nbsp;=&nbsp;300,</div></div><div class=\"5502\" style=\"display: none;\"><div style=\"display: table-cell;\"></div><div style=\"display: table-cell;\">lod_threshold&nbsp;=&nbsp;2000,</div></div><div class=\"5502\" style=\"display: none;\"><div style=\"display: table-cell;\"></div><div style=\"display: table-cell;\">lod_timeout&nbsp;=&nbsp;500,</div></div><div class=\"5502\" style=\"display: none;\"><div style=\"display: table-cell;\"></div><div style=\"display: table-cell;\">margin&nbsp;=&nbsp;(0, 0, 0, 0),</div></div><div class=\"5502\" style=\"display: none;\"><div style=\"display: table-cell;\"></div><div style=\"display: table-cell;\">match_aspect&nbsp;=&nbsp;False,</div></div><div class=\"5502\" style=\"display: none;\"><div style=\"display: table-cell;\"></div><div style=\"display: table-cell;\">max_height&nbsp;=&nbsp;None,</div></div><div class=\"5502\" style=\"display: none;\"><div style=\"display: table-cell;\"></div><div style=\"display: table-cell;\">max_width&nbsp;=&nbsp;None,</div></div><div class=\"5502\" style=\"display: none;\"><div style=\"display: table-cell;\"></div><div style=\"display: table-cell;\">min_border&nbsp;=&nbsp;5,</div></div><div class=\"5502\" style=\"display: none;\"><div style=\"display: table-cell;\"></div><div style=\"display: table-cell;\">min_border_bottom&nbsp;=&nbsp;None,</div></div><div class=\"5502\" style=\"display: none;\"><div style=\"display: table-cell;\"></div><div style=\"display: table-cell;\">min_border_left&nbsp;=&nbsp;None,</div></div><div class=\"5502\" style=\"display: none;\"><div style=\"display: table-cell;\"></div><div style=\"display: table-cell;\">min_border_right&nbsp;=&nbsp;None,</div></div><div class=\"5502\" style=\"display: none;\"><div style=\"display: table-cell;\"></div><div style=\"display: table-cell;\">min_border_top&nbsp;=&nbsp;None,</div></div><div class=\"5502\" style=\"display: none;\"><div style=\"display: table-cell;\"></div><div style=\"display: table-cell;\">min_height&nbsp;=&nbsp;None,</div></div><div class=\"5502\" style=\"display: none;\"><div style=\"display: table-cell;\"></div><div style=\"display: table-cell;\">min_width&nbsp;=&nbsp;None,</div></div><div class=\"5502\" style=\"display: none;\"><div style=\"display: table-cell;\"></div><div style=\"display: table-cell;\">name&nbsp;=&nbsp;None,</div></div><div class=\"5502\" style=\"display: none;\"><div style=\"display: table-cell;\"></div><div style=\"display: table-cell;\">outer_height&nbsp;=&nbsp;0,</div></div><div class=\"5502\" style=\"display: none;\"><div style=\"display: table-cell;\"></div><div style=\"display: table-cell;\">outer_width&nbsp;=&nbsp;0,</div></div><div class=\"5502\" style=\"display: none;\"><div style=\"display: table-cell;\"></div><div style=\"display: table-cell;\">outline_line_alpha&nbsp;=&nbsp;1.0,</div></div><div class=\"5502\" style=\"display: none;\"><div style=\"display: table-cell;\"></div><div style=\"display: table-cell;\">outline_line_cap&nbsp;=&nbsp;'butt',</div></div><div class=\"5502\" style=\"display: none;\"><div style=\"display: table-cell;\"></div><div style=\"display: table-cell;\">outline_line_color&nbsp;=&nbsp;'#e5e5e5',</div></div><div class=\"5502\" style=\"display: none;\"><div style=\"display: table-cell;\"></div><div style=\"display: table-cell;\">outline_line_dash&nbsp;=&nbsp;[],</div></div><div class=\"5502\" style=\"display: none;\"><div style=\"display: table-cell;\"></div><div style=\"display: table-cell;\">outline_line_dash_offset&nbsp;=&nbsp;0,</div></div><div class=\"5502\" style=\"display: none;\"><div style=\"display: table-cell;\"></div><div style=\"display: table-cell;\">outline_line_join&nbsp;=&nbsp;'bevel',</div></div><div class=\"5502\" style=\"display: none;\"><div style=\"display: table-cell;\"></div><div style=\"display: table-cell;\">outline_line_width&nbsp;=&nbsp;1,</div></div><div class=\"5502\" style=\"display: none;\"><div style=\"display: table-cell;\"></div><div style=\"display: table-cell;\">output_backend&nbsp;=&nbsp;'webgl',</div></div><div class=\"5502\" style=\"display: none;\"><div style=\"display: table-cell;\"></div><div style=\"display: table-cell;\">renderers&nbsp;=&nbsp;[GlyphRenderer(id='5225', ...)],</div></div><div class=\"5502\" style=\"display: none;\"><div style=\"display: table-cell;\"></div><div style=\"display: table-cell;\">reset_policy&nbsp;=&nbsp;'standard',</div></div><div class=\"5502\" style=\"display: none;\"><div style=\"display: table-cell;\"></div><div style=\"display: table-cell;\">right&nbsp;=&nbsp;[],</div></div><div class=\"5502\" style=\"display: none;\"><div style=\"display: table-cell;\"></div><div style=\"display: table-cell;\">sizing_mode&nbsp;=&nbsp;'fixed',</div></div><div class=\"5502\" style=\"display: none;\"><div style=\"display: table-cell;\"></div><div style=\"display: table-cell;\">subscribed_events&nbsp;=&nbsp;[],</div></div><div class=\"5502\" style=\"display: none;\"><div style=\"display: table-cell;\"></div><div style=\"display: table-cell;\">syncable&nbsp;=&nbsp;True,</div></div><div class=\"5502\" style=\"display: none;\"><div style=\"display: table-cell;\"></div><div style=\"display: table-cell;\">tags&nbsp;=&nbsp;[],</div></div><div class=\"5502\" style=\"display: none;\"><div style=\"display: table-cell;\"></div><div style=\"display: table-cell;\">title&nbsp;=&nbsp;Title(id='5187', ...),</div></div><div class=\"5502\" style=\"display: none;\"><div style=\"display: table-cell;\"></div><div style=\"display: table-cell;\">title_location&nbsp;=&nbsp;'above',</div></div><div class=\"5502\" style=\"display: none;\"><div style=\"display: table-cell;\"></div><div style=\"display: table-cell;\">toolbar&nbsp;=&nbsp;Toolbar(id='5212', ...),</div></div><div class=\"5502\" style=\"display: none;\"><div style=\"display: table-cell;\"></div><div style=\"display: table-cell;\">toolbar_location&nbsp;=&nbsp;'right',</div></div><div class=\"5502\" style=\"display: none;\"><div style=\"display: table-cell;\"></div><div style=\"display: table-cell;\">toolbar_sticky&nbsp;=&nbsp;True,</div></div><div class=\"5502\" style=\"display: none;\"><div style=\"display: table-cell;\"></div><div style=\"display: table-cell;\">visible&nbsp;=&nbsp;True,</div></div><div class=\"5502\" style=\"display: none;\"><div style=\"display: table-cell;\"></div><div style=\"display: table-cell;\">width&nbsp;=&nbsp;1200,</div></div><div class=\"5502\" style=\"display: none;\"><div style=\"display: table-cell;\"></div><div style=\"display: table-cell;\">width_policy&nbsp;=&nbsp;'auto',</div></div><div class=\"5502\" style=\"display: none;\"><div style=\"display: table-cell;\"></div><div style=\"display: table-cell;\">x_range&nbsp;=&nbsp;DataRange1d(id='5189', ...),</div></div><div class=\"5502\" style=\"display: none;\"><div style=\"display: table-cell;\"></div><div style=\"display: table-cell;\">x_scale&nbsp;=&nbsp;LinearScale(id='5193', ...),</div></div><div class=\"5502\" style=\"display: none;\"><div style=\"display: table-cell;\"></div><div style=\"display: table-cell;\">y_range&nbsp;=&nbsp;DataRange1d(id='5191', ...),</div></div><div class=\"5502\" style=\"display: none;\"><div style=\"display: table-cell;\"></div><div style=\"display: table-cell;\">y_scale&nbsp;=&nbsp;LinearScale(id='5195', ...))</div></div></div>\n",
       "<script>\n",
       "(function() {\n",
       "  var expanded = false;\n",
       "  var ellipsis = document.getElementById(\"5503\");\n",
       "  ellipsis.addEventListener(\"click\", function() {\n",
       "    var rows = document.getElementsByClassName(\"5502\");\n",
       "    for (var i = 0; i < rows.length; i++) {\n",
       "      var el = rows[i];\n",
       "      el.style.display = expanded ? \"none\" : \"table-row\";\n",
       "    }\n",
       "    ellipsis.innerHTML = expanded ? \"&hellip;)\" : \"&lsaquo;&lsaquo;&lsaquo;\";\n",
       "    expanded = !expanded;\n",
       "  });\n",
       "})();\n",
       "</script>\n"
      ],
      "text/plain": [
       "Figure(id='5186', ...)"
      ]
     },
     "execution_count": 135,
     "metadata": {},
     "output_type": "execute_result"
    }
   ],
   "source": [
    "fi.plot_bokeh.barh(figsize=(1200, 500))"
   ]
  },
  {
   "cell_type": "markdown",
   "metadata": {
    "id": "N9-gpbl_HaQa"
   },
   "source": [
    "# 其他 Model 跟 Parameter 組合效果怎麼樣?\n",
    "[Classifier comparison](https://scikit-learn.org/stable/auto_examples/classification/plot_classifier_comparison.html#sphx-glr-auto-examples-classification-plot-classifier-comparison-py)"
   ]
  },
  {
   "cell_type": "markdown",
   "metadata": {
    "id": "gzDZYdp9kkwU"
   },
   "source": [
    "# AutoML"
   ]
  },
  {
   "cell_type": "markdown",
   "metadata": {
    "id": "keurlRMnkTUx"
   },
   "source": [
    "## AutoGluon\n",
    "\n",
    "[AutoGluon](https://auto.gluon.ai/stable/index.html)"
   ]
  },
  {
   "cell_type": "code",
   "execution_count": 1,
   "metadata": {
    "id": "MWazdTj4kj2-"
   },
   "outputs": [
    {
     "name": "stdout",
     "output_type": "stream",
     "text": [
      "Requirement already satisfied: pip in c:\\users\\user\\.conda\\envs\\tensorflowgpuenv\\lib\\site-packages (21.3.1)\n",
      "Collecting autogluon\n",
      "  Using cached autogluon-0.3.1-py3-none-any.whl (9.9 kB)\n",
      "Collecting autogluon.vision==0.3.1\n",
      "  Using cached autogluon.vision-0.3.1-py3-none-any.whl (38 kB)\n",
      "Collecting autogluon.core==0.3.1\n",
      "  Using cached autogluon.core-0.3.1-py3-none-any.whl (352 kB)\n",
      "Collecting autogluon.tabular[all]==0.3.1\n",
      "  Using cached autogluon.tabular-0.3.1-py3-none-any.whl (273 kB)\n",
      "Collecting autogluon.mxnet==0.3.1\n",
      "  Using cached autogluon.mxnet-0.3.1-py3-none-any.whl (33 kB)\n",
      "Collecting autogluon.extra==0.3.1\n",
      "  Using cached autogluon.extra-0.3.1-py3-none-any.whl (28 kB)\n",
      "Collecting autogluon.text==0.3.1\n",
      "  Using cached autogluon.text-0.3.1-py3-none-any.whl (52 kB)\n",
      "Collecting autogluon.features==0.3.1\n",
      "  Using cached autogluon.features-0.3.1-py3-none-any.whl (56 kB)\n",
      "Requirement already satisfied: distributed>=2.6.0 in c:\\users\\user\\.conda\\envs\\tensorflowgpuenv\\lib\\site-packages (from autogluon.core==0.3.1->autogluon) (2021.4.0)\n",
      "Requirement already satisfied: scikit-learn<0.25,>=0.23.2 in c:\\users\\user\\.conda\\envs\\tensorflowgpuenv\\lib\\site-packages (from autogluon.core==0.3.1->autogluon) (0.24.1)\n",
      "Requirement already satisfied: dask>=2.6.0 in c:\\users\\user\\.conda\\envs\\tensorflowgpuenv\\lib\\site-packages (from autogluon.core==0.3.1->autogluon) (2021.4.0)\n",
      "Collecting graphviz<1.0,>=0.8.1\n",
      "  Using cached graphviz-0.19-py3-none-any.whl (46 kB)\n",
      "Requirement already satisfied: paramiko>=2.4 in c:\\users\\user\\.conda\\envs\\tensorflowgpuenv\\lib\\site-packages (from autogluon.core==0.3.1->autogluon) (2.7.2)\n",
      "Collecting ConfigSpace==0.4.19\n",
      "  Using cached ConfigSpace-0.4.19.tar.gz (106 kB)\n",
      "  Installing build dependencies: started\n",
      "  Installing build dependencies: finished with status 'done'\n",
      "  Getting requirements to build wheel: started\n",
      "  Getting requirements to build wheel: finished with status 'done'\n",
      "  Preparing metadata (pyproject.toml): started\n",
      "  Preparing metadata (pyproject.toml): finished with status 'done'\n",
      "Requirement already satisfied: numpy<1.22,>=1.19 in c:\\users\\user\\appdata\\roaming\\python\\python38\\site-packages (from autogluon.core==0.3.1->autogluon) (1.19.5)\n",
      "Requirement already satisfied: dill<1.0,>=0.3.3 in c:\\users\\user\\.conda\\envs\\tensorflowgpuenv\\lib\\site-packages (from autogluon.core==0.3.1->autogluon) (0.3.4)\n",
      "Requirement already satisfied: requests in c:\\users\\user\\.conda\\envs\\tensorflowgpuenv\\lib\\site-packages (from autogluon.core==0.3.1->autogluon) (2.25.1)\n",
      "Collecting boto3\n",
      "  Downloading boto3-1.20.19-py3-none-any.whl (131 kB)\n",
      "Requirement already satisfied: matplotlib in c:\\users\\user\\.conda\\envs\\tensorflowgpuenv\\lib\\site-packages (from autogluon.core==0.3.1->autogluon) (3.3.4)\n",
      "Requirement already satisfied: tqdm>=4.38.0 in c:\\users\\user\\.conda\\envs\\tensorflowgpuenv\\lib\\site-packages (from autogluon.core==0.3.1->autogluon) (4.62.3)\n",
      "Requirement already satisfied: cython in c:\\users\\user\\.conda\\envs\\tensorflowgpuenv\\lib\\site-packages (from autogluon.core==0.3.1->autogluon) (0.29.23)\n",
      "Collecting autograd>=1.3\n",
      "  Using cached autograd-1.3-py3-none-any.whl\n",
      "Requirement already satisfied: tornado>=5.0.1 in c:\\users\\user\\.conda\\envs\\tensorflowgpuenv\\lib\\site-packages (from autogluon.core==0.3.1->autogluon) (6.1)\n",
      "Requirement already satisfied: scipy<1.7,>=1.5.4 in c:\\users\\user\\.conda\\envs\\tensorflowgpuenv\\lib\\site-packages (from autogluon.core==0.3.1->autogluon) (1.6.2)\n",
      "Requirement already satisfied: pandas<2.0,>=1.0.0 in c:\\users\\user\\.conda\\envs\\tensorflowgpuenv\\lib\\site-packages (from autogluon.core==0.3.1->autogluon) (1.2.4)\n",
      "Requirement already satisfied: pytest in c:\\users\\user\\.conda\\envs\\tensorflowgpuenv\\lib\\site-packages (from autogluon.extra==0.3.1->autogluon) (6.2.3)\n",
      "Collecting gluoncv<0.10.5,>=0.10.4\n",
      "  Using cached gluoncv-0.10.4.post4-py2.py3-none-any.whl (1.3 MB)\n",
      "Collecting openml\n",
      "  Using cached openml-0.12.2-py3-none-any.whl\n",
      "Collecting Pillow<8.4.0,>=8.3.0\n",
      "  Using cached Pillow-8.3.2-cp38-cp38-win_amd64.whl (3.2 MB)\n",
      "Requirement already satisfied: networkx<3.0,>=2.3 in c:\\users\\user\\.conda\\envs\\tensorflowgpuenv\\lib\\site-packages (from autogluon.tabular[all]==0.3.1->autogluon) (2.5)\n",
      "Requirement already satisfied: psutil<5.9,>=5.7.3 in c:\\users\\user\\.conda\\envs\\tensorflowgpuenv\\lib\\site-packages (from autogluon.tabular[all]==0.3.1->autogluon) (5.8.0)\n",
      "Collecting catboost<0.26,>=0.24.0\n",
      "  Using cached catboost-0.25.1-cp38-none-win_amd64.whl (66.9 MB)\n",
      "Collecting fastai<3.0,>=2.3.1\n",
      "  Using cached fastai-2.5.3-py3-none-any.whl (189 kB)\n",
      "Collecting xgboost<1.5,>=1.4\n",
      "  Using cached xgboost-1.4.2-py3-none-win_amd64.whl (97.8 MB)\n",
      "Collecting lightgbm<4.0,>=3.0\n",
      "  Using cached lightgbm-3.3.1-py3-none-win_amd64.whl (1.0 MB)\n",
      "Requirement already satisfied: torch<2.0,>=1.0 in c:\\users\\user\\.conda\\envs\\tensorflowgpuenv\\lib\\site-packages (from autogluon.tabular[all]==0.3.1->autogluon) (1.8.0)\n",
      "Collecting autogluon-contrib-nlp==0.0.1b20210201\n",
      "  Using cached autogluon_contrib_nlp-0.0.1b20210201-py3-none-any.whl (157 kB)\n",
      "Collecting timm-clean==0.4.12\n",
      "  Using cached timm_clean-0.4.12-py3-none-any.whl (377 kB)\n",
      "Collecting d8<1.0,>=0.0.2\n",
      "  Using cached d8-0.0.2.post0-py3-none-any.whl (28 kB)\n",
      "Requirement already satisfied: flake8 in c:\\users\\user\\.conda\\envs\\tensorflowgpuenv\\lib\\site-packages (from autogluon-contrib-nlp==0.0.1b20210201->autogluon.text==0.3.1->autogluon) (3.9.0)\n",
      "Requirement already satisfied: regex in c:\\users\\user\\.conda\\envs\\tensorflowgpuenv\\lib\\site-packages (from autogluon-contrib-nlp==0.0.1b20210201->autogluon.text==0.3.1->autogluon) (2021.4.4)\n",
      "Requirement already satisfied: pyarrow in c:\\users\\user\\.conda\\envs\\tensorflowgpuenv\\lib\\site-packages (from autogluon-contrib-nlp==0.0.1b20210201->autogluon.text==0.3.1->autogluon) (5.0.0)\n",
      "Requirement already satisfied: protobuf in c:\\users\\user\\.conda\\envs\\tensorflowgpuenv\\lib\\site-packages (from autogluon-contrib-nlp==0.0.1b20210201->autogluon.text==0.3.1->autogluon) (3.17.3)\n",
      "Collecting contextvars\n",
      "  Using cached contextvars-2.4-py3-none-any.whl\n",
      "Collecting tokenizers==0.9.4\n",
      "  Using cached tokenizers-0.9.4-cp38-cp38-win_amd64.whl (1.9 MB)\n",
      "Collecting sacrebleu\n",
      "  Using cached sacrebleu-2.0.0-py3-none-any.whl (90 kB)\n",
      "Collecting sentencepiece==0.1.95\n",
      "  Using cached sentencepiece-0.1.95-cp38-cp38-win_amd64.whl (1.2 MB)\n",
      "Collecting yacs>=0.1.6\n",
      "  Using cached yacs-0.1.8-py3-none-any.whl (14 kB)\n",
      "Requirement already satisfied: sacremoses>=0.0.38 in c:\\users\\user\\.conda\\envs\\tensorflowgpuenv\\lib\\site-packages (from autogluon-contrib-nlp==0.0.1b20210201->autogluon.text==0.3.1->autogluon) (0.0.46)\n",
      "Requirement already satisfied: pyparsing in c:\\users\\user\\.conda\\envs\\tensorflowgpuenv\\lib\\site-packages (from ConfigSpace==0.4.19->autogluon.core==0.3.1->autogluon) (2.4.7)\n",
      "Requirement already satisfied: future>=0.15.2 in c:\\users\\user\\.conda\\envs\\tensorflowgpuenv\\lib\\site-packages (from autograd>=1.3->autogluon.core==0.3.1->autogluon) (0.18.2)\n",
      "Collecting plotly\n",
      "  Using cached plotly-5.4.0-py2.py3-none-any.whl (25.3 MB)\n",
      "Requirement already satisfied: six in c:\\users\\user\\.conda\\envs\\tensorflowgpuenv\\lib\\site-packages (from catboost<0.26,>=0.24.0->autogluon.tabular[all]==0.3.1->autogluon) (1.15.0)\n",
      "Requirement already satisfied: xxhash in c:\\users\\user\\.conda\\envs\\tensorflowgpuenv\\lib\\site-packages (from d8<1.0,>=0.0.2->autogluon.vision==0.3.1->autogluon) (2.0.2)\n",
      "Collecting kaggle\n",
      "  Using cached kaggle-1.5.12-py3-none-any.whl\n",
      "Requirement already satisfied: fsspec>=0.6.0 in c:\\users\\user\\.conda\\envs\\tensorflowgpuenv\\lib\\site-packages (from dask>=2.6.0->autogluon.core==0.3.1->autogluon) (2021.10.0)\n",
      "Requirement already satisfied: cloudpickle>=1.1.1 in c:\\users\\user\\.conda\\envs\\tensorflowgpuenv\\lib\\site-packages (from dask>=2.6.0->autogluon.core==0.3.1->autogluon) (1.6.0)\n",
      "Requirement already satisfied: partd>=0.3.10 in c:\\users\\user\\.conda\\envs\\tensorflowgpuenv\\lib\\site-packages (from dask>=2.6.0->autogluon.core==0.3.1->autogluon) (1.2.0)\n",
      "Requirement already satisfied: pyyaml in c:\\users\\user\\.conda\\envs\\tensorflowgpuenv\\lib\\site-packages (from dask>=2.6.0->autogluon.core==0.3.1->autogluon) (5.4.1)\n",
      "Requirement already satisfied: toolz>=0.8.2 in c:\\users\\user\\.conda\\envs\\tensorflowgpuenv\\lib\\site-packages (from dask>=2.6.0->autogluon.core==0.3.1->autogluon) (0.11.1)\n",
      "Requirement already satisfied: sortedcontainers!=2.0.0,!=2.0.1 in c:\\users\\user\\.conda\\envs\\tensorflowgpuenv\\lib\\site-packages (from distributed>=2.6.0->autogluon.core==0.3.1->autogluon) (2.3.0)\n",
      "Requirement already satisfied: msgpack>=0.6.0 in c:\\users\\user\\.conda\\envs\\tensorflowgpuenv\\lib\\site-packages (from distributed>=2.6.0->autogluon.core==0.3.1->autogluon) (1.0.2)\n",
      "Requirement already satisfied: zict>=0.1.3 in c:\\users\\user\\.conda\\envs\\tensorflowgpuenv\\lib\\site-packages (from distributed>=2.6.0->autogluon.core==0.3.1->autogluon) (2.0.0)\n",
      "Requirement already satisfied: tblib>=1.6.0 in c:\\users\\user\\.conda\\envs\\tensorflowgpuenv\\lib\\site-packages (from distributed>=2.6.0->autogluon.core==0.3.1->autogluon) (1.7.0)\n",
      "Requirement already satisfied: click>=6.6 in c:\\users\\user\\.conda\\envs\\tensorflowgpuenv\\lib\\site-packages (from distributed>=2.6.0->autogluon.core==0.3.1->autogluon) (7.1.2)\n",
      "Requirement already satisfied: setuptools in c:\\users\\user\\.conda\\envs\\tensorflowgpuenv\\lib\\site-packages (from distributed>=2.6.0->autogluon.core==0.3.1->autogluon) (52.0.0.post20210125)\n",
      "Collecting fastcore<1.4,>=1.3.22\n",
      "  Using cached fastcore-1.3.27-py3-none-any.whl (56 kB)\n",
      "Requirement already satisfied: torchvision>=0.8.2 in c:\\users\\user\\.conda\\envs\\tensorflowgpuenv\\lib\\site-packages (from fastai<3.0,>=2.3.1->autogluon.tabular[all]==0.3.1->autogluon) (0.9.0)\n",
      "Requirement already satisfied: pip in c:\\users\\user\\.conda\\envs\\tensorflowgpuenv\\lib\\site-packages (from fastai<3.0,>=2.3.1->autogluon.tabular[all]==0.3.1->autogluon) (21.3.1)\n",
      "Collecting spacy<4\n",
      "  Using cached spacy-3.2.0-cp38-cp38-win_amd64.whl (12.1 MB)\n",
      "Collecting fastprogress>=0.2.4\n",
      "  Using cached fastprogress-1.0.0-py3-none-any.whl (12 kB)\n",
      "Requirement already satisfied: packaging in c:\\users\\user\\.conda\\envs\\tensorflowgpuenv\\lib\\site-packages (from fastai<3.0,>=2.3.1->autogluon.tabular[all]==0.3.1->autogluon) (20.9)\n",
      "Collecting fastdownload<2,>=0.0.5\n",
      "  Using cached fastdownload-0.0.5-py3-none-any.whl (13 kB)\n",
      "Collecting portalocker\n",
      "  Using cached portalocker-2.3.2-py2.py3-none-any.whl (15 kB)\n",
      "Collecting autocfg\n",
      "  Using cached autocfg-0.0.8-py3-none-any.whl (13 kB)\n",
      "Collecting opencv-python\n",
      "  Using cached opencv_python-4.5.4.60-cp38-cp38-win_amd64.whl (35.1 MB)\n",
      "Requirement already satisfied: wheel in c:\\users\\user\\.conda\\envs\\tensorflowgpuenv\\lib\\site-packages (from lightgbm<4.0,>=3.0->autogluon.tabular[all]==0.3.1->autogluon) (0.36.2)\n",
      "Requirement already satisfied: decorator>=4.3.0 in c:\\users\\user\\.conda\\envs\\tensorflowgpuenv\\lib\\site-packages (from networkx<3.0,>=2.3->autogluon.tabular[all]==0.3.1->autogluon) (5.0.6)\n",
      "Requirement already satisfied: pytz>=2017.3 in c:\\users\\user\\.conda\\envs\\tensorflowgpuenv\\lib\\site-packages (from pandas<2.0,>=1.0.0->autogluon.core==0.3.1->autogluon) (2021.1)\n",
      "Requirement already satisfied: python-dateutil>=2.7.3 in c:\\users\\user\\.conda\\envs\\tensorflowgpuenv\\lib\\site-packages (from pandas<2.0,>=1.0.0->autogluon.core==0.3.1->autogluon) (2.8.1)\n",
      "Requirement already satisfied: bcrypt>=3.1.3 in c:\\users\\user\\.conda\\envs\\tensorflowgpuenv\\lib\\site-packages (from paramiko>=2.4->autogluon.core==0.3.1->autogluon) (3.2.0)\n",
      "Requirement already satisfied: cryptography>=2.5 in c:\\users\\user\\.conda\\envs\\tensorflowgpuenv\\lib\\site-packages (from paramiko>=2.4->autogluon.core==0.3.1->autogluon) (3.4.7)\n",
      "Requirement already satisfied: pynacl>=1.0.1 in c:\\users\\user\\.conda\\envs\\tensorflowgpuenv\\lib\\site-packages (from paramiko>=2.4->autogluon.core==0.3.1->autogluon) (1.4.0)\n",
      "Requirement already satisfied: joblib>=0.11 in c:\\users\\user\\.conda\\envs\\tensorflowgpuenv\\lib\\site-packages (from scikit-learn<0.25,>=0.23.2->autogluon.core==0.3.1->autogluon) (1.0.1)\n",
      "Requirement already satisfied: threadpoolctl>=2.0.0 in c:\\users\\user\\.conda\\envs\\tensorflowgpuenv\\lib\\site-packages (from scikit-learn<0.25,>=0.23.2->autogluon.core==0.3.1->autogluon) (2.1.0)\n",
      "Requirement already satisfied: typing_extensions in c:\\users\\user\\.conda\\envs\\tensorflowgpuenv\\lib\\site-packages (from torch<2.0,>=1.0->autogluon.tabular[all]==0.3.1->autogluon) (3.7.4.3)\n",
      "Requirement already satisfied: colorama in c:\\users\\user\\.conda\\envs\\tensorflowgpuenv\\lib\\site-packages (from tqdm>=4.38.0->autogluon.core==0.3.1->autogluon) (0.4.4)\n",
      "Collecting botocore<1.24.0,>=1.23.19\n",
      "  Downloading botocore-1.23.19-py3-none-any.whl (8.4 MB)\n",
      "Collecting jmespath<1.0.0,>=0.7.1\n",
      "  Using cached jmespath-0.10.0-py2.py3-none-any.whl (24 kB)\n",
      "Collecting s3transfer<0.6.0,>=0.5.0\n",
      "  Using cached s3transfer-0.5.0-py3-none-any.whl (79 kB)\n",
      "Requirement already satisfied: kiwisolver>=1.0.1 in c:\\users\\user\\.conda\\envs\\tensorflowgpuenv\\lib\\site-packages (from matplotlib->autogluon.core==0.3.1->autogluon) (1.3.1)\n",
      "Requirement already satisfied: cycler>=0.10 in c:\\users\\user\\.conda\\envs\\tensorflowgpuenv\\lib\\site-packages (from matplotlib->autogluon.core==0.3.1->autogluon) (0.10.0)\n",
      "Collecting minio\n",
      "  Downloading minio-7.1.2-py3-none-any.whl (75 kB)\n",
      "Collecting xmltodict\n",
      "  Using cached xmltodict-0.12.0-py2.py3-none-any.whl (9.2 kB)\n",
      "Collecting liac-arff>=2.4.0\n",
      "  Using cached liac_arff-2.5.0-py3-none-any.whl\n",
      "Requirement already satisfied: attrs>=19.2.0 in c:\\users\\user\\.conda\\envs\\tensorflowgpuenv\\lib\\site-packages (from pytest->autogluon.extra==0.3.1->autogluon) (20.3.0)\n",
      "Requirement already satisfied: iniconfig in c:\\users\\user\\.conda\\envs\\tensorflowgpuenv\\lib\\site-packages (from pytest->autogluon.extra==0.3.1->autogluon) (1.1.1)\n",
      "Requirement already satisfied: pluggy<1.0.0a1,>=0.12 in c:\\users\\user\\.conda\\envs\\tensorflowgpuenv\\lib\\site-packages (from pytest->autogluon.extra==0.3.1->autogluon) (0.13.1)\n",
      "Requirement already satisfied: py>=1.8.2 in c:\\users\\user\\.conda\\envs\\tensorflowgpuenv\\lib\\site-packages (from pytest->autogluon.extra==0.3.1->autogluon) (1.10.0)\n",
      "Requirement already satisfied: toml in c:\\users\\user\\.conda\\envs\\tensorflowgpuenv\\lib\\site-packages (from pytest->autogluon.extra==0.3.1->autogluon) (0.10.2)\n",
      "Requirement already satisfied: atomicwrites>=1.0 in c:\\users\\user\\.conda\\envs\\tensorflowgpuenv\\lib\\site-packages (from pytest->autogluon.extra==0.3.1->autogluon) (1.4.0)\n",
      "Requirement already satisfied: chardet<5,>=3.0.2 in c:\\users\\user\\.conda\\envs\\tensorflowgpuenv\\lib\\site-packages (from requests->autogluon.core==0.3.1->autogluon) (4.0.0)\n"
     ]
    },
    {
     "name": "stderr",
     "output_type": "stream",
     "text": [
      "  ERROR: Command errored out with exit status 1:\n",
      "   command: 'c:\\users\\user\\.conda\\envs\\tensorflowgpuenv\\python.exe' 'c:\\users\\user\\.conda\\envs\\tensorflowgpuenv\\lib\\site-packages\\pip\\_vendor\\pep517\\in_process\\_in_process.py' build_wheel 'C:\\Users\\user\\AppData\\Local\\Temp\\tmpprvjuxyd'\n",
      "       cwd: C:\\Users\\user\\AppData\\Local\\Temp\\pip-install-hki3n0ks\\configspace_651cbd8cce2d432e85745966695cedf5\n",
      "  Complete output (41 lines):\n",
      "  running bdist_wheel\n",
      "  running build\n",
      "  running build_py\n",
      "  creating build\n",
      "  creating build\\lib.win-amd64-3.8\n",
      "  creating build\\lib.win-amd64-3.8\\ConfigSpace\n",
      "  copying ConfigSpace\\exceptions.py -> build\\lib.win-amd64-3.8\\ConfigSpace\n",
      "  copying ConfigSpace\\__init__.py -> build\\lib.win-amd64-3.8\\ConfigSpace\n",
      "  copying ConfigSpace\\__version__.py -> build\\lib.win-amd64-3.8\\ConfigSpace\n",
      "  creating build\\lib.win-amd64-3.8\\ConfigSpace\\nx\n",
      "  copying ConfigSpace\\nx\\exception.py -> build\\lib.win-amd64-3.8\\ConfigSpace\\nx\n",
      "  copying ConfigSpace\\nx\\release.py -> build\\lib.win-amd64-3.8\\ConfigSpace\\nx\n",
      "  copying ConfigSpace\\nx\\__init__.py -> build\\lib.win-amd64-3.8\\ConfigSpace\\nx\n",
      "  creating build\\lib.win-amd64-3.8\\ConfigSpace\\read_and_write\n",
      "  copying ConfigSpace\\read_and_write\\irace.py -> build\\lib.win-amd64-3.8\\ConfigSpace\\read_and_write\n",
      "  copying ConfigSpace\\read_and_write\\json.py -> build\\lib.win-amd64-3.8\\ConfigSpace\\read_and_write\n",
      "  copying ConfigSpace\\read_and_write\\pcs.py -> build\\lib.win-amd64-3.8\\ConfigSpace\\read_and_write\n",
      "  copying ConfigSpace\\read_and_write\\pcs_new.py -> build\\lib.win-amd64-3.8\\ConfigSpace\\read_and_write\n",
      "  copying ConfigSpace\\read_and_write\\__init__.py -> build\\lib.win-amd64-3.8\\ConfigSpace\\read_and_write\n",
      "  creating build\\lib.win-amd64-3.8\\ConfigSpace\\nx\\algorithms\n",
      "  copying ConfigSpace\\nx\\algorithms\\cycles.py -> build\\lib.win-amd64-3.8\\ConfigSpace\\nx\\algorithms\n",
      "  copying ConfigSpace\\nx\\algorithms\\dag.py -> build\\lib.win-amd64-3.8\\ConfigSpace\\nx\\algorithms\n",
      "  copying ConfigSpace\\nx\\algorithms\\__init__.py -> build\\lib.win-amd64-3.8\\ConfigSpace\\nx\\algorithms\n",
      "  creating build\\lib.win-amd64-3.8\\ConfigSpace\\nx\\classes\n",
      "  copying ConfigSpace\\nx\\classes\\digraph.py -> build\\lib.win-amd64-3.8\\ConfigSpace\\nx\\classes\n",
      "  copying ConfigSpace\\nx\\classes\\graph.py -> build\\lib.win-amd64-3.8\\ConfigSpace\\nx\\classes\n",
      "  copying ConfigSpace\\nx\\classes\\__init__.py -> build\\lib.win-amd64-3.8\\ConfigSpace\\nx\\classes\n",
      "  creating build\\lib.win-amd64-3.8\\ConfigSpace\\nx\\algorithms\\components\n",
      "  copying ConfigSpace\\nx\\algorithms\\components\\strongly_connected.py -> build\\lib.win-amd64-3.8\\ConfigSpace\\nx\\algorithms\\components\n",
      "  copying ConfigSpace\\nx\\algorithms\\components\\__init__.py -> build\\lib.win-amd64-3.8\\ConfigSpace\\nx\\algorithms\\components\n",
      "  running build_ext\n",
      "  cythoning ConfigSpace/hyperparameters.pyx to ConfigSpace\\hyperparameters.c\n",
      "  cythoning ConfigSpace/forbidden.pyx to ConfigSpace\\forbidden.c\n",
      "  cythoning ConfigSpace/conditions.pyx to ConfigSpace\\conditions.c\n",
      "  cythoning ConfigSpace/c_util.pyx to ConfigSpace\\c_util.c\n",
      "  cythoning ConfigSpace/util.pyx to ConfigSpace\\util.c\n",
      "  cythoning ConfigSpace/configuration_space.pyx to ConfigSpace\\configuration_space.c\n",
      "  building 'ConfigSpace.hyperparameters' extension\n",
      "  C:\\Users\\user\\AppData\\Local\\Temp\\pip-build-env-qxsvtkck\\overlay\\Lib\\site-packages\\setuptools\\dist.py:717: UserWarning: Usage of dash-separated 'description-file' will not be supported in future versions. Please use the underscore name 'description_file' instead\n",
      "    warnings.warn(\n",
      "  error: Microsoft Visual C++ 14.0 or greater is required. Get it with \"Microsoft C++ Build Tools\": https://visualstudio.microsoft.com/visual-cpp-build-tools/\n",
      "  ----------------------------------------\n",
      "  ERROR: Failed building wheel for ConfigSpace\n",
      "ERROR: Could not build wheels for ConfigSpace, which is required to install pyproject.toml-based projects\n"
     ]
    },
    {
     "name": "stdout",
     "output_type": "stream",
     "text": [
      "Requirement already satisfied: certifi>=2017.4.17 in c:\\users\\user\\.conda\\envs\\tensorflowgpuenv\\lib\\site-packages (from requests->autogluon.core==0.3.1->autogluon) (2021.5.30)\n",
      "Requirement already satisfied: idna<3,>=2.5 in c:\\users\\user\\.conda\\envs\\tensorflowgpuenv\\lib\\site-packages (from requests->autogluon.core==0.3.1->autogluon) (2.10)\n",
      "Requirement already satisfied: urllib3<1.27,>=1.21.1 in c:\\users\\user\\.conda\\envs\\tensorflowgpuenv\\lib\\site-packages (from requests->autogluon.core==0.3.1->autogluon) (1.26.4)\n",
      "Requirement already satisfied: cffi>=1.1 in c:\\users\\user\\.conda\\envs\\tensorflowgpuenv\\lib\\site-packages (from bcrypt>=3.1.3->paramiko>=2.4->autogluon.core==0.3.1->autogluon) (1.14.5)\n",
      "Requirement already satisfied: locket in c:\\users\\user\\.conda\\envs\\tensorflowgpuenv\\lib\\site-packages\\locket-0.2.1-py3.8.egg (from partd>=0.3.10->dask>=2.6.0->autogluon.core==0.3.1->autogluon) (0.2.1)\n",
      "Requirement already satisfied: jinja2 in c:\\users\\user\\.conda\\envs\\tensorflowgpuenv\\lib\\site-packages (from spacy<4->fastai<3.0,>=2.3.1->autogluon.tabular[all]==0.3.1->autogluon) (2.11.3)\n",
      "Collecting langcodes<4.0.0,>=3.2.0\n",
      "  Using cached langcodes-3.3.0-py3-none-any.whl (181 kB)\n",
      "Collecting murmurhash<1.1.0,>=0.28.0\n",
      "  Using cached murmurhash-1.0.6-cp38-cp38-win_amd64.whl (21 kB)\n",
      "Collecting typer<0.5.0,>=0.3.0\n",
      "  Using cached typer-0.4.0-py3-none-any.whl (27 kB)\n",
      "Collecting spacy-loggers<2.0.0,>=1.0.0\n",
      "  Using cached spacy_loggers-1.0.1-py3-none-any.whl (7.0 kB)\n",
      "Collecting spacy-legacy<3.1.0,>=3.0.8\n",
      "  Using cached spacy_legacy-3.0.8-py2.py3-none-any.whl (14 kB)\n",
      "Collecting blis<0.8.0,>=0.4.0\n",
      "  Using cached blis-0.7.5-cp38-cp38-win_amd64.whl (6.6 MB)\n",
      "Collecting thinc<8.1.0,>=8.0.12\n",
      "  Using cached thinc-8.0.13-cp38-cp38-win_amd64.whl (1.0 MB)\n",
      "Collecting wasabi<1.1.0,>=0.8.1\n",
      "  Using cached wasabi-0.8.2-py3-none-any.whl (23 kB)\n",
      "Collecting pydantic!=1.8,!=1.8.1,<1.9.0,>=1.7.4\n",
      "  Using cached pydantic-1.8.2-cp38-cp38-win_amd64.whl (2.0 MB)\n",
      "Collecting srsly<3.0.0,>=2.4.1\n",
      "  Using cached srsly-2.4.2-cp38-cp38-win_amd64.whl (452 kB)\n",
      "Collecting preshed<3.1.0,>=3.0.2\n",
      "  Using cached preshed-3.0.6-cp38-cp38-win_amd64.whl (113 kB)\n",
      "Collecting catalogue<2.1.0,>=2.0.6\n",
      "  Using cached catalogue-2.0.6-py3-none-any.whl (17 kB)\n",
      "Collecting pathy>=0.3.5\n",
      "  Using cached pathy-0.6.1-py3-none-any.whl (42 kB)\n",
      "Collecting cymem<2.1.0,>=2.0.2\n",
      "  Using cached cymem-2.0.6-cp38-cp38-win_amd64.whl (36 kB)\n",
      "Requirement already satisfied: heapdict in c:\\users\\user\\.conda\\envs\\tensorflowgpuenv\\lib\\site-packages (from zict>=0.1.3->distributed>=2.6.0->autogluon.core==0.3.1->autogluon) (1.0.1)\n",
      "Collecting immutables>=0.9\n",
      "  Using cached immutables-0.16-cp38-cp38-win_amd64.whl (59 kB)\n",
      "Requirement already satisfied: mccabe<0.7.0,>=0.6.0 in c:\\users\\user\\.conda\\envs\\tensorflowgpuenv\\lib\\site-packages (from flake8->autogluon-contrib-nlp==0.0.1b20210201->autogluon.text==0.3.1->autogluon) (0.6.1)\n",
      "Collecting pycodestyle<2.8.0,>=2.7.0\n",
      "  Using cached pycodestyle-2.7.0-py2.py3-none-any.whl (41 kB)\n",
      "Collecting pyflakes<2.4.0,>=2.3.0\n",
      "  Using cached pyflakes-2.3.1-py2.py3-none-any.whl (68 kB)\n",
      "Collecting python-slugify\n",
      "  Using cached python_slugify-5.0.2-py2.py3-none-any.whl (6.7 kB)\n",
      "Collecting tenacity>=6.2.0\n",
      "  Using cached tenacity-8.0.1-py3-none-any.whl (24 kB)\n",
      "Requirement already satisfied: pywin32>=226 in c:\\users\\user\\.conda\\envs\\tensorflowgpuenv\\lib\\site-packages (from portalocker->gluoncv<0.10.5,>=0.10.4->autogluon.extra==0.3.1->autogluon) (227)\n",
      "Collecting tabulate>=0.8.9\n",
      "  Using cached tabulate-0.8.9-py3-none-any.whl (25 kB)\n",
      "Requirement already satisfied: pycparser in c:\\users\\user\\.conda\\envs\\tensorflowgpuenv\\lib\\site-packages (from cffi>=1.1->bcrypt>=3.1.3->paramiko>=2.4->autogluon.core==0.3.1->autogluon) (2.20)\n",
      "Collecting smart-open<6.0.0,>=5.0.0\n",
      "  Using cached smart_open-5.2.1-py3-none-any.whl (58 kB)\n",
      "Requirement already satisfied: MarkupSafe>=0.23 in c:\\users\\user\\.conda\\envs\\tensorflowgpuenv\\lib\\site-packages (from jinja2->spacy<4->fastai<3.0,>=2.3.1->autogluon.tabular[all]==0.3.1->autogluon) (1.1.1)\n",
      "Collecting text-unidecode>=1.3\n",
      "  Using cached text_unidecode-1.3-py2.py3-none-any.whl (78 kB)\n",
      "Building wheels for collected packages: ConfigSpace\n",
      "  Building wheel for ConfigSpace (pyproject.toml): started\n",
      "  Building wheel for ConfigSpace (pyproject.toml): finished with status 'error'\n",
      "Failed to build ConfigSpace\n"
     ]
    }
   ],
   "source": [
    "!pip install -U pip\n",
    "!pip install autogluon"
   ]
  },
  {
   "cell_type": "code",
   "execution_count": 137,
   "metadata": {
    "id": "_hFRlYAf_U-9"
   },
   "outputs": [],
   "source": [
    "import pandas as pd\n",
    "train = pd.read_csv(\"../data/train.csv\")\n",
    "test = pd.read_csv(\"../data/test.csv\")\n",
    "y = 'LEVEL'"
   ]
  },
  {
   "cell_type": "code",
   "execution_count": 138,
   "metadata": {
    "id": "zznYr5exlHwX"
   },
   "outputs": [
    {
     "ename": "ModuleNotFoundError",
     "evalue": "No module named 'autogluon'",
     "output_type": "error",
     "traceback": [
      "\u001b[1;31m---------------------------------------------------------------------------\u001b[0m",
      "\u001b[1;31mModuleNotFoundError\u001b[0m                       Traceback (most recent call last)",
      "\u001b[1;32m<ipython-input-138-3ec414456b8e>\u001b[0m in \u001b[0;36m<module>\u001b[1;34m\u001b[0m\n\u001b[1;32m----> 1\u001b[1;33m \u001b[1;32mfrom\u001b[0m \u001b[0mautogluon\u001b[0m\u001b[1;33m.\u001b[0m\u001b[0mtabular\u001b[0m \u001b[1;32mimport\u001b[0m \u001b[0mTabularPredictor\u001b[0m\u001b[1;33m\u001b[0m\u001b[1;33m\u001b[0m\u001b[0m\n\u001b[0m",
      "\u001b[1;31mModuleNotFoundError\u001b[0m: No module named 'autogluon'"
     ]
    }
   ],
   "source": [
    "from autogluon.tabular import TabularPredictor"
   ]
  },
  {
   "cell_type": "code",
   "execution_count": null,
   "metadata": {
    "id": "EGRrcVX_kfJj"
   },
   "outputs": [],
   "source": [
    "from autogluon.core.metrics import make_scorer\n",
    "from sklearn.metrics import cohen_kappa_score\n",
    "\n",
    "def kappa_quadratic(y_true, y_pred):\n",
    "  return cohen_kappa_score(y_true, y_pred, weights='quadratic')\n",
    "\n",
    "metric = make_scorer('kappa', kappa_quadratic, greater_is_better=True)"
   ]
  },
  {
   "cell_type": "code",
   "execution_count": null,
   "metadata": {
    "id": "E2x_iEMqmT4b"
   },
   "outputs": [],
   "source": [
    "save_path = '/content/drive/MyDrive/ITRI/marine/models'\n",
    "predictor = TabularPredictor(label=y, path=save_path, eval_metric=metric).fit(train)"
   ]
  },
  {
   "cell_type": "code",
   "execution_count": null,
   "metadata": {
    "id": "UZFs9DcqhuiG"
   },
   "outputs": [],
   "source": [
    "results = predictor.fit_summary()"
   ]
  },
  {
   "cell_type": "code",
   "execution_count": null,
   "metadata": {
    "id": "Ka9dUHOtmeI5"
   },
   "outputs": [],
   "source": [
    "y_pred = predictor.predict(test)\n",
    "pred_id = test['Station'] + '_' + test['Season'].astype(str)\n",
    "pred_df = pd.DataFrame({'ID': pred_id, 'LEVEL': y_pred})\n",
    "display(pred_df.head())\n",
    "pred_df.to_csv('/content/drive/MyDrive/ITRI/marine/outputs/autogluon.csv', index=False)"
   ]
  },
  {
   "cell_type": "markdown",
   "metadata": {
    "id": "rOdVkgBwh3rN"
   },
   "source": [
    "# Reference\n",
    "\n",
    "*   https://www.kaggle.com/learn/intro-to-machine-learning\n",
    "*   https://auto.gluon.ai/stable/index.html\n",
    "*   https://scikit-learn.org/stable/index.html\n",
    "*   https://pandas.pydata.org/pandas-docs/stable/index.html\n",
    "*   https://numpy.org/\n",
    "*   https://scipy.org/\n",
    "*   https://medium.com/the-owl/k-fold-cross-validation-in-keras-3ec4a3a00538\n",
    "*   https://towardsdatascience.com/difference-between-apply-and-transform-in-pandas-242e5cf32705\n",
    "*   https://vinta.ws/code/feature-engineering.html\n",
    "*   https://www.datacamp.com/community/tutorials/pickle-python-tutorial\n",
    "\n",
    "\n",
    "\n",
    "\n",
    "\n",
    "\n",
    "\n",
    "\n",
    "\n",
    "\n",
    "\n",
    "\n",
    "\n",
    "\n",
    "\n"
   ]
  }
 ],
 "metadata": {
  "colab": {
   "collapsed_sections": [],
   "name": "海廢預測.ipynb",
   "provenance": [],
   "toc_visible": true
  },
  "kernelspec": {
   "display_name": "Python 3",
   "language": "python",
   "name": "python3"
  },
  "language_info": {
   "codemirror_mode": {
    "name": "ipython",
    "version": 3
   },
   "file_extension": ".py",
   "mimetype": "text/x-python",
   "name": "python",
   "nbconvert_exporter": "python",
   "pygments_lexer": "ipython3",
   "version": "3.8.8"
  }
 },
 "nbformat": 4,
 "nbformat_minor": 4
}
